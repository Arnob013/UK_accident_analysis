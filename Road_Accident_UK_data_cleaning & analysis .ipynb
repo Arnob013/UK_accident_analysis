{
 "cells": [
  {
   "cell_type": "markdown",
   "id": "f6aae94f",
   "metadata": {
    "cell_id": "00000-55900d56-fb1a-448b-a8de-05b10f60d1f6",
    "deepnote_app_coordinates": {
     "h": 5,
     "w": 12,
     "x": 0,
     "y": null
    },
    "deepnote_cell_type": "markdown",
    "run_control": {
     "marked": true
    }
   },
   "source": [
    "# UK Road Traffic Accidents \n",
    "\n",
    "<img src=\"https://www.vhv.rs/dpng/d/480-4809323_traffic-clipart-dangerous-driving-animated-car-accident-png.png\">\n",
    "\n",
    "The goal of this project is to analyse accidents and traffic data in the United Kingdom.The data are available for download on [link to data](https://data.world/datagov-uk/6efe5505-941f-45bf-b576-4c1e09b579a1) and contain UK government records of accidents from 2009 to 2018.Using python and its modules pandas, numpy, glob, folium and seaborn we will visualise different aspects of the data and try to get some insight into trends and evolution of accidents and traffic in the UK.\n",
    "\n",
    ".The datasets contains 15 features,\n",
    "- Reference Number\n",
    "- Easting\n",
    "- Northing \n",
    "- Number of Vehicles\n",
    "- Accident Date\n",
    "- Time (24hr)\n",
    "- 1st Road Class\n",
    "- Road Surface\n",
    "- Lighting Conditions\n",
    "- Weather Conditions\n",
    "- Casualty Class\n",
    "- Casualty Class.1\n",
    "- Casualty Severity\n",
    "- Sex of Casualty\n",
    "- Age of Casualty\n",
    "- Type of Vehicle\n",
    "\n",
    "Among these features there are two geospatial specific features namely eastings and northings of accidents.Given the easting and northing of a location, we can calculate the latitude and longitude of the location and vice versa.\n",
    "\n",
    "All of the above features are making very interesting and comprehensive  for analysis and research.\n",
    "\n",
    "\n"
   ]
  },
  {
   "cell_type": "markdown",
   "id": "3ed69943",
   "metadata": {
    "cell_id": "00001-a5c90ecf-c9f6-495c-b02f-f30ec0075299",
    "deepnote_app_coordinates": {
     "h": 5,
     "w": 12,
     "x": 0,
     "y": 6
    },
    "deepnote_cell_type": "markdown"
   },
   "source": [
    "## Importing  and Merging\n",
    "\n"
   ]
  },
  {
   "cell_type": "markdown",
   "id": "5e0db38a",
   "metadata": {
    "cell_id": "00002-deb80d42-5e96-40b5-a7b3-b5590138a6d0",
    "deepnote_app_coordinates": {
     "h": 2,
     "w": 12,
     "x": 0,
     "y": 762
    },
    "deepnote_cell_type": "text-cell-h3",
    "is_collapsed": false,
    "tags": []
   },
   "source": [
    "### Importing the necessary libraries"
   ]
  },
  {
   "cell_type": "code",
   "execution_count": null,
   "id": "176c3d81",
   "metadata": {
    "cell_id": "00003-4f04dad4-49a8-488f-86f9-6ac3df66093c",
    "deepnote_app_coordinates": {
     "h": 5,
     "w": 12,
     "x": 0,
     "y": 1095
    },
    "deepnote_cell_type": "code",
    "deepnote_to_be_reexecuted": false,
    "execution_millis": 6659,
    "execution_start": 1636356287375,
    "source_hash": "18fd1d02",
    "tags": []
   },
   "outputs": [
    {
     "name": "stdout",
     "output_type": "stream",
     "text": [
      "Collecting convertbng==0.6.32\n",
      "  Downloading convertbng-0.6.32-cp37-cp37m-manylinux_2_5_x86_64.manylinux1_x86_64.manylinux_2_12_x86_64.manylinux2010_x86_64.whl (14.1 MB)\n",
      "\u001b[K     |████████████████████████████████| 14.1 MB 34.5 MB/s \n",
      "\u001b[?25hRequirement already satisfied: numpy>=1.11.0 in /shared-libs/python3.7/py/lib/python3.7/site-packages (from convertbng==0.6.32) (1.19.5)\n",
      "Installing collected packages: convertbng\n",
      "Successfully installed convertbng-0.6.32\n",
      "\u001b[33mWARNING: You are using pip version 21.2.4; however, version 21.3.1 is available.\n",
      "You should consider upgrading via the '/root/venv/bin/python -m pip install --upgrade pip' command.\u001b[0m\n"
     ]
    }
   ],
   "source": [
    "!pip install convertbng==0.6.32"
   ]
  },
  {
   "cell_type": "code",
   "execution_count": 2,
   "id": "7a69af4e",
   "metadata": {
    "ExecuteTime": {
     "end_time": "2021-11-08T09:25:14.835579Z",
     "start_time": "2021-11-08T09:25:14.097627Z"
    },
    "cell_id": "00002-8e1c2a7f-d22d-4811-8583-f9cd5dba45c3",
    "deepnote_app_coordinates": {
     "h": 5,
     "w": 12,
     "x": 0,
     "y": 12
    },
    "deepnote_cell_type": "code",
    "deepnote_to_be_reexecuted": false,
    "execution_millis": 1315,
    "execution_start": 1636360781662,
    "source_hash": "465c56ea"
   },
   "outputs": [],
   "source": [
    "import glob\n",
    "import os\n",
    "import pandas as pd\n",
    "import matplotlib.pyplot as plt\n",
    "import numpy as np\n",
    "import calendar\n",
    "import folium\n",
    "from convertbng.util import convert_lonlat\n",
    "#from pandas_profiling import ProfileReport\n",
    "import matplotlib.pyplot as plt\n",
    "%matplotlib inline\n",
    "\n",
    "\n"
   ]
  },
  {
   "cell_type": "markdown",
   "id": "7cba4676",
   "metadata": {
    "ExecuteTime": {
     "end_time": "2021-11-03T18:05:50.506634Z",
     "start_time": "2021-11-03T18:05:50.504127Z"
    },
    "cell_id": "00003-5759997d-d4cb-4123-944b-1994ee25ec09",
    "deepnote_app_coordinates": {
     "h": 5,
     "w": 12,
     "x": 0,
     "y": 18
    },
    "deepnote_cell_type": "markdown"
   },
   "source": [
    "### Reading data files and Data Cleaning\n",
    "- As shown below, there are discrepencies with the column names\n",
    "- We are editing the individual csv files before merging them\n"
   ]
  },
  {
   "cell_type": "markdown",
   "id": "a541fb73",
   "metadata": {
    "cell_id": "00005-e617c3e8-8921-47e4-8416-cb2fcd72987e",
    "deepnote_app_coordinates": {
     "h": 5,
     "w": 12,
     "x": 0,
     "y": 765
    },
    "deepnote_cell_type": "markdown",
    "tags": []
   },
   "source": [
    "#### Data for 2009\n",
    "- We are taking this file as the base file to edit the next years of data.\n",
    "- By base file, it is meant that, the column names and data types will be identical to this file. "
   ]
  },
  {
   "cell_type": "code",
   "execution_count": 4,
   "id": "be15650c",
   "metadata": {
    "ExecuteTime": {
     "end_time": "2021-11-08T09:25:24.591645Z",
     "start_time": "2021-11-08T09:25:24.571734Z"
    },
    "cell_id": "00004-b1c2809e-1fb6-4fb4-8887-b14336518384",
    "deepnote_app_coordinates": {
     "h": 5,
     "w": 12,
     "x": 0,
     "y": 24
    },
    "deepnote_cell_type": "code",
    "deepnote_to_be_reexecuted": false,
    "execution_millis": 22,
    "execution_start": 1636360580091,
    "source_hash": "992a13b"
   },
   "outputs": [],
   "source": [
    "data_2009 = pd.read_csv(\"../Road Accident Project/Data/2009.csv\",encoding='cp1252')"
   ]
  },
  {
   "cell_type": "code",
   "execution_count": 5,
   "id": "c5970b23",
   "metadata": {
    "ExecuteTime": {
     "end_time": "2021-11-08T09:25:35.084769Z",
     "start_time": "2021-11-08T09:25:35.065641Z"
    },
    "cell_id": "00005-ddcb6494-c445-4282-ae27-b3462e96efc7",
    "deepnote_app_coordinates": {
     "h": 5,
     "w": 12,
     "x": 0,
     "y": 30
    },
    "deepnote_cell_type": "code",
    "deepnote_to_be_reexecuted": false,
    "execution_millis": 32,
    "execution_start": 1636360352799,
    "scrolled": true,
    "source_hash": "2db6e7cc"
   },
   "outputs": [
    {
     "data": {
      "text/html": [
       "<div>\n",
       "<style scoped>\n",
       "    .dataframe tbody tr th:only-of-type {\n",
       "        vertical-align: middle;\n",
       "    }\n",
       "\n",
       "    .dataframe tbody tr th {\n",
       "        vertical-align: top;\n",
       "    }\n",
       "\n",
       "    .dataframe thead th {\n",
       "        text-align: right;\n",
       "    }\n",
       "</style>\n",
       "<table border=\"1\" class=\"dataframe\">\n",
       "  <thead>\n",
       "    <tr style=\"text-align: right;\">\n",
       "      <th></th>\n",
       "      <th>Reference Number</th>\n",
       "      <th>Easting</th>\n",
       "      <th>Northing</th>\n",
       "      <th>Number of Vehicles</th>\n",
       "      <th>Accident Date</th>\n",
       "      <th>Time (24hr)</th>\n",
       "      <th>1st Road Class</th>\n",
       "      <th>Road Surface</th>\n",
       "      <th>Lighting Conditions</th>\n",
       "      <th>Weather Conditions</th>\n",
       "      <th>Casualty Class</th>\n",
       "      <th>Casualty Severity</th>\n",
       "      <th>Sex of Casualty</th>\n",
       "      <th>Age of Casualty</th>\n",
       "      <th>Type of Vehicle</th>\n",
       "    </tr>\n",
       "  </thead>\n",
       "  <tbody>\n",
       "    <tr>\n",
       "      <th>0</th>\n",
       "      <td>3309</td>\n",
       "      <td>429093</td>\n",
       "      <td>436258</td>\n",
       "      <td>1</td>\n",
       "      <td>01-Jan-09</td>\n",
       "      <td>55</td>\n",
       "      <td>Unclassified</td>\n",
       "      <td>Dry</td>\n",
       "      <td>Darkness: street lights present and lit</td>\n",
       "      <td>Fine without high winds</td>\n",
       "      <td>Pedestrian</td>\n",
       "      <td>Slight</td>\n",
       "      <td>Male</td>\n",
       "      <td>44</td>\n",
       "      <td>Car</td>\n",
       "    </tr>\n",
       "    <tr>\n",
       "      <th>1</th>\n",
       "      <td>2609</td>\n",
       "      <td>434723</td>\n",
       "      <td>435534</td>\n",
       "      <td>1</td>\n",
       "      <td>02-Jan-09</td>\n",
       "      <td>2335</td>\n",
       "      <td>Unclassified</td>\n",
       "      <td>Dry</td>\n",
       "      <td>Darkness: street lights present and lit</td>\n",
       "      <td>Fine without high winds</td>\n",
       "      <td>Driver</td>\n",
       "      <td>Serious</td>\n",
       "      <td>Female</td>\n",
       "      <td>23</td>\n",
       "      <td>Car</td>\n",
       "    </tr>\n",
       "    <tr>\n",
       "      <th>2</th>\n",
       "      <td>2809</td>\n",
       "      <td>441173</td>\n",
       "      <td>433047</td>\n",
       "      <td>1</td>\n",
       "      <td>02-Jan-09</td>\n",
       "      <td>1645</td>\n",
       "      <td>Unclassified</td>\n",
       "      <td>Dry</td>\n",
       "      <td>Darkness: street lights present and lit</td>\n",
       "      <td>Fine without high winds</td>\n",
       "      <td>Pedestrian</td>\n",
       "      <td>Slight</td>\n",
       "      <td>Female</td>\n",
       "      <td>12</td>\n",
       "      <td>Car</td>\n",
       "    </tr>\n",
       "    <tr>\n",
       "      <th>3</th>\n",
       "      <td>3809</td>\n",
       "      <td>428487</td>\n",
       "      <td>431364</td>\n",
       "      <td>1</td>\n",
       "      <td>02-Jan-09</td>\n",
       "      <td>1723</td>\n",
       "      <td>A</td>\n",
       "      <td>Dry</td>\n",
       "      <td>Darkness: street lights present and lit</td>\n",
       "      <td>Fine without high winds</td>\n",
       "      <td>Pedestrian</td>\n",
       "      <td>Slight</td>\n",
       "      <td>Male</td>\n",
       "      <td>15</td>\n",
       "      <td>Car</td>\n",
       "    </tr>\n",
       "    <tr>\n",
       "      <th>4</th>\n",
       "      <td>3909</td>\n",
       "      <td>425928</td>\n",
       "      <td>435480</td>\n",
       "      <td>2</td>\n",
       "      <td>02-Jan-09</td>\n",
       "      <td>1350</td>\n",
       "      <td>Unclassified</td>\n",
       "      <td>Dry</td>\n",
       "      <td>Daylight: street lights present</td>\n",
       "      <td>Fine without high winds</td>\n",
       "      <td>Driver</td>\n",
       "      <td>Slight</td>\n",
       "      <td>Female</td>\n",
       "      <td>34</td>\n",
       "      <td>Car</td>\n",
       "    </tr>\n",
       "  </tbody>\n",
       "</table>\n",
       "</div>"
      ],
      "text/plain": [
       "   Reference Number  Easting  Northing  Number of Vehicles Accident Date  \\\n",
       "0              3309   429093    436258                   1     01-Jan-09   \n",
       "1              2609   434723    435534                   1     02-Jan-09   \n",
       "2              2809   441173    433047                   1     02-Jan-09   \n",
       "3              3809   428487    431364                   1     02-Jan-09   \n",
       "4              3909   425928    435480                   2     02-Jan-09   \n",
       "\n",
       "   Time (24hr) 1st Road Class Road Surface  \\\n",
       "0           55   Unclassified          Dry   \n",
       "1         2335   Unclassified          Dry   \n",
       "2         1645   Unclassified          Dry   \n",
       "3         1723              A          Dry   \n",
       "4         1350   Unclassified          Dry   \n",
       "\n",
       "                       Lighting Conditions       Weather Conditions  \\\n",
       "0  Darkness: street lights present and lit  Fine without high winds   \n",
       "1  Darkness: street lights present and lit  Fine without high winds   \n",
       "2  Darkness: street lights present and lit  Fine without high winds   \n",
       "3  Darkness: street lights present and lit  Fine without high winds   \n",
       "4          Daylight: street lights present  Fine without high winds   \n",
       "\n",
       "  Casualty Class Casualty Severity Sex of Casualty  Age of Casualty  \\\n",
       "0     Pedestrian            Slight            Male               44   \n",
       "1         Driver           Serious          Female               23   \n",
       "2     Pedestrian            Slight          Female               12   \n",
       "3     Pedestrian            Slight            Male               15   \n",
       "4         Driver            Slight          Female               34   \n",
       "\n",
       "  Type of Vehicle  \n",
       "0             Car  \n",
       "1             Car  \n",
       "2             Car  \n",
       "3             Car  \n",
       "4             Car  "
      ]
     },
     "execution_count": 5,
     "metadata": {},
     "output_type": "execute_result"
    }
   ],
   "source": [
    "data_2009.head()"
   ]
  },
  {
   "cell_type": "code",
   "execution_count": null,
   "id": "87f8a7e4",
   "metadata": {
    "ExecuteTime": {
     "end_time": "2021-11-05T07:50:29.889990Z",
     "start_time": "2021-11-05T07:50:29.885100Z"
    },
    "cell_id": "00006-b7e2ef3c-c336-40b5-963e-1871a4b9a5a9",
    "deepnote_app_coordinates": {
     "h": 5,
     "w": 12,
     "x": 0,
     "y": 36
    },
    "deepnote_cell_type": "code",
    "deepnote_to_be_reexecuted": false,
    "execution_millis": 6,
    "execution_start": 1636360206854,
    "source_hash": "25c1c192"
   },
   "outputs": [
    {
     "data": {
      "text/plain": [
       "(3057, 15)"
      ]
     },
     "execution_count": 4,
     "metadata": {},
     "output_type": "execute_result"
    }
   ],
   "source": [
    "data_2009.shape"
   ]
  },
  {
   "cell_type": "markdown",
   "id": "635e84c4",
   "metadata": {
    "cell_id": "00009-330b0077-5e87-4d5d-8565-b5bd0b10d4fb",
    "deepnote_app_coordinates": {
     "h": 5,
     "w": 12,
     "x": 0,
     "y": 771
    },
    "deepnote_cell_type": "markdown",
    "tags": []
   },
   "source": [
    "#### Data for 2010\n",
    "- No changes made, identical with base file (2009)"
   ]
  },
  {
   "cell_type": "code",
   "execution_count": 7,
   "id": "980a8ff2",
   "metadata": {
    "ExecuteTime": {
     "end_time": "2021-11-08T09:25:52.625135Z",
     "start_time": "2021-11-08T09:25:52.609454Z"
    },
    "cell_id": "00007-979cc3cc-6b5a-4607-b43c-f16dd11f3b70",
    "deepnote_app_coordinates": {
     "h": 5,
     "w": 12,
     "x": 0,
     "y": 42
    },
    "deepnote_cell_type": "code",
    "deepnote_to_be_reexecuted": false,
    "execution_millis": 20,
    "execution_start": 1636360587690,
    "source_hash": "e333d34"
   },
   "outputs": [],
   "source": [
    "data_2010 = pd.read_csv(\"../Road Accident Project/Data/2010.csv\",encoding='cp1252')"
   ]
  },
  {
   "cell_type": "code",
   "execution_count": 6,
   "id": "22158312",
   "metadata": {
    "ExecuteTime": {
     "end_time": "2021-11-08T09:04:23.985755Z",
     "start_time": "2021-11-08T09:04:23.956427Z"
    },
    "cell_id": "00008-48b43f03-d4d5-43fb-9e4c-fc61cfd979d0",
    "deepnote_app_coordinates": {
     "h": 5,
     "w": 12,
     "x": 0,
     "y": 48
    },
    "deepnote_cell_type": "code",
    "deepnote_to_be_reexecuted": false,
    "execution_millis": 31,
    "execution_start": 1636360589927,
    "source_hash": "911c48b1"
   },
   "outputs": [
    {
     "data": {
      "text/html": [
       "<div>\n",
       "<style scoped>\n",
       "    .dataframe tbody tr th:only-of-type {\n",
       "        vertical-align: middle;\n",
       "    }\n",
       "\n",
       "    .dataframe tbody tr th {\n",
       "        vertical-align: top;\n",
       "    }\n",
       "\n",
       "    .dataframe thead th {\n",
       "        text-align: right;\n",
       "    }\n",
       "</style>\n",
       "<table border=\"1\" class=\"dataframe\">\n",
       "  <thead>\n",
       "    <tr style=\"text-align: right;\">\n",
       "      <th></th>\n",
       "      <th>Reference Number</th>\n",
       "      <th>Easting</th>\n",
       "      <th>Northing</th>\n",
       "      <th>Number of Vehicles</th>\n",
       "      <th>Accident Date</th>\n",
       "      <th>Time (24hr)</th>\n",
       "      <th>1st Road Class</th>\n",
       "      <th>Road Surface</th>\n",
       "      <th>Lighting Conditions</th>\n",
       "      <th>Weather Conditions</th>\n",
       "      <th>Casualty Class</th>\n",
       "      <th>Casualty Severity</th>\n",
       "      <th>Sex of Casualty</th>\n",
       "      <th>Age of Casualty</th>\n",
       "      <th>Type of Vehicle</th>\n",
       "    </tr>\n",
       "  </thead>\n",
       "  <tbody>\n",
       "    <tr>\n",
       "      <th>0</th>\n",
       "      <td>10BA0000011</td>\n",
       "      <td>430408</td>\n",
       "      <td>437054</td>\n",
       "      <td>2</td>\n",
       "      <td>01-Jan-10</td>\n",
       "      <td>1650</td>\n",
       "      <td>Unclassified</td>\n",
       "      <td>Wet / Damp</td>\n",
       "      <td>Darkness: street lights present and lit</td>\n",
       "      <td>Snowing without high winds</td>\n",
       "      <td>Driver</td>\n",
       "      <td>Slight</td>\n",
       "      <td>Female</td>\n",
       "      <td>62</td>\n",
       "      <td>Car</td>\n",
       "    </tr>\n",
       "    <tr>\n",
       "      <th>1</th>\n",
       "      <td>10BA0000014</td>\n",
       "      <td>435011</td>\n",
       "      <td>436276</td>\n",
       "      <td>2</td>\n",
       "      <td>01-Jan-10</td>\n",
       "      <td>205</td>\n",
       "      <td>Unclassified</td>\n",
       "      <td>Wet / Damp</td>\n",
       "      <td>Darkness: street lights present and lit</td>\n",
       "      <td>Fine without high winds</td>\n",
       "      <td>Passenger</td>\n",
       "      <td>Slight</td>\n",
       "      <td>Male</td>\n",
       "      <td>36</td>\n",
       "      <td>Goods vehicle 3.5 tonnes mgw and under</td>\n",
       "    </tr>\n",
       "    <tr>\n",
       "      <th>2</th>\n",
       "      <td>10BA0000037</td>\n",
       "      <td>430429</td>\n",
       "      <td>437764</td>\n",
       "      <td>1</td>\n",
       "      <td>01-Jan-10</td>\n",
       "      <td>124</td>\n",
       "      <td>Unclassified</td>\n",
       "      <td>Frost/ Ice</td>\n",
       "      <td>Darkness: street lights present and lit</td>\n",
       "      <td>Fine without high winds</td>\n",
       "      <td>Pedestrian</td>\n",
       "      <td>Slight</td>\n",
       "      <td>Female</td>\n",
       "      <td>34</td>\n",
       "      <td>Goods vehicle 3.5 tonnes mgw and under</td>\n",
       "    </tr>\n",
       "    <tr>\n",
       "      <th>3</th>\n",
       "      <td>10BA0000064</td>\n",
       "      <td>429002</td>\n",
       "      <td>436842</td>\n",
       "      <td>2</td>\n",
       "      <td>01-Jan-10</td>\n",
       "      <td>550</td>\n",
       "      <td>Unclassified</td>\n",
       "      <td>Wet / Damp</td>\n",
       "      <td>Darkness: street lights present and lit</td>\n",
       "      <td>Fine without high winds</td>\n",
       "      <td>Driver</td>\n",
       "      <td>Slight</td>\n",
       "      <td>Male</td>\n",
       "      <td>27</td>\n",
       "      <td>Car</td>\n",
       "    </tr>\n",
       "    <tr>\n",
       "      <th>4</th>\n",
       "      <td>10CA0000023</td>\n",
       "      <td>429399</td>\n",
       "      <td>433811</td>\n",
       "      <td>2</td>\n",
       "      <td>01-Jan-10</td>\n",
       "      <td>1825</td>\n",
       "      <td>A(M)</td>\n",
       "      <td>Wet / Damp</td>\n",
       "      <td>Darkness: street lights present and lit</td>\n",
       "      <td>Fine without high winds</td>\n",
       "      <td>Driver</td>\n",
       "      <td>Slight</td>\n",
       "      <td>Male</td>\n",
       "      <td>18</td>\n",
       "      <td>Car</td>\n",
       "    </tr>\n",
       "  </tbody>\n",
       "</table>\n",
       "</div>"
      ],
      "text/plain": [
       "  Reference Number  Easting  Northing  Number of Vehicles Accident Date  \\\n",
       "0      10BA0000011   430408    437054                   2     01-Jan-10   \n",
       "1      10BA0000014   435011    436276                   2     01-Jan-10   \n",
       "2      10BA0000037   430429    437764                   1     01-Jan-10   \n",
       "3      10BA0000064   429002    436842                   2     01-Jan-10   \n",
       "4      10CA0000023   429399    433811                   2     01-Jan-10   \n",
       "\n",
       "   Time (24hr) 1st Road Class Road Surface  \\\n",
       "0         1650   Unclassified   Wet / Damp   \n",
       "1          205   Unclassified   Wet / Damp   \n",
       "2          124   Unclassified   Frost/ Ice   \n",
       "3          550   Unclassified   Wet / Damp   \n",
       "4         1825           A(M)   Wet / Damp   \n",
       "\n",
       "                       Lighting Conditions          Weather Conditions  \\\n",
       "0  Darkness: street lights present and lit  Snowing without high winds   \n",
       "1  Darkness: street lights present and lit     Fine without high winds   \n",
       "2  Darkness: street lights present and lit     Fine without high winds   \n",
       "3  Darkness: street lights present and lit     Fine without high winds   \n",
       "4  Darkness: street lights present and lit     Fine without high winds   \n",
       "\n",
       "  Casualty Class Casualty Severity Sex of Casualty  Age of Casualty  \\\n",
       "0         Driver            Slight          Female               62   \n",
       "1      Passenger            Slight            Male               36   \n",
       "2     Pedestrian            Slight          Female               34   \n",
       "3         Driver            Slight            Male               27   \n",
       "4         Driver            Slight            Male               18   \n",
       "\n",
       "                          Type of Vehicle  \n",
       "0                                     Car  \n",
       "1  Goods vehicle 3.5 tonnes mgw and under  \n",
       "2  Goods vehicle 3.5 tonnes mgw and under  \n",
       "3                                     Car  \n",
       "4                                     Car  "
      ]
     },
     "execution_count": 6,
     "metadata": {},
     "output_type": "execute_result"
    }
   ],
   "source": [
    "data_2010.head()"
   ]
  },
  {
   "cell_type": "code",
   "execution_count": 8,
   "id": "e9633bd9",
   "metadata": {
    "ExecuteTime": {
     "end_time": "2021-11-08T09:25:56.996341Z",
     "start_time": "2021-11-08T09:25:56.991131Z"
    },
    "cell_id": "00009-a6b1d22e-ee9a-4ab8-9ce2-7be3b76cc6f4",
    "deepnote_app_coordinates": {
     "h": 5,
     "w": 12,
     "x": 0,
     "y": 54
    },
    "deepnote_cell_type": "code",
    "deepnote_to_be_reexecuted": false,
    "execution_millis": 0,
    "execution_start": 1636360213234,
    "source_hash": "de391b7"
   },
   "outputs": [
    {
     "data": {
      "text/plain": [
       "(2765, 15)"
      ]
     },
     "execution_count": 8,
     "metadata": {},
     "output_type": "execute_result"
    }
   ],
   "source": [
    "data_2010.shape\n"
   ]
  },
  {
   "cell_type": "markdown",
   "id": "6cfe3f40",
   "metadata": {
    "cell_id": "00013-f926d0fb-5fe4-4518-943b-5640f2e19770",
    "deepnote_app_coordinates": {
     "h": 5,
     "w": 12,
     "x": 0,
     "y": 777
    },
    "deepnote_cell_type": "markdown",
    "tags": []
   },
   "source": [
    "#### Data for 2011\n",
    "- No changes made, identical with base file (2009)"
   ]
  },
  {
   "cell_type": "code",
   "execution_count": 9,
   "id": "f61fcec5",
   "metadata": {
    "ExecuteTime": {
     "end_time": "2021-11-08T09:26:11.140901Z",
     "start_time": "2021-11-08T09:26:11.127484Z"
    },
    "cell_id": "00010-62d4101c-62e3-4afe-81ec-cdbe8c4401e2",
    "deepnote_app_coordinates": {
     "h": 5,
     "w": 12,
     "x": 0,
     "y": 60
    },
    "deepnote_cell_type": "code",
    "deepnote_to_be_reexecuted": false,
    "execution_millis": 19,
    "execution_start": 1636360605239,
    "source_hash": "1ecc4523"
   },
   "outputs": [],
   "source": [
    "data_2011 = pd.read_csv(\"../Road Accident Project/Data/2011.csv\",encoding='cp1252')"
   ]
  },
  {
   "cell_type": "code",
   "execution_count": 10,
   "id": "3fd85ff3",
   "metadata": {
    "ExecuteTime": {
     "end_time": "2021-11-08T09:26:13.361026Z",
     "start_time": "2021-11-08T09:26:13.346141Z"
    },
    "cell_id": "00011-20a3a630-4156-4a4b-8c7c-4eb1db1d32ec",
    "deepnote_app_coordinates": {
     "h": 5,
     "w": 12,
     "x": 0,
     "y": 66
    },
    "deepnote_cell_type": "code",
    "deepnote_to_be_reexecuted": false,
    "execution_millis": 26,
    "execution_start": 1636360606844,
    "source_hash": "926ababe"
   },
   "outputs": [
    {
     "data": {
      "text/html": [
       "<div>\n",
       "<style scoped>\n",
       "    .dataframe tbody tr th:only-of-type {\n",
       "        vertical-align: middle;\n",
       "    }\n",
       "\n",
       "    .dataframe tbody tr th {\n",
       "        vertical-align: top;\n",
       "    }\n",
       "\n",
       "    .dataframe thead th {\n",
       "        text-align: right;\n",
       "    }\n",
       "</style>\n",
       "<table border=\"1\" class=\"dataframe\">\n",
       "  <thead>\n",
       "    <tr style=\"text-align: right;\">\n",
       "      <th></th>\n",
       "      <th>Reference Number</th>\n",
       "      <th>Easting</th>\n",
       "      <th>Northing</th>\n",
       "      <th>Number of Vehicles</th>\n",
       "      <th>Accident Date</th>\n",
       "      <th>Time (24hr)</th>\n",
       "      <th>1st Road Class</th>\n",
       "      <th>Road Surface</th>\n",
       "      <th>Lighting Conditions</th>\n",
       "      <th>Weather Conditions</th>\n",
       "      <th>Casualty Class</th>\n",
       "      <th>Casualty Severity</th>\n",
       "      <th>Sex of Casualty</th>\n",
       "      <th>Age of Casualty</th>\n",
       "      <th>Type of Vehicle</th>\n",
       "    </tr>\n",
       "  </thead>\n",
       "  <tbody>\n",
       "    <tr>\n",
       "      <th>0</th>\n",
       "      <td>110000115</td>\n",
       "      <td>423323</td>\n",
       "      <td>432051</td>\n",
       "      <td>1</td>\n",
       "      <td>01-Jan-11</td>\n",
       "      <td>200</td>\n",
       "      <td>Unclassified</td>\n",
       "      <td>Wet / Damp</td>\n",
       "      <td>Darkness: street lights present and lit</td>\n",
       "      <td>Fine without high winds</td>\n",
       "      <td>Passenger</td>\n",
       "      <td>Slight</td>\n",
       "      <td>Female</td>\n",
       "      <td>20</td>\n",
       "      <td>Car</td>\n",
       "    </tr>\n",
       "    <tr>\n",
       "      <th>1</th>\n",
       "      <td>110000165</td>\n",
       "      <td>436292</td>\n",
       "      <td>434793</td>\n",
       "      <td>2</td>\n",
       "      <td>01-Jan-11</td>\n",
       "      <td>315</td>\n",
       "      <td>Unclassified</td>\n",
       "      <td>Dry</td>\n",
       "      <td>Darkness: street lights present and lit</td>\n",
       "      <td>Fine without high winds</td>\n",
       "      <td>Passenger</td>\n",
       "      <td>Slight</td>\n",
       "      <td>Male</td>\n",
       "      <td>39</td>\n",
       "      <td>Taxi/Private hire car</td>\n",
       "    </tr>\n",
       "    <tr>\n",
       "      <th>2</th>\n",
       "      <td>110000165</td>\n",
       "      <td>436292</td>\n",
       "      <td>434793</td>\n",
       "      <td>2</td>\n",
       "      <td>01-Jan-11</td>\n",
       "      <td>315</td>\n",
       "      <td>Unclassified</td>\n",
       "      <td>Dry</td>\n",
       "      <td>Darkness: street lights present and lit</td>\n",
       "      <td>Fine without high winds</td>\n",
       "      <td>Passenger</td>\n",
       "      <td>Slight</td>\n",
       "      <td>Female</td>\n",
       "      <td>25</td>\n",
       "      <td>Taxi/Private hire car</td>\n",
       "    </tr>\n",
       "    <tr>\n",
       "      <th>3</th>\n",
       "      <td>110000399</td>\n",
       "      <td>426469</td>\n",
       "      <td>435290</td>\n",
       "      <td>4</td>\n",
       "      <td>01-Jan-11</td>\n",
       "      <td>710</td>\n",
       "      <td>A</td>\n",
       "      <td>Dry</td>\n",
       "      <td>Darkness: street lighting unknown</td>\n",
       "      <td>Fine without high winds</td>\n",
       "      <td>Driver</td>\n",
       "      <td>Slight</td>\n",
       "      <td>Male</td>\n",
       "      <td>38</td>\n",
       "      <td>Car</td>\n",
       "    </tr>\n",
       "    <tr>\n",
       "      <th>4</th>\n",
       "      <td>110000399</td>\n",
       "      <td>426469</td>\n",
       "      <td>435290</td>\n",
       "      <td>4</td>\n",
       "      <td>01-Jan-11</td>\n",
       "      <td>710</td>\n",
       "      <td>A</td>\n",
       "      <td>Dry</td>\n",
       "      <td>Darkness: street lighting unknown</td>\n",
       "      <td>Fine without high winds</td>\n",
       "      <td>Driver</td>\n",
       "      <td>Slight</td>\n",
       "      <td>Male</td>\n",
       "      <td>42</td>\n",
       "      <td>Car</td>\n",
       "    </tr>\n",
       "  </tbody>\n",
       "</table>\n",
       "</div>"
      ],
      "text/plain": [
       "   Reference Number  Easting  Northing  Number of Vehicles Accident Date  \\\n",
       "0         110000115   423323    432051                   1     01-Jan-11   \n",
       "1         110000165   436292    434793                   2     01-Jan-11   \n",
       "2         110000165   436292    434793                   2     01-Jan-11   \n",
       "3         110000399   426469    435290                   4     01-Jan-11   \n",
       "4         110000399   426469    435290                   4     01-Jan-11   \n",
       "\n",
       "   Time (24hr) 1st Road Class Road Surface  \\\n",
       "0          200   Unclassified   Wet / Damp   \n",
       "1          315   Unclassified          Dry   \n",
       "2          315   Unclassified          Dry   \n",
       "3          710              A          Dry   \n",
       "4          710              A          Dry   \n",
       "\n",
       "                       Lighting Conditions       Weather Conditions  \\\n",
       "0  Darkness: street lights present and lit  Fine without high winds   \n",
       "1  Darkness: street lights present and lit  Fine without high winds   \n",
       "2  Darkness: street lights present and lit  Fine without high winds   \n",
       "3        Darkness: street lighting unknown  Fine without high winds   \n",
       "4        Darkness: street lighting unknown  Fine without high winds   \n",
       "\n",
       "  Casualty Class Casualty Severity Sex of Casualty  Age of Casualty  \\\n",
       "0      Passenger            Slight          Female               20   \n",
       "1      Passenger            Slight            Male               39   \n",
       "2      Passenger            Slight          Female               25   \n",
       "3         Driver            Slight            Male               38   \n",
       "4         Driver            Slight            Male               42   \n",
       "\n",
       "         Type of Vehicle  \n",
       "0                    Car  \n",
       "1  Taxi/Private hire car  \n",
       "2  Taxi/Private hire car  \n",
       "3                    Car  \n",
       "4                    Car  "
      ]
     },
     "execution_count": 10,
     "metadata": {},
     "output_type": "execute_result"
    }
   ],
   "source": [
    "data_2011.head()"
   ]
  },
  {
   "cell_type": "code",
   "execution_count": 11,
   "id": "854d21ac",
   "metadata": {
    "ExecuteTime": {
     "end_time": "2021-11-08T09:26:15.597375Z",
     "start_time": "2021-11-08T09:26:15.592785Z"
    },
    "cell_id": "00012-63ebe7d7-fd22-4dd2-aeb7-cf4569b00e6d",
    "deepnote_app_coordinates": {
     "h": 5,
     "w": 12,
     "x": 0,
     "y": 72
    },
    "deepnote_cell_type": "code",
    "deepnote_to_be_reexecuted": false,
    "execution_millis": 7,
    "execution_start": 1636360612028,
    "source_hash": "6f5830e0"
   },
   "outputs": [
    {
     "data": {
      "text/plain": [
       "(2686, 15)"
      ]
     },
     "execution_count": 11,
     "metadata": {},
     "output_type": "execute_result"
    }
   ],
   "source": [
    "data_2011.shape"
   ]
  },
  {
   "cell_type": "markdown",
   "id": "92cd673d",
   "metadata": {
    "cell_id": "00017-d11a0c10-889d-42ca-aeb0-0c5abbb79bf1",
    "deepnote_app_coordinates": {
     "h": 5,
     "w": 12,
     "x": 0,
     "y": 783
    },
    "deepnote_cell_type": "markdown",
    "tags": []
   },
   "source": [
    "#### Data for 2012\n",
    "- No changes made, identical with base file (2009)"
   ]
  },
  {
   "cell_type": "code",
   "execution_count": 12,
   "id": "64025d4d",
   "metadata": {
    "ExecuteTime": {
     "end_time": "2021-11-08T09:26:29.138436Z",
     "start_time": "2021-11-08T09:26:29.123630Z"
    },
    "cell_id": "00013-3eab353b-4cc6-4aaf-bd64-b40c3cd3693e",
    "deepnote_app_coordinates": {
     "h": 5,
     "w": 12,
     "x": 0,
     "y": 78
    },
    "deepnote_cell_type": "code",
    "deepnote_to_be_reexecuted": false,
    "execution_millis": 20,
    "execution_start": 1636360617089,
    "source_hash": "29d26f"
   },
   "outputs": [],
   "source": [
    "data_2012 = pd.read_csv(\"../Road Accident Project/Data/2012.csv\",encoding='cp1252')"
   ]
  },
  {
   "cell_type": "code",
   "execution_count": 13,
   "id": "cc1e4ca1",
   "metadata": {
    "ExecuteTime": {
     "end_time": "2021-11-08T09:26:31.772851Z",
     "start_time": "2021-11-08T09:26:31.758858Z"
    },
    "cell_id": "00014-c5bbe811-071c-4742-b13f-fea513570801",
    "deepnote_app_coordinates": {
     "h": 5,
     "w": 12,
     "x": 0,
     "y": 84
    },
    "deepnote_cell_type": "code",
    "deepnote_to_be_reexecuted": false,
    "execution_millis": 12,
    "execution_start": 1636360621274,
    "source_hash": "5b0c8507"
   },
   "outputs": [
    {
     "data": {
      "text/html": [
       "<div>\n",
       "<style scoped>\n",
       "    .dataframe tbody tr th:only-of-type {\n",
       "        vertical-align: middle;\n",
       "    }\n",
       "\n",
       "    .dataframe tbody tr th {\n",
       "        vertical-align: top;\n",
       "    }\n",
       "\n",
       "    .dataframe thead th {\n",
       "        text-align: right;\n",
       "    }\n",
       "</style>\n",
       "<table border=\"1\" class=\"dataframe\">\n",
       "  <thead>\n",
       "    <tr style=\"text-align: right;\">\n",
       "      <th></th>\n",
       "      <th>Reference Number</th>\n",
       "      <th>Easting</th>\n",
       "      <th>Northing</th>\n",
       "      <th>Number of Vehicles</th>\n",
       "      <th>Accident Date</th>\n",
       "      <th>Time (24hr)</th>\n",
       "      <th>1st Road Class</th>\n",
       "      <th>Road Surface</th>\n",
       "      <th>Lighting Conditions</th>\n",
       "      <th>Weather Conditions</th>\n",
       "      <th>Casualty Class</th>\n",
       "      <th>Casualty Severity</th>\n",
       "      <th>Sex of Casualty</th>\n",
       "      <th>Age of Casualty</th>\n",
       "      <th>Type of Vehicle</th>\n",
       "    </tr>\n",
       "  </thead>\n",
       "  <tbody>\n",
       "    <tr>\n",
       "      <th>0</th>\n",
       "      <td>120033394</td>\n",
       "      <td>430536</td>\n",
       "      <td>433129</td>\n",
       "      <td>1</td>\n",
       "      <td>22-Jan-12</td>\n",
       "      <td>255</td>\n",
       "      <td>Unclassified</td>\n",
       "      <td>Dry</td>\n",
       "      <td>Darkness: street lighting unknown</td>\n",
       "      <td>Fine without high winds</td>\n",
       "      <td>Pedestrian</td>\n",
       "      <td>Serious</td>\n",
       "      <td>Female</td>\n",
       "      <td>28</td>\n",
       "      <td>Car</td>\n",
       "    </tr>\n",
       "    <tr>\n",
       "      <th>1</th>\n",
       "      <td>120034263</td>\n",
       "      <td>427301</td>\n",
       "      <td>434682</td>\n",
       "      <td>2</td>\n",
       "      <td>23-Jan-12</td>\n",
       "      <td>800</td>\n",
       "      <td>A</td>\n",
       "      <td>Wet / Damp</td>\n",
       "      <td>Daylight: street lights present</td>\n",
       "      <td>Raining without high winds</td>\n",
       "      <td>Driver</td>\n",
       "      <td>Slight</td>\n",
       "      <td>Male</td>\n",
       "      <td>19</td>\n",
       "      <td>Motorcycle over 50cc and up to 125cc</td>\n",
       "    </tr>\n",
       "    <tr>\n",
       "      <th>2</th>\n",
       "      <td>120034970</td>\n",
       "      <td>422201</td>\n",
       "      <td>433910</td>\n",
       "      <td>1</td>\n",
       "      <td>23-Jan-12</td>\n",
       "      <td>1345</td>\n",
       "      <td>B</td>\n",
       "      <td>Dry</td>\n",
       "      <td>Daylight: street lights present</td>\n",
       "      <td>Fine without high winds</td>\n",
       "      <td>Pedestrian</td>\n",
       "      <td>Serious</td>\n",
       "      <td>Female</td>\n",
       "      <td>73</td>\n",
       "      <td>Car</td>\n",
       "    </tr>\n",
       "    <tr>\n",
       "      <th>3</th>\n",
       "      <td>120035568</td>\n",
       "      <td>428891</td>\n",
       "      <td>431676</td>\n",
       "      <td>1</td>\n",
       "      <td>24-Jan-12</td>\n",
       "      <td>117</td>\n",
       "      <td>Unclassified</td>\n",
       "      <td>Wet / Damp</td>\n",
       "      <td>Darkness: street lights present and lit</td>\n",
       "      <td>Fine without high winds</td>\n",
       "      <td>Driver</td>\n",
       "      <td>Serious</td>\n",
       "      <td>Male</td>\n",
       "      <td>19</td>\n",
       "      <td>Car</td>\n",
       "    </tr>\n",
       "    <tr>\n",
       "      <th>4</th>\n",
       "      <td>120036061</td>\n",
       "      <td>442525</td>\n",
       "      <td>427843</td>\n",
       "      <td>1</td>\n",
       "      <td>24-Jan-12</td>\n",
       "      <td>930</td>\n",
       "      <td>Unclassified</td>\n",
       "      <td>Dry</td>\n",
       "      <td>Daylight: street lights present</td>\n",
       "      <td>Fine without high winds</td>\n",
       "      <td>Pedestrian</td>\n",
       "      <td>Slight</td>\n",
       "      <td>Female</td>\n",
       "      <td>16</td>\n",
       "      <td>Motorcycle over 50cc and up to 125cc</td>\n",
       "    </tr>\n",
       "  </tbody>\n",
       "</table>\n",
       "</div>"
      ],
      "text/plain": [
       "   Reference Number  Easting  Northing  Number of Vehicles Accident Date  \\\n",
       "0         120033394   430536    433129                   1     22-Jan-12   \n",
       "1         120034263   427301    434682                   2     23-Jan-12   \n",
       "2         120034970   422201    433910                   1     23-Jan-12   \n",
       "3         120035568   428891    431676                   1     24-Jan-12   \n",
       "4         120036061   442525    427843                   1     24-Jan-12   \n",
       "\n",
       "   Time (24hr) 1st Road Class Road Surface  \\\n",
       "0          255   Unclassified          Dry   \n",
       "1          800              A   Wet / Damp   \n",
       "2         1345              B          Dry   \n",
       "3          117   Unclassified   Wet / Damp   \n",
       "4          930   Unclassified          Dry   \n",
       "\n",
       "                       Lighting Conditions          Weather Conditions  \\\n",
       "0        Darkness: street lighting unknown     Fine without high winds   \n",
       "1          Daylight: street lights present  Raining without high winds   \n",
       "2          Daylight: street lights present     Fine without high winds   \n",
       "3  Darkness: street lights present and lit     Fine without high winds   \n",
       "4          Daylight: street lights present     Fine without high winds   \n",
       "\n",
       "  Casualty Class Casualty Severity Sex of Casualty  Age of Casualty  \\\n",
       "0     Pedestrian           Serious          Female               28   \n",
       "1         Driver            Slight            Male               19   \n",
       "2     Pedestrian           Serious          Female               73   \n",
       "3         Driver           Serious            Male               19   \n",
       "4     Pedestrian            Slight          Female               16   \n",
       "\n",
       "                        Type of Vehicle  \n",
       "0                                   Car  \n",
       "1  Motorcycle over 50cc and up to 125cc  \n",
       "2                                   Car  \n",
       "3                                   Car  \n",
       "4  Motorcycle over 50cc and up to 125cc  "
      ]
     },
     "execution_count": 13,
     "metadata": {},
     "output_type": "execute_result"
    }
   ],
   "source": [
    "data_2012.head()"
   ]
  },
  {
   "cell_type": "code",
   "execution_count": 14,
   "id": "85084e94",
   "metadata": {
    "ExecuteTime": {
     "end_time": "2021-11-08T09:26:35.269929Z",
     "start_time": "2021-11-08T09:26:35.264835Z"
    },
    "cell_id": "00015-70f4ae2a-6813-4970-9c43-c8764915b8da",
    "deepnote_app_coordinates": {
     "h": 5,
     "w": 12,
     "x": 0,
     "y": 90
    },
    "deepnote_cell_type": "code",
    "deepnote_to_be_reexecuted": false,
    "execution_millis": 2,
    "execution_start": 1636360624942,
    "source_hash": "4183ff2"
   },
   "outputs": [
    {
     "data": {
      "text/plain": [
       "(2748, 15)"
      ]
     },
     "execution_count": 14,
     "metadata": {},
     "output_type": "execute_result"
    }
   ],
   "source": [
    "data_2012.shape"
   ]
  },
  {
   "cell_type": "markdown",
   "id": "2f0c356b",
   "metadata": {
    "cell_id": "00021-98d0f7af-4d67-4727-8766-aa309af85bfa",
    "deepnote_app_coordinates": {
     "h": 5,
     "w": 12,
     "x": 0,
     "y": 789
    },
    "deepnote_cell_type": "markdown",
    "tags": []
   },
   "source": [
    "#### Data for 2013\n",
    "- Some changes made, not identical with base file (2009)"
   ]
  },
  {
   "cell_type": "code",
   "execution_count": 15,
   "id": "26125b78",
   "metadata": {
    "ExecuteTime": {
     "end_time": "2021-11-08T09:26:51.420086Z",
     "start_time": "2021-11-08T09:26:51.405566Z"
    },
    "cell_id": "00016-2dab88b4-ee4c-413b-aa7d-975a7e78b5f0",
    "deepnote_app_coordinates": {
     "h": 5,
     "w": 12,
     "x": 0,
     "y": 96
    },
    "deepnote_cell_type": "code",
    "deepnote_to_be_reexecuted": false,
    "execution_millis": 903,
    "execution_start": 1636360784910,
    "source_hash": "ae3a3783"
   },
   "outputs": [],
   "source": [
    "import pandas as pd\n",
    "data_2013 = pd.read_csv(\"../Road Accident Project/Data/2013.csv\",encoding='cp1252')"
   ]
  },
  {
   "cell_type": "code",
   "execution_count": 16,
   "id": "b030e444",
   "metadata": {
    "ExecuteTime": {
     "end_time": "2021-11-08T09:26:54.199433Z",
     "start_time": "2021-11-08T09:26:54.184051Z"
    },
    "cell_id": "00017-3bc9f72f-a33e-45c7-91dd-c25b8b9fc83f",
    "deepnote_app_coordinates": {
     "h": 5,
     "w": 12,
     "x": 0,
     "y": 102
    },
    "deepnote_cell_type": "code",
    "deepnote_to_be_reexecuted": false,
    "execution_millis": 795,
    "execution_start": 1636360838180,
    "scrolled": true,
    "source_hash": "76e2b2bb"
   },
   "outputs": [
    {
     "data": {
      "text/html": [
       "<div>\n",
       "<style scoped>\n",
       "    .dataframe tbody tr th:only-of-type {\n",
       "        vertical-align: middle;\n",
       "    }\n",
       "\n",
       "    .dataframe tbody tr th {\n",
       "        vertical-align: top;\n",
       "    }\n",
       "\n",
       "    .dataframe thead th {\n",
       "        text-align: right;\n",
       "    }\n",
       "</style>\n",
       "<table border=\"1\" class=\"dataframe\">\n",
       "  <thead>\n",
       "    <tr style=\"text-align: right;\">\n",
       "      <th></th>\n",
       "      <th>Reference Number</th>\n",
       "      <th>Easting</th>\n",
       "      <th>Northing</th>\n",
       "      <th>Number of Vehicles</th>\n",
       "      <th>Accident Date</th>\n",
       "      <th>Time (24hr)</th>\n",
       "      <th>1st Road Class</th>\n",
       "      <th>Road Surface</th>\n",
       "      <th>Lighting Conditions</th>\n",
       "      <th>Weather Conditions</th>\n",
       "      <th>Casualty Class</th>\n",
       "      <th>Casualty Severity</th>\n",
       "      <th>Sex of Casualty</th>\n",
       "      <th>Age of Casualty</th>\n",
       "      <th>Type of Vehicle</th>\n",
       "    </tr>\n",
       "  </thead>\n",
       "  <tbody>\n",
       "    <tr>\n",
       "      <th>0</th>\n",
       "      <td>130021591</td>\n",
       "      <td>426983</td>\n",
       "      <td>433434</td>\n",
       "      <td>3</td>\n",
       "      <td>15-Jan-13</td>\n",
       "      <td>1545</td>\n",
       "      <td>Unclassified</td>\n",
       "      <td>Dry</td>\n",
       "      <td>Daylight: street lights present</td>\n",
       "      <td>Fine without high winds</td>\n",
       "      <td>Driver</td>\n",
       "      <td>Slight</td>\n",
       "      <td>Male</td>\n",
       "      <td>42</td>\n",
       "      <td>Car</td>\n",
       "    </tr>\n",
       "    <tr>\n",
       "      <th>1</th>\n",
       "      <td>130021629</td>\n",
       "      <td>424366</td>\n",
       "      <td>445442</td>\n",
       "      <td>2</td>\n",
       "      <td>15-Jan-13</td>\n",
       "      <td>1640</td>\n",
       "      <td>A</td>\n",
       "      <td>Frost / Ice</td>\n",
       "      <td>Darkness: street lights present and lit</td>\n",
       "      <td>Other</td>\n",
       "      <td>Passenger</td>\n",
       "      <td>Slight</td>\n",
       "      <td>Female</td>\n",
       "      <td>78</td>\n",
       "      <td>Car</td>\n",
       "    </tr>\n",
       "    <tr>\n",
       "      <th>2</th>\n",
       "      <td>130021704</td>\n",
       "      <td>424481</td>\n",
       "      <td>435632</td>\n",
       "      <td>2</td>\n",
       "      <td>13-Jan-13</td>\n",
       "      <td>1345</td>\n",
       "      <td>Unclassified</td>\n",
       "      <td>Wet / Damp</td>\n",
       "      <td>Daylight: street lights present</td>\n",
       "      <td>Fine without high winds</td>\n",
       "      <td>Driver</td>\n",
       "      <td>Serious</td>\n",
       "      <td>Male</td>\n",
       "      <td>34</td>\n",
       "      <td>Motorcycle over 125cc and up to 500cc</td>\n",
       "    </tr>\n",
       "    <tr>\n",
       "      <th>3</th>\n",
       "      <td>130022047</td>\n",
       "      <td>430284</td>\n",
       "      <td>432421</td>\n",
       "      <td>1</td>\n",
       "      <td>15-Jan-13</td>\n",
       "      <td>1313</td>\n",
       "      <td>Unclassified</td>\n",
       "      <td>Dry</td>\n",
       "      <td>Daylight: street lights present</td>\n",
       "      <td>Fine without high winds</td>\n",
       "      <td>Pedestrian</td>\n",
       "      <td>Slight</td>\n",
       "      <td>Male</td>\n",
       "      <td>47</td>\n",
       "      <td>Car</td>\n",
       "    </tr>\n",
       "    <tr>\n",
       "      <th>4</th>\n",
       "      <td>130023385</td>\n",
       "      <td>430374</td>\n",
       "      <td>433485</td>\n",
       "      <td>1</td>\n",
       "      <td>16-Jan-13</td>\n",
       "      <td>2015</td>\n",
       "      <td>Unclassified</td>\n",
       "      <td>Dry</td>\n",
       "      <td>Darkness: street lights present and lit</td>\n",
       "      <td>Fine without high winds</td>\n",
       "      <td>Passenger</td>\n",
       "      <td>Serious</td>\n",
       "      <td>Male</td>\n",
       "      <td>65</td>\n",
       "      <td>Bus or coach (17 or more passenger seats)</td>\n",
       "    </tr>\n",
       "  </tbody>\n",
       "</table>\n",
       "</div>"
      ],
      "text/plain": [
       "  Reference Number  Easting  Northing  Number of Vehicles Accident Date  \\\n",
       "0        130021591   426983    433434                   3     15-Jan-13   \n",
       "1        130021629   424366    445442                   2     15-Jan-13   \n",
       "2        130021704   424481    435632                   2     13-Jan-13   \n",
       "3        130022047   430284    432421                   1     15-Jan-13   \n",
       "4        130023385   430374    433485                   1     16-Jan-13   \n",
       "\n",
       "   Time (24hr) 1st Road Class Road Surface  \\\n",
       "0         1545   Unclassified          Dry   \n",
       "1         1640              A  Frost / Ice   \n",
       "2         1345   Unclassified   Wet / Damp   \n",
       "3         1313   Unclassified          Dry   \n",
       "4         2015   Unclassified          Dry   \n",
       "\n",
       "                       Lighting Conditions       Weather Conditions  \\\n",
       "0          Daylight: street lights present  Fine without high winds   \n",
       "1  Darkness: street lights present and lit                    Other   \n",
       "2          Daylight: street lights present  Fine without high winds   \n",
       "3          Daylight: street lights present  Fine without high winds   \n",
       "4  Darkness: street lights present and lit  Fine without high winds   \n",
       "\n",
       "  Casualty Class Casualty Severity Sex of Casualty  Age of Casualty  \\\n",
       "0         Driver            Slight            Male               42   \n",
       "1      Passenger            Slight          Female               78   \n",
       "2         Driver           Serious            Male               34   \n",
       "3     Pedestrian            Slight            Male               47   \n",
       "4      Passenger           Serious            Male               65   \n",
       "\n",
       "                             Type of Vehicle  \n",
       "0                                        Car  \n",
       "1                                        Car  \n",
       "2      Motorcycle over 125cc and up to 500cc  \n",
       "3                                        Car  \n",
       "4  Bus or coach (17 or more passenger seats)  "
      ]
     },
     "execution_count": 16,
     "metadata": {},
     "output_type": "execute_result"
    }
   ],
   "source": [
    "data_2013.head()"
   ]
  },
  {
   "cell_type": "code",
   "execution_count": 17,
   "id": "b8a207e3",
   "metadata": {
    "ExecuteTime": {
     "end_time": "2021-11-08T09:26:57.372960Z",
     "start_time": "2021-11-08T09:26:57.368290Z"
    },
    "cell_id": "00018-e212921a-41ba-4072-b5ed-a38922d3ddd0",
    "deepnote_app_coordinates": {
     "h": 5,
     "w": 12,
     "x": 0,
     "y": 108
    },
    "deepnote_cell_type": "code",
    "deepnote_to_be_reexecuted": true,
    "execution_millis": 7,
    "execution_start": 1636357920510,
    "source_hash": "746dda5f"
   },
   "outputs": [
    {
     "data": {
      "text/plain": [
       "(2433, 15)"
      ]
     },
     "execution_count": 17,
     "metadata": {},
     "output_type": "execute_result"
    }
   ],
   "source": [
    "data_2013.shape"
   ]
  },
  {
   "cell_type": "markdown",
   "id": "da4f71a1",
   "metadata": {
    "ExecuteTime": {
     "end_time": "2021-11-03T19:48:13.979666Z",
     "start_time": "2021-11-03T19:48:13.976468Z"
    },
    "cell_id": "00019-c5b5fe17-8a89-4252-ba56-8a5d824b83f4",
    "deepnote_app_coordinates": {
     "h": 5,
     "w": 12,
     "x": 0,
     "y": 114
    },
    "deepnote_cell_type": "markdown"
   },
   "source": [
    "##### Unbalanced column names  renaming  in data for 2013\n",
    "- Unnamed: 11 -> Casualty Class\n",
    "- Unnamed: 15 -> Type of Vehicle\n",
    "- Grid Ref: Easting -> Easting\n",
    "- Grid Ref: Northing ->Northing\n",
    "- the 'casualty class 1' column will be dropped after the final merge."
   ]
  },
  {
   "cell_type": "code",
   "execution_count": 18,
   "id": "69697b8e",
   "metadata": {
    "ExecuteTime": {
     "end_time": "2021-11-08T09:27:02.470187Z",
     "start_time": "2021-11-08T09:27:02.466804Z"
    },
    "cell_id": "00020-7191b9a4-400b-410a-bdfd-731ed0c3a3e3",
    "deepnote_app_coordinates": {
     "h": 5,
     "w": 12,
     "x": 0,
     "y": 120
    },
    "deepnote_cell_type": "code",
    "deepnote_to_be_reexecuted": true,
    "execution_millis": 2,
    "execution_start": 1636357924876,
    "source_hash": "6c9de8fc"
   },
   "outputs": [],
   "source": [
    "data_2013=data_2013.rename({'Unnamed: 11':'Casualty Class','Unnamed: 15':'Type of Vehicle',\n",
    "                            'Grid Ref: Easting':'Easting','Grid Ref: Northing':'Northing'},axis=1)"
   ]
  },
  {
   "cell_type": "code",
   "execution_count": 19,
   "id": "f7c8e388",
   "metadata": {
    "ExecuteTime": {
     "end_time": "2021-11-08T09:27:05.185709Z",
     "start_time": "2021-11-08T09:27:05.180373Z"
    },
    "cell_id": "00021-232bd1d9-886d-457e-80e1-a00ff2feabf9",
    "deepnote_app_coordinates": {
     "h": 5,
     "w": 12,
     "x": 0,
     "y": 126
    },
    "deepnote_cell_type": "code",
    "deepnote_to_be_reexecuted": false,
    "execution_millis": 134,
    "execution_start": 1636358175294,
    "source_hash": "10fbff77"
   },
   "outputs": [
    {
     "data": {
      "text/plain": [
       "Index(['Reference Number', 'Easting', 'Northing', 'Number of Vehicles',\n",
       "       'Accident Date', 'Time (24hr)', '1st Road Class', 'Road Surface',\n",
       "       'Lighting Conditions', 'Weather Conditions', 'Casualty Class',\n",
       "       'Casualty Severity', 'Sex of Casualty', 'Age of Casualty',\n",
       "       'Type of Vehicle'],\n",
       "      dtype='object')"
      ]
     },
     "execution_count": 19,
     "metadata": {},
     "output_type": "execute_result"
    }
   ],
   "source": [
    "data_2013.columns"
   ]
  },
  {
   "cell_type": "code",
   "execution_count": 20,
   "id": "4e1e0a01",
   "metadata": {
    "ExecuteTime": {
     "end_time": "2021-11-08T09:27:09.679754Z",
     "start_time": "2021-11-08T09:27:09.676066Z"
    },
    "cell_id": "00022-4c760a27-60fd-48cc-8e26-3f3ffcd21ef2",
    "deepnote_app_coordinates": {
     "h": 5,
     "w": 12,
     "x": 0,
     "y": 132
    },
    "deepnote_cell_type": "code",
    "deepnote_to_be_reexecuted": false,
    "execution_millis": 6,
    "execution_start": 1636357929995,
    "source_hash": "746dda5f"
   },
   "outputs": [
    {
     "data": {
      "text/plain": [
       "(2433, 15)"
      ]
     },
     "execution_count": 20,
     "metadata": {},
     "output_type": "execute_result"
    }
   ],
   "source": [
    "data_2013.shape"
   ]
  },
  {
   "cell_type": "markdown",
   "id": "b0620d33",
   "metadata": {
    "cell_id": "00023-cedf9377-136c-422b-b4be-a409bc34bdeb",
    "deepnote_app_coordinates": {
     "h": 5,
     "w": 12,
     "x": 0,
     "y": 138
    },
    "deepnote_cell_type": "markdown"
   },
   "source": [
    "#####  Saving changes back to csvfile 2013"
   ]
  },
  {
   "cell_type": "code",
   "execution_count": 21,
   "id": "b1adfcfd",
   "metadata": {
    "ExecuteTime": {
     "end_time": "2021-11-08T09:27:30.598537Z",
     "start_time": "2021-11-08T09:27:30.579996Z"
    },
    "cell_id": "00024-dba65b68-f0a0-41f5-aa79-8158411386c0",
    "deepnote_app_coordinates": {
     "h": 5,
     "w": 12,
     "x": 0,
     "y": 144
    },
    "deepnote_cell_type": "code",
    "deepnote_to_be_reexecuted": false,
    "execution_millis": 30952,
    "execution_start": 1636358180711,
    "source_hash": "3d94764"
   },
   "outputs": [],
   "source": [
    "data_2013.to_csv(\"../Road Accident Project/Data/2013.csv\", index = False, header = True)"
   ]
  },
  {
   "cell_type": "markdown",
   "id": "8beebeea",
   "metadata": {
    "cell_id": "00031-72f9eaea-0632-44df-90c4-ffef8c882806",
    "deepnote_app_coordinates": {
     "h": 5,
     "w": 12,
     "x": 0,
     "y": 795
    },
    "deepnote_cell_type": "markdown",
    "tags": []
   },
   "source": [
    "#### Data for 2014\n",
    "- Some changes made, not identical with base file (2009)"
   ]
  },
  {
   "cell_type": "code",
   "execution_count": 22,
   "id": "2c09c1a3",
   "metadata": {
    "ExecuteTime": {
     "end_time": "2021-11-08T09:27:39.159250Z",
     "start_time": "2021-11-08T09:27:39.146736Z"
    },
    "cell_id": "00025-dd5461f0-8152-4346-a246-c60a2d7dfeb0",
    "deepnote_app_coordinates": {
     "h": 5,
     "w": 12,
     "x": 0,
     "y": 150
    },
    "deepnote_cell_type": "code",
    "deepnote_to_be_reexecuted": false,
    "execution_millis": 5001,
    "execution_start": 1636358216069,
    "source_hash": "cca7caa8"
   },
   "outputs": [],
   "source": [
    "data_2014 = pd.read_csv(\"../Road Accident Project/Data/2014.csv\",encoding='cp1252')"
   ]
  },
  {
   "cell_type": "code",
   "execution_count": 23,
   "id": "3c1079f5",
   "metadata": {
    "ExecuteTime": {
     "end_time": "2021-11-08T09:27:41.484677Z",
     "start_time": "2021-11-08T09:27:41.466526Z"
    },
    "cell_id": "00026-9ae4a118-91b6-4322-baa8-eaa39fe1253e",
    "deepnote_app_coordinates": {
     "h": 5,
     "w": 12,
     "x": 0,
     "y": 156
    },
    "deepnote_cell_type": "code",
    "deepnote_to_be_reexecuted": false,
    "execution_millis": 11,
    "execution_start": 1636358225371,
    "scrolled": true,
    "source_hash": "6c63e54d"
   },
   "outputs": [
    {
     "data": {
      "text/html": [
       "<div>\n",
       "<style scoped>\n",
       "    .dataframe tbody tr th:only-of-type {\n",
       "        vertical-align: middle;\n",
       "    }\n",
       "\n",
       "    .dataframe tbody tr th {\n",
       "        vertical-align: top;\n",
       "    }\n",
       "\n",
       "    .dataframe thead th {\n",
       "        text-align: right;\n",
       "    }\n",
       "</style>\n",
       "<table border=\"1\" class=\"dataframe\">\n",
       "  <thead>\n",
       "    <tr style=\"text-align: right;\">\n",
       "      <th></th>\n",
       "      <th>Reference Number</th>\n",
       "      <th>Easting</th>\n",
       "      <th>Northing</th>\n",
       "      <th>Number of Vehicles</th>\n",
       "      <th>Accident Date</th>\n",
       "      <th>Time (24hr)</th>\n",
       "      <th>1st Road Class</th>\n",
       "      <th>Road Surface</th>\n",
       "      <th>Lighting Conditions</th>\n",
       "      <th>Weather Conditions</th>\n",
       "      <th>Casualty Class</th>\n",
       "      <th>Casualty Severity</th>\n",
       "      <th>Sex of Casualty</th>\n",
       "      <th>Age of Casualty</th>\n",
       "      <th>Type of Vehicle</th>\n",
       "    </tr>\n",
       "  </thead>\n",
       "  <tbody>\n",
       "    <tr>\n",
       "      <th>0</th>\n",
       "      <td>1112091</td>\n",
       "      <td>429175</td>\n",
       "      <td>431904</td>\n",
       "      <td>2</td>\n",
       "      <td>01-Jan-14</td>\n",
       "      <td>1840</td>\n",
       "      <td>Unclassified</td>\n",
       "      <td>Wet / Damp</td>\n",
       "      <td>Darkness: street lights present and lit</td>\n",
       "      <td>Raining without high winds</td>\n",
       "      <td>Driver</td>\n",
       "      <td>Slight</td>\n",
       "      <td>Male</td>\n",
       "      <td>58</td>\n",
       "      <td>Car</td>\n",
       "    </tr>\n",
       "    <tr>\n",
       "      <th>1</th>\n",
       "      <td>1180869</td>\n",
       "      <td>430429</td>\n",
       "      <td>431025</td>\n",
       "      <td>3</td>\n",
       "      <td>08-Jan-14</td>\n",
       "      <td>1430</td>\n",
       "      <td>Motorway</td>\n",
       "      <td>Wet / Damp</td>\n",
       "      <td>Daylight: street lights present</td>\n",
       "      <td>Fine without high winds</td>\n",
       "      <td>Driver</td>\n",
       "      <td>Slight</td>\n",
       "      <td>Male</td>\n",
       "      <td>69</td>\n",
       "      <td>Car</td>\n",
       "    </tr>\n",
       "    <tr>\n",
       "      <th>2</th>\n",
       "      <td>1180869</td>\n",
       "      <td>430429</td>\n",
       "      <td>431025</td>\n",
       "      <td>3</td>\n",
       "      <td>08-Jan-14</td>\n",
       "      <td>1430</td>\n",
       "      <td>Motorway</td>\n",
       "      <td>Wet / Damp</td>\n",
       "      <td>Daylight: street lights present</td>\n",
       "      <td>Fine without high winds</td>\n",
       "      <td>Driver</td>\n",
       "      <td>Slight</td>\n",
       "      <td>Female</td>\n",
       "      <td>41</td>\n",
       "      <td>Car</td>\n",
       "    </tr>\n",
       "    <tr>\n",
       "      <th>3</th>\n",
       "      <td>11A0238</td>\n",
       "      <td>424660</td>\n",
       "      <td>427582</td>\n",
       "      <td>3</td>\n",
       "      <td>10-Jan-14</td>\n",
       "      <td>817</td>\n",
       "      <td>Motorway</td>\n",
       "      <td>Dry</td>\n",
       "      <td>Daylight: street lights present</td>\n",
       "      <td>Fine without high winds</td>\n",
       "      <td>Driver</td>\n",
       "      <td>Slight</td>\n",
       "      <td>Male</td>\n",
       "      <td>35</td>\n",
       "      <td>Car</td>\n",
       "    </tr>\n",
       "    <tr>\n",
       "      <th>4</th>\n",
       "      <td>11A0238</td>\n",
       "      <td>424660</td>\n",
       "      <td>427582</td>\n",
       "      <td>3</td>\n",
       "      <td>10-Jan-14</td>\n",
       "      <td>817</td>\n",
       "      <td>Motorway</td>\n",
       "      <td>Dry</td>\n",
       "      <td>Daylight: street lights present</td>\n",
       "      <td>Fine without high winds</td>\n",
       "      <td>Driver</td>\n",
       "      <td>Slight</td>\n",
       "      <td>Male</td>\n",
       "      <td>25</td>\n",
       "      <td>Car</td>\n",
       "    </tr>\n",
       "  </tbody>\n",
       "</table>\n",
       "</div>"
      ],
      "text/plain": [
       "  Reference Number  Easting  Northing  Number of Vehicles Accident Date  \\\n",
       "0          1112091   429175    431904                   2     01-Jan-14   \n",
       "1          1180869   430429    431025                   3     08-Jan-14   \n",
       "2          1180869   430429    431025                   3     08-Jan-14   \n",
       "3          11A0238   424660    427582                   3     10-Jan-14   \n",
       "4          11A0238   424660    427582                   3     10-Jan-14   \n",
       "\n",
       "   Time (24hr) 1st Road Class Road Surface  \\\n",
       "0         1840   Unclassified   Wet / Damp   \n",
       "1         1430       Motorway   Wet / Damp   \n",
       "2         1430       Motorway   Wet / Damp   \n",
       "3          817       Motorway          Dry   \n",
       "4          817       Motorway          Dry   \n",
       "\n",
       "                       Lighting Conditions          Weather Conditions  \\\n",
       "0  Darkness: street lights present and lit  Raining without high winds   \n",
       "1          Daylight: street lights present     Fine without high winds   \n",
       "2          Daylight: street lights present     Fine without high winds   \n",
       "3          Daylight: street lights present     Fine without high winds   \n",
       "4          Daylight: street lights present     Fine without high winds   \n",
       "\n",
       "  Casualty Class Casualty Severity Sex of Casualty  Age of Casualty  \\\n",
       "0         Driver            Slight            Male               58   \n",
       "1         Driver            Slight            Male               69   \n",
       "2         Driver            Slight          Female               41   \n",
       "3         Driver            Slight            Male               35   \n",
       "4         Driver            Slight            Male               25   \n",
       "\n",
       "  Type of Vehicle  \n",
       "0             Car  \n",
       "1             Car  \n",
       "2             Car  \n",
       "3             Car  \n",
       "4             Car  "
      ]
     },
     "execution_count": 23,
     "metadata": {},
     "output_type": "execute_result"
    }
   ],
   "source": [
    "data_2014.head()"
   ]
  },
  {
   "cell_type": "code",
   "execution_count": 24,
   "id": "f2bba9a4",
   "metadata": {
    "ExecuteTime": {
     "end_time": "2021-11-08T09:27:44.195248Z",
     "start_time": "2021-11-08T09:27:44.188665Z"
    },
    "cell_id": "00027-c3ac963e-c950-4b91-b7b4-8e19648f86a6",
    "deepnote_app_coordinates": {
     "h": 5,
     "w": 12,
     "x": 0,
     "y": 162
    },
    "deepnote_cell_type": "code",
    "deepnote_to_be_reexecuted": false,
    "execution_millis": 6,
    "execution_start": 1636358229354,
    "source_hash": "e4b7d045"
   },
   "outputs": [
    {
     "data": {
      "text/plain": [
       "(2533, 15)"
      ]
     },
     "execution_count": 24,
     "metadata": {},
     "output_type": "execute_result"
    }
   ],
   "source": [
    "data_2014.shape"
   ]
  },
  {
   "cell_type": "markdown",
   "id": "6328865e",
   "metadata": {
    "cell_id": "00028-3324c222-990d-47f5-a833-a2e1abc9a0a2",
    "deepnote_app_coordinates": {
     "h": 5,
     "w": 12,
     "x": 0,
     "y": 168
    },
    "deepnote_cell_type": "markdown"
   },
   "source": [
    "##### Unbalanced column names  renaming  in data_2014\n",
    "- Grid Ref: Easting -> Easting\n",
    "- Grid Ref: Northing ->Northing"
   ]
  },
  {
   "cell_type": "code",
   "execution_count": 25,
   "id": "05d64b69",
   "metadata": {
    "ExecuteTime": {
     "end_time": "2021-11-08T09:27:47.732594Z",
     "start_time": "2021-11-08T09:27:47.728558Z"
    },
    "cell_id": "00029-047a1f14-a5b4-4476-ab0b-4f38ba47f4b1",
    "deepnote_app_coordinates": {
     "h": 5,
     "w": 12,
     "x": 0,
     "y": 174
    },
    "deepnote_cell_type": "code",
    "deepnote_to_be_reexecuted": false,
    "execution_millis": 0,
    "execution_start": 1636358233145,
    "source_hash": "ceab6c40"
   },
   "outputs": [],
   "source": [
    "data_2014=data_2014.rename({'Unnamed: 11':'Casualty Class.1',\n",
    "                            'Grid Ref: Easting':'Easting','Grid Ref: Northing':'Northing'},axis=1)"
   ]
  },
  {
   "cell_type": "code",
   "execution_count": 26,
   "id": "4078ee7e",
   "metadata": {
    "ExecuteTime": {
     "end_time": "2021-11-08T09:27:50.454330Z",
     "start_time": "2021-11-08T09:27:50.437500Z"
    },
    "cell_id": "00030-9cba66ee-75ef-4d8d-a2bb-ad71e1a84bac",
    "deepnote_app_coordinates": {
     "h": 5,
     "w": 12,
     "x": 0,
     "y": 180
    },
    "deepnote_cell_type": "code",
    "deepnote_to_be_reexecuted": false,
    "execution_millis": 11,
    "execution_start": 1636358240117,
    "scrolled": true,
    "source_hash": "6c63e54d"
   },
   "outputs": [
    {
     "data": {
      "text/html": [
       "<div>\n",
       "<style scoped>\n",
       "    .dataframe tbody tr th:only-of-type {\n",
       "        vertical-align: middle;\n",
       "    }\n",
       "\n",
       "    .dataframe tbody tr th {\n",
       "        vertical-align: top;\n",
       "    }\n",
       "\n",
       "    .dataframe thead th {\n",
       "        text-align: right;\n",
       "    }\n",
       "</style>\n",
       "<table border=\"1\" class=\"dataframe\">\n",
       "  <thead>\n",
       "    <tr style=\"text-align: right;\">\n",
       "      <th></th>\n",
       "      <th>Reference Number</th>\n",
       "      <th>Easting</th>\n",
       "      <th>Northing</th>\n",
       "      <th>Number of Vehicles</th>\n",
       "      <th>Accident Date</th>\n",
       "      <th>Time (24hr)</th>\n",
       "      <th>1st Road Class</th>\n",
       "      <th>Road Surface</th>\n",
       "      <th>Lighting Conditions</th>\n",
       "      <th>Weather Conditions</th>\n",
       "      <th>Casualty Class</th>\n",
       "      <th>Casualty Severity</th>\n",
       "      <th>Sex of Casualty</th>\n",
       "      <th>Age of Casualty</th>\n",
       "      <th>Type of Vehicle</th>\n",
       "    </tr>\n",
       "  </thead>\n",
       "  <tbody>\n",
       "    <tr>\n",
       "      <th>0</th>\n",
       "      <td>1112091</td>\n",
       "      <td>429175</td>\n",
       "      <td>431904</td>\n",
       "      <td>2</td>\n",
       "      <td>01-Jan-14</td>\n",
       "      <td>1840</td>\n",
       "      <td>Unclassified</td>\n",
       "      <td>Wet / Damp</td>\n",
       "      <td>Darkness: street lights present and lit</td>\n",
       "      <td>Raining without high winds</td>\n",
       "      <td>Driver</td>\n",
       "      <td>Slight</td>\n",
       "      <td>Male</td>\n",
       "      <td>58</td>\n",
       "      <td>Car</td>\n",
       "    </tr>\n",
       "    <tr>\n",
       "      <th>1</th>\n",
       "      <td>1180869</td>\n",
       "      <td>430429</td>\n",
       "      <td>431025</td>\n",
       "      <td>3</td>\n",
       "      <td>08-Jan-14</td>\n",
       "      <td>1430</td>\n",
       "      <td>Motorway</td>\n",
       "      <td>Wet / Damp</td>\n",
       "      <td>Daylight: street lights present</td>\n",
       "      <td>Fine without high winds</td>\n",
       "      <td>Driver</td>\n",
       "      <td>Slight</td>\n",
       "      <td>Male</td>\n",
       "      <td>69</td>\n",
       "      <td>Car</td>\n",
       "    </tr>\n",
       "    <tr>\n",
       "      <th>2</th>\n",
       "      <td>1180869</td>\n",
       "      <td>430429</td>\n",
       "      <td>431025</td>\n",
       "      <td>3</td>\n",
       "      <td>08-Jan-14</td>\n",
       "      <td>1430</td>\n",
       "      <td>Motorway</td>\n",
       "      <td>Wet / Damp</td>\n",
       "      <td>Daylight: street lights present</td>\n",
       "      <td>Fine without high winds</td>\n",
       "      <td>Driver</td>\n",
       "      <td>Slight</td>\n",
       "      <td>Female</td>\n",
       "      <td>41</td>\n",
       "      <td>Car</td>\n",
       "    </tr>\n",
       "    <tr>\n",
       "      <th>3</th>\n",
       "      <td>11A0238</td>\n",
       "      <td>424660</td>\n",
       "      <td>427582</td>\n",
       "      <td>3</td>\n",
       "      <td>10-Jan-14</td>\n",
       "      <td>817</td>\n",
       "      <td>Motorway</td>\n",
       "      <td>Dry</td>\n",
       "      <td>Daylight: street lights present</td>\n",
       "      <td>Fine without high winds</td>\n",
       "      <td>Driver</td>\n",
       "      <td>Slight</td>\n",
       "      <td>Male</td>\n",
       "      <td>35</td>\n",
       "      <td>Car</td>\n",
       "    </tr>\n",
       "    <tr>\n",
       "      <th>4</th>\n",
       "      <td>11A0238</td>\n",
       "      <td>424660</td>\n",
       "      <td>427582</td>\n",
       "      <td>3</td>\n",
       "      <td>10-Jan-14</td>\n",
       "      <td>817</td>\n",
       "      <td>Motorway</td>\n",
       "      <td>Dry</td>\n",
       "      <td>Daylight: street lights present</td>\n",
       "      <td>Fine without high winds</td>\n",
       "      <td>Driver</td>\n",
       "      <td>Slight</td>\n",
       "      <td>Male</td>\n",
       "      <td>25</td>\n",
       "      <td>Car</td>\n",
       "    </tr>\n",
       "  </tbody>\n",
       "</table>\n",
       "</div>"
      ],
      "text/plain": [
       "  Reference Number  Easting  Northing  Number of Vehicles Accident Date  \\\n",
       "0          1112091   429175    431904                   2     01-Jan-14   \n",
       "1          1180869   430429    431025                   3     08-Jan-14   \n",
       "2          1180869   430429    431025                   3     08-Jan-14   \n",
       "3          11A0238   424660    427582                   3     10-Jan-14   \n",
       "4          11A0238   424660    427582                   3     10-Jan-14   \n",
       "\n",
       "   Time (24hr) 1st Road Class Road Surface  \\\n",
       "0         1840   Unclassified   Wet / Damp   \n",
       "1         1430       Motorway   Wet / Damp   \n",
       "2         1430       Motorway   Wet / Damp   \n",
       "3          817       Motorway          Dry   \n",
       "4          817       Motorway          Dry   \n",
       "\n",
       "                       Lighting Conditions          Weather Conditions  \\\n",
       "0  Darkness: street lights present and lit  Raining without high winds   \n",
       "1          Daylight: street lights present     Fine without high winds   \n",
       "2          Daylight: street lights present     Fine without high winds   \n",
       "3          Daylight: street lights present     Fine without high winds   \n",
       "4          Daylight: street lights present     Fine without high winds   \n",
       "\n",
       "  Casualty Class Casualty Severity Sex of Casualty  Age of Casualty  \\\n",
       "0         Driver            Slight            Male               58   \n",
       "1         Driver            Slight            Male               69   \n",
       "2         Driver            Slight          Female               41   \n",
       "3         Driver            Slight            Male               35   \n",
       "4         Driver            Slight            Male               25   \n",
       "\n",
       "  Type of Vehicle  \n",
       "0             Car  \n",
       "1             Car  \n",
       "2             Car  \n",
       "3             Car  \n",
       "4             Car  "
      ]
     },
     "execution_count": 26,
     "metadata": {},
     "output_type": "execute_result"
    }
   ],
   "source": [
    "data_2014.head()"
   ]
  },
  {
   "cell_type": "markdown",
   "id": "56d8aafe",
   "metadata": {
    "cell_id": "00031-e3102a6c-a2f2-411e-b441-7edfb7079f74",
    "deepnote_app_coordinates": {
     "h": 5,
     "w": 12,
     "x": 0,
     "y": 186
    },
    "deepnote_cell_type": "markdown"
   },
   "source": [
    "##### Saving changes back to csvfile 2014"
   ]
  },
  {
   "cell_type": "code",
   "execution_count": 27,
   "id": "bda6e5a2",
   "metadata": {
    "ExecuteTime": {
     "end_time": "2021-11-08T09:28:01.857026Z",
     "start_time": "2021-11-08T09:28:01.838742Z"
    },
    "cell_id": "00032-a087da94-1504-47b7-b47c-f17d1963cf7c",
    "deepnote_app_coordinates": {
     "h": 5,
     "w": 12,
     "x": 0,
     "y": 192
    },
    "deepnote_cell_type": "code",
    "deepnote_to_be_reexecuted": false,
    "execution_millis": 8431,
    "execution_start": 1636358244217,
    "source_hash": "7b3e7700"
   },
   "outputs": [],
   "source": [
    "data_2014.to_csv(\"../Road Accident Project/Data/2014.csv\", index = False, header = True)"
   ]
  },
  {
   "cell_type": "code",
   "execution_count": 28,
   "id": "2e8065df",
   "metadata": {
    "ExecuteTime": {
     "end_time": "2021-11-08T09:28:11.847988Z",
     "start_time": "2021-11-08T09:28:11.828711Z"
    },
    "cell_id": "00033-6575c169-905d-416b-b9c7-5307862469ad",
    "deepnote_app_coordinates": {
     "h": 5,
     "w": 12,
     "x": 0,
     "y": 198
    },
    "deepnote_cell_type": "code",
    "deepnote_to_be_reexecuted": false,
    "execution_millis": 4193,
    "execution_start": 1636358296065,
    "source_hash": "f77811d4"
   },
   "outputs": [
    {
     "data": {
      "text/html": [
       "<div>\n",
       "<style scoped>\n",
       "    .dataframe tbody tr th:only-of-type {\n",
       "        vertical-align: middle;\n",
       "    }\n",
       "\n",
       "    .dataframe tbody tr th {\n",
       "        vertical-align: top;\n",
       "    }\n",
       "\n",
       "    .dataframe thead th {\n",
       "        text-align: right;\n",
       "    }\n",
       "</style>\n",
       "<table border=\"1\" class=\"dataframe\">\n",
       "  <thead>\n",
       "    <tr style=\"text-align: right;\">\n",
       "      <th></th>\n",
       "      <th>Reference Number</th>\n",
       "      <th>Easting</th>\n",
       "      <th>Northing</th>\n",
       "      <th>Number of Vehicles</th>\n",
       "      <th>Accident Date</th>\n",
       "      <th>Time (24hr)</th>\n",
       "      <th>1st Road Class</th>\n",
       "      <th>Road Surface</th>\n",
       "      <th>Lighting Conditions</th>\n",
       "      <th>Weather Conditions</th>\n",
       "      <th>Casualty Class</th>\n",
       "      <th>Casualty Severity</th>\n",
       "      <th>Sex of Casualty</th>\n",
       "      <th>Age of Casualty</th>\n",
       "      <th>Type of Vehicle</th>\n",
       "    </tr>\n",
       "  </thead>\n",
       "  <tbody>\n",
       "    <tr>\n",
       "      <th>0</th>\n",
       "      <td>1112091</td>\n",
       "      <td>429175</td>\n",
       "      <td>431904</td>\n",
       "      <td>2</td>\n",
       "      <td>01-Jan-14</td>\n",
       "      <td>1840</td>\n",
       "      <td>Unclassified</td>\n",
       "      <td>Wet / Damp</td>\n",
       "      <td>Darkness: street lights present and lit</td>\n",
       "      <td>Raining without high winds</td>\n",
       "      <td>Driver</td>\n",
       "      <td>Slight</td>\n",
       "      <td>Male</td>\n",
       "      <td>58</td>\n",
       "      <td>Car</td>\n",
       "    </tr>\n",
       "    <tr>\n",
       "      <th>1</th>\n",
       "      <td>1180869</td>\n",
       "      <td>430429</td>\n",
       "      <td>431025</td>\n",
       "      <td>3</td>\n",
       "      <td>08-Jan-14</td>\n",
       "      <td>1430</td>\n",
       "      <td>Motorway</td>\n",
       "      <td>Wet / Damp</td>\n",
       "      <td>Daylight: street lights present</td>\n",
       "      <td>Fine without high winds</td>\n",
       "      <td>Driver</td>\n",
       "      <td>Slight</td>\n",
       "      <td>Male</td>\n",
       "      <td>69</td>\n",
       "      <td>Car</td>\n",
       "    </tr>\n",
       "    <tr>\n",
       "      <th>2</th>\n",
       "      <td>1180869</td>\n",
       "      <td>430429</td>\n",
       "      <td>431025</td>\n",
       "      <td>3</td>\n",
       "      <td>08-Jan-14</td>\n",
       "      <td>1430</td>\n",
       "      <td>Motorway</td>\n",
       "      <td>Wet / Damp</td>\n",
       "      <td>Daylight: street lights present</td>\n",
       "      <td>Fine without high winds</td>\n",
       "      <td>Driver</td>\n",
       "      <td>Slight</td>\n",
       "      <td>Female</td>\n",
       "      <td>41</td>\n",
       "      <td>Car</td>\n",
       "    </tr>\n",
       "    <tr>\n",
       "      <th>3</th>\n",
       "      <td>11A0238</td>\n",
       "      <td>424660</td>\n",
       "      <td>427582</td>\n",
       "      <td>3</td>\n",
       "      <td>10-Jan-14</td>\n",
       "      <td>817</td>\n",
       "      <td>Motorway</td>\n",
       "      <td>Dry</td>\n",
       "      <td>Daylight: street lights present</td>\n",
       "      <td>Fine without high winds</td>\n",
       "      <td>Driver</td>\n",
       "      <td>Slight</td>\n",
       "      <td>Male</td>\n",
       "      <td>35</td>\n",
       "      <td>Car</td>\n",
       "    </tr>\n",
       "    <tr>\n",
       "      <th>4</th>\n",
       "      <td>11A0238</td>\n",
       "      <td>424660</td>\n",
       "      <td>427582</td>\n",
       "      <td>3</td>\n",
       "      <td>10-Jan-14</td>\n",
       "      <td>817</td>\n",
       "      <td>Motorway</td>\n",
       "      <td>Dry</td>\n",
       "      <td>Daylight: street lights present</td>\n",
       "      <td>Fine without high winds</td>\n",
       "      <td>Driver</td>\n",
       "      <td>Slight</td>\n",
       "      <td>Male</td>\n",
       "      <td>25</td>\n",
       "      <td>Car</td>\n",
       "    </tr>\n",
       "  </tbody>\n",
       "</table>\n",
       "</div>"
      ],
      "text/plain": [
       "  Reference Number  Easting  Northing  Number of Vehicles Accident Date  \\\n",
       "0          1112091   429175    431904                   2     01-Jan-14   \n",
       "1          1180869   430429    431025                   3     08-Jan-14   \n",
       "2          1180869   430429    431025                   3     08-Jan-14   \n",
       "3          11A0238   424660    427582                   3     10-Jan-14   \n",
       "4          11A0238   424660    427582                   3     10-Jan-14   \n",
       "\n",
       "   Time (24hr) 1st Road Class Road Surface  \\\n",
       "0         1840   Unclassified   Wet / Damp   \n",
       "1         1430       Motorway   Wet / Damp   \n",
       "2         1430       Motorway   Wet / Damp   \n",
       "3          817       Motorway          Dry   \n",
       "4          817       Motorway          Dry   \n",
       "\n",
       "                       Lighting Conditions          Weather Conditions  \\\n",
       "0  Darkness: street lights present and lit  Raining without high winds   \n",
       "1          Daylight: street lights present     Fine without high winds   \n",
       "2          Daylight: street lights present     Fine without high winds   \n",
       "3          Daylight: street lights present     Fine without high winds   \n",
       "4          Daylight: street lights present     Fine without high winds   \n",
       "\n",
       "  Casualty Class Casualty Severity Sex of Casualty  Age of Casualty  \\\n",
       "0         Driver            Slight            Male               58   \n",
       "1         Driver            Slight            Male               69   \n",
       "2         Driver            Slight          Female               41   \n",
       "3         Driver            Slight            Male               35   \n",
       "4         Driver            Slight            Male               25   \n",
       "\n",
       "  Type of Vehicle  \n",
       "0             Car  \n",
       "1             Car  \n",
       "2             Car  \n",
       "3             Car  \n",
       "4             Car  "
      ]
     },
     "execution_count": 28,
     "metadata": {},
     "output_type": "execute_result"
    }
   ],
   "source": [
    "data_2014 = pd.read_csv(\"../Road Accident Project/Data/2014.csv\")\n",
    "data_2014.head()"
   ]
  },
  {
   "cell_type": "markdown",
   "id": "be6a1071",
   "metadata": {
    "cell_id": "00041-bc7471c7-87b8-4270-8fe5-95713ac72e5e",
    "deepnote_app_coordinates": {
     "h": 5,
     "w": 12,
     "x": 0,
     "y": 801
    },
    "deepnote_cell_type": "markdown",
    "tags": []
   },
   "source": [
    "#### Data for 2015\n",
    "- Some changes made, not identical with base file (2009)"
   ]
  },
  {
   "cell_type": "code",
   "execution_count": 29,
   "id": "cee84e3b",
   "metadata": {
    "ExecuteTime": {
     "end_time": "2021-11-08T09:28:28.395651Z",
     "start_time": "2021-11-08T09:28:28.362999Z"
    },
    "cell_id": "00034-b4fc2822-ac82-4675-b762-c9c536b4af18",
    "deepnote_app_coordinates": {
     "h": 5,
     "w": 12,
     "x": 0,
     "y": 204
    },
    "deepnote_cell_type": "code",
    "deepnote_to_be_reexecuted": false,
    "execution_millis": 981,
    "execution_start": 1636358521478,
    "scrolled": true,
    "source_hash": "1b813826"
   },
   "outputs": [
    {
     "data": {
      "text/html": [
       "<div>\n",
       "<style scoped>\n",
       "    .dataframe tbody tr th:only-of-type {\n",
       "        vertical-align: middle;\n",
       "    }\n",
       "\n",
       "    .dataframe tbody tr th {\n",
       "        vertical-align: top;\n",
       "    }\n",
       "\n",
       "    .dataframe thead th {\n",
       "        text-align: right;\n",
       "    }\n",
       "</style>\n",
       "<table border=\"1\" class=\"dataframe\">\n",
       "  <thead>\n",
       "    <tr style=\"text-align: right;\">\n",
       "      <th></th>\n",
       "      <th>Reference Number</th>\n",
       "      <th>Easting</th>\n",
       "      <th>Northing</th>\n",
       "      <th>Number of Vehicles</th>\n",
       "      <th>Accident Date</th>\n",
       "      <th>Time (24hr)</th>\n",
       "      <th>1st Road Class</th>\n",
       "      <th>Road Surface</th>\n",
       "      <th>Lighting Conditions</th>\n",
       "      <th>Weather Conditions</th>\n",
       "      <th>Casualty Class</th>\n",
       "      <th>Casualty Severity</th>\n",
       "      <th>Sex of Casualty</th>\n",
       "      <th>Age of Casualty</th>\n",
       "      <th>Type of Vehicle</th>\n",
       "    </tr>\n",
       "  </thead>\n",
       "  <tbody>\n",
       "    <tr>\n",
       "      <th>0</th>\n",
       "      <td>21G0539</td>\n",
       "      <td>427798</td>\n",
       "      <td>426248</td>\n",
       "      <td>5</td>\n",
       "      <td>16-Jan-15</td>\n",
       "      <td>1205</td>\n",
       "      <td>A</td>\n",
       "      <td>Snow</td>\n",
       "      <td>Daylight: street lights present</td>\n",
       "      <td>Snowing without high winds</td>\n",
       "      <td>Driver/Rider</td>\n",
       "      <td>Slight</td>\n",
       "      <td>Male</td>\n",
       "      <td>36</td>\n",
       "      <td>Goods vehicle 3.5 tonnes mgw and under</td>\n",
       "    </tr>\n",
       "    <tr>\n",
       "      <th>1</th>\n",
       "      <td>21G0539</td>\n",
       "      <td>427798</td>\n",
       "      <td>426248</td>\n",
       "      <td>5</td>\n",
       "      <td>16-Jan-15</td>\n",
       "      <td>1205</td>\n",
       "      <td>A</td>\n",
       "      <td>Snow</td>\n",
       "      <td>Daylight: street lights present</td>\n",
       "      <td>Snowing without high winds</td>\n",
       "      <td>Passenger</td>\n",
       "      <td>Slight</td>\n",
       "      <td>Male</td>\n",
       "      <td>27</td>\n",
       "      <td>Goods vehicle 3.5 tonnes mgw and under</td>\n",
       "    </tr>\n",
       "    <tr>\n",
       "      <th>2</th>\n",
       "      <td>21G1108</td>\n",
       "      <td>431142</td>\n",
       "      <td>430087</td>\n",
       "      <td>1</td>\n",
       "      <td>16-Jan-15</td>\n",
       "      <td>1732</td>\n",
       "      <td>Unclassified</td>\n",
       "      <td>Wet / Damp</td>\n",
       "      <td>Darkness: street lights present and lit</td>\n",
       "      <td>Fine without high winds</td>\n",
       "      <td>Pedestrian</td>\n",
       "      <td>Serious</td>\n",
       "      <td>Male</td>\n",
       "      <td>68</td>\n",
       "      <td>Car</td>\n",
       "    </tr>\n",
       "    <tr>\n",
       "      <th>3</th>\n",
       "      <td>21H0565</td>\n",
       "      <td>434602</td>\n",
       "      <td>436699</td>\n",
       "      <td>2</td>\n",
       "      <td>17-Jan-15</td>\n",
       "      <td>930</td>\n",
       "      <td>Unclassified</td>\n",
       "      <td>Dry</td>\n",
       "      <td>Daylight: street lights present</td>\n",
       "      <td>Fine without high winds</td>\n",
       "      <td>Driver/Rider</td>\n",
       "      <td>Slight</td>\n",
       "      <td>Male</td>\n",
       "      <td>49</td>\n",
       "      <td>Car</td>\n",
       "    </tr>\n",
       "    <tr>\n",
       "      <th>4</th>\n",
       "      <td>21H0638</td>\n",
       "      <td>434254</td>\n",
       "      <td>434318</td>\n",
       "      <td>2</td>\n",
       "      <td>17-Jan-15</td>\n",
       "      <td>1315</td>\n",
       "      <td>A</td>\n",
       "      <td>Wet / Damp</td>\n",
       "      <td>Daylight: street lights present</td>\n",
       "      <td>Fine without high winds</td>\n",
       "      <td>Driver/Rider</td>\n",
       "      <td>Slight</td>\n",
       "      <td>Male</td>\n",
       "      <td>33</td>\n",
       "      <td>Car</td>\n",
       "    </tr>\n",
       "  </tbody>\n",
       "</table>\n",
       "</div>"
      ],
      "text/plain": [
       "  Reference Number  Easting  Northing  Number of Vehicles Accident Date  \\\n",
       "0          21G0539   427798    426248                   5     16-Jan-15   \n",
       "1          21G0539   427798    426248                   5     16-Jan-15   \n",
       "2          21G1108   431142    430087                   1     16-Jan-15   \n",
       "3          21H0565   434602    436699                   2     17-Jan-15   \n",
       "4          21H0638   434254    434318                   2     17-Jan-15   \n",
       "\n",
       "   Time (24hr) 1st Road Class Road Surface  \\\n",
       "0         1205              A         Snow   \n",
       "1         1205              A         Snow   \n",
       "2         1732   Unclassified   Wet / Damp   \n",
       "3          930   Unclassified          Dry   \n",
       "4         1315              A   Wet / Damp   \n",
       "\n",
       "                       Lighting Conditions          Weather Conditions  \\\n",
       "0          Daylight: street lights present  Snowing without high winds   \n",
       "1          Daylight: street lights present  Snowing without high winds   \n",
       "2  Darkness: street lights present and lit     Fine without high winds   \n",
       "3          Daylight: street lights present     Fine without high winds   \n",
       "4          Daylight: street lights present     Fine without high winds   \n",
       "\n",
       "  Casualty Class Casualty Severity Sex of Casualty  Age of Casualty  \\\n",
       "0   Driver/Rider            Slight            Male               36   \n",
       "1      Passenger            Slight            Male               27   \n",
       "2     Pedestrian           Serious            Male               68   \n",
       "3   Driver/Rider            Slight            Male               49   \n",
       "4   Driver/Rider            Slight            Male               33   \n",
       "\n",
       "                          Type of Vehicle  \n",
       "0  Goods vehicle 3.5 tonnes mgw and under  \n",
       "1  Goods vehicle 3.5 tonnes mgw and under  \n",
       "2                                     Car  \n",
       "3                                     Car  \n",
       "4                                     Car  "
      ]
     },
     "execution_count": 29,
     "metadata": {},
     "output_type": "execute_result"
    }
   ],
   "source": [
    "import pandas as pd\n",
    "data_2015 = pd.read_csv(\"../Road Accident Project/Data/2015.csv\",encoding='cp1252')\n",
    "data_2015.head()\n"
   ]
  },
  {
   "cell_type": "markdown",
   "id": "c450df34",
   "metadata": {
    "cell_id": "00035-00922b45-89a5-4d36-b870-cb5b2b67eb5b",
    "deepnote_app_coordinates": {
     "h": 5,
     "w": 12,
     "x": 0,
     "y": 210
    },
    "deepnote_cell_type": "markdown"
   },
   "source": [
    "##### Unbalanced column names  renaming  in data_2015\n",
    "- Grid Ref: Easting -> Easting\n",
    "- Grid Ref: Northing ->Northing"
   ]
  },
  {
   "cell_type": "code",
   "execution_count": 30,
   "id": "ea43389c",
   "metadata": {
    "ExecuteTime": {
     "end_time": "2021-11-08T09:28:33.711909Z",
     "start_time": "2021-11-08T09:28:33.708235Z"
    },
    "cell_id": "00036-577e6858-a22a-4de0-bde1-4dd9923c24d6",
    "deepnote_app_coordinates": {
     "h": 5,
     "w": 12,
     "x": 0,
     "y": 216
    },
    "deepnote_cell_type": "code",
    "deepnote_to_be_reexecuted": false,
    "execution_millis": 1,
    "execution_start": 1636275124096,
    "source_hash": "1aa93e3c"
   },
   "outputs": [],
   "source": [
    "data_2015=data_2015.rename({'Grid Ref: Easting':'Easting','Grid Ref: Northing':'Northing'},axis=1)"
   ]
  },
  {
   "cell_type": "markdown",
   "id": "489ba8aa",
   "metadata": {
    "cell_id": "00037-817db35e-a573-4925-9868-1e29bd5eba99",
    "deepnote_app_coordinates": {
     "h": 5,
     "w": 12,
     "x": 0,
     "y": 222
    },
    "deepnote_cell_type": "markdown"
   },
   "source": [
    "#####  Saving changes back to csvfile 2015\n"
   ]
  },
  {
   "cell_type": "code",
   "execution_count": 31,
   "id": "f8da5352",
   "metadata": {
    "ExecuteTime": {
     "end_time": "2021-11-08T09:28:52.482973Z",
     "start_time": "2021-11-08T09:28:52.447366Z"
    },
    "cell_id": "00038-82fb30a3-0426-4445-a90d-ceed7dddbbed",
    "deepnote_app_coordinates": {
     "h": 5,
     "w": 12,
     "x": 0,
     "y": 228
    },
    "deepnote_cell_type": "code",
    "deepnote_to_be_reexecuted": false,
    "execution_millis": 15,
    "execution_start": 1636360307507,
    "source_hash": "cd3a1fb2"
   },
   "outputs": [
    {
     "data": {
      "text/html": [
       "<div>\n",
       "<style scoped>\n",
       "    .dataframe tbody tr th:only-of-type {\n",
       "        vertical-align: middle;\n",
       "    }\n",
       "\n",
       "    .dataframe tbody tr th {\n",
       "        vertical-align: top;\n",
       "    }\n",
       "\n",
       "    .dataframe thead th {\n",
       "        text-align: right;\n",
       "    }\n",
       "</style>\n",
       "<table border=\"1\" class=\"dataframe\">\n",
       "  <thead>\n",
       "    <tr style=\"text-align: right;\">\n",
       "      <th></th>\n",
       "      <th>Reference Number</th>\n",
       "      <th>Easting</th>\n",
       "      <th>Northing</th>\n",
       "      <th>Number of Vehicles</th>\n",
       "      <th>Accident Date</th>\n",
       "      <th>Time (24hr)</th>\n",
       "      <th>1st Road Class</th>\n",
       "      <th>Road Surface</th>\n",
       "      <th>Lighting Conditions</th>\n",
       "      <th>Weather Conditions</th>\n",
       "      <th>Casualty Class</th>\n",
       "      <th>Casualty Severity</th>\n",
       "      <th>Sex of Casualty</th>\n",
       "      <th>Age of Casualty</th>\n",
       "      <th>Type of Vehicle</th>\n",
       "    </tr>\n",
       "  </thead>\n",
       "  <tbody>\n",
       "    <tr>\n",
       "      <th>0</th>\n",
       "      <td>21G0539</td>\n",
       "      <td>427798</td>\n",
       "      <td>426248</td>\n",
       "      <td>5</td>\n",
       "      <td>16-Jan-15</td>\n",
       "      <td>1205</td>\n",
       "      <td>A</td>\n",
       "      <td>Snow</td>\n",
       "      <td>Daylight: street lights present</td>\n",
       "      <td>Snowing without high winds</td>\n",
       "      <td>Driver/Rider</td>\n",
       "      <td>Slight</td>\n",
       "      <td>Male</td>\n",
       "      <td>36</td>\n",
       "      <td>Goods vehicle 3.5 tonnes mgw and under</td>\n",
       "    </tr>\n",
       "    <tr>\n",
       "      <th>1</th>\n",
       "      <td>21G0539</td>\n",
       "      <td>427798</td>\n",
       "      <td>426248</td>\n",
       "      <td>5</td>\n",
       "      <td>16-Jan-15</td>\n",
       "      <td>1205</td>\n",
       "      <td>A</td>\n",
       "      <td>Snow</td>\n",
       "      <td>Daylight: street lights present</td>\n",
       "      <td>Snowing without high winds</td>\n",
       "      <td>Passenger</td>\n",
       "      <td>Slight</td>\n",
       "      <td>Male</td>\n",
       "      <td>27</td>\n",
       "      <td>Goods vehicle 3.5 tonnes mgw and under</td>\n",
       "    </tr>\n",
       "    <tr>\n",
       "      <th>2</th>\n",
       "      <td>21G1108</td>\n",
       "      <td>431142</td>\n",
       "      <td>430087</td>\n",
       "      <td>1</td>\n",
       "      <td>16-Jan-15</td>\n",
       "      <td>1732</td>\n",
       "      <td>Unclassified</td>\n",
       "      <td>Wet / Damp</td>\n",
       "      <td>Darkness: street lights present and lit</td>\n",
       "      <td>Fine without high winds</td>\n",
       "      <td>Pedestrian</td>\n",
       "      <td>Serious</td>\n",
       "      <td>Male</td>\n",
       "      <td>68</td>\n",
       "      <td>Car</td>\n",
       "    </tr>\n",
       "    <tr>\n",
       "      <th>3</th>\n",
       "      <td>21H0565</td>\n",
       "      <td>434602</td>\n",
       "      <td>436699</td>\n",
       "      <td>2</td>\n",
       "      <td>17-Jan-15</td>\n",
       "      <td>930</td>\n",
       "      <td>Unclassified</td>\n",
       "      <td>Dry</td>\n",
       "      <td>Daylight: street lights present</td>\n",
       "      <td>Fine without high winds</td>\n",
       "      <td>Driver/Rider</td>\n",
       "      <td>Slight</td>\n",
       "      <td>Male</td>\n",
       "      <td>49</td>\n",
       "      <td>Car</td>\n",
       "    </tr>\n",
       "    <tr>\n",
       "      <th>4</th>\n",
       "      <td>21H0638</td>\n",
       "      <td>434254</td>\n",
       "      <td>434318</td>\n",
       "      <td>2</td>\n",
       "      <td>17-Jan-15</td>\n",
       "      <td>1315</td>\n",
       "      <td>A</td>\n",
       "      <td>Wet / Damp</td>\n",
       "      <td>Daylight: street lights present</td>\n",
       "      <td>Fine without high winds</td>\n",
       "      <td>Driver/Rider</td>\n",
       "      <td>Slight</td>\n",
       "      <td>Male</td>\n",
       "      <td>33</td>\n",
       "      <td>Car</td>\n",
       "    </tr>\n",
       "  </tbody>\n",
       "</table>\n",
       "</div>"
      ],
      "text/plain": [
       "  Reference Number  Easting  Northing  Number of Vehicles Accident Date  \\\n",
       "0          21G0539   427798    426248                   5     16-Jan-15   \n",
       "1          21G0539   427798    426248                   5     16-Jan-15   \n",
       "2          21G1108   431142    430087                   1     16-Jan-15   \n",
       "3          21H0565   434602    436699                   2     17-Jan-15   \n",
       "4          21H0638   434254    434318                   2     17-Jan-15   \n",
       "\n",
       "   Time (24hr) 1st Road Class Road Surface  \\\n",
       "0         1205              A         Snow   \n",
       "1         1205              A         Snow   \n",
       "2         1732   Unclassified   Wet / Damp   \n",
       "3          930   Unclassified          Dry   \n",
       "4         1315              A   Wet / Damp   \n",
       "\n",
       "                       Lighting Conditions          Weather Conditions  \\\n",
       "0          Daylight: street lights present  Snowing without high winds   \n",
       "1          Daylight: street lights present  Snowing without high winds   \n",
       "2  Darkness: street lights present and lit     Fine without high winds   \n",
       "3          Daylight: street lights present     Fine without high winds   \n",
       "4          Daylight: street lights present     Fine without high winds   \n",
       "\n",
       "  Casualty Class Casualty Severity Sex of Casualty  Age of Casualty  \\\n",
       "0   Driver/Rider            Slight            Male               36   \n",
       "1      Passenger            Slight            Male               27   \n",
       "2     Pedestrian           Serious            Male               68   \n",
       "3   Driver/Rider            Slight            Male               49   \n",
       "4   Driver/Rider            Slight            Male               33   \n",
       "\n",
       "                          Type of Vehicle  \n",
       "0  Goods vehicle 3.5 tonnes mgw and under  \n",
       "1  Goods vehicle 3.5 tonnes mgw and under  \n",
       "2                                     Car  \n",
       "3                                     Car  \n",
       "4                                     Car  "
      ]
     },
     "execution_count": 31,
     "metadata": {},
     "output_type": "execute_result"
    }
   ],
   "source": [
    "data_2015.to_csv(\"../Road Accident Project/Data/2015.csv\", index = False, header = True)\n",
    "data_2015 = pd.read_csv(\"../Road Accident Project/Data/2015.csv\")\n",
    "data_2015.head()"
   ]
  },
  {
   "cell_type": "markdown",
   "id": "e5c2119b",
   "metadata": {
    "cell_id": "00047-97f9a248-7731-4922-a9df-c88426eb587f",
    "deepnote_app_coordinates": {
     "h": 5,
     "w": 12,
     "x": 0,
     "y": 807
    },
    "deepnote_cell_type": "markdown",
    "tags": []
   },
   "source": [
    "#### Data for 2016\n",
    "- Some changes made, not identical with base file (2009)"
   ]
  },
  {
   "cell_type": "code",
   "execution_count": 32,
   "id": "f3be03a3",
   "metadata": {
    "ExecuteTime": {
     "end_time": "2021-11-08T09:29:02.017147Z",
     "start_time": "2021-11-08T09:29:01.993160Z"
    },
    "cell_id": "00039-0a78ba17-9e94-459e-a7d9-93062122b5ae",
    "deepnote_app_coordinates": {
     "h": 5,
     "w": 12,
     "x": 0,
     "y": 234
    },
    "deepnote_cell_type": "code",
    "deepnote_to_be_reexecuted": false,
    "execution_millis": 11,
    "execution_start": 1636360325892,
    "source_hash": "a74f1e9e"
   },
   "outputs": [
    {
     "data": {
      "text/html": [
       "<div>\n",
       "<style scoped>\n",
       "    .dataframe tbody tr th:only-of-type {\n",
       "        vertical-align: middle;\n",
       "    }\n",
       "\n",
       "    .dataframe tbody tr th {\n",
       "        vertical-align: top;\n",
       "    }\n",
       "\n",
       "    .dataframe thead th {\n",
       "        text-align: right;\n",
       "    }\n",
       "</style>\n",
       "<table border=\"1\" class=\"dataframe\">\n",
       "  <thead>\n",
       "    <tr style=\"text-align: right;\">\n",
       "      <th></th>\n",
       "      <th>Reference Number</th>\n",
       "      <th>Easting</th>\n",
       "      <th>Northing</th>\n",
       "      <th>Number of Vehicles</th>\n",
       "      <th>Accident Date</th>\n",
       "      <th>Time (24hr)</th>\n",
       "      <th>1st Road Class</th>\n",
       "      <th>Road Surface</th>\n",
       "      <th>Lighting Conditions</th>\n",
       "      <th>Weather Conditions</th>\n",
       "      <th>Casualty Class</th>\n",
       "      <th>Casualty Severity</th>\n",
       "      <th>Sex of Casualty</th>\n",
       "      <th>Age of Casualty</th>\n",
       "      <th>Type of Vehicle</th>\n",
       "    </tr>\n",
       "  </thead>\n",
       "  <tbody>\n",
       "    <tr>\n",
       "      <th>0</th>\n",
       "      <td>2181280</td>\n",
       "      <td>418241</td>\n",
       "      <td>442351</td>\n",
       "      <td>2</td>\n",
       "      <td>08/01/2016</td>\n",
       "      <td>1905</td>\n",
       "      <td>A</td>\n",
       "      <td>Dry</td>\n",
       "      <td>Darkness: street lights present and lit</td>\n",
       "      <td>Fine without high winds</td>\n",
       "      <td>Driver or rider</td>\n",
       "      <td>Serious</td>\n",
       "      <td>Male</td>\n",
       "      <td>38</td>\n",
       "      <td>Motorcycle over 500cc</td>\n",
       "    </tr>\n",
       "    <tr>\n",
       "      <th>1</th>\n",
       "      <td>2191037</td>\n",
       "      <td>424993</td>\n",
       "      <td>432898</td>\n",
       "      <td>2</td>\n",
       "      <td>09/01/2016</td>\n",
       "      <td>1615</td>\n",
       "      <td>Unclassified</td>\n",
       "      <td>Dry</td>\n",
       "      <td>Darkness: street lights present and lit</td>\n",
       "      <td>Fine without high winds</td>\n",
       "      <td>Driver or rider</td>\n",
       "      <td>Slight</td>\n",
       "      <td>Female</td>\n",
       "      <td>50</td>\n",
       "      <td>Car</td>\n",
       "    </tr>\n",
       "    <tr>\n",
       "      <th>2</th>\n",
       "      <td>2CQ0870</td>\n",
       "      <td>431159</td>\n",
       "      <td>436397</td>\n",
       "      <td>2</td>\n",
       "      <td>15/01/2016</td>\n",
       "      <td>1645</td>\n",
       "      <td>Unclassified</td>\n",
       "      <td>Dry</td>\n",
       "      <td>Daylight: street lights present</td>\n",
       "      <td>Fine without high winds</td>\n",
       "      <td>Driver or rider</td>\n",
       "      <td>Slight</td>\n",
       "      <td>Male</td>\n",
       "      <td>26</td>\n",
       "      <td>Car</td>\n",
       "    </tr>\n",
       "    <tr>\n",
       "      <th>3</th>\n",
       "      <td>2CQ0870</td>\n",
       "      <td>431159</td>\n",
       "      <td>436397</td>\n",
       "      <td>2</td>\n",
       "      <td>15/01/2016</td>\n",
       "      <td>1645</td>\n",
       "      <td>Unclassified</td>\n",
       "      <td>Dry</td>\n",
       "      <td>Daylight: street lights present</td>\n",
       "      <td>Fine without high winds</td>\n",
       "      <td>Vehicle or pillion passenger</td>\n",
       "      <td>Slight</td>\n",
       "      <td>Female</td>\n",
       "      <td>22</td>\n",
       "      <td>Car</td>\n",
       "    </tr>\n",
       "    <tr>\n",
       "      <th>4</th>\n",
       "      <td>3111091</td>\n",
       "      <td>439313</td>\n",
       "      <td>432376</td>\n",
       "      <td>2</td>\n",
       "      <td>01/01/2016</td>\n",
       "      <td>956</td>\n",
       "      <td>A</td>\n",
       "      <td>Wet / Damp</td>\n",
       "      <td>Daylight: street lights present</td>\n",
       "      <td>Fine without high winds</td>\n",
       "      <td>Driver or rider</td>\n",
       "      <td>Slight</td>\n",
       "      <td>Male</td>\n",
       "      <td>57</td>\n",
       "      <td>Pedal cycle</td>\n",
       "    </tr>\n",
       "  </tbody>\n",
       "</table>\n",
       "</div>"
      ],
      "text/plain": [
       "  Reference Number  Easting  Northing  Number of Vehicles Accident Date  \\\n",
       "0          2181280   418241    442351                   2    08/01/2016   \n",
       "1          2191037   424993    432898                   2    09/01/2016   \n",
       "2          2CQ0870   431159    436397                   2    15/01/2016   \n",
       "3          2CQ0870   431159    436397                   2    15/01/2016   \n",
       "4          3111091   439313    432376                   2    01/01/2016   \n",
       "\n",
       "   Time (24hr) 1st Road Class Road Surface  \\\n",
       "0         1905              A          Dry   \n",
       "1         1615   Unclassified          Dry   \n",
       "2         1645   Unclassified          Dry   \n",
       "3         1645   Unclassified          Dry   \n",
       "4          956              A   Wet / Damp   \n",
       "\n",
       "                       Lighting Conditions       Weather Conditions  \\\n",
       "0  Darkness: street lights present and lit  Fine without high winds   \n",
       "1  Darkness: street lights present and lit  Fine without high winds   \n",
       "2          Daylight: street lights present  Fine without high winds   \n",
       "3          Daylight: street lights present  Fine without high winds   \n",
       "4          Daylight: street lights present  Fine without high winds   \n",
       "\n",
       "                 Casualty Class Casualty Severity Sex of Casualty  \\\n",
       "0               Driver or rider           Serious            Male   \n",
       "1               Driver or rider            Slight          Female   \n",
       "2               Driver or rider            Slight            Male   \n",
       "3  Vehicle or pillion passenger            Slight          Female   \n",
       "4               Driver or rider            Slight            Male   \n",
       "\n",
       "   Age of Casualty        Type of Vehicle  \n",
       "0               38  Motorcycle over 500cc  \n",
       "1               50                    Car  \n",
       "2               26                    Car  \n",
       "3               22                    Car  \n",
       "4               57            Pedal cycle  "
      ]
     },
     "execution_count": 32,
     "metadata": {},
     "output_type": "execute_result"
    }
   ],
   "source": [
    "data_2016 = pd.read_csv(\"../Road Accident Project/Data/2016.csv\",encoding='cp1252')\n",
    "data_2016.head()\n",
    "\n"
   ]
  },
  {
   "cell_type": "code",
   "execution_count": 33,
   "id": "7eabe665",
   "metadata": {
    "ExecuteTime": {
     "end_time": "2021-11-08T09:29:05.234923Z",
     "start_time": "2021-11-08T09:29:05.229741Z"
    },
    "cell_id": "00041-ebe21644-8ded-4404-a76a-9ac1858aa260",
    "deepnote_app_coordinates": {
     "h": 5,
     "w": 12,
     "x": 0,
     "y": 240
    },
    "deepnote_cell_type": "code",
    "deepnote_to_be_reexecuted": false,
    "execution_millis": 0,
    "execution_start": 1636275186148,
    "source_hash": "82e7a932"
   },
   "outputs": [
    {
     "data": {
      "text/plain": [
       "(2549, 15)"
      ]
     },
     "execution_count": 33,
     "metadata": {},
     "output_type": "execute_result"
    }
   ],
   "source": [
    "data_2016.shape"
   ]
  },
  {
   "cell_type": "markdown",
   "id": "3a8d29d1",
   "metadata": {
    "cell_id": "00042-cd9dc58c-3fec-454d-8897-4c3945a11e79",
    "deepnote_app_coordinates": {
     "h": 5,
     "w": 12,
     "x": 0,
     "y": 246
    },
    "deepnote_cell_type": "markdown"
   },
   "source": [
    "##### Expr1 is dropped because this feature not available in other year's dataset"
   ]
  },
  {
   "cell_type": "code",
   "execution_count": 34,
   "id": "56fe4046",
   "metadata": {
    "ExecuteTime": {
     "end_time": "2021-11-08T09:29:08.300283Z",
     "start_time": "2021-11-08T09:29:08.276757Z"
    },
    "cell_id": "00043-6f53a77d-f486-432d-ae98-0d40e90749ec",
    "deepnote_app_coordinates": {
     "h": 5,
     "w": 12,
     "x": 0,
     "y": 252
    },
    "deepnote_cell_type": "code",
    "deepnote_to_be_reexecuted": false,
    "execution_millis": 1119,
    "execution_start": 1636360287202,
    "source_hash": "b470c452"
   },
   "outputs": [
    {
     "ename": "KeyError",
     "evalue": "\"['Expr1'] not found in axis\"",
     "output_type": "error",
     "traceback": [
      "\u001b[0;31m---------------------------------------------------------------------------\u001b[0m",
      "\u001b[0;31mKeyError\u001b[0m                                  Traceback (most recent call last)",
      "\u001b[0;32m/tmp/ipykernel_268/1919925145.py\u001b[0m in \u001b[0;36m<module>\u001b[0;34m\u001b[0m\n\u001b[0;32m----> 1\u001b[0;31m \u001b[0mdata_2016\u001b[0m\u001b[0;34m=\u001b[0m\u001b[0mdata_2016\u001b[0m\u001b[0;34m.\u001b[0m\u001b[0mdrop\u001b[0m\u001b[0;34m(\u001b[0m\u001b[0;34m\"Expr1\"\u001b[0m\u001b[0;34m,\u001b[0m\u001b[0maxis\u001b[0m\u001b[0;34m=\u001b[0m\u001b[0;36m1\u001b[0m\u001b[0;34m)\u001b[0m\u001b[0;34m\u001b[0m\u001b[0;34m\u001b[0m\u001b[0m\n\u001b[0m",
      "\u001b[0;32m~/miniconda3/lib/python3.9/site-packages/pandas/util/_decorators.py\u001b[0m in \u001b[0;36mwrapper\u001b[0;34m(*args, **kwargs)\u001b[0m\n\u001b[1;32m    309\u001b[0m                     \u001b[0mstacklevel\u001b[0m\u001b[0;34m=\u001b[0m\u001b[0mstacklevel\u001b[0m\u001b[0;34m,\u001b[0m\u001b[0;34m\u001b[0m\u001b[0;34m\u001b[0m\u001b[0m\n\u001b[1;32m    310\u001b[0m                 )\n\u001b[0;32m--> 311\u001b[0;31m             \u001b[0;32mreturn\u001b[0m \u001b[0mfunc\u001b[0m\u001b[0;34m(\u001b[0m\u001b[0;34m*\u001b[0m\u001b[0margs\u001b[0m\u001b[0;34m,\u001b[0m \u001b[0;34m**\u001b[0m\u001b[0mkwargs\u001b[0m\u001b[0;34m)\u001b[0m\u001b[0;34m\u001b[0m\u001b[0;34m\u001b[0m\u001b[0m\n\u001b[0m\u001b[1;32m    312\u001b[0m \u001b[0;34m\u001b[0m\u001b[0m\n\u001b[1;32m    313\u001b[0m         \u001b[0;32mreturn\u001b[0m \u001b[0mwrapper\u001b[0m\u001b[0;34m\u001b[0m\u001b[0;34m\u001b[0m\u001b[0m\n",
      "\u001b[0;32m~/miniconda3/lib/python3.9/site-packages/pandas/core/frame.py\u001b[0m in \u001b[0;36mdrop\u001b[0;34m(self, labels, axis, index, columns, level, inplace, errors)\u001b[0m\n\u001b[1;32m   4904\u001b[0m                 \u001b[0mweight\u001b[0m  \u001b[0;36m1.0\u001b[0m     \u001b[0;36m0.8\u001b[0m\u001b[0;34m\u001b[0m\u001b[0;34m\u001b[0m\u001b[0m\n\u001b[1;32m   4905\u001b[0m         \"\"\"\n\u001b[0;32m-> 4906\u001b[0;31m         return super().drop(\n\u001b[0m\u001b[1;32m   4907\u001b[0m             \u001b[0mlabels\u001b[0m\u001b[0;34m=\u001b[0m\u001b[0mlabels\u001b[0m\u001b[0;34m,\u001b[0m\u001b[0;34m\u001b[0m\u001b[0;34m\u001b[0m\u001b[0m\n\u001b[1;32m   4908\u001b[0m             \u001b[0maxis\u001b[0m\u001b[0;34m=\u001b[0m\u001b[0maxis\u001b[0m\u001b[0;34m,\u001b[0m\u001b[0;34m\u001b[0m\u001b[0;34m\u001b[0m\u001b[0m\n",
      "\u001b[0;32m~/miniconda3/lib/python3.9/site-packages/pandas/core/generic.py\u001b[0m in \u001b[0;36mdrop\u001b[0;34m(self, labels, axis, index, columns, level, inplace, errors)\u001b[0m\n\u001b[1;32m   4148\u001b[0m         \u001b[0;32mfor\u001b[0m \u001b[0maxis\u001b[0m\u001b[0;34m,\u001b[0m \u001b[0mlabels\u001b[0m \u001b[0;32min\u001b[0m \u001b[0maxes\u001b[0m\u001b[0;34m.\u001b[0m\u001b[0mitems\u001b[0m\u001b[0;34m(\u001b[0m\u001b[0;34m)\u001b[0m\u001b[0;34m:\u001b[0m\u001b[0;34m\u001b[0m\u001b[0;34m\u001b[0m\u001b[0m\n\u001b[1;32m   4149\u001b[0m             \u001b[0;32mif\u001b[0m \u001b[0mlabels\u001b[0m \u001b[0;32mis\u001b[0m \u001b[0;32mnot\u001b[0m \u001b[0;32mNone\u001b[0m\u001b[0;34m:\u001b[0m\u001b[0;34m\u001b[0m\u001b[0;34m\u001b[0m\u001b[0m\n\u001b[0;32m-> 4150\u001b[0;31m                 \u001b[0mobj\u001b[0m \u001b[0;34m=\u001b[0m \u001b[0mobj\u001b[0m\u001b[0;34m.\u001b[0m\u001b[0m_drop_axis\u001b[0m\u001b[0;34m(\u001b[0m\u001b[0mlabels\u001b[0m\u001b[0;34m,\u001b[0m \u001b[0maxis\u001b[0m\u001b[0;34m,\u001b[0m \u001b[0mlevel\u001b[0m\u001b[0;34m=\u001b[0m\u001b[0mlevel\u001b[0m\u001b[0;34m,\u001b[0m \u001b[0merrors\u001b[0m\u001b[0;34m=\u001b[0m\u001b[0merrors\u001b[0m\u001b[0;34m)\u001b[0m\u001b[0;34m\u001b[0m\u001b[0;34m\u001b[0m\u001b[0m\n\u001b[0m\u001b[1;32m   4151\u001b[0m \u001b[0;34m\u001b[0m\u001b[0m\n\u001b[1;32m   4152\u001b[0m         \u001b[0;32mif\u001b[0m \u001b[0minplace\u001b[0m\u001b[0;34m:\u001b[0m\u001b[0;34m\u001b[0m\u001b[0;34m\u001b[0m\u001b[0m\n",
      "\u001b[0;32m~/miniconda3/lib/python3.9/site-packages/pandas/core/generic.py\u001b[0m in \u001b[0;36m_drop_axis\u001b[0;34m(self, labels, axis, level, errors)\u001b[0m\n\u001b[1;32m   4183\u001b[0m                 \u001b[0mnew_axis\u001b[0m \u001b[0;34m=\u001b[0m \u001b[0maxis\u001b[0m\u001b[0;34m.\u001b[0m\u001b[0mdrop\u001b[0m\u001b[0;34m(\u001b[0m\u001b[0mlabels\u001b[0m\u001b[0;34m,\u001b[0m \u001b[0mlevel\u001b[0m\u001b[0;34m=\u001b[0m\u001b[0mlevel\u001b[0m\u001b[0;34m,\u001b[0m \u001b[0merrors\u001b[0m\u001b[0;34m=\u001b[0m\u001b[0merrors\u001b[0m\u001b[0;34m)\u001b[0m\u001b[0;34m\u001b[0m\u001b[0;34m\u001b[0m\u001b[0m\n\u001b[1;32m   4184\u001b[0m             \u001b[0;32melse\u001b[0m\u001b[0;34m:\u001b[0m\u001b[0;34m\u001b[0m\u001b[0;34m\u001b[0m\u001b[0m\n\u001b[0;32m-> 4185\u001b[0;31m                 \u001b[0mnew_axis\u001b[0m \u001b[0;34m=\u001b[0m \u001b[0maxis\u001b[0m\u001b[0;34m.\u001b[0m\u001b[0mdrop\u001b[0m\u001b[0;34m(\u001b[0m\u001b[0mlabels\u001b[0m\u001b[0;34m,\u001b[0m \u001b[0merrors\u001b[0m\u001b[0;34m=\u001b[0m\u001b[0merrors\u001b[0m\u001b[0;34m)\u001b[0m\u001b[0;34m\u001b[0m\u001b[0;34m\u001b[0m\u001b[0m\n\u001b[0m\u001b[1;32m   4186\u001b[0m             \u001b[0mresult\u001b[0m \u001b[0;34m=\u001b[0m \u001b[0mself\u001b[0m\u001b[0;34m.\u001b[0m\u001b[0mreindex\u001b[0m\u001b[0;34m(\u001b[0m\u001b[0;34m**\u001b[0m\u001b[0;34m{\u001b[0m\u001b[0maxis_name\u001b[0m\u001b[0;34m:\u001b[0m \u001b[0mnew_axis\u001b[0m\u001b[0;34m}\u001b[0m\u001b[0;34m)\u001b[0m\u001b[0;34m\u001b[0m\u001b[0;34m\u001b[0m\u001b[0m\n\u001b[1;32m   4187\u001b[0m \u001b[0;34m\u001b[0m\u001b[0m\n",
      "\u001b[0;32m~/miniconda3/lib/python3.9/site-packages/pandas/core/indexes/base.py\u001b[0m in \u001b[0;36mdrop\u001b[0;34m(self, labels, errors)\u001b[0m\n\u001b[1;32m   6015\u001b[0m         \u001b[0;32mif\u001b[0m \u001b[0mmask\u001b[0m\u001b[0;34m.\u001b[0m\u001b[0many\u001b[0m\u001b[0;34m(\u001b[0m\u001b[0;34m)\u001b[0m\u001b[0;34m:\u001b[0m\u001b[0;34m\u001b[0m\u001b[0;34m\u001b[0m\u001b[0m\n\u001b[1;32m   6016\u001b[0m             \u001b[0;32mif\u001b[0m \u001b[0merrors\u001b[0m \u001b[0;34m!=\u001b[0m \u001b[0;34m\"ignore\"\u001b[0m\u001b[0;34m:\u001b[0m\u001b[0;34m\u001b[0m\u001b[0;34m\u001b[0m\u001b[0m\n\u001b[0;32m-> 6017\u001b[0;31m                 \u001b[0;32mraise\u001b[0m \u001b[0mKeyError\u001b[0m\u001b[0;34m(\u001b[0m\u001b[0;34mf\"{labels[mask]} not found in axis\"\u001b[0m\u001b[0;34m)\u001b[0m\u001b[0;34m\u001b[0m\u001b[0;34m\u001b[0m\u001b[0m\n\u001b[0m\u001b[1;32m   6018\u001b[0m             \u001b[0mindexer\u001b[0m \u001b[0;34m=\u001b[0m \u001b[0mindexer\u001b[0m\u001b[0;34m[\u001b[0m\u001b[0;34m~\u001b[0m\u001b[0mmask\u001b[0m\u001b[0;34m]\u001b[0m\u001b[0;34m\u001b[0m\u001b[0;34m\u001b[0m\u001b[0m\n\u001b[1;32m   6019\u001b[0m         \u001b[0;32mreturn\u001b[0m \u001b[0mself\u001b[0m\u001b[0;34m.\u001b[0m\u001b[0mdelete\u001b[0m\u001b[0;34m(\u001b[0m\u001b[0mindexer\u001b[0m\u001b[0;34m)\u001b[0m\u001b[0;34m\u001b[0m\u001b[0;34m\u001b[0m\u001b[0m\n",
      "\u001b[0;31mKeyError\u001b[0m: \"['Expr1'] not found in axis\""
     ]
    }
   ],
   "source": [
    "data_2016=data_2016.drop(\"Expr1\",axis=1)"
   ]
  },
  {
   "cell_type": "markdown",
   "id": "da272777",
   "metadata": {
    "cell_id": "00044-5d957adb-ee21-4df6-ae3f-aa60098b7316",
    "deepnote_app_coordinates": {
     "h": 5,
     "w": 12,
     "x": 0,
     "y": 258
    },
    "deepnote_cell_type": "markdown"
   },
   "source": [
    "##### Unbalanced column names  renaming  in data_2016\n",
    "\n",
    "- Grid Ref: Easting -> Easting\n",
    "- Grid Ref: Northing ->Northing"
   ]
  },
  {
   "cell_type": "code",
   "execution_count": 35,
   "id": "2bb5a6e2",
   "metadata": {
    "ExecuteTime": {
     "end_time": "2021-11-08T09:29:15.624014Z",
     "start_time": "2021-11-08T09:29:15.619672Z"
    },
    "cell_id": "00045-52b43446-52ea-444a-80fe-9a3529037b29",
    "deepnote_app_coordinates": {
     "h": 5,
     "w": 12,
     "x": 0,
     "y": 264
    },
    "deepnote_cell_type": "code",
    "deepnote_to_be_reexecuted": false,
    "execution_millis": 341,
    "execution_start": 1636360289511,
    "source_hash": "8404237f"
   },
   "outputs": [],
   "source": [
    "data_2016=data_2016.rename({'Grid Ref: Easting':'Easting','Grid Ref: Northing':'Northing'},axis=1)"
   ]
  },
  {
   "cell_type": "markdown",
   "id": "07b30b08",
   "metadata": {
    "cell_id": "00054-39716b62-00ee-4252-ab41-d610357bec88",
    "deepnote_app_coordinates": {
     "h": 5,
     "w": 12,
     "x": 0,
     "y": 813
    },
    "deepnote_cell_type": "markdown",
    "tags": []
   },
   "source": [
    "##### Saving changes back to csvfile 2016"
   ]
  },
  {
   "cell_type": "code",
   "execution_count": 36,
   "id": "3eee04a3",
   "metadata": {
    "ExecuteTime": {
     "end_time": "2021-11-08T09:29:28.732977Z",
     "start_time": "2021-11-08T09:29:28.711343Z"
    },
    "cell_id": "00046-95334a95-2f39-4166-8765-b9a863d1f2a8",
    "deepnote_app_coordinates": {
     "h": 5,
     "w": 12,
     "x": 0,
     "y": 270
    },
    "deepnote_cell_type": "code",
    "deepnote_to_be_reexecuted": false,
    "execution_millis": 19,
    "execution_start": 1636360295427,
    "source_hash": "aa032689"
   },
   "outputs": [],
   "source": [
    "data_2016.to_csv(\"../Road Accident Project/Data/2016.csv\", index = False, header = True)\n"
   ]
  },
  {
   "cell_type": "markdown",
   "id": "a597b0a1",
   "metadata": {
    "cell_id": "00056-6fa4f5c9-8ee2-4081-816d-06e242c80ce3",
    "deepnote_app_coordinates": {
     "h": 5,
     "w": 12,
     "x": 0,
     "y": 819
    },
    "deepnote_cell_type": "markdown",
    "tags": []
   },
   "source": [
    "#### Data for 2017\n",
    "- Some changes made, not identical with base file (2009)"
   ]
  },
  {
   "cell_type": "code",
   "execution_count": 37,
   "id": "291a8fd9",
   "metadata": {
    "ExecuteTime": {
     "end_time": "2021-11-08T09:29:39.671099Z",
     "start_time": "2021-11-08T09:29:39.649674Z"
    },
    "cell_id": "00047-ccbf27ea-5470-43cb-909e-780894155be0",
    "deepnote_app_coordinates": {
     "h": 5,
     "w": 12,
     "x": 0,
     "y": 276
    },
    "deepnote_cell_type": "code",
    "deepnote_to_be_reexecuted": true,
    "execution_millis": 68,
    "execution_start": 1636221346920,
    "source_hash": "4b8881af"
   },
   "outputs": [
    {
     "data": {
      "text/html": [
       "<div>\n",
       "<style scoped>\n",
       "    .dataframe tbody tr th:only-of-type {\n",
       "        vertical-align: middle;\n",
       "    }\n",
       "\n",
       "    .dataframe tbody tr th {\n",
       "        vertical-align: top;\n",
       "    }\n",
       "\n",
       "    .dataframe thead th {\n",
       "        text-align: right;\n",
       "    }\n",
       "</style>\n",
       "<table border=\"1\" class=\"dataframe\">\n",
       "  <thead>\n",
       "    <tr style=\"text-align: right;\">\n",
       "      <th></th>\n",
       "      <th>Reference Number</th>\n",
       "      <th>Easting</th>\n",
       "      <th>Northing</th>\n",
       "      <th>Number of Vehicles</th>\n",
       "      <th>Accident Date</th>\n",
       "      <th>Time (24hr)</th>\n",
       "      <th>1st Road Class</th>\n",
       "      <th>Road Surface</th>\n",
       "      <th>Lighting Conditions</th>\n",
       "      <th>Weather Conditions</th>\n",
       "      <th>Type of Vehicle</th>\n",
       "      <th>Casualty Class</th>\n",
       "      <th>Casualty Severity</th>\n",
       "      <th>Sex of Casualty</th>\n",
       "      <th>Age of Casualty</th>\n",
       "    </tr>\n",
       "  </thead>\n",
       "  <tbody>\n",
       "    <tr>\n",
       "      <th>0</th>\n",
       "      <td>3AP0313</td>\n",
       "      <td>426340</td>\n",
       "      <td>428455</td>\n",
       "      <td>1</td>\n",
       "      <td>3/17/2017</td>\n",
       "      <td>815</td>\n",
       "      <td>A643</td>\n",
       "      <td>Dry</td>\n",
       "      <td>Daylight: Street lights present</td>\n",
       "      <td>Other</td>\n",
       "      <td>Car</td>\n",
       "      <td>Pedestrian</td>\n",
       "      <td>Serious</td>\n",
       "      <td>Female</td>\n",
       "      <td>61</td>\n",
       "    </tr>\n",
       "    <tr>\n",
       "      <th>1</th>\n",
       "      <td>3BE0850</td>\n",
       "      <td>430828</td>\n",
       "      <td>433222</td>\n",
       "      <td>2</td>\n",
       "      <td>1/14/2017</td>\n",
       "      <td>1330</td>\n",
       "      <td>A61</td>\n",
       "      <td>Dry</td>\n",
       "      <td>Daylight: Street lights present</td>\n",
       "      <td>Fine without high winds</td>\n",
       "      <td>Pedal cycle</td>\n",
       "      <td>Driver or rider</td>\n",
       "      <td>Slight</td>\n",
       "      <td>Male</td>\n",
       "      <td>36</td>\n",
       "    </tr>\n",
       "    <tr>\n",
       "      <th>2</th>\n",
       "      <td>4110858</td>\n",
       "      <td>428940</td>\n",
       "      <td>429856</td>\n",
       "      <td>2</td>\n",
       "      <td>1/1/2017</td>\n",
       "      <td>805</td>\n",
       "      <td>A653</td>\n",
       "      <td>Wet/Damp</td>\n",
       "      <td>Daylight: Street lights present</td>\n",
       "      <td>Fine without high winds</td>\n",
       "      <td>Car</td>\n",
       "      <td>Driver or rider</td>\n",
       "      <td>Slight</td>\n",
       "      <td>Male</td>\n",
       "      <td>32</td>\n",
       "    </tr>\n",
       "    <tr>\n",
       "      <th>3</th>\n",
       "      <td>4110858</td>\n",
       "      <td>428940</td>\n",
       "      <td>429856</td>\n",
       "      <td>2</td>\n",
       "      <td>1/1/2017</td>\n",
       "      <td>805</td>\n",
       "      <td>A653</td>\n",
       "      <td>Wet/Damp</td>\n",
       "      <td>Daylight: Street lights present</td>\n",
       "      <td>Fine without high winds</td>\n",
       "      <td>Car</td>\n",
       "      <td>Driver or rider</td>\n",
       "      <td>Slight</td>\n",
       "      <td>Male</td>\n",
       "      <td>30</td>\n",
       "    </tr>\n",
       "    <tr>\n",
       "      <th>4</th>\n",
       "      <td>4111495</td>\n",
       "      <td>429899</td>\n",
       "      <td>434277</td>\n",
       "      <td>2</td>\n",
       "      <td>1/1/2017</td>\n",
       "      <td>1705</td>\n",
       "      <td>U</td>\n",
       "      <td>Wet/Damp</td>\n",
       "      <td>Darkness: Street lights present and lit</td>\n",
       "      <td>Raining without high winds</td>\n",
       "      <td>Car</td>\n",
       "      <td>Vehicle or pillion passenger</td>\n",
       "      <td>Slight</td>\n",
       "      <td>Female</td>\n",
       "      <td>26</td>\n",
       "    </tr>\n",
       "  </tbody>\n",
       "</table>\n",
       "</div>"
      ],
      "text/plain": [
       "  Reference Number  Easting  Northing  Number of Vehicles Accident Date  \\\n",
       "0          3AP0313   426340    428455                   1     3/17/2017   \n",
       "1          3BE0850   430828    433222                   2     1/14/2017   \n",
       "2          4110858   428940    429856                   2      1/1/2017   \n",
       "3          4110858   428940    429856                   2      1/1/2017   \n",
       "4          4111495   429899    434277                   2      1/1/2017   \n",
       "\n",
       "   Time (24hr) 1st Road Class Road Surface  \\\n",
       "0          815           A643          Dry   \n",
       "1         1330            A61          Dry   \n",
       "2          805           A653     Wet/Damp   \n",
       "3          805           A653     Wet/Damp   \n",
       "4         1705              U     Wet/Damp   \n",
       "\n",
       "                       Lighting Conditions          Weather Conditions  \\\n",
       "0          Daylight: Street lights present                       Other   \n",
       "1          Daylight: Street lights present     Fine without high winds   \n",
       "2          Daylight: Street lights present     Fine without high winds   \n",
       "3          Daylight: Street lights present     Fine without high winds   \n",
       "4  Darkness: Street lights present and lit  Raining without high winds   \n",
       "\n",
       "  Type of Vehicle                Casualty Class Casualty Severity  \\\n",
       "0             Car                    Pedestrian           Serious   \n",
       "1     Pedal cycle               Driver or rider            Slight   \n",
       "2             Car               Driver or rider            Slight   \n",
       "3             Car               Driver or rider            Slight   \n",
       "4             Car  Vehicle or pillion passenger            Slight   \n",
       "\n",
       "  Sex of Casualty  Age of Casualty  \n",
       "0          Female               61  \n",
       "1            Male               36  \n",
       "2            Male               32  \n",
       "3            Male               30  \n",
       "4          Female               26  "
      ]
     },
     "execution_count": 37,
     "metadata": {},
     "output_type": "execute_result"
    }
   ],
   "source": [
    "data_2017 = pd.read_csv(\"../Road Accident Project/Data/2017.csv\",encoding='cp1252')\n",
    "data_2017.head()"
   ]
  },
  {
   "cell_type": "markdown",
   "id": "1485298b",
   "metadata": {
    "cell_id": "00048-74ed25d0-3f57-4817-8173-22545ed339ae",
    "deepnote_app_coordinates": {
     "h": 5,
     "w": 12,
     "x": 0,
     "y": 282
    },
    "deepnote_cell_type": "markdown"
   },
   "source": [
    "##### Unbalanced column names renaming in data_2017\n",
    "- Grid Ref: Easting -> Easting\n",
    "- Grid Ref: Northing ->Northing"
   ]
  },
  {
   "cell_type": "code",
   "execution_count": 38,
   "id": "5efc371a",
   "metadata": {
    "ExecuteTime": {
     "end_time": "2021-11-08T09:29:42.891795Z",
     "start_time": "2021-11-08T09:29:42.888117Z"
    },
    "cell_id": "00049-5f0050e4-53ef-49d9-8a74-8a497986fea1",
    "deepnote_app_coordinates": {
     "h": 5,
     "w": 12,
     "x": 0,
     "y": 288
    },
    "deepnote_cell_type": "code",
    "deepnote_to_be_reexecuted": true,
    "execution_millis": 8,
    "execution_start": 1636221352024,
    "source_hash": "7cf64a11"
   },
   "outputs": [],
   "source": [
    "data_2017=data_2017.rename({'Grid Ref: Easting':'Easting','Grid Ref: Northing':'Northing','1st Road Class & No':'1st Road Class'},axis=1)"
   ]
  },
  {
   "cell_type": "markdown",
   "id": "0391ba1f",
   "metadata": {
    "cell_id": "00050-8057f5ae-4c24-4637-bdcc-55463a28ff2e",
    "deepnote_app_coordinates": {
     "h": 5,
     "w": 12,
     "x": 0,
     "y": 294
    },
    "deepnote_cell_type": "markdown"
   },
   "source": [
    "##### Saving changes back to csvfile 2017"
   ]
  },
  {
   "cell_type": "code",
   "execution_count": 39,
   "id": "0cd74fc0",
   "metadata": {
    "ExecuteTime": {
     "end_time": "2021-11-08T09:29:54.168493Z",
     "start_time": "2021-11-08T09:29:54.140948Z"
    },
    "cell_id": "00051-b2ae253a-0d71-4103-9f2a-98b902ca5c28",
    "deepnote_app_coordinates": {
     "h": 5,
     "w": 12,
     "x": 0,
     "y": 300
    },
    "deepnote_cell_type": "code",
    "deepnote_to_be_reexecuted": true,
    "execution_millis": 70,
    "execution_start": 1636221354335,
    "scrolled": true,
    "source_hash": "ac890eac"
   },
   "outputs": [
    {
     "data": {
      "text/html": [
       "<div>\n",
       "<style scoped>\n",
       "    .dataframe tbody tr th:only-of-type {\n",
       "        vertical-align: middle;\n",
       "    }\n",
       "\n",
       "    .dataframe tbody tr th {\n",
       "        vertical-align: top;\n",
       "    }\n",
       "\n",
       "    .dataframe thead th {\n",
       "        text-align: right;\n",
       "    }\n",
       "</style>\n",
       "<table border=\"1\" class=\"dataframe\">\n",
       "  <thead>\n",
       "    <tr style=\"text-align: right;\">\n",
       "      <th></th>\n",
       "      <th>Reference Number</th>\n",
       "      <th>Easting</th>\n",
       "      <th>Northing</th>\n",
       "      <th>Number of Vehicles</th>\n",
       "      <th>Accident Date</th>\n",
       "      <th>Time (24hr)</th>\n",
       "      <th>1st Road Class</th>\n",
       "      <th>Road Surface</th>\n",
       "      <th>Lighting Conditions</th>\n",
       "      <th>Weather Conditions</th>\n",
       "      <th>Type of Vehicle</th>\n",
       "      <th>Casualty Class</th>\n",
       "      <th>Casualty Severity</th>\n",
       "      <th>Sex of Casualty</th>\n",
       "      <th>Age of Casualty</th>\n",
       "    </tr>\n",
       "  </thead>\n",
       "  <tbody>\n",
       "    <tr>\n",
       "      <th>0</th>\n",
       "      <td>3AP0313</td>\n",
       "      <td>426340</td>\n",
       "      <td>428455</td>\n",
       "      <td>1</td>\n",
       "      <td>3/17/2017</td>\n",
       "      <td>815</td>\n",
       "      <td>A643</td>\n",
       "      <td>Dry</td>\n",
       "      <td>Daylight: Street lights present</td>\n",
       "      <td>Other</td>\n",
       "      <td>Car</td>\n",
       "      <td>Pedestrian</td>\n",
       "      <td>Serious</td>\n",
       "      <td>Female</td>\n",
       "      <td>61</td>\n",
       "    </tr>\n",
       "    <tr>\n",
       "      <th>1</th>\n",
       "      <td>3BE0850</td>\n",
       "      <td>430828</td>\n",
       "      <td>433222</td>\n",
       "      <td>2</td>\n",
       "      <td>1/14/2017</td>\n",
       "      <td>1330</td>\n",
       "      <td>A61</td>\n",
       "      <td>Dry</td>\n",
       "      <td>Daylight: Street lights present</td>\n",
       "      <td>Fine without high winds</td>\n",
       "      <td>Pedal cycle</td>\n",
       "      <td>Driver or rider</td>\n",
       "      <td>Slight</td>\n",
       "      <td>Male</td>\n",
       "      <td>36</td>\n",
       "    </tr>\n",
       "    <tr>\n",
       "      <th>2</th>\n",
       "      <td>4110858</td>\n",
       "      <td>428940</td>\n",
       "      <td>429856</td>\n",
       "      <td>2</td>\n",
       "      <td>1/1/2017</td>\n",
       "      <td>805</td>\n",
       "      <td>A653</td>\n",
       "      <td>Wet/Damp</td>\n",
       "      <td>Daylight: Street lights present</td>\n",
       "      <td>Fine without high winds</td>\n",
       "      <td>Car</td>\n",
       "      <td>Driver or rider</td>\n",
       "      <td>Slight</td>\n",
       "      <td>Male</td>\n",
       "      <td>32</td>\n",
       "    </tr>\n",
       "    <tr>\n",
       "      <th>3</th>\n",
       "      <td>4110858</td>\n",
       "      <td>428940</td>\n",
       "      <td>429856</td>\n",
       "      <td>2</td>\n",
       "      <td>1/1/2017</td>\n",
       "      <td>805</td>\n",
       "      <td>A653</td>\n",
       "      <td>Wet/Damp</td>\n",
       "      <td>Daylight: Street lights present</td>\n",
       "      <td>Fine without high winds</td>\n",
       "      <td>Car</td>\n",
       "      <td>Driver or rider</td>\n",
       "      <td>Slight</td>\n",
       "      <td>Male</td>\n",
       "      <td>30</td>\n",
       "    </tr>\n",
       "    <tr>\n",
       "      <th>4</th>\n",
       "      <td>4111495</td>\n",
       "      <td>429899</td>\n",
       "      <td>434277</td>\n",
       "      <td>2</td>\n",
       "      <td>1/1/2017</td>\n",
       "      <td>1705</td>\n",
       "      <td>U</td>\n",
       "      <td>Wet/Damp</td>\n",
       "      <td>Darkness: Street lights present and lit</td>\n",
       "      <td>Raining without high winds</td>\n",
       "      <td>Car</td>\n",
       "      <td>Vehicle or pillion passenger</td>\n",
       "      <td>Slight</td>\n",
       "      <td>Female</td>\n",
       "      <td>26</td>\n",
       "    </tr>\n",
       "  </tbody>\n",
       "</table>\n",
       "</div>"
      ],
      "text/plain": [
       "  Reference Number  Easting  Northing  Number of Vehicles Accident Date  \\\n",
       "0          3AP0313   426340    428455                   1     3/17/2017   \n",
       "1          3BE0850   430828    433222                   2     1/14/2017   \n",
       "2          4110858   428940    429856                   2      1/1/2017   \n",
       "3          4110858   428940    429856                   2      1/1/2017   \n",
       "4          4111495   429899    434277                   2      1/1/2017   \n",
       "\n",
       "   Time (24hr) 1st Road Class Road Surface  \\\n",
       "0          815           A643          Dry   \n",
       "1         1330            A61          Dry   \n",
       "2          805           A653     Wet/Damp   \n",
       "3          805           A653     Wet/Damp   \n",
       "4         1705              U     Wet/Damp   \n",
       "\n",
       "                       Lighting Conditions          Weather Conditions  \\\n",
       "0          Daylight: Street lights present                       Other   \n",
       "1          Daylight: Street lights present     Fine without high winds   \n",
       "2          Daylight: Street lights present     Fine without high winds   \n",
       "3          Daylight: Street lights present     Fine without high winds   \n",
       "4  Darkness: Street lights present and lit  Raining without high winds   \n",
       "\n",
       "  Type of Vehicle                Casualty Class Casualty Severity  \\\n",
       "0             Car                    Pedestrian           Serious   \n",
       "1     Pedal cycle               Driver or rider            Slight   \n",
       "2             Car               Driver or rider            Slight   \n",
       "3             Car               Driver or rider            Slight   \n",
       "4             Car  Vehicle or pillion passenger            Slight   \n",
       "\n",
       "  Sex of Casualty  Age of Casualty  \n",
       "0          Female               61  \n",
       "1            Male               36  \n",
       "2            Male               32  \n",
       "3            Male               30  \n",
       "4          Female               26  "
      ]
     },
     "execution_count": 39,
     "metadata": {},
     "output_type": "execute_result"
    }
   ],
   "source": [
    "data_2017.to_csv(\"../Road Accident Project/Data/2017.csv\",index = False, header = True)\n",
    "data_2017.head()\n"
   ]
  },
  {
   "cell_type": "markdown",
   "id": "bcb028d3",
   "metadata": {
    "cell_id": "00062-dc515b09-9152-46c5-b6dc-ae0e712c42be",
    "deepnote_app_coordinates": {
     "h": 5,
     "w": 12,
     "x": 0,
     "y": 825
    },
    "deepnote_cell_type": "markdown",
    "tags": []
   },
   "source": [
    "#### Data for 2018\n",
    "- Some changes made, not identical with base file (2009)"
   ]
  },
  {
   "cell_type": "code",
   "execution_count": 40,
   "id": "f823f031",
   "metadata": {
    "ExecuteTime": {
     "end_time": "2021-11-08T09:30:02.519866Z",
     "start_time": "2021-11-08T09:30:02.502786Z"
    },
    "cell_id": "00052-12a25c03-8a1a-454b-95b6-af14dc6d9b66",
    "deepnote_app_coordinates": {
     "h": 5,
     "w": 12,
     "x": 0,
     "y": 306
    },
    "deepnote_cell_type": "code",
    "deepnote_to_be_reexecuted": true,
    "execution_millis": 69,
    "execution_start": 1636221360362,
    "run_control": {
     "marked": true
    },
    "source_hash": "970e712a"
   },
   "outputs": [
    {
     "data": {
      "text/html": [
       "<div>\n",
       "<style scoped>\n",
       "    .dataframe tbody tr th:only-of-type {\n",
       "        vertical-align: middle;\n",
       "    }\n",
       "\n",
       "    .dataframe tbody tr th {\n",
       "        vertical-align: top;\n",
       "    }\n",
       "\n",
       "    .dataframe thead th {\n",
       "        text-align: right;\n",
       "    }\n",
       "</style>\n",
       "<table border=\"1\" class=\"dataframe\">\n",
       "  <thead>\n",
       "    <tr style=\"text-align: right;\">\n",
       "      <th></th>\n",
       "      <th>Reference Number</th>\n",
       "      <th>Easting</th>\n",
       "      <th>Northing</th>\n",
       "      <th>Number of Vehicles</th>\n",
       "      <th>Accident Date</th>\n",
       "      <th>Time (24hr)</th>\n",
       "      <th>1st Road Class</th>\n",
       "      <th>Road Surface</th>\n",
       "      <th>Lighting Conditions</th>\n",
       "      <th>Weather Conditions</th>\n",
       "      <th>Type of Vehicle</th>\n",
       "      <th>Casualty Class</th>\n",
       "      <th>Casualty Severity</th>\n",
       "      <th>Sex of Casualty</th>\n",
       "      <th>Age of Casualty</th>\n",
       "    </tr>\n",
       "  </thead>\n",
       "  <tbody>\n",
       "    <tr>\n",
       "      <th>0</th>\n",
       "      <td>51B0230</td>\n",
       "      <td>433936</td>\n",
       "      <td>428874</td>\n",
       "      <td>1</td>\n",
       "      <td>11/01/2018</td>\n",
       "      <td>700</td>\n",
       "      <td>U</td>\n",
       "      <td>1</td>\n",
       "      <td>4</td>\n",
       "      <td>1</td>\n",
       "      <td>9</td>\n",
       "      <td>3</td>\n",
       "      <td>3</td>\n",
       "      <td>2</td>\n",
       "      <td>87</td>\n",
       "    </tr>\n",
       "    <tr>\n",
       "      <th>1</th>\n",
       "      <td>51B0349</td>\n",
       "      <td>430076</td>\n",
       "      <td>433872</td>\n",
       "      <td>1</td>\n",
       "      <td>11/01/2018</td>\n",
       "      <td>855</td>\n",
       "      <td>U</td>\n",
       "      <td>2</td>\n",
       "      <td>1</td>\n",
       "      <td>1</td>\n",
       "      <td>11</td>\n",
       "      <td>2</td>\n",
       "      <td>3</td>\n",
       "      <td>2</td>\n",
       "      <td>60</td>\n",
       "    </tr>\n",
       "    <tr>\n",
       "      <th>2</th>\n",
       "      <td>51B0349</td>\n",
       "      <td>430076</td>\n",
       "      <td>433872</td>\n",
       "      <td>1</td>\n",
       "      <td>11/01/2018</td>\n",
       "      <td>855</td>\n",
       "      <td>U</td>\n",
       "      <td>2</td>\n",
       "      <td>1</td>\n",
       "      <td>1</td>\n",
       "      <td>11</td>\n",
       "      <td>2</td>\n",
       "      <td>3</td>\n",
       "      <td>2</td>\n",
       "      <td>51</td>\n",
       "    </tr>\n",
       "    <tr>\n",
       "      <th>3</th>\n",
       "      <td>51B0349</td>\n",
       "      <td>430076</td>\n",
       "      <td>433872</td>\n",
       "      <td>1</td>\n",
       "      <td>11/01/2018</td>\n",
       "      <td>855</td>\n",
       "      <td>U</td>\n",
       "      <td>2</td>\n",
       "      <td>1</td>\n",
       "      <td>1</td>\n",
       "      <td>11</td>\n",
       "      <td>2</td>\n",
       "      <td>3</td>\n",
       "      <td>2</td>\n",
       "      <td>50</td>\n",
       "    </tr>\n",
       "    <tr>\n",
       "      <th>4</th>\n",
       "      <td>51B0349</td>\n",
       "      <td>430076</td>\n",
       "      <td>433872</td>\n",
       "      <td>1</td>\n",
       "      <td>11/01/2018</td>\n",
       "      <td>855</td>\n",
       "      <td>U</td>\n",
       "      <td>2</td>\n",
       "      <td>1</td>\n",
       "      <td>1</td>\n",
       "      <td>11</td>\n",
       "      <td>2</td>\n",
       "      <td>3</td>\n",
       "      <td>2</td>\n",
       "      <td>51</td>\n",
       "    </tr>\n",
       "  </tbody>\n",
       "</table>\n",
       "</div>"
      ],
      "text/plain": [
       "  Reference Number  Easting  Northing  Number of Vehicles Accident Date  \\\n",
       "0          51B0230   433936    428874                   1    11/01/2018   \n",
       "1          51B0349   430076    433872                   1    11/01/2018   \n",
       "2          51B0349   430076    433872                   1    11/01/2018   \n",
       "3          51B0349   430076    433872                   1    11/01/2018   \n",
       "4          51B0349   430076    433872                   1    11/01/2018   \n",
       "\n",
       "   Time (24hr) 1st Road Class  Road Surface  Lighting Conditions  \\\n",
       "0          700              U             1                    4   \n",
       "1          855              U             2                    1   \n",
       "2          855              U             2                    1   \n",
       "3          855              U             2                    1   \n",
       "4          855              U             2                    1   \n",
       "\n",
       "   Weather Conditions  Type of Vehicle  Casualty Class  Casualty Severity  \\\n",
       "0                   1                9               3                  3   \n",
       "1                   1               11               2                  3   \n",
       "2                   1               11               2                  3   \n",
       "3                   1               11               2                  3   \n",
       "4                   1               11               2                  3   \n",
       "\n",
       "   Sex of Casualty  Age of Casualty  \n",
       "0                2               87  \n",
       "1                2               60  \n",
       "2                2               51  \n",
       "3                2               50  \n",
       "4                2               51  "
      ]
     },
     "execution_count": 40,
     "metadata": {},
     "output_type": "execute_result"
    }
   ],
   "source": [
    "data_2018 = pd.read_csv(\"../Road Accident Project/Data/2018.csv\",encoding='cp1252')\n",
    "data_2018.head()\n",
    "\n"
   ]
  },
  {
   "cell_type": "markdown",
   "id": "53cf01d0",
   "metadata": {
    "cell_id": "00053-65e6a2ea-cb6a-43dc-810c-c73900adc6da",
    "deepnote_app_coordinates": {
     "h": 5,
     "w": 12,
     "x": 0,
     "y": 312
    },
    "deepnote_cell_type": "markdown"
   },
   "source": [
    "#####  Deletion of columns from data_2018 \n",
    "The following columns are dropped to avoid discrepencies : \n",
    "- 1st Road Class,Local Authority\n",
    "- Vehicle Fields_Reference Number\n",
    "- Vehicle Number,Casualty Fields_Reference Number\n",
    "- Casualty Veh No"
   ]
  },
  {
   "cell_type": "code",
   "execution_count": 41,
   "id": "e79112ad",
   "metadata": {
    "ExecuteTime": {
     "end_time": "2021-11-08T09:30:06.522041Z",
     "start_time": "2021-11-08T09:30:06.509458Z"
    },
    "cell_id": "00054-983cd72f-a352-44b7-881c-733e7102083c",
    "deepnote_app_coordinates": {
     "h": 5,
     "w": 12,
     "x": 0,
     "y": 318
    },
    "deepnote_cell_type": "code",
    "deepnote_to_be_reexecuted": true,
    "execution_millis": 22,
    "execution_start": 1636221364959,
    "source_hash": "f26969a3"
   },
   "outputs": [
    {
     "ename": "KeyError",
     "evalue": "\"['Local Authority' 'Vehicle Fields_Reference Number' 'Vehicle Number'\\n 'Casualty Fields_Reference Number' 'Casualty Veh No'] not found in axis\"",
     "output_type": "error",
     "traceback": [
      "\u001b[0;31m---------------------------------------------------------------------------\u001b[0m",
      "\u001b[0;31mKeyError\u001b[0m                                  Traceback (most recent call last)",
      "\u001b[0;32m/tmp/ipykernel_268/1652180710.py\u001b[0m in \u001b[0;36m<module>\u001b[0;34m\u001b[0m\n\u001b[0;32m----> 1\u001b[0;31m \u001b[0mdata_2018\u001b[0m\u001b[0;34m=\u001b[0m\u001b[0mdata_2018\u001b[0m\u001b[0;34m.\u001b[0m\u001b[0mdrop\u001b[0m\u001b[0;34m(\u001b[0m\u001b[0;34m[\u001b[0m\u001b[0;34m\"1st Road Class\"\u001b[0m\u001b[0;34m,\u001b[0m\u001b[0;34m\"Local Authority\"\u001b[0m\u001b[0;34m,\u001b[0m\u001b[0;34m\"Vehicle Fields_Reference Number\"\u001b[0m\u001b[0;34m,\u001b[0m\u001b[0;34m\"Vehicle Number\"\u001b[0m\u001b[0;34m,\u001b[0m\u001b[0;34m\"Casualty Fields_Reference Number\"\u001b[0m\u001b[0;34m,\u001b[0m\u001b[0;34m\"Casualty Veh No\"\u001b[0m\u001b[0;34m]\u001b[0m\u001b[0;34m,\u001b[0m \u001b[0maxis\u001b[0m\u001b[0;34m=\u001b[0m\u001b[0;36m1\u001b[0m\u001b[0;34m)\u001b[0m\u001b[0;34m\u001b[0m\u001b[0;34m\u001b[0m\u001b[0m\n\u001b[0m",
      "\u001b[0;32m~/miniconda3/lib/python3.9/site-packages/pandas/util/_decorators.py\u001b[0m in \u001b[0;36mwrapper\u001b[0;34m(*args, **kwargs)\u001b[0m\n\u001b[1;32m    309\u001b[0m                     \u001b[0mstacklevel\u001b[0m\u001b[0;34m=\u001b[0m\u001b[0mstacklevel\u001b[0m\u001b[0;34m,\u001b[0m\u001b[0;34m\u001b[0m\u001b[0;34m\u001b[0m\u001b[0m\n\u001b[1;32m    310\u001b[0m                 )\n\u001b[0;32m--> 311\u001b[0;31m             \u001b[0;32mreturn\u001b[0m \u001b[0mfunc\u001b[0m\u001b[0;34m(\u001b[0m\u001b[0;34m*\u001b[0m\u001b[0margs\u001b[0m\u001b[0;34m,\u001b[0m \u001b[0;34m**\u001b[0m\u001b[0mkwargs\u001b[0m\u001b[0;34m)\u001b[0m\u001b[0;34m\u001b[0m\u001b[0;34m\u001b[0m\u001b[0m\n\u001b[0m\u001b[1;32m    312\u001b[0m \u001b[0;34m\u001b[0m\u001b[0m\n\u001b[1;32m    313\u001b[0m         \u001b[0;32mreturn\u001b[0m \u001b[0mwrapper\u001b[0m\u001b[0;34m\u001b[0m\u001b[0;34m\u001b[0m\u001b[0m\n",
      "\u001b[0;32m~/miniconda3/lib/python3.9/site-packages/pandas/core/frame.py\u001b[0m in \u001b[0;36mdrop\u001b[0;34m(self, labels, axis, index, columns, level, inplace, errors)\u001b[0m\n\u001b[1;32m   4904\u001b[0m                 \u001b[0mweight\u001b[0m  \u001b[0;36m1.0\u001b[0m     \u001b[0;36m0.8\u001b[0m\u001b[0;34m\u001b[0m\u001b[0;34m\u001b[0m\u001b[0m\n\u001b[1;32m   4905\u001b[0m         \"\"\"\n\u001b[0;32m-> 4906\u001b[0;31m         return super().drop(\n\u001b[0m\u001b[1;32m   4907\u001b[0m             \u001b[0mlabels\u001b[0m\u001b[0;34m=\u001b[0m\u001b[0mlabels\u001b[0m\u001b[0;34m,\u001b[0m\u001b[0;34m\u001b[0m\u001b[0;34m\u001b[0m\u001b[0m\n\u001b[1;32m   4908\u001b[0m             \u001b[0maxis\u001b[0m\u001b[0;34m=\u001b[0m\u001b[0maxis\u001b[0m\u001b[0;34m,\u001b[0m\u001b[0;34m\u001b[0m\u001b[0;34m\u001b[0m\u001b[0m\n",
      "\u001b[0;32m~/miniconda3/lib/python3.9/site-packages/pandas/core/generic.py\u001b[0m in \u001b[0;36mdrop\u001b[0;34m(self, labels, axis, index, columns, level, inplace, errors)\u001b[0m\n\u001b[1;32m   4148\u001b[0m         \u001b[0;32mfor\u001b[0m \u001b[0maxis\u001b[0m\u001b[0;34m,\u001b[0m \u001b[0mlabels\u001b[0m \u001b[0;32min\u001b[0m \u001b[0maxes\u001b[0m\u001b[0;34m.\u001b[0m\u001b[0mitems\u001b[0m\u001b[0;34m(\u001b[0m\u001b[0;34m)\u001b[0m\u001b[0;34m:\u001b[0m\u001b[0;34m\u001b[0m\u001b[0;34m\u001b[0m\u001b[0m\n\u001b[1;32m   4149\u001b[0m             \u001b[0;32mif\u001b[0m \u001b[0mlabels\u001b[0m \u001b[0;32mis\u001b[0m \u001b[0;32mnot\u001b[0m \u001b[0;32mNone\u001b[0m\u001b[0;34m:\u001b[0m\u001b[0;34m\u001b[0m\u001b[0;34m\u001b[0m\u001b[0m\n\u001b[0;32m-> 4150\u001b[0;31m                 \u001b[0mobj\u001b[0m \u001b[0;34m=\u001b[0m \u001b[0mobj\u001b[0m\u001b[0;34m.\u001b[0m\u001b[0m_drop_axis\u001b[0m\u001b[0;34m(\u001b[0m\u001b[0mlabels\u001b[0m\u001b[0;34m,\u001b[0m \u001b[0maxis\u001b[0m\u001b[0;34m,\u001b[0m \u001b[0mlevel\u001b[0m\u001b[0;34m=\u001b[0m\u001b[0mlevel\u001b[0m\u001b[0;34m,\u001b[0m \u001b[0merrors\u001b[0m\u001b[0;34m=\u001b[0m\u001b[0merrors\u001b[0m\u001b[0;34m)\u001b[0m\u001b[0;34m\u001b[0m\u001b[0;34m\u001b[0m\u001b[0m\n\u001b[0m\u001b[1;32m   4151\u001b[0m \u001b[0;34m\u001b[0m\u001b[0m\n\u001b[1;32m   4152\u001b[0m         \u001b[0;32mif\u001b[0m \u001b[0minplace\u001b[0m\u001b[0;34m:\u001b[0m\u001b[0;34m\u001b[0m\u001b[0;34m\u001b[0m\u001b[0m\n",
      "\u001b[0;32m~/miniconda3/lib/python3.9/site-packages/pandas/core/generic.py\u001b[0m in \u001b[0;36m_drop_axis\u001b[0;34m(self, labels, axis, level, errors)\u001b[0m\n\u001b[1;32m   4183\u001b[0m                 \u001b[0mnew_axis\u001b[0m \u001b[0;34m=\u001b[0m \u001b[0maxis\u001b[0m\u001b[0;34m.\u001b[0m\u001b[0mdrop\u001b[0m\u001b[0;34m(\u001b[0m\u001b[0mlabels\u001b[0m\u001b[0;34m,\u001b[0m \u001b[0mlevel\u001b[0m\u001b[0;34m=\u001b[0m\u001b[0mlevel\u001b[0m\u001b[0;34m,\u001b[0m \u001b[0merrors\u001b[0m\u001b[0;34m=\u001b[0m\u001b[0merrors\u001b[0m\u001b[0;34m)\u001b[0m\u001b[0;34m\u001b[0m\u001b[0;34m\u001b[0m\u001b[0m\n\u001b[1;32m   4184\u001b[0m             \u001b[0;32melse\u001b[0m\u001b[0;34m:\u001b[0m\u001b[0;34m\u001b[0m\u001b[0;34m\u001b[0m\u001b[0m\n\u001b[0;32m-> 4185\u001b[0;31m                 \u001b[0mnew_axis\u001b[0m \u001b[0;34m=\u001b[0m \u001b[0maxis\u001b[0m\u001b[0;34m.\u001b[0m\u001b[0mdrop\u001b[0m\u001b[0;34m(\u001b[0m\u001b[0mlabels\u001b[0m\u001b[0;34m,\u001b[0m \u001b[0merrors\u001b[0m\u001b[0;34m=\u001b[0m\u001b[0merrors\u001b[0m\u001b[0;34m)\u001b[0m\u001b[0;34m\u001b[0m\u001b[0;34m\u001b[0m\u001b[0m\n\u001b[0m\u001b[1;32m   4186\u001b[0m             \u001b[0mresult\u001b[0m \u001b[0;34m=\u001b[0m \u001b[0mself\u001b[0m\u001b[0;34m.\u001b[0m\u001b[0mreindex\u001b[0m\u001b[0;34m(\u001b[0m\u001b[0;34m**\u001b[0m\u001b[0;34m{\u001b[0m\u001b[0maxis_name\u001b[0m\u001b[0;34m:\u001b[0m \u001b[0mnew_axis\u001b[0m\u001b[0;34m}\u001b[0m\u001b[0;34m)\u001b[0m\u001b[0;34m\u001b[0m\u001b[0;34m\u001b[0m\u001b[0m\n\u001b[1;32m   4187\u001b[0m \u001b[0;34m\u001b[0m\u001b[0m\n",
      "\u001b[0;32m~/miniconda3/lib/python3.9/site-packages/pandas/core/indexes/base.py\u001b[0m in \u001b[0;36mdrop\u001b[0;34m(self, labels, errors)\u001b[0m\n\u001b[1;32m   6015\u001b[0m         \u001b[0;32mif\u001b[0m \u001b[0mmask\u001b[0m\u001b[0;34m.\u001b[0m\u001b[0many\u001b[0m\u001b[0;34m(\u001b[0m\u001b[0;34m)\u001b[0m\u001b[0;34m:\u001b[0m\u001b[0;34m\u001b[0m\u001b[0;34m\u001b[0m\u001b[0m\n\u001b[1;32m   6016\u001b[0m             \u001b[0;32mif\u001b[0m \u001b[0merrors\u001b[0m \u001b[0;34m!=\u001b[0m \u001b[0;34m\"ignore\"\u001b[0m\u001b[0;34m:\u001b[0m\u001b[0;34m\u001b[0m\u001b[0;34m\u001b[0m\u001b[0m\n\u001b[0;32m-> 6017\u001b[0;31m                 \u001b[0;32mraise\u001b[0m \u001b[0mKeyError\u001b[0m\u001b[0;34m(\u001b[0m\u001b[0;34mf\"{labels[mask]} not found in axis\"\u001b[0m\u001b[0;34m)\u001b[0m\u001b[0;34m\u001b[0m\u001b[0;34m\u001b[0m\u001b[0m\n\u001b[0m\u001b[1;32m   6018\u001b[0m             \u001b[0mindexer\u001b[0m \u001b[0;34m=\u001b[0m \u001b[0mindexer\u001b[0m\u001b[0;34m[\u001b[0m\u001b[0;34m~\u001b[0m\u001b[0mmask\u001b[0m\u001b[0;34m]\u001b[0m\u001b[0;34m\u001b[0m\u001b[0;34m\u001b[0m\u001b[0m\n\u001b[1;32m   6019\u001b[0m         \u001b[0;32mreturn\u001b[0m \u001b[0mself\u001b[0m\u001b[0;34m.\u001b[0m\u001b[0mdelete\u001b[0m\u001b[0;34m(\u001b[0m\u001b[0mindexer\u001b[0m\u001b[0;34m)\u001b[0m\u001b[0;34m\u001b[0m\u001b[0;34m\u001b[0m\u001b[0m\n",
      "\u001b[0;31mKeyError\u001b[0m: \"['Local Authority' 'Vehicle Fields_Reference Number' 'Vehicle Number'\\n 'Casualty Fields_Reference Number' 'Casualty Veh No'] not found in axis\""
     ]
    }
   ],
   "source": [
    "data_2018=data_2018.drop([\"1st Road Class\",\"Local Authority\",\"Vehicle Fields_Reference Number\",\"Vehicle Number\",\"Casualty Fields_Reference Number\",\"Casualty Veh No\"], axis=1)\n"
   ]
  },
  {
   "cell_type": "markdown",
   "id": "28033b4c",
   "metadata": {
    "cell_id": "00055-8fbd3779-e983-401c-8080-4b833c76b7da",
    "deepnote_app_coordinates": {
     "h": 5,
     "w": 12,
     "x": 0,
     "y": 324
    },
    "deepnote_cell_type": "markdown"
   },
   "source": [
    "##### Unbalanced column names renaming in data_2018\n",
    "- Accident Fields_Reference Number -> Reference Number\n",
    "- Grid Ref: Easting -> Easting\n",
    "- Grid Ref: Northing ->Northing\n",
    "- 1st Road Class & No1st ->  Road Class    "
   ]
  },
  {
   "cell_type": "code",
   "execution_count": 42,
   "id": "e458e425",
   "metadata": {
    "ExecuteTime": {
     "end_time": "2021-11-08T09:30:10.807501Z",
     "start_time": "2021-11-08T09:30:10.802881Z"
    },
    "cell_id": "00057-a9955549-10fc-4b85-bcdc-b3bba668cded",
    "deepnote_app_coordinates": {
     "h": 5,
     "w": 12,
     "x": 0,
     "y": 330
    },
    "deepnote_cell_type": "code",
    "deepnote_to_be_reexecuted": true,
    "execution_millis": 5,
    "execution_start": 1636221370186,
    "source_hash": "802a3290"
   },
   "outputs": [],
   "source": [
    "data_2018=data_2018.rename({'Accident Fields_Reference Number':'Reference Number','Grid Ref: Easting':'Easting','Grid Ref: Northing':'Northing','1st Road Class & No':'1st Road Class'},axis=1)"
   ]
  },
  {
   "cell_type": "markdown",
   "id": "137ba3db",
   "metadata": {
    "cell_id": "00058-51e3f543-dac6-43b3-8290-0505cf8d9c98",
    "deepnote_app_coordinates": {
     "h": 5,
     "w": 12,
     "x": 0,
     "y": 336
    },
    "deepnote_cell_type": "markdown"
   },
   "source": [
    "##### Saving changes back to csvfile 2018"
   ]
  },
  {
   "cell_type": "code",
   "execution_count": 44,
   "id": "a60307f8",
   "metadata": {
    "ExecuteTime": {
     "end_time": "2021-11-08T09:30:37.566137Z",
     "start_time": "2021-11-08T09:30:37.554467Z"
    },
    "cell_id": "00059-c741720d-14a6-4f05-882e-6a096b8a8de4",
    "deepnote_app_coordinates": {
     "h": 5,
     "w": 12,
     "x": 0,
     "y": 342
    },
    "deepnote_cell_type": "code",
    "deepnote_to_be_reexecuted": true,
    "execution_millis": 13,
    "execution_start": 1636221372747,
    "source_hash": "9f84cdcb"
   },
   "outputs": [],
   "source": [
    "data_2018.to_csv(\"../Road Accident Project/Data/2018.csv\", index = False, header = True)\n"
   ]
  },
  {
   "cell_type": "code",
   "execution_count": 45,
   "id": "766da122",
   "metadata": {
    "ExecuteTime": {
     "end_time": "2021-11-08T09:30:39.421362Z",
     "start_time": "2021-11-08T09:30:39.404880Z"
    },
    "cell_id": "00060-5a640f0b-04a4-4274-a482-d73ec29985a6",
    "deepnote_app_coordinates": {
     "h": 5,
     "w": 12,
     "x": 0,
     "y": 348
    },
    "deepnote_cell_type": "code",
    "deepnote_to_be_reexecuted": true,
    "execution_millis": 121,
    "execution_start": 1636221374209,
    "source_hash": "a2dc03c5"
   },
   "outputs": [
    {
     "data": {
      "text/html": [
       "<div>\n",
       "<style scoped>\n",
       "    .dataframe tbody tr th:only-of-type {\n",
       "        vertical-align: middle;\n",
       "    }\n",
       "\n",
       "    .dataframe tbody tr th {\n",
       "        vertical-align: top;\n",
       "    }\n",
       "\n",
       "    .dataframe thead th {\n",
       "        text-align: right;\n",
       "    }\n",
       "</style>\n",
       "<table border=\"1\" class=\"dataframe\">\n",
       "  <thead>\n",
       "    <tr style=\"text-align: right;\">\n",
       "      <th></th>\n",
       "      <th>Reference Number</th>\n",
       "      <th>Easting</th>\n",
       "      <th>Northing</th>\n",
       "      <th>Number of Vehicles</th>\n",
       "      <th>Accident Date</th>\n",
       "      <th>Time (24hr)</th>\n",
       "      <th>1st Road Class</th>\n",
       "      <th>Road Surface</th>\n",
       "      <th>Lighting Conditions</th>\n",
       "      <th>Weather Conditions</th>\n",
       "      <th>Type of Vehicle</th>\n",
       "      <th>Casualty Class</th>\n",
       "      <th>Casualty Severity</th>\n",
       "      <th>Sex of Casualty</th>\n",
       "      <th>Age of Casualty</th>\n",
       "    </tr>\n",
       "  </thead>\n",
       "  <tbody>\n",
       "    <tr>\n",
       "      <th>0</th>\n",
       "      <td>51B0230</td>\n",
       "      <td>433936</td>\n",
       "      <td>428874</td>\n",
       "      <td>1</td>\n",
       "      <td>11/01/2018</td>\n",
       "      <td>700</td>\n",
       "      <td>U</td>\n",
       "      <td>1</td>\n",
       "      <td>4</td>\n",
       "      <td>1</td>\n",
       "      <td>9</td>\n",
       "      <td>3</td>\n",
       "      <td>3</td>\n",
       "      <td>2</td>\n",
       "      <td>87</td>\n",
       "    </tr>\n",
       "    <tr>\n",
       "      <th>1</th>\n",
       "      <td>51B0349</td>\n",
       "      <td>430076</td>\n",
       "      <td>433872</td>\n",
       "      <td>1</td>\n",
       "      <td>11/01/2018</td>\n",
       "      <td>855</td>\n",
       "      <td>U</td>\n",
       "      <td>2</td>\n",
       "      <td>1</td>\n",
       "      <td>1</td>\n",
       "      <td>11</td>\n",
       "      <td>2</td>\n",
       "      <td>3</td>\n",
       "      <td>2</td>\n",
       "      <td>60</td>\n",
       "    </tr>\n",
       "    <tr>\n",
       "      <th>2</th>\n",
       "      <td>51B0349</td>\n",
       "      <td>430076</td>\n",
       "      <td>433872</td>\n",
       "      <td>1</td>\n",
       "      <td>11/01/2018</td>\n",
       "      <td>855</td>\n",
       "      <td>U</td>\n",
       "      <td>2</td>\n",
       "      <td>1</td>\n",
       "      <td>1</td>\n",
       "      <td>11</td>\n",
       "      <td>2</td>\n",
       "      <td>3</td>\n",
       "      <td>2</td>\n",
       "      <td>51</td>\n",
       "    </tr>\n",
       "    <tr>\n",
       "      <th>3</th>\n",
       "      <td>51B0349</td>\n",
       "      <td>430076</td>\n",
       "      <td>433872</td>\n",
       "      <td>1</td>\n",
       "      <td>11/01/2018</td>\n",
       "      <td>855</td>\n",
       "      <td>U</td>\n",
       "      <td>2</td>\n",
       "      <td>1</td>\n",
       "      <td>1</td>\n",
       "      <td>11</td>\n",
       "      <td>2</td>\n",
       "      <td>3</td>\n",
       "      <td>2</td>\n",
       "      <td>50</td>\n",
       "    </tr>\n",
       "    <tr>\n",
       "      <th>4</th>\n",
       "      <td>51B0349</td>\n",
       "      <td>430076</td>\n",
       "      <td>433872</td>\n",
       "      <td>1</td>\n",
       "      <td>11/01/2018</td>\n",
       "      <td>855</td>\n",
       "      <td>U</td>\n",
       "      <td>2</td>\n",
       "      <td>1</td>\n",
       "      <td>1</td>\n",
       "      <td>11</td>\n",
       "      <td>2</td>\n",
       "      <td>3</td>\n",
       "      <td>2</td>\n",
       "      <td>51</td>\n",
       "    </tr>\n",
       "  </tbody>\n",
       "</table>\n",
       "</div>"
      ],
      "text/plain": [
       "  Reference Number  Easting  Northing  Number of Vehicles Accident Date  \\\n",
       "0          51B0230   433936    428874                   1    11/01/2018   \n",
       "1          51B0349   430076    433872                   1    11/01/2018   \n",
       "2          51B0349   430076    433872                   1    11/01/2018   \n",
       "3          51B0349   430076    433872                   1    11/01/2018   \n",
       "4          51B0349   430076    433872                   1    11/01/2018   \n",
       "\n",
       "   Time (24hr) 1st Road Class  Road Surface  Lighting Conditions  \\\n",
       "0          700              U             1                    4   \n",
       "1          855              U             2                    1   \n",
       "2          855              U             2                    1   \n",
       "3          855              U             2                    1   \n",
       "4          855              U             2                    1   \n",
       "\n",
       "   Weather Conditions  Type of Vehicle  Casualty Class  Casualty Severity  \\\n",
       "0                   1                9               3                  3   \n",
       "1                   1               11               2                  3   \n",
       "2                   1               11               2                  3   \n",
       "3                   1               11               2                  3   \n",
       "4                   1               11               2                  3   \n",
       "\n",
       "   Sex of Casualty  Age of Casualty  \n",
       "0                2               87  \n",
       "1                2               60  \n",
       "2                2               51  \n",
       "3                2               50  \n",
       "4                2               51  "
      ]
     },
     "execution_count": 45,
     "metadata": {},
     "output_type": "execute_result"
    }
   ],
   "source": [
    "data_2018 = pd.read_csv(\"../Road Accident Project/Data/2018.csv\")\n",
    "data_2018.head()\n"
   ]
  },
  {
   "cell_type": "markdown",
   "id": "d1d58774",
   "metadata": {
    "cell_id": "00061-f648f781-81b8-41c7-8053-e51afca9147d",
    "deepnote_app_coordinates": {
     "h": 5,
     "w": 12,
     "x": 0,
     "y": 354
    },
    "deepnote_cell_type": "markdown"
   },
   "source": [
    "### Reading all  the cleaned csvfiles and Merging\n",
    "- __Here we used glob library to read all csvfile.__\n",
    "\n",
    "- __The glob(short for global) module is to return all file paths that match a specific pattern.__"
   ]
  },
  {
   "cell_type": "code",
   "execution_count": 46,
   "id": "7fd2d79c",
   "metadata": {
    "ExecuteTime": {
     "end_time": "2021-11-08T09:30:55.100116Z",
     "start_time": "2021-11-08T09:30:54.994284Z"
    },
    "cell_id": "00062-41ade065-7d35-442c-8c4f-ed703b4fe878",
    "deepnote_app_coordinates": {
     "h": 5,
     "w": 12,
     "x": 0,
     "y": 360
    },
    "deepnote_cell_type": "code",
    "deepnote_to_be_reexecuted": true,
    "execution_millis": 29672,
    "execution_start": 1636221379526,
    "source_hash": "2b0e5158"
   },
   "outputs": [],
   "source": [
    "\n",
    "# the path to  csv file directory\n",
    "mycsvdir = '../Road Accident Project/Data/'\n",
    "\n",
    "# get all the csv files in that directory (assuming they have the extension .csv)\n",
    "csvfiles = glob.glob(os.path.join(mycsvdir, '2*.csv')) # every csv file starting with \"2... in the name\"\n",
    "\n",
    "# loop through the files and read them in with pandas\n",
    "dataframes = []  # a list to hold all the individual pandas DataFrames\n",
    "for csvfile in csvfiles:\n",
    "    df = pd.read_csv(csvfile,low_memory=False,encoding='cp1252') # for windows using cp1252 instead of utf-8\n",
    "    dataframes.append(df)\n",
    "\n",
    "# concatenate them all together\n",
    "data = pd.concat(dataframes, ignore_index=True)\n"
   ]
  },
  {
   "cell_type": "code",
   "execution_count": 47,
   "id": "0b9db2a7",
   "metadata": {
    "ExecuteTime": {
     "end_time": "2021-11-08T09:30:59.209344Z",
     "start_time": "2021-11-08T09:30:59.188286Z"
    },
    "cell_id": "00063-9617d4ab-3afa-4cfb-894d-b6d800c9791e",
    "deepnote_app_coordinates": {
     "h": 5,
     "w": 12,
     "x": 0,
     "y": 366
    },
    "deepnote_cell_type": "code",
    "deepnote_to_be_reexecuted": true,
    "execution_millis": 84,
    "execution_start": 1636221412175,
    "scrolled": true,
    "source_hash": "41313cfa"
   },
   "outputs": [
    {
     "data": {
      "text/html": [
       "<div>\n",
       "<style scoped>\n",
       "    .dataframe tbody tr th:only-of-type {\n",
       "        vertical-align: middle;\n",
       "    }\n",
       "\n",
       "    .dataframe tbody tr th {\n",
       "        vertical-align: top;\n",
       "    }\n",
       "\n",
       "    .dataframe thead th {\n",
       "        text-align: right;\n",
       "    }\n",
       "</style>\n",
       "<table border=\"1\" class=\"dataframe\">\n",
       "  <thead>\n",
       "    <tr style=\"text-align: right;\">\n",
       "      <th></th>\n",
       "      <th>Reference Number</th>\n",
       "      <th>Easting</th>\n",
       "      <th>Northing</th>\n",
       "      <th>Number of Vehicles</th>\n",
       "      <th>Accident Date</th>\n",
       "      <th>Time (24hr)</th>\n",
       "      <th>1st Road Class</th>\n",
       "      <th>Road Surface</th>\n",
       "      <th>Lighting Conditions</th>\n",
       "      <th>Weather Conditions</th>\n",
       "      <th>Casualty Class</th>\n",
       "      <th>Casualty Severity</th>\n",
       "      <th>Sex of Casualty</th>\n",
       "      <th>Age of Casualty</th>\n",
       "      <th>Type of Vehicle</th>\n",
       "    </tr>\n",
       "  </thead>\n",
       "  <tbody>\n",
       "    <tr>\n",
       "      <th>0</th>\n",
       "      <td>1112091</td>\n",
       "      <td>429175</td>\n",
       "      <td>431904</td>\n",
       "      <td>2</td>\n",
       "      <td>01-Jan-14</td>\n",
       "      <td>1840</td>\n",
       "      <td>Unclassified</td>\n",
       "      <td>Wet / Damp</td>\n",
       "      <td>Darkness: street lights present and lit</td>\n",
       "      <td>Raining without high winds</td>\n",
       "      <td>Driver</td>\n",
       "      <td>Slight</td>\n",
       "      <td>Male</td>\n",
       "      <td>58</td>\n",
       "      <td>Car</td>\n",
       "    </tr>\n",
       "    <tr>\n",
       "      <th>1</th>\n",
       "      <td>1180869</td>\n",
       "      <td>430429</td>\n",
       "      <td>431025</td>\n",
       "      <td>3</td>\n",
       "      <td>08-Jan-14</td>\n",
       "      <td>1430</td>\n",
       "      <td>Motorway</td>\n",
       "      <td>Wet / Damp</td>\n",
       "      <td>Daylight: street lights present</td>\n",
       "      <td>Fine without high winds</td>\n",
       "      <td>Driver</td>\n",
       "      <td>Slight</td>\n",
       "      <td>Male</td>\n",
       "      <td>69</td>\n",
       "      <td>Car</td>\n",
       "    </tr>\n",
       "    <tr>\n",
       "      <th>2</th>\n",
       "      <td>1180869</td>\n",
       "      <td>430429</td>\n",
       "      <td>431025</td>\n",
       "      <td>3</td>\n",
       "      <td>08-Jan-14</td>\n",
       "      <td>1430</td>\n",
       "      <td>Motorway</td>\n",
       "      <td>Wet / Damp</td>\n",
       "      <td>Daylight: street lights present</td>\n",
       "      <td>Fine without high winds</td>\n",
       "      <td>Driver</td>\n",
       "      <td>Slight</td>\n",
       "      <td>Female</td>\n",
       "      <td>41</td>\n",
       "      <td>Car</td>\n",
       "    </tr>\n",
       "    <tr>\n",
       "      <th>3</th>\n",
       "      <td>11A0238</td>\n",
       "      <td>424660</td>\n",
       "      <td>427582</td>\n",
       "      <td>3</td>\n",
       "      <td>10-Jan-14</td>\n",
       "      <td>817</td>\n",
       "      <td>Motorway</td>\n",
       "      <td>Dry</td>\n",
       "      <td>Daylight: street lights present</td>\n",
       "      <td>Fine without high winds</td>\n",
       "      <td>Driver</td>\n",
       "      <td>Slight</td>\n",
       "      <td>Male</td>\n",
       "      <td>35</td>\n",
       "      <td>Car</td>\n",
       "    </tr>\n",
       "    <tr>\n",
       "      <th>4</th>\n",
       "      <td>11A0238</td>\n",
       "      <td>424660</td>\n",
       "      <td>427582</td>\n",
       "      <td>3</td>\n",
       "      <td>10-Jan-14</td>\n",
       "      <td>817</td>\n",
       "      <td>Motorway</td>\n",
       "      <td>Dry</td>\n",
       "      <td>Daylight: street lights present</td>\n",
       "      <td>Fine without high winds</td>\n",
       "      <td>Driver</td>\n",
       "      <td>Slight</td>\n",
       "      <td>Male</td>\n",
       "      <td>25</td>\n",
       "      <td>Car</td>\n",
       "    </tr>\n",
       "  </tbody>\n",
       "</table>\n",
       "</div>"
      ],
      "text/plain": [
       "  Reference Number  Easting  Northing  Number of Vehicles Accident Date  \\\n",
       "0          1112091   429175    431904                   2     01-Jan-14   \n",
       "1          1180869   430429    431025                   3     08-Jan-14   \n",
       "2          1180869   430429    431025                   3     08-Jan-14   \n",
       "3          11A0238   424660    427582                   3     10-Jan-14   \n",
       "4          11A0238   424660    427582                   3     10-Jan-14   \n",
       "\n",
       "   Time (24hr) 1st Road Class Road Surface  \\\n",
       "0         1840   Unclassified   Wet / Damp   \n",
       "1         1430       Motorway   Wet / Damp   \n",
       "2         1430       Motorway   Wet / Damp   \n",
       "3          817       Motorway          Dry   \n",
       "4          817       Motorway          Dry   \n",
       "\n",
       "                       Lighting Conditions          Weather Conditions  \\\n",
       "0  Darkness: street lights present and lit  Raining without high winds   \n",
       "1          Daylight: street lights present     Fine without high winds   \n",
       "2          Daylight: street lights present     Fine without high winds   \n",
       "3          Daylight: street lights present     Fine without high winds   \n",
       "4          Daylight: street lights present     Fine without high winds   \n",
       "\n",
       "  Casualty Class Casualty Severity Sex of Casualty  Age of Casualty  \\\n",
       "0         Driver            Slight            Male               58   \n",
       "1         Driver            Slight            Male               69   \n",
       "2         Driver            Slight          Female               41   \n",
       "3         Driver            Slight            Male               35   \n",
       "4         Driver            Slight            Male               25   \n",
       "\n",
       "  Type of Vehicle  \n",
       "0             Car  \n",
       "1             Car  \n",
       "2             Car  \n",
       "3             Car  \n",
       "4             Car  "
      ]
     },
     "execution_count": 47,
     "metadata": {},
     "output_type": "execute_result"
    }
   ],
   "source": [
    "data.head()"
   ]
  },
  {
   "cell_type": "code",
   "execution_count": 48,
   "id": "11f75f15",
   "metadata": {
    "ExecuteTime": {
     "end_time": "2021-11-08T09:31:02.229484Z",
     "start_time": "2021-11-08T09:31:02.198660Z"
    },
    "cell_id": "00064-2ff80f15-ccb9-4076-aca3-3dabba8cc1eb",
    "deepnote_app_coordinates": {
     "h": 5,
     "w": 12,
     "x": 0,
     "y": 372
    },
    "deepnote_cell_type": "code",
    "deepnote_to_be_reexecuted": true,
    "execution_millis": 32,
    "execution_start": 1636221417250,
    "scrolled": true,
    "source_hash": "957547ae"
   },
   "outputs": [
    {
     "name": "stdout",
     "output_type": "stream",
     "text": [
      "<class 'pandas.core.frame.DataFrame'>\n",
      "RangeIndex: 27628 entries, 0 to 27627\n",
      "Data columns (total 15 columns):\n",
      " #   Column               Non-Null Count  Dtype \n",
      "---  ------               --------------  ----- \n",
      " 0   Reference Number     27628 non-null  object\n",
      " 1   Easting              27628 non-null  int64 \n",
      " 2   Northing             27628 non-null  int64 \n",
      " 3   Number of Vehicles   27628 non-null  int64 \n",
      " 4   Accident Date        27628 non-null  object\n",
      " 5   Time (24hr)          27628 non-null  int64 \n",
      " 6   1st Road Class       27628 non-null  object\n",
      " 7   Road Surface         27627 non-null  object\n",
      " 8   Lighting Conditions  27628 non-null  object\n",
      " 9   Weather Conditions   27628 non-null  object\n",
      " 10  Casualty Class       27628 non-null  object\n",
      " 11  Casualty Severity    27628 non-null  object\n",
      " 12  Sex of Casualty      27628 non-null  object\n",
      " 13  Age of Casualty      27628 non-null  int64 \n",
      " 14  Type of Vehicle      27627 non-null  object\n",
      "dtypes: int64(5), object(10)\n",
      "memory usage: 3.2+ MB\n"
     ]
    }
   ],
   "source": [
    "data.info()"
   ]
  },
  {
   "cell_type": "markdown",
   "id": "464f7e19",
   "metadata": {
    "cell_id": "00075-41a0d915-1b6d-461f-9726-88b6cd29c953",
    "deepnote_app_coordinates": {
     "h": 5,
     "w": 12,
     "x": 0,
     "y": 831
    },
    "deepnote_cell_type": "markdown",
    "tags": []
   },
   "source": [
    "#### Dropping Duplicate column\n",
    "- Casualty Class.1 is dropped"
   ]
  },
  {
   "cell_type": "code",
   "execution_count": 49,
   "id": "50d2bb72",
   "metadata": {
    "ExecuteTime": {
     "end_time": "2021-11-08T09:31:06.178951Z",
     "start_time": "2021-11-08T09:31:06.166371Z"
    },
    "cell_id": "00065-85fa715d-5c64-4834-9371-e3e502eb8bba",
    "deepnote_app_coordinates": {
     "h": 5,
     "w": 12,
     "x": 0,
     "y": 378
    },
    "deepnote_cell_type": "code",
    "deepnote_to_be_reexecuted": true,
    "execution_millis": 5,
    "execution_start": 1636221421631,
    "run_control": {
     "marked": true
    },
    "source_hash": "380b1b51"
   },
   "outputs": [
    {
     "ename": "KeyError",
     "evalue": "\"['Casualty Class.1'] not found in axis\"",
     "output_type": "error",
     "traceback": [
      "\u001b[0;31m---------------------------------------------------------------------------\u001b[0m",
      "\u001b[0;31mKeyError\u001b[0m                                  Traceback (most recent call last)",
      "\u001b[0;32m/tmp/ipykernel_268/4107154182.py\u001b[0m in \u001b[0;36m<module>\u001b[0;34m\u001b[0m\n\u001b[0;32m----> 1\u001b[0;31m \u001b[0mdata\u001b[0m\u001b[0;34m=\u001b[0m \u001b[0mdata\u001b[0m\u001b[0;34m.\u001b[0m\u001b[0mdrop\u001b[0m\u001b[0;34m(\u001b[0m\u001b[0;34m\"Casualty Class.1\"\u001b[0m\u001b[0;34m,\u001b[0m\u001b[0maxis\u001b[0m\u001b[0;34m=\u001b[0m\u001b[0;36m1\u001b[0m\u001b[0;34m)\u001b[0m\u001b[0;34m\u001b[0m\u001b[0;34m\u001b[0m\u001b[0m\n\u001b[0m",
      "\u001b[0;32m~/miniconda3/lib/python3.9/site-packages/pandas/util/_decorators.py\u001b[0m in \u001b[0;36mwrapper\u001b[0;34m(*args, **kwargs)\u001b[0m\n\u001b[1;32m    309\u001b[0m                     \u001b[0mstacklevel\u001b[0m\u001b[0;34m=\u001b[0m\u001b[0mstacklevel\u001b[0m\u001b[0;34m,\u001b[0m\u001b[0;34m\u001b[0m\u001b[0;34m\u001b[0m\u001b[0m\n\u001b[1;32m    310\u001b[0m                 )\n\u001b[0;32m--> 311\u001b[0;31m             \u001b[0;32mreturn\u001b[0m \u001b[0mfunc\u001b[0m\u001b[0;34m(\u001b[0m\u001b[0;34m*\u001b[0m\u001b[0margs\u001b[0m\u001b[0;34m,\u001b[0m \u001b[0;34m**\u001b[0m\u001b[0mkwargs\u001b[0m\u001b[0;34m)\u001b[0m\u001b[0;34m\u001b[0m\u001b[0;34m\u001b[0m\u001b[0m\n\u001b[0m\u001b[1;32m    312\u001b[0m \u001b[0;34m\u001b[0m\u001b[0m\n\u001b[1;32m    313\u001b[0m         \u001b[0;32mreturn\u001b[0m \u001b[0mwrapper\u001b[0m\u001b[0;34m\u001b[0m\u001b[0;34m\u001b[0m\u001b[0m\n",
      "\u001b[0;32m~/miniconda3/lib/python3.9/site-packages/pandas/core/frame.py\u001b[0m in \u001b[0;36mdrop\u001b[0;34m(self, labels, axis, index, columns, level, inplace, errors)\u001b[0m\n\u001b[1;32m   4904\u001b[0m                 \u001b[0mweight\u001b[0m  \u001b[0;36m1.0\u001b[0m     \u001b[0;36m0.8\u001b[0m\u001b[0;34m\u001b[0m\u001b[0;34m\u001b[0m\u001b[0m\n\u001b[1;32m   4905\u001b[0m         \"\"\"\n\u001b[0;32m-> 4906\u001b[0;31m         return super().drop(\n\u001b[0m\u001b[1;32m   4907\u001b[0m             \u001b[0mlabels\u001b[0m\u001b[0;34m=\u001b[0m\u001b[0mlabels\u001b[0m\u001b[0;34m,\u001b[0m\u001b[0;34m\u001b[0m\u001b[0;34m\u001b[0m\u001b[0m\n\u001b[1;32m   4908\u001b[0m             \u001b[0maxis\u001b[0m\u001b[0;34m=\u001b[0m\u001b[0maxis\u001b[0m\u001b[0;34m,\u001b[0m\u001b[0;34m\u001b[0m\u001b[0;34m\u001b[0m\u001b[0m\n",
      "\u001b[0;32m~/miniconda3/lib/python3.9/site-packages/pandas/core/generic.py\u001b[0m in \u001b[0;36mdrop\u001b[0;34m(self, labels, axis, index, columns, level, inplace, errors)\u001b[0m\n\u001b[1;32m   4148\u001b[0m         \u001b[0;32mfor\u001b[0m \u001b[0maxis\u001b[0m\u001b[0;34m,\u001b[0m \u001b[0mlabels\u001b[0m \u001b[0;32min\u001b[0m \u001b[0maxes\u001b[0m\u001b[0;34m.\u001b[0m\u001b[0mitems\u001b[0m\u001b[0;34m(\u001b[0m\u001b[0;34m)\u001b[0m\u001b[0;34m:\u001b[0m\u001b[0;34m\u001b[0m\u001b[0;34m\u001b[0m\u001b[0m\n\u001b[1;32m   4149\u001b[0m             \u001b[0;32mif\u001b[0m \u001b[0mlabels\u001b[0m \u001b[0;32mis\u001b[0m \u001b[0;32mnot\u001b[0m \u001b[0;32mNone\u001b[0m\u001b[0;34m:\u001b[0m\u001b[0;34m\u001b[0m\u001b[0;34m\u001b[0m\u001b[0m\n\u001b[0;32m-> 4150\u001b[0;31m                 \u001b[0mobj\u001b[0m \u001b[0;34m=\u001b[0m \u001b[0mobj\u001b[0m\u001b[0;34m.\u001b[0m\u001b[0m_drop_axis\u001b[0m\u001b[0;34m(\u001b[0m\u001b[0mlabels\u001b[0m\u001b[0;34m,\u001b[0m \u001b[0maxis\u001b[0m\u001b[0;34m,\u001b[0m \u001b[0mlevel\u001b[0m\u001b[0;34m=\u001b[0m\u001b[0mlevel\u001b[0m\u001b[0;34m,\u001b[0m \u001b[0merrors\u001b[0m\u001b[0;34m=\u001b[0m\u001b[0merrors\u001b[0m\u001b[0;34m)\u001b[0m\u001b[0;34m\u001b[0m\u001b[0;34m\u001b[0m\u001b[0m\n\u001b[0m\u001b[1;32m   4151\u001b[0m \u001b[0;34m\u001b[0m\u001b[0m\n\u001b[1;32m   4152\u001b[0m         \u001b[0;32mif\u001b[0m \u001b[0minplace\u001b[0m\u001b[0;34m:\u001b[0m\u001b[0;34m\u001b[0m\u001b[0;34m\u001b[0m\u001b[0m\n",
      "\u001b[0;32m~/miniconda3/lib/python3.9/site-packages/pandas/core/generic.py\u001b[0m in \u001b[0;36m_drop_axis\u001b[0;34m(self, labels, axis, level, errors)\u001b[0m\n\u001b[1;32m   4183\u001b[0m                 \u001b[0mnew_axis\u001b[0m \u001b[0;34m=\u001b[0m \u001b[0maxis\u001b[0m\u001b[0;34m.\u001b[0m\u001b[0mdrop\u001b[0m\u001b[0;34m(\u001b[0m\u001b[0mlabels\u001b[0m\u001b[0;34m,\u001b[0m \u001b[0mlevel\u001b[0m\u001b[0;34m=\u001b[0m\u001b[0mlevel\u001b[0m\u001b[0;34m,\u001b[0m \u001b[0merrors\u001b[0m\u001b[0;34m=\u001b[0m\u001b[0merrors\u001b[0m\u001b[0;34m)\u001b[0m\u001b[0;34m\u001b[0m\u001b[0;34m\u001b[0m\u001b[0m\n\u001b[1;32m   4184\u001b[0m             \u001b[0;32melse\u001b[0m\u001b[0;34m:\u001b[0m\u001b[0;34m\u001b[0m\u001b[0;34m\u001b[0m\u001b[0m\n\u001b[0;32m-> 4185\u001b[0;31m                 \u001b[0mnew_axis\u001b[0m \u001b[0;34m=\u001b[0m \u001b[0maxis\u001b[0m\u001b[0;34m.\u001b[0m\u001b[0mdrop\u001b[0m\u001b[0;34m(\u001b[0m\u001b[0mlabels\u001b[0m\u001b[0;34m,\u001b[0m \u001b[0merrors\u001b[0m\u001b[0;34m=\u001b[0m\u001b[0merrors\u001b[0m\u001b[0;34m)\u001b[0m\u001b[0;34m\u001b[0m\u001b[0;34m\u001b[0m\u001b[0m\n\u001b[0m\u001b[1;32m   4186\u001b[0m             \u001b[0mresult\u001b[0m \u001b[0;34m=\u001b[0m \u001b[0mself\u001b[0m\u001b[0;34m.\u001b[0m\u001b[0mreindex\u001b[0m\u001b[0;34m(\u001b[0m\u001b[0;34m**\u001b[0m\u001b[0;34m{\u001b[0m\u001b[0maxis_name\u001b[0m\u001b[0;34m:\u001b[0m \u001b[0mnew_axis\u001b[0m\u001b[0;34m}\u001b[0m\u001b[0;34m)\u001b[0m\u001b[0;34m\u001b[0m\u001b[0;34m\u001b[0m\u001b[0m\n\u001b[1;32m   4187\u001b[0m \u001b[0;34m\u001b[0m\u001b[0m\n",
      "\u001b[0;32m~/miniconda3/lib/python3.9/site-packages/pandas/core/indexes/base.py\u001b[0m in \u001b[0;36mdrop\u001b[0;34m(self, labels, errors)\u001b[0m\n\u001b[1;32m   6015\u001b[0m         \u001b[0;32mif\u001b[0m \u001b[0mmask\u001b[0m\u001b[0;34m.\u001b[0m\u001b[0many\u001b[0m\u001b[0;34m(\u001b[0m\u001b[0;34m)\u001b[0m\u001b[0;34m:\u001b[0m\u001b[0;34m\u001b[0m\u001b[0;34m\u001b[0m\u001b[0m\n\u001b[1;32m   6016\u001b[0m             \u001b[0;32mif\u001b[0m \u001b[0merrors\u001b[0m \u001b[0;34m!=\u001b[0m \u001b[0;34m\"ignore\"\u001b[0m\u001b[0;34m:\u001b[0m\u001b[0;34m\u001b[0m\u001b[0;34m\u001b[0m\u001b[0m\n\u001b[0;32m-> 6017\u001b[0;31m                 \u001b[0;32mraise\u001b[0m \u001b[0mKeyError\u001b[0m\u001b[0;34m(\u001b[0m\u001b[0;34mf\"{labels[mask]} not found in axis\"\u001b[0m\u001b[0;34m)\u001b[0m\u001b[0;34m\u001b[0m\u001b[0;34m\u001b[0m\u001b[0m\n\u001b[0m\u001b[1;32m   6018\u001b[0m             \u001b[0mindexer\u001b[0m \u001b[0;34m=\u001b[0m \u001b[0mindexer\u001b[0m\u001b[0;34m[\u001b[0m\u001b[0;34m~\u001b[0m\u001b[0mmask\u001b[0m\u001b[0;34m]\u001b[0m\u001b[0;34m\u001b[0m\u001b[0;34m\u001b[0m\u001b[0m\n\u001b[1;32m   6019\u001b[0m         \u001b[0;32mreturn\u001b[0m \u001b[0mself\u001b[0m\u001b[0;34m.\u001b[0m\u001b[0mdelete\u001b[0m\u001b[0;34m(\u001b[0m\u001b[0mindexer\u001b[0m\u001b[0;34m)\u001b[0m\u001b[0;34m\u001b[0m\u001b[0;34m\u001b[0m\u001b[0m\n",
      "\u001b[0;31mKeyError\u001b[0m: \"['Casualty Class.1'] not found in axis\""
     ]
    }
   ],
   "source": [
    "data= data.drop(\"Casualty Class.1\",axis=1)"
   ]
  },
  {
   "cell_type": "code",
   "execution_count": 50,
   "id": "a2685b16",
   "metadata": {
    "ExecuteTime": {
     "end_time": "2021-11-08T09:31:09.855781Z",
     "start_time": "2021-11-08T09:31:09.831884Z"
    },
    "cell_id": "00066-f9386579-d7b8-4cdd-b90b-877950d94bef",
    "deepnote_app_coordinates": {
     "h": 5,
     "w": 12,
     "x": 0,
     "y": 384
    },
    "deepnote_cell_type": "code",
    "deepnote_to_be_reexecuted": true,
    "execution_millis": 25327131,
    "execution_start": 1636221423017,
    "source_hash": "957547ae"
   },
   "outputs": [
    {
     "name": "stdout",
     "output_type": "stream",
     "text": [
      "<class 'pandas.core.frame.DataFrame'>\n",
      "RangeIndex: 27628 entries, 0 to 27627\n",
      "Data columns (total 15 columns):\n",
      " #   Column               Non-Null Count  Dtype \n",
      "---  ------               --------------  ----- \n",
      " 0   Reference Number     27628 non-null  object\n",
      " 1   Easting              27628 non-null  int64 \n",
      " 2   Northing             27628 non-null  int64 \n",
      " 3   Number of Vehicles   27628 non-null  int64 \n",
      " 4   Accident Date        27628 non-null  object\n",
      " 5   Time (24hr)          27628 non-null  int64 \n",
      " 6   1st Road Class       27628 non-null  object\n",
      " 7   Road Surface         27627 non-null  object\n",
      " 8   Lighting Conditions  27628 non-null  object\n",
      " 9   Weather Conditions   27628 non-null  object\n",
      " 10  Casualty Class       27628 non-null  object\n",
      " 11  Casualty Severity    27628 non-null  object\n",
      " 12  Sex of Casualty      27628 non-null  object\n",
      " 13  Age of Casualty      27628 non-null  int64 \n",
      " 14  Type of Vehicle      27627 non-null  object\n",
      "dtypes: int64(5), object(10)\n",
      "memory usage: 3.2+ MB\n"
     ]
    }
   ],
   "source": [
    "data.info()"
   ]
  },
  {
   "cell_type": "markdown",
   "id": "ab78a36b",
   "metadata": {
    "cell_id": "00067-5329dcf1-6e7e-4564-9519-50f3a32c916e",
    "deepnote_app_coordinates": {
     "h": 5,
     "w": 12,
     "x": 0,
     "y": 390
    },
    "deepnote_cell_type": "markdown"
   },
   "source": [
    "### Reading guidelines csv file conatianing mapping data to group dataset values"
   ]
  },
  {
   "cell_type": "code",
   "execution_count": 53,
   "id": "994b59ba",
   "metadata": {
    "ExecuteTime": {
     "end_time": "2021-11-08T09:31:26.328117Z",
     "start_time": "2021-11-08T09:31:26.321748Z"
    },
    "cell_id": "00068-550d3d41-50cf-44a2-bc6d-65341327e23c",
    "deepnote_app_coordinates": {
     "h": 5,
     "w": 12,
     "x": 0,
     "y": 396
    },
    "deepnote_cell_type": "code",
    "deepnote_to_be_reexecuted": true,
    "execution_millis": 6,
    "execution_start": 1636221428621,
    "source_hash": "95b4764a"
   },
   "outputs": [],
   "source": [
    "guidance_data= pd.read_csv('../Road Accident Project/Data/guidance-2.csv',encoding='cp1252')"
   ]
  },
  {
   "cell_type": "code",
   "execution_count": 54,
   "id": "4f875f35",
   "metadata": {
    "ExecuteTime": {
     "end_time": "2021-11-08T09:31:31.446660Z",
     "start_time": "2021-11-08T09:31:31.439198Z"
    },
    "cell_id": "00069-4d3b94f5-772f-4c6a-aa1e-fa29419cb9c4",
    "deepnote_app_coordinates": {
     "h": 5,
     "w": 12,
     "x": 0,
     "y": 402
    },
    "deepnote_cell_type": "code",
    "deepnote_to_be_reexecuted": true,
    "execution_millis": 6,
    "execution_start": 1636221430110,
    "run_control": {
     "marked": true
    },
    "source_hash": "bc46acd8"
   },
   "outputs": [
    {
     "data": {
      "text/html": [
       "<div>\n",
       "<style scoped>\n",
       "    .dataframe tbody tr th:only-of-type {\n",
       "        vertical-align: middle;\n",
       "    }\n",
       "\n",
       "    .dataframe tbody tr th {\n",
       "        vertical-align: top;\n",
       "    }\n",
       "\n",
       "    .dataframe thead th {\n",
       "        text-align: right;\n",
       "    }\n",
       "</style>\n",
       "<table border=\"1\" class=\"dataframe\">\n",
       "  <thead>\n",
       "    <tr style=\"text-align: right;\">\n",
       "      <th></th>\n",
       "      <th>1st Road Class</th>\n",
       "      <th>1st Road Class Desc</th>\n",
       "    </tr>\n",
       "  </thead>\n",
       "  <tbody>\n",
       "    <tr>\n",
       "      <th>0</th>\n",
       "      <td>1</td>\n",
       "      <td>Motorway</td>\n",
       "    </tr>\n",
       "    <tr>\n",
       "      <th>1</th>\n",
       "      <td>2</td>\n",
       "      <td>A(M)</td>\n",
       "    </tr>\n",
       "    <tr>\n",
       "      <th>2</th>\n",
       "      <td>3</td>\n",
       "      <td>A</td>\n",
       "    </tr>\n",
       "    <tr>\n",
       "      <th>3</th>\n",
       "      <td>4</td>\n",
       "      <td>B</td>\n",
       "    </tr>\n",
       "    <tr>\n",
       "      <th>4</th>\n",
       "      <td>5</td>\n",
       "      <td>C</td>\n",
       "    </tr>\n",
       "    <tr>\n",
       "      <th>5</th>\n",
       "      <td>6</td>\n",
       "      <td>Unclassified</td>\n",
       "    </tr>\n",
       "    <tr>\n",
       "      <th>6</th>\n",
       "      <td>NaN</td>\n",
       "      <td>NaN</td>\n",
       "    </tr>\n",
       "    <tr>\n",
       "      <th>7</th>\n",
       "      <td>Road Surface</td>\n",
       "      <td>Road Surface Desc</td>\n",
       "    </tr>\n",
       "    <tr>\n",
       "      <th>8</th>\n",
       "      <td>1</td>\n",
       "      <td>Dry</td>\n",
       "    </tr>\n",
       "    <tr>\n",
       "      <th>9</th>\n",
       "      <td>2</td>\n",
       "      <td>Wet / Damp</td>\n",
       "    </tr>\n",
       "  </tbody>\n",
       "</table>\n",
       "</div>"
      ],
      "text/plain": [
       "  1st Road Class 1st Road Class Desc\n",
       "0              1            Motorway\n",
       "1              2                A(M)\n",
       "2              3                   A\n",
       "3              4                   B\n",
       "4              5                   C\n",
       "5              6        Unclassified\n",
       "6            NaN                 NaN\n",
       "7   Road Surface   Road Surface Desc\n",
       "8              1                 Dry\n",
       "9              2          Wet / Damp"
      ]
     },
     "execution_count": 54,
     "metadata": {},
     "output_type": "execute_result"
    }
   ],
   "source": [
    "guidance_data.head(10)"
   ]
  },
  {
   "cell_type": "markdown",
   "id": "59725d69",
   "metadata": {
    "cell_id": "00081-c533283b-0d69-487e-ad4c-b7335de22709",
    "deepnote_app_coordinates": {
     "h": 5,
     "w": 12,
     "x": 0,
     "y": 837
    },
    "deepnote_cell_type": "markdown",
    "tags": []
   },
   "source": [
    "####  Road Class Data mapping"
   ]
  },
  {
   "cell_type": "code",
   "execution_count": 55,
   "id": "72cf46d5",
   "metadata": {
    "ExecuteTime": {
     "end_time": "2021-11-08T09:31:35.734525Z",
     "start_time": "2021-11-08T09:31:35.728201Z"
    },
    "cell_id": "00070-fc8ccead-576b-437a-bf9e-230af6302a17",
    "deepnote_app_coordinates": {
     "h": 5,
     "w": 12,
     "x": 0,
     "y": 408
    },
    "deepnote_cell_type": "code",
    "deepnote_to_be_reexecuted": true,
    "execution_millis": 3,
    "execution_start": 1636221435118,
    "source_hash": "f2df6fe7"
   },
   "outputs": [
    {
     "data": {
      "text/plain": [
       "{'1': 'Motorway',\n",
       " '2': 'A(M)',\n",
       " '3': 'A',\n",
       " '4': 'B',\n",
       " '5': 'C',\n",
       " '6': 'Unclassified'}"
      ]
     },
     "execution_count": 55,
     "metadata": {},
     "output_type": "execute_result"
    }
   ],
   "source": [
    "\n",
    "dict_road = dict(zip(guidance_data.loc[0:5]['1st Road Class'].values,guidance_data.loc[0:5]['1st Road Class Desc'].values))\n",
    "dict_road"
   ]
  },
  {
   "cell_type": "code",
   "execution_count": 56,
   "id": "07dd6f80",
   "metadata": {
    "ExecuteTime": {
     "end_time": "2021-11-08T09:31:38.273493Z",
     "start_time": "2021-11-08T09:31:38.258830Z"
    },
    "cell_id": "00071-fec139c0-3fab-4693-ae39-6bb273d45f53",
    "deepnote_app_coordinates": {
     "h": 5,
     "w": 12,
     "x": 0,
     "y": 414
    },
    "deepnote_cell_type": "code",
    "deepnote_to_be_reexecuted": true,
    "execution_millis": 17,
    "execution_start": 1636221436034,
    "source_hash": "fe0d1781"
   },
   "outputs": [
    {
     "data": {
      "text/plain": [
       "array(['Unclassified', 'Motorway', 'B', 'A', 'A(M)', 'C', 'U', 'A643',\n",
       "       'B6157', 'A659', 'B6127', 'A58(M)', 'A63', 'A58', 'A6120', 'A6110',\n",
       "       'A62', 'A1', 'A65', 'A61', 'A658', 'M1', 'M62', 'A64', 'A660',\n",
       "       'A653', 'A64(M)', 'A639', 'A647', 'A650', 'M621', 'B6154', 'B6159',\n",
       "       'B1217', 'A1(M)', 'B6126', 'A642', 'A654', 'B1224', 'A657',\n",
       "       'B6152', 'B6481', 'B1222', 'A661', 'A664', 'B6156', 'B6164',\n",
       "       'B6451', 'B6123', 'B6137', 'B6135', 'A656', 'B6155', 'A54', 'A635',\n",
       "       'B1271', 'A168', 'A6210', 'B6129', 'B6153', 'A6038', 'B6128', 'B1',\n",
       "       'B6381'], dtype=object)"
      ]
     },
     "execution_count": 56,
     "metadata": {},
     "output_type": "execute_result"
    }
   ],
   "source": [
    "\n",
    "data['1st Road Class'] = data['1st Road Class'].replace(dict_road)\n",
    "data['1st Road Class'].unique()"
   ]
  },
  {
   "cell_type": "code",
   "execution_count": 57,
   "id": "131a8e71",
   "metadata": {
    "ExecuteTime": {
     "end_time": "2021-11-08T09:31:40.687318Z",
     "start_time": "2021-11-08T09:31:40.559946Z"
    },
    "cell_id": "00086-cf591447-4e45-4c54-b5b8-bb3f0b65752f",
    "deepnote_app_coordinates": {
     "h": 5,
     "w": 12,
     "x": 0,
     "y": 1275
    },
    "deepnote_cell_type": "code",
    "deepnote_to_be_reexecuted": true,
    "execution_millis": 305,
    "execution_start": 1636221439209,
    "source_hash": "82a8ce81",
    "tags": []
   },
   "outputs": [
    {
     "data": {
      "text/plain": [
       "array(['Unclassified', 'Motorway', 'B', 'A', 'C'], dtype=object)"
      ]
     },
     "execution_count": 57,
     "metadata": {},
     "output_type": "execute_result"
    }
   ],
   "source": [
    "data['1st Road Class']=data['1st Road Class'].replace(to_replace=[r'A.*',r'B.*',r'U.*',r'M.*'],value=[r'A',r'B',r'Unclassified',r'Motorway'],regex=True)\n",
    "data['1st Road Class'].unique()"
   ]
  },
  {
   "cell_type": "markdown",
   "id": "139e5914",
   "metadata": {
    "cell_id": "00084-9e1d911b-b393-403a-bdcd-844a19c34a23",
    "deepnote_app_coordinates": {
     "h": 5,
     "w": 12,
     "x": 0,
     "y": 843
    },
    "deepnote_cell_type": "markdown",
    "tags": []
   },
   "source": [
    "#### Road Surface data mapping"
   ]
  },
  {
   "cell_type": "code",
   "execution_count": 58,
   "id": "b87cbd8a",
   "metadata": {
    "ExecuteTime": {
     "end_time": "2021-11-08T09:31:43.257350Z",
     "start_time": "2021-11-08T09:31:43.251009Z"
    },
    "cell_id": "00072-1fa153b6-0930-4f33-92dd-d8edde3826e0",
    "deepnote_app_coordinates": {
     "h": 5,
     "w": 12,
     "x": 0,
     "y": 420
    },
    "deepnote_cell_type": "code",
    "deepnote_to_be_reexecuted": true,
    "execution_millis": 5,
    "execution_start": 1636221443755,
    "source_hash": "456b9c76"
   },
   "outputs": [
    {
     "data": {
      "text/plain": [
       "{'1': 'Dry',\n",
       " '2': 'Wet / Damp',\n",
       " '3': 'Snow',\n",
       " '4': 'Frost / Ice',\n",
       " '5': 'Flood (surface water over 3cm deep)'}"
      ]
     },
     "execution_count": 58,
     "metadata": {},
     "output_type": "execute_result"
    }
   ],
   "source": [
    "dict_road_surface = dict(zip(guidance_data.loc[8:12]['1st Road Class'].values,guidance_data.loc[8:12]['1st Road Class Desc'].values))\n",
    "dict_road_surface\n"
   ]
  },
  {
   "cell_type": "markdown",
   "id": "4a1bac2f",
   "metadata": {
    "cell_id": "00086-2d58cb76-c44e-409b-8511-a791a6ba94c9",
    "deepnote_app_coordinates": {
     "h": 5,
     "w": 12,
     "x": 0,
     "y": 849
    },
    "deepnote_cell_type": "markdown",
    "tags": []
   },
   "source": [
    "#### "
   ]
  },
  {
   "cell_type": "code",
   "execution_count": 59,
   "id": "a98a3ac2",
   "metadata": {
    "ExecuteTime": {
     "end_time": "2021-11-08T09:31:45.634559Z",
     "start_time": "2021-11-08T09:31:45.609016Z"
    },
    "cell_id": "00073-ad7616d4-b58c-4ed9-b24c-1c28150cfe05",
    "deepnote_app_coordinates": {
     "h": 5,
     "w": 12,
     "x": 0,
     "y": 426
    },
    "deepnote_cell_type": "code",
    "deepnote_to_be_reexecuted": true,
    "execution_millis": 44,
    "execution_start": 1636221446236,
    "source_hash": "54e97082"
   },
   "outputs": [
    {
     "data": {
      "text/plain": [
       "array(['Wet/Damp', 'Dry', 'Frost/Ice', 'Snow', 'nan', 'Flood'],\n",
       "      dtype=object)"
      ]
     },
     "execution_count": 59,
     "metadata": {},
     "output_type": "execute_result"
    }
   ],
   "source": [
    "# replaceing the Road Surface entities\n",
    "data['Road Surface'] = data['Road Surface'].astype(str).replace(dict_road_surface)\n",
    "# removing the empty space between the data\n",
    "data['Road Surface']=[i.replace(' ','') for i in data['Road Surface']]\n",
    "data[\"Road Surface\"] = data[\"Road Surface\"].replace(to_replace=r'Flood(surfacewaterover3cmdeep)',value=\"Flood\")\n",
    "\n",
    "data['Road Surface'].unique()"
   ]
  },
  {
   "cell_type": "markdown",
   "id": "08ace0c1",
   "metadata": {
    "cell_id": "00088-6c4c104c-e0e8-49c2-a354-2b543a8a5205",
    "deepnote_app_coordinates": {
     "h": 5,
     "w": 12,
     "x": 0,
     "y": 855
    },
    "deepnote_cell_type": "markdown",
    "deepnote_to_be_reexecuted": false,
    "execution_millis": 0,
    "execution_start": 1636221450689,
    "source_hash": "a779fe4e",
    "tags": []
   },
   "source": [
    "#### Lighting conditions data mapping"
   ]
  },
  {
   "cell_type": "code",
   "execution_count": 60,
   "id": "84089a6a",
   "metadata": {
    "ExecuteTime": {
     "end_time": "2021-11-08T09:31:47.771704Z",
     "start_time": "2021-11-08T09:31:47.766328Z"
    },
    "cell_id": "00074-cf9ba7f4-70b0-4435-ad40-c6a7b6bb4a17",
    "deepnote_app_coordinates": {
     "h": 5,
     "w": 12,
     "x": 0,
     "y": 432
    },
    "deepnote_cell_type": "code",
    "deepnote_to_be_reexecuted": true,
    "execution_millis": 2,
    "execution_start": 1636221501714,
    "source_hash": "3dad0785"
   },
   "outputs": [
    {
     "data": {
      "text/plain": [
       "{'1': 'Daylight: street lights present',\n",
       " '2': 'Daylight: no street lighting',\n",
       " '3': 'Daylight: street lighting unknown',\n",
       " '4': 'Darkness: street lights present and lit',\n",
       " '5': 'Darkness: street lights present but unlit',\n",
       " '6': 'Darkness: no street lighting',\n",
       " '7': 'Darkness: street lighting unknown'}"
      ]
     },
     "execution_count": 60,
     "metadata": {},
     "output_type": "execute_result"
    }
   ],
   "source": [
    "dict_lightning = dict(zip(guidance_data.loc[15:21]['1st Road Class'].values,guidance_data.loc[15:21]['1st Road Class Desc'].values))\n",
    "dict_lightning"
   ]
  },
  {
   "cell_type": "code",
   "execution_count": 61,
   "id": "63447444",
   "metadata": {
    "ExecuteTime": {
     "end_time": "2021-11-08T09:31:50.073983Z",
     "start_time": "2021-11-08T09:31:50.057745Z"
    },
    "cell_id": "00075-0cfdb433-5eca-4537-9c89-eae4846d26ad",
    "deepnote_app_coordinates": {
     "h": 5,
     "w": 12,
     "x": 0,
     "y": 438
    },
    "deepnote_cell_type": "code",
    "deepnote_to_be_reexecuted": true,
    "execution_millis": 22,
    "execution_start": 1636221510899,
    "source_hash": "f5b6ae42"
   },
   "outputs": [
    {
     "data": {
      "text/plain": [
       "array(['Darkness: street lights present and lit',\n",
       "       'Daylight: street lights present', 'Darkness: no street lighting',\n",
       "       'Darkness: street lighting unknown',\n",
       "       'Darkness: street lights present but unlit',\n",
       "       'Daylight: Street lights present',\n",
       "       'Darkness: Street lights present and lit',\n",
       "       'Darkness: No street lighting',\n",
       "       'Darkness: Street lighting unknown',\n",
       "       'Darkness: Street lights present but unlit',\n",
       "       'Darkness: Street lights present and lit and lit'], dtype=object)"
      ]
     },
     "execution_count": 61,
     "metadata": {},
     "output_type": "execute_result"
    }
   ],
   "source": [
    "#replacing the Lighting Conditions entities\n",
    "data['Lighting Conditions'] = data['Lighting Conditions'].astype(str).replace(dict_lightning)\n",
    "\n",
    "data['Lighting Conditions'].unique()\n",
    "# data['Lighting Conditions'].repalce()"
   ]
  },
  {
   "cell_type": "code",
   "execution_count": 62,
   "id": "baca9dcc",
   "metadata": {
    "ExecuteTime": {
     "end_time": "2021-11-08T09:31:52.248430Z",
     "start_time": "2021-11-08T09:31:52.225129Z"
    },
    "cell_id": "00076-f5fa4c43-27f9-43da-9e5d-a722c847ae5e",
    "deepnote_app_coordinates": {
     "h": 5,
     "w": 12,
     "x": 0,
     "y": 444
    },
    "deepnote_cell_type": "code",
    "deepnote_to_be_reexecuted": true,
    "execution_millis": 17,
    "execution_start": 1636221512289,
    "source_hash": "d65780f4"
   },
   "outputs": [
    {
     "data": {
      "text/plain": [
       "array(['darkness: street lights present and lit',\n",
       "       'daylight: street lights present', 'darkness: no street lighting',\n",
       "       'darkness: street lighting unknown',\n",
       "       'darkness: street lights present but unlit'], dtype=object)"
      ]
     },
     "execution_count": 62,
     "metadata": {},
     "output_type": "execute_result"
    }
   ],
   "source": [
    "# for grouping  uniformly  decided  to rpleace\n",
    "#darkness: street lights present and lit and lit':'darkness: street lights present and lit'\n",
    "data['Lighting Conditions']=[i.lower() for i in data['Lighting Conditions']]\n",
    "data['Lighting Conditions'] = data['Lighting Conditions'].replace({'darkness: street lights present and lit and lit':'darkness'': street lights present and lit'})\n",
    "data['Lighting Conditions'].unique()"
   ]
  },
  {
   "cell_type": "markdown",
   "id": "6a968802",
   "metadata": {
    "cell_id": "00092-ae4a113f-be0c-41db-b2ed-3c4c53de0861",
    "deepnote_app_coordinates": {
     "h": 5,
     "w": 12,
     "x": 0,
     "y": 861
    },
    "deepnote_cell_type": "markdown",
    "tags": []
   },
   "source": [
    "#### Weather Conditions data mapping"
   ]
  },
  {
   "cell_type": "code",
   "execution_count": 63,
   "id": "14025c35",
   "metadata": {
    "ExecuteTime": {
     "end_time": "2021-11-08T09:31:54.308958Z",
     "start_time": "2021-11-08T09:31:54.302906Z"
    },
    "cell_id": "00077-9206263e-6812-4bf9-af0b-e57b7c51e718",
    "deepnote_app_coordinates": {
     "h": 5,
     "w": 12,
     "x": 0,
     "y": 450
    },
    "deepnote_cell_type": "code",
    "deepnote_to_be_reexecuted": true,
    "execution_millis": 28,
    "execution_start": 1636221518328,
    "source_hash": "5f67064b"
   },
   "outputs": [
    {
     "data": {
      "text/plain": [
       "{'1': 'Fine without high winds',\n",
       " '2': 'Raining without high winds',\n",
       " '3': 'Snowing without high winds',\n",
       " '4': 'Fine with high winds',\n",
       " '5': 'Raining with high winds',\n",
       " '6': 'Snowing with high winds',\n",
       " '7': 'Fog or mist – if hazard',\n",
       " '8': 'Other',\n",
       " '9': 'Unknown'}"
      ]
     },
     "execution_count": 63,
     "metadata": {},
     "output_type": "execute_result"
    }
   ],
   "source": [
    "dict_weather = dict(zip(guidance_data.loc[24:32]['1st Road Class'].values,guidance_data.loc[24:32]['1st Road Class Desc'].values))\n",
    "dict_weather"
   ]
  },
  {
   "cell_type": "code",
   "execution_count": 64,
   "id": "56e50a0d",
   "metadata": {
    "ExecuteTime": {
     "end_time": "2021-11-08T09:31:56.630196Z",
     "start_time": "2021-11-08T09:31:56.612502Z"
    },
    "cell_id": "00078-719428ef-5f10-4de1-8893-dc97f049c036",
    "deepnote_app_coordinates": {
     "h": 5,
     "w": 12,
     "x": 0,
     "y": 456
    },
    "deepnote_cell_type": "code",
    "deepnote_to_be_reexecuted": true,
    "execution_millis": 3983,
    "execution_start": 1636221519262,
    "source_hash": "f309d9bb"
   },
   "outputs": [
    {
     "data": {
      "text/plain": [
       "array(['Raining without high winds', 'Fine without high winds',\n",
       "       'Raining with high winds', 'Other', 'Unknown',\n",
       "       'Fine with high winds', 'Snowing without high winds',\n",
       "       'Darkness: street lighting unknown', 'Snowing with high winds',\n",
       "       'Fog or mist ÃƒÂ¢Ã¢â€šÂ¬Ã¢â‚¬Å“ if hazard',\n",
       "       'Fog or mist – if hazard', 'Fog or mist (if hazard)',\n",
       "       'Fog or mist ÃƒÆ’Ã‚Â¢ÃƒÂ¢Ã¢â‚¬Å¡Ã‚Â¬ÃƒÂ¢Ã¢â€šÂ¬Ã…â€œ if hazard'],\n",
       "      dtype=object)"
      ]
     },
     "execution_count": 64,
     "metadata": {},
     "output_type": "execute_result"
    }
   ],
   "source": [
    "#replacing Weather Conditions entities\n",
    "data['Weather Conditions'] = data['Weather Conditions'].astype(str).replace(dict_weather)\n",
    "data['Weather Conditions'].unique()"
   ]
  },
  {
   "cell_type": "code",
   "execution_count": 65,
   "id": "06b4e095",
   "metadata": {
    "ExecuteTime": {
     "end_time": "2021-11-08T09:31:58.650655Z",
     "start_time": "2021-11-08T09:31:58.616109Z"
    },
    "cell_id": "00079-0313ffe4-553d-4476-9525-11d86cb8f1db",
    "deepnote_app_coordinates": {
     "h": 5,
     "w": 12,
     "x": 0,
     "y": 462
    },
    "deepnote_cell_type": "code",
    "deepnote_to_be_reexecuted": true,
    "execution_millis": 1233,
    "execution_start": 1636221525865,
    "source_hash": "b9d45dad"
   },
   "outputs": [
    {
     "data": {
      "text/plain": [
       "array(['Raining without high winds', 'Fine without high winds',\n",
       "       'Raining with high winds', 'Other', 'Unknown',\n",
       "       'Fine with high winds', 'Snowing without high winds',\n",
       "       'Darkness: street lighting unknown', 'Snowing with high winds',\n",
       "       'Fog or mist'], dtype=object)"
      ]
     },
     "execution_count": 65,
     "metadata": {},
     "output_type": "execute_result"
    }
   ],
   "source": [
    "data['Weather Conditions']=data['Weather Conditions'].replace(to_replace=r'Fog or mist.*',value='Fog or mist',regex=True)\n",
    "\n",
    "data['Weather Conditions'].unique()"
   ]
  },
  {
   "cell_type": "markdown",
   "id": "bdb6925e",
   "metadata": {
    "cell_id": "00096-1cd3c23f-2640-49ca-863f-b596977dcff5",
    "deepnote_app_coordinates": {
     "h": 5,
     "w": 12,
     "x": 0,
     "y": 873
    },
    "deepnote_cell_type": "markdown",
    "tags": []
   },
   "source": [
    "#### Casualty Class data mapping"
   ]
  },
  {
   "cell_type": "code",
   "execution_count": 66,
   "id": "d1a7bc1a",
   "metadata": {
    "ExecuteTime": {
     "end_time": "2021-11-08T09:32:00.782660Z",
     "start_time": "2021-11-08T09:32:00.777283Z"
    },
    "cell_id": "00080-72352ac4-a7f6-42e1-9d5b-833251176bc1",
    "deepnote_app_coordinates": {
     "h": 5,
     "w": 12,
     "x": 0,
     "y": 468
    },
    "deepnote_cell_type": "code",
    "deepnote_to_be_reexecuted": true,
    "execution_millis": 3,
    "execution_start": 1636221530936,
    "source_hash": "3a05c36"
   },
   "outputs": [
    {
     "data": {
      "text/plain": [
       "{'1': 'Driver or rider',\n",
       " '2': 'Vehicle or pillion passenger',\n",
       " '3': 'Pedestrian'}"
      ]
     },
     "execution_count": 66,
     "metadata": {},
     "output_type": "execute_result"
    }
   ],
   "source": [
    "dict_casualty_class = dict(zip(guidance_data.loc[35:37]['1st Road Class'].values,guidance_data.loc[35:37]['1st Road Class Desc'].values))\n",
    "dict_casualty_class"
   ]
  },
  {
   "cell_type": "code",
   "execution_count": 67,
   "id": "d46b90b7",
   "metadata": {
    "ExecuteTime": {
     "end_time": "2021-11-08T09:32:02.959114Z",
     "start_time": "2021-11-08T09:32:02.941738Z"
    },
    "cell_id": "00081-ca4d5847-f262-4596-9470-ab0ee5007106",
    "deepnote_app_coordinates": {
     "h": 5,
     "w": 12,
     "x": 0,
     "y": 474
    },
    "deepnote_cell_type": "code",
    "deepnote_to_be_reexecuted": true,
    "execution_millis": 20,
    "execution_start": 1636221532335,
    "source_hash": "b2618746"
   },
   "outputs": [
    {
     "data": {
      "text/plain": [
       "array(['Driver/Rider', 'Pedestrian', 'Passenger'], dtype=object)"
      ]
     },
     "execution_count": 67,
     "metadata": {},
     "output_type": "execute_result"
    }
   ],
   "source": [
    "# Replacing Casualty CLass entites\n",
    "data['Casualty Class']=data['Casualty Class']=data['Casualty Class'].astype(str).replace(dict_casualty_class)\n",
    "data['Casualty Class']= data['Casualty Class'].replace({'Driver':'Driver/Rider','Driver or rider':'Driver/Rider','Vehicle or pillion passenger':'Passenger'})\n",
    "data['Casualty Class'].unique()"
   ]
  },
  {
   "cell_type": "markdown",
   "id": "ee63ee6d",
   "metadata": {
    "cell_id": "00098-5f89a99f-d98e-4501-8e95-39b812e40c6a",
    "deepnote_app_coordinates": {
     "h": 5,
     "w": 12,
     "x": 0,
     "y": 867
    },
    "deepnote_cell_type": "markdown",
    "tags": []
   },
   "source": [
    "#### Casualty Serverity Data Mapping"
   ]
  },
  {
   "cell_type": "code",
   "execution_count": 68,
   "id": "fc342172",
   "metadata": {
    "ExecuteTime": {
     "end_time": "2021-11-08T09:32:05.026285Z",
     "start_time": "2021-11-08T09:32:05.020412Z"
    },
    "cell_id": "00082-c3b0dd6f-6488-4fdd-9f17-1243589b04a8",
    "deepnote_app_coordinates": {
     "h": 5,
     "w": 12,
     "x": 0,
     "y": 480
    },
    "deepnote_cell_type": "code",
    "deepnote_to_be_reexecuted": true,
    "execution_millis": 6,
    "execution_start": 1636221538600,
    "source_hash": "176f11d2"
   },
   "outputs": [
    {
     "data": {
      "text/plain": [
       "{'1': 'Fatal', '2': 'Serious', '3': 'Slight'}"
      ]
     },
     "execution_count": 68,
     "metadata": {},
     "output_type": "execute_result"
    }
   ],
   "source": [
    "dict_casualty_severity = dict(zip(guidance_data.loc[40:42]['1st Road Class'].values,guidance_data.loc[40:42]['1st Road Class Desc'].values))\n",
    "dict_casualty_severity"
   ]
  },
  {
   "cell_type": "code",
   "execution_count": 69,
   "id": "e0bc0892",
   "metadata": {
    "ExecuteTime": {
     "end_time": "2021-11-08T09:32:07.053054Z",
     "start_time": "2021-11-08T09:32:07.038888Z"
    },
    "cell_id": "00083-6083effa-e4ae-49f8-b868-13558498ea80",
    "deepnote_app_coordinates": {
     "h": 5,
     "w": 12,
     "x": 0,
     "y": 486
    },
    "deepnote_cell_type": "code",
    "deepnote_to_be_reexecuted": true,
    "execution_millis": 8,
    "execution_start": 1636221539730,
    "source_hash": "cfe0b34b"
   },
   "outputs": [
    {
     "data": {
      "text/plain": [
       "array(['Slight', 'Serious', 'Fatal'], dtype=object)"
      ]
     },
     "execution_count": 69,
     "metadata": {},
     "output_type": "execute_result"
    }
   ],
   "source": [
    "#Replacing Casulty Severity entities\n",
    "data['Casualty Severity']=data['Casualty Severity'].astype(str).replace(dict_casualty_severity)\n",
    "data['Casualty Severity'].unique()"
   ]
  },
  {
   "cell_type": "markdown",
   "id": "4497e0b8",
   "metadata": {
    "cell_id": "00102-64ad0923-67af-4be0-9782-d04e03b131f4",
    "deepnote_app_coordinates": {
     "h": 5,
     "w": 12,
     "x": 0,
     "y": 879
    },
    "deepnote_cell_type": "markdown",
    "tags": []
   },
   "source": [
    "#### Sex of Casualty Data Mapping"
   ]
  },
  {
   "cell_type": "code",
   "execution_count": 70,
   "id": "e96e1d7b",
   "metadata": {
    "ExecuteTime": {
     "end_time": "2021-11-08T09:32:09.047207Z",
     "start_time": "2021-11-08T09:32:09.039982Z"
    },
    "cell_id": "00084-94a7e0c6-7d37-4ceb-8508-0c199f2525bf",
    "deepnote_app_coordinates": {
     "h": 5,
     "w": 12,
     "x": 0,
     "y": 492
    },
    "deepnote_cell_type": "code",
    "deepnote_to_be_reexecuted": true,
    "execution_millis": 8,
    "execution_start": 1636221546100,
    "source_hash": "d7f54e06"
   },
   "outputs": [
    {
     "data": {
      "text/plain": [
       "{'1': 'Male', '2': 'Female'}"
      ]
     },
     "execution_count": 70,
     "metadata": {},
     "output_type": "execute_result"
    }
   ],
   "source": [
    "#### Here creating dictionary by taking the index values by using loc for sex of Casualty \n",
    "dict_casualty_sex = dict(zip(guidance_data.loc[45:46]['1st Road Class'].values,guidance_data.loc[45:46]['1st Road Class Desc'].values))\n",
    "dict_casualty_sex"
   ]
  },
  {
   "cell_type": "code",
   "execution_count": 71,
   "id": "2e290772",
   "metadata": {
    "ExecuteTime": {
     "end_time": "2021-11-08T09:32:11.186515Z",
     "start_time": "2021-11-08T09:32:11.169803Z"
    },
    "cell_id": "00085-acacad86-1fd7-4efd-ad23-174779eda37f",
    "deepnote_app_coordinates": {
     "h": 5,
     "w": 12,
     "x": 0,
     "y": 498
    },
    "deepnote_cell_type": "code",
    "deepnote_to_be_reexecuted": true,
    "execution_millis": 48,
    "execution_start": 1636221547622,
    "source_hash": "796d5195"
   },
   "outputs": [
    {
     "data": {
      "text/plain": [
       "array(['Male', 'Female'], dtype=object)"
      ]
     },
     "execution_count": 71,
     "metadata": {},
     "output_type": "execute_result"
    }
   ],
   "source": [
    "#replacing Sex of Casualty entities\n",
    "data['Sex of Casualty']=data['Sex of Casualty'].astype(str).replace(dict_casualty_sex)\n",
    "data['Sex of Casualty'].unique()"
   ]
  },
  {
   "cell_type": "markdown",
   "id": "ed8ae01c",
   "metadata": {
    "cell_id": "00105-4ca07b77-02ed-46de-89aa-a409f56687c6",
    "deepnote_app_coordinates": {
     "h": 5,
     "w": 12,
     "x": 0,
     "y": 885
    },
    "deepnote_cell_type": "markdown",
    "tags": []
   },
   "source": [
    "#### Type of Vehicle Data Mapping"
   ]
  },
  {
   "cell_type": "code",
   "execution_count": 72,
   "id": "fe646d04",
   "metadata": {
    "ExecuteTime": {
     "end_time": "2021-11-08T09:32:13.093524Z",
     "start_time": "2021-11-08T09:32:13.087088Z"
    },
    "cell_id": "00086-c23fb497-89e3-4666-956e-dc9df7924ce6",
    "deepnote_app_coordinates": {
     "h": 5,
     "w": 12,
     "x": 0,
     "y": 504
    },
    "deepnote_cell_type": "code",
    "deepnote_to_be_reexecuted": true,
    "execution_millis": 12,
    "execution_start": 1636221550222,
    "source_hash": "dd5a80a0"
   },
   "outputs": [
    {
     "data": {
      "text/plain": [
       "{'1': 'Pedal cycle',\n",
       " '2': 'M/cycle 50cc and under',\n",
       " '3': 'Motorcycle over 50cc and up to 125cc',\n",
       " '4': 'Motorcycle over 125cc and up to 500cc',\n",
       " '5': 'Motorcycle over 500cc',\n",
       " '6': '[Not used]',\n",
       " '7': '[Not used]',\n",
       " '8': 'Taxi/Private hire car',\n",
       " '9': 'Car',\n",
       " '10': 'Minibus (8 – 16 passenger seats)',\n",
       " '11': 'Bus or coach (17 or more passenger seats)',\n",
       " '12': '[Not used]',\n",
       " '13': '[Not used]',\n",
       " '14': 'Other motor vehicle',\n",
       " '15': 'Other non-motor vehicle',\n",
       " '16': 'Ridden horse',\n",
       " '17': 'Agricultural vehicle (includes diggers etc.)',\n",
       " '18': 'Tram / Light rail',\n",
       " '19': 'Goods vehicle 3.5 tonnes mgw and under',\n",
       " '20': 'Goods vehicle over 3.5 tonnes and under 7.5 tonnes mgw',\n",
       " '21': 'Goods vehicle 7.5 tonnes mgw and over',\n",
       " '22': 'Mobility Scooter',\n",
       " '90': 'Other Vehicle ',\n",
       " '97': 'Motorcycle - Unknown CC'}"
      ]
     },
     "execution_count": 72,
     "metadata": {},
     "output_type": "execute_result"
    }
   ],
   "source": [
    "#### Here creating dictionary by taking the index values by using loc for Type of Vehicle\n",
    "dict_type_vehc = dict(zip(guidance_data.loc[52:]['1st Road Class'].values,guidance_data.loc[52:]['1st Road Class Desc'].values))\n",
    "dict_type_vehc"
   ]
  },
  {
   "cell_type": "code",
   "execution_count": 73,
   "id": "0af7194e",
   "metadata": {
    "ExecuteTime": {
     "end_time": "2021-11-08T09:32:16.138562Z",
     "start_time": "2021-11-08T09:32:16.112800Z"
    },
    "cell_id": "00087-82faa47f-009b-4768-ab83-119363a8f1eb",
    "deepnote_app_coordinates": {
     "h": 5,
     "w": 12,
     "x": 0,
     "y": 510
    },
    "deepnote_cell_type": "code",
    "deepnote_to_be_reexecuted": true,
    "execution_millis": 7485,
    "execution_start": 1636221556721,
    "scrolled": true,
    "source_hash": "a69f7184"
   },
   "outputs": [
    {
     "data": {
      "text/plain": [
       "array(['Car', 'Pedal cycle', 'Bus or coach (17 or more passenger seats)',\n",
       "       'Motorcycle over 50cc and up to 125cc',\n",
       "       'Motorcycle over 125cc and up to 500cc', 'Taxi/Private hire car',\n",
       "       'Goods vehicle 3.5 tonnes mgw and under',\n",
       "       'Goods vehicle over 3.5 tonnes and under 7.5 tonnes mgw',\n",
       "       'Motorcycle over 500cc', 'Goods vehicle 7.5 tonnes mgw and over',\n",
       "       'M/cycle 50cc and under', 'Other Vehicle ', 'Ridden horse',\n",
       "       'Motorcycle - Unknown CC', 'Mobility Scooter',\n",
       "       'Minibus (8 Ã¢â‚¬â€œ 16 passenger seats)',\n",
       "       'Minibus (8 ÃƒÂ¢Ã¢â€šÂ¬Ã¢â‚¬Å“ 16 passenger seats)',\n",
       "       'Tram / Light rail',\n",
       "       'Agricultural vehicle (includes diggers etc.)',\n",
       "       'Minibus (8 – 16 passenger seats)',\n",
       "       'Motorcycle 12Motorcycle over 500cccc to Motorcycle over 500cc00cc',\n",
       "       'Motorcycle Motorcycle over 500cc0cc and under', 'Car0',\n",
       "       'Pedal cyclePedal cycle',\n",
       "       'Motorcycle Motorcycle over 500cc0cc to 12Motorcycle over 500cccc',\n",
       "       'Pedal cycleCar',\n",
       "       'Motorcycle Motorcycle over 500cc0cc and underPedal cycle',\n",
       "       'Motorcycle Motorcycle over 500cc0cc and under0', 'Car7',\n",
       "       'Pedal cycle0', 'CarTaxi/Private hire car',\n",
       "       'Motorcycle Motorcycle over 500cc0cc and underMotorcycle Motorcycle over 500cc0cc and under',\n",
       "       'Minibus (8 ÃƒÆ’Ã‚Â¢ÃƒÂ¢Ã¢â‚¬Å¡Ã‚Â¬ÃƒÂ¢Ã¢â€šÂ¬Ã…â€œ 16 passenger seats)',\n",
       "       'nan'], dtype=object)"
      ]
     },
     "execution_count": 73,
     "metadata": {},
     "output_type": "execute_result"
    }
   ],
   "source": [
    "#Replacing Type of Vehicle entities\n",
    "data['Type of Vehicle']=data['Type of Vehicle'].astype(str).replace(dict_type_vehc)\n",
    "data['Type of Vehicle'].unique()\n",
    "a= data['Type of Vehicle']\n",
    "a.unique()"
   ]
  },
  {
   "cell_type": "markdown",
   "id": "7be47cb1",
   "metadata": {
    "cell_id": "00088-c7539c1b-7632-493f-808d-ad98b99240fb",
    "deepnote_app_coordinates": {
     "h": 5,
     "w": 12,
     "x": 0,
     "y": 516
    },
    "deepnote_cell_type": "markdown"
   },
   "source": [
    "#### Grouping the vehicle types for uniformity \n",
    "Used regular expression to replace the vehicle type names:\n",
    "- All names start with Motorcycle or M/cycle -> Motorclycle\n",
    "- All names start with Minibus -> minibus\n",
    "- All names start with Bus -> Bus.\n",
    "- All names start with Tax -> Taxi/Hire\n",
    "- All names start with Goods -> Goods Vehicle\n",
    "- Pedal names start with -> Pedal cycle\n",
    "- All names start with Car -> Car\n",
    "            \n"
   ]
  },
  {
   "cell_type": "code",
   "execution_count": 74,
   "id": "cf6094ed",
   "metadata": {
    "ExecuteTime": {
     "end_time": "2021-11-08T09:32:25.576180Z",
     "start_time": "2021-11-08T09:32:25.549629Z"
    },
    "cell_id": "00109-3d353bd1-55bc-437f-9497-203fcc741a6c",
    "deepnote_app_coordinates": {
     "h": 5,
     "w": 12,
     "x": 0,
     "y": 897
    },
    "deepnote_cell_type": "code",
    "deepnote_to_be_reexecuted": true,
    "execution_millis": 1597,
    "execution_start": 1636221569092,
    "source_hash": "650cef64",
    "tags": []
   },
   "outputs": [],
   "source": [
    "data['Type of Vehicle']=data['Type of Vehicle'].replace(to_replace=r'Motorcy.*',value=\"Motorcycle\",regex=True)"
   ]
  },
  {
   "cell_type": "code",
   "execution_count": 75,
   "id": "a43fc104",
   "metadata": {
    "ExecuteTime": {
     "end_time": "2021-11-08T09:32:27.379415Z",
     "start_time": "2021-11-08T09:32:27.353117Z"
    },
    "cell_id": "00110-35da191f-0391-45c7-a75f-75f8a1d5f0f9",
    "deepnote_app_coordinates": {
     "h": 5,
     "w": 12,
     "x": 0,
     "y": 945
    },
    "deepnote_cell_type": "code",
    "deepnote_to_be_reexecuted": true,
    "execution_millis": 1626,
    "execution_start": 1636221570697,
    "source_hash": "b797238c",
    "tags": []
   },
   "outputs": [],
   "source": [
    "data['Type of Vehicle']=data['Type of Vehicle'].replace(to_replace=r'M/cycle.*',value=\"Motorcycle\",regex=True)\n"
   ]
  },
  {
   "cell_type": "code",
   "execution_count": 76,
   "id": "ed87e3ef",
   "metadata": {
    "ExecuteTime": {
     "end_time": "2021-11-08T09:32:27.912193Z",
     "start_time": "2021-11-08T09:32:27.886015Z"
    },
    "cell_id": "00110-010bb66a-ce42-43c0-a03b-10173b4e9893",
    "deepnote_app_coordinates": {
     "h": 5,
     "w": 12,
     "x": 0,
     "y": 903
    },
    "deepnote_cell_type": "code",
    "deepnote_to_be_reexecuted": true,
    "execution_millis": 1610,
    "execution_start": 1636221572336,
    "source_hash": "ac3e198e",
    "tags": []
   },
   "outputs": [],
   "source": [
    "data['Type of Vehicle']=data['Type of Vehicle'].replace(to_replace=r'Bus.*',value=\"Bus\",regex=True)"
   ]
  },
  {
   "cell_type": "code",
   "execution_count": 77,
   "id": "23bb0018",
   "metadata": {
    "ExecuteTime": {
     "end_time": "2021-11-08T09:32:28.370683Z",
     "start_time": "2021-11-08T09:32:28.343714Z"
    },
    "cell_id": "00111-0bcb4b59-bdc2-4afd-b05b-ce7a6c0352c9",
    "deepnote_app_coordinates": {
     "h": 5,
     "w": 12,
     "x": 0,
     "y": 909
    },
    "deepnote_cell_type": "code",
    "deepnote_to_be_reexecuted": true,
    "execution_millis": 1614,
    "execution_start": 1636221573954,
    "source_hash": "e592bd89",
    "tags": []
   },
   "outputs": [],
   "source": [
    "data['Type of Vehicle']=data['Type of Vehicle'].replace(to_replace=r'Taxi.*',value=\"Taxi/Hire\",regex=True)"
   ]
  },
  {
   "cell_type": "code",
   "execution_count": 78,
   "id": "f32b082f",
   "metadata": {
    "ExecuteTime": {
     "end_time": "2021-11-08T09:32:28.884211Z",
     "start_time": "2021-11-08T09:32:28.856102Z"
    },
    "cell_id": "00112-b52a1431-9f4c-4c36-96db-421c56069bae",
    "deepnote_app_coordinates": {
     "h": 5,
     "w": 12,
     "x": 0,
     "y": 915
    },
    "deepnote_cell_type": "code",
    "deepnote_to_be_reexecuted": true,
    "execution_millis": 1512,
    "execution_start": 1636221577106,
    "source_hash": "8242aea6",
    "tags": []
   },
   "outputs": [],
   "source": [
    "data['Type of Vehicle']=data['Type of Vehicle'].replace(to_replace=r'Goods.*',value=\"Goods Vehicle\",regex=True)\n"
   ]
  },
  {
   "cell_type": "code",
   "execution_count": 79,
   "id": "007f0860",
   "metadata": {
    "ExecuteTime": {
     "end_time": "2021-11-08T09:32:29.349520Z",
     "start_time": "2021-11-08T09:32:29.314238Z"
    },
    "cell_id": "00113-38b45414-e1d2-4c15-b9a6-a473dc7ac718",
    "deepnote_app_coordinates": {
     "h": 5,
     "w": 12,
     "x": 0,
     "y": 921
    },
    "deepnote_cell_type": "code",
    "deepnote_to_be_reexecuted": true,
    "execution_millis": 1580,
    "execution_start": 1636221579678,
    "source_hash": "5b2ea7dd",
    "tags": []
   },
   "outputs": [],
   "source": [
    "data['Type of Vehicle']=data['Type of Vehicle'].replace(to_replace=r'Pedal.*',value=\"Pedal cycle\",regex=True)"
   ]
  },
  {
   "cell_type": "code",
   "execution_count": 80,
   "id": "1223dc0b",
   "metadata": {
    "ExecuteTime": {
     "end_time": "2021-11-08T09:32:30.944414Z",
     "start_time": "2021-11-08T09:32:30.915192Z"
    },
    "cell_id": "00114-fefde623-8b75-4826-80cd-a14cd39cc363",
    "deepnote_app_coordinates": {
     "h": 5,
     "w": 12,
     "x": 0,
     "y": 927
    },
    "deepnote_cell_type": "code",
    "deepnote_to_be_reexecuted": true,
    "execution_millis": 1625,
    "execution_start": 1636221582727,
    "source_hash": "7d5ec4d1",
    "tags": []
   },
   "outputs": [],
   "source": [
    "data['Type of Vehicle']=data['Type of Vehicle'].replace(to_replace=r'Car.*',value=\"Car\",regex=True)"
   ]
  },
  {
   "cell_type": "code",
   "execution_count": 81,
   "id": "61e2047e",
   "metadata": {
    "ExecuteTime": {
     "end_time": "2021-11-08T09:32:31.396034Z",
     "start_time": "2021-11-08T09:32:31.367002Z"
    },
    "cell_id": "00115-cfa54c8b-4c57-427e-bccf-39b1b8a4efc7",
    "deepnote_app_coordinates": {
     "h": 5,
     "w": 12,
     "x": 0,
     "y": 933
    },
    "deepnote_cell_type": "code",
    "deepnote_to_be_reexecuted": true,
    "execution_millis": 1229,
    "execution_start": 1636221584353,
    "source_hash": "d11fc23e",
    "tags": []
   },
   "outputs": [],
   "source": [
    "data['Type of Vehicle']=data['Type of Vehicle'].replace(to_replace=r'Minibus.*',value=\"Minibus\",regex=True)\n"
   ]
  },
  {
   "cell_type": "code",
   "execution_count": 82,
   "id": "29a8ebe1",
   "metadata": {
    "ExecuteTime": {
     "end_time": "2021-11-08T09:32:31.855710Z",
     "start_time": "2021-11-08T09:32:31.849307Z"
    },
    "cell_id": "00116-cc8b5309-9e74-4b6d-b2ab-82dd1bfd2a6d",
    "deepnote_app_coordinates": {
     "h": 5,
     "w": 12,
     "x": 0,
     "y": 939
    },
    "deepnote_cell_type": "code",
    "deepnote_to_be_reexecuted": true,
    "execution_millis": 112,
    "execution_start": 1636221589081,
    "source_hash": "181d6541",
    "tags": []
   },
   "outputs": [
    {
     "data": {
      "text/plain": [
       "array(['Car', 'Pedal cycle', 'Bus', 'Motorcycle', 'Taxi/Hire',\n",
       "       'Goods Vehicle', 'Other Vehicle ', 'Ridden horse',\n",
       "       'Mobility Scooter', 'Minibus', 'Tram / Light rail',\n",
       "       'Agricultural vehicle (includes diggers etc.)', 'nan'],\n",
       "      dtype=object)"
      ]
     },
     "execution_count": 82,
     "metadata": {},
     "output_type": "execute_result"
    }
   ],
   "source": [
    "data[\"Type of Vehicle\"].unique()"
   ]
  },
  {
   "cell_type": "markdown",
   "id": "34a5df18",
   "metadata": {
    "cell_id": "00090-c584a71a-abaa-43cb-834b-03834a18bfa8",
    "deepnote_app_coordinates": {
     "h": 5,
     "w": 12,
     "x": 0,
     "y": 522
    },
    "deepnote_cell_type": "markdown",
    "run_control": {
     "marked": true
    }
   },
   "source": [
    "#### Grouping the Age of Casualty \n",
    "\n",
    "age group as follows: \n",
    "- 0-14 years (children)  \n",
    "- 15-24 years (early working age)\n",
    "- 25-54 years (prime working age)\n",
    "- 55-64 years (mature working age) \n",
    "- 65 years and over (elderly)"
   ]
  },
  {
   "cell_type": "code",
   "execution_count": 83,
   "id": "376b7ba1",
   "metadata": {
    "ExecuteTime": {
     "end_time": "2021-11-08T09:32:36.869131Z",
     "start_time": "2021-11-08T09:32:36.865755Z"
    },
    "cell_id": "00091-fbbddd36-1cb4-4e23-810e-07f5e63c928c",
    "deepnote_app_coordinates": {
     "h": 5,
     "w": 12,
     "x": 0,
     "y": 528
    },
    "deepnote_cell_type": "code",
    "deepnote_to_be_reexecuted": true,
    "execution_millis": 1,
    "execution_start": 1636221607254,
    "source_hash": "73bb33b3"
   },
   "outputs": [],
   "source": [
    "def age_group(x):\n",
    "    if x in range(1,15):\n",
    "        return \"children\"\n",
    "    elif x in range(15,25):\n",
    "        return \"early working age\"\n",
    "    elif x in range(25,55):\n",
    "        return \"prime working age\"\n",
    "    elif x in range(55,65):\n",
    "        return \"mature working age\"\n",
    "    elif x > 65:\n",
    "        return \"elderly\"\n",
    "    else:\n",
    "        return \"nan\"\n",
    "    \n",
    "   "
   ]
  },
  {
   "cell_type": "code",
   "execution_count": 84,
   "id": "0c566610",
   "metadata": {
    "ExecuteTime": {
     "end_time": "2021-11-08T09:32:40.980880Z",
     "start_time": "2021-11-08T09:32:40.955672Z"
    },
    "cell_id": "00092-170042b4-e473-4a8e-b0f6-7e155c605a26",
    "deepnote_app_coordinates": {
     "h": 5,
     "w": 12,
     "x": 0,
     "y": 534
    },
    "deepnote_cell_type": "code",
    "deepnote_to_be_reexecuted": true,
    "execution_millis": 30,
    "execution_start": 1636221608571,
    "source_hash": "569740f9"
   },
   "outputs": [],
   "source": [
    "data['Age of Casualty'] = data['Age of Casualty'].apply(age_group)"
   ]
  },
  {
   "cell_type": "code",
   "execution_count": 85,
   "id": "5379ed8f",
   "metadata": {
    "ExecuteTime": {
     "end_time": "2021-11-08T09:32:43.278289Z",
     "start_time": "2021-11-08T09:32:43.272719Z"
    },
    "cell_id": "00093-ea7ca17a-df4d-4638-a1a5-9251a407e5fa",
    "deepnote_app_coordinates": {
     "h": 5,
     "w": 12,
     "x": 0,
     "y": 540
    },
    "deepnote_cell_type": "code",
    "deepnote_to_be_reexecuted": true,
    "execution_millis": 11,
    "execution_start": 1636221609941,
    "source_hash": "f970488a"
   },
   "outputs": [
    {
     "data": {
      "text/plain": [
       "array(['mature working age', 'elderly', 'prime working age',\n",
       "       'early working age', 'children', 'nan'], dtype=object)"
      ]
     },
     "execution_count": 85,
     "metadata": {},
     "output_type": "execute_result"
    }
   ],
   "source": [
    "data['Age of Casualty'].unique()"
   ]
  },
  {
   "cell_type": "code",
   "execution_count": 86,
   "id": "8a25c9dc",
   "metadata": {
    "ExecuteTime": {
     "end_time": "2021-11-08T09:32:45.067924Z",
     "start_time": "2021-11-08T09:32:45.061573Z"
    },
    "cell_id": "00094-90bc33ae-c392-4859-97f7-03e2a4b731be",
    "deepnote_app_coordinates": {
     "h": 5,
     "w": 12,
     "x": 0,
     "y": 546
    },
    "deepnote_cell_type": "code",
    "deepnote_to_be_reexecuted": true,
    "execution_millis": 3,
    "execution_start": 1636221613627,
    "scrolled": true,
    "source_hash": "c8a8c27a"
   },
   "outputs": [
    {
     "data": {
      "text/plain": [
       "Index(['Reference Number', 'Easting', 'Northing', 'Number of Vehicles',\n",
       "       'Accident Date', 'Time (24hr)', '1st Road Class', 'Road Surface',\n",
       "       'Lighting Conditions', 'Weather Conditions', 'Casualty Class',\n",
       "       'Casualty Severity', 'Sex of Casualty', 'Age of Casualty',\n",
       "       'Type of Vehicle'],\n",
       "      dtype='object')"
      ]
     },
     "execution_count": 86,
     "metadata": {},
     "output_type": "execute_result"
    }
   ],
   "source": [
    "data.columns"
   ]
  },
  {
   "cell_type": "markdown",
   "id": "f055a266",
   "metadata": {
    "ExecuteTime": {
     "end_time": "2021-11-02T18:40:33.504552Z",
     "start_time": "2021-11-02T18:40:33.501726Z"
    },
    "cell_id": "00095-68cffa83-ab5c-4c11-9ec8-5b2ad8600fd3",
    "deepnote_app_coordinates": {
     "h": 5,
     "w": 12,
     "x": 0,
     "y": 552
    },
    "deepnote_cell_type": "markdown"
   },
   "source": [
    "##### Setting datetime as index"
   ]
  },
  {
   "cell_type": "code",
   "execution_count": 87,
   "id": "832f69cc",
   "metadata": {
    "ExecuteTime": {
     "end_time": "2021-11-08T09:32:48.456542Z",
     "start_time": "2021-11-08T09:32:48.425095Z"
    },
    "cell_id": "00096-c80510ef-4634-45fb-8763-da1840651986",
    "deepnote_app_coordinates": {
     "h": 5,
     "w": 12,
     "x": 0,
     "y": 558
    },
    "deepnote_cell_type": "code",
    "deepnote_to_be_reexecuted": true,
    "execution_millis": 105,
    "execution_start": 1636221618161,
    "source_hash": "833a72f4"
   },
   "outputs": [
    {
     "data": {
      "text/plain": [
       "0    1840\n",
       "1    1430\n",
       "2    1430\n",
       "3    0817\n",
       "4    0817\n",
       "Name: Time (24hr), dtype: object"
      ]
     },
     "execution_count": 87,
     "metadata": {},
     "output_type": "execute_result"
    }
   ],
   "source": [
    "data['Time (24hr)']=data['Time (24hr)'].astype(str).str.zfill(4)\n",
    "data['Time (24hr)'].head()"
   ]
  },
  {
   "cell_type": "code",
   "execution_count": 88,
   "id": "1e79bb1c",
   "metadata": {
    "ExecuteTime": {
     "end_time": "2021-11-08T09:32:52.100895Z",
     "start_time": "2021-11-08T09:32:50.301925Z"
    },
    "cell_id": "00097-8bf76e4b-2695-4444-a61f-93c82bdeb4ac",
    "deepnote_app_coordinates": {
     "h": 5,
     "w": 12,
     "x": 0,
     "y": 564
    },
    "deepnote_cell_type": "code",
    "deepnote_to_be_reexecuted": true,
    "execution_millis": 3752,
    "execution_start": 1636221623896,
    "scrolled": true,
    "source_hash": "b45ee1b3"
   },
   "outputs": [
    {
     "data": {
      "text/plain": [
       "0   2014-01-01 18:40:00\n",
       "1   2014-01-08 14:30:00\n",
       "2   2014-01-08 14:30:00\n",
       "3   2014-01-10 08:17:00\n",
       "4   2014-01-10 08:17:00\n",
       "Name: Datetime, dtype: datetime64[ns]"
      ]
     },
     "execution_count": 88,
     "metadata": {},
     "output_type": "execute_result"
    }
   ],
   "source": [
    "data['Datetime'] = pd.to_datetime(data['Accident Date'].astype(str) + ' ' + data['Time (24hr)'].astype(str))\n",
    "data['Datetime'].head() "
   ]
  },
  {
   "cell_type": "code",
   "execution_count": 89,
   "id": "7a1675d5",
   "metadata": {
    "ExecuteTime": {
     "end_time": "2021-11-08T09:32:52.290923Z",
     "start_time": "2021-11-08T09:32:52.261201Z"
    },
    "cell_id": "00098-347b9b7a-e891-4b62-b865-625537693e28",
    "deepnote_app_coordinates": {
     "h": 5,
     "w": 12,
     "x": 0,
     "y": 570
    },
    "deepnote_cell_type": "code",
    "deepnote_to_be_reexecuted": true,
    "execution_millis": 29,
    "execution_start": 1636221629272,
    "scrolled": true,
    "source_hash": "faa68f94"
   },
   "outputs": [],
   "source": [
    "data=data.set_index('Datetime')\n",
    "data=data.sort_index()\n"
   ]
  },
  {
   "cell_type": "markdown",
   "id": "a62cb998",
   "metadata": {
    "ExecuteTime": {
     "end_time": "2021-11-01T13:03:01.061605Z",
     "start_time": "2021-11-01T13:03:01.061577Z"
    },
    "cell_id": "00099-4a362b0f-22cd-463c-a7cf-b051b022376a",
    "deepnote_app_coordinates": {
     "h": 5,
     "w": 12,
     "x": 0,
     "y": 576
    },
    "deepnote_cell_type": "markdown"
   },
   "source": [
    "##### dropping Accident Datetime' and Time (24hr) columns"
   ]
  },
  {
   "cell_type": "code",
   "execution_count": 90,
   "id": "b9fdbaac",
   "metadata": {
    "ExecuteTime": {
     "end_time": "2021-11-08T09:32:54.990631Z",
     "start_time": "2021-11-08T09:32:54.969175Z"
    },
    "cell_id": "00100-0389afd3-17f5-44e1-a9d7-1473ee70703c",
    "deepnote_app_coordinates": {
     "h": 5,
     "w": 12,
     "x": 0,
     "y": 582
    },
    "deepnote_cell_type": "code",
    "deepnote_to_be_reexecuted": true,
    "execution_millis": 1,
    "execution_start": 1636221636119,
    "source_hash": "ba7b2058"
   },
   "outputs": [],
   "source": [
    "data=data.drop(labels=['Accident Date', 'Time (24hr)'],axis=1)"
   ]
  },
  {
   "cell_type": "code",
   "execution_count": 91,
   "id": "2e135770",
   "metadata": {
    "ExecuteTime": {
     "end_time": "2021-11-08T09:32:55.491884Z",
     "start_time": "2021-11-08T09:32:55.487508Z"
    },
    "cell_id": "00101-3f0dc1bc-1d79-4619-98a8-52a8b3ae814a",
    "deepnote_app_coordinates": {
     "h": 5,
     "w": 12,
     "x": 0,
     "y": 588
    },
    "deepnote_cell_type": "code",
    "deepnote_to_be_reexecuted": true,
    "execution_millis": 7,
    "execution_start": 1636221637330,
    "source_hash": "2007f58"
   },
   "outputs": [
    {
     "data": {
      "text/plain": [
       "(27628, 13)"
      ]
     },
     "execution_count": 91,
     "metadata": {},
     "output_type": "execute_result"
    }
   ],
   "source": [
    "data.shape"
   ]
  },
  {
   "cell_type": "markdown",
   "id": "f2c9fd29",
   "metadata": {
    "cell_id": "00104-1e10a5d5-3028-479e-b7bc-a858ff04055f",
    "deepnote_app_coordinates": {
     "h": 5,
     "w": 12,
     "x": 0,
     "y": 594
    },
    "deepnote_cell_type": "markdown"
   },
   "source": [
    "#### Saving to csv file of all cleaned and grouped data for further analysis"
   ]
  },
  {
   "cell_type": "code",
   "execution_count": 92,
   "id": "3da65120",
   "metadata": {
    "ExecuteTime": {
     "end_time": "2021-11-08T09:33:08.000417Z",
     "start_time": "2021-11-08T09:33:07.854877Z"
    },
    "cell_id": "00105-5625c10a-3111-489d-9498-b1b4ba44ed42",
    "deepnote_app_coordinates": {
     "h": 5,
     "w": 12,
     "x": 0,
     "y": 600
    },
    "deepnote_cell_type": "code",
    "deepnote_to_be_reexecuted": true,
    "execution_millis": 168,
    "execution_start": 1636221641949,
    "source_hash": "d69e64dd"
   },
   "outputs": [],
   "source": [
    "data.to_csv('../Road Accident Project/Data/final_cleaned.csv')"
   ]
  },
  {
   "cell_type": "markdown",
   "id": "8f2a6c97",
   "metadata": {
    "cell_id": "00106-07363110-46c2-47e1-8382-5843b1162063",
    "deepnote_app_coordinates": {
     "h": 5,
     "w": 12,
     "x": 0,
     "y": 606
    },
    "deepnote_cell_type": "markdown"
   },
   "source": [
    "#### Loding cleaned csv file for further analysis"
   ]
  },
  {
   "cell_type": "code",
   "execution_count": 93,
   "id": "6a61b117",
   "metadata": {
    "ExecuteTime": {
     "end_time": "2021-11-08T09:33:13.327131Z",
     "start_time": "2021-11-08T09:33:13.255263Z"
    },
    "cell_id": "00107-b9244ce7-45ab-4f54-9358-6713fcf1eace",
    "deepnote_app_coordinates": {
     "h": 5,
     "w": 12,
     "x": 0,
     "y": 612
    },
    "deepnote_cell_type": "code",
    "deepnote_to_be_reexecuted": true,
    "execution_millis": 97,
    "execution_start": 1636221644032,
    "source_hash": "90b92c10"
   },
   "outputs": [],
   "source": [
    "data= pd.read_csv(\"../Road Accident Project/Data/final_cleaned.csv\",parse_dates=['Datetime'],index_col='Datetime')"
   ]
  },
  {
   "cell_type": "code",
   "execution_count": null,
   "id": "93ec7b14",
   "metadata": {
    "ExecuteTime": {
     "end_time": "2021-11-05T07:56:23.418257Z",
     "start_time": "2021-11-05T07:56:23.418236Z"
    },
    "cell_id": "00108-615542b7-a72b-4811-a4cd-1e333b7c7ecc",
    "deepnote_app_coordinates": {
     "h": 5,
     "w": 12,
     "x": 0,
     "y": 618
    },
    "deepnote_cell_type": "code",
    "deepnote_to_be_reexecuted": true,
    "execution_millis": 25,
    "execution_start": 1636221645427,
    "scrolled": false,
    "source_hash": "41313cfa"
   },
   "outputs": [
    {
     "data": {
      "application/vnd.deepnote.dataframe.v2+json": {
       "column_count": 13,
       "columns": [
        {
         "dtype": "object",
         "name": "Reference Number",
         "stats": {
          "categories": [
           {
            "count": 2,
            "name": "3909"
           },
           {
            "count": 1,
            "name": "3309"
           },
           {
            "count": 2,
            "name": "2 others"
           }
          ],
          "nan_count": 0,
          "unique_count": 4
         }
        },
        {
         "dtype": "int64",
         "name": "Easting",
         "stats": {
          "histogram": [
           {
            "bin_end": 427452.5,
            "bin_start": 425928,
            "count": 2
           },
           {
            "bin_end": 428977,
            "bin_start": 427452.5,
            "count": 1
           },
           {
            "bin_end": 430501.5,
            "bin_start": 428977,
            "count": 1
           },
           {
            "bin_end": 432026,
            "bin_start": 430501.5,
            "count": 0
           },
           {
            "bin_end": 433550.5,
            "bin_start": 432026,
            "count": 0
           },
           {
            "bin_end": 435075,
            "bin_start": 433550.5,
            "count": 0
           },
           {
            "bin_end": 436599.5,
            "bin_start": 435075,
            "count": 0
           },
           {
            "bin_end": 438124,
            "bin_start": 436599.5,
            "count": 0
           },
           {
            "bin_end": 439648.5,
            "bin_start": 438124,
            "count": 0
           },
           {
            "bin_end": 441173,
            "bin_start": 439648.5,
            "count": 1
           }
          ],
          "max": "441173",
          "min": "425928",
          "nan_count": 0,
          "unique_count": 4
         }
        },
        {
         "dtype": "int64",
         "name": "Northing",
         "stats": {
          "histogram": [
           {
            "bin_end": 431853.4,
            "bin_start": 431364,
            "count": 1
           },
           {
            "bin_end": 432342.8,
            "bin_start": 431853.4,
            "count": 0
           },
           {
            "bin_end": 432832.2,
            "bin_start": 432342.8,
            "count": 0
           },
           {
            "bin_end": 433321.6,
            "bin_start": 432832.2,
            "count": 1
           },
           {
            "bin_end": 433811,
            "bin_start": 433321.6,
            "count": 0
           },
           {
            "bin_end": 434300.4,
            "bin_start": 433811,
            "count": 0
           },
           {
            "bin_end": 434789.8,
            "bin_start": 434300.4,
            "count": 0
           },
           {
            "bin_end": 435279.2,
            "bin_start": 434789.8,
            "count": 0
           },
           {
            "bin_end": 435768.6,
            "bin_start": 435279.2,
            "count": 2
           },
           {
            "bin_end": 436258,
            "bin_start": 435768.6,
            "count": 1
           }
          ],
          "max": "436258",
          "min": "431364",
          "nan_count": 0,
          "unique_count": 4
         }
        },
        {
         "dtype": "int64",
         "name": "Number of Vehicles",
         "stats": {
          "histogram": [
           {
            "bin_end": 1.1,
            "bin_start": 1,
            "count": 3
           },
           {
            "bin_end": 1.2,
            "bin_start": 1.1,
            "count": 0
           },
           {
            "bin_end": 1.3,
            "bin_start": 1.2,
            "count": 0
           },
           {
            "bin_end": 1.4,
            "bin_start": 1.3,
            "count": 0
           },
           {
            "bin_end": 1.5,
            "bin_start": 1.4,
            "count": 0
           },
           {
            "bin_end": 1.6,
            "bin_start": 1.5,
            "count": 0
           },
           {
            "bin_end": 1.7000000000000002,
            "bin_start": 1.6,
            "count": 0
           },
           {
            "bin_end": 1.8,
            "bin_start": 1.7000000000000002,
            "count": 0
           },
           {
            "bin_end": 1.9,
            "bin_start": 1.8,
            "count": 0
           },
           {
            "bin_end": 2,
            "bin_start": 1.9,
            "count": 2
           }
          ],
          "max": "2",
          "min": "1",
          "nan_count": 0,
          "unique_count": 2
         }
        },
        {
         "dtype": "object",
         "name": "1st Road Class",
         "stats": {
          "categories": [
           {
            "count": 4,
            "name": "Unclassified"
           },
           {
            "count": 1,
            "name": "A"
           }
          ],
          "nan_count": 0,
          "unique_count": 2
         }
        },
        {
         "dtype": "object",
         "name": "Road Surface",
         "stats": {
          "categories": [
           {
            "count": 5,
            "name": "Dry"
           }
          ],
          "nan_count": 0,
          "unique_count": 1
         }
        },
        {
         "dtype": "object",
         "name": "Lighting Conditions",
         "stats": {
          "categories": [
           {
            "count": 3,
            "name": "darkness: street lights present and lit"
           },
           {
            "count": 2,
            "name": "daylight: street lights present"
           }
          ],
          "nan_count": 0,
          "unique_count": 2
         }
        },
        {
         "dtype": "object",
         "name": "Weather Conditions",
         "stats": {
          "categories": [
           {
            "count": 5,
            "name": "Fine without high winds"
           }
          ],
          "nan_count": 0,
          "unique_count": 1
         }
        },
        {
         "dtype": "object",
         "name": "Type of Vehicle",
         "stats": {
          "categories": [
           {
            "count": 5,
            "name": "Car"
           }
          ],
          "nan_count": 0,
          "unique_count": 1
         }
        },
        {
         "dtype": "object",
         "name": "Casualty Class",
         "stats": {
          "categories": [
           {
            "count": 3,
            "name": "Pedestrian"
           },
           {
            "count": 2,
            "name": "Driver/Rider"
           }
          ],
          "nan_count": 0,
          "unique_count": 2
         }
        },
        {
         "dtype": "object",
         "name": "Casualty Severity",
         "stats": {
          "categories": [
           {
            "count": 5,
            "name": "Slight"
           }
          ],
          "nan_count": 0,
          "unique_count": 1
         }
        },
        {
         "dtype": "object",
         "name": "Sex of Casualty",
         "stats": {
          "categories": [
           {
            "count": 3,
            "name": "Male"
           },
           {
            "count": 2,
            "name": "Female"
           }
          ],
          "nan_count": 0,
          "unique_count": 2
         }
        },
        {
         "dtype": "object",
         "name": "Age of Casualty",
         "stats": {
          "categories": [
           {
            "count": 3,
            "name": "prime working age"
           },
           {
            "count": 1,
            "name": "children"
           },
           {
            "count": 1,
            "name": "early working age"
           }
          ],
          "nan_count": 0,
          "unique_count": 3
         }
        },
        {
         "dtype": "datetime64[ns]",
         "name": "_deepnote_index_column"
        }
       ],
       "row_count": 5,
       "rows_bottom": null,
       "rows_top": [
        {
         "1st Road Class": "Unclassified",
         "Age of Casualty": "prime working age",
         "Casualty Class": "Pedestrian",
         "Casualty Severity": "Slight",
         "Easting": 429093,
         "Lighting Conditions": "darkness: street lights present and lit",
         "Northing": 436258,
         "Number of Vehicles": 1,
         "Reference Number": "3309",
         "Road Surface": "Dry",
         "Sex of Casualty": "Male",
         "Type of Vehicle": "Car",
         "Weather Conditions": "Fine without high winds",
         "_deepnote_index_column": "2009-01-01T00:55:00.000000"
        },
        {
         "1st Road Class": "Unclassified",
         "Age of Casualty": "prime working age",
         "Casualty Class": "Driver/Rider",
         "Casualty Severity": "Slight",
         "Easting": 425928,
         "Lighting Conditions": "daylight: street lights present",
         "Northing": 435480,
         "Number of Vehicles": 2,
         "Reference Number": "3909",
         "Road Surface": "Dry",
         "Sex of Casualty": "Female",
         "Type of Vehicle": "Car",
         "Weather Conditions": "Fine without high winds",
         "_deepnote_index_column": "2009-01-02T13:50:00.000000"
        },
        {
         "1st Road Class": "Unclassified",
         "Age of Casualty": "prime working age",
         "Casualty Class": "Driver/Rider",
         "Casualty Severity": "Slight",
         "Easting": 425928,
         "Lighting Conditions": "daylight: street lights present",
         "Northing": 435480,
         "Number of Vehicles": 2,
         "Reference Number": "3909",
         "Road Surface": "Dry",
         "Sex of Casualty": "Male",
         "Type of Vehicle": "Car",
         "Weather Conditions": "Fine without high winds",
         "_deepnote_index_column": "2009-01-02T13:50:00.000000"
        },
        {
         "1st Road Class": "Unclassified",
         "Age of Casualty": "children",
         "Casualty Class": "Pedestrian",
         "Casualty Severity": "Slight",
         "Easting": 441173,
         "Lighting Conditions": "darkness: street lights present and lit",
         "Northing": 433047,
         "Number of Vehicles": 1,
         "Reference Number": "2809",
         "Road Surface": "Dry",
         "Sex of Casualty": "Female",
         "Type of Vehicle": "Car",
         "Weather Conditions": "Fine without high winds",
         "_deepnote_index_column": "2009-01-02T16:45:00.000000"
        },
        {
         "1st Road Class": "A",
         "Age of Casualty": "early working age",
         "Casualty Class": "Pedestrian",
         "Casualty Severity": "Slight",
         "Easting": 428487,
         "Lighting Conditions": "darkness: street lights present and lit",
         "Northing": 431364,
         "Number of Vehicles": 1,
         "Reference Number": "3809",
         "Road Surface": "Dry",
         "Sex of Casualty": "Male",
         "Type of Vehicle": "Car",
         "Weather Conditions": "Fine without high winds",
         "_deepnote_index_column": "2009-01-02T17:23:00.000000"
        }
       ]
      },
      "text/html": [
       "<div>\n",
       "<style scoped>\n",
       "    .dataframe tbody tr th:only-of-type {\n",
       "        vertical-align: middle;\n",
       "    }\n",
       "\n",
       "    .dataframe tbody tr th {\n",
       "        vertical-align: top;\n",
       "    }\n",
       "\n",
       "    .dataframe thead th {\n",
       "        text-align: right;\n",
       "    }\n",
       "</style>\n",
       "<table border=\"1\" class=\"dataframe\">\n",
       "  <thead>\n",
       "    <tr style=\"text-align: right;\">\n",
       "      <th></th>\n",
       "      <th>Reference Number</th>\n",
       "      <th>Easting</th>\n",
       "      <th>Northing</th>\n",
       "      <th>Number of Vehicles</th>\n",
       "      <th>1st Road Class</th>\n",
       "      <th>Road Surface</th>\n",
       "      <th>Lighting Conditions</th>\n",
       "      <th>Weather Conditions</th>\n",
       "      <th>Type of Vehicle</th>\n",
       "      <th>Casualty Class</th>\n",
       "      <th>Casualty Severity</th>\n",
       "      <th>Sex of Casualty</th>\n",
       "      <th>Age of Casualty</th>\n",
       "    </tr>\n",
       "    <tr>\n",
       "      <th>Datetime</th>\n",
       "      <th></th>\n",
       "      <th></th>\n",
       "      <th></th>\n",
       "      <th></th>\n",
       "      <th></th>\n",
       "      <th></th>\n",
       "      <th></th>\n",
       "      <th></th>\n",
       "      <th></th>\n",
       "      <th></th>\n",
       "      <th></th>\n",
       "      <th></th>\n",
       "      <th></th>\n",
       "    </tr>\n",
       "  </thead>\n",
       "  <tbody>\n",
       "    <tr>\n",
       "      <th>2009-01-01 00:55:00</th>\n",
       "      <td>3309</td>\n",
       "      <td>429093</td>\n",
       "      <td>436258</td>\n",
       "      <td>1</td>\n",
       "      <td>Unclassified</td>\n",
       "      <td>Dry</td>\n",
       "      <td>darkness: street lights present and lit</td>\n",
       "      <td>Fine without high winds</td>\n",
       "      <td>Car</td>\n",
       "      <td>Pedestrian</td>\n",
       "      <td>Slight</td>\n",
       "      <td>Male</td>\n",
       "      <td>prime working age</td>\n",
       "    </tr>\n",
       "    <tr>\n",
       "      <th>2009-01-02 13:50:00</th>\n",
       "      <td>3909</td>\n",
       "      <td>425928</td>\n",
       "      <td>435480</td>\n",
       "      <td>2</td>\n",
       "      <td>Unclassified</td>\n",
       "      <td>Dry</td>\n",
       "      <td>daylight: street lights present</td>\n",
       "      <td>Fine without high winds</td>\n",
       "      <td>Car</td>\n",
       "      <td>Driver/Rider</td>\n",
       "      <td>Slight</td>\n",
       "      <td>Female</td>\n",
       "      <td>prime working age</td>\n",
       "    </tr>\n",
       "    <tr>\n",
       "      <th>2009-01-02 13:50:00</th>\n",
       "      <td>3909</td>\n",
       "      <td>425928</td>\n",
       "      <td>435480</td>\n",
       "      <td>2</td>\n",
       "      <td>Unclassified</td>\n",
       "      <td>Dry</td>\n",
       "      <td>daylight: street lights present</td>\n",
       "      <td>Fine without high winds</td>\n",
       "      <td>Car</td>\n",
       "      <td>Driver/Rider</td>\n",
       "      <td>Slight</td>\n",
       "      <td>Male</td>\n",
       "      <td>prime working age</td>\n",
       "    </tr>\n",
       "    <tr>\n",
       "      <th>2009-01-02 16:45:00</th>\n",
       "      <td>2809</td>\n",
       "      <td>441173</td>\n",
       "      <td>433047</td>\n",
       "      <td>1</td>\n",
       "      <td>Unclassified</td>\n",
       "      <td>Dry</td>\n",
       "      <td>darkness: street lights present and lit</td>\n",
       "      <td>Fine without high winds</td>\n",
       "      <td>Car</td>\n",
       "      <td>Pedestrian</td>\n",
       "      <td>Slight</td>\n",
       "      <td>Female</td>\n",
       "      <td>children</td>\n",
       "    </tr>\n",
       "    <tr>\n",
       "      <th>2009-01-02 17:23:00</th>\n",
       "      <td>3809</td>\n",
       "      <td>428487</td>\n",
       "      <td>431364</td>\n",
       "      <td>1</td>\n",
       "      <td>A</td>\n",
       "      <td>Dry</td>\n",
       "      <td>darkness: street lights present and lit</td>\n",
       "      <td>Fine without high winds</td>\n",
       "      <td>Car</td>\n",
       "      <td>Pedestrian</td>\n",
       "      <td>Slight</td>\n",
       "      <td>Male</td>\n",
       "      <td>early working age</td>\n",
       "    </tr>\n",
       "  </tbody>\n",
       "</table>\n",
       "</div>"
      ],
      "text/plain": [
       "                    Reference Number  Easting  Northing  Number of Vehicles  \\\n",
       "Datetime                                                                      \n",
       "2009-01-01 00:55:00             3309   429093    436258                   1   \n",
       "2009-01-02 13:50:00             3909   425928    435480                   2   \n",
       "2009-01-02 13:50:00             3909   425928    435480                   2   \n",
       "2009-01-02 16:45:00             2809   441173    433047                   1   \n",
       "2009-01-02 17:23:00             3809   428487    431364                   1   \n",
       "\n",
       "                    1st Road Class Road Surface  \\\n",
       "Datetime                                          \n",
       "2009-01-01 00:55:00   Unclassified          Dry   \n",
       "2009-01-02 13:50:00   Unclassified          Dry   \n",
       "2009-01-02 13:50:00   Unclassified          Dry   \n",
       "2009-01-02 16:45:00   Unclassified          Dry   \n",
       "2009-01-02 17:23:00              A          Dry   \n",
       "\n",
       "                                         Lighting Conditions  \\\n",
       "Datetime                                                       \n",
       "2009-01-01 00:55:00  darkness: street lights present and lit   \n",
       "2009-01-02 13:50:00          daylight: street lights present   \n",
       "2009-01-02 13:50:00          daylight: street lights present   \n",
       "2009-01-02 16:45:00  darkness: street lights present and lit   \n",
       "2009-01-02 17:23:00  darkness: street lights present and lit   \n",
       "\n",
       "                          Weather Conditions Type of Vehicle Casualty Class  \\\n",
       "Datetime                                                                      \n",
       "2009-01-01 00:55:00  Fine without high winds             Car     Pedestrian   \n",
       "2009-01-02 13:50:00  Fine without high winds             Car   Driver/Rider   \n",
       "2009-01-02 13:50:00  Fine without high winds             Car   Driver/Rider   \n",
       "2009-01-02 16:45:00  Fine without high winds             Car     Pedestrian   \n",
       "2009-01-02 17:23:00  Fine without high winds             Car     Pedestrian   \n",
       "\n",
       "                    Casualty Severity Sex of Casualty    Age of Casualty  \n",
       "Datetime                                                                  \n",
       "2009-01-01 00:55:00            Slight            Male  prime working age  \n",
       "2009-01-02 13:50:00            Slight          Female  prime working age  \n",
       "2009-01-02 13:50:00            Slight            Male  prime working age  \n",
       "2009-01-02 16:45:00            Slight          Female           children  \n",
       "2009-01-02 17:23:00            Slight            Male  early working age  "
      ]
     },
     "execution_count": 129,
     "metadata": {},
     "output_type": "execute_result"
    }
   ],
   "source": [
    "data.head()"
   ]
  },
  {
   "cell_type": "code",
   "execution_count": 94,
   "id": "72418fd2",
   "metadata": {
    "ExecuteTime": {
     "end_time": "2021-11-08T09:33:16.507555Z",
     "start_time": "2021-11-08T09:33:16.500053Z"
    },
    "cell_id": "00109-086f4f94-939c-4ee2-97d0-8234aacb1025",
    "deepnote_app_coordinates": {
     "h": 5,
     "w": 12,
     "x": 0,
     "y": 624
    },
    "deepnote_cell_type": "code",
    "deepnote_to_be_reexecuted": true,
    "execution_millis": 9,
    "execution_start": 1636221649802,
    "source_hash": "1abd022c"
   },
   "outputs": [
    {
     "data": {
      "text/plain": [
       "DatetimeIndex(['2009-01-01 00:55:00', '2009-01-02 13:50:00',\n",
       "               '2009-01-02 13:50:00', '2009-01-02 16:45:00',\n",
       "               '2009-01-02 17:23:00', '2009-01-02 23:00:00',\n",
       "               '2009-01-02 23:35:00', '2009-01-03 02:22:00',\n",
       "               '2009-01-03 03:25:00', '2009-01-03 16:45:00',\n",
       "               ...\n",
       "               '2018-12-31 13:45:00', '2018-12-31 13:45:00',\n",
       "               '2018-12-31 13:45:00', '2018-12-31 13:45:00',\n",
       "               '2018-12-31 13:45:00', '2018-12-31 13:45:00',\n",
       "               '2018-12-31 13:45:00', '2018-12-31 13:45:00',\n",
       "               '2018-12-31 16:08:00', '2018-12-31 16:08:00'],\n",
       "              dtype='datetime64[ns]', name='Datetime', length=27628, freq=None)"
      ]
     },
     "execution_count": 94,
     "metadata": {},
     "output_type": "execute_result"
    }
   ],
   "source": [
    "data.index"
   ]
  },
  {
   "cell_type": "markdown",
   "id": "82f108c3",
   "metadata": {
    "cell_id": "00128-3f60efa8-205d-494a-b7d0-1176d6e99ff1",
    "deepnote_app_coordinates": {
     "h": 5,
     "w": 12,
     "x": 0,
     "y": 891
    },
    "deepnote_cell_type": "markdown",
    "deepnote_to_be_reexecuted": true,
    "source_hash": "7a034c65",
    "tags": []
   },
   "source": [
    "#### Change columns names"
   ]
  },
  {
   "cell_type": "code",
   "execution_count": 95,
   "id": "d27970cd",
   "metadata": {
    "ExecuteTime": {
     "end_time": "2021-11-08T09:33:19.348505Z",
     "start_time": "2021-11-08T09:33:19.343940Z"
    },
    "cell_id": "00110-6008fc8a-9c9e-49d3-99e6-9962ff8aa7dd",
    "deepnote_app_coordinates": {
     "h": 5,
     "w": 12,
     "x": 0,
     "y": 630
    },
    "deepnote_cell_type": "code",
    "deepnote_to_be_reexecuted": true,
    "execution_millis": 1,
    "execution_start": 1636221655401,
    "source_hash": "4594332"
   },
   "outputs": [],
   "source": [
    "# Replace spaces by underscores and upper case letters by lower case letters.\n",
    "data.rename(columns=lambda x:x.replace(' ','_').lower(), inplace=True)"
   ]
  },
  {
   "cell_type": "code",
   "execution_count": 96,
   "id": "463749e8",
   "metadata": {
    "ExecuteTime": {
     "end_time": "2021-11-08T09:33:21.327844Z",
     "start_time": "2021-11-08T09:33:21.322643Z"
    },
    "cell_id": "00111-fe4933f4-fe76-4a95-9b8d-4aea3ed97070",
    "deepnote_app_coordinates": {
     "h": 5,
     "w": 12,
     "x": 0,
     "y": 636
    },
    "deepnote_cell_type": "code",
    "deepnote_to_be_reexecuted": true,
    "execution_millis": 10,
    "execution_start": 1636221656578,
    "scrolled": true,
    "source_hash": "c8a8c27a"
   },
   "outputs": [
    {
     "data": {
      "text/plain": [
       "Index(['reference_number', 'easting', 'northing', 'number_of_vehicles',\n",
       "       '1st_road_class', 'road_surface', 'lighting_conditions',\n",
       "       'weather_conditions', 'casualty_class', 'casualty_severity',\n",
       "       'sex_of_casualty', 'age_of_casualty', 'type_of_vehicle'],\n",
       "      dtype='object')"
      ]
     },
     "execution_count": 96,
     "metadata": {},
     "output_type": "execute_result"
    }
   ],
   "source": [
    "data.columns"
   ]
  },
  {
   "cell_type": "markdown",
   "id": "a44e9782",
   "metadata": {
    "cell_id": "00139-a129c762-ad29-4112-b984-ae705e914272",
    "deepnote_app_coordinates": {
     "h": 5,
     "w": 12,
     "x": 0,
     "y": 951
    },
    "deepnote_cell_type": "markdown",
    "tags": []
   },
   "source": [
    "### Data Analysis and Visualization"
   ]
  },
  {
   "cell_type": "markdown",
   "id": "91180a36",
   "metadata": {
    "cell_id": "00115-7713f922-cd32-4f82-ba42-e271c6e35cbf",
    "deepnote_app_coordinates": {
     "h": 5,
     "w": 12,
     "x": 0,
     "y": 642
    },
    "deepnote_cell_type": "markdown"
   },
   "source": [
    "####  Number of accident per year by type of vechicle"
   ]
  },
  {
   "cell_type": "code",
   "execution_count": 97,
   "id": "978d46c8",
   "metadata": {
    "ExecuteTime": {
     "end_time": "2021-11-08T09:33:23.770125Z",
     "start_time": "2021-11-08T09:33:23.740960Z"
    },
    "cell_id": "00119-2a74ee78-0e1b-49cf-84e2-fe0115c1fe9e",
    "deepnote_app_coordinates": {
     "h": 5,
     "w": 12,
     "x": 0,
     "y": 654
    },
    "deepnote_cell_type": "code",
    "deepnote_to_be_reexecuted": true,
    "execution_millis": 105,
    "execution_start": 1636221679424,
    "source_hash": "c7d4cdcb"
   },
   "outputs": [
    {
     "data": {
      "text/plain": [
       "type_of_vehicle\n",
       "Agricultural vehicle (includes diggers etc.)     0.065830\n",
       "Bus                                              6.269822\n",
       "Car                                             66.693420\n",
       "Goods Vehicle                                    3.377184\n",
       "Minibus                                          0.400737\n",
       "Mobility Scooter                                 0.154854\n",
       "Motorcycle                                       7.404464\n",
       "Other Vehicle                                    0.496939\n",
       "Pedal cycle                                     12.514094\n",
       "Ridden horse                                     0.054602\n",
       "Taxi/Hire                                        3.748904\n",
       "Tram / Light rail                                0.112613\n",
       "dtype: float64"
      ]
     },
     "execution_count": 97,
     "metadata": {},
     "output_type": "execute_result"
    }
   ],
   "source": [
    "vehicle_percent= (data.resample('Y')[\"type_of_vehicle\"].value_counts(normalize=True)*100).sort_values(ascending=True).unstack()\n",
    "vehicle_percent.mean()"
   ]
  },
  {
   "cell_type": "code",
   "execution_count": null,
   "id": "2969501c",
   "metadata": {
    "cell_id": "00143-eb008188-a340-4c2e-b181-60a6bcaf0ab1",
    "deepnote_app_coordinates": {
     "h": 5,
     "w": 12,
     "x": 0,
     "y": 963
    },
    "deepnote_cell_type": "code",
    "deepnote_to_be_reexecuted": true,
    "execution_millis": 1208,
    "execution_start": 1636221702094,
    "source_hash": "66a78695",
    "tags": []
   },
   "outputs": [
    {
     "data": {
      "image/png": "[encoded data removed]",
      "text/plain": [
       "<Figure size 720x576 with 3 Axes>"
      ]
     },
     "metadata": {
      "image/png": {
       "height": 537,
       "width": 618
      },
      "needs_background": "light"
     },
     "output_type": "display_data"
    }
   ],
   "source": [
    "axes=vehicle_percent[['Car','Pedal cycle','Motorcycle']].plot(sharex=True,subplots=True,marker='o',\n",
    "                                             title =\"Yearly percentage of vechicles in vonvolved\",\n",
    "                                                         xlabel=\"year\",\n",
    "                                                         figsize = (10,8),\n",
    "                                                         grid=True\n",
    "                                                        );\n",
    "\n",
    "plt.subplots_adjust(hspace=0.5) \n",
    "axes[0].set_ylabel('Car (%)');\n",
    "axes[1].set_ylabel('Pedal Cycle (%)');\n",
    "axes[2].set_ylabel('Motorcycle (%)');"
   ]
  },
  {
   "cell_type": "markdown",
   "id": "5db051de",
   "metadata": {
    "cell_id": "00144-cfcc96f8-d616-4cb1-84e8-f64dd3822f9e",
    "deepnote_app_coordinates": {
     "h": 5,
     "w": 12,
     "x": 0,
     "y": 957
    },
    "deepnote_cell_type": "markdown",
    "tags": []
   },
   "source": [
    "- Car, Pedal cycle and Motorcycle have the highest percentage of involvment in accidents.\n",
    "- Car stands at the highest percentage, shows a downward trend over the years. \n",
    "- Pedal cycle and motorcycle show similar trend over the years, and the trend is upward untill 2017, and afterwards its showing downward trend."
   ]
  },
  {
   "cell_type": "markdown",
   "id": "053bb870",
   "metadata": {
    "cell_id": "00145-12766b90-6515-4c0c-bf89-6d7be9be3426",
    "deepnote_app_coordinates": {
     "h": 5,
     "w": 12,
     "x": 0,
     "y": 1059
    },
    "deepnote_cell_type": "markdown",
    "tags": []
   },
   "source": [
    "#### Number of accident per year by Age of Casualty"
   ]
  },
  {
   "cell_type": "code",
   "execution_count": 98,
   "id": "c7ade6e9",
   "metadata": {
    "ExecuteTime": {
     "end_time": "2021-11-08T09:33:27.475155Z",
     "start_time": "2021-11-08T09:33:27.461018Z"
    },
    "cell_id": "00122-d36f72b8-9e9f-43a2-9cd8-84ab31ece738",
    "deepnote_app_coordinates": {
     "h": 5,
     "w": 12,
     "x": 0,
     "y": 660
    },
    "deepnote_cell_type": "code",
    "deepnote_to_be_reexecuted": true,
    "execution_millis": 18,
    "execution_start": 1636221713958,
    "source_hash": "45cb3069"
   },
   "outputs": [
    {
     "data": {
      "text/plain": [
       "age_of_casualty\n",
       "children               9.333440\n",
       "early working age     24.146915\n",
       "elderly                7.631911\n",
       "mature working age     7.436307\n",
       "prime working age     51.451427\n",
       "dtype: float64"
      ]
     },
     "execution_count": 98,
     "metadata": {},
     "output_type": "execute_result"
    }
   ],
   "source": [
    "age_percent = (data.resample('Y')[\"age_of_casualty\"].value_counts(normalize=True)*100).sort_values(ascending=True).unstack()\n",
    "age_percent.mean()"
   ]
  },
  {
   "cell_type": "code",
   "execution_count": null,
   "id": "39402329",
   "metadata": {
    "ExecuteTime": {
     "end_time": "2021-11-05T07:50:31.266206Z",
     "start_time": "2021-11-05T07:50:31.266192Z"
    },
    "cell_id": "00123-50730541-6cd2-4348-b4a5-e7969c2ee98c",
    "deepnote_app_coordinates": {
     "h": 5,
     "w": 12,
     "x": 0,
     "y": 666
    },
    "deepnote_cell_type": "code",
    "deepnote_to_be_reexecuted": true,
    "execution_millis": 996,
    "execution_start": 1636221717544,
    "source_hash": "c6472ad6"
   },
   "outputs": [
    {
     "data": {
      "image/png": "[encoded data removed]",
      "text/plain": [
       "<Figure size 720x576 with 5 Axes>"
      ]
     },
     "metadata": {
      "image/png": {
       "height": 539,
       "width": 628
      },
      "needs_background": "light"
     },
     "output_type": "display_data"
    }
   ],
   "source": [
    "axes=age_percent.plot(subplots=True,\n",
    "                       sharex=True,\n",
    "                       marker='d',\n",
    "                       title =\"Yearly percentage of age group in involved\",\n",
    "                       xlabel=\"year\", \n",
    "                       figsize = (10,8),\n",
    "                      grid=True\n",
    "                        );\n",
    "\n",
    "plt.subplots_adjust(hspace=1) \n",
    "axes[0].set_ylabel('Children (%)');\n",
    "axes[1].set_ylabel('early working age (%)');\n",
    "axes[2].set_ylabel('elderly (%)');\n",
    "axes[3].set_ylabel('mature working age (%)');\n",
    "axes[4].set_ylabel('prime working age (%)');\n",
    "\n"
   ]
  },
  {
   "cell_type": "markdown",
   "id": "dc2312da",
   "metadata": {
    "cell_id": "00148-563fa7a7-cac1-4dc6-83b4-b9cdab12492e",
    "deepnote_app_coordinates": {
     "h": 5,
     "w": 12,
     "x": 0,
     "y": 1053
    },
    "deepnote_cell_type": "markdown",
    "tags": []
   },
   "source": [
    "- Highest accidents met by prime working age people for overall years.\n",
    "- Next  early working age people and followed by children,elderly and least mature working age. "
   ]
  },
  {
   "cell_type": "markdown",
   "id": "f47114bd",
   "metadata": {
    "cell_id": "00149-bedcab65-dcb9-4d07-a493-095fac300edc",
    "deepnote_app_coordinates": {
     "h": 5,
     "w": 12,
     "x": 0,
     "y": 1065
    },
    "deepnote_cell_type": "markdown",
    "tags": []
   },
   "source": [
    "#### Number of accident per year by Casualty Serverity"
   ]
  },
  {
   "cell_type": "code",
   "execution_count": 99,
   "id": "bbfad629",
   "metadata": {
    "ExecuteTime": {
     "end_time": "2021-11-08T09:33:30.693045Z",
     "start_time": "2021-11-08T09:33:30.680368Z"
    },
    "cell_id": "00124-09f4f6ba-291b-45f8-8791-6b549cdb98b6",
    "deepnote_app_coordinates": {
     "h": 5,
     "w": 12,
     "x": 0,
     "y": 672
    },
    "deepnote_cell_type": "code",
    "deepnote_to_be_reexecuted": true,
    "execution_millis": 39,
    "execution_start": 1636226925364,
    "scrolled": true,
    "source_hash": "bcc5486c"
   },
   "outputs": [
    {
     "data": {
      "text/plain": [
       "casualty_severity\n",
       "Fatal       0.738302\n",
       "Serious    11.881695\n",
       "Slight     87.380003\n",
       "dtype: float64"
      ]
     },
     "execution_count": 99,
     "metadata": {},
     "output_type": "execute_result"
    }
   ],
   "source": [
    "casualty_severity_percent= (data.resample('Y')[\"casualty_severity\"].value_counts(normalize=True)*100).sort_values(ascending=True).unstack()\n",
    "casualty_severity_percent.mean()"
   ]
  },
  {
   "cell_type": "code",
   "execution_count": null,
   "id": "8e29a31e",
   "metadata": {
    "ExecuteTime": {
     "end_time": "2021-11-05T07:50:31.270108Z",
     "start_time": "2021-11-05T07:50:31.270086Z"
    },
    "cell_id": "00125-8f406a4d-82eb-4ee6-b9d5-c7fdfe375a8a",
    "deepnote_app_coordinates": {
     "h": 5,
     "w": 12,
     "x": 0,
     "y": 678
    },
    "deepnote_cell_type": "code",
    "deepnote_to_be_reexecuted": true,
    "execution_millis": 672,
    "execution_start": 1636221772341,
    "source_hash": "8a4005fb"
   },
   "outputs": [
    {
     "data": {
      "image/png": "[encoded data removed]",
      "text/plain": [
       "<Figure size 720x576 with 3 Axes>"
      ]
     },
     "metadata": {
      "image/png": {
       "height": 537,
       "width": 622
      },
      "needs_background": "light"
     },
     "output_type": "display_data"
    }
   ],
   "source": [
    "axes=casualty_severity_percent.plot(sharex=True,\n",
    "                                subplots=True,\n",
    "                                marker='o',\n",
    "                                title =\"Yearly percentage of casualty severity in involved\",\n",
    "                                xlabel=\"year\",\n",
    "                                figsize = (10,8),\n",
    "                                grid=True\n",
    "                                );\n",
    "plt.subplots_adjust(hspace=0.1) \n",
    "axes[0].set_ylabel('Fatal (%)');\n",
    "axes[1].set_ylabel('Serious (%)');\n",
    "axes[2].set_ylabel('Slight (%)');"
   ]
  },
  {
   "cell_type": "markdown",
   "id": "95f90002",
   "metadata": {
    "cell_id": "00150-5700c909-900b-4f61-a343-272e810c5f41",
    "deepnote_app_coordinates": {
     "h": 5,
     "w": 12,
     "x": 0,
     "y": 1011
    },
    "deepnote_cell_type": "markdown",
    "tags": []
   },
   "source": [
    "- Accidents Fetal is up and downs all the years maximum number Fetal happend in year 2018.\n",
    "\n",
    "- People met with accident and  condition is serious  increased by yearly and reached max in 2018.\n",
    "\n",
    "- People met with accident and  condition is standard standard for intial years and after continiously decreased."
   ]
  },
  {
   "cell_type": "markdown",
   "id": "ea5cbe07",
   "metadata": {
    "cell_id": "00153-bc92154d-d0e7-4005-b0c1-7783ccafe8ad",
    "deepnote_app_coordinates": {
     "h": 5,
     "w": 12,
     "x": 0,
     "y": 1071
    },
    "deepnote_cell_type": "markdown",
    "tags": []
   },
   "source": [
    "#### Number of accident per year by Lighting Conditions"
   ]
  },
  {
   "cell_type": "code",
   "execution_count": 100,
   "id": "a8c8f635",
   "metadata": {
    "ExecuteTime": {
     "end_time": "2021-11-08T09:33:34.248859Z",
     "start_time": "2021-11-08T09:33:34.233733Z"
    },
    "cell_id": "00126-937e2232-2f72-4a47-898f-1718bbcec263",
    "deepnote_app_coordinates": {
     "h": 5,
     "w": 12,
     "x": 0,
     "y": 684
    },
    "deepnote_cell_type": "code",
    "deepnote_to_be_reexecuted": true,
    "execution_millis": 20,
    "execution_start": 1636221904079,
    "source_hash": "ba8dd55b"
   },
   "outputs": [
    {
     "data": {
      "text/plain": [
       "lighting_conditions\n",
       "darkness: no street lighting                  1.883013\n",
       "darkness: street lighting unknown             7.465467\n",
       "darkness: street lights present and lit      21.620664\n",
       "darkness: street lights present but unlit     0.252832\n",
       "daylight: street lights present              68.778024\n",
       "dtype: float64"
      ]
     },
     "execution_count": 100,
     "metadata": {},
     "output_type": "execute_result"
    }
   ],
   "source": [
    "lighting_conditions=(data.resample('Y')[\"lighting_conditions\"].value_counts(normalize=True)*100).sort_values(ascending=True).unstack()\n",
    "lighting_conditions.mean()"
   ]
  },
  {
   "cell_type": "code",
   "execution_count": null,
   "id": "a8602441",
   "metadata": {
    "ExecuteTime": {
     "end_time": "2021-11-05T07:50:31.273164Z",
     "start_time": "2021-11-05T07:50:31.273153Z"
    },
    "cell_id": "00127-e6e16ef7-bb72-4761-9683-b29cd6d68e94",
    "deepnote_app_coordinates": {
     "h": 5,
     "w": 12,
     "x": 0,
     "y": 690
    },
    "deepnote_cell_type": "code",
    "deepnote_to_be_reexecuted": true,
    "execution_millis": 1021,
    "execution_start": 1636221853848,
    "source_hash": "2236b984"
   },
   "outputs": [
    {
     "data": {
      "image/png": "[encoded data removed]",
      "text/plain": [
       "<Figure size 720x720 with 3 Axes>"
      ]
     },
     "metadata": {
      "image/png": {
       "height": 660,
       "width": 618
      },
      "needs_background": "light"
     },
     "output_type": "display_data"
    }
   ],
   "source": [
    "axes=lighting_conditions[['darkness: street lighting unknown',\n",
    "'darkness: street lights present and lit',\n",
    "'daylight: street lights present']].plot(sharex=True,\n",
    "                         subplots=True,\n",
    "                         marker='o',\n",
    "                        title =\"lighting conditions for accidents occure\",\n",
    "                        xlabel=\"year\",\n",
    "                        figsize = (10,10),\n",
    "                        grid=True\n",
    "                        );\n",
    "plt.subplots_adjust(hspace=0.5) \n",
    "\n",
    "axes[0].set_ylabel('dark: str light known (%)');\n",
    "axes[1].set_ylabel('dark:str light lit (%)');\n",
    "axes[2].set_ylabel('day:streetlight present (%)');\n",
    "                                                         "
   ]
  },
  {
   "cell_type": "markdown",
   "id": "3c2bf6b5",
   "metadata": {
    "cell_id": "00152-7050a9ea-07a7-47db-8fb0-9baccf6c945c",
    "deepnote_app_coordinates": {
     "h": 5,
     "w": 12,
     "x": 0,
     "y": 1005
    },
    "deepnote_cell_type": "markdown",
    "tags": []
   },
   "source": [
    "- Most of the accidents happend daylight street lights present, darkness: street lights present and lit and darkness: street lighting unknown"
   ]
  },
  {
   "cell_type": "markdown",
   "id": "d1e4f646",
   "metadata": {
    "cell_id": "00157-79ad6899-153e-49bf-a945-40cb26359680",
    "deepnote_app_coordinates": {
     "h": 5,
     "w": 12,
     "x": 0,
     "y": 1077
    },
    "deepnote_cell_type": "markdown",
    "tags": []
   },
   "source": [
    "#### Number of accident per year by Weather Conditions"
   ]
  },
  {
   "cell_type": "code",
   "execution_count": 101,
   "id": "9b265a92",
   "metadata": {
    "ExecuteTime": {
     "end_time": "2021-11-08T09:33:37.860021Z",
     "start_time": "2021-11-08T09:33:37.841584Z"
    },
    "cell_id": "00128-3ad45f5e-2a51-46de-8b74-741e0bb9bed1",
    "deepnote_app_coordinates": {
     "h": 5,
     "w": 12,
     "x": 0,
     "y": 696
    },
    "deepnote_cell_type": "code",
    "deepnote_to_be_reexecuted": true,
    "execution_millis": 2,
    "execution_start": 1636222236118,
    "source_hash": "8c40ba50"
   },
   "outputs": [
    {
     "name": "stdout",
     "output_type": "stream",
     "text": [
      "Max Accidents occur during:\n",
      " weather_conditions\n",
      "Fine without high winds       86.18916\n",
      "Raining without high winds     8.50639\n",
      "dtype: float64\n"
     ]
    },
    {
     "data": {
      "text/plain": [
       "weather_conditions\n",
       "Fine without high winds              86.189160\n",
       "Raining without high winds            8.506390\n",
       "Unknown                               1.610198\n",
       "Raining with high winds               1.174488\n",
       "Fine with high winds                  1.160679\n",
       "Other                                 0.653504\n",
       "Snowing without high winds            0.623437\n",
       "Fog or mist                           0.319803\n",
       "Snowing with high winds               0.154950\n",
       "Darkness: street lighting unknown     0.078958\n",
       "dtype: float64"
      ]
     },
     "execution_count": 101,
     "metadata": {},
     "output_type": "execute_result"
    }
   ],
   "source": [
    "weather_conditions_percent=(data.resample('Y')[\"weather_conditions\"].value_counts(normalize=True)*100).sort_values(ascending=True).unstack()\n",
    "mean_values=weather_conditions_percent.mean().sort_values(ascending=False)\n",
    "print('Max Accidents occur during:\\n',mean_values.nlargest(2))\n",
    "\n",
    "mean_values"
   ]
  },
  {
   "cell_type": "code",
   "execution_count": 102,
   "id": "26c83f26",
   "metadata": {
    "ExecuteTime": {
     "end_time": "2021-11-08T09:33:42.932078Z",
     "start_time": "2021-11-08T09:33:42.685560Z"
    },
    "cell_id": "00129-c7a52740-0023-40ad-a202-92e749d02eda",
    "deepnote_app_coordinates": {
     "h": 5,
     "w": 12,
     "x": 0,
     "y": 702
    },
    "deepnote_cell_type": "code",
    "deepnote_to_be_reexecuted": true,
    "execution_millis": 424,
    "execution_start": 1636222278858,
    "source_hash": "9da585e"
   },
   "outputs": [
    {
     "data": {
      "image/png": "[encoded data removed]",
      "text/plain": [
       "<Figure size 720x576 with 1 Axes>"
      ]
     },
     "metadata": {
      "needs_background": "light"
     },
     "output_type": "display_data"
    }
   ],
   "source": [
    "mean_values.iloc[2:].plot(kind='barh',\n",
    "                        title =\"2009 to 2018 Mean percentage (%)\",\n",
    "                        figsize = (10,8),\n",
    "                        grid=True\n",
    "                        );\n",
    "\n",
    "                                                         "
   ]
  },
  {
   "cell_type": "markdown",
   "id": "9f3ba3b0",
   "metadata": {
    "cell_id": "00155-e1e7ea45-6a9b-48af-b150-ee55ecda59e2",
    "deepnote_app_coordinates": {
     "h": 5,
     "w": 12,
     "x": 0,
     "y": 969
    },
    "deepnote_cell_type": "markdown",
    "tags": []
   },
   "source": [
    "- Most of the accidents occur during fine weather conditions (86.2%) without high winds.\n",
    "- Next contributing weather condition for accidents is Rain (9.68%) combining with and without high winds.\n",
    "- Fog, mist and snow comditions sums upto less than 2% of the overall accidents over the years.\n",
    "- Noticeably, high wind has less effect on accidnets as the data was recorded in urban and suburban zones mostly."
   ]
  },
  {
   "cell_type": "markdown",
   "id": "7ef2b0bb",
   "metadata": {
    "cell_id": "00161-66f9092d-13ec-4aa7-86c4-1435dee491eb",
    "deepnote_app_coordinates": {
     "h": 5,
     "w": 12,
     "x": 0,
     "y": 1083
    },
    "deepnote_cell_type": "markdown",
    "tags": []
   },
   "source": [
    "#### Number of accident per year by Road Surface"
   ]
  },
  {
   "cell_type": "code",
   "execution_count": 104,
   "id": "1c86ed16",
   "metadata": {
    "ExecuteTime": {
     "end_time": "2021-11-08T09:33:56.961778Z",
     "start_time": "2021-11-08T09:33:56.947090Z"
    },
    "cell_id": "00130-083b54eb-4254-4063-90bf-268c2fd123a4",
    "deepnote_app_coordinates": {
     "h": 5,
     "w": 12,
     "x": 0,
     "y": 708
    },
    "deepnote_cell_type": "code",
    "deepnote_to_be_reexecuted": true,
    "execution_millis": 20,
    "execution_start": 1636222296525,
    "source_hash": "914e256d"
   },
   "outputs": [
    {
     "data": {
      "text/plain": [
       "road_surface\n",
       "Dry          74.377697\n",
       "Flood         0.149664\n",
       "Frost/Ice     1.235073\n",
       "Snow          0.712036\n",
       "Wet/Damp     23.585394\n",
       "dtype: float64"
      ]
     },
     "execution_count": 104,
     "metadata": {},
     "output_type": "execute_result"
    }
   ],
   "source": [
    "road_surface_percent=(data.resample('Y')[\"road_surface\"].value_counts(normalize=True)*100).sort_values(ascending=True).unstack()\n",
    "road_surface_percent.mean()"
   ]
  },
  {
   "cell_type": "code",
   "execution_count": 107,
   "id": "629091ef",
   "metadata": {
    "ExecuteTime": {
     "end_time": "2021-11-08T09:35:03.454131Z",
     "start_time": "2021-11-08T09:35:02.827229Z"
    },
    "cell_id": "00131-2cd890c1-f5cd-4cc9-adcc-c2e631ac0844",
    "deepnote_app_coordinates": {
     "h": 5,
     "w": 12,
     "x": 0,
     "y": 714
    },
    "deepnote_cell_type": "code",
    "deepnote_to_be_reexecuted": true,
    "execution_millis": 903,
    "execution_start": 1636183730738,
    "source_hash": "9f5decbc"
   },
   "outputs": [
    {
     "data": {
      "image/png": "[encoded data removed]",
      "text/plain": [
       "<Figure size 720x576 with 5 Axes>"
      ]
     },
     "metadata": {
      "needs_background": "light"
     },
     "output_type": "display_data"
    }
   ],
   "source": [
    "axes=road_surface_percent.plot(sharex=True,\n",
    "                          subplots=True,\n",
    "                          marker='o',\n",
    "                          title =\"road surface causing accidents\",\n",
    "                          xlabel=\"year\",\n",
    "                          figsize = (10,8),\n",
    "                          grid=True\n",
    "                        );\n",
    "plt.subplots_adjust(hspace=0.1) \n",
    "axes[0].set_ylabel('Dry (%)');\n",
    "axes[1].set_ylabel('Flood (%)');\n",
    "axes[2].set_ylabel('Frost (%)');\n",
    "axes[3].set_ylabel('Snow (%)');\n",
    "axes[4].set_ylabel('Wet (%)');"
   ]
  },
  {
   "cell_type": "markdown",
   "id": "2243c5ff",
   "metadata": {
    "cell_id": "00167-16dff695-fb7f-4da7-a193-cb3c8d863523",
    "deepnote_app_coordinates": {
     "h": 5,
     "w": 12,
     "x": 0,
     "y": 1317
    },
    "deepnote_cell_type": "markdown",
    "tags": []
   },
   "source": [
    "- Highest number of accidents happend when the road surface is dry.\n",
    "\n",
    "- Least  number of accidents happend when there is flooding"
   ]
  },
  {
   "cell_type": "markdown",
   "id": "79bd96be",
   "metadata": {
    "cell_id": "00164-6376f2ab-d8b3-4a67-9ab7-a94a54f34c4c",
    "deepnote_app_coordinates": {
     "h": 5,
     "w": 12,
     "x": 0,
     "y": 1089
    },
    "deepnote_cell_type": "markdown",
    "tags": []
   },
   "source": [
    "#### Highest Number of accident  by month"
   ]
  },
  {
   "cell_type": "code",
   "execution_count": 108,
   "id": "7873a638",
   "metadata": {
    "ExecuteTime": {
     "end_time": "2021-11-08T09:35:10.219512Z",
     "start_time": "2021-11-08T09:35:09.812722Z"
    },
    "cell_id": "00135-c6d291cb-75ea-43f5-8fe6-579b70754b7c",
    "deepnote_app_coordinates": {
     "h": 5,
     "w": 12,
     "x": 0,
     "y": 720
    },
    "deepnote_cell_type": "code",
    "deepnote_to_be_reexecuted": true,
    "execution_millis": 827,
    "execution_start": 1636222619989,
    "source_hash": "37e0d725"
   },
   "outputs": [
    {
     "data": {
      "image/png": "[encoded data removed]",
      "text/plain": [
       "<Figure size 864x504 with 1 Axes>"
      ]
     },
     "metadata": {
      "needs_background": "light"
     },
     "output_type": "display_data"
    }
   ],
   "source": [
    "# Number of accident per month\n",
    "accidents_month=data.groupby([data.index.month]).count()\n",
    "accidents_month\n",
    "# Replace the month integers by month names.\n",
    "accidents_month.index=[calendar.month_name[x] for x in range(1,13)]\n",
    "accidents_month\n",
    "\n",
    "\n",
    "# plot accidents per month\n",
    "accidents_month.plot(kind='bar',figsize=(12,7), color='blue', alpha=0.5,legend=False)\n",
    "\n",
    "# title and x,y labels\n",
    "plt.title('Accidents in Uk from year 2009to2018', fontsize=20)\n",
    "plt.xlabel('Month',fontsize=16)\n",
    "plt.ylabel('Accidents',fontsize=16);"
   ]
  },
  {
   "cell_type": "markdown",
   "id": "a255a537",
   "metadata": {
    "cell_id": "00158-37c2f379-90d1-4221-ad37-09d298dea501",
    "deepnote_app_coordinates": {
     "h": 5,
     "w": 12,
     "x": 0,
     "y": 993
    },
    "deepnote_cell_type": "markdown",
    "tags": []
   },
   "source": [
    "- From the above analysis maxiumn number of accidents are happend in the month of october followed by November."
   ]
  },
  {
   "cell_type": "markdown",
   "id": "6830046a",
   "metadata": {
    "cell_id": "00158-f7ce2b1b-6483-46c6-9a8d-35fc3ce5f506",
    "deepnote_app_coordinates": {
     "h": 5,
     "w": 12,
     "x": 0,
     "y": 975
    },
    "deepnote_cell_type": "markdown",
    "tags": []
   },
   "source": [
    "#### Coverting Easting and Northing to Latitude and Longitude"
   ]
  },
  {
   "cell_type": "code",
   "execution_count": 109,
   "id": "9d6f108f",
   "metadata": {
    "ExecuteTime": {
     "end_time": "2021-11-08T09:35:23.213800Z",
     "start_time": "2021-11-08T09:35:23.146870Z"
    },
    "cell_id": "00136-899d8f74-bc71-4040-92a0-678abd8ccebf",
    "deepnote_app_coordinates": {
     "h": 5,
     "w": 12,
     "x": 0,
     "y": 726
    },
    "deepnote_cell_type": "code",
    "deepnote_to_be_reexecuted": true,
    "execution_millis": 6,
    "execution_start": 1636223008550,
    "source_hash": "21c6e3b9"
   },
   "outputs": [],
   "source": [
    "#By using covert_lonlat method from convertbng.util library converting to logitude and latitude\n",
    "list_lon_lat = convert_lonlat(data.easting, data.northing)\n",
    "data['longitude'] = list_lon_lat[0]\n",
    "data['latitude'] = list_lon_lat[1]"
   ]
  },
  {
   "cell_type": "code",
   "execution_count": 110,
   "id": "97dcfa5c",
   "metadata": {
    "ExecuteTime": {
     "end_time": "2021-11-08T09:35:24.842677Z",
     "start_time": "2021-11-08T09:35:24.829729Z"
    },
    "cell_id": "00137-413e0712-638f-46da-9032-df36f6896d3a",
    "deepnote_app_coordinates": {
     "h": 5,
     "w": 12,
     "x": 0,
     "y": 732
    },
    "deepnote_cell_type": "code",
    "deepnote_to_be_reexecuted": true,
    "execution_millis": 10,
    "execution_start": 1636224229441,
    "source_hash": "74b29104"
   },
   "outputs": [
    {
     "data": {
      "text/plain": [
       "[53.82180298, -1.55955206]"
      ]
     },
     "execution_count": 110,
     "metadata": {},
     "output_type": "execute_result"
    }
   ],
   "source": [
    "locations = data[['latitude', 'longitude']]\n",
    "locationlist = locations.values.tolist()\n",
    "len(locationlist)\n",
    "#print(locationlist)\n",
    "locationlist[0]"
   ]
  },
  {
   "cell_type": "markdown",
   "id": "ca5ff9f5",
   "metadata": {
    "cell_id": "00174-0a03752d-8ee2-4cea-8299-b3c462881e7b",
    "deepnote_app_coordinates": {
     "h": 5,
     "w": 12,
     "x": 0,
     "y": 1323
    },
    "deepnote_cell_type": "markdown",
    "tags": []
   },
   "source": [
    "##### All type of vehicle locations Random sample 100"
   ]
  },
  {
   "cell_type": "code",
   "execution_count": 111,
   "id": "405c9b5c",
   "metadata": {
    "ExecuteTime": {
     "end_time": "2021-11-08T09:35:28.421857Z",
     "start_time": "2021-11-08T09:35:28.418152Z"
    },
    "cell_id": "00138-d5607101-874a-42e8-ae6d-74b82dfddaec",
    "deepnote_app_coordinates": {
     "h": 5,
     "w": 12,
     "x": 0,
     "y": 738
    },
    "deepnote_cell_type": "code",
    "deepnote_to_be_reexecuted": true,
    "execution_millis": 1,
    "execution_start": 1636224704774,
    "source_hash": "cb764a6b"
   },
   "outputs": [],
   "source": [
    "from random import sample\n",
    "sample_location_100 = sample(locationlist,100)"
   ]
  },
  {
   "cell_type": "code",
   "execution_count": 112,
   "id": "3ffb0f82",
   "metadata": {
    "ExecuteTime": {
     "end_time": "2021-11-08T09:35:35.547122Z",
     "start_time": "2021-11-08T09:35:35.418579Z"
    },
    "cell_id": "00139-ccc4daea-e564-4c9f-8bd4-b2bf286eb25c",
    "deepnote_app_coordinates": {
     "h": 5,
     "w": 12,
     "x": 0,
     "y": 744
    },
    "deepnote_cell_type": "code",
    "deepnote_to_be_reexecuted": true,
    "execution_millis": 266,
    "execution_start": 1636224718507,
    "source_hash": "cc05277e"
   },
   "outputs": [
    {
     "data": {
      "text/html": [
       "<div style=\"width:100%;\"><div style=\"position:relative;width:100%;height:0;padding-bottom:60%;\"><span style=\"color:#565656\">Make this Notebook Trusted to load map: File -> Trust Notebook</span><iframe src=\"about:blank\" style=\"position:absolute;width:100%;height:100%;left:0;top:0;border:none !important;\" data-html=%3C%21DOCTYPE%20html%3E%0A%3Chead%3E%20%20%20%20%0A%20%20%20%20%3Cmeta%20http-equiv%3D%22content-type%22%20content%3D%22text/html%3B%20charset%3DUTF-8%22%20/%3E%0A%20%20%20%20%0A%20%20%20%20%20%20%20%20%3Cscript%3E%0A%20%20%20%20%20%20%20%20%20%20%20%20L_NO_TOUCH%20%3D%20false%3B%0A%20%20%20%20%20%20%20%20%20%20%20%20L_DISABLE_3D%20%3D%20false%3B%0A%20%20%20%20%20%20%20%20%3C/script%3E%0A%20%20%20%20%0A%20%20%20%20%3Cstyle%3Ehtml%2C%20body%20%7Bwidth%3A%20100%25%3Bheight%3A%20100%25%3Bmargin%3A%200%3Bpadding%3A%200%3B%7D%3C/style%3E%0A%20%20%20%20%3Cstyle%3E%23map%20%7Bposition%3Aabsolute%3Btop%3A0%3Bbottom%3A0%3Bright%3A0%3Bleft%3A0%3B%7D%3C/style%3E%0A%20%20%20%20%3Cscript%20src%3D%22https%3A//cdn.jsdelivr.net/npm/leaflet%401.6.0/dist/leaflet.js%22%3E%3C/script%3E%0A%20%20%20%20%3Cscript%20src%3D%22https%3A//code.jquery.com/jquery-1.12.4.min.js%22%3E%3C/script%3E%0A%20%20%20%20%3Cscript%20src%3D%22https%3A//maxcdn.bootstrapcdn.com/bootstrap/3.2.0/js/bootstrap.min.js%22%3E%3C/script%3E%0A%20%20%20%20%3Cscript%20src%3D%22https%3A//cdnjs.cloudflare.com/ajax/libs/Leaflet.awesome-markers/2.0.2/leaflet.awesome-markers.js%22%3E%3C/script%3E%0A%20%20%20%20%3Clink%20rel%3D%22stylesheet%22%20href%3D%22https%3A//cdn.jsdelivr.net/npm/leaflet%401.6.0/dist/leaflet.css%22/%3E%0A%20%20%20%20%3Clink%20rel%3D%22stylesheet%22%20href%3D%22https%3A//maxcdn.bootstrapcdn.com/bootstrap/3.2.0/css/bootstrap.min.css%22/%3E%0A%20%20%20%20%3Clink%20rel%3D%22stylesheet%22%20href%3D%22https%3A//maxcdn.bootstrapcdn.com/bootstrap/3.2.0/css/bootstrap-theme.min.css%22/%3E%0A%20%20%20%20%3Clink%20rel%3D%22stylesheet%22%20href%3D%22https%3A//maxcdn.bootstrapcdn.com/font-awesome/4.6.3/css/font-awesome.min.css%22/%3E%0A%20%20%20%20%3Clink%20rel%3D%22stylesheet%22%20href%3D%22https%3A//cdnjs.cloudflare.com/ajax/libs/Leaflet.awesome-markers/2.0.2/leaflet.awesome-markers.css%22/%3E%0A%20%20%20%20%3Clink%20rel%3D%22stylesheet%22%20href%3D%22https%3A//cdn.jsdelivr.net/gh/python-visualization/folium/folium/templates/leaflet.awesome.rotate.min.css%22/%3E%0A%20%20%20%20%0A%20%20%20%20%20%20%20%20%20%20%20%20%3Cmeta%20name%3D%22viewport%22%20content%3D%22width%3Ddevice-width%2C%0A%20%20%20%20%20%20%20%20%20%20%20%20%20%20%20%20initial-scale%3D1.0%2C%20maximum-scale%3D1.0%2C%20user-scalable%3Dno%22%20/%3E%0A%20%20%20%20%20%20%20%20%20%20%20%20%3Cstyle%3E%0A%20%20%20%20%20%20%20%20%20%20%20%20%20%20%20%20%23map_fef04fab0e0a4cad947a7d49840d676c%20%7B%0A%20%20%20%20%20%20%20%20%20%20%20%20%20%20%20%20%20%20%20%20position%3A%20relative%3B%0A%20%20%20%20%20%20%20%20%20%20%20%20%20%20%20%20%20%20%20%20width%3A%20100.0%25%3B%0A%20%20%20%20%20%20%20%20%20%20%20%20%20%20%20%20%20%20%20%20height%3A%20100.0%25%3B%0A%20%20%20%20%20%20%20%20%20%20%20%20%20%20%20%20%20%20%20%20left%3A%200.0%25%3B%0A%20%20%20%20%20%20%20%20%20%20%20%20%20%20%20%20%20%20%20%20top%3A%200.0%25%3B%0A%20%20%20%20%20%20%20%20%20%20%20%20%20%20%20%20%7D%0A%20%20%20%20%20%20%20%20%20%20%20%20%3C/style%3E%0A%20%20%20%20%20%20%20%20%0A%3C/head%3E%0A%3Cbody%3E%20%20%20%20%0A%20%20%20%20%0A%20%20%20%20%20%20%20%20%20%20%20%20%3Cdiv%20class%3D%22folium-map%22%20id%3D%22map_fef04fab0e0a4cad947a7d49840d676c%22%20%3E%3C/div%3E%0A%20%20%20%20%20%20%20%20%0A%3C/body%3E%0A%3Cscript%3E%20%20%20%20%0A%20%20%20%20%0A%20%20%20%20%20%20%20%20%20%20%20%20var%20map_fef04fab0e0a4cad947a7d49840d676c%20%3D%20L.map%28%0A%20%20%20%20%20%20%20%20%20%20%20%20%20%20%20%20%22map_fef04fab0e0a4cad947a7d49840d676c%22%2C%0A%20%20%20%20%20%20%20%20%20%20%20%20%20%20%20%20%7B%0A%20%20%20%20%20%20%20%20%20%20%20%20%20%20%20%20%20%20%20%20center%3A%20%5B53.82180298%2C%20-1.55955206%5D%2C%0A%20%20%20%20%20%20%20%20%20%20%20%20%20%20%20%20%20%20%20%20crs%3A%20L.CRS.EPSG3857%2C%0A%20%20%20%20%20%20%20%20%20%20%20%20%20%20%20%20%20%20%20%20zoom%3A%2012%2C%0A%20%20%20%20%20%20%20%20%20%20%20%20%20%20%20%20%20%20%20%20zoomControl%3A%20true%2C%0A%20%20%20%20%20%20%20%20%20%20%20%20%20%20%20%20%20%20%20%20preferCanvas%3A%20false%2C%0A%20%20%20%20%20%20%20%20%20%20%20%20%20%20%20%20%7D%0A%20%20%20%20%20%20%20%20%20%20%20%20%29%3B%0A%0A%20%20%20%20%20%20%20%20%20%20%20%20%0A%0A%20%20%20%20%20%20%20%20%0A%20%20%20%20%0A%20%20%20%20%20%20%20%20%20%20%20%20var%20tile_layer_3f08da295d0b44caa2646258fcd8e559%20%3D%20L.tileLayer%28%0A%20%20%20%20%20%20%20%20%20%20%20%20%20%20%20%20%22https%3A//%7Bs%7D.tile.openstreetmap.org/%7Bz%7D/%7Bx%7D/%7By%7D.png%22%2C%0A%20%20%20%20%20%20%20%20%20%20%20%20%20%20%20%20%7B%22attribution%22%3A%20%22Data%20by%20%5Cu0026copy%3B%20%5Cu003ca%20href%3D%5C%22http%3A//openstreetmap.org%5C%22%5Cu003eOpenStreetMap%5Cu003c/a%5Cu003e%2C%20under%20%5Cu003ca%20href%3D%5C%22http%3A//www.openstreetmap.org/copyright%5C%22%5Cu003eODbL%5Cu003c/a%5Cu003e.%22%2C%20%22detectRetina%22%3A%20false%2C%20%22maxNativeZoom%22%3A%2018%2C%20%22maxZoom%22%3A%2018%2C%20%22minZoom%22%3A%200%2C%20%22noWrap%22%3A%20false%2C%20%22opacity%22%3A%201%2C%20%22subdomains%22%3A%20%22abc%22%2C%20%22tms%22%3A%20false%7D%0A%20%20%20%20%20%20%20%20%20%20%20%20%29.addTo%28map_fef04fab0e0a4cad947a7d49840d676c%29%3B%0A%20%20%20%20%20%20%20%20%0A%20%20%20%20%0A%20%20%20%20%20%20%20%20%20%20%20%20var%20marker_027952efea394d538dc0b5d91c090bb3%20%3D%20L.marker%28%0A%20%20%20%20%20%20%20%20%20%20%20%20%20%20%20%20%5B53.85569796%2C%20-1.56243504%5D%2C%0A%20%20%20%20%20%20%20%20%20%20%20%20%20%20%20%20%7B%7D%0A%20%20%20%20%20%20%20%20%20%20%20%20%29.addTo%28map_fef04fab0e0a4cad947a7d49840d676c%29%3B%0A%20%20%20%20%20%20%20%20%0A%20%20%20%20%0A%20%20%20%20%20%20%20%20%20%20%20%20marker_027952efea394d538dc0b5d91c090bb3.bindTooltip%28%0A%20%20%20%20%20%20%20%20%20%20%20%20%20%20%20%20%60%3Cdiv%3E%0A%20%20%20%20%20%20%20%20%20%20%20%20%20%20%20%20%20%20%20%20%20Car%0A%20%20%20%20%20%20%20%20%20%20%20%20%20%20%20%20%20%3C/div%3E%60%2C%0A%20%20%20%20%20%20%20%20%20%20%20%20%20%20%20%20%7B%22sticky%22%3A%20true%7D%0A%20%20%20%20%20%20%20%20%20%20%20%20%29%3B%0A%20%20%20%20%20%20%20%20%0A%20%20%20%20%0A%20%20%20%20%20%20%20%20%20%20%20%20var%20marker_21b2a0665ba742b6aff828bedd6cac50%20%3D%20L.marker%28%0A%20%20%20%20%20%20%20%20%20%20%20%20%20%20%20%20%5B53.79629957%2C%20-1.49889508%5D%2C%0A%20%20%20%20%20%20%20%20%20%20%20%20%20%20%20%20%7B%7D%0A%20%20%20%20%20%20%20%20%20%20%20%20%29.addTo%28map_fef04fab0e0a4cad947a7d49840d676c%29%3B%0A%20%20%20%20%20%20%20%20%0A%20%20%20%20%0A%20%20%20%20%20%20%20%20%20%20%20%20marker_21b2a0665ba742b6aff828bedd6cac50.bindTooltip%28%0A%20%20%20%20%20%20%20%20%20%20%20%20%20%20%20%20%60%3Cdiv%3E%0A%20%20%20%20%20%20%20%20%20%20%20%20%20%20%20%20%20%20%20%20%20Car%0A%20%20%20%20%20%20%20%20%20%20%20%20%20%20%20%20%20%3C/div%3E%60%2C%0A%20%20%20%20%20%20%20%20%20%20%20%20%20%20%20%20%7B%22sticky%22%3A%20true%7D%0A%20%20%20%20%20%20%20%20%20%20%20%20%29%3B%0A%20%20%20%20%20%20%20%20%0A%20%20%20%20%0A%20%20%20%20%20%20%20%20%20%20%20%20var%20marker_3d854580fe954113bda97cbd141147e0%20%3D%20L.marker%28%0A%20%20%20%20%20%20%20%20%20%20%20%20%20%20%20%20%5B53.80417047%2C%20-1.69328054%5D%2C%0A%20%20%20%20%20%20%20%20%20%20%20%20%20%20%20%20%7B%7D%0A%20%20%20%20%20%20%20%20%20%20%20%20%29.addTo%28map_fef04fab0e0a4cad947a7d49840d676c%29%3B%0A%20%20%20%20%20%20%20%20%0A%20%20%20%20%0A%20%20%20%20%20%20%20%20%20%20%20%20marker_3d854580fe954113bda97cbd141147e0.bindTooltip%28%0A%20%20%20%20%20%20%20%20%20%20%20%20%20%20%20%20%60%3Cdiv%3E%0A%20%20%20%20%20%20%20%20%20%20%20%20%20%20%20%20%20%20%20%20%20Car%0A%20%20%20%20%20%20%20%20%20%20%20%20%20%20%20%20%20%3C/div%3E%60%2C%0A%20%20%20%20%20%20%20%20%20%20%20%20%20%20%20%20%7B%22sticky%22%3A%20true%7D%0A%20%20%20%20%20%20%20%20%20%20%20%20%29%3B%0A%20%20%20%20%20%20%20%20%0A%20%20%20%20%0A%20%20%20%20%20%20%20%20%20%20%20%20var%20marker_8d87a5638ff94b958d01b6e3719ed47b%20%3D%20L.marker%28%0A%20%20%20%20%20%20%20%20%20%20%20%20%20%20%20%20%5B53.85768523%2C%20-1.50036891%5D%2C%0A%20%20%20%20%20%20%20%20%20%20%20%20%20%20%20%20%7B%7D%0A%20%20%20%20%20%20%20%20%20%20%20%20%29.addTo%28map_fef04fab0e0a4cad947a7d49840d676c%29%3B%0A%20%20%20%20%20%20%20%20%0A%20%20%20%20%0A%20%20%20%20%20%20%20%20%20%20%20%20marker_8d87a5638ff94b958d01b6e3719ed47b.bindTooltip%28%0A%20%20%20%20%20%20%20%20%20%20%20%20%20%20%20%20%60%3Cdiv%3E%0A%20%20%20%20%20%20%20%20%20%20%20%20%20%20%20%20%20%20%20%20%20Car%0A%20%20%20%20%20%20%20%20%20%20%20%20%20%20%20%20%20%3C/div%3E%60%2C%0A%20%20%20%20%20%20%20%20%20%20%20%20%20%20%20%20%7B%22sticky%22%3A%20true%7D%0A%20%20%20%20%20%20%20%20%20%20%20%20%29%3B%0A%20%20%20%20%20%20%20%20%0A%20%20%20%20%0A%20%20%20%20%20%20%20%20%20%20%20%20var%20marker_bc88e25425c94f8bb6c219a07822fad3%20%3D%20L.marker%28%0A%20%20%20%20%20%20%20%20%20%20%20%20%20%20%20%20%5B53.81046603%2C%20-1.31674667%5D%2C%0A%20%20%20%20%20%20%20%20%20%20%20%20%20%20%20%20%7B%7D%0A%20%20%20%20%20%20%20%20%20%20%20%20%29.addTo%28map_fef04fab0e0a4cad947a7d49840d676c%29%3B%0A%20%20%20%20%20%20%20%20%0A%20%20%20%20%0A%20%20%20%20%20%20%20%20%20%20%20%20marker_bc88e25425c94f8bb6c219a07822fad3.bindTooltip%28%0A%20%20%20%20%20%20%20%20%20%20%20%20%20%20%20%20%60%3Cdiv%3E%0A%20%20%20%20%20%20%20%20%20%20%20%20%20%20%20%20%20%20%20%20%20Car%0A%20%20%20%20%20%20%20%20%20%20%20%20%20%20%20%20%20%3C/div%3E%60%2C%0A%20%20%20%20%20%20%20%20%20%20%20%20%20%20%20%20%7B%22sticky%22%3A%20true%7D%0A%20%20%20%20%20%20%20%20%20%20%20%20%29%3B%0A%20%20%20%20%20%20%20%20%0A%20%20%20%20%0A%20%20%20%20%20%20%20%20%20%20%20%20var%20marker_9c4e28240e31468ab747f345eb67d2a7%20%3D%20L.marker%28%0A%20%20%20%20%20%20%20%20%20%20%20%20%20%20%20%20%5B53.74535885%2C%20-1.47034293%5D%2C%0A%20%20%20%20%20%20%20%20%20%20%20%20%20%20%20%20%7B%7D%0A%20%20%20%20%20%20%20%20%20%20%20%20%29.addTo%28map_fef04fab0e0a4cad947a7d49840d676c%29%3B%0A%20%20%20%20%20%20%20%20%0A%20%20%20%20%0A%20%20%20%20%20%20%20%20%20%20%20%20marker_9c4e28240e31468ab747f345eb67d2a7.bindTooltip%28%0A%20%20%20%20%20%20%20%20%20%20%20%20%20%20%20%20%60%3Cdiv%3E%0A%20%20%20%20%20%20%20%20%20%20%20%20%20%20%20%20%20%20%20%20%20Car%0A%20%20%20%20%20%20%20%20%20%20%20%20%20%20%20%20%20%3C/div%3E%60%2C%0A%20%20%20%20%20%20%20%20%20%20%20%20%20%20%20%20%7B%22sticky%22%3A%20true%7D%0A%20%20%20%20%20%20%20%20%20%20%20%20%29%3B%0A%20%20%20%20%20%20%20%20%0A%20%20%20%20%0A%20%20%20%20%20%20%20%20%20%20%20%20var%20marker_9743bc2ea7da468ead55c9fc924ada61%20%3D%20L.marker%28%0A%20%20%20%20%20%20%20%20%20%20%20%20%20%20%20%20%5B53.77885648%2C%20-1.4104051%5D%2C%0A%20%20%20%20%20%20%20%20%20%20%20%20%20%20%20%20%7B%7D%0A%20%20%20%20%20%20%20%20%20%20%20%20%29.addTo%28map_fef04fab0e0a4cad947a7d49840d676c%29%3B%0A%20%20%20%20%20%20%20%20%0A%20%20%20%20%0A%20%20%20%20%20%20%20%20%20%20%20%20marker_9743bc2ea7da468ead55c9fc924ada61.bindTooltip%28%0A%20%20%20%20%20%20%20%20%20%20%20%20%20%20%20%20%60%3Cdiv%3E%0A%20%20%20%20%20%20%20%20%20%20%20%20%20%20%20%20%20%20%20%20%20Car%0A%20%20%20%20%20%20%20%20%20%20%20%20%20%20%20%20%20%3C/div%3E%60%2C%0A%20%20%20%20%20%20%20%20%20%20%20%20%20%20%20%20%7B%22sticky%22%3A%20true%7D%0A%20%20%20%20%20%20%20%20%20%20%20%20%29%3B%0A%20%20%20%20%20%20%20%20%0A%20%20%20%20%0A%20%20%20%20%20%20%20%20%20%20%20%20var%20marker_808d4d5570aa415ab41e5b27c22494d7%20%3D%20L.marker%28%0A%20%20%20%20%20%20%20%20%20%20%20%20%20%20%20%20%5B53.90189527%2C%20-1.68955241%5D%2C%0A%20%20%20%20%20%20%20%20%20%20%20%20%20%20%20%20%7B%7D%0A%20%20%20%20%20%20%20%20%20%20%20%20%29.addTo%28map_fef04fab0e0a4cad947a7d49840d676c%29%3B%0A%20%20%20%20%20%20%20%20%0A%20%20%20%20%0A%20%20%20%20%20%20%20%20%20%20%20%20marker_808d4d5570aa415ab41e5b27c22494d7.bindTooltip%28%0A%20%20%20%20%20%20%20%20%20%20%20%20%20%20%20%20%60%3Cdiv%3E%0A%20%20%20%20%20%20%20%20%20%20%20%20%20%20%20%20%20%20%20%20%20Car%0A%20%20%20%20%20%20%20%20%20%20%20%20%20%20%20%20%20%3C/div%3E%60%2C%0A%20%20%20%20%20%20%20%20%20%20%20%20%20%20%20%20%7B%22sticky%22%3A%20true%7D%0A%20%20%20%20%20%20%20%20%20%20%20%20%29%3B%0A%20%20%20%20%20%20%20%20%0A%20%20%20%20%0A%20%20%20%20%20%20%20%20%20%20%20%20var%20marker_cf7f71e707c4485aaa32b3a12d8fac41%20%3D%20L.marker%28%0A%20%20%20%20%20%20%20%20%20%20%20%20%20%20%20%20%5B53.81238426%2C%20-1.34982375%5D%2C%0A%20%20%20%20%20%20%20%20%20%20%20%20%20%20%20%20%7B%7D%0A%20%20%20%20%20%20%20%20%20%20%20%20%29.addTo%28map_fef04fab0e0a4cad947a7d49840d676c%29%3B%0A%20%20%20%20%20%20%20%20%0A%20%20%20%20%0A%20%20%20%20%20%20%20%20%20%20%20%20marker_cf7f71e707c4485aaa32b3a12d8fac41.bindTooltip%28%0A%20%20%20%20%20%20%20%20%20%20%20%20%20%20%20%20%60%3Cdiv%3E%0A%20%20%20%20%20%20%20%20%20%20%20%20%20%20%20%20%20%20%20%20%20Car%0A%20%20%20%20%20%20%20%20%20%20%20%20%20%20%20%20%20%3C/div%3E%60%2C%0A%20%20%20%20%20%20%20%20%20%20%20%20%20%20%20%20%7B%22sticky%22%3A%20true%7D%0A%20%20%20%20%20%20%20%20%20%20%20%20%29%3B%0A%20%20%20%20%20%20%20%20%0A%20%20%20%20%0A%20%20%20%20%20%20%20%20%20%20%20%20var%20marker_a3562b6df84c4fc5a35ea7b4543187e3%20%3D%20L.marker%28%0A%20%20%20%20%20%20%20%20%20%20%20%20%20%20%20%20%5B53.82748523%2C%20-1.58270595%5D%2C%0A%20%20%20%20%20%20%20%20%20%20%20%20%20%20%20%20%7B%7D%0A%20%20%20%20%20%20%20%20%20%20%20%20%29.addTo%28map_fef04fab0e0a4cad947a7d49840d676c%29%3B%0A%20%20%20%20%20%20%20%20%0A%20%20%20%20%0A%20%20%20%20%20%20%20%20%20%20%20%20marker_a3562b6df84c4fc5a35ea7b4543187e3.bindTooltip%28%0A%20%20%20%20%20%20%20%20%20%20%20%20%20%20%20%20%60%3Cdiv%3E%0A%20%20%20%20%20%20%20%20%20%20%20%20%20%20%20%20%20%20%20%20%20Car%0A%20%20%20%20%20%20%20%20%20%20%20%20%20%20%20%20%20%3C/div%3E%60%2C%0A%20%20%20%20%20%20%20%20%20%20%20%20%20%20%20%20%7B%22sticky%22%3A%20true%7D%0A%20%20%20%20%20%20%20%20%20%20%20%20%29%3B%0A%20%20%20%20%20%20%20%20%0A%20%20%20%20%0A%20%20%20%20%20%20%20%20%20%20%20%20var%20marker_41b295f9676e44d6b5f73b377e88a50c%20%3D%20L.marker%28%0A%20%20%20%20%20%20%20%20%20%20%20%20%20%20%20%20%5B53.87219219%2C%20-1.71585393%5D%2C%0A%20%20%20%20%20%20%20%20%20%20%20%20%20%20%20%20%7B%7D%0A%20%20%20%20%20%20%20%20%20%20%20%20%29.addTo%28map_fef04fab0e0a4cad947a7d49840d676c%29%3B%0A%20%20%20%20%20%20%20%20%0A%20%20%20%20%0A%20%20%20%20%20%20%20%20%20%20%20%20marker_41b295f9676e44d6b5f73b377e88a50c.bindTooltip%28%0A%20%20%20%20%20%20%20%20%20%20%20%20%20%20%20%20%60%3Cdiv%3E%0A%20%20%20%20%20%20%20%20%20%20%20%20%20%20%20%20%20%20%20%20%20Car%0A%20%20%20%20%20%20%20%20%20%20%20%20%20%20%20%20%20%3C/div%3E%60%2C%0A%20%20%20%20%20%20%20%20%20%20%20%20%20%20%20%20%7B%22sticky%22%3A%20true%7D%0A%20%20%20%20%20%20%20%20%20%20%20%20%29%3B%0A%20%20%20%20%20%20%20%20%0A%20%20%20%20%0A%20%20%20%20%20%20%20%20%20%20%20%20var%20marker_13a959bcc88d4faaa95d516800a8d712%20%3D%20L.marker%28%0A%20%20%20%20%20%20%20%20%20%20%20%20%20%20%20%20%5B53.81055226%2C%20-1.62077799%5D%2C%0A%20%20%20%20%20%20%20%20%20%20%20%20%20%20%20%20%7B%7D%0A%20%20%20%20%20%20%20%20%20%20%20%20%29.addTo%28map_fef04fab0e0a4cad947a7d49840d676c%29%3B%0A%20%20%20%20%20%20%20%20%0A%20%20%20%20%0A%20%20%20%20%20%20%20%20%20%20%20%20marker_13a959bcc88d4faaa95d516800a8d712.bindTooltip%28%0A%20%20%20%20%20%20%20%20%20%20%20%20%20%20%20%20%60%3Cdiv%3E%0A%20%20%20%20%20%20%20%20%20%20%20%20%20%20%20%20%20%20%20%20%20Car%0A%20%20%20%20%20%20%20%20%20%20%20%20%20%20%20%20%20%3C/div%3E%60%2C%0A%20%20%20%20%20%20%20%20%20%20%20%20%20%20%20%20%7B%22sticky%22%3A%20true%7D%0A%20%20%20%20%20%20%20%20%20%20%20%20%29%3B%0A%20%20%20%20%20%20%20%20%0A%20%20%20%20%0A%20%20%20%20%20%20%20%20%20%20%20%20var%20marker_6c0720b38480478bae11f6a3ef4aa966%20%3D%20L.marker%28%0A%20%20%20%20%20%20%20%20%20%20%20%20%20%20%20%20%5B53.74829396%2C%20-1.54856771%5D%2C%0A%20%20%20%20%20%20%20%20%20%20%20%20%20%20%20%20%7B%7D%0A%20%20%20%20%20%20%20%20%20%20%20%20%29.addTo%28map_fef04fab0e0a4cad947a7d49840d676c%29%3B%0A%20%20%20%20%20%20%20%20%0A%20%20%20%20%0A%20%20%20%20%20%20%20%20%20%20%20%20marker_6c0720b38480478bae11f6a3ef4aa966.bindTooltip%28%0A%20%20%20%20%20%20%20%20%20%20%20%20%20%20%20%20%60%3Cdiv%3E%0A%20%20%20%20%20%20%20%20%20%20%20%20%20%20%20%20%20%20%20%20%20Car%0A%20%20%20%20%20%20%20%20%20%20%20%20%20%20%20%20%20%3C/div%3E%60%2C%0A%20%20%20%20%20%20%20%20%20%20%20%20%20%20%20%20%7B%22sticky%22%3A%20true%7D%0A%20%20%20%20%20%20%20%20%20%20%20%20%29%3B%0A%20%20%20%20%20%20%20%20%0A%20%20%20%20%0A%20%20%20%20%20%20%20%20%20%20%20%20var%20marker_f4be7daa06664137a1a64e1b335f89b3%20%3D%20L.marker%28%0A%20%20%20%20%20%20%20%20%20%20%20%20%20%20%20%20%5B53.74123407%2C%20-1.50854115%5D%2C%0A%20%20%20%20%20%20%20%20%20%20%20%20%20%20%20%20%7B%7D%0A%20%20%20%20%20%20%20%20%20%20%20%20%29.addTo%28map_fef04fab0e0a4cad947a7d49840d676c%29%3B%0A%20%20%20%20%20%20%20%20%0A%20%20%20%20%0A%20%20%20%20%20%20%20%20%20%20%20%20marker_f4be7daa06664137a1a64e1b335f89b3.bindTooltip%28%0A%20%20%20%20%20%20%20%20%20%20%20%20%20%20%20%20%60%3Cdiv%3E%0A%20%20%20%20%20%20%20%20%20%20%20%20%20%20%20%20%20%20%20%20%20Car%0A%20%20%20%20%20%20%20%20%20%20%20%20%20%20%20%20%20%3C/div%3E%60%2C%0A%20%20%20%20%20%20%20%20%20%20%20%20%20%20%20%20%7B%22sticky%22%3A%20true%7D%0A%20%20%20%20%20%20%20%20%20%20%20%20%29%3B%0A%20%20%20%20%20%20%20%20%0A%20%20%20%20%0A%20%20%20%20%20%20%20%20%20%20%20%20var%20marker_19be61a4c26e45489f987ab104362406%20%3D%20L.marker%28%0A%20%20%20%20%20%20%20%20%20%20%20%20%20%20%20%20%5B53.7751258%2C%20-1.53975287%5D%2C%0A%20%20%20%20%20%20%20%20%20%20%20%20%20%20%20%20%7B%7D%0A%20%20%20%20%20%20%20%20%20%20%20%20%29.addTo%28map_fef04fab0e0a4cad947a7d49840d676c%29%3B%0A%20%20%20%20%20%20%20%20%0A%20%20%20%20%0A%20%20%20%20%20%20%20%20%20%20%20%20marker_19be61a4c26e45489f987ab104362406.bindTooltip%28%0A%20%20%20%20%20%20%20%20%20%20%20%20%20%20%20%20%60%3Cdiv%3E%0A%20%20%20%20%20%20%20%20%20%20%20%20%20%20%20%20%20%20%20%20%20Car%0A%20%20%20%20%20%20%20%20%20%20%20%20%20%20%20%20%20%3C/div%3E%60%2C%0A%20%20%20%20%20%20%20%20%20%20%20%20%20%20%20%20%7B%22sticky%22%3A%20true%7D%0A%20%20%20%20%20%20%20%20%20%20%20%20%29%3B%0A%20%20%20%20%20%20%20%20%0A%20%20%20%20%0A%20%20%20%20%20%20%20%20%20%20%20%20var%20marker_bb9798f6e232438ca2943c97c1ea9133%20%3D%20L.marker%28%0A%20%20%20%20%20%20%20%20%20%20%20%20%20%20%20%20%5B53.81231872%2C%20-1.57905956%5D%2C%0A%20%20%20%20%20%20%20%20%20%20%20%20%20%20%20%20%7B%7D%0A%20%20%20%20%20%20%20%20%20%20%20%20%29.addTo%28map_fef04fab0e0a4cad947a7d49840d676c%29%3B%0A%20%20%20%20%20%20%20%20%0A%20%20%20%20%0A%20%20%20%20%20%20%20%20%20%20%20%20marker_bb9798f6e232438ca2943c97c1ea9133.bindTooltip%28%0A%20%20%20%20%20%20%20%20%20%20%20%20%20%20%20%20%60%3Cdiv%3E%0A%20%20%20%20%20%20%20%20%20%20%20%20%20%20%20%20%20%20%20%20%20Car%0A%20%20%20%20%20%20%20%20%20%20%20%20%20%20%20%20%20%3C/div%3E%60%2C%0A%20%20%20%20%20%20%20%20%20%20%20%20%20%20%20%20%7B%22sticky%22%3A%20true%7D%0A%20%20%20%20%20%20%20%20%20%20%20%20%29%3B%0A%20%20%20%20%20%20%20%20%0A%20%20%20%20%0A%20%20%20%20%20%20%20%20%20%20%20%20var%20marker_170d35821a2749968f2d75ca98db980e%20%3D%20L.marker%28%0A%20%20%20%20%20%20%20%20%20%20%20%20%20%20%20%20%5B53.80940268%2C%20-1.50721316%5D%2C%0A%20%20%20%20%20%20%20%20%20%20%20%20%20%20%20%20%7B%7D%0A%20%20%20%20%20%20%20%20%20%20%20%20%29.addTo%28map_fef04fab0e0a4cad947a7d49840d676c%29%3B%0A%20%20%20%20%20%20%20%20%0A%20%20%20%20%0A%20%20%20%20%20%20%20%20%20%20%20%20marker_170d35821a2749968f2d75ca98db980e.bindTooltip%28%0A%20%20%20%20%20%20%20%20%20%20%20%20%20%20%20%20%60%3Cdiv%3E%0A%20%20%20%20%20%20%20%20%20%20%20%20%20%20%20%20%20%20%20%20%20Car%0A%20%20%20%20%20%20%20%20%20%20%20%20%20%20%20%20%20%3C/div%3E%60%2C%0A%20%20%20%20%20%20%20%20%20%20%20%20%20%20%20%20%7B%22sticky%22%3A%20true%7D%0A%20%20%20%20%20%20%20%20%20%20%20%20%29%3B%0A%20%20%20%20%20%20%20%20%0A%20%20%20%20%0A%20%20%20%20%20%20%20%20%20%20%20%20var%20marker_bdccd15568fd45f98ae0be68e6c25469%20%3D%20L.marker%28%0A%20%20%20%20%20%20%20%20%20%20%20%20%20%20%20%20%5B53.78994325%2C%20-1.56527353%5D%2C%0A%20%20%20%20%20%20%20%20%20%20%20%20%20%20%20%20%7B%7D%0A%20%20%20%20%20%20%20%20%20%20%20%20%29.addTo%28map_fef04fab0e0a4cad947a7d49840d676c%29%3B%0A%20%20%20%20%20%20%20%20%0A%20%20%20%20%0A%20%20%20%20%20%20%20%20%20%20%20%20marker_bdccd15568fd45f98ae0be68e6c25469.bindTooltip%28%0A%20%20%20%20%20%20%20%20%20%20%20%20%20%20%20%20%60%3Cdiv%3E%0A%20%20%20%20%20%20%20%20%20%20%20%20%20%20%20%20%20%20%20%20%20Car%0A%20%20%20%20%20%20%20%20%20%20%20%20%20%20%20%20%20%3C/div%3E%60%2C%0A%20%20%20%20%20%20%20%20%20%20%20%20%20%20%20%20%7B%22sticky%22%3A%20true%7D%0A%20%20%20%20%20%20%20%20%20%20%20%20%29%3B%0A%20%20%20%20%20%20%20%20%0A%20%20%20%20%0A%20%20%20%20%20%20%20%20%20%20%20%20var%20marker_8cd40bb7baa24793b52d4cfab628cc3a%20%3D%20L.marker%28%0A%20%20%20%20%20%20%20%20%20%20%20%20%20%20%20%20%5B53.81783312%2C%20-1.51595478%5D%2C%0A%20%20%20%20%20%20%20%20%20%20%20%20%20%20%20%20%7B%7D%0A%20%20%20%20%20%20%20%20%20%20%20%20%29.addTo%28map_fef04fab0e0a4cad947a7d49840d676c%29%3B%0A%20%20%20%20%20%20%20%20%0A%20%20%20%20%0A%20%20%20%20%20%20%20%20%20%20%20%20marker_8cd40bb7baa24793b52d4cfab628cc3a.bindTooltip%28%0A%20%20%20%20%20%20%20%20%20%20%20%20%20%20%20%20%60%3Cdiv%3E%0A%20%20%20%20%20%20%20%20%20%20%20%20%20%20%20%20%20%20%20%20%20Car%0A%20%20%20%20%20%20%20%20%20%20%20%20%20%20%20%20%20%3C/div%3E%60%2C%0A%20%20%20%20%20%20%20%20%20%20%20%20%20%20%20%20%7B%22sticky%22%3A%20true%7D%0A%20%20%20%20%20%20%20%20%20%20%20%20%29%3B%0A%20%20%20%20%20%20%20%20%0A%20%20%20%20%0A%20%20%20%20%20%20%20%20%20%20%20%20var%20marker_d5de64fb8d59420b8c57daf2af7a4b7a%20%3D%20L.marker%28%0A%20%20%20%20%20%20%20%20%20%20%20%20%20%20%20%20%5B53.800977%2C%20-1.49762471%5D%2C%0A%20%20%20%20%20%20%20%20%20%20%20%20%20%20%20%20%7B%7D%0A%20%20%20%20%20%20%20%20%20%20%20%20%29.addTo%28map_fef04fab0e0a4cad947a7d49840d676c%29%3B%0A%20%20%20%20%20%20%20%20%0A%20%20%20%20%0A%20%20%20%20%20%20%20%20%20%20%20%20marker_d5de64fb8d59420b8c57daf2af7a4b7a.bindTooltip%28%0A%20%20%20%20%20%20%20%20%20%20%20%20%20%20%20%20%60%3Cdiv%3E%0A%20%20%20%20%20%20%20%20%20%20%20%20%20%20%20%20%20%20%20%20%20Car%0A%20%20%20%20%20%20%20%20%20%20%20%20%20%20%20%20%20%3C/div%3E%60%2C%0A%20%20%20%20%20%20%20%20%20%20%20%20%20%20%20%20%7B%22sticky%22%3A%20true%7D%0A%20%20%20%20%20%20%20%20%20%20%20%20%29%3B%0A%20%20%20%20%20%20%20%20%0A%20%20%20%20%0A%20%20%20%20%20%20%20%20%20%20%20%20var%20marker_4bae08f084784d1c9da18ce7a2e221a4%20%3D%20L.marker%28%0A%20%20%20%20%20%20%20%20%20%20%20%20%20%20%20%20%5B53.76210344%2C%20-1.57174955%5D%2C%0A%20%20%20%20%20%20%20%20%20%20%20%20%20%20%20%20%7B%7D%0A%20%20%20%20%20%20%20%20%20%20%20%20%29.addTo%28map_fef04fab0e0a4cad947a7d49840d676c%29%3B%0A%20%20%20%20%20%20%20%20%0A%20%20%20%20%0A%20%20%20%20%20%20%20%20%20%20%20%20marker_4bae08f084784d1c9da18ce7a2e221a4.bindTooltip%28%0A%20%20%20%20%20%20%20%20%20%20%20%20%20%20%20%20%60%3Cdiv%3E%0A%20%20%20%20%20%20%20%20%20%20%20%20%20%20%20%20%20%20%20%20%20Car%0A%20%20%20%20%20%20%20%20%20%20%20%20%20%20%20%20%20%3C/div%3E%60%2C%0A%20%20%20%20%20%20%20%20%20%20%20%20%20%20%20%20%7B%22sticky%22%3A%20true%7D%0A%20%20%20%20%20%20%20%20%20%20%20%20%29%3B%0A%20%20%20%20%20%20%20%20%0A%20%20%20%20%0A%20%20%20%20%20%20%20%20%20%20%20%20var%20marker_5923f0e1b3154876b70b86c5463033a9%20%3D%20L.marker%28%0A%20%20%20%20%20%20%20%20%20%20%20%20%20%20%20%20%5B53.7315912%2C%20-1.58792943%5D%2C%0A%20%20%20%20%20%20%20%20%20%20%20%20%20%20%20%20%7B%7D%0A%20%20%20%20%20%20%20%20%20%20%20%20%29.addTo%28map_fef04fab0e0a4cad947a7d49840d676c%29%3B%0A%20%20%20%20%20%20%20%20%0A%20%20%20%20%0A%20%20%20%20%20%20%20%20%20%20%20%20marker_5923f0e1b3154876b70b86c5463033a9.bindTooltip%28%0A%20%20%20%20%20%20%20%20%20%20%20%20%20%20%20%20%60%3Cdiv%3E%0A%20%20%20%20%20%20%20%20%20%20%20%20%20%20%20%20%20%20%20%20%20Car%0A%20%20%20%20%20%20%20%20%20%20%20%20%20%20%20%20%20%3C/div%3E%60%2C%0A%20%20%20%20%20%20%20%20%20%20%20%20%20%20%20%20%7B%22sticky%22%3A%20true%7D%0A%20%20%20%20%20%20%20%20%20%20%20%20%29%3B%0A%20%20%20%20%20%20%20%20%0A%20%20%20%20%0A%20%20%20%20%20%20%20%20%20%20%20%20var%20marker_926fae32b50548b79d018955aa42506d%20%3D%20L.marker%28%0A%20%20%20%20%20%20%20%20%20%20%20%20%20%20%20%20%5B53.77055781%2C%20-1.52763477%5D%2C%0A%20%20%20%20%20%20%20%20%20%20%20%20%20%20%20%20%7B%7D%0A%20%20%20%20%20%20%20%20%20%20%20%20%29.addTo%28map_fef04fab0e0a4cad947a7d49840d676c%29%3B%0A%20%20%20%20%20%20%20%20%0A%20%20%20%20%0A%20%20%20%20%20%20%20%20%20%20%20%20marker_926fae32b50548b79d018955aa42506d.bindTooltip%28%0A%20%20%20%20%20%20%20%20%20%20%20%20%20%20%20%20%60%3Cdiv%3E%0A%20%20%20%20%20%20%20%20%20%20%20%20%20%20%20%20%20%20%20%20%20Car%0A%20%20%20%20%20%20%20%20%20%20%20%20%20%20%20%20%20%3C/div%3E%60%2C%0A%20%20%20%20%20%20%20%20%20%20%20%20%20%20%20%20%7B%22sticky%22%3A%20true%7D%0A%20%20%20%20%20%20%20%20%20%20%20%20%29%3B%0A%20%20%20%20%20%20%20%20%0A%20%20%20%20%0A%20%20%20%20%20%20%20%20%20%20%20%20var%20marker_46d4513f97ec42bbb4794ea9456c23d9%20%3D%20L.marker%28%0A%20%20%20%20%20%20%20%20%20%20%20%20%20%20%20%20%5B53.78075651%2C%20-1.5801644%5D%2C%0A%20%20%20%20%20%20%20%20%20%20%20%20%20%20%20%20%7B%7D%0A%20%20%20%20%20%20%20%20%20%20%20%20%29.addTo%28map_fef04fab0e0a4cad947a7d49840d676c%29%3B%0A%20%20%20%20%20%20%20%20%0A%20%20%20%20%0A%20%20%20%20%20%20%20%20%20%20%20%20marker_46d4513f97ec42bbb4794ea9456c23d9.bindTooltip%28%0A%20%20%20%20%20%20%20%20%20%20%20%20%20%20%20%20%60%3Cdiv%3E%0A%20%20%20%20%20%20%20%20%20%20%20%20%20%20%20%20%20%20%20%20%20Car%0A%20%20%20%20%20%20%20%20%20%20%20%20%20%20%20%20%20%3C/div%3E%60%2C%0A%20%20%20%20%20%20%20%20%20%20%20%20%20%20%20%20%7B%22sticky%22%3A%20true%7D%0A%20%20%20%20%20%20%20%20%20%20%20%20%29%3B%0A%20%20%20%20%20%20%20%20%0A%20%20%20%20%0A%20%20%20%20%20%20%20%20%20%20%20%20var%20marker_ee8be220e49348b99e1d34ea4e2d551d%20%3D%20L.marker%28%0A%20%20%20%20%20%20%20%20%20%20%20%20%20%20%20%20%5B53.79601958%2C%20-1.62109156%5D%2C%0A%20%20%20%20%20%20%20%20%20%20%20%20%20%20%20%20%7B%7D%0A%20%20%20%20%20%20%20%20%20%20%20%20%29.addTo%28map_fef04fab0e0a4cad947a7d49840d676c%29%3B%0A%20%20%20%20%20%20%20%20%0A%20%20%20%20%0A%20%20%20%20%20%20%20%20%20%20%20%20marker_ee8be220e49348b99e1d34ea4e2d551d.bindTooltip%28%0A%20%20%20%20%20%20%20%20%20%20%20%20%20%20%20%20%60%3Cdiv%3E%0A%20%20%20%20%20%20%20%20%20%20%20%20%20%20%20%20%20%20%20%20%20Bus%0A%20%20%20%20%20%20%20%20%20%20%20%20%20%20%20%20%20%3C/div%3E%60%2C%0A%20%20%20%20%20%20%20%20%20%20%20%20%20%20%20%20%7B%22sticky%22%3A%20true%7D%0A%20%20%20%20%20%20%20%20%20%20%20%20%29%3B%0A%20%20%20%20%20%20%20%20%0A%20%20%20%20%0A%20%20%20%20%20%20%20%20%20%20%20%20var%20marker_868470c1b9f947c7a88a4fee69afc78f%20%3D%20L.marker%28%0A%20%20%20%20%20%20%20%20%20%20%20%20%20%20%20%20%5B53.72923969%2C%20-1.51190923%5D%2C%0A%20%20%20%20%20%20%20%20%20%20%20%20%20%20%20%20%7B%7D%0A%20%20%20%20%20%20%20%20%20%20%20%20%29.addTo%28map_fef04fab0e0a4cad947a7d49840d676c%29%3B%0A%20%20%20%20%20%20%20%20%0A%20%20%20%20%0A%20%20%20%20%20%20%20%20%20%20%20%20marker_868470c1b9f947c7a88a4fee69afc78f.bindTooltip%28%0A%20%20%20%20%20%20%20%20%20%20%20%20%20%20%20%20%60%3Cdiv%3E%0A%20%20%20%20%20%20%20%20%20%20%20%20%20%20%20%20%20%20%20%20%20Car%0A%20%20%20%20%20%20%20%20%20%20%20%20%20%20%20%20%20%3C/div%3E%60%2C%0A%20%20%20%20%20%20%20%20%20%20%20%20%20%20%20%20%7B%22sticky%22%3A%20true%7D%0A%20%20%20%20%20%20%20%20%20%20%20%20%29%3B%0A%20%20%20%20%20%20%20%20%0A%20%20%20%20%0A%20%20%20%20%20%20%20%20%20%20%20%20var%20marker_2c4afafabe2e47f8b2bb45ef56101f4f%20%3D%20L.marker%28%0A%20%20%20%20%20%20%20%20%20%20%20%20%20%20%20%20%5B53.81231095%2C%20-1.5173243%5D%2C%0A%20%20%20%20%20%20%20%20%20%20%20%20%20%20%20%20%7B%7D%0A%20%20%20%20%20%20%20%20%20%20%20%20%29.addTo%28map_fef04fab0e0a4cad947a7d49840d676c%29%3B%0A%20%20%20%20%20%20%20%20%0A%20%20%20%20%0A%20%20%20%20%20%20%20%20%20%20%20%20marker_2c4afafabe2e47f8b2bb45ef56101f4f.bindTooltip%28%0A%20%20%20%20%20%20%20%20%20%20%20%20%20%20%20%20%60%3Cdiv%3E%0A%20%20%20%20%20%20%20%20%20%20%20%20%20%20%20%20%20%20%20%20%20Car%0A%20%20%20%20%20%20%20%20%20%20%20%20%20%20%20%20%20%3C/div%3E%60%2C%0A%20%20%20%20%20%20%20%20%20%20%20%20%20%20%20%20%7B%22sticky%22%3A%20true%7D%0A%20%20%20%20%20%20%20%20%20%20%20%20%29%3B%0A%20%20%20%20%20%20%20%20%0A%20%20%20%20%0A%20%20%20%20%20%20%20%20%20%20%20%20var%20marker_c3344e3b70a642daa9d98cb32192e39b%20%3D%20L.marker%28%0A%20%20%20%20%20%20%20%20%20%20%20%20%20%20%20%20%5B53.82298615%2C%20-1.5786795%5D%2C%0A%20%20%20%20%20%20%20%20%20%20%20%20%20%20%20%20%7B%7D%0A%20%20%20%20%20%20%20%20%20%20%20%20%29.addTo%28map_fef04fab0e0a4cad947a7d49840d676c%29%3B%0A%20%20%20%20%20%20%20%20%0A%20%20%20%20%0A%20%20%20%20%20%20%20%20%20%20%20%20marker_c3344e3b70a642daa9d98cb32192e39b.bindTooltip%28%0A%20%20%20%20%20%20%20%20%20%20%20%20%20%20%20%20%60%3Cdiv%3E%0A%20%20%20%20%20%20%20%20%20%20%20%20%20%20%20%20%20%20%20%20%20Car%0A%20%20%20%20%20%20%20%20%20%20%20%20%20%20%20%20%20%3C/div%3E%60%2C%0A%20%20%20%20%20%20%20%20%20%20%20%20%20%20%20%20%7B%22sticky%22%3A%20true%7D%0A%20%20%20%20%20%20%20%20%20%20%20%20%29%3B%0A%20%20%20%20%20%20%20%20%0A%20%20%20%20%0A%20%20%20%20%20%20%20%20%20%20%20%20var%20marker_180c44ca726b492fbf6f41b3fdc4c61a%20%3D%20L.marker%28%0A%20%20%20%20%20%20%20%20%20%20%20%20%20%20%20%20%5B53.7822143%2C%20-1.54843218%5D%2C%0A%20%20%20%20%20%20%20%20%20%20%20%20%20%20%20%20%7B%7D%0A%20%20%20%20%20%20%20%20%20%20%20%20%29.addTo%28map_fef04fab0e0a4cad947a7d49840d676c%29%3B%0A%20%20%20%20%20%20%20%20%0A%20%20%20%20%0A%20%20%20%20%20%20%20%20%20%20%20%20marker_180c44ca726b492fbf6f41b3fdc4c61a.bindTooltip%28%0A%20%20%20%20%20%20%20%20%20%20%20%20%20%20%20%20%60%3Cdiv%3E%0A%20%20%20%20%20%20%20%20%20%20%20%20%20%20%20%20%20%20%20%20%20Taxi/Hire%0A%20%20%20%20%20%20%20%20%20%20%20%20%20%20%20%20%20%3C/div%3E%60%2C%0A%20%20%20%20%20%20%20%20%20%20%20%20%20%20%20%20%7B%22sticky%22%3A%20true%7D%0A%20%20%20%20%20%20%20%20%20%20%20%20%29%3B%0A%20%20%20%20%20%20%20%20%0A%20%20%20%20%0A%20%20%20%20%20%20%20%20%20%20%20%20var%20marker_3a7873749c4b4445bdc910d6eb752beb%20%3D%20L.marker%28%0A%20%20%20%20%20%20%20%20%20%20%20%20%20%20%20%20%5B53.79292159%2C%20-1.56867334%5D%2C%0A%20%20%20%20%20%20%20%20%20%20%20%20%20%20%20%20%7B%7D%0A%20%20%20%20%20%20%20%20%20%20%20%20%29.addTo%28map_fef04fab0e0a4cad947a7d49840d676c%29%3B%0A%20%20%20%20%20%20%20%20%0A%20%20%20%20%0A%20%20%20%20%20%20%20%20%20%20%20%20marker_3a7873749c4b4445bdc910d6eb752beb.bindTooltip%28%0A%20%20%20%20%20%20%20%20%20%20%20%20%20%20%20%20%60%3Cdiv%3E%0A%20%20%20%20%20%20%20%20%20%20%20%20%20%20%20%20%20%20%20%20%20Car%0A%20%20%20%20%20%20%20%20%20%20%20%20%20%20%20%20%20%3C/div%3E%60%2C%0A%20%20%20%20%20%20%20%20%20%20%20%20%20%20%20%20%7B%22sticky%22%3A%20true%7D%0A%20%20%20%20%20%20%20%20%20%20%20%20%29%3B%0A%20%20%20%20%20%20%20%20%0A%20%20%20%20%0A%20%20%20%20%20%20%20%20%20%20%20%20var%20marker_78cae4a609c845428a115c44ee897b93%20%3D%20L.marker%28%0A%20%20%20%20%20%20%20%20%20%20%20%20%20%20%20%20%5B53.83331708%2C%20-1.33816468%5D%2C%0A%20%20%20%20%20%20%20%20%20%20%20%20%20%20%20%20%7B%7D%0A%20%20%20%20%20%20%20%20%20%20%20%20%29.addTo%28map_fef04fab0e0a4cad947a7d49840d676c%29%3B%0A%20%20%20%20%20%20%20%20%0A%20%20%20%20%0A%20%20%20%20%20%20%20%20%20%20%20%20marker_78cae4a609c845428a115c44ee897b93.bindTooltip%28%0A%20%20%20%20%20%20%20%20%20%20%20%20%20%20%20%20%60%3Cdiv%3E%0A%20%20%20%20%20%20%20%20%20%20%20%20%20%20%20%20%20%20%20%20%20Motorcycle%0A%20%20%20%20%20%20%20%20%20%20%20%20%20%20%20%20%20%3C/div%3E%60%2C%0A%20%20%20%20%20%20%20%20%20%20%20%20%20%20%20%20%7B%22sticky%22%3A%20true%7D%0A%20%20%20%20%20%20%20%20%20%20%20%20%29%3B%0A%20%20%20%20%20%20%20%20%0A%20%20%20%20%0A%20%20%20%20%20%20%20%20%20%20%20%20var%20marker_acfa2ccf026645bca268c957828c7d47%20%3D%20L.marker%28%0A%20%20%20%20%20%20%20%20%20%20%20%20%20%20%20%20%5B53.80587911%2C%20-1.47530573%5D%2C%0A%20%20%20%20%20%20%20%20%20%20%20%20%20%20%20%20%7B%7D%0A%20%20%20%20%20%20%20%20%20%20%20%20%29.addTo%28map_fef04fab0e0a4cad947a7d49840d676c%29%3B%0A%20%20%20%20%20%20%20%20%0A%20%20%20%20%0A%20%20%20%20%20%20%20%20%20%20%20%20marker_acfa2ccf026645bca268c957828c7d47.bindTooltip%28%0A%20%20%20%20%20%20%20%20%20%20%20%20%20%20%20%20%60%3Cdiv%3E%0A%20%20%20%20%20%20%20%20%20%20%20%20%20%20%20%20%20%20%20%20%20Car%0A%20%20%20%20%20%20%20%20%20%20%20%20%20%20%20%20%20%3C/div%3E%60%2C%0A%20%20%20%20%20%20%20%20%20%20%20%20%20%20%20%20%7B%22sticky%22%3A%20true%7D%0A%20%20%20%20%20%20%20%20%20%20%20%20%29%3B%0A%20%20%20%20%20%20%20%20%0A%20%20%20%20%0A%20%20%20%20%20%20%20%20%20%20%20%20var%20marker_261dc029bf0c434a8a9f26f6669b7e52%20%3D%20L.marker%28%0A%20%20%20%20%20%20%20%20%20%20%20%20%20%20%20%20%5B53.8061821%2C%20-1.58226405%5D%2C%0A%20%20%20%20%20%20%20%20%20%20%20%20%20%20%20%20%7B%7D%0A%20%20%20%20%20%20%20%20%20%20%20%20%29.addTo%28map_fef04fab0e0a4cad947a7d49840d676c%29%3B%0A%20%20%20%20%20%20%20%20%0A%20%20%20%20%0A%20%20%20%20%20%20%20%20%20%20%20%20marker_261dc029bf0c434a8a9f26f6669b7e52.bindTooltip%28%0A%20%20%20%20%20%20%20%20%20%20%20%20%20%20%20%20%60%3Cdiv%3E%0A%20%20%20%20%20%20%20%20%20%20%20%20%20%20%20%20%20%20%20%20%20Bus%0A%20%20%20%20%20%20%20%20%20%20%20%20%20%20%20%20%20%3C/div%3E%60%2C%0A%20%20%20%20%20%20%20%20%20%20%20%20%20%20%20%20%7B%22sticky%22%3A%20true%7D%0A%20%20%20%20%20%20%20%20%20%20%20%20%29%3B%0A%20%20%20%20%20%20%20%20%0A%20%20%20%20%0A%20%20%20%20%20%20%20%20%20%20%20%20var%20marker_0542de6b6f994ef8ab0f81eca63fc5a5%20%3D%20L.marker%28%0A%20%20%20%20%20%20%20%20%20%20%20%20%20%20%20%20%5B53.79706513%2C%20-1.59714104%5D%2C%0A%20%20%20%20%20%20%20%20%20%20%20%20%20%20%20%20%7B%7D%0A%20%20%20%20%20%20%20%20%20%20%20%20%29.addTo%28map_fef04fab0e0a4cad947a7d49840d676c%29%3B%0A%20%20%20%20%20%20%20%20%0A%20%20%20%20%0A%20%20%20%20%20%20%20%20%20%20%20%20marker_0542de6b6f994ef8ab0f81eca63fc5a5.bindTooltip%28%0A%20%20%20%20%20%20%20%20%20%20%20%20%20%20%20%20%60%3Cdiv%3E%0A%20%20%20%20%20%20%20%20%20%20%20%20%20%20%20%20%20%20%20%20%20Car%0A%20%20%20%20%20%20%20%20%20%20%20%20%20%20%20%20%20%3C/div%3E%60%2C%0A%20%20%20%20%20%20%20%20%20%20%20%20%20%20%20%20%7B%22sticky%22%3A%20true%7D%0A%20%20%20%20%20%20%20%20%20%20%20%20%29%3B%0A%20%20%20%20%20%20%20%20%0A%20%20%20%20%0A%20%20%20%20%20%20%20%20%20%20%20%20var%20marker_04157df4c51b4a25969c297d91aee1fe%20%3D%20L.marker%28%0A%20%20%20%20%20%20%20%20%20%20%20%20%20%20%20%20%5B53.81800902%2C%20-1.51499582%5D%2C%0A%20%20%20%20%20%20%20%20%20%20%20%20%20%20%20%20%7B%7D%0A%20%20%20%20%20%20%20%20%20%20%20%20%29.addTo%28map_fef04fab0e0a4cad947a7d49840d676c%29%3B%0A%20%20%20%20%20%20%20%20%0A%20%20%20%20%0A%20%20%20%20%20%20%20%20%20%20%20%20marker_04157df4c51b4a25969c297d91aee1fe.bindTooltip%28%0A%20%20%20%20%20%20%20%20%20%20%20%20%20%20%20%20%60%3Cdiv%3E%0A%20%20%20%20%20%20%20%20%20%20%20%20%20%20%20%20%20%20%20%20%20Car%0A%20%20%20%20%20%20%20%20%20%20%20%20%20%20%20%20%20%3C/div%3E%60%2C%0A%20%20%20%20%20%20%20%20%20%20%20%20%20%20%20%20%7B%22sticky%22%3A%20true%7D%0A%20%20%20%20%20%20%20%20%20%20%20%20%29%3B%0A%20%20%20%20%20%20%20%20%0A%20%20%20%20%0A%20%20%20%20%20%20%20%20%20%20%20%20var%20marker_856cdc8ccf304b0995c411b98b5d3206%20%3D%20L.marker%28%0A%20%20%20%20%20%20%20%20%20%20%20%20%20%20%20%20%5B53.7761158%2C%20-1.53775428%5D%2C%0A%20%20%20%20%20%20%20%20%20%20%20%20%20%20%20%20%7B%7D%0A%20%20%20%20%20%20%20%20%20%20%20%20%29.addTo%28map_fef04fab0e0a4cad947a7d49840d676c%29%3B%0A%20%20%20%20%20%20%20%20%0A%20%20%20%20%0A%20%20%20%20%20%20%20%20%20%20%20%20marker_856cdc8ccf304b0995c411b98b5d3206.bindTooltip%28%0A%20%20%20%20%20%20%20%20%20%20%20%20%20%20%20%20%60%3Cdiv%3E%0A%20%20%20%20%20%20%20%20%20%20%20%20%20%20%20%20%20%20%20%20%20Car%0A%20%20%20%20%20%20%20%20%20%20%20%20%20%20%20%20%20%3C/div%3E%60%2C%0A%20%20%20%20%20%20%20%20%20%20%20%20%20%20%20%20%7B%22sticky%22%3A%20true%7D%0A%20%20%20%20%20%20%20%20%20%20%20%20%29%3B%0A%20%20%20%20%20%20%20%20%0A%20%20%20%20%0A%20%20%20%20%20%20%20%20%20%20%20%20var%20marker_276b330d0a4d47a5868a5cec4733fcb5%20%3D%20L.marker%28%0A%20%20%20%20%20%20%20%20%20%20%20%20%20%20%20%20%5B53.77968073%2C%20-1.33912945%5D%2C%0A%20%20%20%20%20%20%20%20%20%20%20%20%20%20%20%20%7B%7D%0A%20%20%20%20%20%20%20%20%20%20%20%20%29.addTo%28map_fef04fab0e0a4cad947a7d49840d676c%29%3B%0A%20%20%20%20%20%20%20%20%0A%20%20%20%20%0A%20%20%20%20%20%20%20%20%20%20%20%20marker_276b330d0a4d47a5868a5cec4733fcb5.bindTooltip%28%0A%20%20%20%20%20%20%20%20%20%20%20%20%20%20%20%20%60%3Cdiv%3E%0A%20%20%20%20%20%20%20%20%20%20%20%20%20%20%20%20%20%20%20%20%20Car%0A%20%20%20%20%20%20%20%20%20%20%20%20%20%20%20%20%20%3C/div%3E%60%2C%0A%20%20%20%20%20%20%20%20%20%20%20%20%20%20%20%20%7B%22sticky%22%3A%20true%7D%0A%20%20%20%20%20%20%20%20%20%20%20%20%29%3B%0A%20%20%20%20%20%20%20%20%0A%20%20%20%20%0A%20%20%20%20%20%20%20%20%20%20%20%20var%20marker_abb9569614424dfe8b0410609bb004c7%20%3D%20L.marker%28%0A%20%20%20%20%20%20%20%20%20%20%20%20%20%20%20%20%5B53.8322583%2C%20-1.64446929%5D%2C%0A%20%20%20%20%20%20%20%20%20%20%20%20%20%20%20%20%7B%7D%0A%20%20%20%20%20%20%20%20%20%20%20%20%29.addTo%28map_fef04fab0e0a4cad947a7d49840d676c%29%3B%0A%20%20%20%20%20%20%20%20%0A%20%20%20%20%0A%20%20%20%20%20%20%20%20%20%20%20%20marker_abb9569614424dfe8b0410609bb004c7.bindTooltip%28%0A%20%20%20%20%20%20%20%20%20%20%20%20%20%20%20%20%60%3Cdiv%3E%0A%20%20%20%20%20%20%20%20%20%20%20%20%20%20%20%20%20%20%20%20%20Car%0A%20%20%20%20%20%20%20%20%20%20%20%20%20%20%20%20%20%3C/div%3E%60%2C%0A%20%20%20%20%20%20%20%20%20%20%20%20%20%20%20%20%7B%22sticky%22%3A%20true%7D%0A%20%20%20%20%20%20%20%20%20%20%20%20%29%3B%0A%20%20%20%20%20%20%20%20%0A%20%20%20%20%0A%20%20%20%20%20%20%20%20%20%20%20%20var%20marker_82917addd91048c488de34ea2882fc2b%20%3D%20L.marker%28%0A%20%20%20%20%20%20%20%20%20%20%20%20%20%20%20%20%5B53.78441533%2C%20-1.32100951%5D%2C%0A%20%20%20%20%20%20%20%20%20%20%20%20%20%20%20%20%7B%7D%0A%20%20%20%20%20%20%20%20%20%20%20%20%29.addTo%28map_fef04fab0e0a4cad947a7d49840d676c%29%3B%0A%20%20%20%20%20%20%20%20%0A%20%20%20%20%0A%20%20%20%20%20%20%20%20%20%20%20%20marker_82917addd91048c488de34ea2882fc2b.bindTooltip%28%0A%20%20%20%20%20%20%20%20%20%20%20%20%20%20%20%20%60%3Cdiv%3E%0A%20%20%20%20%20%20%20%20%20%20%20%20%20%20%20%20%20%20%20%20%20Car%0A%20%20%20%20%20%20%20%20%20%20%20%20%20%20%20%20%20%3C/div%3E%60%2C%0A%20%20%20%20%20%20%20%20%20%20%20%20%20%20%20%20%7B%22sticky%22%3A%20true%7D%0A%20%20%20%20%20%20%20%20%20%20%20%20%29%3B%0A%20%20%20%20%20%20%20%20%0A%20%20%20%20%0A%20%20%20%20%20%20%20%20%20%20%20%20var%20marker_fdd2ccebd1ff46f2873062db106b4842%20%3D%20L.marker%28%0A%20%20%20%20%20%20%20%20%20%20%20%20%20%20%20%20%5B53.88322811%2C%20-1.6123804%5D%2C%0A%20%20%20%20%20%20%20%20%20%20%20%20%20%20%20%20%7B%7D%0A%20%20%20%20%20%20%20%20%20%20%20%20%29.addTo%28map_fef04fab0e0a4cad947a7d49840d676c%29%3B%0A%20%20%20%20%20%20%20%20%0A%20%20%20%20%0A%20%20%20%20%20%20%20%20%20%20%20%20marker_fdd2ccebd1ff46f2873062db106b4842.bindTooltip%28%0A%20%20%20%20%20%20%20%20%20%20%20%20%20%20%20%20%60%3Cdiv%3E%0A%20%20%20%20%20%20%20%20%20%20%20%20%20%20%20%20%20%20%20%20%20Car%0A%20%20%20%20%20%20%20%20%20%20%20%20%20%20%20%20%20%3C/div%3E%60%2C%0A%20%20%20%20%20%20%20%20%20%20%20%20%20%20%20%20%7B%22sticky%22%3A%20true%7D%0A%20%20%20%20%20%20%20%20%20%20%20%20%29%3B%0A%20%20%20%20%20%20%20%20%0A%20%20%20%20%0A%20%20%20%20%20%20%20%20%20%20%20%20var%20marker_239db05017ad4daaa894109cea44b7a3%20%3D%20L.marker%28%0A%20%20%20%20%20%20%20%20%20%20%20%20%20%20%20%20%5B53.82107936%2C%20-1.53221689%5D%2C%0A%20%20%20%20%20%20%20%20%20%20%20%20%20%20%20%20%7B%7D%0A%20%20%20%20%20%20%20%20%20%20%20%20%29.addTo%28map_fef04fab0e0a4cad947a7d49840d676c%29%3B%0A%20%20%20%20%20%20%20%20%0A%20%20%20%20%0A%20%20%20%20%20%20%20%20%20%20%20%20marker_239db05017ad4daaa894109cea44b7a3.bindTooltip%28%0A%20%20%20%20%20%20%20%20%20%20%20%20%20%20%20%20%60%3Cdiv%3E%0A%20%20%20%20%20%20%20%20%20%20%20%20%20%20%20%20%20%20%20%20%20Pedal%20cycle%0A%20%20%20%20%20%20%20%20%20%20%20%20%20%20%20%20%20%3C/div%3E%60%2C%0A%20%20%20%20%20%20%20%20%20%20%20%20%20%20%20%20%7B%22sticky%22%3A%20true%7D%0A%20%20%20%20%20%20%20%20%20%20%20%20%29%3B%0A%20%20%20%20%20%20%20%20%0A%20%20%20%20%0A%20%20%20%20%20%20%20%20%20%20%20%20var%20marker_f8559fc9f1d24db4b50671379146be5c%20%3D%20L.marker%28%0A%20%20%20%20%20%20%20%20%20%20%20%20%20%20%20%20%5B53.88254666%2C%20-1.6542053%5D%2C%0A%20%20%20%20%20%20%20%20%20%20%20%20%20%20%20%20%7B%7D%0A%20%20%20%20%20%20%20%20%20%20%20%20%29.addTo%28map_fef04fab0e0a4cad947a7d49840d676c%29%3B%0A%20%20%20%20%20%20%20%20%0A%20%20%20%20%0A%20%20%20%20%20%20%20%20%20%20%20%20marker_f8559fc9f1d24db4b50671379146be5c.bindTooltip%28%0A%20%20%20%20%20%20%20%20%20%20%20%20%20%20%20%20%60%3Cdiv%3E%0A%20%20%20%20%20%20%20%20%20%20%20%20%20%20%20%20%20%20%20%20%20Pedal%20cycle%0A%20%20%20%20%20%20%20%20%20%20%20%20%20%20%20%20%20%3C/div%3E%60%2C%0A%20%20%20%20%20%20%20%20%20%20%20%20%20%20%20%20%7B%22sticky%22%3A%20true%7D%0A%20%20%20%20%20%20%20%20%20%20%20%20%29%3B%0A%20%20%20%20%20%20%20%20%0A%20%20%20%20%0A%20%20%20%20%20%20%20%20%20%20%20%20var%20marker_f806cb518df24d1db850097cfad0a699%20%3D%20L.marker%28%0A%20%20%20%20%20%20%20%20%20%20%20%20%20%20%20%20%5B53.82755085%2C%20-1.50528442%5D%2C%0A%20%20%20%20%20%20%20%20%20%20%20%20%20%20%20%20%7B%7D%0A%20%20%20%20%20%20%20%20%20%20%20%20%29.addTo%28map_fef04fab0e0a4cad947a7d49840d676c%29%3B%0A%20%20%20%20%20%20%20%20%0A%20%20%20%20%0A%20%20%20%20%20%20%20%20%20%20%20%20marker_f806cb518df24d1db850097cfad0a699.bindTooltip%28%0A%20%20%20%20%20%20%20%20%20%20%20%20%20%20%20%20%60%3Cdiv%3E%0A%20%20%20%20%20%20%20%20%20%20%20%20%20%20%20%20%20%20%20%20%20Car%0A%20%20%20%20%20%20%20%20%20%20%20%20%20%20%20%20%20%3C/div%3E%60%2C%0A%20%20%20%20%20%20%20%20%20%20%20%20%20%20%20%20%7B%22sticky%22%3A%20true%7D%0A%20%20%20%20%20%20%20%20%20%20%20%20%29%3B%0A%20%20%20%20%20%20%20%20%0A%20%20%20%20%0A%20%20%20%20%20%20%20%20%20%20%20%20var%20marker_3328dcadcf194cdd904e659531b1d600%20%3D%20L.marker%28%0A%20%20%20%20%20%20%20%20%20%20%20%20%20%20%20%20%5B53.80660346%2C%20-1.51954607%5D%2C%0A%20%20%20%20%20%20%20%20%20%20%20%20%20%20%20%20%7B%7D%0A%20%20%20%20%20%20%20%20%20%20%20%20%29.addTo%28map_fef04fab0e0a4cad947a7d49840d676c%29%3B%0A%20%20%20%20%20%20%20%20%0A%20%20%20%20%0A%20%20%20%20%20%20%20%20%20%20%20%20marker_3328dcadcf194cdd904e659531b1d600.bindTooltip%28%0A%20%20%20%20%20%20%20%20%20%20%20%20%20%20%20%20%60%3Cdiv%3E%0A%20%20%20%20%20%20%20%20%20%20%20%20%20%20%20%20%20%20%20%20%20Car%0A%20%20%20%20%20%20%20%20%20%20%20%20%20%20%20%20%20%3C/div%3E%60%2C%0A%20%20%20%20%20%20%20%20%20%20%20%20%20%20%20%20%7B%22sticky%22%3A%20true%7D%0A%20%20%20%20%20%20%20%20%20%20%20%20%29%3B%0A%20%20%20%20%20%20%20%20%0A%20%20%20%20%0A%20%20%20%20%20%20%20%20%20%20%20%20var%20marker_73cb5f4767db41fca45665b58f3f22d8%20%3D%20L.marker%28%0A%20%20%20%20%20%20%20%20%20%20%20%20%20%20%20%20%5B53.8999723%2C%20-1.62654615%5D%2C%0A%20%20%20%20%20%20%20%20%20%20%20%20%20%20%20%20%7B%7D%0A%20%20%20%20%20%20%20%20%20%20%20%20%29.addTo%28map_fef04fab0e0a4cad947a7d49840d676c%29%3B%0A%20%20%20%20%20%20%20%20%0A%20%20%20%20%0A%20%20%20%20%20%20%20%20%20%20%20%20marker_73cb5f4767db41fca45665b58f3f22d8.bindTooltip%28%0A%20%20%20%20%20%20%20%20%20%20%20%20%20%20%20%20%60%3Cdiv%3E%0A%20%20%20%20%20%20%20%20%20%20%20%20%20%20%20%20%20%20%20%20%20Other%20Vehicle%20%0A%20%20%20%20%20%20%20%20%20%20%20%20%20%20%20%20%20%3C/div%3E%60%2C%0A%20%20%20%20%20%20%20%20%20%20%20%20%20%20%20%20%7B%22sticky%22%3A%20true%7D%0A%20%20%20%20%20%20%20%20%20%20%20%20%29%3B%0A%20%20%20%20%20%20%20%20%0A%20%20%20%20%0A%20%20%20%20%20%20%20%20%20%20%20%20var%20marker_7aac143f6dbe4646a2396a66a18f120e%20%3D%20L.marker%28%0A%20%20%20%20%20%20%20%20%20%20%20%20%20%20%20%20%5B53.81266905%2C%20-1.55897934%5D%2C%0A%20%20%20%20%20%20%20%20%20%20%20%20%20%20%20%20%7B%7D%0A%20%20%20%20%20%20%20%20%20%20%20%20%29.addTo%28map_fef04fab0e0a4cad947a7d49840d676c%29%3B%0A%20%20%20%20%20%20%20%20%0A%20%20%20%20%0A%20%20%20%20%20%20%20%20%20%20%20%20marker_7aac143f6dbe4646a2396a66a18f120e.bindTooltip%28%0A%20%20%20%20%20%20%20%20%20%20%20%20%20%20%20%20%60%3Cdiv%3E%0A%20%20%20%20%20%20%20%20%20%20%20%20%20%20%20%20%20%20%20%20%20Car%0A%20%20%20%20%20%20%20%20%20%20%20%20%20%20%20%20%20%3C/div%3E%60%2C%0A%20%20%20%20%20%20%20%20%20%20%20%20%20%20%20%20%7B%22sticky%22%3A%20true%7D%0A%20%20%20%20%20%20%20%20%20%20%20%20%29%3B%0A%20%20%20%20%20%20%20%20%0A%20%20%20%20%0A%20%20%20%20%20%20%20%20%20%20%20%20var%20marker_88223ba80a7949cd95ac85a0d8dd54ed%20%3D%20L.marker%28%0A%20%20%20%20%20%20%20%20%20%20%20%20%20%20%20%20%5B53.8037632%2C%20-1.54725961%5D%2C%0A%20%20%20%20%20%20%20%20%20%20%20%20%20%20%20%20%7B%7D%0A%20%20%20%20%20%20%20%20%20%20%20%20%29.addTo%28map_fef04fab0e0a4cad947a7d49840d676c%29%3B%0A%20%20%20%20%20%20%20%20%0A%20%20%20%20%0A%20%20%20%20%20%20%20%20%20%20%20%20marker_88223ba80a7949cd95ac85a0d8dd54ed.bindTooltip%28%0A%20%20%20%20%20%20%20%20%20%20%20%20%20%20%20%20%60%3Cdiv%3E%0A%20%20%20%20%20%20%20%20%20%20%20%20%20%20%20%20%20%20%20%20%20Car%0A%20%20%20%20%20%20%20%20%20%20%20%20%20%20%20%20%20%3C/div%3E%60%2C%0A%20%20%20%20%20%20%20%20%20%20%20%20%20%20%20%20%7B%22sticky%22%3A%20true%7D%0A%20%20%20%20%20%20%20%20%20%20%20%20%29%3B%0A%20%20%20%20%20%20%20%20%0A%20%20%20%20%0A%20%20%20%20%20%20%20%20%20%20%20%20var%20marker_8d9b6d69f36945289d90f84b62f2bb41%20%3D%20L.marker%28%0A%20%20%20%20%20%20%20%20%20%20%20%20%20%20%20%20%5B53.81028416%2C%20-1.65732089%5D%2C%0A%20%20%20%20%20%20%20%20%20%20%20%20%20%20%20%20%7B%7D%0A%20%20%20%20%20%20%20%20%20%20%20%20%29.addTo%28map_fef04fab0e0a4cad947a7d49840d676c%29%3B%0A%20%20%20%20%20%20%20%20%0A%20%20%20%20%0A%20%20%20%20%20%20%20%20%20%20%20%20marker_8d9b6d69f36945289d90f84b62f2bb41.bindTooltip%28%0A%20%20%20%20%20%20%20%20%20%20%20%20%20%20%20%20%60%3Cdiv%3E%0A%20%20%20%20%20%20%20%20%20%20%20%20%20%20%20%20%20%20%20%20%20Car%0A%20%20%20%20%20%20%20%20%20%20%20%20%20%20%20%20%20%3C/div%3E%60%2C%0A%20%20%20%20%20%20%20%20%20%20%20%20%20%20%20%20%7B%22sticky%22%3A%20true%7D%0A%20%20%20%20%20%20%20%20%20%20%20%20%29%3B%0A%20%20%20%20%20%20%20%20%0A%20%20%20%20%0A%20%20%20%20%20%20%20%20%20%20%20%20var%20marker_528a21c4bb224b14949fc6ccc7003171%20%3D%20L.marker%28%0A%20%20%20%20%20%20%20%20%20%20%20%20%20%20%20%20%5B53.78843244%2C%20-1.54563342%5D%2C%0A%20%20%20%20%20%20%20%20%20%20%20%20%20%20%20%20%7B%7D%0A%20%20%20%20%20%20%20%20%20%20%20%20%29.addTo%28map_fef04fab0e0a4cad947a7d49840d676c%29%3B%0A%20%20%20%20%20%20%20%20%0A%20%20%20%20%0A%20%20%20%20%20%20%20%20%20%20%20%20marker_528a21c4bb224b14949fc6ccc7003171.bindTooltip%28%0A%20%20%20%20%20%20%20%20%20%20%20%20%20%20%20%20%60%3Cdiv%3E%0A%20%20%20%20%20%20%20%20%20%20%20%20%20%20%20%20%20%20%20%20%20Car%0A%20%20%20%20%20%20%20%20%20%20%20%20%20%20%20%20%20%3C/div%3E%60%2C%0A%20%20%20%20%20%20%20%20%20%20%20%20%20%20%20%20%7B%22sticky%22%3A%20true%7D%0A%20%20%20%20%20%20%20%20%20%20%20%20%29%3B%0A%20%20%20%20%20%20%20%20%0A%20%20%20%20%0A%20%20%20%20%20%20%20%20%20%20%20%20var%20marker_e25d3072cec341ea9b11adac9a5b9d03%20%3D%20L.marker%28%0A%20%20%20%20%20%20%20%20%20%20%20%20%20%20%20%20%5B53.80312374%2C%20-1.53285679%5D%2C%0A%20%20%20%20%20%20%20%20%20%20%20%20%20%20%20%20%7B%7D%0A%20%20%20%20%20%20%20%20%20%20%20%20%29.addTo%28map_fef04fab0e0a4cad947a7d49840d676c%29%3B%0A%20%20%20%20%20%20%20%20%0A%20%20%20%20%0A%20%20%20%20%20%20%20%20%20%20%20%20marker_e25d3072cec341ea9b11adac9a5b9d03.bindTooltip%28%0A%20%20%20%20%20%20%20%20%20%20%20%20%20%20%20%20%60%3Cdiv%3E%0A%20%20%20%20%20%20%20%20%20%20%20%20%20%20%20%20%20%20%20%20%20Car%0A%20%20%20%20%20%20%20%20%20%20%20%20%20%20%20%20%20%3C/div%3E%60%2C%0A%20%20%20%20%20%20%20%20%20%20%20%20%20%20%20%20%7B%22sticky%22%3A%20true%7D%0A%20%20%20%20%20%20%20%20%20%20%20%20%29%3B%0A%20%20%20%20%20%20%20%20%0A%20%20%20%20%0A%20%20%20%20%20%20%20%20%20%20%20%20var%20marker_87fff0ab451145de81d11fee91be4a72%20%3D%20L.marker%28%0A%20%20%20%20%20%20%20%20%20%20%20%20%20%20%20%20%5B53.78629476%2C%20-1.55080166%5D%2C%0A%20%20%20%20%20%20%20%20%20%20%20%20%20%20%20%20%7B%7D%0A%20%20%20%20%20%20%20%20%20%20%20%20%29.addTo%28map_fef04fab0e0a4cad947a7d49840d676c%29%3B%0A%20%20%20%20%20%20%20%20%0A%20%20%20%20%0A%20%20%20%20%20%20%20%20%20%20%20%20marker_87fff0ab451145de81d11fee91be4a72.bindTooltip%28%0A%20%20%20%20%20%20%20%20%20%20%20%20%20%20%20%20%60%3Cdiv%3E%0A%20%20%20%20%20%20%20%20%20%20%20%20%20%20%20%20%20%20%20%20%20Bus%0A%20%20%20%20%20%20%20%20%20%20%20%20%20%20%20%20%20%3C/div%3E%60%2C%0A%20%20%20%20%20%20%20%20%20%20%20%20%20%20%20%20%7B%22sticky%22%3A%20true%7D%0A%20%20%20%20%20%20%20%20%20%20%20%20%29%3B%0A%20%20%20%20%20%20%20%20%0A%20%20%20%20%0A%20%20%20%20%20%20%20%20%20%20%20%20var%20marker_5224074987d848368b4e138e759e3728%20%3D%20L.marker%28%0A%20%20%20%20%20%20%20%20%20%20%20%20%20%20%20%20%5B53.79698689%2C%20-1.5403489%5D%2C%0A%20%20%20%20%20%20%20%20%20%20%20%20%20%20%20%20%7B%7D%0A%20%20%20%20%20%20%20%20%20%20%20%20%29.addTo%28map_fef04fab0e0a4cad947a7d49840d676c%29%3B%0A%20%20%20%20%20%20%20%20%0A%20%20%20%20%0A%20%20%20%20%20%20%20%20%20%20%20%20marker_5224074987d848368b4e138e759e3728.bindTooltip%28%0A%20%20%20%20%20%20%20%20%20%20%20%20%20%20%20%20%60%3Cdiv%3E%0A%20%20%20%20%20%20%20%20%20%20%20%20%20%20%20%20%20%20%20%20%20Motorcycle%0A%20%20%20%20%20%20%20%20%20%20%20%20%20%20%20%20%20%3C/div%3E%60%2C%0A%20%20%20%20%20%20%20%20%20%20%20%20%20%20%20%20%7B%22sticky%22%3A%20true%7D%0A%20%20%20%20%20%20%20%20%20%20%20%20%29%3B%0A%20%20%20%20%20%20%20%20%0A%20%20%20%20%0A%20%20%20%20%20%20%20%20%20%20%20%20var%20marker_f8794ba8f92a48879b8d8443a6488c71%20%3D%20L.marker%28%0A%20%20%20%20%20%20%20%20%20%20%20%20%20%20%20%20%5B53.79220227%2C%20-1.57616414%5D%2C%0A%20%20%20%20%20%20%20%20%20%20%20%20%20%20%20%20%7B%7D%0A%20%20%20%20%20%20%20%20%20%20%20%20%29.addTo%28map_fef04fab0e0a4cad947a7d49840d676c%29%3B%0A%20%20%20%20%20%20%20%20%0A%20%20%20%20%0A%20%20%20%20%20%20%20%20%20%20%20%20marker_f8794ba8f92a48879b8d8443a6488c71.bindTooltip%28%0A%20%20%20%20%20%20%20%20%20%20%20%20%20%20%20%20%60%3Cdiv%3E%0A%20%20%20%20%20%20%20%20%20%20%20%20%20%20%20%20%20%20%20%20%20Car%0A%20%20%20%20%20%20%20%20%20%20%20%20%20%20%20%20%20%3C/div%3E%60%2C%0A%20%20%20%20%20%20%20%20%20%20%20%20%20%20%20%20%7B%22sticky%22%3A%20true%7D%0A%20%20%20%20%20%20%20%20%20%20%20%20%29%3B%0A%20%20%20%20%20%20%20%20%0A%20%20%20%20%0A%20%20%20%20%20%20%20%20%20%20%20%20var%20marker_c53ef363032a4f54b95d468919b8d623%20%3D%20L.marker%28%0A%20%20%20%20%20%20%20%20%20%20%20%20%20%20%20%20%5B53.84701985%2C%20-1.63069488%5D%2C%0A%20%20%20%20%20%20%20%20%20%20%20%20%20%20%20%20%7B%7D%0A%20%20%20%20%20%20%20%20%20%20%20%20%29.addTo%28map_fef04fab0e0a4cad947a7d49840d676c%29%3B%0A%20%20%20%20%20%20%20%20%0A%20%20%20%20%0A%20%20%20%20%20%20%20%20%20%20%20%20marker_c53ef363032a4f54b95d468919b8d623.bindTooltip%28%0A%20%20%20%20%20%20%20%20%20%20%20%20%20%20%20%20%60%3Cdiv%3E%0A%20%20%20%20%20%20%20%20%20%20%20%20%20%20%20%20%20%20%20%20%20Goods%20Vehicle%0A%20%20%20%20%20%20%20%20%20%20%20%20%20%20%20%20%20%3C/div%3E%60%2C%0A%20%20%20%20%20%20%20%20%20%20%20%20%20%20%20%20%7B%22sticky%22%3A%20true%7D%0A%20%20%20%20%20%20%20%20%20%20%20%20%29%3B%0A%20%20%20%20%20%20%20%20%0A%20%20%20%20%0A%20%20%20%20%20%20%20%20%20%20%20%20var%20marker_e983c7690454457397056c3ea2b41e58%20%3D%20L.marker%28%0A%20%20%20%20%20%20%20%20%20%20%20%20%20%20%20%20%5B53.81038473%2C%20-1.59426469%5D%2C%0A%20%20%20%20%20%20%20%20%20%20%20%20%20%20%20%20%7B%7D%0A%20%20%20%20%20%20%20%20%20%20%20%20%29.addTo%28map_fef04fab0e0a4cad947a7d49840d676c%29%3B%0A%20%20%20%20%20%20%20%20%0A%20%20%20%20%0A%20%20%20%20%20%20%20%20%20%20%20%20marker_e983c7690454457397056c3ea2b41e58.bindTooltip%28%0A%20%20%20%20%20%20%20%20%20%20%20%20%20%20%20%20%60%3Cdiv%3E%0A%20%20%20%20%20%20%20%20%20%20%20%20%20%20%20%20%20%20%20%20%20Motorcycle%0A%20%20%20%20%20%20%20%20%20%20%20%20%20%20%20%20%20%3C/div%3E%60%2C%0A%20%20%20%20%20%20%20%20%20%20%20%20%20%20%20%20%7B%22sticky%22%3A%20true%7D%0A%20%20%20%20%20%20%20%20%20%20%20%20%29%3B%0A%20%20%20%20%20%20%20%20%0A%20%20%20%20%0A%20%20%20%20%20%20%20%20%20%20%20%20var%20marker_47a46f2660ed4ab8b66001321dbb6f0c%20%3D%20L.marker%28%0A%20%20%20%20%20%20%20%20%20%20%20%20%20%20%20%20%5B53.7974814%2C%20-1.55956342%5D%2C%0A%20%20%20%20%20%20%20%20%20%20%20%20%20%20%20%20%7B%7D%0A%20%20%20%20%20%20%20%20%20%20%20%20%29.addTo%28map_fef04fab0e0a4cad947a7d49840d676c%29%3B%0A%20%20%20%20%20%20%20%20%0A%20%20%20%20%0A%20%20%20%20%20%20%20%20%20%20%20%20marker_47a46f2660ed4ab8b66001321dbb6f0c.bindTooltip%28%0A%20%20%20%20%20%20%20%20%20%20%20%20%20%20%20%20%60%3Cdiv%3E%0A%20%20%20%20%20%20%20%20%20%20%20%20%20%20%20%20%20%20%20%20%20Car%0A%20%20%20%20%20%20%20%20%20%20%20%20%20%20%20%20%20%3C/div%3E%60%2C%0A%20%20%20%20%20%20%20%20%20%20%20%20%20%20%20%20%7B%22sticky%22%3A%20true%7D%0A%20%20%20%20%20%20%20%20%20%20%20%20%29%3B%0A%20%20%20%20%20%20%20%20%0A%20%20%20%20%0A%20%20%20%20%20%20%20%20%20%20%20%20var%20marker_48038f27855e41ae8ff36a4ef588641e%20%3D%20L.marker%28%0A%20%20%20%20%20%20%20%20%20%20%20%20%20%20%20%20%5B53.8197396%2C%20-1.51397339%5D%2C%0A%20%20%20%20%20%20%20%20%20%20%20%20%20%20%20%20%7B%7D%0A%20%20%20%20%20%20%20%20%20%20%20%20%29.addTo%28map_fef04fab0e0a4cad947a7d49840d676c%29%3B%0A%20%20%20%20%20%20%20%20%0A%20%20%20%20%0A%20%20%20%20%20%20%20%20%20%20%20%20marker_48038f27855e41ae8ff36a4ef588641e.bindTooltip%28%0A%20%20%20%20%20%20%20%20%20%20%20%20%20%20%20%20%60%3Cdiv%3E%0A%20%20%20%20%20%20%20%20%20%20%20%20%20%20%20%20%20%20%20%20%20Pedal%20cycle%0A%20%20%20%20%20%20%20%20%20%20%20%20%20%20%20%20%20%3C/div%3E%60%2C%0A%20%20%20%20%20%20%20%20%20%20%20%20%20%20%20%20%7B%22sticky%22%3A%20true%7D%0A%20%20%20%20%20%20%20%20%20%20%20%20%29%3B%0A%20%20%20%20%20%20%20%20%0A%20%20%20%20%0A%20%20%20%20%20%20%20%20%20%20%20%20var%20marker_3e175a95c2994ef38d270f7e0bae46a0%20%3D%20L.marker%28%0A%20%20%20%20%20%20%20%20%20%20%20%20%20%20%20%20%5B53.79440558%2C%20-1.55660506%5D%2C%0A%20%20%20%20%20%20%20%20%20%20%20%20%20%20%20%20%7B%7D%0A%20%20%20%20%20%20%20%20%20%20%20%20%29.addTo%28map_fef04fab0e0a4cad947a7d49840d676c%29%3B%0A%20%20%20%20%20%20%20%20%0A%20%20%20%20%0A%20%20%20%20%20%20%20%20%20%20%20%20marker_3e175a95c2994ef38d270f7e0bae46a0.bindTooltip%28%0A%20%20%20%20%20%20%20%20%20%20%20%20%20%20%20%20%60%3Cdiv%3E%0A%20%20%20%20%20%20%20%20%20%20%20%20%20%20%20%20%20%20%20%20%20Motorcycle%0A%20%20%20%20%20%20%20%20%20%20%20%20%20%20%20%20%20%3C/div%3E%60%2C%0A%20%20%20%20%20%20%20%20%20%20%20%20%20%20%20%20%7B%22sticky%22%3A%20true%7D%0A%20%20%20%20%20%20%20%20%20%20%20%20%29%3B%0A%20%20%20%20%20%20%20%20%0A%20%20%20%20%0A%20%20%20%20%20%20%20%20%20%20%20%20var%20marker_122b5668ba3f470d89dd7277559de58d%20%3D%20L.marker%28%0A%20%20%20%20%20%20%20%20%20%20%20%20%20%20%20%20%5B53.80395677%2C%20-1.56807436%5D%2C%0A%20%20%20%20%20%20%20%20%20%20%20%20%20%20%20%20%7B%7D%0A%20%20%20%20%20%20%20%20%20%20%20%20%29.addTo%28map_fef04fab0e0a4cad947a7d49840d676c%29%3B%0A%20%20%20%20%20%20%20%20%0A%20%20%20%20%0A%20%20%20%20%20%20%20%20%20%20%20%20marker_122b5668ba3f470d89dd7277559de58d.bindTooltip%28%0A%20%20%20%20%20%20%20%20%20%20%20%20%20%20%20%20%60%3Cdiv%3E%0A%20%20%20%20%20%20%20%20%20%20%20%20%20%20%20%20%20%20%20%20%20Bus%0A%20%20%20%20%20%20%20%20%20%20%20%20%20%20%20%20%20%3C/div%3E%60%2C%0A%20%20%20%20%20%20%20%20%20%20%20%20%20%20%20%20%7B%22sticky%22%3A%20true%7D%0A%20%20%20%20%20%20%20%20%20%20%20%20%29%3B%0A%20%20%20%20%20%20%20%20%0A%20%20%20%20%0A%20%20%20%20%20%20%20%20%20%20%20%20var%20marker_3c845166666649bb89f681af735591e3%20%3D%20L.marker%28%0A%20%20%20%20%20%20%20%20%20%20%20%20%20%20%20%20%5B53.81857038%2C%20-1.58048558%5D%2C%0A%20%20%20%20%20%20%20%20%20%20%20%20%20%20%20%20%7B%7D%0A%20%20%20%20%20%20%20%20%20%20%20%20%29.addTo%28map_fef04fab0e0a4cad947a7d49840d676c%29%3B%0A%20%20%20%20%20%20%20%20%0A%20%20%20%20%0A%20%20%20%20%20%20%20%20%20%20%20%20marker_3c845166666649bb89f681af735591e3.bindTooltip%28%0A%20%20%20%20%20%20%20%20%20%20%20%20%20%20%20%20%60%3Cdiv%3E%0A%20%20%20%20%20%20%20%20%20%20%20%20%20%20%20%20%20%20%20%20%20Bus%0A%20%20%20%20%20%20%20%20%20%20%20%20%20%20%20%20%20%3C/div%3E%60%2C%0A%20%20%20%20%20%20%20%20%20%20%20%20%20%20%20%20%7B%22sticky%22%3A%20true%7D%0A%20%20%20%20%20%20%20%20%20%20%20%20%29%3B%0A%20%20%20%20%20%20%20%20%0A%20%20%20%20%0A%20%20%20%20%20%20%20%20%20%20%20%20var%20marker_d32195f827d04f0e92ed841902e46730%20%3D%20L.marker%28%0A%20%20%20%20%20%20%20%20%20%20%20%20%20%20%20%20%5B53.77624056%2C%20-1.5739427%5D%2C%0A%20%20%20%20%20%20%20%20%20%20%20%20%20%20%20%20%7B%7D%0A%20%20%20%20%20%20%20%20%20%20%20%20%29.addTo%28map_fef04fab0e0a4cad947a7d49840d676c%29%3B%0A%20%20%20%20%20%20%20%20%0A%20%20%20%20%0A%20%20%20%20%20%20%20%20%20%20%20%20marker_d32195f827d04f0e92ed841902e46730.bindTooltip%28%0A%20%20%20%20%20%20%20%20%20%20%20%20%20%20%20%20%60%3Cdiv%3E%0A%20%20%20%20%20%20%20%20%20%20%20%20%20%20%20%20%20%20%20%20%20Car%0A%20%20%20%20%20%20%20%20%20%20%20%20%20%20%20%20%20%3C/div%3E%60%2C%0A%20%20%20%20%20%20%20%20%20%20%20%20%20%20%20%20%7B%22sticky%22%3A%20true%7D%0A%20%20%20%20%20%20%20%20%20%20%20%20%29%3B%0A%20%20%20%20%20%20%20%20%0A%20%20%20%20%0A%20%20%20%20%20%20%20%20%20%20%20%20var%20marker_7491f192c73a483f8166a2bec6e06926%20%3D%20L.marker%28%0A%20%20%20%20%20%20%20%20%20%20%20%20%20%20%20%20%5B53.79843877%2C%20-1.50978582%5D%2C%0A%20%20%20%20%20%20%20%20%20%20%20%20%20%20%20%20%7B%7D%0A%20%20%20%20%20%20%20%20%20%20%20%20%29.addTo%28map_fef04fab0e0a4cad947a7d49840d676c%29%3B%0A%20%20%20%20%20%20%20%20%0A%20%20%20%20%0A%20%20%20%20%20%20%20%20%20%20%20%20marker_7491f192c73a483f8166a2bec6e06926.bindTooltip%28%0A%20%20%20%20%20%20%20%20%20%20%20%20%20%20%20%20%60%3Cdiv%3E%0A%20%20%20%20%20%20%20%20%20%20%20%20%20%20%20%20%20%20%20%20%20Motorcycle%0A%20%20%20%20%20%20%20%20%20%20%20%20%20%20%20%20%20%3C/div%3E%60%2C%0A%20%20%20%20%20%20%20%20%20%20%20%20%20%20%20%20%7B%22sticky%22%3A%20true%7D%0A%20%20%20%20%20%20%20%20%20%20%20%20%29%3B%0A%20%20%20%20%20%20%20%20%0A%20%20%20%20%0A%20%20%20%20%20%20%20%20%20%20%20%20var%20marker_6bf6bc23b7d94c218406488c7bf03f8c%20%3D%20L.marker%28%0A%20%20%20%20%20%20%20%20%20%20%20%20%20%20%20%20%5B53.82406391%2C%20-1.48610821%5D%2C%0A%20%20%20%20%20%20%20%20%20%20%20%20%20%20%20%20%7B%7D%0A%20%20%20%20%20%20%20%20%20%20%20%20%29.addTo%28map_fef04fab0e0a4cad947a7d49840d676c%29%3B%0A%20%20%20%20%20%20%20%20%0A%20%20%20%20%0A%20%20%20%20%20%20%20%20%20%20%20%20marker_6bf6bc23b7d94c218406488c7bf03f8c.bindTooltip%28%0A%20%20%20%20%20%20%20%20%20%20%20%20%20%20%20%20%60%3Cdiv%3E%0A%20%20%20%20%20%20%20%20%20%20%20%20%20%20%20%20%20%20%20%20%20Car%0A%20%20%20%20%20%20%20%20%20%20%20%20%20%20%20%20%20%3C/div%3E%60%2C%0A%20%20%20%20%20%20%20%20%20%20%20%20%20%20%20%20%7B%22sticky%22%3A%20true%7D%0A%20%20%20%20%20%20%20%20%20%20%20%20%29%3B%0A%20%20%20%20%20%20%20%20%0A%20%20%20%20%0A%20%20%20%20%20%20%20%20%20%20%20%20var%20marker_d86b74a1e8ef441c8245a74a4550b3d2%20%3D%20L.marker%28%0A%20%20%20%20%20%20%20%20%20%20%20%20%20%20%20%20%5B53.81572287%2C%20-1.60756331%5D%2C%0A%20%20%20%20%20%20%20%20%20%20%20%20%20%20%20%20%7B%7D%0A%20%20%20%20%20%20%20%20%20%20%20%20%29.addTo%28map_fef04fab0e0a4cad947a7d49840d676c%29%3B%0A%20%20%20%20%20%20%20%20%0A%20%20%20%20%0A%20%20%20%20%20%20%20%20%20%20%20%20marker_d86b74a1e8ef441c8245a74a4550b3d2.bindTooltip%28%0A%20%20%20%20%20%20%20%20%20%20%20%20%20%20%20%20%60%3Cdiv%3E%0A%20%20%20%20%20%20%20%20%20%20%20%20%20%20%20%20%20%20%20%20%20Car%0A%20%20%20%20%20%20%20%20%20%20%20%20%20%20%20%20%20%3C/div%3E%60%2C%0A%20%20%20%20%20%20%20%20%20%20%20%20%20%20%20%20%7B%22sticky%22%3A%20true%7D%0A%20%20%20%20%20%20%20%20%20%20%20%20%29%3B%0A%20%20%20%20%20%20%20%20%0A%20%20%20%20%0A%20%20%20%20%20%20%20%20%20%20%20%20var%20marker_12567cdae4504255a7187286081e0080%20%3D%20L.marker%28%0A%20%20%20%20%20%20%20%20%20%20%20%20%20%20%20%20%5B53.80223852%2C%20-1.57774829%5D%2C%0A%20%20%20%20%20%20%20%20%20%20%20%20%20%20%20%20%7B%7D%0A%20%20%20%20%20%20%20%20%20%20%20%20%29.addTo%28map_fef04fab0e0a4cad947a7d49840d676c%29%3B%0A%20%20%20%20%20%20%20%20%0A%20%20%20%20%0A%20%20%20%20%20%20%20%20%20%20%20%20marker_12567cdae4504255a7187286081e0080.bindTooltip%28%0A%20%20%20%20%20%20%20%20%20%20%20%20%20%20%20%20%60%3Cdiv%3E%0A%20%20%20%20%20%20%20%20%20%20%20%20%20%20%20%20%20%20%20%20%20Car%0A%20%20%20%20%20%20%20%20%20%20%20%20%20%20%20%20%20%3C/div%3E%60%2C%0A%20%20%20%20%20%20%20%20%20%20%20%20%20%20%20%20%7B%22sticky%22%3A%20true%7D%0A%20%20%20%20%20%20%20%20%20%20%20%20%29%3B%0A%20%20%20%20%20%20%20%20%0A%20%20%20%20%0A%20%20%20%20%20%20%20%20%20%20%20%20var%20marker_743d9198333246179cbc620f202fd775%20%3D%20L.marker%28%0A%20%20%20%20%20%20%20%20%20%20%20%20%20%20%20%20%5B53.76385265%2C%20-1.56326725%5D%2C%0A%20%20%20%20%20%20%20%20%20%20%20%20%20%20%20%20%7B%7D%0A%20%20%20%20%20%20%20%20%20%20%20%20%29.addTo%28map_fef04fab0e0a4cad947a7d49840d676c%29%3B%0A%20%20%20%20%20%20%20%20%0A%20%20%20%20%0A%20%20%20%20%20%20%20%20%20%20%20%20marker_743d9198333246179cbc620f202fd775.bindTooltip%28%0A%20%20%20%20%20%20%20%20%20%20%20%20%20%20%20%20%60%3Cdiv%3E%0A%20%20%20%20%20%20%20%20%20%20%20%20%20%20%20%20%20%20%20%20%20Car%0A%20%20%20%20%20%20%20%20%20%20%20%20%20%20%20%20%20%3C/div%3E%60%2C%0A%20%20%20%20%20%20%20%20%20%20%20%20%20%20%20%20%7B%22sticky%22%3A%20true%7D%0A%20%20%20%20%20%20%20%20%20%20%20%20%29%3B%0A%20%20%20%20%20%20%20%20%0A%20%20%20%20%0A%20%20%20%20%20%20%20%20%20%20%20%20var%20marker_600d649703a74afb93f8fc743249374d%20%3D%20L.marker%28%0A%20%20%20%20%20%20%20%20%20%20%20%20%20%20%20%20%5B53.80076781%2C%20-1.5257164%5D%2C%0A%20%20%20%20%20%20%20%20%20%20%20%20%20%20%20%20%7B%7D%0A%20%20%20%20%20%20%20%20%20%20%20%20%29.addTo%28map_fef04fab0e0a4cad947a7d49840d676c%29%3B%0A%20%20%20%20%20%20%20%20%0A%20%20%20%20%0A%20%20%20%20%20%20%20%20%20%20%20%20marker_600d649703a74afb93f8fc743249374d.bindTooltip%28%0A%20%20%20%20%20%20%20%20%20%20%20%20%20%20%20%20%60%3Cdiv%3E%0A%20%20%20%20%20%20%20%20%20%20%20%20%20%20%20%20%20%20%20%20%20Taxi/Hire%0A%20%20%20%20%20%20%20%20%20%20%20%20%20%20%20%20%20%3C/div%3E%60%2C%0A%20%20%20%20%20%20%20%20%20%20%20%20%20%20%20%20%7B%22sticky%22%3A%20true%7D%0A%20%20%20%20%20%20%20%20%20%20%20%20%29%3B%0A%20%20%20%20%20%20%20%20%0A%20%20%20%20%0A%20%20%20%20%20%20%20%20%20%20%20%20var%20marker_3949edf23935493bad7f6856510b7dbe%20%3D%20L.marker%28%0A%20%20%20%20%20%20%20%20%20%20%20%20%20%20%20%20%5B53.80204994%2C%20-1.49413497%5D%2C%0A%20%20%20%20%20%20%20%20%20%20%20%20%20%20%20%20%7B%7D%0A%20%20%20%20%20%20%20%20%20%20%20%20%29.addTo%28map_fef04fab0e0a4cad947a7d49840d676c%29%3B%0A%20%20%20%20%20%20%20%20%0A%20%20%20%20%0A%20%20%20%20%20%20%20%20%20%20%20%20marker_3949edf23935493bad7f6856510b7dbe.bindTooltip%28%0A%20%20%20%20%20%20%20%20%20%20%20%20%20%20%20%20%60%3Cdiv%3E%0A%20%20%20%20%20%20%20%20%20%20%20%20%20%20%20%20%20%20%20%20%20Car%0A%20%20%20%20%20%20%20%20%20%20%20%20%20%20%20%20%20%3C/div%3E%60%2C%0A%20%20%20%20%20%20%20%20%20%20%20%20%20%20%20%20%7B%22sticky%22%3A%20true%7D%0A%20%20%20%20%20%20%20%20%20%20%20%20%29%3B%0A%20%20%20%20%20%20%20%20%0A%20%20%20%20%0A%20%20%20%20%20%20%20%20%20%20%20%20var%20marker_24369765800e4df29138338ae5ce926f%20%3D%20L.marker%28%0A%20%20%20%20%20%20%20%20%20%20%20%20%20%20%20%20%5B53.74911172%2C%20-1.59928318%5D%2C%0A%20%20%20%20%20%20%20%20%20%20%20%20%20%20%20%20%7B%7D%0A%20%20%20%20%20%20%20%20%20%20%20%20%29.addTo%28map_fef04fab0e0a4cad947a7d49840d676c%29%3B%0A%20%20%20%20%20%20%20%20%0A%20%20%20%20%0A%20%20%20%20%20%20%20%20%20%20%20%20marker_24369765800e4df29138338ae5ce926f.bindTooltip%28%0A%20%20%20%20%20%20%20%20%20%20%20%20%20%20%20%20%60%3Cdiv%3E%0A%20%20%20%20%20%20%20%20%20%20%20%20%20%20%20%20%20%20%20%20%20Car%0A%20%20%20%20%20%20%20%20%20%20%20%20%20%20%20%20%20%3C/div%3E%60%2C%0A%20%20%20%20%20%20%20%20%20%20%20%20%20%20%20%20%7B%22sticky%22%3A%20true%7D%0A%20%20%20%20%20%20%20%20%20%20%20%20%29%3B%0A%20%20%20%20%20%20%20%20%0A%20%20%20%20%0A%20%20%20%20%20%20%20%20%20%20%20%20var%20marker_df43eb8679ed44c88ee49561c8bcc57c%20%3D%20L.marker%28%0A%20%20%20%20%20%20%20%20%20%20%20%20%20%20%20%20%5B53.76647613%2C%20-1.39876016%5D%2C%0A%20%20%20%20%20%20%20%20%20%20%20%20%20%20%20%20%7B%7D%0A%20%20%20%20%20%20%20%20%20%20%20%20%29.addTo%28map_fef04fab0e0a4cad947a7d49840d676c%29%3B%0A%20%20%20%20%20%20%20%20%0A%20%20%20%20%0A%20%20%20%20%20%20%20%20%20%20%20%20marker_df43eb8679ed44c88ee49561c8bcc57c.bindTooltip%28%0A%20%20%20%20%20%20%20%20%20%20%20%20%20%20%20%20%60%3Cdiv%3E%0A%20%20%20%20%20%20%20%20%20%20%20%20%20%20%20%20%20%20%20%20%20Car%0A%20%20%20%20%20%20%20%20%20%20%20%20%20%20%20%20%20%3C/div%3E%60%2C%0A%20%20%20%20%20%20%20%20%20%20%20%20%20%20%20%20%7B%22sticky%22%3A%20true%7D%0A%20%20%20%20%20%20%20%20%20%20%20%20%29%3B%0A%20%20%20%20%20%20%20%20%0A%20%20%20%20%0A%20%20%20%20%20%20%20%20%20%20%20%20var%20marker_74e168c6400f4426a6e9351d399f6b9e%20%3D%20L.marker%28%0A%20%20%20%20%20%20%20%20%20%20%20%20%20%20%20%20%5B53.78184436%2C%20-1.59065516%5D%2C%0A%20%20%20%20%20%20%20%20%20%20%20%20%20%20%20%20%7B%7D%0A%20%20%20%20%20%20%20%20%20%20%20%20%29.addTo%28map_fef04fab0e0a4cad947a7d49840d676c%29%3B%0A%20%20%20%20%20%20%20%20%0A%20%20%20%20%0A%20%20%20%20%20%20%20%20%20%20%20%20marker_74e168c6400f4426a6e9351d399f6b9e.bindTooltip%28%0A%20%20%20%20%20%20%20%20%20%20%20%20%20%20%20%20%60%3Cdiv%3E%0A%20%20%20%20%20%20%20%20%20%20%20%20%20%20%20%20%20%20%20%20%20Car%0A%20%20%20%20%20%20%20%20%20%20%20%20%20%20%20%20%20%3C/div%3E%60%2C%0A%20%20%20%20%20%20%20%20%20%20%20%20%20%20%20%20%7B%22sticky%22%3A%20true%7D%0A%20%20%20%20%20%20%20%20%20%20%20%20%29%3B%0A%20%20%20%20%20%20%20%20%0A%20%20%20%20%0A%20%20%20%20%20%20%20%20%20%20%20%20var%20marker_10ade5fd956446e18d9ac1436acaa94a%20%3D%20L.marker%28%0A%20%20%20%20%20%20%20%20%20%20%20%20%20%20%20%20%5B53.84502688%2C%20-1.55927855%5D%2C%0A%20%20%20%20%20%20%20%20%20%20%20%20%20%20%20%20%7B%7D%0A%20%20%20%20%20%20%20%20%20%20%20%20%29.addTo%28map_fef04fab0e0a4cad947a7d49840d676c%29%3B%0A%20%20%20%20%20%20%20%20%0A%20%20%20%20%0A%20%20%20%20%20%20%20%20%20%20%20%20marker_10ade5fd956446e18d9ac1436acaa94a.bindTooltip%28%0A%20%20%20%20%20%20%20%20%20%20%20%20%20%20%20%20%60%3Cdiv%3E%0A%20%20%20%20%20%20%20%20%20%20%20%20%20%20%20%20%20%20%20%20%20Car%0A%20%20%20%20%20%20%20%20%20%20%20%20%20%20%20%20%20%3C/div%3E%60%2C%0A%20%20%20%20%20%20%20%20%20%20%20%20%20%20%20%20%7B%22sticky%22%3A%20true%7D%0A%20%20%20%20%20%20%20%20%20%20%20%20%29%3B%0A%20%20%20%20%20%20%20%20%0A%20%20%20%20%0A%20%20%20%20%20%20%20%20%20%20%20%20var%20marker_6d547bf0e24a41df9891c3602929d5b2%20%3D%20L.marker%28%0A%20%20%20%20%20%20%20%20%20%20%20%20%20%20%20%20%5B53.80530729%2C%20-1.52132233%5D%2C%0A%20%20%20%20%20%20%20%20%20%20%20%20%20%20%20%20%7B%7D%0A%20%20%20%20%20%20%20%20%20%20%20%20%29.addTo%28map_fef04fab0e0a4cad947a7d49840d676c%29%3B%0A%20%20%20%20%20%20%20%20%0A%20%20%20%20%0A%20%20%20%20%20%20%20%20%20%20%20%20marker_6d547bf0e24a41df9891c3602929d5b2.bindTooltip%28%0A%20%20%20%20%20%20%20%20%20%20%20%20%20%20%20%20%60%3Cdiv%3E%0A%20%20%20%20%20%20%20%20%20%20%20%20%20%20%20%20%20%20%20%20%20Car%0A%20%20%20%20%20%20%20%20%20%20%20%20%20%20%20%20%20%3C/div%3E%60%2C%0A%20%20%20%20%20%20%20%20%20%20%20%20%20%20%20%20%7B%22sticky%22%3A%20true%7D%0A%20%20%20%20%20%20%20%20%20%20%20%20%29%3B%0A%20%20%20%20%20%20%20%20%0A%20%20%20%20%0A%20%20%20%20%20%20%20%20%20%20%20%20var%20marker_c003b8ba4f3f461b833e32af90a8ec35%20%3D%20L.marker%28%0A%20%20%20%20%20%20%20%20%20%20%20%20%20%20%20%20%5B53.8618778%2C%20-1.56635429%5D%2C%0A%20%20%20%20%20%20%20%20%20%20%20%20%20%20%20%20%7B%7D%0A%20%20%20%20%20%20%20%20%20%20%20%20%29.addTo%28map_fef04fab0e0a4cad947a7d49840d676c%29%3B%0A%20%20%20%20%20%20%20%20%0A%20%20%20%20%0A%20%20%20%20%20%20%20%20%20%20%20%20marker_c003b8ba4f3f461b833e32af90a8ec35.bindTooltip%28%0A%20%20%20%20%20%20%20%20%20%20%20%20%20%20%20%20%60%3Cdiv%3E%0A%20%20%20%20%20%20%20%20%20%20%20%20%20%20%20%20%20%20%20%20%20Car%0A%20%20%20%20%20%20%20%20%20%20%20%20%20%20%20%20%20%3C/div%3E%60%2C%0A%20%20%20%20%20%20%20%20%20%20%20%20%20%20%20%20%7B%22sticky%22%3A%20true%7D%0A%20%20%20%20%20%20%20%20%20%20%20%20%29%3B%0A%20%20%20%20%20%20%20%20%0A%20%20%20%20%0A%20%20%20%20%20%20%20%20%20%20%20%20var%20marker_13c6d1bfe89a4645a58b8d8d2de584a2%20%3D%20L.marker%28%0A%20%20%20%20%20%20%20%20%20%20%20%20%20%20%20%20%5B53.80797268%2C%20-1.46900818%5D%2C%0A%20%20%20%20%20%20%20%20%20%20%20%20%20%20%20%20%7B%7D%0A%20%20%20%20%20%20%20%20%20%20%20%20%29.addTo%28map_fef04fab0e0a4cad947a7d49840d676c%29%3B%0A%20%20%20%20%20%20%20%20%0A%20%20%20%20%0A%20%20%20%20%20%20%20%20%20%20%20%20marker_13c6d1bfe89a4645a58b8d8d2de584a2.bindTooltip%28%0A%20%20%20%20%20%20%20%20%20%20%20%20%20%20%20%20%60%3Cdiv%3E%0A%20%20%20%20%20%20%20%20%20%20%20%20%20%20%20%20%20%20%20%20%20Car%0A%20%20%20%20%20%20%20%20%20%20%20%20%20%20%20%20%20%3C/div%3E%60%2C%0A%20%20%20%20%20%20%20%20%20%20%20%20%20%20%20%20%7B%22sticky%22%3A%20true%7D%0A%20%20%20%20%20%20%20%20%20%20%20%20%29%3B%0A%20%20%20%20%20%20%20%20%0A%20%20%20%20%0A%20%20%20%20%20%20%20%20%20%20%20%20var%20marker_ffa1f3455b714cec8078d821a71f2602%20%3D%20L.marker%28%0A%20%20%20%20%20%20%20%20%20%20%20%20%20%20%20%20%5B53.72818537%2C%20-1.49393014%5D%2C%0A%20%20%20%20%20%20%20%20%20%20%20%20%20%20%20%20%7B%7D%0A%20%20%20%20%20%20%20%20%20%20%20%20%29.addTo%28map_fef04fab0e0a4cad947a7d49840d676c%29%3B%0A%20%20%20%20%20%20%20%20%0A%20%20%20%20%0A%20%20%20%20%20%20%20%20%20%20%20%20marker_ffa1f3455b714cec8078d821a71f2602.bindTooltip%28%0A%20%20%20%20%20%20%20%20%20%20%20%20%20%20%20%20%60%3Cdiv%3E%0A%20%20%20%20%20%20%20%20%20%20%20%20%20%20%20%20%20%20%20%20%20Goods%20Vehicle%0A%20%20%20%20%20%20%20%20%20%20%20%20%20%20%20%20%20%3C/div%3E%60%2C%0A%20%20%20%20%20%20%20%20%20%20%20%20%20%20%20%20%7B%22sticky%22%3A%20true%7D%0A%20%20%20%20%20%20%20%20%20%20%20%20%29%3B%0A%20%20%20%20%20%20%20%20%0A%20%20%20%20%0A%20%20%20%20%20%20%20%20%20%20%20%20var%20marker_a7382ee8bb7c437690c35a53700c6daa%20%3D%20L.marker%28%0A%20%20%20%20%20%20%20%20%20%20%20%20%20%20%20%20%5B53.74591552%2C%20-1.62545491%5D%2C%0A%20%20%20%20%20%20%20%20%20%20%20%20%20%20%20%20%7B%7D%0A%20%20%20%20%20%20%20%20%20%20%20%20%29.addTo%28map_fef04fab0e0a4cad947a7d49840d676c%29%3B%0A%20%20%20%20%20%20%20%20%0A%20%20%20%20%0A%20%20%20%20%20%20%20%20%20%20%20%20marker_a7382ee8bb7c437690c35a53700c6daa.bindTooltip%28%0A%20%20%20%20%20%20%20%20%20%20%20%20%20%20%20%20%60%3Cdiv%3E%0A%20%20%20%20%20%20%20%20%20%20%20%20%20%20%20%20%20%20%20%20%20Car%0A%20%20%20%20%20%20%20%20%20%20%20%20%20%20%20%20%20%3C/div%3E%60%2C%0A%20%20%20%20%20%20%20%20%20%20%20%20%20%20%20%20%7B%22sticky%22%3A%20true%7D%0A%20%20%20%20%20%20%20%20%20%20%20%20%29%3B%0A%20%20%20%20%20%20%20%20%0A%20%20%20%20%0A%20%20%20%20%20%20%20%20%20%20%20%20var%20marker_631a19f6fdda4904a5168acd676bcc23%20%3D%20L.marker%28%0A%20%20%20%20%20%20%20%20%20%20%20%20%20%20%20%20%5B53.81774313%2C%20-1.51592544%5D%2C%0A%20%20%20%20%20%20%20%20%20%20%20%20%20%20%20%20%7B%7D%0A%20%20%20%20%20%20%20%20%20%20%20%20%29.addTo%28map_fef04fab0e0a4cad947a7d49840d676c%29%3B%0A%20%20%20%20%20%20%20%20%0A%20%20%20%20%0A%20%20%20%20%20%20%20%20%20%20%20%20marker_631a19f6fdda4904a5168acd676bcc23.bindTooltip%28%0A%20%20%20%20%20%20%20%20%20%20%20%20%20%20%20%20%60%3Cdiv%3E%0A%20%20%20%20%20%20%20%20%20%20%20%20%20%20%20%20%20%20%20%20%20Motorcycle%0A%20%20%20%20%20%20%20%20%20%20%20%20%20%20%20%20%20%3C/div%3E%60%2C%0A%20%20%20%20%20%20%20%20%20%20%20%20%20%20%20%20%7B%22sticky%22%3A%20true%7D%0A%20%20%20%20%20%20%20%20%20%20%20%20%29%3B%0A%20%20%20%20%20%20%20%20%0A%20%20%20%20%0A%20%20%20%20%20%20%20%20%20%20%20%20var%20marker_c55ea09f59e14532a0e3b7a1263dc22a%20%3D%20L.marker%28%0A%20%20%20%20%20%20%20%20%20%20%20%20%20%20%20%20%5B53.79918316%2C%20-1.53883702%5D%2C%0A%20%20%20%20%20%20%20%20%20%20%20%20%20%20%20%20%7B%7D%0A%20%20%20%20%20%20%20%20%20%20%20%20%29.addTo%28map_fef04fab0e0a4cad947a7d49840d676c%29%3B%0A%20%20%20%20%20%20%20%20%0A%20%20%20%20%0A%20%20%20%20%20%20%20%20%20%20%20%20marker_c55ea09f59e14532a0e3b7a1263dc22a.bindTooltip%28%0A%20%20%20%20%20%20%20%20%20%20%20%20%20%20%20%20%60%3Cdiv%3E%0A%20%20%20%20%20%20%20%20%20%20%20%20%20%20%20%20%20%20%20%20%20Car%0A%20%20%20%20%20%20%20%20%20%20%20%20%20%20%20%20%20%3C/div%3E%60%2C%0A%20%20%20%20%20%20%20%20%20%20%20%20%20%20%20%20%7B%22sticky%22%3A%20true%7D%0A%20%20%20%20%20%20%20%20%20%20%20%20%29%3B%0A%20%20%20%20%20%20%20%20%0A%20%20%20%20%0A%20%20%20%20%20%20%20%20%20%20%20%20var%20marker_22f867e1302f4c1387afd93807bc21fb%20%3D%20L.marker%28%0A%20%20%20%20%20%20%20%20%20%20%20%20%20%20%20%20%5B53.83347794%2C%20-1.6143574%5D%2C%0A%20%20%20%20%20%20%20%20%20%20%20%20%20%20%20%20%7B%7D%0A%20%20%20%20%20%20%20%20%20%20%20%20%29.addTo%28map_fef04fab0e0a4cad947a7d49840d676c%29%3B%0A%20%20%20%20%20%20%20%20%0A%20%20%20%20%0A%20%20%20%20%20%20%20%20%20%20%20%20marker_22f867e1302f4c1387afd93807bc21fb.bindTooltip%28%0A%20%20%20%20%20%20%20%20%20%20%20%20%20%20%20%20%60%3Cdiv%3E%0A%20%20%20%20%20%20%20%20%20%20%20%20%20%20%20%20%20%20%20%20%20Pedal%20cycle%0A%20%20%20%20%20%20%20%20%20%20%20%20%20%20%20%20%20%3C/div%3E%60%2C%0A%20%20%20%20%20%20%20%20%20%20%20%20%20%20%20%20%7B%22sticky%22%3A%20true%7D%0A%20%20%20%20%20%20%20%20%20%20%20%20%29%3B%0A%20%20%20%20%20%20%20%20%0A%20%20%20%20%0A%20%20%20%20%20%20%20%20%20%20%20%20var%20marker_87ef186c9d6a407fb7dd02831281dfb1%20%3D%20L.marker%28%0A%20%20%20%20%20%20%20%20%20%20%20%20%20%20%20%20%5B53.79746259%2C%20-1.55933588%5D%2C%0A%20%20%20%20%20%20%20%20%20%20%20%20%20%20%20%20%7B%7D%0A%20%20%20%20%20%20%20%20%20%20%20%20%29.addTo%28map_fef04fab0e0a4cad947a7d49840d676c%29%3B%0A%20%20%20%20%20%20%20%20%0A%20%20%20%20%0A%20%20%20%20%20%20%20%20%20%20%20%20marker_87ef186c9d6a407fb7dd02831281dfb1.bindTooltip%28%0A%20%20%20%20%20%20%20%20%20%20%20%20%20%20%20%20%60%3Cdiv%3E%0A%20%20%20%20%20%20%20%20%20%20%20%20%20%20%20%20%20%20%20%20%20Pedal%20cycle%0A%20%20%20%20%20%20%20%20%20%20%20%20%20%20%20%20%20%3C/div%3E%60%2C%0A%20%20%20%20%20%20%20%20%20%20%20%20%20%20%20%20%7B%22sticky%22%3A%20true%7D%0A%20%20%20%20%20%20%20%20%20%20%20%20%29%3B%0A%20%20%20%20%20%20%20%20%0A%20%20%20%20%0A%20%20%20%20%20%20%20%20%20%20%20%20var%20marker_02dedc1f014a459fa49c98fb3b71567b%20%3D%20L.marker%28%0A%20%20%20%20%20%20%20%20%20%20%20%20%20%20%20%20%5B53.82793838%2C%20-1.48205013%5D%2C%0A%20%20%20%20%20%20%20%20%20%20%20%20%20%20%20%20%7B%7D%0A%20%20%20%20%20%20%20%20%20%20%20%20%29.addTo%28map_fef04fab0e0a4cad947a7d49840d676c%29%3B%0A%20%20%20%20%20%20%20%20%0A%20%20%20%20%0A%20%20%20%20%20%20%20%20%20%20%20%20marker_02dedc1f014a459fa49c98fb3b71567b.bindTooltip%28%0A%20%20%20%20%20%20%20%20%20%20%20%20%20%20%20%20%60%3Cdiv%3E%0A%20%20%20%20%20%20%20%20%20%20%20%20%20%20%20%20%20%20%20%20%20Car%0A%20%20%20%20%20%20%20%20%20%20%20%20%20%20%20%20%20%3C/div%3E%60%2C%0A%20%20%20%20%20%20%20%20%20%20%20%20%20%20%20%20%7B%22sticky%22%3A%20true%7D%0A%20%20%20%20%20%20%20%20%20%20%20%20%29%3B%0A%20%20%20%20%20%20%20%20%0A%20%20%20%20%0A%20%20%20%20%20%20%20%20%20%20%20%20var%20marker_02e408b0514c4c82bf2c1d9ab7b93e2c%20%3D%20L.marker%28%0A%20%20%20%20%20%20%20%20%20%20%20%20%20%20%20%20%5B53.80642808%2C%20-1.63582005%5D%2C%0A%20%20%20%20%20%20%20%20%20%20%20%20%20%20%20%20%7B%7D%0A%20%20%20%20%20%20%20%20%20%20%20%20%29.addTo%28map_fef04fab0e0a4cad947a7d49840d676c%29%3B%0A%20%20%20%20%20%20%20%20%0A%20%20%20%20%0A%20%20%20%20%20%20%20%20%20%20%20%20marker_02e408b0514c4c82bf2c1d9ab7b93e2c.bindTooltip%28%0A%20%20%20%20%20%20%20%20%20%20%20%20%20%20%20%20%60%3Cdiv%3E%0A%20%20%20%20%20%20%20%20%20%20%20%20%20%20%20%20%20%20%20%20%20Car%0A%20%20%20%20%20%20%20%20%20%20%20%20%20%20%20%20%20%3C/div%3E%60%2C%0A%20%20%20%20%20%20%20%20%20%20%20%20%20%20%20%20%7B%22sticky%22%3A%20true%7D%0A%20%20%20%20%20%20%20%20%20%20%20%20%29%3B%0A%20%20%20%20%20%20%20%20%0A%20%20%20%20%0A%20%20%20%20%20%20%20%20%20%20%20%20var%20marker_e05c0ac426e8469eac50e3b57e1d590c%20%3D%20L.marker%28%0A%20%20%20%20%20%20%20%20%20%20%20%20%20%20%20%20%5B53.79827435%2C%20-1.47719188%5D%2C%0A%20%20%20%20%20%20%20%20%20%20%20%20%20%20%20%20%7B%7D%0A%20%20%20%20%20%20%20%20%20%20%20%20%29.addTo%28map_fef04fab0e0a4cad947a7d49840d676c%29%3B%0A%20%20%20%20%20%20%20%20%0A%20%20%20%20%0A%20%20%20%20%20%20%20%20%20%20%20%20marker_e05c0ac426e8469eac50e3b57e1d590c.bindTooltip%28%0A%20%20%20%20%20%20%20%20%20%20%20%20%20%20%20%20%60%3Cdiv%3E%0A%20%20%20%20%20%20%20%20%20%20%20%20%20%20%20%20%20%20%20%20%20Pedal%20cycle%0A%20%20%20%20%20%20%20%20%20%20%20%20%20%20%20%20%20%3C/div%3E%60%2C%0A%20%20%20%20%20%20%20%20%20%20%20%20%20%20%20%20%7B%22sticky%22%3A%20true%7D%0A%20%20%20%20%20%20%20%20%20%20%20%20%29%3B%0A%20%20%20%20%20%20%20%20%0A%20%20%20%20%0A%20%20%20%20%20%20%20%20%20%20%20%20var%20marker_303ed16eb6ab4ca08536c5ba291fbdbb%20%3D%20L.marker%28%0A%20%20%20%20%20%20%20%20%20%20%20%20%20%20%20%20%5B53.80577446%2C%20-1.56866309%5D%2C%0A%20%20%20%20%20%20%20%20%20%20%20%20%20%20%20%20%7B%7D%0A%20%20%20%20%20%20%20%20%20%20%20%20%29.addTo%28map_fef04fab0e0a4cad947a7d49840d676c%29%3B%0A%20%20%20%20%20%20%20%20%0A%20%20%20%20%0A%20%20%20%20%20%20%20%20%20%20%20%20marker_303ed16eb6ab4ca08536c5ba291fbdbb.bindTooltip%28%0A%20%20%20%20%20%20%20%20%20%20%20%20%20%20%20%20%60%3Cdiv%3E%0A%20%20%20%20%20%20%20%20%20%20%20%20%20%20%20%20%20%20%20%20%20Car%0A%20%20%20%20%20%20%20%20%20%20%20%20%20%20%20%20%20%3C/div%3E%60%2C%0A%20%20%20%20%20%20%20%20%20%20%20%20%20%20%20%20%7B%22sticky%22%3A%20true%7D%0A%20%20%20%20%20%20%20%20%20%20%20%20%29%3B%0A%20%20%20%20%20%20%20%20%0A%20%20%20%20%0A%20%20%20%20%20%20%20%20%20%20%20%20var%20marker_e09947d4981045c7aa9af9591c2acb65%20%3D%20L.marker%28%0A%20%20%20%20%20%20%20%20%20%20%20%20%20%20%20%20%5B53.81345428%2C%20-1.53369894%5D%2C%0A%20%20%20%20%20%20%20%20%20%20%20%20%20%20%20%20%7B%7D%0A%20%20%20%20%20%20%20%20%20%20%20%20%29.addTo%28map_fef04fab0e0a4cad947a7d49840d676c%29%3B%0A%20%20%20%20%20%20%20%20%0A%20%20%20%20%0A%20%20%20%20%20%20%20%20%20%20%20%20marker_e09947d4981045c7aa9af9591c2acb65.bindTooltip%28%0A%20%20%20%20%20%20%20%20%20%20%20%20%20%20%20%20%60%3Cdiv%3E%0A%20%20%20%20%20%20%20%20%20%20%20%20%20%20%20%20%20%20%20%20%20Car%0A%20%20%20%20%20%20%20%20%20%20%20%20%20%20%20%20%20%3C/div%3E%60%2C%0A%20%20%20%20%20%20%20%20%20%20%20%20%20%20%20%20%7B%22sticky%22%3A%20true%7D%0A%20%20%20%20%20%20%20%20%20%20%20%20%29%3B%0A%20%20%20%20%20%20%20%20%0A%20%20%20%20%0A%20%20%20%20%20%20%20%20%20%20%20%20var%20marker_84cc7d2e36ae4dd2b41f2b7482e444a4%20%3D%20L.marker%28%0A%20%20%20%20%20%20%20%20%20%20%20%20%20%20%20%20%5B53.73288213%2C%20-1.6111852%5D%2C%0A%20%20%20%20%20%20%20%20%20%20%20%20%20%20%20%20%7B%7D%0A%20%20%20%20%20%20%20%20%20%20%20%20%29.addTo%28map_fef04fab0e0a4cad947a7d49840d676c%29%3B%0A%20%20%20%20%20%20%20%20%0A%20%20%20%20%0A%20%20%20%20%20%20%20%20%20%20%20%20marker_84cc7d2e36ae4dd2b41f2b7482e444a4.bindTooltip%28%0A%20%20%20%20%20%20%20%20%20%20%20%20%20%20%20%20%60%3Cdiv%3E%0A%20%20%20%20%20%20%20%20%20%20%20%20%20%20%20%20%20%20%20%20%20Pedal%20cycle%0A%20%20%20%20%20%20%20%20%20%20%20%20%20%20%20%20%20%3C/div%3E%60%2C%0A%20%20%20%20%20%20%20%20%20%20%20%20%20%20%20%20%7B%22sticky%22%3A%20true%7D%0A%20%20%20%20%20%20%20%20%20%20%20%20%29%3B%0A%20%20%20%20%20%20%20%20%0A%20%20%20%20%0A%20%20%20%20%20%20%20%20%20%20%20%20var%20marker_cac65b01a3034976be0538265521d30d%20%3D%20L.marker%28%0A%20%20%20%20%20%20%20%20%20%20%20%20%20%20%20%20%5B53.83221765%2C%20-1.63985014%5D%2C%0A%20%20%20%20%20%20%20%20%20%20%20%20%20%20%20%20%7B%7D%0A%20%20%20%20%20%20%20%20%20%20%20%20%29.addTo%28map_fef04fab0e0a4cad947a7d49840d676c%29%3B%0A%20%20%20%20%20%20%20%20%0A%20%20%20%20%0A%20%20%20%20%20%20%20%20%20%20%20%20marker_cac65b01a3034976be0538265521d30d.bindTooltip%28%0A%20%20%20%20%20%20%20%20%20%20%20%20%20%20%20%20%60%3Cdiv%3E%0A%20%20%20%20%20%20%20%20%20%20%20%20%20%20%20%20%20%20%20%20%20Motorcycle%0A%20%20%20%20%20%20%20%20%20%20%20%20%20%20%20%20%20%3C/div%3E%60%2C%0A%20%20%20%20%20%20%20%20%20%20%20%20%20%20%20%20%7B%22sticky%22%3A%20true%7D%0A%20%20%20%20%20%20%20%20%20%20%20%20%29%3B%0A%20%20%20%20%20%20%20%20%0A%20%20%20%20%0A%20%20%20%20%20%20%20%20%20%20%20%20var%20marker_8ec9104a51dd4a8eb90356d682f48a10%20%3D%20L.marker%28%0A%20%20%20%20%20%20%20%20%20%20%20%20%20%20%20%20%5B53.7961881%2C%20-1.53135488%5D%2C%0A%20%20%20%20%20%20%20%20%20%20%20%20%20%20%20%20%7B%7D%0A%20%20%20%20%20%20%20%20%20%20%20%20%29.addTo%28map_fef04fab0e0a4cad947a7d49840d676c%29%3B%0A%20%20%20%20%20%20%20%20%0A%20%20%20%20%0A%20%20%20%20%20%20%20%20%20%20%20%20marker_8ec9104a51dd4a8eb90356d682f48a10.bindTooltip%28%0A%20%20%20%20%20%20%20%20%20%20%20%20%20%20%20%20%60%3Cdiv%3E%0A%20%20%20%20%20%20%20%20%20%20%20%20%20%20%20%20%20%20%20%20%20Pedal%20cycle%0A%20%20%20%20%20%20%20%20%20%20%20%20%20%20%20%20%20%3C/div%3E%60%2C%0A%20%20%20%20%20%20%20%20%20%20%20%20%20%20%20%20%7B%22sticky%22%3A%20true%7D%0A%20%20%20%20%20%20%20%20%20%20%20%20%29%3B%0A%20%20%20%20%20%20%20%20%0A%20%20%20%20%0A%20%20%20%20%20%20%20%20%20%20%20%20var%20marker_022edd15a5454c28aecdd6db03d3337d%20%3D%20L.marker%28%0A%20%20%20%20%20%20%20%20%20%20%20%20%20%20%20%20%5B53.8661966%2C%20-1.67978022%5D%2C%0A%20%20%20%20%20%20%20%20%20%20%20%20%20%20%20%20%7B%7D%0A%20%20%20%20%20%20%20%20%20%20%20%20%29.addTo%28map_fef04fab0e0a4cad947a7d49840d676c%29%3B%0A%20%20%20%20%20%20%20%20%0A%20%20%20%20%0A%20%20%20%20%20%20%20%20%20%20%20%20marker_022edd15a5454c28aecdd6db03d3337d.bindTooltip%28%0A%20%20%20%20%20%20%20%20%20%20%20%20%20%20%20%20%60%3Cdiv%3E%0A%20%20%20%20%20%20%20%20%20%20%20%20%20%20%20%20%20%20%20%20%20Car%0A%20%20%20%20%20%20%20%20%20%20%20%20%20%20%20%20%20%3C/div%3E%60%2C%0A%20%20%20%20%20%20%20%20%20%20%20%20%20%20%20%20%7B%22sticky%22%3A%20true%7D%0A%20%20%20%20%20%20%20%20%20%20%20%20%29%3B%0A%20%20%20%20%20%20%20%20%0A%20%20%20%20%0A%20%20%20%20%20%20%20%20%20%20%20%20var%20marker_1b932cf7636340ea942b20e265c26de1%20%3D%20L.marker%28%0A%20%20%20%20%20%20%20%20%20%20%20%20%20%20%20%20%5B53.82749597%2C%20-1.56795442%5D%2C%0A%20%20%20%20%20%20%20%20%20%20%20%20%20%20%20%20%7B%7D%0A%20%20%20%20%20%20%20%20%20%20%20%20%29.addTo%28map_fef04fab0e0a4cad947a7d49840d676c%29%3B%0A%20%20%20%20%20%20%20%20%0A%20%20%20%20%0A%20%20%20%20%20%20%20%20%20%20%20%20marker_1b932cf7636340ea942b20e265c26de1.bindTooltip%28%0A%20%20%20%20%20%20%20%20%20%20%20%20%20%20%20%20%60%3Cdiv%3E%0A%20%20%20%20%20%20%20%20%20%20%20%20%20%20%20%20%20%20%20%20%20Car%0A%20%20%20%20%20%20%20%20%20%20%20%20%20%20%20%20%20%3C/div%3E%60%2C%0A%20%20%20%20%20%20%20%20%20%20%20%20%20%20%20%20%7B%22sticky%22%3A%20true%7D%0A%20%20%20%20%20%20%20%20%20%20%20%20%29%3B%0A%20%20%20%20%20%20%20%20%0A%20%20%20%20%0A%20%20%20%20%20%20%20%20%20%20%20%20var%20marker_a77a4cffa12349e5b4af672a44e41e9d%20%3D%20L.marker%28%0A%20%20%20%20%20%20%20%20%20%20%20%20%20%20%20%20%5B53.81239013%2C%20-1.43829027%5D%2C%0A%20%20%20%20%20%20%20%20%20%20%20%20%20%20%20%20%7B%7D%0A%20%20%20%20%20%20%20%20%20%20%20%20%29.addTo%28map_fef04fab0e0a4cad947a7d49840d676c%29%3B%0A%20%20%20%20%20%20%20%20%0A%20%20%20%20%0A%20%20%20%20%20%20%20%20%20%20%20%20marker_a77a4cffa12349e5b4af672a44e41e9d.bindTooltip%28%0A%20%20%20%20%20%20%20%20%20%20%20%20%20%20%20%20%60%3Cdiv%3E%0A%20%20%20%20%20%20%20%20%20%20%20%20%20%20%20%20%20%20%20%20%20Car%0A%20%20%20%20%20%20%20%20%20%20%20%20%20%20%20%20%20%3C/div%3E%60%2C%0A%20%20%20%20%20%20%20%20%20%20%20%20%20%20%20%20%7B%22sticky%22%3A%20true%7D%0A%20%20%20%20%20%20%20%20%20%20%20%20%29%3B%0A%20%20%20%20%20%20%20%20%0A%20%20%20%20%0A%20%20%20%20%20%20%20%20%20%20%20%20var%20marker_e764b4bcdca442a5afb1f91628768d06%20%3D%20L.marker%28%0A%20%20%20%20%20%20%20%20%20%20%20%20%20%20%20%20%5B53.8716154%2C%20-1.70769114%5D%2C%0A%20%20%20%20%20%20%20%20%20%20%20%20%20%20%20%20%7B%7D%0A%20%20%20%20%20%20%20%20%20%20%20%20%29.addTo%28map_fef04fab0e0a4cad947a7d49840d676c%29%3B%0A%20%20%20%20%20%20%20%20%0A%20%20%20%20%0A%20%20%20%20%20%20%20%20%20%20%20%20marker_e764b4bcdca442a5afb1f91628768d06.bindTooltip%28%0A%20%20%20%20%20%20%20%20%20%20%20%20%20%20%20%20%60%3Cdiv%3E%0A%20%20%20%20%20%20%20%20%20%20%20%20%20%20%20%20%20%20%20%20%20Car%0A%20%20%20%20%20%20%20%20%20%20%20%20%20%20%20%20%20%3C/div%3E%60%2C%0A%20%20%20%20%20%20%20%20%20%20%20%20%20%20%20%20%7B%22sticky%22%3A%20true%7D%0A%20%20%20%20%20%20%20%20%20%20%20%20%29%3B%0A%20%20%20%20%20%20%20%20%0A%20%20%20%20%0A%20%20%20%20%20%20%20%20%20%20%20%20var%20marker_65cc95d3dc194c8c968925e729d351ec%20%3D%20L.marker%28%0A%20%20%20%20%20%20%20%20%20%20%20%20%20%20%20%20%5B53.79359813%2C%20-1.53794182%5D%2C%0A%20%20%20%20%20%20%20%20%20%20%20%20%20%20%20%20%7B%7D%0A%20%20%20%20%20%20%20%20%20%20%20%20%29.addTo%28map_fef04fab0e0a4cad947a7d49840d676c%29%3B%0A%20%20%20%20%20%20%20%20%0A%20%20%20%20%0A%20%20%20%20%20%20%20%20%20%20%20%20marker_65cc95d3dc194c8c968925e729d351ec.bindTooltip%28%0A%20%20%20%20%20%20%20%20%20%20%20%20%20%20%20%20%60%3Cdiv%3E%0A%20%20%20%20%20%20%20%20%20%20%20%20%20%20%20%20%20%20%20%20%20Car%0A%20%20%20%20%20%20%20%20%20%20%20%20%20%20%20%20%20%3C/div%3E%60%2C%0A%20%20%20%20%20%20%20%20%20%20%20%20%20%20%20%20%7B%22sticky%22%3A%20true%7D%0A%20%20%20%20%20%20%20%20%20%20%20%20%29%3B%0A%20%20%20%20%20%20%20%20%0A%20%20%20%20%0A%20%20%20%20%20%20%20%20%20%20%20%20var%20marker_00763ca2acfa42708cf65fbc1e8273a1%20%3D%20L.marker%28%0A%20%20%20%20%20%20%20%20%20%20%20%20%20%20%20%20%5B53.80300194%2C%20-1.55277939%5D%2C%0A%20%20%20%20%20%20%20%20%20%20%20%20%20%20%20%20%7B%7D%0A%20%20%20%20%20%20%20%20%20%20%20%20%29.addTo%28map_fef04fab0e0a4cad947a7d49840d676c%29%3B%0A%20%20%20%20%20%20%20%20%0A%20%20%20%20%0A%20%20%20%20%20%20%20%20%20%20%20%20marker_00763ca2acfa42708cf65fbc1e8273a1.bindTooltip%28%0A%20%20%20%20%20%20%20%20%20%20%20%20%20%20%20%20%60%3Cdiv%3E%0A%20%20%20%20%20%20%20%20%20%20%20%20%20%20%20%20%20%20%20%20%20Pedal%20cycle%0A%20%20%20%20%20%20%20%20%20%20%20%20%20%20%20%20%20%3C/div%3E%60%2C%0A%20%20%20%20%20%20%20%20%20%20%20%20%20%20%20%20%7B%22sticky%22%3A%20true%7D%0A%20%20%20%20%20%20%20%20%20%20%20%20%29%3B%0A%20%20%20%20%20%20%20%20%0A%20%20%20%20%0A%20%20%20%20%20%20%20%20%20%20%20%20var%20marker_4439c733d8d940688627bb1da4d74f86%20%3D%20L.marker%28%0A%20%20%20%20%20%20%20%20%20%20%20%20%20%20%20%20%5B53.80761122%2C%20-1.54995156%5D%2C%0A%20%20%20%20%20%20%20%20%20%20%20%20%20%20%20%20%7B%7D%0A%20%20%20%20%20%20%20%20%20%20%20%20%29.addTo%28map_fef04fab0e0a4cad947a7d49840d676c%29%3B%0A%20%20%20%20%20%20%20%20%0A%20%20%20%20%0A%20%20%20%20%20%20%20%20%20%20%20%20marker_4439c733d8d940688627bb1da4d74f86.bindTooltip%28%0A%20%20%20%20%20%20%20%20%20%20%20%20%20%20%20%20%60%3Cdiv%3E%0A%20%20%20%20%20%20%20%20%20%20%20%20%20%20%20%20%20%20%20%20%20Car%0A%20%20%20%20%20%20%20%20%20%20%20%20%20%20%20%20%20%3C/div%3E%60%2C%0A%20%20%20%20%20%20%20%20%20%20%20%20%20%20%20%20%7B%22sticky%22%3A%20true%7D%0A%20%20%20%20%20%20%20%20%20%20%20%20%29%3B%0A%20%20%20%20%20%20%20%20%0A%20%20%20%20%0A%20%20%20%20%20%20%20%20%20%20%20%20var%20marker_dcf161aa28524623a1760c815abc54e6%20%3D%20L.marker%28%0A%20%20%20%20%20%20%20%20%20%20%20%20%20%20%20%20%5B53.80310582%2C%20-1.53287218%5D%2C%0A%20%20%20%20%20%20%20%20%20%20%20%20%20%20%20%20%7B%7D%0A%20%20%20%20%20%20%20%20%20%20%20%20%29.addTo%28map_fef04fab0e0a4cad947a7d49840d676c%29%3B%0A%20%20%20%20%20%20%20%20%0A%20%20%20%20%0A%20%20%20%20%20%20%20%20%20%20%20%20marker_dcf161aa28524623a1760c815abc54e6.bindTooltip%28%0A%20%20%20%20%20%20%20%20%20%20%20%20%20%20%20%20%60%3Cdiv%3E%0A%20%20%20%20%20%20%20%20%20%20%20%20%20%20%20%20%20%20%20%20%20Motorcycle%0A%20%20%20%20%20%20%20%20%20%20%20%20%20%20%20%20%20%3C/div%3E%60%2C%0A%20%20%20%20%20%20%20%20%20%20%20%20%20%20%20%20%7B%22sticky%22%3A%20true%7D%0A%20%20%20%20%20%20%20%20%20%20%20%20%29%3B%0A%20%20%20%20%20%20%20%20%0A%20%20%20%20%0A%20%20%20%20%20%20%20%20%20%20%20%20var%20marker_1270092a4c154807b5c64e82dadd4ba3%20%3D%20L.marker%28%0A%20%20%20%20%20%20%20%20%20%20%20%20%20%20%20%20%5B53.7840603%2C%20-1.54222022%5D%2C%0A%20%20%20%20%20%20%20%20%20%20%20%20%20%20%20%20%7B%7D%0A%20%20%20%20%20%20%20%20%20%20%20%20%29.addTo%28map_fef04fab0e0a4cad947a7d49840d676c%29%3B%0A%20%20%20%20%20%20%20%20%0A%20%20%20%20%0A%20%20%20%20%20%20%20%20%20%20%20%20marker_1270092a4c154807b5c64e82dadd4ba3.bindTooltip%28%0A%20%20%20%20%20%20%20%20%20%20%20%20%20%20%20%20%60%3Cdiv%3E%0A%20%20%20%20%20%20%20%20%20%20%20%20%20%20%20%20%20%20%20%20%20Car%0A%20%20%20%20%20%20%20%20%20%20%20%20%20%20%20%20%20%3C/div%3E%60%2C%0A%20%20%20%20%20%20%20%20%20%20%20%20%20%20%20%20%7B%22sticky%22%3A%20true%7D%0A%20%20%20%20%20%20%20%20%20%20%20%20%29%3B%0A%20%20%20%20%20%20%20%20%0A%20%20%20%20%0A%20%20%20%20%20%20%20%20%20%20%20%20var%20marker_ebd5a1df94254743b9c6acd2a9d28130%20%3D%20L.marker%28%0A%20%20%20%20%20%20%20%20%20%20%20%20%20%20%20%20%5B53.77863074%2C%20-1.52807535%5D%2C%0A%20%20%20%20%20%20%20%20%20%20%20%20%20%20%20%20%7B%7D%0A%20%20%20%20%20%20%20%20%20%20%20%20%29.addTo%28map_fef04fab0e0a4cad947a7d49840d676c%29%3B%0A%20%20%20%20%20%20%20%20%0A%20%20%20%20%0A%20%20%20%20%20%20%20%20%20%20%20%20marker_ebd5a1df94254743b9c6acd2a9d28130.bindTooltip%28%0A%20%20%20%20%20%20%20%20%20%20%20%20%20%20%20%20%60%3Cdiv%3E%0A%20%20%20%20%20%20%20%20%20%20%20%20%20%20%20%20%20%20%20%20%20Motorcycle%0A%20%20%20%20%20%20%20%20%20%20%20%20%20%20%20%20%20%3C/div%3E%60%2C%0A%20%20%20%20%20%20%20%20%20%20%20%20%20%20%20%20%7B%22sticky%22%3A%20true%7D%0A%20%20%20%20%20%20%20%20%20%20%20%20%29%3B%0A%20%20%20%20%20%20%20%20%0A%20%20%20%20%0A%20%20%20%20%20%20%20%20%20%20%20%20var%20marker_aa64e7c1ce89480e88af7bae31e49c9b%20%3D%20L.marker%28%0A%20%20%20%20%20%20%20%20%20%20%20%20%20%20%20%20%5B53.80697221%2C%20-1.51292094%5D%2C%0A%20%20%20%20%20%20%20%20%20%20%20%20%20%20%20%20%7B%7D%0A%20%20%20%20%20%20%20%20%20%20%20%20%29.addTo%28map_fef04fab0e0a4cad947a7d49840d676c%29%3B%0A%20%20%20%20%20%20%20%20%0A%20%20%20%20%0A%20%20%20%20%20%20%20%20%20%20%20%20marker_aa64e7c1ce89480e88af7bae31e49c9b.bindTooltip%28%0A%20%20%20%20%20%20%20%20%20%20%20%20%20%20%20%20%60%3Cdiv%3E%0A%20%20%20%20%20%20%20%20%20%20%20%20%20%20%20%20%20%20%20%20%20Bus%0A%20%20%20%20%20%20%20%20%20%20%20%20%20%20%20%20%20%3C/div%3E%60%2C%0A%20%20%20%20%20%20%20%20%20%20%20%20%20%20%20%20%7B%22sticky%22%3A%20true%7D%0A%20%20%20%20%20%20%20%20%20%20%20%20%29%3B%0A%20%20%20%20%20%20%20%20%0A%3C/script%3E onload=\"this.contentDocument.open();this.contentDocument.write(    decodeURIComponent(this.getAttribute('data-html')));this.contentDocument.close();\" allowfullscreen webkitallowfullscreen mozallowfullscreen></iframe></div></div>"
      ],
      "text/plain": [
       "<folium.folium.Map at 0x7f30619389a0>"
      ]
     },
     "execution_count": 112,
     "metadata": {},
     "output_type": "execute_result"
    }
   ],
   "source": [
    "map = folium.Map(location=[53.82180298, -1.55955206], zoom_start=12)\n",
    "# add marker one by one on the map\n",
    "for point in range(0, len(sample_location_100)):\n",
    "    folium.Marker(sample_location_100[point], tooltip=data['type_of_vehicle'][point]).add_to(map)\n",
    "map"
   ]
  },
  {
   "cell_type": "markdown",
   "id": "17dd3637",
   "metadata": {
    "cell_id": "00164-b71bf986-7a80-464a-b6b7-1b320618a900",
    "deepnote_app_coordinates": {
     "h": 5,
     "w": 12,
     "x": 0,
     "y": 987
    },
    "deepnote_cell_type": "markdown",
    "tags": []
   },
   "source": [
    "##### Car Accident locations Random Sample 100"
   ]
  },
  {
   "cell_type": "code",
   "execution_count": 132,
   "id": "3ee05ad6",
   "metadata": {
    "ExecuteTime": {
     "end_time": "2021-11-08T11:05:48.316852Z",
     "start_time": "2021-11-08T11:05:47.796633Z"
    },
    "cell_id": "00164-28413a95-991c-4cad-be19-271053f074e5",
    "deepnote_app_coordinates": {
     "h": 5,
     "w": 12,
     "x": 0,
     "y": 981
    },
    "deepnote_cell_type": "code",
    "deepnote_to_be_reexecuted": true,
    "execution_millis": 5,
    "execution_start": 1636224807298,
    "source_hash": "b59414d4",
    "tags": []
   },
   "outputs": [
    {
     "data": {
      "text/plain": [
       "18400"
      ]
     },
     "execution_count": 132,
     "metadata": {},
     "output_type": "execute_result"
    }
   ],
   "source": [
    "locations_car = data[data.type_of_vehicle == 'Car'][['latitude', 'longitude']]\n",
    "locationlist_car = (locations_car[['latitude', 'longitude']]).values.tolist()\n",
    "len(locationlist_car)\n",
    "locationlist_car[0]"
   ]
  },
  {
   "cell_type": "code",
   "execution_count": null,
   "id": "26b760cd",
   "metadata": {
    "cell_id": "00167-be9fc337-f66c-4c53-8230-61a06c86a271",
    "deepnote_app_coordinates": {
     "h": 5,
     "w": 12,
     "x": 0,
     "y": 999
    },
    "deepnote_cell_type": "code",
    "deepnote_to_be_reexecuted": true,
    "execution_millis": 188,
    "execution_start": 1636224809268,
    "source_hash": "3aa6a53",
    "tags": []
   },
   "outputs": [
    {
     "data": {
      "text/html": [
       "<div style=\"width:100%;\"><div style=\"position:relative;width:100%;height:0;padding-bottom:60%;\"><span style=\"color:#565656\">Make this Notebook Trusted to load map: File -> Trust Notebook</span><iframe src=\"about:blank\" style=\"position:absolute;width:100%;height:100%;left:0;top:0;border:none !important;\" data-html=%3C%21DOCTYPE%20html%3E%0A%3Chead%3E%20%20%20%20%0A%20%20%20%20%3Cmeta%20http-equiv%3D%22content-type%22%20content%3D%22text/html%3B%20charset%3DUTF-8%22%20/%3E%0A%20%20%20%20%0A%20%20%20%20%20%20%20%20%3Cscript%3E%0A%20%20%20%20%20%20%20%20%20%20%20%20L_NO_TOUCH%20%3D%20false%3B%0A%20%20%20%20%20%20%20%20%20%20%20%20L_DISABLE_3D%20%3D%20false%3B%0A%20%20%20%20%20%20%20%20%3C/script%3E%0A%20%20%20%20%0A%20%20%20%20%3Cstyle%3Ehtml%2C%20body%20%7Bwidth%3A%20100%25%3Bheight%3A%20100%25%3Bmargin%3A%200%3Bpadding%3A%200%3B%7D%3C/style%3E%0A%20%20%20%20%3Cstyle%3E%23map%20%7Bposition%3Aabsolute%3Btop%3A0%3Bbottom%3A0%3Bright%3A0%3Bleft%3A0%3B%7D%3C/style%3E%0A%20%20%20%20%3Cscript%20src%3D%22https%3A//cdn.jsdelivr.net/npm/leaflet%401.6.0/dist/leaflet.js%22%3E%3C/script%3E%0A%20%20%20%20%3Cscript%20src%3D%22https%3A//code.jquery.com/jquery-1.12.4.min.js%22%3E%3C/script%3E%0A%20%20%20%20%3Cscript%20src%3D%22https%3A//maxcdn.bootstrapcdn.com/bootstrap/3.2.0/js/bootstrap.min.js%22%3E%3C/script%3E%0A%20%20%20%20%3Cscript%20src%3D%22https%3A//cdnjs.cloudflare.com/ajax/libs/Leaflet.awesome-markers/2.0.2/leaflet.awesome-markers.js%22%3E%3C/script%3E%0A%20%20%20%20%3Clink%20rel%3D%22stylesheet%22%20href%3D%22https%3A//cdn.jsdelivr.net/npm/leaflet%401.6.0/dist/leaflet.css%22/%3E%0A%20%20%20%20%3Clink%20rel%3D%22stylesheet%22%20href%3D%22https%3A//maxcdn.bootstrapcdn.com/bootstrap/3.2.0/css/bootstrap.min.css%22/%3E%0A%20%20%20%20%3Clink%20rel%3D%22stylesheet%22%20href%3D%22https%3A//maxcdn.bootstrapcdn.com/bootstrap/3.2.0/css/bootstrap-theme.min.css%22/%3E%0A%20%20%20%20%3Clink%20rel%3D%22stylesheet%22%20href%3D%22https%3A//maxcdn.bootstrapcdn.com/font-awesome/4.6.3/css/font-awesome.min.css%22/%3E%0A%20%20%20%20%3Clink%20rel%3D%22stylesheet%22%20href%3D%22https%3A//cdnjs.cloudflare.com/ajax/libs/Leaflet.awesome-markers/2.0.2/leaflet.awesome-markers.css%22/%3E%0A%20%20%20%20%3Clink%20rel%3D%22stylesheet%22%20href%3D%22https%3A//cdn.jsdelivr.net/gh/python-visualization/folium/folium/templates/leaflet.awesome.rotate.min.css%22/%3E%0A%20%20%20%20%0A%20%20%20%20%20%20%20%20%20%20%20%20%3Cmeta%20name%3D%22viewport%22%20content%3D%22width%3Ddevice-width%2C%0A%20%20%20%20%20%20%20%20%20%20%20%20%20%20%20%20initial-scale%3D1.0%2C%20maximum-scale%3D1.0%2C%20user-scalable%3Dno%22%20/%3E%0A%20%20%20%20%20%20%20%20%20%20%20%20%3Cstyle%3E%0A%20%20%20%20%20%20%20%20%20%20%20%20%20%20%20%20%23map_fa4f516e1b994a009bff5282d625be50%20%7B%0A%20%20%20%20%20%20%20%20%20%20%20%20%20%20%20%20%20%20%20%20position%3A%20relative%3B%0A%20%20%20%20%20%20%20%20%20%20%20%20%20%20%20%20%20%20%20%20width%3A%20100.0%25%3B%0A%20%20%20%20%20%20%20%20%20%20%20%20%20%20%20%20%20%20%20%20height%3A%20100.0%25%3B%0A%20%20%20%20%20%20%20%20%20%20%20%20%20%20%20%20%20%20%20%20left%3A%200.0%25%3B%0A%20%20%20%20%20%20%20%20%20%20%20%20%20%20%20%20%20%20%20%20top%3A%200.0%25%3B%0A%20%20%20%20%20%20%20%20%20%20%20%20%20%20%20%20%7D%0A%20%20%20%20%20%20%20%20%20%20%20%20%3C/style%3E%0A%20%20%20%20%20%20%20%20%0A%3C/head%3E%0A%3Cbody%3E%20%20%20%20%0A%20%20%20%20%0A%20%20%20%20%20%20%20%20%20%20%20%20%3Cdiv%20class%3D%22folium-map%22%20id%3D%22map_fa4f516e1b994a009bff5282d625be50%22%20%3E%3C/div%3E%0A%20%20%20%20%20%20%20%20%0A%3C/body%3E%0A%3Cscript%3E%20%20%20%20%0A%20%20%20%20%0A%20%20%20%20%20%20%20%20%20%20%20%20var%20map_fa4f516e1b994a009bff5282d625be50%20%3D%20L.map%28%0A%20%20%20%20%20%20%20%20%20%20%20%20%20%20%20%20%22map_fa4f516e1b994a009bff5282d625be50%22%2C%0A%20%20%20%20%20%20%20%20%20%20%20%20%20%20%20%20%7B%0A%20%20%20%20%20%20%20%20%20%20%20%20%20%20%20%20%20%20%20%20center%3A%20%5B53.82180298%2C%20-1.55955206%5D%2C%0A%20%20%20%20%20%20%20%20%20%20%20%20%20%20%20%20%20%20%20%20crs%3A%20L.CRS.EPSG3857%2C%0A%20%20%20%20%20%20%20%20%20%20%20%20%20%20%20%20%20%20%20%20zoom%3A%2012%2C%0A%20%20%20%20%20%20%20%20%20%20%20%20%20%20%20%20%20%20%20%20zoomControl%3A%20true%2C%0A%20%20%20%20%20%20%20%20%20%20%20%20%20%20%20%20%20%20%20%20preferCanvas%3A%20false%2C%0A%20%20%20%20%20%20%20%20%20%20%20%20%20%20%20%20%7D%0A%20%20%20%20%20%20%20%20%20%20%20%20%29%3B%0A%0A%20%20%20%20%20%20%20%20%20%20%20%20%0A%0A%20%20%20%20%20%20%20%20%0A%20%20%20%20%0A%20%20%20%20%20%20%20%20%20%20%20%20var%20tile_layer_1bea8013e9724737b9c4fc47d3266ec5%20%3D%20L.tileLayer%28%0A%20%20%20%20%20%20%20%20%20%20%20%20%20%20%20%20%22https%3A//%7Bs%7D.tile.openstreetmap.org/%7Bz%7D/%7Bx%7D/%7By%7D.png%22%2C%0A%20%20%20%20%20%20%20%20%20%20%20%20%20%20%20%20%7B%22attribution%22%3A%20%22Data%20by%20%5Cu0026copy%3B%20%5Cu003ca%20href%3D%5C%22http%3A//openstreetmap.org%5C%22%5Cu003eOpenStreetMap%5Cu003c/a%5Cu003e%2C%20under%20%5Cu003ca%20href%3D%5C%22http%3A//www.openstreetmap.org/copyright%5C%22%5Cu003eODbL%5Cu003c/a%5Cu003e.%22%2C%20%22detectRetina%22%3A%20false%2C%20%22maxNativeZoom%22%3A%2018%2C%20%22maxZoom%22%3A%2018%2C%20%22minZoom%22%3A%200%2C%20%22noWrap%22%3A%20false%2C%20%22opacity%22%3A%201%2C%20%22subdomains%22%3A%20%22abc%22%2C%20%22tms%22%3A%20false%7D%0A%20%20%20%20%20%20%20%20%20%20%20%20%29.addTo%28map_fa4f516e1b994a009bff5282d625be50%29%3B%0A%20%20%20%20%20%20%20%20%0A%20%20%20%20%0A%20%20%20%20%20%20%20%20%20%20%20%20var%20marker_cc8ee1f7e1aa4d248634c04ed498d6e5%20%3D%20L.marker%28%0A%20%20%20%20%20%20%20%20%20%20%20%20%20%20%20%20%5B53.90683519%2C%20-1.52588824%5D%2C%0A%20%20%20%20%20%20%20%20%20%20%20%20%20%20%20%20%7B%7D%0A%20%20%20%20%20%20%20%20%20%20%20%20%29.addTo%28map_fa4f516e1b994a009bff5282d625be50%29%3B%0A%20%20%20%20%20%20%20%20%0A%20%20%20%20%0A%20%20%20%20%20%20%20%20%20%20%20%20var%20marker_315a2283631c496b9942384ab46fb4a8%20%3D%20L.marker%28%0A%20%20%20%20%20%20%20%20%20%20%20%20%20%20%20%20%5B53.79177144%2C%20-1.62211669%5D%2C%0A%20%20%20%20%20%20%20%20%20%20%20%20%20%20%20%20%7B%7D%0A%20%20%20%20%20%20%20%20%20%20%20%20%29.addTo%28map_fa4f516e1b994a009bff5282d625be50%29%3B%0A%20%20%20%20%20%20%20%20%0A%20%20%20%20%0A%20%20%20%20%20%20%20%20%20%20%20%20var%20marker_b7c2174417e94c70913bee3b67872cba%20%3D%20L.marker%28%0A%20%20%20%20%20%20%20%20%20%20%20%20%20%20%20%20%5B53.842862%2C%20-1.55715831%5D%2C%0A%20%20%20%20%20%20%20%20%20%20%20%20%20%20%20%20%7B%7D%0A%20%20%20%20%20%20%20%20%20%20%20%20%29.addTo%28map_fa4f516e1b994a009bff5282d625be50%29%3B%0A%20%20%20%20%20%20%20%20%0A%20%20%20%20%0A%20%20%20%20%20%20%20%20%20%20%20%20var%20marker_dca4b3b4bb514dfebe923483029b229f%20%3D%20L.marker%28%0A%20%20%20%20%20%20%20%20%20%20%20%20%20%20%20%20%5B53.88330276%2C%20-1.6943908%5D%2C%0A%20%20%20%20%20%20%20%20%20%20%20%20%20%20%20%20%7B%7D%0A%20%20%20%20%20%20%20%20%20%20%20%20%29.addTo%28map_fa4f516e1b994a009bff5282d625be50%29%3B%0A%20%20%20%20%20%20%20%20%0A%20%20%20%20%0A%20%20%20%20%20%20%20%20%20%20%20%20var%20marker_0e8b4b23bc614965990fcf50832c488b%20%3D%20L.marker%28%0A%20%20%20%20%20%20%20%20%20%20%20%20%20%20%20%20%5B53.82435055%2C%20-1.54614175%5D%2C%0A%20%20%20%20%20%20%20%20%20%20%20%20%20%20%20%20%7B%7D%0A%20%20%20%20%20%20%20%20%20%20%20%20%29.addTo%28map_fa4f516e1b994a009bff5282d625be50%29%3B%0A%20%20%20%20%20%20%20%20%0A%20%20%20%20%0A%20%20%20%20%20%20%20%20%20%20%20%20var%20marker_7e1f707934ab468eadb8ec3d8b2b17e1%20%3D%20L.marker%28%0A%20%20%20%20%20%20%20%20%20%20%20%20%20%20%20%20%5B53.72542194%2C%20-1.51689419%5D%2C%0A%20%20%20%20%20%20%20%20%20%20%20%20%20%20%20%20%7B%7D%0A%20%20%20%20%20%20%20%20%20%20%20%20%29.addTo%28map_fa4f516e1b994a009bff5282d625be50%29%3B%0A%20%20%20%20%20%20%20%20%0A%20%20%20%20%0A%20%20%20%20%20%20%20%20%20%20%20%20var%20marker_5dfcf8fdfb3c478482cf4eddc9b72f12%20%3D%20L.marker%28%0A%20%20%20%20%20%20%20%20%20%20%20%20%20%20%20%20%5B53.79644861%2C%20-1.66261001%5D%2C%0A%20%20%20%20%20%20%20%20%20%20%20%20%20%20%20%20%7B%7D%0A%20%20%20%20%20%20%20%20%20%20%20%20%29.addTo%28map_fa4f516e1b994a009bff5282d625be50%29%3B%0A%20%20%20%20%20%20%20%20%0A%20%20%20%20%0A%20%20%20%20%20%20%20%20%20%20%20%20var%20marker_540be9d6810440f9900ae8917ed8ebc6%20%3D%20L.marker%28%0A%20%20%20%20%20%20%20%20%20%20%20%20%20%20%20%20%5B53.79547997%2C%20-1.53415616%5D%2C%0A%20%20%20%20%20%20%20%20%20%20%20%20%20%20%20%20%7B%7D%0A%20%20%20%20%20%20%20%20%20%20%20%20%29.addTo%28map_fa4f516e1b994a009bff5282d625be50%29%3B%0A%20%20%20%20%20%20%20%20%0A%20%20%20%20%0A%20%20%20%20%20%20%20%20%20%20%20%20var%20marker_adfa6b08d5aa453f9ff70592fda1f72b%20%3D%20L.marker%28%0A%20%20%20%20%20%20%20%20%20%20%20%20%20%20%20%20%5B53.85421538%2C%20-1.50024293%5D%2C%0A%20%20%20%20%20%20%20%20%20%20%20%20%20%20%20%20%7B%7D%0A%20%20%20%20%20%20%20%20%20%20%20%20%29.addTo%28map_fa4f516e1b994a009bff5282d625be50%29%3B%0A%20%20%20%20%20%20%20%20%0A%20%20%20%20%0A%20%20%20%20%20%20%20%20%20%20%20%20var%20marker_1a52d650633b446d80fdbf81bbf0dc2b%20%3D%20L.marker%28%0A%20%20%20%20%20%20%20%20%20%20%20%20%20%20%20%20%5B53.79748482%2C%20-1.44152552%5D%2C%0A%20%20%20%20%20%20%20%20%20%20%20%20%20%20%20%20%7B%7D%0A%20%20%20%20%20%20%20%20%20%20%20%20%29.addTo%28map_fa4f516e1b994a009bff5282d625be50%29%3B%0A%20%20%20%20%20%20%20%20%0A%20%20%20%20%0A%20%20%20%20%20%20%20%20%20%20%20%20var%20marker_9cf1cc7d347e49f9b68187e0331224be%20%3D%20L.marker%28%0A%20%20%20%20%20%20%20%20%20%20%20%20%20%20%20%20%5B53.84453715%2C%20-1.55080281%5D%2C%0A%20%20%20%20%20%20%20%20%20%20%20%20%20%20%20%20%7B%7D%0A%20%20%20%20%20%20%20%20%20%20%20%20%29.addTo%28map_fa4f516e1b994a009bff5282d625be50%29%3B%0A%20%20%20%20%20%20%20%20%0A%20%20%20%20%0A%20%20%20%20%20%20%20%20%20%20%20%20var%20marker_9c264f22b4324b02aba872d108d847dd%20%3D%20L.marker%28%0A%20%20%20%20%20%20%20%20%20%20%20%20%20%20%20%20%5B53.72475847%2C%20-1.57194653%5D%2C%0A%20%20%20%20%20%20%20%20%20%20%20%20%20%20%20%20%7B%7D%0A%20%20%20%20%20%20%20%20%20%20%20%20%29.addTo%28map_fa4f516e1b994a009bff5282d625be50%29%3B%0A%20%20%20%20%20%20%20%20%0A%20%20%20%20%0A%20%20%20%20%20%20%20%20%20%20%20%20var%20marker_5cdd3e9a4ac24c80912a4c36e2448c1a%20%3D%20L.marker%28%0A%20%20%20%20%20%20%20%20%20%20%20%20%20%20%20%20%5B53.88171568%2C%20-1.35935316%5D%2C%0A%20%20%20%20%20%20%20%20%20%20%20%20%20%20%20%20%7B%7D%0A%20%20%20%20%20%20%20%20%20%20%20%20%29.addTo%28map_fa4f516e1b994a009bff5282d625be50%29%3B%0A%20%20%20%20%20%20%20%20%0A%20%20%20%20%0A%20%20%20%20%20%20%20%20%20%20%20%20var%20marker_ede0b1360da74e69904e80337fdb063e%20%3D%20L.marker%28%0A%20%20%20%20%20%20%20%20%20%20%20%20%20%20%20%20%5B53.8178242%2C%20-1.51597007%5D%2C%0A%20%20%20%20%20%20%20%20%20%20%20%20%20%20%20%20%7B%7D%0A%20%20%20%20%20%20%20%20%20%20%20%20%29.addTo%28map_fa4f516e1b994a009bff5282d625be50%29%3B%0A%20%20%20%20%20%20%20%20%0A%20%20%20%20%0A%20%20%20%20%20%20%20%20%20%20%20%20var%20marker_b833faf34b0e4d1dabff3fe356a38861%20%3D%20L.marker%28%0A%20%20%20%20%20%20%20%20%20%20%20%20%20%20%20%20%5B53.91578954%2C%20-1.39779273%5D%2C%0A%20%20%20%20%20%20%20%20%20%20%20%20%20%20%20%20%7B%7D%0A%20%20%20%20%20%20%20%20%20%20%20%20%29.addTo%28map_fa4f516e1b994a009bff5282d625be50%29%3B%0A%20%20%20%20%20%20%20%20%0A%20%20%20%20%0A%20%20%20%20%20%20%20%20%20%20%20%20var%20marker_6a13d8b7c4a34c22a933cdaec4988e49%20%3D%20L.marker%28%0A%20%20%20%20%20%20%20%20%20%20%20%20%20%20%20%20%5B53.79776489%2C%20-1.62739218%5D%2C%0A%20%20%20%20%20%20%20%20%20%20%20%20%20%20%20%20%7B%7D%0A%20%20%20%20%20%20%20%20%20%20%20%20%29.addTo%28map_fa4f516e1b994a009bff5282d625be50%29%3B%0A%20%20%20%20%20%20%20%20%0A%20%20%20%20%0A%20%20%20%20%20%20%20%20%20%20%20%20var%20marker_2de2f5e208d8453e9cc79ef4be34ab0d%20%3D%20L.marker%28%0A%20%20%20%20%20%20%20%20%20%20%20%20%20%20%20%20%5B53.80630485%2C%20-1.56868802%5D%2C%0A%20%20%20%20%20%20%20%20%20%20%20%20%20%20%20%20%7B%7D%0A%20%20%20%20%20%20%20%20%20%20%20%20%29.addTo%28map_fa4f516e1b994a009bff5282d625be50%29%3B%0A%20%20%20%20%20%20%20%20%0A%20%20%20%20%0A%20%20%20%20%20%20%20%20%20%20%20%20var%20marker_c19b4d41ee964cf1acb15f729944f3e4%20%3D%20L.marker%28%0A%20%20%20%20%20%20%20%20%20%20%20%20%20%20%20%20%5B53.81532509%2C%20-1.45100901%5D%2C%0A%20%20%20%20%20%20%20%20%20%20%20%20%20%20%20%20%7B%7D%0A%20%20%20%20%20%20%20%20%20%20%20%20%29.addTo%28map_fa4f516e1b994a009bff5282d625be50%29%3B%0A%20%20%20%20%20%20%20%20%0A%20%20%20%20%0A%20%20%20%20%20%20%20%20%20%20%20%20var%20marker_e692e53aaf794c3ea9c7249d0df1b51e%20%3D%20L.marker%28%0A%20%20%20%20%20%20%20%20%20%20%20%20%20%20%20%20%5B53.84811978%2C%20-1.40504094%5D%2C%0A%20%20%20%20%20%20%20%20%20%20%20%20%20%20%20%20%7B%7D%0A%20%20%20%20%20%20%20%20%20%20%20%20%29.addTo%28map_fa4f516e1b994a009bff5282d625be50%29%3B%0A%20%20%20%20%20%20%20%20%0A%20%20%20%20%0A%20%20%20%20%20%20%20%20%20%20%20%20var%20marker_0e9f634f21704b5d972b915bee2c1d69%20%3D%20L.marker%28%0A%20%20%20%20%20%20%20%20%20%20%20%20%20%20%20%20%5B53.75556197%2C%20-1.46868281%5D%2C%0A%20%20%20%20%20%20%20%20%20%20%20%20%20%20%20%20%7B%7D%0A%20%20%20%20%20%20%20%20%20%20%20%20%29.addTo%28map_fa4f516e1b994a009bff5282d625be50%29%3B%0A%20%20%20%20%20%20%20%20%0A%20%20%20%20%0A%20%20%20%20%20%20%20%20%20%20%20%20var%20marker_af0371bf142e4029bc3ed0ac4b372d15%20%3D%20L.marker%28%0A%20%20%20%20%20%20%20%20%20%20%20%20%20%20%20%20%5B53.83265385%2C%20-1.64449633%5D%2C%0A%20%20%20%20%20%20%20%20%20%20%20%20%20%20%20%20%7B%7D%0A%20%20%20%20%20%20%20%20%20%20%20%20%29.addTo%28map_fa4f516e1b994a009bff5282d625be50%29%3B%0A%20%20%20%20%20%20%20%20%0A%20%20%20%20%0A%20%20%20%20%20%20%20%20%20%20%20%20var%20marker_ae208df1ffed405aa7f01af82ec0818a%20%3D%20L.marker%28%0A%20%20%20%20%20%20%20%20%20%20%20%20%20%20%20%20%5B53.74620177%2C%20-1.31534787%5D%2C%0A%20%20%20%20%20%20%20%20%20%20%20%20%20%20%20%20%7B%7D%0A%20%20%20%20%20%20%20%20%20%20%20%20%29.addTo%28map_fa4f516e1b994a009bff5282d625be50%29%3B%0A%20%20%20%20%20%20%20%20%0A%20%20%20%20%0A%20%20%20%20%20%20%20%20%20%20%20%20var%20marker_681a06c087954bac98dab54f5976f57b%20%3D%20L.marker%28%0A%20%20%20%20%20%20%20%20%20%20%20%20%20%20%20%20%5B53.80111517%2C%20-1.53177069%5D%2C%0A%20%20%20%20%20%20%20%20%20%20%20%20%20%20%20%20%7B%7D%0A%20%20%20%20%20%20%20%20%20%20%20%20%29.addTo%28map_fa4f516e1b994a009bff5282d625be50%29%3B%0A%20%20%20%20%20%20%20%20%0A%20%20%20%20%0A%20%20%20%20%20%20%20%20%20%20%20%20var%20marker_258fc790f55d4cff877c6d47f639883c%20%3D%20L.marker%28%0A%20%20%20%20%20%20%20%20%20%20%20%20%20%20%20%20%5B53.83270804%2C%20-1.53869745%5D%2C%0A%20%20%20%20%20%20%20%20%20%20%20%20%20%20%20%20%7B%7D%0A%20%20%20%20%20%20%20%20%20%20%20%20%29.addTo%28map_fa4f516e1b994a009bff5282d625be50%29%3B%0A%20%20%20%20%20%20%20%20%0A%20%20%20%20%0A%20%20%20%20%20%20%20%20%20%20%20%20var%20marker_1c252b536cc349efb3776ec4c4a2dc05%20%3D%20L.marker%28%0A%20%20%20%20%20%20%20%20%20%20%20%20%20%20%20%20%5B53.86636813%2C%20-1.45694185%5D%2C%0A%20%20%20%20%20%20%20%20%20%20%20%20%20%20%20%20%7B%7D%0A%20%20%20%20%20%20%20%20%20%20%20%20%29.addTo%28map_fa4f516e1b994a009bff5282d625be50%29%3B%0A%20%20%20%20%20%20%20%20%0A%20%20%20%20%0A%20%20%20%20%20%20%20%20%20%20%20%20var%20marker_f6a9e91a735f4e6abc378c7de80e6fe0%20%3D%20L.marker%28%0A%20%20%20%20%20%20%20%20%20%20%20%20%20%20%20%20%5B53.79256789%2C%20-1.56779655%5D%2C%0A%20%20%20%20%20%20%20%20%20%20%20%20%20%20%20%20%7B%7D%0A%20%20%20%20%20%20%20%20%20%20%20%20%29.addTo%28map_fa4f516e1b994a009bff5282d625be50%29%3B%0A%20%20%20%20%20%20%20%20%0A%20%20%20%20%0A%20%20%20%20%20%20%20%20%20%20%20%20var%20marker_1a5bc30140ce4733a1a9e8281ba9b715%20%3D%20L.marker%28%0A%20%20%20%20%20%20%20%20%20%20%20%20%20%20%20%20%5B53.72972267%2C%20-1.51132767%5D%2C%0A%20%20%20%20%20%20%20%20%20%20%20%20%20%20%20%20%7B%7D%0A%20%20%20%20%20%20%20%20%20%20%20%20%29.addTo%28map_fa4f516e1b994a009bff5282d625be50%29%3B%0A%20%20%20%20%20%20%20%20%0A%20%20%20%20%0A%20%20%20%20%20%20%20%20%20%20%20%20var%20marker_4600b54810b44d748b79e7b796a85d3c%20%3D%20L.marker%28%0A%20%20%20%20%20%20%20%20%20%20%20%20%20%20%20%20%5B53.77549747%2C%20-1.45466872%5D%2C%0A%20%20%20%20%20%20%20%20%20%20%20%20%20%20%20%20%7B%7D%0A%20%20%20%20%20%20%20%20%20%20%20%20%29.addTo%28map_fa4f516e1b994a009bff5282d625be50%29%3B%0A%20%20%20%20%20%20%20%20%0A%20%20%20%20%0A%20%20%20%20%20%20%20%20%20%20%20%20var%20marker_f2a61a5dd60942baa8eedcf0e8cb5c55%20%3D%20L.marker%28%0A%20%20%20%20%20%20%20%20%20%20%20%20%20%20%20%20%5B53.87551427%2C%20-1.71062985%5D%2C%0A%20%20%20%20%20%20%20%20%20%20%20%20%20%20%20%20%7B%7D%0A%20%20%20%20%20%20%20%20%20%20%20%20%29.addTo%28map_fa4f516e1b994a009bff5282d625be50%29%3B%0A%20%20%20%20%20%20%20%20%0A%20%20%20%20%0A%20%20%20%20%20%20%20%20%20%20%20%20var%20marker_6fbeae24ac5448a7b0e478e8f3848792%20%3D%20L.marker%28%0A%20%20%20%20%20%20%20%20%20%20%20%20%20%20%20%20%5B53.81366622%2C%20-1.62497259%5D%2C%0A%20%20%20%20%20%20%20%20%20%20%20%20%20%20%20%20%7B%7D%0A%20%20%20%20%20%20%20%20%20%20%20%20%29.addTo%28map_fa4f516e1b994a009bff5282d625be50%29%3B%0A%20%20%20%20%20%20%20%20%0A%20%20%20%20%0A%20%20%20%20%20%20%20%20%20%20%20%20var%20marker_7f7764f4366d481a9c31cee0e5b9c87a%20%3D%20L.marker%28%0A%20%20%20%20%20%20%20%20%20%20%20%20%20%20%20%20%5B53.78247403%2C%20-1.54106886%5D%2C%0A%20%20%20%20%20%20%20%20%20%20%20%20%20%20%20%20%7B%7D%0A%20%20%20%20%20%20%20%20%20%20%20%20%29.addTo%28map_fa4f516e1b994a009bff5282d625be50%29%3B%0A%20%20%20%20%20%20%20%20%0A%20%20%20%20%0A%20%20%20%20%20%20%20%20%20%20%20%20var%20marker_75ee0927ba484033956ed70fbd023108%20%3D%20L.marker%28%0A%20%20%20%20%20%20%20%20%20%20%20%20%20%20%20%20%5B53.79247791%2C%20-1.61813305%5D%2C%0A%20%20%20%20%20%20%20%20%20%20%20%20%20%20%20%20%7B%7D%0A%20%20%20%20%20%20%20%20%20%20%20%20%29.addTo%28map_fa4f516e1b994a009bff5282d625be50%29%3B%0A%20%20%20%20%20%20%20%20%0A%20%20%20%20%0A%20%20%20%20%20%20%20%20%20%20%20%20var%20marker_a018f5e54d654d3386b6107a04ee9730%20%3D%20L.marker%28%0A%20%20%20%20%20%20%20%20%20%20%20%20%20%20%20%20%5B53.7921641%2C%20-1.66039767%5D%2C%0A%20%20%20%20%20%20%20%20%20%20%20%20%20%20%20%20%7B%7D%0A%20%20%20%20%20%20%20%20%20%20%20%20%29.addTo%28map_fa4f516e1b994a009bff5282d625be50%29%3B%0A%20%20%20%20%20%20%20%20%0A%20%20%20%20%0A%20%20%20%20%20%20%20%20%20%20%20%20var%20marker_4371a19061a944ef81a03756da798953%20%3D%20L.marker%28%0A%20%20%20%20%20%20%20%20%20%20%20%20%20%20%20%20%5B53.72837394%2C%20-1.58026118%5D%2C%0A%20%20%20%20%20%20%20%20%20%20%20%20%20%20%20%20%7B%7D%0A%20%20%20%20%20%20%20%20%20%20%20%20%29.addTo%28map_fa4f516e1b994a009bff5282d625be50%29%3B%0A%20%20%20%20%20%20%20%20%0A%20%20%20%20%0A%20%20%20%20%20%20%20%20%20%20%20%20var%20marker_4af381a2fee2477491db704f27a247cd%20%3D%20L.marker%28%0A%20%20%20%20%20%20%20%20%20%20%20%20%20%20%20%20%5B53.8092734%2C%20-1.53564358%5D%2C%0A%20%20%20%20%20%20%20%20%20%20%20%20%20%20%20%20%7B%7D%0A%20%20%20%20%20%20%20%20%20%20%20%20%29.addTo%28map_fa4f516e1b994a009bff5282d625be50%29%3B%0A%20%20%20%20%20%20%20%20%0A%20%20%20%20%0A%20%20%20%20%20%20%20%20%20%20%20%20var%20marker_56fd035b09b34898b7a5631f5f5defc4%20%3D%20L.marker%28%0A%20%20%20%20%20%20%20%20%20%20%20%20%20%20%20%20%5B53.74096754%2C%20-1.51371433%5D%2C%0A%20%20%20%20%20%20%20%20%20%20%20%20%20%20%20%20%7B%7D%0A%20%20%20%20%20%20%20%20%20%20%20%20%29.addTo%28map_fa4f516e1b994a009bff5282d625be50%29%3B%0A%20%20%20%20%20%20%20%20%0A%20%20%20%20%0A%20%20%20%20%20%20%20%20%20%20%20%20var%20marker_999c7c93d51f4ecf8c8108801145fce0%20%3D%20L.marker%28%0A%20%20%20%20%20%20%20%20%20%20%20%20%20%20%20%20%5B53.74328544%2C%20-1.62656995%5D%2C%0A%20%20%20%20%20%20%20%20%20%20%20%20%20%20%20%20%7B%7D%0A%20%20%20%20%20%20%20%20%20%20%20%20%29.addTo%28map_fa4f516e1b994a009bff5282d625be50%29%3B%0A%20%20%20%20%20%20%20%20%0A%20%20%20%20%0A%20%20%20%20%20%20%20%20%20%20%20%20var%20marker_30108b750d724cf4a7397d17b8c75562%20%3D%20L.marker%28%0A%20%20%20%20%20%20%20%20%20%20%20%20%20%20%20%20%5B53.81899576%2C%20-1.5145136%5D%2C%0A%20%20%20%20%20%20%20%20%20%20%20%20%20%20%20%20%7B%7D%0A%20%20%20%20%20%20%20%20%20%20%20%20%29.addTo%28map_fa4f516e1b994a009bff5282d625be50%29%3B%0A%20%20%20%20%20%20%20%20%0A%20%20%20%20%0A%20%20%20%20%20%20%20%20%20%20%20%20var%20marker_3d4c0f63c3364319a248ebbc785989a9%20%3D%20L.marker%28%0A%20%20%20%20%20%20%20%20%20%20%20%20%20%20%20%20%5B53.79725455%2C%20-1.58938157%5D%2C%0A%20%20%20%20%20%20%20%20%20%20%20%20%20%20%20%20%7B%7D%0A%20%20%20%20%20%20%20%20%20%20%20%20%29.addTo%28map_fa4f516e1b994a009bff5282d625be50%29%3B%0A%20%20%20%20%20%20%20%20%0A%20%20%20%20%0A%20%20%20%20%20%20%20%20%20%20%20%20var%20marker_395aa832ae504f7592a29b76c0e6ac57%20%3D%20L.marker%28%0A%20%20%20%20%20%20%20%20%20%20%20%20%20%20%20%20%5B53.75584661%2C%20-1.38694515%5D%2C%0A%20%20%20%20%20%20%20%20%20%20%20%20%20%20%20%20%7B%7D%0A%20%20%20%20%20%20%20%20%20%20%20%20%29.addTo%28map_fa4f516e1b994a009bff5282d625be50%29%3B%0A%20%20%20%20%20%20%20%20%0A%20%20%20%20%0A%20%20%20%20%20%20%20%20%20%20%20%20var%20marker_e8baee34d28345089fb41122468d65ae%20%3D%20L.marker%28%0A%20%20%20%20%20%20%20%20%20%20%20%20%20%20%20%20%5B53.86274621%2C%20-1.55556476%5D%2C%0A%20%20%20%20%20%20%20%20%20%20%20%20%20%20%20%20%7B%7D%0A%20%20%20%20%20%20%20%20%20%20%20%20%29.addTo%28map_fa4f516e1b994a009bff5282d625be50%29%3B%0A%20%20%20%20%20%20%20%20%0A%20%20%20%20%0A%20%20%20%20%20%20%20%20%20%20%20%20var%20marker_f4acdc9239254fbbb07ec2b7272d1893%20%3D%20L.marker%28%0A%20%20%20%20%20%20%20%20%20%20%20%20%20%20%20%20%5B53.78221282%2C%20-1.55043544%5D%2C%0A%20%20%20%20%20%20%20%20%20%20%20%20%20%20%20%20%7B%7D%0A%20%20%20%20%20%20%20%20%20%20%20%20%29.addTo%28map_fa4f516e1b994a009bff5282d625be50%29%3B%0A%20%20%20%20%20%20%20%20%0A%20%20%20%20%0A%20%20%20%20%20%20%20%20%20%20%20%20var%20marker_fa1e74e1baba4186ad8b43f2f7b764d3%20%3D%20L.marker%28%0A%20%20%20%20%20%20%20%20%20%20%20%20%20%20%20%20%5B53.80190462%2C%20-1.54539689%5D%2C%0A%20%20%20%20%20%20%20%20%20%20%20%20%20%20%20%20%7B%7D%0A%20%20%20%20%20%20%20%20%20%20%20%20%29.addTo%28map_fa4f516e1b994a009bff5282d625be50%29%3B%0A%20%20%20%20%20%20%20%20%0A%20%20%20%20%0A%20%20%20%20%20%20%20%20%20%20%20%20var%20marker_8c64498e61134d83a30d96888649cf6e%20%3D%20L.marker%28%0A%20%20%20%20%20%20%20%20%20%20%20%20%20%20%20%20%5B53.90159176%2C%20-1.33684394%5D%2C%0A%20%20%20%20%20%20%20%20%20%20%20%20%20%20%20%20%7B%7D%0A%20%20%20%20%20%20%20%20%20%20%20%20%29.addTo%28map_fa4f516e1b994a009bff5282d625be50%29%3B%0A%20%20%20%20%20%20%20%20%0A%20%20%20%20%0A%20%20%20%20%20%20%20%20%20%20%20%20var%20marker_c1991bc629e64f78b9b6200250cd3ab4%20%3D%20L.marker%28%0A%20%20%20%20%20%20%20%20%20%20%20%20%20%20%20%20%5B53.81058734%2C%20-1.52460338%5D%2C%0A%20%20%20%20%20%20%20%20%20%20%20%20%20%20%20%20%7B%7D%0A%20%20%20%20%20%20%20%20%20%20%20%20%29.addTo%28map_fa4f516e1b994a009bff5282d625be50%29%3B%0A%20%20%20%20%20%20%20%20%0A%20%20%20%20%0A%20%20%20%20%20%20%20%20%20%20%20%20var%20marker_54f9a5fca3e24a01af62bbf3c9754ab4%20%3D%20L.marker%28%0A%20%20%20%20%20%20%20%20%20%20%20%20%20%20%20%20%5B53.83808835%2C%20-1.65267203%5D%2C%0A%20%20%20%20%20%20%20%20%20%20%20%20%20%20%20%20%7B%7D%0A%20%20%20%20%20%20%20%20%20%20%20%20%29.addTo%28map_fa4f516e1b994a009bff5282d625be50%29%3B%0A%20%20%20%20%20%20%20%20%0A%20%20%20%20%0A%20%20%20%20%20%20%20%20%20%20%20%20var%20marker_1ce0c59f43c347a7a573e0bc49d663bf%20%3D%20L.marker%28%0A%20%20%20%20%20%20%20%20%20%20%20%20%20%20%20%20%5B53.80339621%2C%20-1.48311058%5D%2C%0A%20%20%20%20%20%20%20%20%20%20%20%20%20%20%20%20%7B%7D%0A%20%20%20%20%20%20%20%20%20%20%20%20%29.addTo%28map_fa4f516e1b994a009bff5282d625be50%29%3B%0A%20%20%20%20%20%20%20%20%0A%20%20%20%20%0A%20%20%20%20%20%20%20%20%20%20%20%20var%20marker_f21ec2ed4a7545c88f7345f649a6beed%20%3D%20L.marker%28%0A%20%20%20%20%20%20%20%20%20%20%20%20%20%20%20%20%5B53.78229696%2C%20-1.63637742%5D%2C%0A%20%20%20%20%20%20%20%20%20%20%20%20%20%20%20%20%7B%7D%0A%20%20%20%20%20%20%20%20%20%20%20%20%29.addTo%28map_fa4f516e1b994a009bff5282d625be50%29%3B%0A%20%20%20%20%20%20%20%20%0A%20%20%20%20%0A%20%20%20%20%20%20%20%20%20%20%20%20var%20marker_1a5cefa9d9664f27936553ba54ab4203%20%3D%20L.marker%28%0A%20%20%20%20%20%20%20%20%20%20%20%20%20%20%20%20%5B53.76853097%2C%20-1.58744717%5D%2C%0A%20%20%20%20%20%20%20%20%20%20%20%20%20%20%20%20%7B%7D%0A%20%20%20%20%20%20%20%20%20%20%20%20%29.addTo%28map_fa4f516e1b994a009bff5282d625be50%29%3B%0A%20%20%20%20%20%20%20%20%0A%20%20%20%20%0A%20%20%20%20%20%20%20%20%20%20%20%20var%20marker_0d36c0801c6d4d37a4f2c084ba1b417e%20%3D%20L.marker%28%0A%20%20%20%20%20%20%20%20%20%20%20%20%20%20%20%20%5B53.84804693%2C%20-1.53310286%5D%2C%0A%20%20%20%20%20%20%20%20%20%20%20%20%20%20%20%20%7B%7D%0A%20%20%20%20%20%20%20%20%20%20%20%20%29.addTo%28map_fa4f516e1b994a009bff5282d625be50%29%3B%0A%20%20%20%20%20%20%20%20%0A%20%20%20%20%0A%20%20%20%20%20%20%20%20%20%20%20%20var%20marker_22eb7f2cac3047aaa285846e559a9485%20%3D%20L.marker%28%0A%20%20%20%20%20%20%20%20%20%20%20%20%20%20%20%20%5B53.74336341%2C%20-1.50833441%5D%2C%0A%20%20%20%20%20%20%20%20%20%20%20%20%20%20%20%20%7B%7D%0A%20%20%20%20%20%20%20%20%20%20%20%20%29.addTo%28map_fa4f516e1b994a009bff5282d625be50%29%3B%0A%20%20%20%20%20%20%20%20%0A%20%20%20%20%0A%20%20%20%20%20%20%20%20%20%20%20%20var%20marker_de07fe0d2b21488a91d8c2200189b801%20%3D%20L.marker%28%0A%20%20%20%20%20%20%20%20%20%20%20%20%20%20%20%20%5B53.87197762%2C%20-1.46722651%5D%2C%0A%20%20%20%20%20%20%20%20%20%20%20%20%20%20%20%20%7B%7D%0A%20%20%20%20%20%20%20%20%20%20%20%20%29.addTo%28map_fa4f516e1b994a009bff5282d625be50%29%3B%0A%20%20%20%20%20%20%20%20%0A%20%20%20%20%0A%20%20%20%20%20%20%20%20%20%20%20%20var%20marker_6314b6fb16184ec48966499b13010df2%20%3D%20L.marker%28%0A%20%20%20%20%20%20%20%20%20%20%20%20%20%20%20%20%5B53.72432364%2C%20-1.51869509%5D%2C%0A%20%20%20%20%20%20%20%20%20%20%20%20%20%20%20%20%7B%7D%0A%20%20%20%20%20%20%20%20%20%20%20%20%29.addTo%28map_fa4f516e1b994a009bff5282d625be50%29%3B%0A%20%20%20%20%20%20%20%20%0A%20%20%20%20%0A%20%20%20%20%20%20%20%20%20%20%20%20var%20marker_008f201587624231a1aa49effee56b45%20%3D%20L.marker%28%0A%20%20%20%20%20%20%20%20%20%20%20%20%20%20%20%20%5B53.79254705%2C%20-1.66880417%5D%2C%0A%20%20%20%20%20%20%20%20%20%20%20%20%20%20%20%20%7B%7D%0A%20%20%20%20%20%20%20%20%20%20%20%20%29.addTo%28map_fa4f516e1b994a009bff5282d625be50%29%3B%0A%20%20%20%20%20%20%20%20%0A%20%20%20%20%0A%20%20%20%20%20%20%20%20%20%20%20%20var%20marker_1b145b3371d14f6fbde05ace24a26c9b%20%3D%20L.marker%28%0A%20%20%20%20%20%20%20%20%20%20%20%20%20%20%20%20%5B53.81561091%2C%20-1.65622963%5D%2C%0A%20%20%20%20%20%20%20%20%20%20%20%20%20%20%20%20%7B%7D%0A%20%20%20%20%20%20%20%20%20%20%20%20%29.addTo%28map_fa4f516e1b994a009bff5282d625be50%29%3B%0A%20%20%20%20%20%20%20%20%0A%20%20%20%20%0A%20%20%20%20%20%20%20%20%20%20%20%20var%20marker_c90c1c327c99442baa041908f8a50199%20%3D%20L.marker%28%0A%20%20%20%20%20%20%20%20%20%20%20%20%20%20%20%20%5B53.85662605%2C%20-1.5630791%5D%2C%0A%20%20%20%20%20%20%20%20%20%20%20%20%20%20%20%20%7B%7D%0A%20%20%20%20%20%20%20%20%20%20%20%20%29.addTo%28map_fa4f516e1b994a009bff5282d625be50%29%3B%0A%20%20%20%20%20%20%20%20%0A%20%20%20%20%0A%20%20%20%20%20%20%20%20%20%20%20%20var%20marker_54c4636982af41848a1a4fed55eb3f82%20%3D%20L.marker%28%0A%20%20%20%20%20%20%20%20%20%20%20%20%20%20%20%20%5B53.77904657%2C%20-1.53793458%5D%2C%0A%20%20%20%20%20%20%20%20%20%20%20%20%20%20%20%20%7B%7D%0A%20%20%20%20%20%20%20%20%20%20%20%20%29.addTo%28map_fa4f516e1b994a009bff5282d625be50%29%3B%0A%20%20%20%20%20%20%20%20%0A%20%20%20%20%0A%20%20%20%20%20%20%20%20%20%20%20%20var%20marker_c408edb8680a4911bf0ca758feaf1c2c%20%3D%20L.marker%28%0A%20%20%20%20%20%20%20%20%20%20%20%20%20%20%20%20%5B53.81304852%2C%20-1.56444262%5D%2C%0A%20%20%20%20%20%20%20%20%20%20%20%20%20%20%20%20%7B%7D%0A%20%20%20%20%20%20%20%20%20%20%20%20%29.addTo%28map_fa4f516e1b994a009bff5282d625be50%29%3B%0A%20%20%20%20%20%20%20%20%0A%20%20%20%20%0A%20%20%20%20%20%20%20%20%20%20%20%20var%20marker_f475fb2966464b9797421b87f28a951e%20%3D%20L.marker%28%0A%20%20%20%20%20%20%20%20%20%20%20%20%20%20%20%20%5B53.7487526%2C%20-1.53681062%5D%2C%0A%20%20%20%20%20%20%20%20%20%20%20%20%20%20%20%20%7B%7D%0A%20%20%20%20%20%20%20%20%20%20%20%20%29.addTo%28map_fa4f516e1b994a009bff5282d625be50%29%3B%0A%20%20%20%20%20%20%20%20%0A%20%20%20%20%0A%20%20%20%20%20%20%20%20%20%20%20%20var%20marker_f8128a327a904a91a4d69577c6412bb9%20%3D%20L.marker%28%0A%20%20%20%20%20%20%20%20%20%20%20%20%20%20%20%20%5B53.80559251%2C%20-1.68361291%5D%2C%0A%20%20%20%20%20%20%20%20%20%20%20%20%20%20%20%20%7B%7D%0A%20%20%20%20%20%20%20%20%20%20%20%20%29.addTo%28map_fa4f516e1b994a009bff5282d625be50%29%3B%0A%20%20%20%20%20%20%20%20%0A%20%20%20%20%0A%20%20%20%20%20%20%20%20%20%20%20%20var%20marker_5354db5500b84d5da433107119f517ca%20%3D%20L.marker%28%0A%20%20%20%20%20%20%20%20%20%20%20%20%20%20%20%20%5B53.80074116%2C%20-1.61073975%5D%2C%0A%20%20%20%20%20%20%20%20%20%20%20%20%20%20%20%20%7B%7D%0A%20%20%20%20%20%20%20%20%20%20%20%20%29.addTo%28map_fa4f516e1b994a009bff5282d625be50%29%3B%0A%20%20%20%20%20%20%20%20%0A%20%20%20%20%0A%20%20%20%20%20%20%20%20%20%20%20%20var%20marker_dceeab50306a48f5b0bf82e7b7ecafe3%20%3D%20L.marker%28%0A%20%20%20%20%20%20%20%20%20%20%20%20%20%20%20%20%5B53.81111833%2C%20-1.52477963%5D%2C%0A%20%20%20%20%20%20%20%20%20%20%20%20%20%20%20%20%7B%7D%0A%20%20%20%20%20%20%20%20%20%20%20%20%29.addTo%28map_fa4f516e1b994a009bff5282d625be50%29%3B%0A%20%20%20%20%20%20%20%20%0A%20%20%20%20%0A%20%20%20%20%20%20%20%20%20%20%20%20var%20marker_79078e5e6e7b49b58e1be8b95b2f6fcd%20%3D%20L.marker%28%0A%20%20%20%20%20%20%20%20%20%20%20%20%20%20%20%20%5B53.81576833%2C%20-1.5033417%5D%2C%0A%20%20%20%20%20%20%20%20%20%20%20%20%20%20%20%20%7B%7D%0A%20%20%20%20%20%20%20%20%20%20%20%20%29.addTo%28map_fa4f516e1b994a009bff5282d625be50%29%3B%0A%20%20%20%20%20%20%20%20%0A%20%20%20%20%0A%20%20%20%20%20%20%20%20%20%20%20%20var%20marker_e02bb9f767ad4fe78ff83be9ad88f493%20%3D%20L.marker%28%0A%20%20%20%20%20%20%20%20%20%20%20%20%20%20%20%20%5B53.81504758%2C%20-1.473369%5D%2C%0A%20%20%20%20%20%20%20%20%20%20%20%20%20%20%20%20%7B%7D%0A%20%20%20%20%20%20%20%20%20%20%20%20%29.addTo%28map_fa4f516e1b994a009bff5282d625be50%29%3B%0A%20%20%20%20%20%20%20%20%0A%20%20%20%20%0A%20%20%20%20%20%20%20%20%20%20%20%20var%20marker_ee0566fc7552437399c35582f4943ff7%20%3D%20L.marker%28%0A%20%20%20%20%20%20%20%20%20%20%20%20%20%20%20%20%5B53.83692397%2C%20-1.50491614%5D%2C%0A%20%20%20%20%20%20%20%20%20%20%20%20%20%20%20%20%7B%7D%0A%20%20%20%20%20%20%20%20%20%20%20%20%29.addTo%28map_fa4f516e1b994a009bff5282d625be50%29%3B%0A%20%20%20%20%20%20%20%20%0A%20%20%20%20%0A%20%20%20%20%20%20%20%20%20%20%20%20var%20marker_77bf24d77770490e8e93e5fa84490244%20%3D%20L.marker%28%0A%20%20%20%20%20%20%20%20%20%20%20%20%20%20%20%20%5B53.82406264%2C%20-1.39151132%5D%2C%0A%20%20%20%20%20%20%20%20%20%20%20%20%20%20%20%20%7B%7D%0A%20%20%20%20%20%20%20%20%20%20%20%20%29.addTo%28map_fa4f516e1b994a009bff5282d625be50%29%3B%0A%20%20%20%20%20%20%20%20%0A%20%20%20%20%0A%20%20%20%20%20%20%20%20%20%20%20%20var%20marker_ffcec4d152604c939063f6546269a834%20%3D%20L.marker%28%0A%20%20%20%20%20%20%20%20%20%20%20%20%20%20%20%20%5B53.84540778%2C%20-1.51574447%5D%2C%0A%20%20%20%20%20%20%20%20%20%20%20%20%20%20%20%20%7B%7D%0A%20%20%20%20%20%20%20%20%20%20%20%20%29.addTo%28map_fa4f516e1b994a009bff5282d625be50%29%3B%0A%20%20%20%20%20%20%20%20%0A%20%20%20%20%0A%20%20%20%20%20%20%20%20%20%20%20%20var%20marker_c3aa0cb1090a4d2883f2ef63155531d3%20%3D%20L.marker%28%0A%20%20%20%20%20%20%20%20%20%20%20%20%20%20%20%20%5B53.81483206%2C%20-1.51396919%5D%2C%0A%20%20%20%20%20%20%20%20%20%20%20%20%20%20%20%20%7B%7D%0A%20%20%20%20%20%20%20%20%20%20%20%20%29.addTo%28map_fa4f516e1b994a009bff5282d625be50%29%3B%0A%20%20%20%20%20%20%20%20%0A%20%20%20%20%0A%20%20%20%20%20%20%20%20%20%20%20%20var%20marker_f003767f526148a0a7a2577c290ac03e%20%3D%20L.marker%28%0A%20%20%20%20%20%20%20%20%20%20%20%20%20%20%20%20%5B53.77979391%2C%20-1.52446564%5D%2C%0A%20%20%20%20%20%20%20%20%20%20%20%20%20%20%20%20%7B%7D%0A%20%20%20%20%20%20%20%20%20%20%20%20%29.addTo%28map_fa4f516e1b994a009bff5282d625be50%29%3B%0A%20%20%20%20%20%20%20%20%0A%20%20%20%20%0A%20%20%20%20%20%20%20%20%20%20%20%20var%20marker_50b97a71ae564618873374cabc074798%20%3D%20L.marker%28%0A%20%20%20%20%20%20%20%20%20%20%20%20%20%20%20%20%5B53.8177696%2C%20-1.51580361%5D%2C%0A%20%20%20%20%20%20%20%20%20%20%20%20%20%20%20%20%7B%7D%0A%20%20%20%20%20%20%20%20%20%20%20%20%29.addTo%28map_fa4f516e1b994a009bff5282d625be50%29%3B%0A%20%20%20%20%20%20%20%20%0A%20%20%20%20%0A%20%20%20%20%20%20%20%20%20%20%20%20var%20marker_800637c99b354002a8f56a16eec05497%20%3D%20L.marker%28%0A%20%20%20%20%20%20%20%20%20%20%20%20%20%20%20%20%5B53.83306506%2C%20-1.60620184%5D%2C%0A%20%20%20%20%20%20%20%20%20%20%20%20%20%20%20%20%7B%7D%0A%20%20%20%20%20%20%20%20%20%20%20%20%29.addTo%28map_fa4f516e1b994a009bff5282d625be50%29%3B%0A%20%20%20%20%20%20%20%20%0A%20%20%20%20%0A%20%20%20%20%20%20%20%20%20%20%20%20var%20marker_0dc5ac1b17cf48c9be3106665aee3fb1%20%3D%20L.marker%28%0A%20%20%20%20%20%20%20%20%20%20%20%20%20%20%20%20%5B53.81437711%2C%20-1.53294449%5D%2C%0A%20%20%20%20%20%20%20%20%20%20%20%20%20%20%20%20%7B%7D%0A%20%20%20%20%20%20%20%20%20%20%20%20%29.addTo%28map_fa4f516e1b994a009bff5282d625be50%29%3B%0A%20%20%20%20%20%20%20%20%0A%20%20%20%20%0A%20%20%20%20%20%20%20%20%20%20%20%20var%20marker_fd0d9c8758274d768b855de85465992c%20%3D%20L.marker%28%0A%20%20%20%20%20%20%20%20%20%20%20%20%20%20%20%20%5B53.8261413%2C%20-1.53495605%5D%2C%0A%20%20%20%20%20%20%20%20%20%20%20%20%20%20%20%20%7B%7D%0A%20%20%20%20%20%20%20%20%20%20%20%20%29.addTo%28map_fa4f516e1b994a009bff5282d625be50%29%3B%0A%20%20%20%20%20%20%20%20%0A%20%20%20%20%0A%20%20%20%20%20%20%20%20%20%20%20%20var%20marker_1f8d3f9f6d16416fbb93ebc029f24ac0%20%3D%20L.marker%28%0A%20%20%20%20%20%20%20%20%20%20%20%20%20%20%20%20%5B53.84405602%2C%20-1.50822151%5D%2C%0A%20%20%20%20%20%20%20%20%20%20%20%20%20%20%20%20%7B%7D%0A%20%20%20%20%20%20%20%20%20%20%20%20%29.addTo%28map_fa4f516e1b994a009bff5282d625be50%29%3B%0A%20%20%20%20%20%20%20%20%0A%20%20%20%20%0A%20%20%20%20%20%20%20%20%20%20%20%20var%20marker_66c9e10b6133447ba9c966d1491feb06%20%3D%20L.marker%28%0A%20%20%20%20%20%20%20%20%20%20%20%20%20%20%20%20%5B53.78231055%2C%20-1.5982842%5D%2C%0A%20%20%20%20%20%20%20%20%20%20%20%20%20%20%20%20%7B%7D%0A%20%20%20%20%20%20%20%20%20%20%20%20%29.addTo%28map_fa4f516e1b994a009bff5282d625be50%29%3B%0A%20%20%20%20%20%20%20%20%0A%20%20%20%20%0A%20%20%20%20%20%20%20%20%20%20%20%20var%20marker_35bf864b46294c369edc24168171d61a%20%3D%20L.marker%28%0A%20%20%20%20%20%20%20%20%20%20%20%20%20%20%20%20%5B53.82921264%2C%20-1.70112026%5D%2C%0A%20%20%20%20%20%20%20%20%20%20%20%20%20%20%20%20%7B%7D%0A%20%20%20%20%20%20%20%20%20%20%20%20%29.addTo%28map_fa4f516e1b994a009bff5282d625be50%29%3B%0A%20%20%20%20%20%20%20%20%0A%20%20%20%20%0A%20%20%20%20%20%20%20%20%20%20%20%20var%20marker_3f7507591cf343958f4887b26736b6ac%20%3D%20L.marker%28%0A%20%20%20%20%20%20%20%20%20%20%20%20%20%20%20%20%5B53.81134748%2C%20-1.61928245%5D%2C%0A%20%20%20%20%20%20%20%20%20%20%20%20%20%20%20%20%7B%7D%0A%20%20%20%20%20%20%20%20%20%20%20%20%29.addTo%28map_fa4f516e1b994a009bff5282d625be50%29%3B%0A%20%20%20%20%20%20%20%20%0A%20%20%20%20%0A%20%20%20%20%20%20%20%20%20%20%20%20var%20marker_8d46d8e1fa0d48bd8260007df3f977b7%20%3D%20L.marker%28%0A%20%20%20%20%20%20%20%20%20%20%20%20%20%20%20%20%5B53.78627973%2C%20-1.40476128%5D%2C%0A%20%20%20%20%20%20%20%20%20%20%20%20%20%20%20%20%7B%7D%0A%20%20%20%20%20%20%20%20%20%20%20%20%29.addTo%28map_fa4f516e1b994a009bff5282d625be50%29%3B%0A%20%20%20%20%20%20%20%20%0A%20%20%20%20%0A%20%20%20%20%20%20%20%20%20%20%20%20var%20marker_66eb6a5ca33c48bfa0fe732fb83eee08%20%3D%20L.marker%28%0A%20%20%20%20%20%20%20%20%20%20%20%20%20%20%20%20%5B53.80112308%2C%20-1.54314304%5D%2C%0A%20%20%20%20%20%20%20%20%20%20%20%20%20%20%20%20%7B%7D%0A%20%20%20%20%20%20%20%20%20%20%20%20%29.addTo%28map_fa4f516e1b994a009bff5282d625be50%29%3B%0A%20%20%20%20%20%20%20%20%0A%20%20%20%20%0A%20%20%20%20%20%20%20%20%20%20%20%20var%20marker_aa66598bd36c4fe288aa453a6aab94f0%20%3D%20L.marker%28%0A%20%20%20%20%20%20%20%20%20%20%20%20%20%20%20%20%5B53.80650901%2C%20-1.53666114%5D%2C%0A%20%20%20%20%20%20%20%20%20%20%20%20%20%20%20%20%7B%7D%0A%20%20%20%20%20%20%20%20%20%20%20%20%29.addTo%28map_fa4f516e1b994a009bff5282d625be50%29%3B%0A%20%20%20%20%20%20%20%20%0A%20%20%20%20%0A%20%20%20%20%20%20%20%20%20%20%20%20var%20marker_1e3531d7f7c744e6894192344d66618c%20%3D%20L.marker%28%0A%20%20%20%20%20%20%20%20%20%20%20%20%20%20%20%20%5B53.83791145%2C%20-1.59328571%5D%2C%0A%20%20%20%20%20%20%20%20%20%20%20%20%20%20%20%20%7B%7D%0A%20%20%20%20%20%20%20%20%20%20%20%20%29.addTo%28map_fa4f516e1b994a009bff5282d625be50%29%3B%0A%20%20%20%20%20%20%20%20%0A%20%20%20%20%0A%20%20%20%20%20%20%20%20%20%20%20%20var%20marker_87c9e7c9635748f6a514fd594d002b1d%20%3D%20L.marker%28%0A%20%20%20%20%20%20%20%20%20%20%20%20%20%20%20%20%5B53.83723941%2C%20-1.50512519%5D%2C%0A%20%20%20%20%20%20%20%20%20%20%20%20%20%20%20%20%7B%7D%0A%20%20%20%20%20%20%20%20%20%20%20%20%29.addTo%28map_fa4f516e1b994a009bff5282d625be50%29%3B%0A%20%20%20%20%20%20%20%20%0A%20%20%20%20%0A%20%20%20%20%20%20%20%20%20%20%20%20var%20marker_4be9901166784d188ffac4948ca02375%20%3D%20L.marker%28%0A%20%20%20%20%20%20%20%20%20%20%20%20%20%20%20%20%5B53.82908544%2C%20-1.45882098%5D%2C%0A%20%20%20%20%20%20%20%20%20%20%20%20%20%20%20%20%7B%7D%0A%20%20%20%20%20%20%20%20%20%20%20%20%29.addTo%28map_fa4f516e1b994a009bff5282d625be50%29%3B%0A%20%20%20%20%20%20%20%20%0A%20%20%20%20%0A%20%20%20%20%20%20%20%20%20%20%20%20var%20marker_b93faec073a64e3399454fe4373a8be8%20%3D%20L.marker%28%0A%20%20%20%20%20%20%20%20%20%20%20%20%20%20%20%20%5B53.82094329%2C%20-1.58050751%5D%2C%0A%20%20%20%20%20%20%20%20%20%20%20%20%20%20%20%20%7B%7D%0A%20%20%20%20%20%20%20%20%20%20%20%20%29.addTo%28map_fa4f516e1b994a009bff5282d625be50%29%3B%0A%20%20%20%20%20%20%20%20%0A%20%20%20%20%0A%20%20%20%20%20%20%20%20%20%20%20%20var%20marker_1fa2b89ecea048df9187b7032a18a358%20%3D%20L.marker%28%0A%20%20%20%20%20%20%20%20%20%20%20%20%20%20%20%20%5B53.84269836%2C%20-1.58175017%5D%2C%0A%20%20%20%20%20%20%20%20%20%20%20%20%20%20%20%20%7B%7D%0A%20%20%20%20%20%20%20%20%20%20%20%20%29.addTo%28map_fa4f516e1b994a009bff5282d625be50%29%3B%0A%20%20%20%20%20%20%20%20%0A%20%20%20%20%0A%20%20%20%20%20%20%20%20%20%20%20%20var%20marker_00e2f12a167b4478986f7ff48956f947%20%3D%20L.marker%28%0A%20%20%20%20%20%20%20%20%20%20%20%20%20%20%20%20%5B53.77206405%2C%20-1.57988702%5D%2C%0A%20%20%20%20%20%20%20%20%20%20%20%20%20%20%20%20%7B%7D%0A%20%20%20%20%20%20%20%20%20%20%20%20%29.addTo%28map_fa4f516e1b994a009bff5282d625be50%29%3B%0A%20%20%20%20%20%20%20%20%0A%20%20%20%20%0A%20%20%20%20%20%20%20%20%20%20%20%20var%20marker_0752fb9b6671484ea38cbdde922c4395%20%3D%20L.marker%28%0A%20%20%20%20%20%20%20%20%20%20%20%20%20%20%20%20%5B53.74384334%2C%20-1.45309184%5D%2C%0A%20%20%20%20%20%20%20%20%20%20%20%20%20%20%20%20%7B%7D%0A%20%20%20%20%20%20%20%20%20%20%20%20%29.addTo%28map_fa4f516e1b994a009bff5282d625be50%29%3B%0A%20%20%20%20%20%20%20%20%0A%20%20%20%20%0A%20%20%20%20%20%20%20%20%20%20%20%20var%20marker_cdff7f2a04af45b999501afd204119f5%20%3D%20L.marker%28%0A%20%20%20%20%20%20%20%20%20%20%20%20%20%20%20%20%5B53.79298183%2C%20-1.52285913%5D%2C%0A%20%20%20%20%20%20%20%20%20%20%20%20%20%20%20%20%7B%7D%0A%20%20%20%20%20%20%20%20%20%20%20%20%29.addTo%28map_fa4f516e1b994a009bff5282d625be50%29%3B%0A%20%20%20%20%20%20%20%20%0A%20%20%20%20%0A%20%20%20%20%20%20%20%20%20%20%20%20var%20marker_a1bba243e0204da1a914980decc1ccb6%20%3D%20L.marker%28%0A%20%20%20%20%20%20%20%20%20%20%20%20%20%20%20%20%5B53.74484287%2C%20-1.53218346%5D%2C%0A%20%20%20%20%20%20%20%20%20%20%20%20%20%20%20%20%7B%7D%0A%20%20%20%20%20%20%20%20%20%20%20%20%29.addTo%28map_fa4f516e1b994a009bff5282d625be50%29%3B%0A%20%20%20%20%20%20%20%20%0A%20%20%20%20%0A%20%20%20%20%20%20%20%20%20%20%20%20var%20marker_5b577cd7263b44dc99b0ea3d0961128b%20%3D%20L.marker%28%0A%20%20%20%20%20%20%20%20%20%20%20%20%20%20%20%20%5B53.86556164%2C%20-1.67761059%5D%2C%0A%20%20%20%20%20%20%20%20%20%20%20%20%20%20%20%20%7B%7D%0A%20%20%20%20%20%20%20%20%20%20%20%20%29.addTo%28map_fa4f516e1b994a009bff5282d625be50%29%3B%0A%20%20%20%20%20%20%20%20%0A%20%20%20%20%0A%20%20%20%20%20%20%20%20%20%20%20%20var%20marker_0ff150ddaab447768b7338c61e221dd6%20%3D%20L.marker%28%0A%20%20%20%20%20%20%20%20%20%20%20%20%20%20%20%20%5B53.77974659%2C%20-1.56909673%5D%2C%0A%20%20%20%20%20%20%20%20%20%20%20%20%20%20%20%20%7B%7D%0A%20%20%20%20%20%20%20%20%20%20%20%20%29.addTo%28map_fa4f516e1b994a009bff5282d625be50%29%3B%0A%20%20%20%20%20%20%20%20%0A%20%20%20%20%0A%20%20%20%20%20%20%20%20%20%20%20%20var%20marker_dbd404287f5246fc81e7ab368cbd052c%20%3D%20L.marker%28%0A%20%20%20%20%20%20%20%20%20%20%20%20%20%20%20%20%5B53.82705702%2C%20-1.56092512%5D%2C%0A%20%20%20%20%20%20%20%20%20%20%20%20%20%20%20%20%7B%7D%0A%20%20%20%20%20%20%20%20%20%20%20%20%29.addTo%28map_fa4f516e1b994a009bff5282d625be50%29%3B%0A%20%20%20%20%20%20%20%20%0A%20%20%20%20%0A%20%20%20%20%20%20%20%20%20%20%20%20var%20marker_6a85374401db4bc0a932d750a8ffd7db%20%3D%20L.marker%28%0A%20%20%20%20%20%20%20%20%20%20%20%20%20%20%20%20%5B53.72808869%2C%20-1.47974448%5D%2C%0A%20%20%20%20%20%20%20%20%20%20%20%20%20%20%20%20%7B%7D%0A%20%20%20%20%20%20%20%20%20%20%20%20%29.addTo%28map_fa4f516e1b994a009bff5282d625be50%29%3B%0A%20%20%20%20%20%20%20%20%0A%20%20%20%20%0A%20%20%20%20%20%20%20%20%20%20%20%20var%20marker_6c77a264e3074533a9a0313c730d3db2%20%3D%20L.marker%28%0A%20%20%20%20%20%20%20%20%20%20%20%20%20%20%20%20%5B53.79524132%2C%20-1.55413699%5D%2C%0A%20%20%20%20%20%20%20%20%20%20%20%20%20%20%20%20%7B%7D%0A%20%20%20%20%20%20%20%20%20%20%20%20%29.addTo%28map_fa4f516e1b994a009bff5282d625be50%29%3B%0A%20%20%20%20%20%20%20%20%0A%20%20%20%20%0A%20%20%20%20%20%20%20%20%20%20%20%20var%20marker_e06493c5e50c450096ddc5af59270de4%20%3D%20L.marker%28%0A%20%20%20%20%20%20%20%20%20%20%20%20%20%20%20%20%5B53.79335362%2C%20-1.54688579%5D%2C%0A%20%20%20%20%20%20%20%20%20%20%20%20%20%20%20%20%7B%7D%0A%20%20%20%20%20%20%20%20%20%20%20%20%29.addTo%28map_fa4f516e1b994a009bff5282d625be50%29%3B%0A%20%20%20%20%20%20%20%20%0A%20%20%20%20%0A%20%20%20%20%20%20%20%20%20%20%20%20var%20marker_79a21c08f61e480b8c7fb180dd38c657%20%3D%20L.marker%28%0A%20%20%20%20%20%20%20%20%20%20%20%20%20%20%20%20%5B53.79657079%2C%20-1.474025%5D%2C%0A%20%20%20%20%20%20%20%20%20%20%20%20%20%20%20%20%7B%7D%0A%20%20%20%20%20%20%20%20%20%20%20%20%29.addTo%28map_fa4f516e1b994a009bff5282d625be50%29%3B%0A%20%20%20%20%20%20%20%20%0A%20%20%20%20%0A%20%20%20%20%20%20%20%20%20%20%20%20var%20marker_436ac16e343843a8921fc122acaf8332%20%3D%20L.marker%28%0A%20%20%20%20%20%20%20%20%20%20%20%20%20%20%20%20%5B53.81800632%2C%20-1.51432752%5D%2C%0A%20%20%20%20%20%20%20%20%20%20%20%20%20%20%20%20%7B%7D%0A%20%20%20%20%20%20%20%20%20%20%20%20%29.addTo%28map_fa4f516e1b994a009bff5282d625be50%29%3B%0A%20%20%20%20%20%20%20%20%0A%20%20%20%20%0A%20%20%20%20%20%20%20%20%20%20%20%20var%20marker_b419d2b3ec104b28b4bd794015ddce67%20%3D%20L.marker%28%0A%20%20%20%20%20%20%20%20%20%20%20%20%20%20%20%20%5B53.82578933%2C%20-1.62158278%5D%2C%0A%20%20%20%20%20%20%20%20%20%20%20%20%20%20%20%20%7B%7D%0A%20%20%20%20%20%20%20%20%20%20%20%20%29.addTo%28map_fa4f516e1b994a009bff5282d625be50%29%3B%0A%20%20%20%20%20%20%20%20%0A%20%20%20%20%0A%20%20%20%20%20%20%20%20%20%20%20%20var%20marker_2f28162e596c433ebc7b5c701b4ded63%20%3D%20L.marker%28%0A%20%20%20%20%20%20%20%20%20%20%20%20%20%20%20%20%5B53.87224955%2C%20-1.71351144%5D%2C%0A%20%20%20%20%20%20%20%20%20%20%20%20%20%20%20%20%7B%7D%0A%20%20%20%20%20%20%20%20%20%20%20%20%29.addTo%28map_fa4f516e1b994a009bff5282d625be50%29%3B%0A%20%20%20%20%20%20%20%20%0A%20%20%20%20%0A%20%20%20%20%20%20%20%20%20%20%20%20var%20marker_c73a9c68544b47a1ae9dd5299e56f617%20%3D%20L.marker%28%0A%20%20%20%20%20%20%20%20%20%20%20%20%20%20%20%20%5B53.78129581%2C%20-1.59588097%5D%2C%0A%20%20%20%20%20%20%20%20%20%20%20%20%20%20%20%20%7B%7D%0A%20%20%20%20%20%20%20%20%20%20%20%20%29.addTo%28map_fa4f516e1b994a009bff5282d625be50%29%3B%0A%20%20%20%20%20%20%20%20%0A%3C/script%3E onload=\"this.contentDocument.open();this.contentDocument.write(    decodeURIComponent(this.getAttribute('data-html')));this.contentDocument.close();\" allowfullscreen webkitallowfullscreen mozallowfullscreen></iframe></div></div>"
      ],
      "text/plain": [
       "<folium.folium.Map at 0x7f8c5a35bb50>"
      ]
     },
     "execution_count": 158,
     "metadata": {},
     "output_type": "execute_result"
    }
   ],
   "source": [
    "sample_location_car_100 = sample(locationlist_car,100)\n",
    "\n",
    "map = folium.Map(location=[53.82180298, -1.55955206], zoom_start=12)\n",
    "for point in range(0, len(sample_location_car_100)):\n",
    "    folium.Marker(sample_location_car_100[point]).add_to(map)\n",
    "map\n"
   ]
  },
  {
   "cell_type": "markdown",
   "id": "8c7b4824",
   "metadata": {
    "cell_id": "00170-a53e78d6-1591-448d-843e-38b9c16f30b0",
    "deepnote_app_coordinates": {
     "h": 5,
     "w": 12,
     "x": 0,
     "y": 1017
    },
    "deepnote_cell_type": "markdown",
    "tags": []
   },
   "source": [
    "##### Pedal cycle Accident locations Random Sample 100"
   ]
  },
  {
   "cell_type": "code",
   "execution_count": 114,
   "id": "428bdb19",
   "metadata": {
    "ExecuteTime": {
     "end_time": "2021-11-08T09:35:43.953231Z",
     "start_time": "2021-11-08T09:35:43.941143Z"
    },
    "cell_id": "00171-8a3b1d80-48db-4c0f-813b-e7461c74d089",
    "deepnote_app_coordinates": {
     "h": 5,
     "w": 12,
     "x": 0,
     "y": 1023
    },
    "deepnote_cell_type": "code",
    "deepnote_to_be_reexecuted": true,
    "execution_millis": 12,
    "execution_start": 1636224944019,
    "source_hash": "a5f6aedb",
    "tags": []
   },
   "outputs": [
    {
     "data": {
      "text/plain": [
       "[53.82310283, -1.61337338]"
      ]
     },
     "execution_count": 114,
     "metadata": {},
     "output_type": "execute_result"
    }
   ],
   "source": [
    "#locations_pcycle = data[data.type_of_vehicle == 'Pedal cycle'][['latitude', 'longitude']]\n",
    "locations_pcycle = data[data.type_of_vehicle.eq(\"Pedal cycle\")][['latitude', 'longitude']]\n",
    "locationlist_pcycle = (locations_pcycle[['latitude', 'longitude']]).values.tolist()\n",
    "len(locationlist_pcycle)\n",
    "locationlist_pcycle[0]"
   ]
  },
  {
   "cell_type": "code",
   "execution_count": null,
   "id": "7a711be1",
   "metadata": {
    "cell_id": "00172-d7973332-618f-45c0-b657-9f97d66fc4d6",
    "deepnote_app_coordinates": {
     "h": 5,
     "w": 12,
     "x": 0,
     "y": 1029
    },
    "deepnote_cell_type": "code",
    "deepnote_to_be_reexecuted": true,
    "execution_millis": 234,
    "execution_start": 1636224964192,
    "source_hash": "1a74c587",
    "tags": []
   },
   "outputs": [
    {
     "data": {
      "text/html": [
       "<div style=\"width:100%;\"><div style=\"position:relative;width:100%;height:0;padding-bottom:60%;\"><span style=\"color:#565656\">Make this Notebook Trusted to load map: File -> Trust Notebook</span><iframe src=\"about:blank\" style=\"position:absolute;width:100%;height:100%;left:0;top:0;border:none !important;\" data-html=%3C%21DOCTYPE%20html%3E%0A%3Chead%3E%20%20%20%20%0A%20%20%20%20%3Cmeta%20http-equiv%3D%22content-type%22%20content%3D%22text/html%3B%20charset%3DUTF-8%22%20/%3E%0A%20%20%20%20%0A%20%20%20%20%20%20%20%20%3Cscript%3E%0A%20%20%20%20%20%20%20%20%20%20%20%20L_NO_TOUCH%20%3D%20false%3B%0A%20%20%20%20%20%20%20%20%20%20%20%20L_DISABLE_3D%20%3D%20false%3B%0A%20%20%20%20%20%20%20%20%3C/script%3E%0A%20%20%20%20%0A%20%20%20%20%3Cstyle%3Ehtml%2C%20body%20%7Bwidth%3A%20100%25%3Bheight%3A%20100%25%3Bmargin%3A%200%3Bpadding%3A%200%3B%7D%3C/style%3E%0A%20%20%20%20%3Cstyle%3E%23map%20%7Bposition%3Aabsolute%3Btop%3A0%3Bbottom%3A0%3Bright%3A0%3Bleft%3A0%3B%7D%3C/style%3E%0A%20%20%20%20%3Cscript%20src%3D%22https%3A//cdn.jsdelivr.net/npm/leaflet%401.6.0/dist/leaflet.js%22%3E%3C/script%3E%0A%20%20%20%20%3Cscript%20src%3D%22https%3A//code.jquery.com/jquery-1.12.4.min.js%22%3E%3C/script%3E%0A%20%20%20%20%3Cscript%20src%3D%22https%3A//maxcdn.bootstrapcdn.com/bootstrap/3.2.0/js/bootstrap.min.js%22%3E%3C/script%3E%0A%20%20%20%20%3Cscript%20src%3D%22https%3A//cdnjs.cloudflare.com/ajax/libs/Leaflet.awesome-markers/2.0.2/leaflet.awesome-markers.js%22%3E%3C/script%3E%0A%20%20%20%20%3Clink%20rel%3D%22stylesheet%22%20href%3D%22https%3A//cdn.jsdelivr.net/npm/leaflet%401.6.0/dist/leaflet.css%22/%3E%0A%20%20%20%20%3Clink%20rel%3D%22stylesheet%22%20href%3D%22https%3A//maxcdn.bootstrapcdn.com/bootstrap/3.2.0/css/bootstrap.min.css%22/%3E%0A%20%20%20%20%3Clink%20rel%3D%22stylesheet%22%20href%3D%22https%3A//maxcdn.bootstrapcdn.com/bootstrap/3.2.0/css/bootstrap-theme.min.css%22/%3E%0A%20%20%20%20%3Clink%20rel%3D%22stylesheet%22%20href%3D%22https%3A//maxcdn.bootstrapcdn.com/font-awesome/4.6.3/css/font-awesome.min.css%22/%3E%0A%20%20%20%20%3Clink%20rel%3D%22stylesheet%22%20href%3D%22https%3A//cdnjs.cloudflare.com/ajax/libs/Leaflet.awesome-markers/2.0.2/leaflet.awesome-markers.css%22/%3E%0A%20%20%20%20%3Clink%20rel%3D%22stylesheet%22%20href%3D%22https%3A//cdn.jsdelivr.net/gh/python-visualization/folium/folium/templates/leaflet.awesome.rotate.min.css%22/%3E%0A%20%20%20%20%0A%20%20%20%20%20%20%20%20%20%20%20%20%3Cmeta%20name%3D%22viewport%22%20content%3D%22width%3Ddevice-width%2C%0A%20%20%20%20%20%20%20%20%20%20%20%20%20%20%20%20initial-scale%3D1.0%2C%20maximum-scale%3D1.0%2C%20user-scalable%3Dno%22%20/%3E%0A%20%20%20%20%20%20%20%20%20%20%20%20%3Cstyle%3E%0A%20%20%20%20%20%20%20%20%20%20%20%20%20%20%20%20%23map_9c9e6958df21434b89b071a654bb23fd%20%7B%0A%20%20%20%20%20%20%20%20%20%20%20%20%20%20%20%20%20%20%20%20position%3A%20relative%3B%0A%20%20%20%20%20%20%20%20%20%20%20%20%20%20%20%20%20%20%20%20width%3A%20100.0%25%3B%0A%20%20%20%20%20%20%20%20%20%20%20%20%20%20%20%20%20%20%20%20height%3A%20100.0%25%3B%0A%20%20%20%20%20%20%20%20%20%20%20%20%20%20%20%20%20%20%20%20left%3A%200.0%25%3B%0A%20%20%20%20%20%20%20%20%20%20%20%20%20%20%20%20%20%20%20%20top%3A%200.0%25%3B%0A%20%20%20%20%20%20%20%20%20%20%20%20%20%20%20%20%7D%0A%20%20%20%20%20%20%20%20%20%20%20%20%3C/style%3E%0A%20%20%20%20%20%20%20%20%0A%3C/head%3E%0A%3Cbody%3E%20%20%20%20%0A%20%20%20%20%0A%20%20%20%20%20%20%20%20%20%20%20%20%3Cdiv%20class%3D%22folium-map%22%20id%3D%22map_9c9e6958df21434b89b071a654bb23fd%22%20%3E%3C/div%3E%0A%20%20%20%20%20%20%20%20%0A%3C/body%3E%0A%3Cscript%3E%20%20%20%20%0A%20%20%20%20%0A%20%20%20%20%20%20%20%20%20%20%20%20var%20map_9c9e6958df21434b89b071a654bb23fd%20%3D%20L.map%28%0A%20%20%20%20%20%20%20%20%20%20%20%20%20%20%20%20%22map_9c9e6958df21434b89b071a654bb23fd%22%2C%0A%20%20%20%20%20%20%20%20%20%20%20%20%20%20%20%20%7B%0A%20%20%20%20%20%20%20%20%20%20%20%20%20%20%20%20%20%20%20%20center%3A%20%5B53.82310283%2C%20-1.61337338%5D%2C%0A%20%20%20%20%20%20%20%20%20%20%20%20%20%20%20%20%20%20%20%20crs%3A%20L.CRS.EPSG3857%2C%0A%20%20%20%20%20%20%20%20%20%20%20%20%20%20%20%20%20%20%20%20zoom%3A%2012%2C%0A%20%20%20%20%20%20%20%20%20%20%20%20%20%20%20%20%20%20%20%20zoomControl%3A%20true%2C%0A%20%20%20%20%20%20%20%20%20%20%20%20%20%20%20%20%20%20%20%20preferCanvas%3A%20false%2C%0A%20%20%20%20%20%20%20%20%20%20%20%20%20%20%20%20%7D%0A%20%20%20%20%20%20%20%20%20%20%20%20%29%3B%0A%0A%20%20%20%20%20%20%20%20%20%20%20%20%0A%0A%20%20%20%20%20%20%20%20%0A%20%20%20%20%0A%20%20%20%20%20%20%20%20%20%20%20%20var%20tile_layer_82c610e1735144ff9e2ab41253ad009d%20%3D%20L.tileLayer%28%0A%20%20%20%20%20%20%20%20%20%20%20%20%20%20%20%20%22https%3A//%7Bs%7D.tile.openstreetmap.org/%7Bz%7D/%7Bx%7D/%7By%7D.png%22%2C%0A%20%20%20%20%20%20%20%20%20%20%20%20%20%20%20%20%7B%22attribution%22%3A%20%22Data%20by%20%5Cu0026copy%3B%20%5Cu003ca%20href%3D%5C%22http%3A//openstreetmap.org%5C%22%5Cu003eOpenStreetMap%5Cu003c/a%5Cu003e%2C%20under%20%5Cu003ca%20href%3D%5C%22http%3A//www.openstreetmap.org/copyright%5C%22%5Cu003eODbL%5Cu003c/a%5Cu003e.%22%2C%20%22detectRetina%22%3A%20false%2C%20%22maxNativeZoom%22%3A%2018%2C%20%22maxZoom%22%3A%2018%2C%20%22minZoom%22%3A%200%2C%20%22noWrap%22%3A%20false%2C%20%22opacity%22%3A%201%2C%20%22subdomains%22%3A%20%22abc%22%2C%20%22tms%22%3A%20false%7D%0A%20%20%20%20%20%20%20%20%20%20%20%20%29.addTo%28map_9c9e6958df21434b89b071a654bb23fd%29%3B%0A%20%20%20%20%20%20%20%20%0A%20%20%20%20%0A%20%20%20%20%20%20%20%20%20%20%20%20var%20marker_6e7c9cd2dac54a2cb1470e494b421f90%20%3D%20L.marker%28%0A%20%20%20%20%20%20%20%20%20%20%20%20%20%20%20%20%5B53.73339908%2C%20-1.57281376%5D%2C%0A%20%20%20%20%20%20%20%20%20%20%20%20%20%20%20%20%7B%7D%0A%20%20%20%20%20%20%20%20%20%20%20%20%29.addTo%28map_9c9e6958df21434b89b071a654bb23fd%29%3B%0A%20%20%20%20%20%20%20%20%0A%20%20%20%20%0A%20%20%20%20%20%20%20%20%20%20%20%20var%20marker_cfe3e81ee02c47c292bfaeb4669430db%20%3D%20L.marker%28%0A%20%20%20%20%20%20%20%20%20%20%20%20%20%20%20%20%5B53.78349097%2C%20-1.58333929%5D%2C%0A%20%20%20%20%20%20%20%20%20%20%20%20%20%20%20%20%7B%7D%0A%20%20%20%20%20%20%20%20%20%20%20%20%29.addTo%28map_9c9e6958df21434b89b071a654bb23fd%29%3B%0A%20%20%20%20%20%20%20%20%0A%20%20%20%20%0A%20%20%20%20%20%20%20%20%20%20%20%20var%20marker_8fbb281265e54f15b9393007491cc78f%20%3D%20L.marker%28%0A%20%20%20%20%20%20%20%20%20%20%20%20%20%20%20%20%5B53.85919716%2C%20-1.69088681%5D%2C%0A%20%20%20%20%20%20%20%20%20%20%20%20%20%20%20%20%7B%7D%0A%20%20%20%20%20%20%20%20%20%20%20%20%29.addTo%28map_9c9e6958df21434b89b071a654bb23fd%29%3B%0A%20%20%20%20%20%20%20%20%0A%20%20%20%20%0A%20%20%20%20%20%20%20%20%20%20%20%20var%20marker_3b2ec7056d4142bb9c4ef8cf33cfd25f%20%3D%20L.marker%28%0A%20%20%20%20%20%20%20%20%20%20%20%20%20%20%20%20%5B53.73436844%2C%20-1.53364875%5D%2C%0A%20%20%20%20%20%20%20%20%20%20%20%20%20%20%20%20%7B%7D%0A%20%20%20%20%20%20%20%20%20%20%20%20%29.addTo%28map_9c9e6958df21434b89b071a654bb23fd%29%3B%0A%20%20%20%20%20%20%20%20%0A%20%20%20%20%0A%20%20%20%20%20%20%20%20%20%20%20%20var%20marker_d96ced45671441f09869201c3f5143e9%20%3D%20L.marker%28%0A%20%20%20%20%20%20%20%20%20%20%20%20%20%20%20%20%5B53.80394004%2C%20-1.57598511%5D%2C%0A%20%20%20%20%20%20%20%20%20%20%20%20%20%20%20%20%7B%7D%0A%20%20%20%20%20%20%20%20%20%20%20%20%29.addTo%28map_9c9e6958df21434b89b071a654bb23fd%29%3B%0A%20%20%20%20%20%20%20%20%0A%20%20%20%20%0A%20%20%20%20%20%20%20%20%20%20%20%20var%20marker_83ec497e141a42478efed5c38e952967%20%3D%20L.marker%28%0A%20%20%20%20%20%20%20%20%20%20%20%20%20%20%20%20%5B53.82814714%2C%20-1.56658045%5D%2C%0A%20%20%20%20%20%20%20%20%20%20%20%20%20%20%20%20%7B%7D%0A%20%20%20%20%20%20%20%20%20%20%20%20%29.addTo%28map_9c9e6958df21434b89b071a654bb23fd%29%3B%0A%20%20%20%20%20%20%20%20%0A%20%20%20%20%0A%20%20%20%20%20%20%20%20%20%20%20%20var%20marker_7e569cec7cb0423a82dffcef4b0919e3%20%3D%20L.marker%28%0A%20%20%20%20%20%20%20%20%20%20%20%20%20%20%20%20%5B53.8591407%2C%20-1.61517207%5D%2C%0A%20%20%20%20%20%20%20%20%20%20%20%20%20%20%20%20%7B%7D%0A%20%20%20%20%20%20%20%20%20%20%20%20%29.addTo%28map_9c9e6958df21434b89b071a654bb23fd%29%3B%0A%20%20%20%20%20%20%20%20%0A%20%20%20%20%0A%20%20%20%20%20%20%20%20%20%20%20%20var%20marker_e9591a046414471088bb3059c1652331%20%3D%20L.marker%28%0A%20%20%20%20%20%20%20%20%20%20%20%20%20%20%20%20%5B53.79992543%2C%20-1.54491726%5D%2C%0A%20%20%20%20%20%20%20%20%20%20%20%20%20%20%20%20%7B%7D%0A%20%20%20%20%20%20%20%20%20%20%20%20%29.addTo%28map_9c9e6958df21434b89b071a654bb23fd%29%3B%0A%20%20%20%20%20%20%20%20%0A%20%20%20%20%0A%20%20%20%20%20%20%20%20%20%20%20%20var%20marker_864b3317d7d542f5b518fe97afb92005%20%3D%20L.marker%28%0A%20%20%20%20%20%20%20%20%20%20%20%20%20%20%20%20%5B53.81474634%2C%20-1.56172171%5D%2C%0A%20%20%20%20%20%20%20%20%20%20%20%20%20%20%20%20%7B%7D%0A%20%20%20%20%20%20%20%20%20%20%20%20%29.addTo%28map_9c9e6958df21434b89b071a654bb23fd%29%3B%0A%20%20%20%20%20%20%20%20%0A%20%20%20%20%0A%20%20%20%20%20%20%20%20%20%20%20%20var%20marker_7d9af0fe8fde4e4da175799e9f0204f1%20%3D%20L.marker%28%0A%20%20%20%20%20%20%20%20%20%20%20%20%20%20%20%20%5B53.81096522%2C%20-1.59582327%5D%2C%0A%20%20%20%20%20%20%20%20%20%20%20%20%20%20%20%20%7B%7D%0A%20%20%20%20%20%20%20%20%20%20%20%20%29.addTo%28map_9c9e6958df21434b89b071a654bb23fd%29%3B%0A%20%20%20%20%20%20%20%20%0A%20%20%20%20%0A%20%20%20%20%20%20%20%20%20%20%20%20var%20marker_ad7b25cda22744a79234a2b1b15bc2d9%20%3D%20L.marker%28%0A%20%20%20%20%20%20%20%20%20%20%20%20%20%20%20%20%5B53.78624401%2C%20-1.40480732%5D%2C%0A%20%20%20%20%20%20%20%20%20%20%20%20%20%20%20%20%7B%7D%0A%20%20%20%20%20%20%20%20%20%20%20%20%29.addTo%28map_9c9e6958df21434b89b071a654bb23fd%29%3B%0A%20%20%20%20%20%20%20%20%0A%20%20%20%20%0A%20%20%20%20%20%20%20%20%20%20%20%20var%20marker_8f92d9c823884963b7d7494bb636e74a%20%3D%20L.marker%28%0A%20%20%20%20%20%20%20%20%20%20%20%20%20%20%20%20%5B53.77718564%2C%20-1.54488969%5D%2C%0A%20%20%20%20%20%20%20%20%20%20%20%20%20%20%20%20%7B%7D%0A%20%20%20%20%20%20%20%20%20%20%20%20%29.addTo%28map_9c9e6958df21434b89b071a654bb23fd%29%3B%0A%20%20%20%20%20%20%20%20%0A%20%20%20%20%0A%20%20%20%20%20%20%20%20%20%20%20%20var%20marker_3a55122525eb49b3822ed3a9e3e69c51%20%3D%20L.marker%28%0A%20%20%20%20%20%20%20%20%20%20%20%20%20%20%20%20%5B53.76603682%2C%20-1.57331767%5D%2C%0A%20%20%20%20%20%20%20%20%20%20%20%20%20%20%20%20%7B%7D%0A%20%20%20%20%20%20%20%20%20%20%20%20%29.addTo%28map_9c9e6958df21434b89b071a654bb23fd%29%3B%0A%20%20%20%20%20%20%20%20%0A%20%20%20%20%0A%20%20%20%20%20%20%20%20%20%20%20%20var%20marker_15321d4fae63495990970549fb0d52df%20%3D%20L.marker%28%0A%20%20%20%20%20%20%20%20%20%20%20%20%20%20%20%20%5B53.80994076%2C%20-1.5552114%5D%2C%0A%20%20%20%20%20%20%20%20%20%20%20%20%20%20%20%20%7B%7D%0A%20%20%20%20%20%20%20%20%20%20%20%20%29.addTo%28map_9c9e6958df21434b89b071a654bb23fd%29%3B%0A%20%20%20%20%20%20%20%20%0A%20%20%20%20%0A%20%20%20%20%20%20%20%20%20%20%20%20var%20marker_6194f9b18048454589315a9747428d4b%20%3D%20L.marker%28%0A%20%20%20%20%20%20%20%20%20%20%20%20%20%20%20%20%5B53.85548281%2C%20-1.68306991%5D%2C%0A%20%20%20%20%20%20%20%20%20%20%20%20%20%20%20%20%7B%7D%0A%20%20%20%20%20%20%20%20%20%20%20%20%29.addTo%28map_9c9e6958df21434b89b071a654bb23fd%29%3B%0A%20%20%20%20%20%20%20%20%0A%20%20%20%20%0A%20%20%20%20%20%20%20%20%20%20%20%20var%20marker_3f2eefe1734a424c8b2add33ab5d4995%20%3D%20L.marker%28%0A%20%20%20%20%20%20%20%20%20%20%20%20%20%20%20%20%5B53.82595467%2C%20-1.55934152%5D%2C%0A%20%20%20%20%20%20%20%20%20%20%20%20%20%20%20%20%7B%7D%0A%20%20%20%20%20%20%20%20%20%20%20%20%29.addTo%28map_9c9e6958df21434b89b071a654bb23fd%29%3B%0A%20%20%20%20%20%20%20%20%0A%20%20%20%20%0A%20%20%20%20%20%20%20%20%20%20%20%20var%20marker_af122f52321541569474aa8d1c2e8b15%20%3D%20L.marker%28%0A%20%20%20%20%20%20%20%20%20%20%20%20%20%20%20%20%5B53.80294322%2C%20-1.69846703%5D%2C%0A%20%20%20%20%20%20%20%20%20%20%20%20%20%20%20%20%7B%7D%0A%20%20%20%20%20%20%20%20%20%20%20%20%29.addTo%28map_9c9e6958df21434b89b071a654bb23fd%29%3B%0A%20%20%20%20%20%20%20%20%0A%20%20%20%20%0A%20%20%20%20%20%20%20%20%20%20%20%20var%20marker_1f670cac1d4949a2966d36d7a662ddb3%20%3D%20L.marker%28%0A%20%20%20%20%20%20%20%20%20%20%20%20%20%20%20%20%5B53.8679311%2C%20-1.72318224%5D%2C%0A%20%20%20%20%20%20%20%20%20%20%20%20%20%20%20%20%7B%7D%0A%20%20%20%20%20%20%20%20%20%20%20%20%29.addTo%28map_9c9e6958df21434b89b071a654bb23fd%29%3B%0A%20%20%20%20%20%20%20%20%0A%20%20%20%20%0A%20%20%20%20%20%20%20%20%20%20%20%20var%20marker_bf54f41d7ab84b958b286e8523a396a6%20%3D%20L.marker%28%0A%20%20%20%20%20%20%20%20%20%20%20%20%20%20%20%20%5B53.81528823%2C%20-1.54551049%5D%2C%0A%20%20%20%20%20%20%20%20%20%20%20%20%20%20%20%20%7B%7D%0A%20%20%20%20%20%20%20%20%20%20%20%20%29.addTo%28map_9c9e6958df21434b89b071a654bb23fd%29%3B%0A%20%20%20%20%20%20%20%20%0A%20%20%20%20%0A%20%20%20%20%20%20%20%20%20%20%20%20var%20marker_12e681aadcb34620905fcba7d6bfbe29%20%3D%20L.marker%28%0A%20%20%20%20%20%20%20%20%20%20%20%20%20%20%20%20%5B53.8063383%2C%20-1.36214122%5D%2C%0A%20%20%20%20%20%20%20%20%20%20%20%20%20%20%20%20%7B%7D%0A%20%20%20%20%20%20%20%20%20%20%20%20%29.addTo%28map_9c9e6958df21434b89b071a654bb23fd%29%3B%0A%20%20%20%20%20%20%20%20%0A%20%20%20%20%0A%20%20%20%20%20%20%20%20%20%20%20%20var%20marker_f2d5f9db1f3d4aa79e24bf0531758619%20%3D%20L.marker%28%0A%20%20%20%20%20%20%20%20%20%20%20%20%20%20%20%20%5B53.72645913%2C%20-1.56995898%5D%2C%0A%20%20%20%20%20%20%20%20%20%20%20%20%20%20%20%20%7B%7D%0A%20%20%20%20%20%20%20%20%20%20%20%20%29.addTo%28map_9c9e6958df21434b89b071a654bb23fd%29%3B%0A%20%20%20%20%20%20%20%20%0A%20%20%20%20%0A%20%20%20%20%20%20%20%20%20%20%20%20var%20marker_84cb5364697c42f7a95f3c9a17a7613a%20%3D%20L.marker%28%0A%20%20%20%20%20%20%20%20%20%20%20%20%20%20%20%20%5B53.81855919%2C%20-1.53131831%5D%2C%0A%20%20%20%20%20%20%20%20%20%20%20%20%20%20%20%20%7B%7D%0A%20%20%20%20%20%20%20%20%20%20%20%20%29.addTo%28map_9c9e6958df21434b89b071a654bb23fd%29%3B%0A%20%20%20%20%20%20%20%20%0A%20%20%20%20%0A%20%20%20%20%20%20%20%20%20%20%20%20var%20marker_65a2852929d54a36a3759652567b04bd%20%3D%20L.marker%28%0A%20%20%20%20%20%20%20%20%20%20%20%20%20%20%20%20%5B53.81279787%2C%20-1.56720918%5D%2C%0A%20%20%20%20%20%20%20%20%20%20%20%20%20%20%20%20%7B%7D%0A%20%20%20%20%20%20%20%20%20%20%20%20%29.addTo%28map_9c9e6958df21434b89b071a654bb23fd%29%3B%0A%20%20%20%20%20%20%20%20%0A%20%20%20%20%0A%20%20%20%20%20%20%20%20%20%20%20%20var%20marker_059a1d2747ee45d28efd3c503675ee87%20%3D%20L.marker%28%0A%20%20%20%20%20%20%20%20%20%20%20%20%20%20%20%20%5B53.74736851%2C%20-1.47770245%5D%2C%0A%20%20%20%20%20%20%20%20%20%20%20%20%20%20%20%20%7B%7D%0A%20%20%20%20%20%20%20%20%20%20%20%20%29.addTo%28map_9c9e6958df21434b89b071a654bb23fd%29%3B%0A%20%20%20%20%20%20%20%20%0A%20%20%20%20%0A%20%20%20%20%20%20%20%20%20%20%20%20var%20marker_89613d8c51324c08bfba9f820daa2cbf%20%3D%20L.marker%28%0A%20%20%20%20%20%20%20%20%20%20%20%20%20%20%20%20%5B53.88687411%2C%20-1.62273775%5D%2C%0A%20%20%20%20%20%20%20%20%20%20%20%20%20%20%20%20%7B%7D%0A%20%20%20%20%20%20%20%20%20%20%20%20%29.addTo%28map_9c9e6958df21434b89b071a654bb23fd%29%3B%0A%20%20%20%20%20%20%20%20%0A%20%20%20%20%0A%20%20%20%20%20%20%20%20%20%20%20%20var%20marker_0a57c0839e8049f6ac958330342bdd00%20%3D%20L.marker%28%0A%20%20%20%20%20%20%20%20%20%20%20%20%20%20%20%20%5B53.80361518%2C%20-1.50741752%5D%2C%0A%20%20%20%20%20%20%20%20%20%20%20%20%20%20%20%20%7B%7D%0A%20%20%20%20%20%20%20%20%20%20%20%20%29.addTo%28map_9c9e6958df21434b89b071a654bb23fd%29%3B%0A%20%20%20%20%20%20%20%20%0A%20%20%20%20%0A%20%20%20%20%20%20%20%20%20%20%20%20var%20marker_91781872c16b44c683347d9f3e41551a%20%3D%20L.marker%28%0A%20%20%20%20%20%20%20%20%20%20%20%20%20%20%20%20%5B53.81004917%2C%20-1.5553621%5D%2C%0A%20%20%20%20%20%20%20%20%20%20%20%20%20%20%20%20%7B%7D%0A%20%20%20%20%20%20%20%20%20%20%20%20%29.addTo%28map_9c9e6958df21434b89b071a654bb23fd%29%3B%0A%20%20%20%20%20%20%20%20%0A%20%20%20%20%0A%20%20%20%20%20%20%20%20%20%20%20%20var%20marker_d35fac3574fa462eb2f088da52bff28d%20%3D%20L.marker%28%0A%20%20%20%20%20%20%20%20%20%20%20%20%20%20%20%20%5B53.80692558%2C%20-1.58412438%5D%2C%0A%20%20%20%20%20%20%20%20%20%20%20%20%20%20%20%20%7B%7D%0A%20%20%20%20%20%20%20%20%20%20%20%20%29.addTo%28map_9c9e6958df21434b89b071a654bb23fd%29%3B%0A%20%20%20%20%20%20%20%20%0A%20%20%20%20%0A%20%20%20%20%20%20%20%20%20%20%20%20var%20marker_67f1f18cb60f45aeb48c736aa2761506%20%3D%20L.marker%28%0A%20%20%20%20%20%20%20%20%20%20%20%20%20%20%20%20%5B53.80732587%2C%20-1.58551741%5D%2C%0A%20%20%20%20%20%20%20%20%20%20%20%20%20%20%20%20%7B%7D%0A%20%20%20%20%20%20%20%20%20%20%20%20%29.addTo%28map_9c9e6958df21434b89b071a654bb23fd%29%3B%0A%20%20%20%20%20%20%20%20%0A%20%20%20%20%0A%20%20%20%20%20%20%20%20%20%20%20%20var%20marker_4d2995425a524a499ff8da8025fe145e%20%3D%20L.marker%28%0A%20%20%20%20%20%20%20%20%20%20%20%20%20%20%20%20%5B53.81893248%2C%20-1.58380834%5D%2C%0A%20%20%20%20%20%20%20%20%20%20%20%20%20%20%20%20%7B%7D%0A%20%20%20%20%20%20%20%20%20%20%20%20%29.addTo%28map_9c9e6958df21434b89b071a654bb23fd%29%3B%0A%20%20%20%20%20%20%20%20%0A%20%20%20%20%0A%20%20%20%20%20%20%20%20%20%20%20%20var%20marker_b8b90ee2262242c38e50479a076507c2%20%3D%20L.marker%28%0A%20%20%20%20%20%20%20%20%20%20%20%20%20%20%20%20%5B53.80687159%2C%20-1.58410973%5D%2C%0A%20%20%20%20%20%20%20%20%20%20%20%20%20%20%20%20%7B%7D%0A%20%20%20%20%20%20%20%20%20%20%20%20%29.addTo%28map_9c9e6958df21434b89b071a654bb23fd%29%3B%0A%20%20%20%20%20%20%20%20%0A%20%20%20%20%0A%20%20%20%20%20%20%20%20%20%20%20%20var%20marker_d96a911727934c5aa72968c9d05cde5f%20%3D%20L.marker%28%0A%20%20%20%20%20%20%20%20%20%20%20%20%20%20%20%20%5B53.82743104%2C%20-1.58263052%5D%2C%0A%20%20%20%20%20%20%20%20%20%20%20%20%20%20%20%20%7B%7D%0A%20%20%20%20%20%20%20%20%20%20%20%20%29.addTo%28map_9c9e6958df21434b89b071a654bb23fd%29%3B%0A%20%20%20%20%20%20%20%20%0A%20%20%20%20%0A%20%20%20%20%20%20%20%20%20%20%20%20var%20marker_474a672deff54923b6a4911d49cd599b%20%3D%20L.marker%28%0A%20%20%20%20%20%20%20%20%20%20%20%20%20%20%20%20%5B53.82918133%2C%20-1.49964381%5D%2C%0A%20%20%20%20%20%20%20%20%20%20%20%20%20%20%20%20%7B%7D%0A%20%20%20%20%20%20%20%20%20%20%20%20%29.addTo%28map_9c9e6958df21434b89b071a654bb23fd%29%3B%0A%20%20%20%20%20%20%20%20%0A%20%20%20%20%0A%20%20%20%20%20%20%20%20%20%20%20%20var%20marker_7250f8cb205a44fc9e8f4b3ff1626ddb%20%3D%20L.marker%28%0A%20%20%20%20%20%20%20%20%20%20%20%20%20%20%20%20%5B53.84304502%2C%20-1.53191218%5D%2C%0A%20%20%20%20%20%20%20%20%20%20%20%20%20%20%20%20%7B%7D%0A%20%20%20%20%20%20%20%20%20%20%20%20%29.addTo%28map_9c9e6958df21434b89b071a654bb23fd%29%3B%0A%20%20%20%20%20%20%20%20%0A%20%20%20%20%0A%20%20%20%20%20%20%20%20%20%20%20%20var%20marker_fdb7a08964314d529cd9c92a2da84357%20%3D%20L.marker%28%0A%20%20%20%20%20%20%20%20%20%20%20%20%20%20%20%20%5B53.80774701%2C%20-1.57486867%5D%2C%0A%20%20%20%20%20%20%20%20%20%20%20%20%20%20%20%20%7B%7D%0A%20%20%20%20%20%20%20%20%20%20%20%20%29.addTo%28map_9c9e6958df21434b89b071a654bb23fd%29%3B%0A%20%20%20%20%20%20%20%20%0A%20%20%20%20%0A%20%20%20%20%20%20%20%20%20%20%20%20var%20marker_d1332debb0a54d88973836a0db6335fa%20%3D%20L.marker%28%0A%20%20%20%20%20%20%20%20%20%20%20%20%20%20%20%20%5B53.81078621%2C%20-1.56517976%5D%2C%0A%20%20%20%20%20%20%20%20%20%20%20%20%20%20%20%20%7B%7D%0A%20%20%20%20%20%20%20%20%20%20%20%20%29.addTo%28map_9c9e6958df21434b89b071a654bb23fd%29%3B%0A%20%20%20%20%20%20%20%20%0A%20%20%20%20%0A%20%20%20%20%20%20%20%20%20%20%20%20var%20marker_c580973da683429baf3bee2b7c5ededa%20%3D%20L.marker%28%0A%20%20%20%20%20%20%20%20%20%20%20%20%20%20%20%20%5B53.81022816%2C%20-1.56744818%5D%2C%0A%20%20%20%20%20%20%20%20%20%20%20%20%20%20%20%20%7B%7D%0A%20%20%20%20%20%20%20%20%20%20%20%20%29.addTo%28map_9c9e6958df21434b89b071a654bb23fd%29%3B%0A%20%20%20%20%20%20%20%20%0A%20%20%20%20%0A%20%20%20%20%20%20%20%20%20%20%20%20var%20marker_85672848500444a3b58c88c327f86a2e%20%3D%20L.marker%28%0A%20%20%20%20%20%20%20%20%20%20%20%20%20%20%20%20%5B53.79393224%2C%20-1.498058%5D%2C%0A%20%20%20%20%20%20%20%20%20%20%20%20%20%20%20%20%7B%7D%0A%20%20%20%20%20%20%20%20%20%20%20%20%29.addTo%28map_9c9e6958df21434b89b071a654bb23fd%29%3B%0A%20%20%20%20%20%20%20%20%0A%20%20%20%20%0A%20%20%20%20%20%20%20%20%20%20%20%20var%20marker_7d06f23e15a94078928255f578d891e4%20%3D%20L.marker%28%0A%20%20%20%20%20%20%20%20%20%20%20%20%20%20%20%20%5B53.81914519%2C%20-1.57525485%5D%2C%0A%20%20%20%20%20%20%20%20%20%20%20%20%20%20%20%20%7B%7D%0A%20%20%20%20%20%20%20%20%20%20%20%20%29.addTo%28map_9c9e6958df21434b89b071a654bb23fd%29%3B%0A%20%20%20%20%20%20%20%20%0A%20%20%20%20%0A%20%20%20%20%20%20%20%20%20%20%20%20var%20marker_823d2d44ad504e699ac0b84a44bc8619%20%3D%20L.marker%28%0A%20%20%20%20%20%20%20%20%20%20%20%20%20%20%20%20%5B53.79621188%2C%20-1.54690057%5D%2C%0A%20%20%20%20%20%20%20%20%20%20%20%20%20%20%20%20%7B%7D%0A%20%20%20%20%20%20%20%20%20%20%20%20%29.addTo%28map_9c9e6958df21434b89b071a654bb23fd%29%3B%0A%20%20%20%20%20%20%20%20%0A%20%20%20%20%0A%20%20%20%20%20%20%20%20%20%20%20%20var%20marker_a1c9289ac114494d8375d09db8b867bf%20%3D%20L.marker%28%0A%20%20%20%20%20%20%20%20%20%20%20%20%20%20%20%20%5B53.78153971%2C%20-1.59624284%5D%2C%0A%20%20%20%20%20%20%20%20%20%20%20%20%20%20%20%20%7B%7D%0A%20%20%20%20%20%20%20%20%20%20%20%20%29.addTo%28map_9c9e6958df21434b89b071a654bb23fd%29%3B%0A%20%20%20%20%20%20%20%20%0A%20%20%20%20%0A%20%20%20%20%20%20%20%20%20%20%20%20var%20marker_2281eadb2a804304ad7f2e266f388189%20%3D%20L.marker%28%0A%20%20%20%20%20%20%20%20%20%20%20%20%20%20%20%20%5B53.80687314%2C%20-1.57683629%5D%2C%0A%20%20%20%20%20%20%20%20%20%20%20%20%20%20%20%20%7B%7D%0A%20%20%20%20%20%20%20%20%20%20%20%20%29.addTo%28map_9c9e6958df21434b89b071a654bb23fd%29%3B%0A%20%20%20%20%20%20%20%20%0A%20%20%20%20%0A%20%20%20%20%20%20%20%20%20%20%20%20var%20marker_a35ae31871e24452a6f53e39a927ca97%20%3D%20L.marker%28%0A%20%20%20%20%20%20%20%20%20%20%20%20%20%20%20%20%5B53.81169458%2C%20-1.5227684%5D%2C%0A%20%20%20%20%20%20%20%20%20%20%20%20%20%20%20%20%7B%7D%0A%20%20%20%20%20%20%20%20%20%20%20%20%29.addTo%28map_9c9e6958df21434b89b071a654bb23fd%29%3B%0A%20%20%20%20%20%20%20%20%0A%20%20%20%20%0A%20%20%20%20%20%20%20%20%20%20%20%20var%20marker_d897fbdb847344b8ba2cb3eed7fea245%20%3D%20L.marker%28%0A%20%20%20%20%20%20%20%20%20%20%20%20%20%20%20%20%5B53.89866099%2C%20-1.7155081%5D%2C%0A%20%20%20%20%20%20%20%20%20%20%20%20%20%20%20%20%7B%7D%0A%20%20%20%20%20%20%20%20%20%20%20%20%29.addTo%28map_9c9e6958df21434b89b071a654bb23fd%29%3B%0A%20%20%20%20%20%20%20%20%0A%20%20%20%20%0A%20%20%20%20%20%20%20%20%20%20%20%20var%20marker_9694343d40c946088919025ed006406a%20%3D%20L.marker%28%0A%20%20%20%20%20%20%20%20%20%20%20%20%20%20%20%20%5B53.80558331%2C%20-1.61556904%5D%2C%0A%20%20%20%20%20%20%20%20%20%20%20%20%20%20%20%20%7B%7D%0A%20%20%20%20%20%20%20%20%20%20%20%20%29.addTo%28map_9c9e6958df21434b89b071a654bb23fd%29%3B%0A%20%20%20%20%20%20%20%20%0A%20%20%20%20%0A%20%20%20%20%20%20%20%20%20%20%20%20var%20marker_62c49aeea3de461c87f83ae8ede35ac4%20%3D%20L.marker%28%0A%20%20%20%20%20%20%20%20%20%20%20%20%20%20%20%20%5B53.82463271%2C%20-1.61961813%5D%2C%0A%20%20%20%20%20%20%20%20%20%20%20%20%20%20%20%20%7B%7D%0A%20%20%20%20%20%20%20%20%20%20%20%20%29.addTo%28map_9c9e6958df21434b89b071a654bb23fd%29%3B%0A%20%20%20%20%20%20%20%20%0A%20%20%20%20%0A%20%20%20%20%20%20%20%20%20%20%20%20var%20marker_d07febb44791479fac709bae8f795b0f%20%3D%20L.marker%28%0A%20%20%20%20%20%20%20%20%20%20%20%20%20%20%20%20%5B53.7661374%2C%20-1.36610277%5D%2C%0A%20%20%20%20%20%20%20%20%20%20%20%20%20%20%20%20%7B%7D%0A%20%20%20%20%20%20%20%20%20%20%20%20%29.addTo%28map_9c9e6958df21434b89b071a654bb23fd%29%3B%0A%20%20%20%20%20%20%20%20%0A%20%20%20%20%0A%20%20%20%20%20%20%20%20%20%20%20%20var%20marker_54b642f1bf8e409fb696a137ae1bd8a6%20%3D%20L.marker%28%0A%20%20%20%20%20%20%20%20%20%20%20%20%20%20%20%20%5B53.79438063%2C%20-1.56700375%5D%2C%0A%20%20%20%20%20%20%20%20%20%20%20%20%20%20%20%20%7B%7D%0A%20%20%20%20%20%20%20%20%20%20%20%20%29.addTo%28map_9c9e6958df21434b89b071a654bb23fd%29%3B%0A%20%20%20%20%20%20%20%20%0A%20%20%20%20%0A%20%20%20%20%20%20%20%20%20%20%20%20var%20marker_4df820b0d42d47968d013d6588ab7427%20%3D%20L.marker%28%0A%20%20%20%20%20%20%20%20%20%20%20%20%20%20%20%20%5B53.80152929%2C%20-1.69027833%5D%2C%0A%20%20%20%20%20%20%20%20%20%20%20%20%20%20%20%20%7B%7D%0A%20%20%20%20%20%20%20%20%20%20%20%20%29.addTo%28map_9c9e6958df21434b89b071a654bb23fd%29%3B%0A%20%20%20%20%20%20%20%20%0A%20%20%20%20%0A%20%20%20%20%20%20%20%20%20%20%20%20var%20marker_08cbe0f0cb8841d6b4f83e918a5e2f63%20%3D%20L.marker%28%0A%20%20%20%20%20%20%20%20%20%20%20%20%20%20%20%20%5B53.82881999%2C%20-1.54677722%5D%2C%0A%20%20%20%20%20%20%20%20%20%20%20%20%20%20%20%20%7B%7D%0A%20%20%20%20%20%20%20%20%20%20%20%20%29.addTo%28map_9c9e6958df21434b89b071a654bb23fd%29%3B%0A%20%20%20%20%20%20%20%20%0A%20%20%20%20%0A%20%20%20%20%20%20%20%20%20%20%20%20var%20marker_231698d983b04963bff502e1e745714f%20%3D%20L.marker%28%0A%20%20%20%20%20%20%20%20%20%20%20%20%20%20%20%20%5B53.78152984%2C%20-1.54331004%5D%2C%0A%20%20%20%20%20%20%20%20%20%20%20%20%20%20%20%20%7B%7D%0A%20%20%20%20%20%20%20%20%20%20%20%20%29.addTo%28map_9c9e6958df21434b89b071a654bb23fd%29%3B%0A%20%20%20%20%20%20%20%20%0A%20%20%20%20%0A%20%20%20%20%20%20%20%20%20%20%20%20var%20marker_3b481486da0b43cab45596d282a28849%20%3D%20L.marker%28%0A%20%20%20%20%20%20%20%20%20%20%20%20%20%20%20%20%5B53.79219652%2C%20-1.56950047%5D%2C%0A%20%20%20%20%20%20%20%20%20%20%20%20%20%20%20%20%7B%7D%0A%20%20%20%20%20%20%20%20%20%20%20%20%29.addTo%28map_9c9e6958df21434b89b071a654bb23fd%29%3B%0A%20%20%20%20%20%20%20%20%0A%20%20%20%20%0A%20%20%20%20%20%20%20%20%20%20%20%20var%20marker_792ce9f877b64443a8325e00a92065ec%20%3D%20L.marker%28%0A%20%20%20%20%20%20%20%20%20%20%20%20%20%20%20%20%5B53.79505985%2C%20-1.54648791%5D%2C%0A%20%20%20%20%20%20%20%20%20%20%20%20%20%20%20%20%7B%7D%0A%20%20%20%20%20%20%20%20%20%20%20%20%29.addTo%28map_9c9e6958df21434b89b071a654bb23fd%29%3B%0A%20%20%20%20%20%20%20%20%0A%20%20%20%20%0A%20%20%20%20%20%20%20%20%20%20%20%20var%20marker_8ce793c422554edebb015a0fbaf741f6%20%3D%20L.marker%28%0A%20%20%20%20%20%20%20%20%20%20%20%20%20%20%20%20%5B53.80269627%2C%20-1.45091557%5D%2C%0A%20%20%20%20%20%20%20%20%20%20%20%20%20%20%20%20%7B%7D%0A%20%20%20%20%20%20%20%20%20%20%20%20%29.addTo%28map_9c9e6958df21434b89b071a654bb23fd%29%3B%0A%20%20%20%20%20%20%20%20%0A%20%20%20%20%0A%20%20%20%20%20%20%20%20%20%20%20%20var%20marker_a1f30221408a4d63976f73dd9fc6c7b7%20%3D%20L.marker%28%0A%20%20%20%20%20%20%20%20%20%20%20%20%20%20%20%20%5B53.83820018%2C%20-1.59361726%5D%2C%0A%20%20%20%20%20%20%20%20%20%20%20%20%20%20%20%20%7B%7D%0A%20%20%20%20%20%20%20%20%20%20%20%20%29.addTo%28map_9c9e6958df21434b89b071a654bb23fd%29%3B%0A%20%20%20%20%20%20%20%20%0A%20%20%20%20%0A%20%20%20%20%20%20%20%20%20%20%20%20var%20marker_9b6edca796cb41dc8cef45ca0b9a3109%20%3D%20L.marker%28%0A%20%20%20%20%20%20%20%20%20%20%20%20%20%20%20%20%5B53.84802384%2C%20-1.6044058%5D%2C%0A%20%20%20%20%20%20%20%20%20%20%20%20%20%20%20%20%7B%7D%0A%20%20%20%20%20%20%20%20%20%20%20%20%29.addTo%28map_9c9e6958df21434b89b071a654bb23fd%29%3B%0A%20%20%20%20%20%20%20%20%0A%20%20%20%20%0A%20%20%20%20%20%20%20%20%20%20%20%20var%20marker_3b0c79502c5047289bbc680109b6e8f5%20%3D%20L.marker%28%0A%20%20%20%20%20%20%20%20%20%20%20%20%20%20%20%20%5B53.82054456%2C%20-1.57701791%5D%2C%0A%20%20%20%20%20%20%20%20%20%20%20%20%20%20%20%20%7B%7D%0A%20%20%20%20%20%20%20%20%20%20%20%20%29.addTo%28map_9c9e6958df21434b89b071a654bb23fd%29%3B%0A%20%20%20%20%20%20%20%20%0A%20%20%20%20%0A%20%20%20%20%20%20%20%20%20%20%20%20var%20marker_301238aa318345b1b96ae0a8af7dcc96%20%3D%20L.marker%28%0A%20%20%20%20%20%20%20%20%20%20%20%20%20%20%20%20%5B53.84939569%2C%20-1.59264311%5D%2C%0A%20%20%20%20%20%20%20%20%20%20%20%20%20%20%20%20%7B%7D%0A%20%20%20%20%20%20%20%20%20%20%20%20%29.addTo%28map_9c9e6958df21434b89b071a654bb23fd%29%3B%0A%20%20%20%20%20%20%20%20%0A%20%20%20%20%0A%20%20%20%20%20%20%20%20%20%20%20%20var%20marker_2d70def59f6c4a69ab32dc16947d4219%20%3D%20L.marker%28%0A%20%20%20%20%20%20%20%20%20%20%20%20%20%20%20%20%5B53.81000361%2C%20-1.55519555%5D%2C%0A%20%20%20%20%20%20%20%20%20%20%20%20%20%20%20%20%7B%7D%0A%20%20%20%20%20%20%20%20%20%20%20%20%29.addTo%28map_9c9e6958df21434b89b071a654bb23fd%29%3B%0A%20%20%20%20%20%20%20%20%0A%20%20%20%20%0A%20%20%20%20%20%20%20%20%20%20%20%20var%20marker_3fd51d510a3a466380432458e8f13cad%20%3D%20L.marker%28%0A%20%20%20%20%20%20%20%20%20%20%20%20%20%20%20%20%5B53.81586841%2C%20-1.6026259%5D%2C%0A%20%20%20%20%20%20%20%20%20%20%20%20%20%20%20%20%7B%7D%0A%20%20%20%20%20%20%20%20%20%20%20%20%29.addTo%28map_9c9e6958df21434b89b071a654bb23fd%29%3B%0A%20%20%20%20%20%20%20%20%0A%20%20%20%20%0A%20%20%20%20%20%20%20%20%20%20%20%20var%20marker_4dc238f3b6e04d5eb457dec59ea6caa6%20%3D%20L.marker%28%0A%20%20%20%20%20%20%20%20%20%20%20%20%20%20%20%20%5B53.80772053%2C%20-1.53617703%5D%2C%0A%20%20%20%20%20%20%20%20%20%20%20%20%20%20%20%20%7B%7D%0A%20%20%20%20%20%20%20%20%20%20%20%20%29.addTo%28map_9c9e6958df21434b89b071a654bb23fd%29%3B%0A%20%20%20%20%20%20%20%20%0A%20%20%20%20%0A%20%20%20%20%20%20%20%20%20%20%20%20var%20marker_a76c77187a4c4cd4973a4fb127937ff6%20%3D%20L.marker%28%0A%20%20%20%20%20%20%20%20%20%20%20%20%20%20%20%20%5B53.80022217%2C%20-1.44648422%5D%2C%0A%20%20%20%20%20%20%20%20%20%20%20%20%20%20%20%20%7B%7D%0A%20%20%20%20%20%20%20%20%20%20%20%20%29.addTo%28map_9c9e6958df21434b89b071a654bb23fd%29%3B%0A%20%20%20%20%20%20%20%20%0A%20%20%20%20%0A%20%20%20%20%20%20%20%20%20%20%20%20var%20marker_103b0c6447714ea8a1ba7e4a0224b98c%20%3D%20L.marker%28%0A%20%20%20%20%20%20%20%20%20%20%20%20%20%20%20%20%5B53.8175635%2C%20-1.57277991%5D%2C%0A%20%20%20%20%20%20%20%20%20%20%20%20%20%20%20%20%7B%7D%0A%20%20%20%20%20%20%20%20%20%20%20%20%29.addTo%28map_9c9e6958df21434b89b071a654bb23fd%29%3B%0A%20%20%20%20%20%20%20%20%0A%20%20%20%20%0A%20%20%20%20%20%20%20%20%20%20%20%20var%20marker_1310df34c510428ea918e778a4b2c9d7%20%3D%20L.marker%28%0A%20%20%20%20%20%20%20%20%20%20%20%20%20%20%20%20%5B53.8645246%2C%20-1.68651378%5D%2C%0A%20%20%20%20%20%20%20%20%20%20%20%20%20%20%20%20%7B%7D%0A%20%20%20%20%20%20%20%20%20%20%20%20%29.addTo%28map_9c9e6958df21434b89b071a654bb23fd%29%3B%0A%20%20%20%20%20%20%20%20%0A%20%20%20%20%0A%20%20%20%20%20%20%20%20%20%20%20%20var%20marker_ed195aff37744cf2b49054c1ec98b98c%20%3D%20L.marker%28%0A%20%20%20%20%20%20%20%20%20%20%20%20%20%20%20%20%5B53.79130036%2C%20-1.54346216%5D%2C%0A%20%20%20%20%20%20%20%20%20%20%20%20%20%20%20%20%7B%7D%0A%20%20%20%20%20%20%20%20%20%20%20%20%29.addTo%28map_9c9e6958df21434b89b071a654bb23fd%29%3B%0A%20%20%20%20%20%20%20%20%0A%20%20%20%20%0A%20%20%20%20%20%20%20%20%20%20%20%20var%20marker_2b6f64b48b4041a888d50d7f1e11075b%20%3D%20L.marker%28%0A%20%20%20%20%20%20%20%20%20%20%20%20%20%20%20%20%5B53.79934502%2C%20-1.5435571%5D%2C%0A%20%20%20%20%20%20%20%20%20%20%20%20%20%20%20%20%7B%7D%0A%20%20%20%20%20%20%20%20%20%20%20%20%29.addTo%28map_9c9e6958df21434b89b071a654bb23fd%29%3B%0A%20%20%20%20%20%20%20%20%0A%20%20%20%20%0A%20%20%20%20%20%20%20%20%20%20%20%20var%20marker_f9c185e33baf4583b3fd7237f9b35aea%20%3D%20L.marker%28%0A%20%20%20%20%20%20%20%20%20%20%20%20%20%20%20%20%5B53.79965023%2C%20-1.55059839%5D%2C%0A%20%20%20%20%20%20%20%20%20%20%20%20%20%20%20%20%7B%7D%0A%20%20%20%20%20%20%20%20%20%20%20%20%29.addTo%28map_9c9e6958df21434b89b071a654bb23fd%29%3B%0A%20%20%20%20%20%20%20%20%0A%20%20%20%20%0A%20%20%20%20%20%20%20%20%20%20%20%20var%20marker_c3d14d15702d4a7e83d0624e97685801%20%3D%20L.marker%28%0A%20%20%20%20%20%20%20%20%20%20%20%20%20%20%20%20%5B53.82675543%2C%20-1.58219665%5D%2C%0A%20%20%20%20%20%20%20%20%20%20%20%20%20%20%20%20%7B%7D%0A%20%20%20%20%20%20%20%20%20%20%20%20%29.addTo%28map_9c9e6958df21434b89b071a654bb23fd%29%3B%0A%20%20%20%20%20%20%20%20%0A%20%20%20%20%0A%20%20%20%20%20%20%20%20%20%20%20%20var%20marker_2584c760c77149459557c7f8c1c818aa%20%3D%20L.marker%28%0A%20%20%20%20%20%20%20%20%20%20%20%20%20%20%20%20%5B53.78332058%2C%20-1.52988949%5D%2C%0A%20%20%20%20%20%20%20%20%20%20%20%20%20%20%20%20%7B%7D%0A%20%20%20%20%20%20%20%20%20%20%20%20%29.addTo%28map_9c9e6958df21434b89b071a654bb23fd%29%3B%0A%20%20%20%20%20%20%20%20%0A%20%20%20%20%0A%20%20%20%20%20%20%20%20%20%20%20%20var%20marker_b44fcbab4eee43369d728bab6acebc08%20%3D%20L.marker%28%0A%20%20%20%20%20%20%20%20%20%20%20%20%20%20%20%20%5B53.81076279%2C%20-1.52578598%5D%2C%0A%20%20%20%20%20%20%20%20%20%20%20%20%20%20%20%20%7B%7D%0A%20%20%20%20%20%20%20%20%20%20%20%20%29.addTo%28map_9c9e6958df21434b89b071a654bb23fd%29%3B%0A%20%20%20%20%20%20%20%20%0A%20%20%20%20%0A%20%20%20%20%20%20%20%20%20%20%20%20var%20marker_2182ed2108e3428eb1b749361b052a27%20%3D%20L.marker%28%0A%20%20%20%20%20%20%20%20%20%20%20%20%20%20%20%20%5B53.81013516%2C%20-1.51050007%5D%2C%0A%20%20%20%20%20%20%20%20%20%20%20%20%20%20%20%20%7B%7D%0A%20%20%20%20%20%20%20%20%20%20%20%20%29.addTo%28map_9c9e6958df21434b89b071a654bb23fd%29%3B%0A%20%20%20%20%20%20%20%20%0A%20%20%20%20%0A%20%20%20%20%20%20%20%20%20%20%20%20var%20marker_d8485719c9d043c5a5098d07746e97ba%20%3D%20L.marker%28%0A%20%20%20%20%20%20%20%20%20%20%20%20%20%20%20%20%5B53.77327053%2C%20-1.56530907%5D%2C%0A%20%20%20%20%20%20%20%20%20%20%20%20%20%20%20%20%7B%7D%0A%20%20%20%20%20%20%20%20%20%20%20%20%29.addTo%28map_9c9e6958df21434b89b071a654bb23fd%29%3B%0A%20%20%20%20%20%20%20%20%0A%20%20%20%20%0A%20%20%20%20%20%20%20%20%20%20%20%20var%20marker_1381fe13cbae4b1eaa1570f464688a2b%20%3D%20L.marker%28%0A%20%20%20%20%20%20%20%20%20%20%20%20%20%20%20%20%5B53.7651312%2C%20-1.645885%5D%2C%0A%20%20%20%20%20%20%20%20%20%20%20%20%20%20%20%20%7B%7D%0A%20%20%20%20%20%20%20%20%20%20%20%20%29.addTo%28map_9c9e6958df21434b89b071a654bb23fd%29%3B%0A%20%20%20%20%20%20%20%20%0A%20%20%20%20%0A%20%20%20%20%20%20%20%20%20%20%20%20var%20marker_4384ab4289c2408fa3abb3e465241f00%20%3D%20L.marker%28%0A%20%20%20%20%20%20%20%20%20%20%20%20%20%20%20%20%5B53.81748913%2C%20-1.53119353%5D%2C%0A%20%20%20%20%20%20%20%20%20%20%20%20%20%20%20%20%7B%7D%0A%20%20%20%20%20%20%20%20%20%20%20%20%29.addTo%28map_9c9e6958df21434b89b071a654bb23fd%29%3B%0A%20%20%20%20%20%20%20%20%0A%20%20%20%20%0A%20%20%20%20%20%20%20%20%20%20%20%20var%20marker_8de41fb907c74f39a393f3d474ae26de%20%3D%20L.marker%28%0A%20%20%20%20%20%20%20%20%20%20%20%20%20%20%20%20%5B53.79647331%2C%20-1.53768252%5D%2C%0A%20%20%20%20%20%20%20%20%20%20%20%20%20%20%20%20%7B%7D%0A%20%20%20%20%20%20%20%20%20%20%20%20%29.addTo%28map_9c9e6958df21434b89b071a654bb23fd%29%3B%0A%20%20%20%20%20%20%20%20%0A%20%20%20%20%0A%20%20%20%20%20%20%20%20%20%20%20%20var%20marker_79cd0a6eab56405194313811f1cb171d%20%3D%20L.marker%28%0A%20%20%20%20%20%20%20%20%20%20%20%20%20%20%20%20%5B53.80763702%2C%20-1.5793645%5D%2C%0A%20%20%20%20%20%20%20%20%20%20%20%20%20%20%20%20%7B%7D%0A%20%20%20%20%20%20%20%20%20%20%20%20%29.addTo%28map_9c9e6958df21434b89b071a654bb23fd%29%3B%0A%20%20%20%20%20%20%20%20%0A%20%20%20%20%0A%20%20%20%20%20%20%20%20%20%20%20%20var%20marker_4d48578a796544b591f16f4275f5c176%20%3D%20L.marker%28%0A%20%20%20%20%20%20%20%20%20%20%20%20%20%20%20%20%5B53.81958107%2C%20-1.58422722%5D%2C%0A%20%20%20%20%20%20%20%20%20%20%20%20%20%20%20%20%7B%7D%0A%20%20%20%20%20%20%20%20%20%20%20%20%29.addTo%28map_9c9e6958df21434b89b071a654bb23fd%29%3B%0A%20%20%20%20%20%20%20%20%0A%20%20%20%20%0A%20%20%20%20%20%20%20%20%20%20%20%20var%20marker_1cf1fa3610ae4282bd9c45bf537e27d9%20%3D%20L.marker%28%0A%20%20%20%20%20%20%20%20%20%20%20%20%20%20%20%20%5B53.80086873%2C%20-1.54480078%5D%2C%0A%20%20%20%20%20%20%20%20%20%20%20%20%20%20%20%20%7B%7D%0A%20%20%20%20%20%20%20%20%20%20%20%20%29.addTo%28map_9c9e6958df21434b89b071a654bb23fd%29%3B%0A%20%20%20%20%20%20%20%20%0A%20%20%20%20%0A%20%20%20%20%20%20%20%20%20%20%20%20var%20marker_a1b4eeaef0114528ade74d7c088b84db%20%3D%20L.marker%28%0A%20%20%20%20%20%20%20%20%20%20%20%20%20%20%20%20%5B53.83694238%2C%20-1.5050223%5D%2C%0A%20%20%20%20%20%20%20%20%20%20%20%20%20%20%20%20%7B%7D%0A%20%20%20%20%20%20%20%20%20%20%20%20%29.addTo%28map_9c9e6958df21434b89b071a654bb23fd%29%3B%0A%20%20%20%20%20%20%20%20%0A%20%20%20%20%0A%20%20%20%20%20%20%20%20%20%20%20%20var%20marker_3d8b6e87d6c045f39463d37cadcbe70a%20%3D%20L.marker%28%0A%20%20%20%20%20%20%20%20%20%20%20%20%20%20%20%20%5B53.80406902%2C%20-1.52865536%5D%2C%0A%20%20%20%20%20%20%20%20%20%20%20%20%20%20%20%20%7B%7D%0A%20%20%20%20%20%20%20%20%20%20%20%20%29.addTo%28map_9c9e6958df21434b89b071a654bb23fd%29%3B%0A%20%20%20%20%20%20%20%20%0A%20%20%20%20%0A%20%20%20%20%20%20%20%20%20%20%20%20var%20marker_ff11782fc97e452d9215f356da6cfcb7%20%3D%20L.marker%28%0A%20%20%20%20%20%20%20%20%20%20%20%20%20%20%20%20%5B53.81089617%2C%20-1.52542%5D%2C%0A%20%20%20%20%20%20%20%20%20%20%20%20%20%20%20%20%7B%7D%0A%20%20%20%20%20%20%20%20%20%20%20%20%29.addTo%28map_9c9e6958df21434b89b071a654bb23fd%29%3B%0A%20%20%20%20%20%20%20%20%0A%20%20%20%20%0A%20%20%20%20%20%20%20%20%20%20%20%20var%20marker_8b5ffb6528fc4907a1c9c9b77df4afa3%20%3D%20L.marker%28%0A%20%20%20%20%20%20%20%20%20%20%20%20%20%20%20%20%5B53.80452105%2C%20-1.63828123%5D%2C%0A%20%20%20%20%20%20%20%20%20%20%20%20%20%20%20%20%7B%7D%0A%20%20%20%20%20%20%20%20%20%20%20%20%29.addTo%28map_9c9e6958df21434b89b071a654bb23fd%29%3B%0A%20%20%20%20%20%20%20%20%0A%20%20%20%20%0A%20%20%20%20%20%20%20%20%20%20%20%20var%20marker_ff4ae496ec9849a7b9c6ed1d49f43aac%20%3D%20L.marker%28%0A%20%20%20%20%20%20%20%20%20%20%20%20%20%20%20%20%5B53.80599207%2C%20-1.54960444%5D%2C%0A%20%20%20%20%20%20%20%20%20%20%20%20%20%20%20%20%7B%7D%0A%20%20%20%20%20%20%20%20%20%20%20%20%29.addTo%28map_9c9e6958df21434b89b071a654bb23fd%29%3B%0A%20%20%20%20%20%20%20%20%0A%20%20%20%20%0A%20%20%20%20%20%20%20%20%20%20%20%20var%20marker_ec34dfea7e3042bb91564a0a17ecd861%20%3D%20L.marker%28%0A%20%20%20%20%20%20%20%20%20%20%20%20%20%20%20%20%5B53.82666535%2C%20-1.58213679%5D%2C%0A%20%20%20%20%20%20%20%20%20%20%20%20%20%20%20%20%7B%7D%0A%20%20%20%20%20%20%20%20%20%20%20%20%29.addTo%28map_9c9e6958df21434b89b071a654bb23fd%29%3B%0A%20%20%20%20%20%20%20%20%0A%20%20%20%20%0A%20%20%20%20%20%20%20%20%20%20%20%20var%20marker_138f94d3624845bc91eeeea08ea0ab2b%20%3D%20L.marker%28%0A%20%20%20%20%20%20%20%20%20%20%20%20%20%20%20%20%5B53.81595847%2C%20-1.60540442%5D%2C%0A%20%20%20%20%20%20%20%20%20%20%20%20%20%20%20%20%7B%7D%0A%20%20%20%20%20%20%20%20%20%20%20%20%29.addTo%28map_9c9e6958df21434b89b071a654bb23fd%29%3B%0A%20%20%20%20%20%20%20%20%0A%20%20%20%20%0A%20%20%20%20%20%20%20%20%20%20%20%20var%20marker_c4e110478834459eb02ccb30a35054ae%20%3D%20L.marker%28%0A%20%20%20%20%20%20%20%20%20%20%20%20%20%20%20%20%5B53.80441431%2C%20-1.61539755%5D%2C%0A%20%20%20%20%20%20%20%20%20%20%20%20%20%20%20%20%7B%7D%0A%20%20%20%20%20%20%20%20%20%20%20%20%29.addTo%28map_9c9e6958df21434b89b071a654bb23fd%29%3B%0A%20%20%20%20%20%20%20%20%0A%20%20%20%20%0A%20%20%20%20%20%20%20%20%20%20%20%20var%20marker_d13ba49a4447421791fe58f29e50b45c%20%3D%20L.marker%28%0A%20%20%20%20%20%20%20%20%20%20%20%20%20%20%20%20%5B53.8286724%2C%20-1.5158456%5D%2C%0A%20%20%20%20%20%20%20%20%20%20%20%20%20%20%20%20%7B%7D%0A%20%20%20%20%20%20%20%20%20%20%20%20%29.addTo%28map_9c9e6958df21434b89b071a654bb23fd%29%3B%0A%20%20%20%20%20%20%20%20%0A%20%20%20%20%0A%20%20%20%20%20%20%20%20%20%20%20%20var%20marker_810e2ff868cf4c7796e59c3221117925%20%3D%20L.marker%28%0A%20%20%20%20%20%20%20%20%20%20%20%20%20%20%20%20%5B53.81419728%2C%20-1.54461102%5D%2C%0A%20%20%20%20%20%20%20%20%20%20%20%20%20%20%20%20%7B%7D%0A%20%20%20%20%20%20%20%20%20%20%20%20%29.addTo%28map_9c9e6958df21434b89b071a654bb23fd%29%3B%0A%20%20%20%20%20%20%20%20%0A%20%20%20%20%0A%20%20%20%20%20%20%20%20%20%20%20%20var%20marker_cda392389cf741158fd6f36f76512bd2%20%3D%20L.marker%28%0A%20%20%20%20%20%20%20%20%20%20%20%20%20%20%20%20%5B53.84563002%2C%20-1.53563761%5D%2C%0A%20%20%20%20%20%20%20%20%20%20%20%20%20%20%20%20%7B%7D%0A%20%20%20%20%20%20%20%20%20%20%20%20%29.addTo%28map_9c9e6958df21434b89b071a654bb23fd%29%3B%0A%20%20%20%20%20%20%20%20%0A%20%20%20%20%0A%20%20%20%20%20%20%20%20%20%20%20%20var%20marker_ccbb6f64a56d4e0d97ac9a6c2cea7f38%20%3D%20L.marker%28%0A%20%20%20%20%20%20%20%20%20%20%20%20%20%20%20%20%5B53.81493197%2C%20-1.56086928%5D%2C%0A%20%20%20%20%20%20%20%20%20%20%20%20%20%20%20%20%7B%7D%0A%20%20%20%20%20%20%20%20%20%20%20%20%29.addTo%28map_9c9e6958df21434b89b071a654bb23fd%29%3B%0A%20%20%20%20%20%20%20%20%0A%20%20%20%20%0A%20%20%20%20%20%20%20%20%20%20%20%20var%20marker_c97c327e6027496283abec19e68d2834%20%3D%20L.marker%28%0A%20%20%20%20%20%20%20%20%20%20%20%20%20%20%20%20%5B53.89873588%2C%20-1.42835313%5D%2C%0A%20%20%20%20%20%20%20%20%20%20%20%20%20%20%20%20%7B%7D%0A%20%20%20%20%20%20%20%20%20%20%20%20%29.addTo%28map_9c9e6958df21434b89b071a654bb23fd%29%3B%0A%20%20%20%20%20%20%20%20%0A%20%20%20%20%0A%20%20%20%20%20%20%20%20%20%20%20%20var%20marker_90cc665a59ee4534bb560f83f5d4b0fc%20%3D%20L.marker%28%0A%20%20%20%20%20%20%20%20%20%20%20%20%20%20%20%20%5B53.80261273%2C%20-1.57174724%5D%2C%0A%20%20%20%20%20%20%20%20%20%20%20%20%20%20%20%20%7B%7D%0A%20%20%20%20%20%20%20%20%20%20%20%20%29.addTo%28map_9c9e6958df21434b89b071a654bb23fd%29%3B%0A%20%20%20%20%20%20%20%20%0A%20%20%20%20%0A%20%20%20%20%20%20%20%20%20%20%20%20var%20marker_354ebcecd69f4d5691e34d2787a36585%20%3D%20L.marker%28%0A%20%20%20%20%20%20%20%20%20%20%20%20%20%20%20%20%5B53.76991479%2C%20-1.5309798%5D%2C%0A%20%20%20%20%20%20%20%20%20%20%20%20%20%20%20%20%7B%7D%0A%20%20%20%20%20%20%20%20%20%20%20%20%29.addTo%28map_9c9e6958df21434b89b071a654bb23fd%29%3B%0A%20%20%20%20%20%20%20%20%0A%20%20%20%20%0A%20%20%20%20%20%20%20%20%20%20%20%20var%20marker_eb9cd76e2efc4fab9ad346b91004e085%20%3D%20L.marker%28%0A%20%20%20%20%20%20%20%20%20%20%20%20%20%20%20%20%5B53.78973311%2C%20-1.53789317%5D%2C%0A%20%20%20%20%20%20%20%20%20%20%20%20%20%20%20%20%7B%7D%0A%20%20%20%20%20%20%20%20%20%20%20%20%29.addTo%28map_9c9e6958df21434b89b071a654bb23fd%29%3B%0A%20%20%20%20%20%20%20%20%0A%20%20%20%20%0A%20%20%20%20%20%20%20%20%20%20%20%20var%20marker_8eb1324709d341e7828d94a2b73e0e0e%20%3D%20L.marker%28%0A%20%20%20%20%20%20%20%20%20%20%20%20%20%20%20%20%5B53.83195479%2C%20-1.52076125%5D%2C%0A%20%20%20%20%20%20%20%20%20%20%20%20%20%20%20%20%7B%7D%0A%20%20%20%20%20%20%20%20%20%20%20%20%29.addTo%28map_9c9e6958df21434b89b071a654bb23fd%29%3B%0A%20%20%20%20%20%20%20%20%0A%20%20%20%20%0A%20%20%20%20%20%20%20%20%20%20%20%20var%20marker_8f2c042981b3405c8fe50c9b4136806a%20%3D%20L.marker%28%0A%20%20%20%20%20%20%20%20%20%20%20%20%20%20%20%20%5B53.79999738%2C%20-1.54493166%5D%2C%0A%20%20%20%20%20%20%20%20%20%20%20%20%20%20%20%20%7B%7D%0A%20%20%20%20%20%20%20%20%20%20%20%20%29.addTo%28map_9c9e6958df21434b89b071a654bb23fd%29%3B%0A%20%20%20%20%20%20%20%20%0A%20%20%20%20%0A%20%20%20%20%20%20%20%20%20%20%20%20var%20marker_4d110e83538d48a09dbeae0867362aa7%20%3D%20L.marker%28%0A%20%20%20%20%20%20%20%20%20%20%20%20%20%20%20%20%5B53.75622686%2C%20-1.5266122%5D%2C%0A%20%20%20%20%20%20%20%20%20%20%20%20%20%20%20%20%7B%7D%0A%20%20%20%20%20%20%20%20%20%20%20%20%29.addTo%28map_9c9e6958df21434b89b071a654bb23fd%29%3B%0A%20%20%20%20%20%20%20%20%0A%20%20%20%20%0A%20%20%20%20%20%20%20%20%20%20%20%20var%20marker_8815b3963cc34b85bb5d196880d6208e%20%3D%20L.marker%28%0A%20%20%20%20%20%20%20%20%20%20%20%20%20%20%20%20%5B53.8999723%2C%20-1.62654615%5D%2C%0A%20%20%20%20%20%20%20%20%20%20%20%20%20%20%20%20%7B%7D%0A%20%20%20%20%20%20%20%20%20%20%20%20%29.addTo%28map_9c9e6958df21434b89b071a654bb23fd%29%3B%0A%20%20%20%20%20%20%20%20%0A%20%20%20%20%0A%20%20%20%20%20%20%20%20%20%20%20%20var%20marker_4e4ec3d0e379452ebe5e2c49e396e821%20%3D%20L.marker%28%0A%20%20%20%20%20%20%20%20%20%20%20%20%20%20%20%20%5B53.82376221%2C%20-1.66553593%5D%2C%0A%20%20%20%20%20%20%20%20%20%20%20%20%20%20%20%20%7B%7D%0A%20%20%20%20%20%20%20%20%20%20%20%20%29.addTo%28map_9c9e6958df21434b89b071a654bb23fd%29%3B%0A%20%20%20%20%20%20%20%20%0A%20%20%20%20%0A%20%20%20%20%20%20%20%20%20%20%20%20var%20marker_7d94046e3ac144f98fb17ebffa66145f%20%3D%20L.marker%28%0A%20%20%20%20%20%20%20%20%20%20%20%20%20%20%20%20%5B53.81822149%2C%20-1.51642118%5D%2C%0A%20%20%20%20%20%20%20%20%20%20%20%20%20%20%20%20%7B%7D%0A%20%20%20%20%20%20%20%20%20%20%20%20%29.addTo%28map_9c9e6958df21434b89b071a654bb23fd%29%3B%0A%20%20%20%20%20%20%20%20%0A%3C/script%3E onload=\"this.contentDocument.open();this.contentDocument.write(    decodeURIComponent(this.getAttribute('data-html')));this.contentDocument.close();\" allowfullscreen webkitallowfullscreen mozallowfullscreen></iframe></div></div>"
      ],
      "text/plain": [
       "<folium.folium.Map at 0x7f8c57a37f10>"
      ]
     },
     "execution_count": 162,
     "metadata": {},
     "output_type": "execute_result"
    }
   ],
   "source": [
    "sample_location_pcycle_100 = sample(locationlist_pcycle,100)\n",
    "\n",
    "map = folium.Map(location=[53.82310283, -1.61337338], zoom_start=12)\n",
    "for point in range(0, len(sample_location_pcycle_100)):\n",
    "    folium.Marker(sample_location_pcycle_100[point]).add_to(map)\n",
    "map"
   ]
  },
  {
   "cell_type": "markdown",
   "id": "cd609a84",
   "metadata": {
    "cell_id": "00173-7cf7b601-fc15-4a3b-97b0-44710932c695",
    "deepnote_app_coordinates": {
     "h": 5,
     "w": 12,
     "x": 0,
     "y": 1035
    },
    "deepnote_cell_type": "markdown",
    "tags": []
   },
   "source": [
    "##### Motorcycle cycle Accident locations Random Sample 100"
   ]
  },
  {
   "cell_type": "code",
   "execution_count": 116,
   "id": "8e9dca10",
   "metadata": {
    "ExecuteTime": {
     "end_time": "2021-11-08T09:35:51.061271Z",
     "start_time": "2021-11-08T09:35:51.049682Z"
    },
    "cell_id": "00174-3bb27111-57a2-44f6-aee8-62a27592200a",
    "deepnote_app_coordinates": {
     "h": 5,
     "w": 12,
     "x": 0,
     "y": 1041
    },
    "deepnote_cell_type": "code",
    "deepnote_to_be_reexecuted": true,
    "execution_millis": 1,
    "execution_start": 1636225010134,
    "source_hash": "fb7c4108",
    "tags": []
   },
   "outputs": [
    {
     "data": {
      "text/plain": [
       "[53.83762698, -1.64241767]"
      ]
     },
     "execution_count": 116,
     "metadata": {},
     "output_type": "execute_result"
    }
   ],
   "source": [
    "locations_mcycle = data[data.type_of_vehicle == 'Motorcycle'][['latitude', 'longitude']]\n",
    "locationlist_mcycle = (locations_mcycle[['latitude', 'longitude']]).values.tolist()\n",
    "len(locationlist_mcycle)\n",
    "locationlist_mcycle[0]"
   ]
  },
  {
   "cell_type": "code",
   "execution_count": 117,
   "id": "c625a2f6",
   "metadata": {
    "ExecuteTime": {
     "end_time": "2021-11-08T09:35:53.571638Z",
     "start_time": "2021-11-08T09:35:53.511045Z"
    },
    "cell_id": "00175-9390f595-9e24-4bab-bd71-1d87e39e8859",
    "deepnote_app_coordinates": {
     "h": 5,
     "w": 12,
     "x": 0,
     "y": 1047
    },
    "deepnote_cell_type": "code",
    "deepnote_to_be_reexecuted": true,
    "execution_millis": 244,
    "execution_start": 1636225032782,
    "source_hash": "953a4865",
    "tags": []
   },
   "outputs": [
    {
     "data": {
      "text/html": [
       "<div style=\"width:100%;\"><div style=\"position:relative;width:100%;height:0;padding-bottom:60%;\"><span style=\"color:#565656\">Make this Notebook Trusted to load map: File -> Trust Notebook</span><iframe src=\"about:blank\" style=\"position:absolute;width:100%;height:100%;left:0;top:0;border:none !important;\" data-html=%3C%21DOCTYPE%20html%3E%0A%3Chead%3E%20%20%20%20%0A%20%20%20%20%3Cmeta%20http-equiv%3D%22content-type%22%20content%3D%22text/html%3B%20charset%3DUTF-8%22%20/%3E%0A%20%20%20%20%0A%20%20%20%20%20%20%20%20%3Cscript%3E%0A%20%20%20%20%20%20%20%20%20%20%20%20L_NO_TOUCH%20%3D%20false%3B%0A%20%20%20%20%20%20%20%20%20%20%20%20L_DISABLE_3D%20%3D%20false%3B%0A%20%20%20%20%20%20%20%20%3C/script%3E%0A%20%20%20%20%0A%20%20%20%20%3Cstyle%3Ehtml%2C%20body%20%7Bwidth%3A%20100%25%3Bheight%3A%20100%25%3Bmargin%3A%200%3Bpadding%3A%200%3B%7D%3C/style%3E%0A%20%20%20%20%3Cstyle%3E%23map%20%7Bposition%3Aabsolute%3Btop%3A0%3Bbottom%3A0%3Bright%3A0%3Bleft%3A0%3B%7D%3C/style%3E%0A%20%20%20%20%3Cscript%20src%3D%22https%3A//cdn.jsdelivr.net/npm/leaflet%401.6.0/dist/leaflet.js%22%3E%3C/script%3E%0A%20%20%20%20%3Cscript%20src%3D%22https%3A//code.jquery.com/jquery-1.12.4.min.js%22%3E%3C/script%3E%0A%20%20%20%20%3Cscript%20src%3D%22https%3A//maxcdn.bootstrapcdn.com/bootstrap/3.2.0/js/bootstrap.min.js%22%3E%3C/script%3E%0A%20%20%20%20%3Cscript%20src%3D%22https%3A//cdnjs.cloudflare.com/ajax/libs/Leaflet.awesome-markers/2.0.2/leaflet.awesome-markers.js%22%3E%3C/script%3E%0A%20%20%20%20%3Clink%20rel%3D%22stylesheet%22%20href%3D%22https%3A//cdn.jsdelivr.net/npm/leaflet%401.6.0/dist/leaflet.css%22/%3E%0A%20%20%20%20%3Clink%20rel%3D%22stylesheet%22%20href%3D%22https%3A//maxcdn.bootstrapcdn.com/bootstrap/3.2.0/css/bootstrap.min.css%22/%3E%0A%20%20%20%20%3Clink%20rel%3D%22stylesheet%22%20href%3D%22https%3A//maxcdn.bootstrapcdn.com/bootstrap/3.2.0/css/bootstrap-theme.min.css%22/%3E%0A%20%20%20%20%3Clink%20rel%3D%22stylesheet%22%20href%3D%22https%3A//maxcdn.bootstrapcdn.com/font-awesome/4.6.3/css/font-awesome.min.css%22/%3E%0A%20%20%20%20%3Clink%20rel%3D%22stylesheet%22%20href%3D%22https%3A//cdnjs.cloudflare.com/ajax/libs/Leaflet.awesome-markers/2.0.2/leaflet.awesome-markers.css%22/%3E%0A%20%20%20%20%3Clink%20rel%3D%22stylesheet%22%20href%3D%22https%3A//cdn.jsdelivr.net/gh/python-visualization/folium/folium/templates/leaflet.awesome.rotate.min.css%22/%3E%0A%20%20%20%20%0A%20%20%20%20%20%20%20%20%20%20%20%20%3Cmeta%20name%3D%22viewport%22%20content%3D%22width%3Ddevice-width%2C%0A%20%20%20%20%20%20%20%20%20%20%20%20%20%20%20%20initial-scale%3D1.0%2C%20maximum-scale%3D1.0%2C%20user-scalable%3Dno%22%20/%3E%0A%20%20%20%20%20%20%20%20%20%20%20%20%3Cstyle%3E%0A%20%20%20%20%20%20%20%20%20%20%20%20%20%20%20%20%23map_07a9fc3ff5964cccbee1475456dd81f4%20%7B%0A%20%20%20%20%20%20%20%20%20%20%20%20%20%20%20%20%20%20%20%20position%3A%20relative%3B%0A%20%20%20%20%20%20%20%20%20%20%20%20%20%20%20%20%20%20%20%20width%3A%20100.0%25%3B%0A%20%20%20%20%20%20%20%20%20%20%20%20%20%20%20%20%20%20%20%20height%3A%20100.0%25%3B%0A%20%20%20%20%20%20%20%20%20%20%20%20%20%20%20%20%20%20%20%20left%3A%200.0%25%3B%0A%20%20%20%20%20%20%20%20%20%20%20%20%20%20%20%20%20%20%20%20top%3A%200.0%25%3B%0A%20%20%20%20%20%20%20%20%20%20%20%20%20%20%20%20%7D%0A%20%20%20%20%20%20%20%20%20%20%20%20%3C/style%3E%0A%20%20%20%20%20%20%20%20%0A%3C/head%3E%0A%3Cbody%3E%20%20%20%20%0A%20%20%20%20%0A%20%20%20%20%20%20%20%20%20%20%20%20%3Cdiv%20class%3D%22folium-map%22%20id%3D%22map_07a9fc3ff5964cccbee1475456dd81f4%22%20%3E%3C/div%3E%0A%20%20%20%20%20%20%20%20%0A%3C/body%3E%0A%3Cscript%3E%20%20%20%20%0A%20%20%20%20%0A%20%20%20%20%20%20%20%20%20%20%20%20var%20map_07a9fc3ff5964cccbee1475456dd81f4%20%3D%20L.map%28%0A%20%20%20%20%20%20%20%20%20%20%20%20%20%20%20%20%22map_07a9fc3ff5964cccbee1475456dd81f4%22%2C%0A%20%20%20%20%20%20%20%20%20%20%20%20%20%20%20%20%7B%0A%20%20%20%20%20%20%20%20%20%20%20%20%20%20%20%20%20%20%20%20center%3A%20%5B53.82310283%2C%20-1.61337338%5D%2C%0A%20%20%20%20%20%20%20%20%20%20%20%20%20%20%20%20%20%20%20%20crs%3A%20L.CRS.EPSG3857%2C%0A%20%20%20%20%20%20%20%20%20%20%20%20%20%20%20%20%20%20%20%20zoom%3A%2012%2C%0A%20%20%20%20%20%20%20%20%20%20%20%20%20%20%20%20%20%20%20%20zoomControl%3A%20true%2C%0A%20%20%20%20%20%20%20%20%20%20%20%20%20%20%20%20%20%20%20%20preferCanvas%3A%20false%2C%0A%20%20%20%20%20%20%20%20%20%20%20%20%20%20%20%20%7D%0A%20%20%20%20%20%20%20%20%20%20%20%20%29%3B%0A%0A%20%20%20%20%20%20%20%20%20%20%20%20%0A%0A%20%20%20%20%20%20%20%20%0A%20%20%20%20%0A%20%20%20%20%20%20%20%20%20%20%20%20var%20tile_layer_64b9aed9cfa54dee8e0dbf5916b5fbfa%20%3D%20L.tileLayer%28%0A%20%20%20%20%20%20%20%20%20%20%20%20%20%20%20%20%22https%3A//%7Bs%7D.tile.openstreetmap.org/%7Bz%7D/%7Bx%7D/%7By%7D.png%22%2C%0A%20%20%20%20%20%20%20%20%20%20%20%20%20%20%20%20%7B%22attribution%22%3A%20%22Data%20by%20%5Cu0026copy%3B%20%5Cu003ca%20href%3D%5C%22http%3A//openstreetmap.org%5C%22%5Cu003eOpenStreetMap%5Cu003c/a%5Cu003e%2C%20under%20%5Cu003ca%20href%3D%5C%22http%3A//www.openstreetmap.org/copyright%5C%22%5Cu003eODbL%5Cu003c/a%5Cu003e.%22%2C%20%22detectRetina%22%3A%20false%2C%20%22maxNativeZoom%22%3A%2018%2C%20%22maxZoom%22%3A%2018%2C%20%22minZoom%22%3A%200%2C%20%22noWrap%22%3A%20false%2C%20%22opacity%22%3A%201%2C%20%22subdomains%22%3A%20%22abc%22%2C%20%22tms%22%3A%20false%7D%0A%20%20%20%20%20%20%20%20%20%20%20%20%29.addTo%28map_07a9fc3ff5964cccbee1475456dd81f4%29%3B%0A%20%20%20%20%20%20%20%20%0A%20%20%20%20%0A%20%20%20%20%20%20%20%20%20%20%20%20var%20marker_a24ff0260462407c9536424be78c8182%20%3D%20L.marker%28%0A%20%20%20%20%20%20%20%20%20%20%20%20%20%20%20%20%5B53.75930823%2C%20-1.55931%5D%2C%0A%20%20%20%20%20%20%20%20%20%20%20%20%20%20%20%20%7B%7D%0A%20%20%20%20%20%20%20%20%20%20%20%20%29.addTo%28map_07a9fc3ff5964cccbee1475456dd81f4%29%3B%0A%20%20%20%20%20%20%20%20%0A%20%20%20%20%0A%20%20%20%20%20%20%20%20%20%20%20%20var%20marker_bc62eaa3ecd84340b725f81d9f9479e3%20%3D%20L.marker%28%0A%20%20%20%20%20%20%20%20%20%20%20%20%20%20%20%20%5B53.89704849%2C%20-1.62278304%5D%2C%0A%20%20%20%20%20%20%20%20%20%20%20%20%20%20%20%20%7B%7D%0A%20%20%20%20%20%20%20%20%20%20%20%20%29.addTo%28map_07a9fc3ff5964cccbee1475456dd81f4%29%3B%0A%20%20%20%20%20%20%20%20%0A%20%20%20%20%0A%20%20%20%20%20%20%20%20%20%20%20%20var%20marker_9c28df8518db4fbabe0f4430b0096606%20%3D%20L.marker%28%0A%20%20%20%20%20%20%20%20%20%20%20%20%20%20%20%20%5B53.80460776%2C%20-1.56914572%5D%2C%0A%20%20%20%20%20%20%20%20%20%20%20%20%20%20%20%20%7B%7D%0A%20%20%20%20%20%20%20%20%20%20%20%20%29.addTo%28map_07a9fc3ff5964cccbee1475456dd81f4%29%3B%0A%20%20%20%20%20%20%20%20%0A%20%20%20%20%0A%20%20%20%20%20%20%20%20%20%20%20%20var%20marker_67ad065421ea4528bc33a7ee5af13f1a%20%3D%20L.marker%28%0A%20%20%20%20%20%20%20%20%20%20%20%20%20%20%20%20%5B53.93690788%2C%20-1.3847547%5D%2C%0A%20%20%20%20%20%20%20%20%20%20%20%20%20%20%20%20%7B%7D%0A%20%20%20%20%20%20%20%20%20%20%20%20%29.addTo%28map_07a9fc3ff5964cccbee1475456dd81f4%29%3B%0A%20%20%20%20%20%20%20%20%0A%20%20%20%20%0A%20%20%20%20%20%20%20%20%20%20%20%20var%20marker_bf2e7959c7314167a4e473fdbf3643dd%20%3D%20L.marker%28%0A%20%20%20%20%20%20%20%20%20%20%20%20%20%20%20%20%5B53.8032099%2C%20-1.53653042%5D%2C%0A%20%20%20%20%20%20%20%20%20%20%20%20%20%20%20%20%7B%7D%0A%20%20%20%20%20%20%20%20%20%20%20%20%29.addTo%28map_07a9fc3ff5964cccbee1475456dd81f4%29%3B%0A%20%20%20%20%20%20%20%20%0A%20%20%20%20%0A%20%20%20%20%20%20%20%20%20%20%20%20var%20marker_356d0cc0c1fb48fdb38d768b8f8c282d%20%3D%20L.marker%28%0A%20%20%20%20%20%20%20%20%20%20%20%20%20%20%20%20%5B53.81170625%2C%20-1.62769377%5D%2C%0A%20%20%20%20%20%20%20%20%20%20%20%20%20%20%20%20%7B%7D%0A%20%20%20%20%20%20%20%20%20%20%20%20%29.addTo%28map_07a9fc3ff5964cccbee1475456dd81f4%29%3B%0A%20%20%20%20%20%20%20%20%0A%20%20%20%20%0A%20%20%20%20%20%20%20%20%20%20%20%20var%20marker_7d1fbe67c15149779014ea4c4e6b85cc%20%3D%20L.marker%28%0A%20%20%20%20%20%20%20%20%20%20%20%20%20%20%20%20%5B53.80340539%2C%20-1.45070894%5D%2C%0A%20%20%20%20%20%20%20%20%20%20%20%20%20%20%20%20%7B%7D%0A%20%20%20%20%20%20%20%20%20%20%20%20%29.addTo%28map_07a9fc3ff5964cccbee1475456dd81f4%29%3B%0A%20%20%20%20%20%20%20%20%0A%20%20%20%20%0A%20%20%20%20%20%20%20%20%20%20%20%20var%20marker_800a6b025eca425c84a875926fb4fa4b%20%3D%20L.marker%28%0A%20%20%20%20%20%20%20%20%20%20%20%20%20%20%20%20%5B53.8383229%2C%20-1.62017899%5D%2C%0A%20%20%20%20%20%20%20%20%20%20%20%20%20%20%20%20%7B%7D%0A%20%20%20%20%20%20%20%20%20%20%20%20%29.addTo%28map_07a9fc3ff5964cccbee1475456dd81f4%29%3B%0A%20%20%20%20%20%20%20%20%0A%20%20%20%20%0A%20%20%20%20%20%20%20%20%20%20%20%20var%20marker_e17545421b7040299c28fb0280487559%20%3D%20L.marker%28%0A%20%20%20%20%20%20%20%20%20%20%20%20%20%20%20%20%5B53.79170499%2C%20-1.57788441%5D%2C%0A%20%20%20%20%20%20%20%20%20%20%20%20%20%20%20%20%7B%7D%0A%20%20%20%20%20%20%20%20%20%20%20%20%29.addTo%28map_07a9fc3ff5964cccbee1475456dd81f4%29%3B%0A%20%20%20%20%20%20%20%20%0A%20%20%20%20%0A%20%20%20%20%20%20%20%20%20%20%20%20var%20marker_ebcfda79d49f4ea3904be08415d14db7%20%3D%20L.marker%28%0A%20%20%20%20%20%20%20%20%20%20%20%20%20%20%20%20%5B53.74373618%2C%20-1.51157484%5D%2C%0A%20%20%20%20%20%20%20%20%20%20%20%20%20%20%20%20%7B%7D%0A%20%20%20%20%20%20%20%20%20%20%20%20%29.addTo%28map_07a9fc3ff5964cccbee1475456dd81f4%29%3B%0A%20%20%20%20%20%20%20%20%0A%20%20%20%20%0A%20%20%20%20%20%20%20%20%20%20%20%20var%20marker_4449898c7ab644fca6fcadbb6271d92f%20%3D%20L.marker%28%0A%20%20%20%20%20%20%20%20%20%20%20%20%20%20%20%20%5B53.84950949%2C%20-1.50549755%5D%2C%0A%20%20%20%20%20%20%20%20%20%20%20%20%20%20%20%20%7B%7D%0A%20%20%20%20%20%20%20%20%20%20%20%20%29.addTo%28map_07a9fc3ff5964cccbee1475456dd81f4%29%3B%0A%20%20%20%20%20%20%20%20%0A%20%20%20%20%0A%20%20%20%20%20%20%20%20%20%20%20%20var%20marker_cb7bf67429894146b46ae1bcd07eebea%20%3D%20L.marker%28%0A%20%20%20%20%20%20%20%20%20%20%20%20%20%20%20%20%5B53.84136913%2C%20-1.58723435%5D%2C%0A%20%20%20%20%20%20%20%20%20%20%20%20%20%20%20%20%7B%7D%0A%20%20%20%20%20%20%20%20%20%20%20%20%29.addTo%28map_07a9fc3ff5964cccbee1475456dd81f4%29%3B%0A%20%20%20%20%20%20%20%20%0A%20%20%20%20%0A%20%20%20%20%20%20%20%20%20%20%20%20var%20marker_12aa7566f1d24a8bb8a1b9f42947576b%20%3D%20L.marker%28%0A%20%20%20%20%20%20%20%20%20%20%20%20%20%20%20%20%5B53.74726651%2C%20-1.54782052%5D%2C%0A%20%20%20%20%20%20%20%20%20%20%20%20%20%20%20%20%7B%7D%0A%20%20%20%20%20%20%20%20%20%20%20%20%29.addTo%28map_07a9fc3ff5964cccbee1475456dd81f4%29%3B%0A%20%20%20%20%20%20%20%20%0A%20%20%20%20%0A%20%20%20%20%20%20%20%20%20%20%20%20var%20marker_6bb6755ded6e402bb67ba5fd2493329e%20%3D%20L.marker%28%0A%20%20%20%20%20%20%20%20%20%20%20%20%20%20%20%20%5B53.77871342%2C%20-1.41055886%5D%2C%0A%20%20%20%20%20%20%20%20%20%20%20%20%20%20%20%20%7B%7D%0A%20%20%20%20%20%20%20%20%20%20%20%20%29.addTo%28map_07a9fc3ff5964cccbee1475456dd81f4%29%3B%0A%20%20%20%20%20%20%20%20%0A%20%20%20%20%0A%20%20%20%20%20%20%20%20%20%20%20%20var%20marker_a2f5cef2f3b7486bbc6ec33ae270728b%20%3D%20L.marker%28%0A%20%20%20%20%20%20%20%20%20%20%20%20%20%20%20%20%5B53.79771918%2C%20-1.50309883%5D%2C%0A%20%20%20%20%20%20%20%20%20%20%20%20%20%20%20%20%7B%7D%0A%20%20%20%20%20%20%20%20%20%20%20%20%29.addTo%28map_07a9fc3ff5964cccbee1475456dd81f4%29%3B%0A%20%20%20%20%20%20%20%20%0A%20%20%20%20%0A%20%20%20%20%20%20%20%20%20%20%20%20var%20marker_7a102b3790e043ea86410ea58e45f08b%20%3D%20L.marker%28%0A%20%20%20%20%20%20%20%20%20%20%20%20%20%20%20%20%5B53.8282677%2C%20-1.60685416%5D%2C%0A%20%20%20%20%20%20%20%20%20%20%20%20%20%20%20%20%7B%7D%0A%20%20%20%20%20%20%20%20%20%20%20%20%29.addTo%28map_07a9fc3ff5964cccbee1475456dd81f4%29%3B%0A%20%20%20%20%20%20%20%20%0A%20%20%20%20%0A%20%20%20%20%20%20%20%20%20%20%20%20var%20marker_5dbef66a341b48e0a8b387630ef5875a%20%3D%20L.marker%28%0A%20%20%20%20%20%20%20%20%20%20%20%20%20%20%20%20%5B53.77793096%2C%20-1.51934234%5D%2C%0A%20%20%20%20%20%20%20%20%20%20%20%20%20%20%20%20%7B%7D%0A%20%20%20%20%20%20%20%20%20%20%20%20%29.addTo%28map_07a9fc3ff5964cccbee1475456dd81f4%29%3B%0A%20%20%20%20%20%20%20%20%0A%20%20%20%20%0A%20%20%20%20%20%20%20%20%20%20%20%20var%20marker_213bacd2ee2a429f9497d3a81a31bbca%20%3D%20L.marker%28%0A%20%20%20%20%20%20%20%20%20%20%20%20%20%20%20%20%5B53.73045523%2C%20-1.45800953%5D%2C%0A%20%20%20%20%20%20%20%20%20%20%20%20%20%20%20%20%7B%7D%0A%20%20%20%20%20%20%20%20%20%20%20%20%29.addTo%28map_07a9fc3ff5964cccbee1475456dd81f4%29%3B%0A%20%20%20%20%20%20%20%20%0A%20%20%20%20%0A%20%20%20%20%20%20%20%20%20%20%20%20var%20marker_49f14f1cebad496e9beccc448a1e718c%20%3D%20L.marker%28%0A%20%20%20%20%20%20%20%20%20%20%20%20%20%20%20%20%5B53.79010089%2C%20-1.70634546%5D%2C%0A%20%20%20%20%20%20%20%20%20%20%20%20%20%20%20%20%7B%7D%0A%20%20%20%20%20%20%20%20%20%20%20%20%29.addTo%28map_07a9fc3ff5964cccbee1475456dd81f4%29%3B%0A%20%20%20%20%20%20%20%20%0A%20%20%20%20%0A%20%20%20%20%20%20%20%20%20%20%20%20var%20marker_914adc79124a4a1bbe4ab14e9e1b2440%20%3D%20L.marker%28%0A%20%20%20%20%20%20%20%20%20%20%20%20%20%20%20%20%5B53.74918209%2C%20-1.5553669%5D%2C%0A%20%20%20%20%20%20%20%20%20%20%20%20%20%20%20%20%7B%7D%0A%20%20%20%20%20%20%20%20%20%20%20%20%29.addTo%28map_07a9fc3ff5964cccbee1475456dd81f4%29%3B%0A%20%20%20%20%20%20%20%20%0A%20%20%20%20%0A%20%20%20%20%20%20%20%20%20%20%20%20var%20marker_689212ced20c47b5ad7fda6d840291c3%20%3D%20L.marker%28%0A%20%20%20%20%20%20%20%20%20%20%20%20%20%20%20%20%5B53.77991072%2C%20-1.55495184%5D%2C%0A%20%20%20%20%20%20%20%20%20%20%20%20%20%20%20%20%7B%7D%0A%20%20%20%20%20%20%20%20%20%20%20%20%29.addTo%28map_07a9fc3ff5964cccbee1475456dd81f4%29%3B%0A%20%20%20%20%20%20%20%20%0A%20%20%20%20%0A%20%20%20%20%20%20%20%20%20%20%20%20var%20marker_541a1c5ca5b547c897e35982d187fcde%20%3D%20L.marker%28%0A%20%20%20%20%20%20%20%20%20%20%20%20%20%20%20%20%5B53.82085998%2C%20-1.59551566%5D%2C%0A%20%20%20%20%20%20%20%20%20%20%20%20%20%20%20%20%7B%7D%0A%20%20%20%20%20%20%20%20%20%20%20%20%29.addTo%28map_07a9fc3ff5964cccbee1475456dd81f4%29%3B%0A%20%20%20%20%20%20%20%20%0A%20%20%20%20%0A%20%20%20%20%20%20%20%20%20%20%20%20var%20marker_b797e293250648e98a973f8edf274065%20%3D%20L.marker%28%0A%20%20%20%20%20%20%20%20%20%20%20%20%20%20%20%20%5B53.80125014%2C%20-1.5387688%5D%2C%0A%20%20%20%20%20%20%20%20%20%20%20%20%20%20%20%20%7B%7D%0A%20%20%20%20%20%20%20%20%20%20%20%20%29.addTo%28map_07a9fc3ff5964cccbee1475456dd81f4%29%3B%0A%20%20%20%20%20%20%20%20%0A%20%20%20%20%0A%20%20%20%20%20%20%20%20%20%20%20%20var%20marker_b00df1e5755d4e1694d5ea616f1b8146%20%3D%20L.marker%28%0A%20%20%20%20%20%20%20%20%20%20%20%20%20%20%20%20%5B53.74898886%2C%20-1.60017904%5D%2C%0A%20%20%20%20%20%20%20%20%20%20%20%20%20%20%20%20%7B%7D%0A%20%20%20%20%20%20%20%20%20%20%20%20%29.addTo%28map_07a9fc3ff5964cccbee1475456dd81f4%29%3B%0A%20%20%20%20%20%20%20%20%0A%20%20%20%20%0A%20%20%20%20%20%20%20%20%20%20%20%20var%20marker_8265329983f94ae1be3998bb26ebdf07%20%3D%20L.marker%28%0A%20%20%20%20%20%20%20%20%20%20%20%20%20%20%20%20%5B53.82908812%2C%20-1.70529921%5D%2C%0A%20%20%20%20%20%20%20%20%20%20%20%20%20%20%20%20%7B%7D%0A%20%20%20%20%20%20%20%20%20%20%20%20%29.addTo%28map_07a9fc3ff5964cccbee1475456dd81f4%29%3B%0A%20%20%20%20%20%20%20%20%0A%20%20%20%20%0A%20%20%20%20%20%20%20%20%20%20%20%20var%20marker_1b1c8371a07e4b9eb11cc6404d0677a7%20%3D%20L.marker%28%0A%20%20%20%20%20%20%20%20%20%20%20%20%20%20%20%20%5B53.77452172%2C%20-1.56333882%5D%2C%0A%20%20%20%20%20%20%20%20%20%20%20%20%20%20%20%20%7B%7D%0A%20%20%20%20%20%20%20%20%20%20%20%20%29.addTo%28map_07a9fc3ff5964cccbee1475456dd81f4%29%3B%0A%20%20%20%20%20%20%20%20%0A%20%20%20%20%0A%20%20%20%20%20%20%20%20%20%20%20%20var%20marker_15383d4121cc4087909062f6a0acebfa%20%3D%20L.marker%28%0A%20%20%20%20%20%20%20%20%20%20%20%20%20%20%20%20%5B53.79129193%2C%20-1.51386144%5D%2C%0A%20%20%20%20%20%20%20%20%20%20%20%20%20%20%20%20%7B%7D%0A%20%20%20%20%20%20%20%20%20%20%20%20%29.addTo%28map_07a9fc3ff5964cccbee1475456dd81f4%29%3B%0A%20%20%20%20%20%20%20%20%0A%20%20%20%20%0A%20%20%20%20%20%20%20%20%20%20%20%20var%20marker_608892314c0949798c48cc412cc1b332%20%3D%20L.marker%28%0A%20%20%20%20%20%20%20%20%20%20%20%20%20%20%20%20%5B53.79808581%2C%20-1.65360932%5D%2C%0A%20%20%20%20%20%20%20%20%20%20%20%20%20%20%20%20%7B%7D%0A%20%20%20%20%20%20%20%20%20%20%20%20%29.addTo%28map_07a9fc3ff5964cccbee1475456dd81f4%29%3B%0A%20%20%20%20%20%20%20%20%0A%20%20%20%20%0A%20%20%20%20%20%20%20%20%20%20%20%20var%20marker_9589bc68a1024c81a66a1d06649b13fd%20%3D%20L.marker%28%0A%20%20%20%20%20%20%20%20%20%20%20%20%20%20%20%20%5B53.74536293%2C%20-1.62407999%5D%2C%0A%20%20%20%20%20%20%20%20%20%20%20%20%20%20%20%20%7B%7D%0A%20%20%20%20%20%20%20%20%20%20%20%20%29.addTo%28map_07a9fc3ff5964cccbee1475456dd81f4%29%3B%0A%20%20%20%20%20%20%20%20%0A%20%20%20%20%0A%20%20%20%20%20%20%20%20%20%20%20%20var%20marker_854a1f194f3a40ffbe25a8f0339387b2%20%3D%20L.marker%28%0A%20%20%20%20%20%20%20%20%20%20%20%20%20%20%20%20%5B53.7869014%2C%20-1.40687745%5D%2C%0A%20%20%20%20%20%20%20%20%20%20%20%20%20%20%20%20%7B%7D%0A%20%20%20%20%20%20%20%20%20%20%20%20%29.addTo%28map_07a9fc3ff5964cccbee1475456dd81f4%29%3B%0A%20%20%20%20%20%20%20%20%0A%20%20%20%20%0A%20%20%20%20%20%20%20%20%20%20%20%20var%20marker_dc9fc2c931d6464da4a86bfa07e05d4e%20%3D%20L.marker%28%0A%20%20%20%20%20%20%20%20%20%20%20%20%20%20%20%20%5B53.7493893%2C%20-1.6355993%5D%2C%0A%20%20%20%20%20%20%20%20%20%20%20%20%20%20%20%20%7B%7D%0A%20%20%20%20%20%20%20%20%20%20%20%20%29.addTo%28map_07a9fc3ff5964cccbee1475456dd81f4%29%3B%0A%20%20%20%20%20%20%20%20%0A%20%20%20%20%0A%20%20%20%20%20%20%20%20%20%20%20%20var%20marker_cfb0e73b8ea64a2eafff08b20137f14a%20%3D%20L.marker%28%0A%20%20%20%20%20%20%20%20%20%20%20%20%20%20%20%20%5B53.78666695%2C%20-1.56152824%5D%2C%0A%20%20%20%20%20%20%20%20%20%20%20%20%20%20%20%20%7B%7D%0A%20%20%20%20%20%20%20%20%20%20%20%20%29.addTo%28map_07a9fc3ff5964cccbee1475456dd81f4%29%3B%0A%20%20%20%20%20%20%20%20%0A%20%20%20%20%0A%20%20%20%20%20%20%20%20%20%20%20%20var%20marker_8c6424dc6d1848e5aaf8dca44532be90%20%3D%20L.marker%28%0A%20%20%20%20%20%20%20%20%20%20%20%20%20%20%20%20%5B53.8090271%2C%20-1.52781013%5D%2C%0A%20%20%20%20%20%20%20%20%20%20%20%20%20%20%20%20%7B%7D%0A%20%20%20%20%20%20%20%20%20%20%20%20%29.addTo%28map_07a9fc3ff5964cccbee1475456dd81f4%29%3B%0A%20%20%20%20%20%20%20%20%0A%20%20%20%20%0A%20%20%20%20%20%20%20%20%20%20%20%20var%20marker_2b4124971c374de5983b828b4b52de2e%20%3D%20L.marker%28%0A%20%20%20%20%20%20%20%20%20%20%20%20%20%20%20%20%5B53.81472837%2C%20-1.5617219%5D%2C%0A%20%20%20%20%20%20%20%20%20%20%20%20%20%20%20%20%7B%7D%0A%20%20%20%20%20%20%20%20%20%20%20%20%29.addTo%28map_07a9fc3ff5964cccbee1475456dd81f4%29%3B%0A%20%20%20%20%20%20%20%20%0A%20%20%20%20%0A%20%20%20%20%20%20%20%20%20%20%20%20var%20marker_b2f65c5f81374dccae78c24c92940dae%20%3D%20L.marker%28%0A%20%20%20%20%20%20%20%20%20%20%20%20%20%20%20%20%5B53.79093693%2C%20-1.65242328%5D%2C%0A%20%20%20%20%20%20%20%20%20%20%20%20%20%20%20%20%7B%7D%0A%20%20%20%20%20%20%20%20%20%20%20%20%29.addTo%28map_07a9fc3ff5964cccbee1475456dd81f4%29%3B%0A%20%20%20%20%20%20%20%20%0A%20%20%20%20%0A%20%20%20%20%20%20%20%20%20%20%20%20var%20marker_4e40ab5f671b4953a58c4357901d4992%20%3D%20L.marker%28%0A%20%20%20%20%20%20%20%20%20%20%20%20%20%20%20%20%5B53.81702914%2C%20-1.57670388%5D%2C%0A%20%20%20%20%20%20%20%20%20%20%20%20%20%20%20%20%7B%7D%0A%20%20%20%20%20%20%20%20%20%20%20%20%29.addTo%28map_07a9fc3ff5964cccbee1475456dd81f4%29%3B%0A%20%20%20%20%20%20%20%20%0A%20%20%20%20%0A%20%20%20%20%20%20%20%20%20%20%20%20var%20marker_3e1972cc49784344876030d3a61d04fe%20%3D%20L.marker%28%0A%20%20%20%20%20%20%20%20%20%20%20%20%20%20%20%20%5B53.84964076%2C%20-1.51122664%5D%2C%0A%20%20%20%20%20%20%20%20%20%20%20%20%20%20%20%20%7B%7D%0A%20%20%20%20%20%20%20%20%20%20%20%20%29.addTo%28map_07a9fc3ff5964cccbee1475456dd81f4%29%3B%0A%20%20%20%20%20%20%20%20%0A%20%20%20%20%0A%20%20%20%20%20%20%20%20%20%20%20%20var%20marker_6f52bbacfc354fc6aa0845e08dd7b499%20%3D%20L.marker%28%0A%20%20%20%20%20%20%20%20%20%20%20%20%20%20%20%20%5B53.83638318%2C%20-1.65668269%5D%2C%0A%20%20%20%20%20%20%20%20%20%20%20%20%20%20%20%20%7B%7D%0A%20%20%20%20%20%20%20%20%20%20%20%20%29.addTo%28map_07a9fc3ff5964cccbee1475456dd81f4%29%3B%0A%20%20%20%20%20%20%20%20%0A%20%20%20%20%0A%20%20%20%20%20%20%20%20%20%20%20%20var%20marker_2e81a9b6fb3541ac8ee9691b594db584%20%3D%20L.marker%28%0A%20%20%20%20%20%20%20%20%20%20%20%20%20%20%20%20%5B53.82266848%2C%20-1.45695906%5D%2C%0A%20%20%20%20%20%20%20%20%20%20%20%20%20%20%20%20%7B%7D%0A%20%20%20%20%20%20%20%20%20%20%20%20%29.addTo%28map_07a9fc3ff5964cccbee1475456dd81f4%29%3B%0A%20%20%20%20%20%20%20%20%0A%20%20%20%20%0A%20%20%20%20%20%20%20%20%20%20%20%20var%20marker_021a07018d5145d78be9f4927479c5a2%20%3D%20L.marker%28%0A%20%20%20%20%20%20%20%20%20%20%20%20%20%20%20%20%5B53.77866658%2C%20-1.5280446%5D%2C%0A%20%20%20%20%20%20%20%20%20%20%20%20%20%20%20%20%7B%7D%0A%20%20%20%20%20%20%20%20%20%20%20%20%29.addTo%28map_07a9fc3ff5964cccbee1475456dd81f4%29%3B%0A%20%20%20%20%20%20%20%20%0A%20%20%20%20%0A%20%20%20%20%20%20%20%20%20%20%20%20var%20marker_4added565f8c406893e4519b7930da80%20%3D%20L.marker%28%0A%20%20%20%20%20%20%20%20%20%20%20%20%20%20%20%20%5B53.76744122%2C%20-1.56391277%5D%2C%0A%20%20%20%20%20%20%20%20%20%20%20%20%20%20%20%20%7B%7D%0A%20%20%20%20%20%20%20%20%20%20%20%20%29.addTo%28map_07a9fc3ff5964cccbee1475456dd81f4%29%3B%0A%20%20%20%20%20%20%20%20%0A%20%20%20%20%0A%20%20%20%20%20%20%20%20%20%20%20%20var%20marker_a6d70f68550140bc9cf23893aa1cc008%20%3D%20L.marker%28%0A%20%20%20%20%20%20%20%20%20%20%20%20%20%20%20%20%5B53.79308331%2C%20-1.5686565%5D%2C%0A%20%20%20%20%20%20%20%20%20%20%20%20%20%20%20%20%7B%7D%0A%20%20%20%20%20%20%20%20%20%20%20%20%29.addTo%28map_07a9fc3ff5964cccbee1475456dd81f4%29%3B%0A%20%20%20%20%20%20%20%20%0A%20%20%20%20%0A%20%20%20%20%20%20%20%20%20%20%20%20var%20marker_ed6b96c7711f41e69bf486e28d9ceb3e%20%3D%20L.marker%28%0A%20%20%20%20%20%20%20%20%20%20%20%20%20%20%20%20%5B53.82819514%2C%20-1.62352119%5D%2C%0A%20%20%20%20%20%20%20%20%20%20%20%20%20%20%20%20%7B%7D%0A%20%20%20%20%20%20%20%20%20%20%20%20%29.addTo%28map_07a9fc3ff5964cccbee1475456dd81f4%29%3B%0A%20%20%20%20%20%20%20%20%0A%20%20%20%20%0A%20%20%20%20%20%20%20%20%20%20%20%20var%20marker_fcc10cfd4cf94ee5a566073e6f40f8df%20%3D%20L.marker%28%0A%20%20%20%20%20%20%20%20%20%20%20%20%20%20%20%20%5B53.77384187%2C%20-1.41238707%5D%2C%0A%20%20%20%20%20%20%20%20%20%20%20%20%20%20%20%20%7B%7D%0A%20%20%20%20%20%20%20%20%20%20%20%20%29.addTo%28map_07a9fc3ff5964cccbee1475456dd81f4%29%3B%0A%20%20%20%20%20%20%20%20%0A%20%20%20%20%0A%20%20%20%20%20%20%20%20%20%20%20%20var%20marker_3a46fbda91324f3bb49771df420f06d4%20%3D%20L.marker%28%0A%20%20%20%20%20%20%20%20%20%20%20%20%20%20%20%20%5B53.74022977%2C%20-1.54331727%5D%2C%0A%20%20%20%20%20%20%20%20%20%20%20%20%20%20%20%20%7B%7D%0A%20%20%20%20%20%20%20%20%20%20%20%20%29.addTo%28map_07a9fc3ff5964cccbee1475456dd81f4%29%3B%0A%20%20%20%20%20%20%20%20%0A%20%20%20%20%0A%20%20%20%20%20%20%20%20%20%20%20%20var%20marker_757f10a82ee84f53ac54b1af3717c3a2%20%3D%20L.marker%28%0A%20%20%20%20%20%20%20%20%20%20%20%20%20%20%20%20%5B53.79318234%2C%20-1.56870103%5D%2C%0A%20%20%20%20%20%20%20%20%20%20%20%20%20%20%20%20%7B%7D%0A%20%20%20%20%20%20%20%20%20%20%20%20%29.addTo%28map_07a9fc3ff5964cccbee1475456dd81f4%29%3B%0A%20%20%20%20%20%20%20%20%0A%20%20%20%20%0A%20%20%20%20%20%20%20%20%20%20%20%20var%20marker_ad03abc540df4d9cab263551bdc58391%20%3D%20L.marker%28%0A%20%20%20%20%20%20%20%20%20%20%20%20%20%20%20%20%5B53.79652195%2C%20-1.5339928%5D%2C%0A%20%20%20%20%20%20%20%20%20%20%20%20%20%20%20%20%7B%7D%0A%20%20%20%20%20%20%20%20%20%20%20%20%29.addTo%28map_07a9fc3ff5964cccbee1475456dd81f4%29%3B%0A%20%20%20%20%20%20%20%20%0A%20%20%20%20%0A%20%20%20%20%20%20%20%20%20%20%20%20var%20marker_87a648f7ca724e1f939a791683ca797d%20%3D%20L.marker%28%0A%20%20%20%20%20%20%20%20%20%20%20%20%20%20%20%20%5B53.83434683%2C%20-1.64560652%5D%2C%0A%20%20%20%20%20%20%20%20%20%20%20%20%20%20%20%20%7B%7D%0A%20%20%20%20%20%20%20%20%20%20%20%20%29.addTo%28map_07a9fc3ff5964cccbee1475456dd81f4%29%3B%0A%20%20%20%20%20%20%20%20%0A%20%20%20%20%0A%20%20%20%20%20%20%20%20%20%20%20%20var%20marker_2a7a50924b29470984dedb0596038c56%20%3D%20L.marker%28%0A%20%20%20%20%20%20%20%20%20%20%20%20%20%20%20%20%5B53.80103232%2C%20-1.55486516%5D%2C%0A%20%20%20%20%20%20%20%20%20%20%20%20%20%20%20%20%7B%7D%0A%20%20%20%20%20%20%20%20%20%20%20%20%29.addTo%28map_07a9fc3ff5964cccbee1475456dd81f4%29%3B%0A%20%20%20%20%20%20%20%20%0A%20%20%20%20%0A%20%20%20%20%20%20%20%20%20%20%20%20var%20marker_f0767abda6174fffa690cccd6870b7d4%20%3D%20L.marker%28%0A%20%20%20%20%20%20%20%20%20%20%20%20%20%20%20%20%5B53.8322583%2C%20-1.64446929%5D%2C%0A%20%20%20%20%20%20%20%20%20%20%20%20%20%20%20%20%7B%7D%0A%20%20%20%20%20%20%20%20%20%20%20%20%29.addTo%28map_07a9fc3ff5964cccbee1475456dd81f4%29%3B%0A%20%20%20%20%20%20%20%20%0A%20%20%20%20%0A%20%20%20%20%20%20%20%20%20%20%20%20var%20marker_f612885578324d32bf22bc813dca6ecf%20%3D%20L.marker%28%0A%20%20%20%20%20%20%20%20%20%20%20%20%20%20%20%20%5B53.81911277%2C%20-1.46175913%5D%2C%0A%20%20%20%20%20%20%20%20%20%20%20%20%20%20%20%20%7B%7D%0A%20%20%20%20%20%20%20%20%20%20%20%20%29.addTo%28map_07a9fc3ff5964cccbee1475456dd81f4%29%3B%0A%20%20%20%20%20%20%20%20%0A%20%20%20%20%0A%20%20%20%20%20%20%20%20%20%20%20%20var%20marker_c4661f0fab714a7b90e95f3a55178f91%20%3D%20L.marker%28%0A%20%20%20%20%20%20%20%20%20%20%20%20%20%20%20%20%5B53.84295342%2C%20-1.62940814%5D%2C%0A%20%20%20%20%20%20%20%20%20%20%20%20%20%20%20%20%7B%7D%0A%20%20%20%20%20%20%20%20%20%20%20%20%29.addTo%28map_07a9fc3ff5964cccbee1475456dd81f4%29%3B%0A%20%20%20%20%20%20%20%20%0A%20%20%20%20%0A%20%20%20%20%20%20%20%20%20%20%20%20var%20marker_cd2b57bdc1414e4a8d1b54acb7545390%20%3D%20L.marker%28%0A%20%20%20%20%20%20%20%20%20%20%20%20%20%20%20%20%5B53.90573038%2C%20-1.69198975%5D%2C%0A%20%20%20%20%20%20%20%20%20%20%20%20%20%20%20%20%7B%7D%0A%20%20%20%20%20%20%20%20%20%20%20%20%29.addTo%28map_07a9fc3ff5964cccbee1475456dd81f4%29%3B%0A%20%20%20%20%20%20%20%20%0A%20%20%20%20%0A%20%20%20%20%20%20%20%20%20%20%20%20var%20marker_a9fda7dda92b4e57b734dce00116df59%20%3D%20L.marker%28%0A%20%20%20%20%20%20%20%20%20%20%20%20%20%20%20%20%5B53.84320578%2C%20-1.48126967%5D%2C%0A%20%20%20%20%20%20%20%20%20%20%20%20%20%20%20%20%7B%7D%0A%20%20%20%20%20%20%20%20%20%20%20%20%29.addTo%28map_07a9fc3ff5964cccbee1475456dd81f4%29%3B%0A%20%20%20%20%20%20%20%20%0A%20%20%20%20%0A%20%20%20%20%20%20%20%20%20%20%20%20var%20marker_1b3cce6556b64a378a483c84c3ab678a%20%3D%20L.marker%28%0A%20%20%20%20%20%20%20%20%20%20%20%20%20%20%20%20%5B53.77371409%2C%20-1.57880846%5D%2C%0A%20%20%20%20%20%20%20%20%20%20%20%20%20%20%20%20%7B%7D%0A%20%20%20%20%20%20%20%20%20%20%20%20%29.addTo%28map_07a9fc3ff5964cccbee1475456dd81f4%29%3B%0A%20%20%20%20%20%20%20%20%0A%20%20%20%20%0A%20%20%20%20%20%20%20%20%20%20%20%20var%20marker_1d8de578c37b4a5896d1b33b31357985%20%3D%20L.marker%28%0A%20%20%20%20%20%20%20%20%20%20%20%20%20%20%20%20%5B53.85914315%2C%20-1.69085679%5D%2C%0A%20%20%20%20%20%20%20%20%20%20%20%20%20%20%20%20%7B%7D%0A%20%20%20%20%20%20%20%20%20%20%20%20%29.addTo%28map_07a9fc3ff5964cccbee1475456dd81f4%29%3B%0A%20%20%20%20%20%20%20%20%0A%20%20%20%20%0A%20%20%20%20%20%20%20%20%20%20%20%20var%20marker_4a20fb538a324b87b2291c12ede4ed44%20%3D%20L.marker%28%0A%20%20%20%20%20%20%20%20%20%20%20%20%20%20%20%20%5B53.7810099%2C%20-1.60177186%5D%2C%0A%20%20%20%20%20%20%20%20%20%20%20%20%20%20%20%20%7B%7D%0A%20%20%20%20%20%20%20%20%20%20%20%20%29.addTo%28map_07a9fc3ff5964cccbee1475456dd81f4%29%3B%0A%20%20%20%20%20%20%20%20%0A%20%20%20%20%0A%20%20%20%20%20%20%20%20%20%20%20%20var%20marker_ada5ff383cc44b30953dfd92104b348e%20%3D%20L.marker%28%0A%20%20%20%20%20%20%20%20%20%20%20%20%20%20%20%20%5B53.77562736%2C%20-1.53929219%5D%2C%0A%20%20%20%20%20%20%20%20%20%20%20%20%20%20%20%20%7B%7D%0A%20%20%20%20%20%20%20%20%20%20%20%20%29.addTo%28map_07a9fc3ff5964cccbee1475456dd81f4%29%3B%0A%20%20%20%20%20%20%20%20%0A%20%20%20%20%0A%20%20%20%20%20%20%20%20%20%20%20%20var%20marker_06d8d00c9a104c4dae60f4ea879d64fa%20%3D%20L.marker%28%0A%20%20%20%20%20%20%20%20%20%20%20%20%20%20%20%20%5B53.74205442%2C%20-1.57022447%5D%2C%0A%20%20%20%20%20%20%20%20%20%20%20%20%20%20%20%20%7B%7D%0A%20%20%20%20%20%20%20%20%20%20%20%20%29.addTo%28map_07a9fc3ff5964cccbee1475456dd81f4%29%3B%0A%20%20%20%20%20%20%20%20%0A%20%20%20%20%0A%20%20%20%20%20%20%20%20%20%20%20%20var%20marker_024869e0226543f0bc1d48c8daa61c2b%20%3D%20L.marker%28%0A%20%20%20%20%20%20%20%20%20%20%20%20%20%20%20%20%5B53.89913432%2C%20-1.6258688%5D%2C%0A%20%20%20%20%20%20%20%20%20%20%20%20%20%20%20%20%7B%7D%0A%20%20%20%20%20%20%20%20%20%20%20%20%29.addTo%28map_07a9fc3ff5964cccbee1475456dd81f4%29%3B%0A%20%20%20%20%20%20%20%20%0A%20%20%20%20%0A%20%20%20%20%20%20%20%20%20%20%20%20var%20marker_055dd77a4df0478db10b6f574a29827f%20%3D%20L.marker%28%0A%20%20%20%20%20%20%20%20%20%20%20%20%20%20%20%20%5B53.84961876%2C%20-1.51023886%5D%2C%0A%20%20%20%20%20%20%20%20%20%20%20%20%20%20%20%20%7B%7D%0A%20%20%20%20%20%20%20%20%20%20%20%20%29.addTo%28map_07a9fc3ff5964cccbee1475456dd81f4%29%3B%0A%20%20%20%20%20%20%20%20%0A%20%20%20%20%0A%20%20%20%20%20%20%20%20%20%20%20%20var%20marker_48d3222f25c5441c8b6813a2b0dc0bf2%20%3D%20L.marker%28%0A%20%20%20%20%20%20%20%20%20%20%20%20%20%20%20%20%5B53.78088701%2C%20-1.59459498%5D%2C%0A%20%20%20%20%20%20%20%20%20%20%20%20%20%20%20%20%7B%7D%0A%20%20%20%20%20%20%20%20%20%20%20%20%29.addTo%28map_07a9fc3ff5964cccbee1475456dd81f4%29%3B%0A%20%20%20%20%20%20%20%20%0A%20%20%20%20%0A%20%20%20%20%20%20%20%20%20%20%20%20var%20marker_2af497f78176426b8c4823365369f55a%20%3D%20L.marker%28%0A%20%20%20%20%20%20%20%20%20%20%20%20%20%20%20%20%5B53.81688216%2C%20-1.45741341%5D%2C%0A%20%20%20%20%20%20%20%20%20%20%20%20%20%20%20%20%7B%7D%0A%20%20%20%20%20%20%20%20%20%20%20%20%29.addTo%28map_07a9fc3ff5964cccbee1475456dd81f4%29%3B%0A%20%20%20%20%20%20%20%20%0A%20%20%20%20%0A%20%20%20%20%20%20%20%20%20%20%20%20var%20marker_45fa27bb7b32479c9752b80ecd6c4ec7%20%3D%20L.marker%28%0A%20%20%20%20%20%20%20%20%20%20%20%20%20%20%20%20%5B53.85038731%2C%20-1.67321287%5D%2C%0A%20%20%20%20%20%20%20%20%20%20%20%20%20%20%20%20%7B%7D%0A%20%20%20%20%20%20%20%20%20%20%20%20%29.addTo%28map_07a9fc3ff5964cccbee1475456dd81f4%29%3B%0A%20%20%20%20%20%20%20%20%0A%20%20%20%20%0A%20%20%20%20%20%20%20%20%20%20%20%20var%20marker_46e769bc24ee441c8d54343f1c6175a1%20%3D%20L.marker%28%0A%20%20%20%20%20%20%20%20%20%20%20%20%20%20%20%20%5B53.84075648%2C%20-1.5947325%5D%2C%0A%20%20%20%20%20%20%20%20%20%20%20%20%20%20%20%20%7B%7D%0A%20%20%20%20%20%20%20%20%20%20%20%20%29.addTo%28map_07a9fc3ff5964cccbee1475456dd81f4%29%3B%0A%20%20%20%20%20%20%20%20%0A%20%20%20%20%0A%20%20%20%20%20%20%20%20%20%20%20%20var%20marker_20bfa7cbc53648e0b538b0232638e4f6%20%3D%20L.marker%28%0A%20%20%20%20%20%20%20%20%20%20%20%20%20%20%20%20%5B53.73482085%2C%20-1.57583115%5D%2C%0A%20%20%20%20%20%20%20%20%20%20%20%20%20%20%20%20%7B%7D%0A%20%20%20%20%20%20%20%20%20%20%20%20%29.addTo%28map_07a9fc3ff5964cccbee1475456dd81f4%29%3B%0A%20%20%20%20%20%20%20%20%0A%20%20%20%20%0A%20%20%20%20%20%20%20%20%20%20%20%20var%20marker_0d8a1568b0424e3ebfc52a951de6a815%20%3D%20L.marker%28%0A%20%20%20%20%20%20%20%20%20%20%20%20%20%20%20%20%5B53.73398944%2C%20-1.59008887%5D%2C%0A%20%20%20%20%20%20%20%20%20%20%20%20%20%20%20%20%7B%7D%0A%20%20%20%20%20%20%20%20%20%20%20%20%29.addTo%28map_07a9fc3ff5964cccbee1475456dd81f4%29%3B%0A%20%20%20%20%20%20%20%20%0A%20%20%20%20%0A%20%20%20%20%20%20%20%20%20%20%20%20var%20marker_6c18e2450c6549d885959ba6bf65f59c%20%3D%20L.marker%28%0A%20%20%20%20%20%20%20%20%20%20%20%20%20%20%20%20%5B53.89962165%2C%20-1.67605519%5D%2C%0A%20%20%20%20%20%20%20%20%20%20%20%20%20%20%20%20%7B%7D%0A%20%20%20%20%20%20%20%20%20%20%20%20%29.addTo%28map_07a9fc3ff5964cccbee1475456dd81f4%29%3B%0A%20%20%20%20%20%20%20%20%0A%20%20%20%20%0A%20%20%20%20%20%20%20%20%20%20%20%20var%20marker_7fd4398fd090442c993d564fa9ee5963%20%3D%20L.marker%28%0A%20%20%20%20%20%20%20%20%20%20%20%20%20%20%20%20%5B53.80165701%2C%20-1.44772553%5D%2C%0A%20%20%20%20%20%20%20%20%20%20%20%20%20%20%20%20%7B%7D%0A%20%20%20%20%20%20%20%20%20%20%20%20%29.addTo%28map_07a9fc3ff5964cccbee1475456dd81f4%29%3B%0A%20%20%20%20%20%20%20%20%0A%20%20%20%20%0A%20%20%20%20%20%20%20%20%20%20%20%20var%20marker_45a7392a88144fc681f2b81398109fab%20%3D%20L.marker%28%0A%20%20%20%20%20%20%20%20%20%20%20%20%20%20%20%20%5B53.93099546%2C%20-1.34420688%5D%2C%0A%20%20%20%20%20%20%20%20%20%20%20%20%20%20%20%20%7B%7D%0A%20%20%20%20%20%20%20%20%20%20%20%20%29.addTo%28map_07a9fc3ff5964cccbee1475456dd81f4%29%3B%0A%20%20%20%20%20%20%20%20%0A%20%20%20%20%0A%20%20%20%20%20%20%20%20%20%20%20%20var%20marker_19a5f013ad474a158fc96a043592e08d%20%3D%20L.marker%28%0A%20%20%20%20%20%20%20%20%20%20%20%20%20%20%20%20%5B53.80716635%2C%20-1.62159835%5D%2C%0A%20%20%20%20%20%20%20%20%20%20%20%20%20%20%20%20%7B%7D%0A%20%20%20%20%20%20%20%20%20%20%20%20%29.addTo%28map_07a9fc3ff5964cccbee1475456dd81f4%29%3B%0A%20%20%20%20%20%20%20%20%0A%20%20%20%20%0A%20%20%20%20%20%20%20%20%20%20%20%20var%20marker_ed49de9638f846078d01c381e1e686b5%20%3D%20L.marker%28%0A%20%20%20%20%20%20%20%20%20%20%20%20%20%20%20%20%5B53.80733018%2C%20-1.66158152%5D%2C%0A%20%20%20%20%20%20%20%20%20%20%20%20%20%20%20%20%7B%7D%0A%20%20%20%20%20%20%20%20%20%20%20%20%29.addTo%28map_07a9fc3ff5964cccbee1475456dd81f4%29%3B%0A%20%20%20%20%20%20%20%20%0A%20%20%20%20%0A%20%20%20%20%20%20%20%20%20%20%20%20var%20marker_ad1bceb32c224c56ad86e441fd8b2db8%20%3D%20L.marker%28%0A%20%20%20%20%20%20%20%20%20%20%20%20%20%20%20%20%5B53.81430673%2C%20-1.50200719%5D%2C%0A%20%20%20%20%20%20%20%20%20%20%20%20%20%20%20%20%7B%7D%0A%20%20%20%20%20%20%20%20%20%20%20%20%29.addTo%28map_07a9fc3ff5964cccbee1475456dd81f4%29%3B%0A%20%20%20%20%20%20%20%20%0A%20%20%20%20%0A%20%20%20%20%20%20%20%20%20%20%20%20var%20marker_b388fa1868de49de807476067da24b4b%20%3D%20L.marker%28%0A%20%20%20%20%20%20%20%20%20%20%20%20%20%20%20%20%5B53.84496836%2C%20-1.70112949%5D%2C%0A%20%20%20%20%20%20%20%20%20%20%20%20%20%20%20%20%7B%7D%0A%20%20%20%20%20%20%20%20%20%20%20%20%29.addTo%28map_07a9fc3ff5964cccbee1475456dd81f4%29%3B%0A%20%20%20%20%20%20%20%20%0A%20%20%20%20%0A%20%20%20%20%20%20%20%20%20%20%20%20var%20marker_9b5691d765974c7bbb018617b965a615%20%3D%20L.marker%28%0A%20%20%20%20%20%20%20%20%20%20%20%20%20%20%20%20%5B53.81555104%2C%20-1.49647915%5D%2C%0A%20%20%20%20%20%20%20%20%20%20%20%20%20%20%20%20%7B%7D%0A%20%20%20%20%20%20%20%20%20%20%20%20%29.addTo%28map_07a9fc3ff5964cccbee1475456dd81f4%29%3B%0A%20%20%20%20%20%20%20%20%0A%20%20%20%20%0A%20%20%20%20%20%20%20%20%20%20%20%20var%20marker_8aa9dfc67fb34ea1ae5cc2109edde86b%20%3D%20L.marker%28%0A%20%20%20%20%20%20%20%20%20%20%20%20%20%20%20%20%5B53.80841194%2C%20-1.5748164%5D%2C%0A%20%20%20%20%20%20%20%20%20%20%20%20%20%20%20%20%7B%7D%0A%20%20%20%20%20%20%20%20%20%20%20%20%29.addTo%28map_07a9fc3ff5964cccbee1475456dd81f4%29%3B%0A%20%20%20%20%20%20%20%20%0A%20%20%20%20%0A%20%20%20%20%20%20%20%20%20%20%20%20var%20marker_6235fac650a6472aa8ba187658eeea94%20%3D%20L.marker%28%0A%20%20%20%20%20%20%20%20%20%20%20%20%20%20%20%20%5B53.89215334%2C%20-1.3666497%5D%2C%0A%20%20%20%20%20%20%20%20%20%20%20%20%20%20%20%20%7B%7D%0A%20%20%20%20%20%20%20%20%20%20%20%20%29.addTo%28map_07a9fc3ff5964cccbee1475456dd81f4%29%3B%0A%20%20%20%20%20%20%20%20%0A%20%20%20%20%0A%20%20%20%20%20%20%20%20%20%20%20%20var%20marker_9da72567642c4b8080b17da1af00daab%20%3D%20L.marker%28%0A%20%20%20%20%20%20%20%20%20%20%20%20%20%20%20%20%5B53.78735897%2C%20-1.58946308%5D%2C%0A%20%20%20%20%20%20%20%20%20%20%20%20%20%20%20%20%7B%7D%0A%20%20%20%20%20%20%20%20%20%20%20%20%29.addTo%28map_07a9fc3ff5964cccbee1475456dd81f4%29%3B%0A%20%20%20%20%20%20%20%20%0A%20%20%20%20%0A%20%20%20%20%20%20%20%20%20%20%20%20var%20marker_1d8f17eb27e14767ba8bb52bc12b0120%20%3D%20L.marker%28%0A%20%20%20%20%20%20%20%20%20%20%20%20%20%20%20%20%5B53.86615257%2C%20-1.68352125%5D%2C%0A%20%20%20%20%20%20%20%20%20%20%20%20%20%20%20%20%7B%7D%0A%20%20%20%20%20%20%20%20%20%20%20%20%29.addTo%28map_07a9fc3ff5964cccbee1475456dd81f4%29%3B%0A%20%20%20%20%20%20%20%20%0A%20%20%20%20%0A%20%20%20%20%20%20%20%20%20%20%20%20var%20marker_7f8b3bfbebc941cf9fe6ed4892961643%20%3D%20L.marker%28%0A%20%20%20%20%20%20%20%20%20%20%20%20%20%20%20%20%5B53.74999992%2C%20-1.63541204%5D%2C%0A%20%20%20%20%20%20%20%20%20%20%20%20%20%20%20%20%7B%7D%0A%20%20%20%20%20%20%20%20%20%20%20%20%29.addTo%28map_07a9fc3ff5964cccbee1475456dd81f4%29%3B%0A%20%20%20%20%20%20%20%20%0A%20%20%20%20%0A%20%20%20%20%20%20%20%20%20%20%20%20var%20marker_66f41aeee1334ce18f51680d6f8dda3b%20%3D%20L.marker%28%0A%20%20%20%20%20%20%20%20%20%20%20%20%20%20%20%20%5B53.80571149%2C%20-1.4906745%5D%2C%0A%20%20%20%20%20%20%20%20%20%20%20%20%20%20%20%20%7B%7D%0A%20%20%20%20%20%20%20%20%20%20%20%20%29.addTo%28map_07a9fc3ff5964cccbee1475456dd81f4%29%3B%0A%20%20%20%20%20%20%20%20%0A%20%20%20%20%0A%20%20%20%20%20%20%20%20%20%20%20%20var%20marker_ef87e6fcbdca479ca3bab01ca3984213%20%3D%20L.marker%28%0A%20%20%20%20%20%20%20%20%20%20%20%20%20%20%20%20%5B53.84844632%2C%20-1.53411683%5D%2C%0A%20%20%20%20%20%20%20%20%20%20%20%20%20%20%20%20%7B%7D%0A%20%20%20%20%20%20%20%20%20%20%20%20%29.addTo%28map_07a9fc3ff5964cccbee1475456dd81f4%29%3B%0A%20%20%20%20%20%20%20%20%0A%20%20%20%20%0A%20%20%20%20%20%20%20%20%20%20%20%20var%20marker_e0b17ae688c740fa9c64f482934c643f%20%3D%20L.marker%28%0A%20%20%20%20%20%20%20%20%20%20%20%20%20%20%20%20%5B53.7387662%2C%20-1.53664738%5D%2C%0A%20%20%20%20%20%20%20%20%20%20%20%20%20%20%20%20%7B%7D%0A%20%20%20%20%20%20%20%20%20%20%20%20%29.addTo%28map_07a9fc3ff5964cccbee1475456dd81f4%29%3B%0A%20%20%20%20%20%20%20%20%0A%20%20%20%20%0A%20%20%20%20%20%20%20%20%20%20%20%20var%20marker_e31c92e082c34882a711bc48f4122d41%20%3D%20L.marker%28%0A%20%20%20%20%20%20%20%20%20%20%20%20%20%20%20%20%5B53.78926482%2C%20-1.4178035%5D%2C%0A%20%20%20%20%20%20%20%20%20%20%20%20%20%20%20%20%7B%7D%0A%20%20%20%20%20%20%20%20%20%20%20%20%29.addTo%28map_07a9fc3ff5964cccbee1475456dd81f4%29%3B%0A%20%20%20%20%20%20%20%20%0A%20%20%20%20%0A%20%20%20%20%20%20%20%20%20%20%20%20var%20marker_0ececb271cdf4ed4bf480db188657867%20%3D%20L.marker%28%0A%20%20%20%20%20%20%20%20%20%20%20%20%20%20%20%20%5B53.78766069%2C%20-1.53654985%5D%2C%0A%20%20%20%20%20%20%20%20%20%20%20%20%20%20%20%20%7B%7D%0A%20%20%20%20%20%20%20%20%20%20%20%20%29.addTo%28map_07a9fc3ff5964cccbee1475456dd81f4%29%3B%0A%20%20%20%20%20%20%20%20%0A%20%20%20%20%0A%20%20%20%20%20%20%20%20%20%20%20%20var%20marker_facf23e937c14d53941b5c703294132e%20%3D%20L.marker%28%0A%20%20%20%20%20%20%20%20%20%20%20%20%20%20%20%20%5B53.78527509%2C%20-1.54495415%5D%2C%0A%20%20%20%20%20%20%20%20%20%20%20%20%20%20%20%20%7B%7D%0A%20%20%20%20%20%20%20%20%20%20%20%20%29.addTo%28map_07a9fc3ff5964cccbee1475456dd81f4%29%3B%0A%20%20%20%20%20%20%20%20%0A%20%20%20%20%0A%20%20%20%20%20%20%20%20%20%20%20%20var%20marker_1bf73038be234eb3b967d750b5155ea3%20%3D%20L.marker%28%0A%20%20%20%20%20%20%20%20%20%20%20%20%20%20%20%20%5B53.80211447%2C%20-1.64505845%5D%2C%0A%20%20%20%20%20%20%20%20%20%20%20%20%20%20%20%20%7B%7D%0A%20%20%20%20%20%20%20%20%20%20%20%20%29.addTo%28map_07a9fc3ff5964cccbee1475456dd81f4%29%3B%0A%20%20%20%20%20%20%20%20%0A%20%20%20%20%0A%20%20%20%20%20%20%20%20%20%20%20%20var%20marker_59c92be9582540c4869c4132becc7f25%20%3D%20L.marker%28%0A%20%20%20%20%20%20%20%20%20%20%20%20%20%20%20%20%5B53.7572666%2C%20-1.33300477%5D%2C%0A%20%20%20%20%20%20%20%20%20%20%20%20%20%20%20%20%7B%7D%0A%20%20%20%20%20%20%20%20%20%20%20%20%29.addTo%28map_07a9fc3ff5964cccbee1475456dd81f4%29%3B%0A%20%20%20%20%20%20%20%20%0A%20%20%20%20%0A%20%20%20%20%20%20%20%20%20%20%20%20var%20marker_c57669a5c44a4e88ab339304e269d5b3%20%3D%20L.marker%28%0A%20%20%20%20%20%20%20%20%20%20%20%20%20%20%20%20%5B53.74970727%2C%20-1.63376166%5D%2C%0A%20%20%20%20%20%20%20%20%20%20%20%20%20%20%20%20%7B%7D%0A%20%20%20%20%20%20%20%20%20%20%20%20%29.addTo%28map_07a9fc3ff5964cccbee1475456dd81f4%29%3B%0A%20%20%20%20%20%20%20%20%0A%20%20%20%20%0A%20%20%20%20%20%20%20%20%20%20%20%20var%20marker_2c77fdb8442e4dea8a05957ebfb2b70a%20%3D%20L.marker%28%0A%20%20%20%20%20%20%20%20%20%20%20%20%20%20%20%20%5B53.7438043%2C%20-1.62291123%5D%2C%0A%20%20%20%20%20%20%20%20%20%20%20%20%20%20%20%20%7B%7D%0A%20%20%20%20%20%20%20%20%20%20%20%20%29.addTo%28map_07a9fc3ff5964cccbee1475456dd81f4%29%3B%0A%20%20%20%20%20%20%20%20%0A%20%20%20%20%0A%20%20%20%20%20%20%20%20%20%20%20%20var%20marker_b2b6af88977d41608ca73f944851d2b2%20%3D%20L.marker%28%0A%20%20%20%20%20%20%20%20%20%20%20%20%20%20%20%20%5B53.78115746%2C%20-1.55912718%5D%2C%0A%20%20%20%20%20%20%20%20%20%20%20%20%20%20%20%20%7B%7D%0A%20%20%20%20%20%20%20%20%20%20%20%20%29.addTo%28map_07a9fc3ff5964cccbee1475456dd81f4%29%3B%0A%20%20%20%20%20%20%20%20%0A%20%20%20%20%0A%20%20%20%20%20%20%20%20%20%20%20%20var%20marker_61831e8a67ef409c87a928382a5482d0%20%3D%20L.marker%28%0A%20%20%20%20%20%20%20%20%20%20%20%20%20%20%20%20%5B53.86549091%2C%20-1.69886896%5D%2C%0A%20%20%20%20%20%20%20%20%20%20%20%20%20%20%20%20%7B%7D%0A%20%20%20%20%20%20%20%20%20%20%20%20%29.addTo%28map_07a9fc3ff5964cccbee1475456dd81f4%29%3B%0A%20%20%20%20%20%20%20%20%0A%20%20%20%20%0A%20%20%20%20%20%20%20%20%20%20%20%20var%20marker_fa26553723ad490c8afe08e51b98024f%20%3D%20L.marker%28%0A%20%20%20%20%20%20%20%20%20%20%20%20%20%20%20%20%5B53.80542631%2C%20-1.5794625%5D%2C%0A%20%20%20%20%20%20%20%20%20%20%20%20%20%20%20%20%7B%7D%0A%20%20%20%20%20%20%20%20%20%20%20%20%29.addTo%28map_07a9fc3ff5964cccbee1475456dd81f4%29%3B%0A%20%20%20%20%20%20%20%20%0A%20%20%20%20%0A%20%20%20%20%20%20%20%20%20%20%20%20var%20marker_0388e355ec1e4ca78105917c566a063a%20%3D%20L.marker%28%0A%20%20%20%20%20%20%20%20%20%20%20%20%20%20%20%20%5B53.73205474%2C%20-1.58419598%5D%2C%0A%20%20%20%20%20%20%20%20%20%20%20%20%20%20%20%20%7B%7D%0A%20%20%20%20%20%20%20%20%20%20%20%20%29.addTo%28map_07a9fc3ff5964cccbee1475456dd81f4%29%3B%0A%20%20%20%20%20%20%20%20%0A%20%20%20%20%0A%20%20%20%20%20%20%20%20%20%20%20%20var%20marker_4c69191f9d1844fbb07e00fb9124c36d%20%3D%20L.marker%28%0A%20%20%20%20%20%20%20%20%20%20%20%20%20%20%20%20%5B53.86909547%2C%20-1.71757823%5D%2C%0A%20%20%20%20%20%20%20%20%20%20%20%20%20%20%20%20%7B%7D%0A%20%20%20%20%20%20%20%20%20%20%20%20%29.addTo%28map_07a9fc3ff5964cccbee1475456dd81f4%29%3B%0A%20%20%20%20%20%20%20%20%0A%20%20%20%20%0A%20%20%20%20%20%20%20%20%20%20%20%20var%20marker_8820b9b98cbe49ce8d6eebdf78f9a252%20%3D%20L.marker%28%0A%20%20%20%20%20%20%20%20%20%20%20%20%20%20%20%20%5B53.85618478%2C%20-1.5909658%5D%2C%0A%20%20%20%20%20%20%20%20%20%20%20%20%20%20%20%20%7B%7D%0A%20%20%20%20%20%20%20%20%20%20%20%20%29.addTo%28map_07a9fc3ff5964cccbee1475456dd81f4%29%3B%0A%20%20%20%20%20%20%20%20%0A%20%20%20%20%0A%20%20%20%20%20%20%20%20%20%20%20%20var%20marker_01db2ff110bc42ad8577cf0b98ef52fc%20%3D%20L.marker%28%0A%20%20%20%20%20%20%20%20%20%20%20%20%20%20%20%20%5B53.83296019%2C%20-1.49625619%5D%2C%0A%20%20%20%20%20%20%20%20%20%20%20%20%20%20%20%20%7B%7D%0A%20%20%20%20%20%20%20%20%20%20%20%20%29.addTo%28map_07a9fc3ff5964cccbee1475456dd81f4%29%3B%0A%20%20%20%20%20%20%20%20%0A%20%20%20%20%0A%20%20%20%20%20%20%20%20%20%20%20%20var%20marker_f19bc5e3ea69495abce2fbc03ae6d072%20%3D%20L.marker%28%0A%20%20%20%20%20%20%20%20%20%20%20%20%20%20%20%20%5B53.80757708%2C%20-1.53626973%5D%2C%0A%20%20%20%20%20%20%20%20%20%20%20%20%20%20%20%20%7B%7D%0A%20%20%20%20%20%20%20%20%20%20%20%20%29.addTo%28map_07a9fc3ff5964cccbee1475456dd81f4%29%3B%0A%20%20%20%20%20%20%20%20%0A%20%20%20%20%0A%20%20%20%20%20%20%20%20%20%20%20%20var%20marker_efb85886125f494088cba3cb5e024cbc%20%3D%20L.marker%28%0A%20%20%20%20%20%20%20%20%20%20%20%20%20%20%20%20%5B53.79461227%2C%20-1.54459519%5D%2C%0A%20%20%20%20%20%20%20%20%20%20%20%20%20%20%20%20%7B%7D%0A%20%20%20%20%20%20%20%20%20%20%20%20%29.addTo%28map_07a9fc3ff5964cccbee1475456dd81f4%29%3B%0A%20%20%20%20%20%20%20%20%0A%20%20%20%20%0A%20%20%20%20%20%20%20%20%20%20%20%20var%20marker_96c0322680aa4a44938dfc82f8dc2e45%20%3D%20L.marker%28%0A%20%20%20%20%20%20%20%20%20%20%20%20%20%20%20%20%5B53.80147108%2C%20-1.52174555%5D%2C%0A%20%20%20%20%20%20%20%20%20%20%20%20%20%20%20%20%7B%7D%0A%20%20%20%20%20%20%20%20%20%20%20%20%29.addTo%28map_07a9fc3ff5964cccbee1475456dd81f4%29%3B%0A%20%20%20%20%20%20%20%20%0A%3C/script%3E onload=\"this.contentDocument.open();this.contentDocument.write(    decodeURIComponent(this.getAttribute('data-html')));this.contentDocument.close();\" allowfullscreen webkitallowfullscreen mozallowfullscreen></iframe></div></div>"
      ],
      "text/plain": [
       "<folium.folium.Map at 0x7f3061c58520>"
      ]
     },
     "execution_count": 117,
     "metadata": {},
     "output_type": "execute_result"
    }
   ],
   "source": [
    "sample_location_mcycle_100 = sample(locationlist_mcycle,100)\n",
    "\n",
    "map = folium.Map(location=[53.82310283, -1.61337338], zoom_start=12)\n",
    "for point in range(0, len(sample_location_mcycle_100)):\n",
    "    folium.Marker(sample_location_mcycle_100[point]).add_to(map)\n",
    "map"
   ]
  },
  {
   "cell_type": "markdown",
   "id": "73d61637",
   "metadata": {
    "ExecuteTime": {
     "end_time": "2021-11-03T18:07:19.244598Z",
     "start_time": "2021-11-03T18:07:19.241570Z"
    },
    "cell_id": "00140-0359ed02-8681-4db7-ad16-91373cb8bb45",
    "deepnote_app_coordinates": {
     "h": 5,
     "w": 12,
     "x": 0,
     "y": 750
    },
    "deepnote_cell_type": "markdown"
   },
   "source": [
    "##### By using pandas_profiling we can read Profile Report"
   ]
  },
  {
   "cell_type": "code",
   "execution_count": null,
   "id": "c47d197c",
   "metadata": {
    "ExecuteTime": {
     "end_time": "2021-11-05T07:50:31.295476Z",
     "start_time": "2021-11-05T07:50:31.295456Z"
    },
    "cell_id": "00141-e8c26cc2-b35b-46c3-9314-28d0f99d7352",
    "deepnote_app_coordinates": {
     "h": 5,
     "w": 12,
     "x": 0,
     "y": 756
    },
    "deepnote_cell_type": "code",
    "deepnote_to_be_reexecuted": true,
    "execution_millis": 41314061,
    "execution_start": 1636225047394,
    "source_hash": "a321e7bb"
   },
   "outputs": [],
   "source": [
    "#profileReport(data)"
   ]
  },
  {
   "cell_type": "markdown",
   "id": "9f6c8389",
   "metadata": {
    "cell_id": "00186-77e85741-299f-4b38-a162-e30de9914c06",
    "deepnote_app_coordinates": {
     "h": 5,
     "w": 12,
     "x": 0,
     "y": 1113
    },
    "deepnote_cell_type": "markdown",
    "tags": []
   },
   "source": [
    "##### Analysis and visualizaion by Class, Severity and Sex of Casualty"
   ]
  },
  {
   "cell_type": "code",
   "execution_count": 118,
   "id": "4ab3946f",
   "metadata": {
    "ExecuteTime": {
     "end_time": "2021-11-08T09:35:57.464572Z",
     "start_time": "2021-11-08T09:35:57.459249Z"
    },
    "cell_id": "00187-5866f996-ad5b-4dc6-aaf2-63d85511de4a",
    "deepnote_app_coordinates": {
     "h": 5,
     "w": 12,
     "x": 0,
     "y": 1119
    },
    "deepnote_cell_type": "code",
    "deepnote_to_be_reexecuted": true,
    "execution_millis": 5,
    "execution_start": 1636225088003,
    "source_hash": "d95f9d20",
    "tags": []
   },
   "outputs": [
    {
     "data": {
      "text/plain": [
       "Index(['reference_number', 'easting', 'northing', 'number_of_vehicles',\n",
       "       '1st_road_class', 'road_surface', 'lighting_conditions',\n",
       "       'weather_conditions', 'casualty_class', 'casualty_severity',\n",
       "       'sex_of_casualty', 'age_of_casualty', 'type_of_vehicle', 'longitude',\n",
       "       'latitude'],\n",
       "      dtype='object')"
      ]
     },
     "execution_count": 118,
     "metadata": {},
     "output_type": "execute_result"
    }
   ],
   "source": [
    "data.columns\n"
   ]
  },
  {
   "cell_type": "code",
   "execution_count": 119,
   "id": "9deb8708",
   "metadata": {
    "ExecuteTime": {
     "end_time": "2021-11-08T09:36:01.619900Z",
     "start_time": "2021-11-08T09:36:01.610976Z"
    },
    "cell_id": "00186-3d497bf3-4498-4412-bce8-368931b3e16b",
    "deepnote_app_coordinates": {
     "h": 5,
     "w": 12,
     "x": 0,
     "y": 1107
    },
    "deepnote_cell_type": "code",
    "deepnote_to_be_reexecuted": true,
    "execution_millis": 7,
    "execution_start": 1636225090822,
    "source_hash": "1638e92b",
    "tags": []
   },
   "outputs": [
    {
     "data": {
      "text/plain": [
       "Male      58.762849\n",
       "Female    41.237151\n",
       "Name: sex_of_casualty, dtype: float64"
      ]
     },
     "execution_count": 119,
     "metadata": {},
     "output_type": "execute_result"
    }
   ],
   "source": [
    "(data['sex_of_casualty'].value_counts(normalize=True)*100)"
   ]
  },
  {
   "cell_type": "markdown",
   "id": "b4bc432c",
   "metadata": {
    "cell_id": "00189-94832b39-2ae2-4f77-ae28-0a242dfb702f",
    "deepnote_app_coordinates": {
     "h": 5,
     "w": 12,
     "x": 0,
     "y": 1125
    },
    "deepnote_cell_type": "markdown",
    "tags": []
   },
   "source": [
    "- Male percentage is involved higher in accidents"
   ]
  },
  {
   "cell_type": "code",
   "execution_count": 120,
   "id": "05756181",
   "metadata": {
    "ExecuteTime": {
     "end_time": "2021-11-08T09:36:04.840505Z",
     "start_time": "2021-11-08T09:36:04.782353Z"
    },
    "cell_id": "00193-c70e3c23-831b-42fe-9736-15d00a410561",
    "deepnote_app_coordinates": {
     "h": 5,
     "w": 12,
     "x": 0,
     "y": 1197
    },
    "deepnote_cell_type": "code",
    "deepnote_to_be_reexecuted": true,
    "execution_millis": 3,
    "execution_start": 1636225334030,
    "source_hash": "d4d50a5b",
    "tags": []
   },
   "outputs": [
    {
     "data": {
      "text/html": [
       "<style type=\"text/css\">\n",
       "#T_3ee9a_row0_col0, #T_3ee9a_row0_col1, #T_3ee9a_row1_col2 {\n",
       "  background-color: #f7fbff;\n",
       "  color: #000000;\n",
       "}\n",
       "#T_3ee9a_row0_col2, #T_3ee9a_row1_col0, #T_3ee9a_row1_col1 {\n",
       "  background-color: #08306b;\n",
       "  color: #f1f1f1;\n",
       "}\n",
       "</style>\n",
       "<table id=\"T_3ee9a_\">\n",
       "  <thead>\n",
       "    <tr>\n",
       "      <th class=\"index_name level0\" >casualty_severity</th>\n",
       "      <th class=\"col_heading level0 col0\" >Fatal</th>\n",
       "      <th class=\"col_heading level0 col1\" >Serious</th>\n",
       "      <th class=\"col_heading level0 col2\" >Slight</th>\n",
       "    </tr>\n",
       "    <tr>\n",
       "      <th class=\"index_name level0\" >sex_of_casualty</th>\n",
       "      <th class=\"blank col0\" >&nbsp;</th>\n",
       "      <th class=\"blank col1\" >&nbsp;</th>\n",
       "      <th class=\"blank col2\" >&nbsp;</th>\n",
       "    </tr>\n",
       "  </thead>\n",
       "  <tbody>\n",
       "    <tr>\n",
       "      <th id=\"T_3ee9a_level0_row0\" class=\"row_heading level0 row0\" >Female</th>\n",
       "      <td id=\"T_3ee9a_row0_col0\" class=\"data row0 col0\" >0.535416</td>\n",
       "      <td id=\"T_3ee9a_row0_col1\" class=\"data row0 col1\" >8.566664</td>\n",
       "      <td id=\"T_3ee9a_row0_col2\" class=\"data row0 col2\" >90.897920</td>\n",
       "    </tr>\n",
       "    <tr>\n",
       "      <th id=\"T_3ee9a_level0_row1\" class=\"row_heading level0 row1\" >Male</th>\n",
       "      <td id=\"T_3ee9a_row1_col0\" class=\"data row1 col0\" >0.930089</td>\n",
       "      <td id=\"T_3ee9a_row1_col1\" class=\"data row1 col1\" >14.376347</td>\n",
       "      <td id=\"T_3ee9a_row1_col2\" class=\"data row1 col2\" >84.693563</td>\n",
       "    </tr>\n",
       "  </tbody>\n",
       "</table>\n"
      ],
      "text/plain": [
       "<pandas.io.formats.style.Styler at 0x7f3061c6fd90>"
      ]
     },
     "execution_count": 120,
     "metadata": {},
     "output_type": "execute_result"
    }
   ],
   "source": [
    "df_sex_cas_cls =(data.groupby('sex_of_casualty')['casualty_severity'].value_counts(normalize=True)*100).unstack()\n",
    "df_sex_cas_cls.style.background_gradient(cmap='Blues')"
   ]
  },
  {
   "cell_type": "markdown",
   "id": "c42d6aaf",
   "metadata": {
    "cell_id": "00192-70cf47d0-ac0d-4fb8-9abb-96bdf8328244",
    "deepnote_app_coordinates": {
     "h": 5,
     "w": 12,
     "x": 0,
     "y": 1137
    },
    "deepnote_cell_type": "markdown",
    "tags": []
   },
   "source": [
    "- Male serious and Fatal accident casualty percentage is comparetively higher than the Female. \n",
    "- A large percentage of accidents casualty involving female is slight and least is Fatal."
   ]
  },
  {
   "cell_type": "code",
   "execution_count": 121,
   "id": "673d0ab7",
   "metadata": {
    "ExecuteTime": {
     "end_time": "2021-11-08T09:36:07.849436Z",
     "start_time": "2021-11-08T09:36:07.825450Z"
    },
    "cell_id": "00195-bb173b1d-3976-4a9a-8a52-cd47226c6910",
    "deepnote_app_coordinates": {
     "h": 5,
     "w": 12,
     "x": 0,
     "y": 1191
    },
    "deepnote_cell_type": "code",
    "deepnote_to_be_reexecuted": true,
    "execution_millis": 37,
    "execution_start": 1636225543213,
    "source_hash": "f3d72d41",
    "tags": []
   },
   "outputs": [
    {
     "data": {
      "text/html": [
       "<style type=\"text/css\">\n",
       "#T_7969a_row0_col0, #T_7969a_row1_col1, #T_7969a_row1_col2 {\n",
       "  background-color: #f7fbff;\n",
       "  color: #000000;\n",
       "}\n",
       "#T_7969a_row0_col1, #T_7969a_row0_col2, #T_7969a_row1_col0 {\n",
       "  background-color: #08306b;\n",
       "  color: #f1f1f1;\n",
       "}\n",
       "</style>\n",
       "<table id=\"T_7969a_\">\n",
       "  <thead>\n",
       "    <tr>\n",
       "      <th class=\"index_name level0\" >casualty_class</th>\n",
       "      <th class=\"col_heading level0 col0\" >Driver/Rider</th>\n",
       "      <th class=\"col_heading level0 col1\" >Passenger</th>\n",
       "      <th class=\"col_heading level0 col2\" >Pedestrian</th>\n",
       "    </tr>\n",
       "    <tr>\n",
       "      <th class=\"index_name level0\" >sex_of_casualty</th>\n",
       "      <th class=\"blank col0\" >&nbsp;</th>\n",
       "      <th class=\"blank col1\" >&nbsp;</th>\n",
       "      <th class=\"blank col2\" >&nbsp;</th>\n",
       "    </tr>\n",
       "  </thead>\n",
       "  <tbody>\n",
       "    <tr>\n",
       "      <th id=\"T_7969a_level0_row0\" class=\"row_heading level0 row0\" >Female</th>\n",
       "      <td id=\"T_7969a_row0_col0\" class=\"data row0 col0\" >45.659616</td>\n",
       "      <td id=\"T_7969a_row0_col1\" class=\"data row0 col1\" >39.155622</td>\n",
       "      <td id=\"T_7969a_row0_col2\" class=\"data row0 col2\" >15.184763</td>\n",
       "    </tr>\n",
       "    <tr>\n",
       "      <th id=\"T_7969a_level0_row1\" class=\"row_heading level0 row1\" >Male</th>\n",
       "      <td id=\"T_7969a_row1_col0\" class=\"data row1 col0\" >67.594703</td>\n",
       "      <td id=\"T_7969a_row1_col1\" class=\"data row1 col1\" >18.410841</td>\n",
       "      <td id=\"T_7969a_row1_col2\" class=\"data row1 col2\" >13.994456</td>\n",
       "    </tr>\n",
       "  </tbody>\n",
       "</table>\n"
      ],
      "text/plain": [
       "<pandas.io.formats.style.Styler at 0x7f3061c63d00>"
      ]
     },
     "execution_count": 121,
     "metadata": {},
     "output_type": "execute_result"
    }
   ],
   "source": [
    "df_sex_cas_cls =(data.groupby('sex_of_casualty')['casualty_class'].value_counts(normalize=True)*100).unstack()\n",
    "df_sex_cas_cls.style.background_gradient(cmap='Blues')"
   ]
  },
  {
   "cell_type": "markdown",
   "id": "65d08b6a",
   "metadata": {
    "cell_id": "00192-c504a665-6749-404f-a1d7-d1e1b8524d3e",
    "deepnote_app_coordinates": {
     "h": 5,
     "w": 12,
     "x": 0,
     "y": 1131
    },
    "deepnote_cell_type": "markdown",
    "tags": []
   },
   "source": [
    "- Male drivers are significantly more involved in accidents.\n",
    "- A large portion of casulaty class for Female consists of Passenger class"
   ]
  },
  {
   "cell_type": "markdown",
   "id": "575ea503",
   "metadata": {
    "cell_id": "00194-d2871053-a244-4d9a-983b-9b43c04997e1",
    "deepnote_app_coordinates": {
     "h": 5,
     "w": 12,
     "x": 0,
     "y": 1215
    },
    "deepnote_cell_type": "markdown",
    "tags": []
   },
   "source": [
    "###### Gender analysis by type of vehicles\n",
    "- Overall type of vehicle percentage for each Gender. "
   ]
  },
  {
   "cell_type": "code",
   "execution_count": 122,
   "id": "b2fe6ce6",
   "metadata": {
    "ExecuteTime": {
     "end_time": "2021-11-08T09:36:11.495153Z",
     "start_time": "2021-11-08T09:36:11.475806Z"
    },
    "cell_id": "00196-eb836169-f5f1-4095-853e-7df48a775942",
    "deepnote_app_coordinates": {
     "h": 5,
     "w": 12,
     "x": 0,
     "y": 1203
    },
    "deepnote_cell_type": "code",
    "deepnote_to_be_reexecuted": true,
    "execution_millis": 60,
    "execution_start": 1636225591381,
    "source_hash": "2298d05a",
    "tags": []
   },
   "outputs": [
    {
     "data": {
      "text/html": [
       "<style type=\"text/css\">\n",
       "#T_47376_row0_col0, #T_47376_row0_col1, #T_47376_row4_col0, #T_47376_row5_col0, #T_47376_row5_col1, #T_47376_row7_col0, #T_47376_row9_col0, #T_47376_row9_col1, #T_47376_row11_col0, #T_47376_row11_col1 {\n",
       "  background-color: #f7fbff;\n",
       "  color: #000000;\n",
       "}\n",
       "#T_47376_row1_col0 {\n",
       "  background-color: #e0ecf8;\n",
       "  color: #000000;\n",
       "}\n",
       "#T_47376_row1_col1 {\n",
       "  background-color: #ebf3fb;\n",
       "  color: #000000;\n",
       "}\n",
       "#T_47376_row2_col0, #T_47376_row2_col1 {\n",
       "  background-color: #08306b;\n",
       "  color: #f1f1f1;\n",
       "}\n",
       "#T_47376_row3_col0 {\n",
       "  background-color: #f4f9fe;\n",
       "  color: #000000;\n",
       "}\n",
       "#T_47376_row3_col1 {\n",
       "  background-color: #e9f2fa;\n",
       "  color: #000000;\n",
       "}\n",
       "#T_47376_row4_col1 {\n",
       "  background-color: #f6faff;\n",
       "  color: #000000;\n",
       "}\n",
       "#T_47376_row6_col0 {\n",
       "  background-color: #f2f8fd;\n",
       "  color: #000000;\n",
       "}\n",
       "#T_47376_row6_col1 {\n",
       "  background-color: #d2e3f3;\n",
       "  color: #000000;\n",
       "}\n",
       "#T_47376_row7_col1 {\n",
       "  background-color: #f5fafe;\n",
       "  color: #000000;\n",
       "}\n",
       "#T_47376_row8_col0 {\n",
       "  background-color: #eaf2fb;\n",
       "  color: #000000;\n",
       "}\n",
       "#T_47376_row8_col1 {\n",
       "  background-color: #b9d6ea;\n",
       "  color: #000000;\n",
       "}\n",
       "#T_47376_row10_col0 {\n",
       "  background-color: #eef5fc;\n",
       "  color: #000000;\n",
       "}\n",
       "#T_47376_row10_col1 {\n",
       "  background-color: #eaf3fb;\n",
       "  color: #000000;\n",
       "}\n",
       "</style>\n",
       "<table id=\"T_47376_\">\n",
       "  <thead>\n",
       "    <tr>\n",
       "      <th class=\"index_name level0\" >sex_of_casualty</th>\n",
       "      <th class=\"col_heading level0 col0\" >Female</th>\n",
       "      <th class=\"col_heading level0 col1\" >Male</th>\n",
       "    </tr>\n",
       "    <tr>\n",
       "      <th class=\"index_name level0\" >type_of_vehicle</th>\n",
       "      <th class=\"blank col0\" >&nbsp;</th>\n",
       "      <th class=\"blank col1\" >&nbsp;</th>\n",
       "    </tr>\n",
       "  </thead>\n",
       "  <tbody>\n",
       "    <tr>\n",
       "      <th id=\"T_47376_level0_row0\" class=\"row_heading level0 row0\" >Agricultural vehicle (includes diggers etc.)</th>\n",
       "      <td id=\"T_47376_row0_col0\" class=\"data row0 col0\" >0.008778</td>\n",
       "      <td id=\"T_47376_row0_col1\" class=\"data row0 col1\" >0.049276</td>\n",
       "    </tr>\n",
       "    <tr>\n",
       "      <th id=\"T_47376_level0_row1\" class=\"row_heading level0 row1\" >Bus</th>\n",
       "      <td id=\"T_47376_row1_col0\" class=\"data row1 col0\" >9.076545</td>\n",
       "      <td id=\"T_47376_row1_col1\" class=\"data row1 col1\" >3.554050</td>\n",
       "    </tr>\n",
       "    <tr>\n",
       "      <th id=\"T_47376_level0_row2\" class=\"row_heading level0 row2\" >Car</th>\n",
       "      <td id=\"T_47376_row2_col0\" class=\"data row2 col0\" >77.738764</td>\n",
       "      <td id=\"T_47376_row2_col1\" class=\"data row2 col1\" >58.786572</td>\n",
       "    </tr>\n",
       "    <tr>\n",
       "      <th id=\"T_47376_level0_row3\" class=\"row_heading level0 row3\" >Goods Vehicle</th>\n",
       "      <td id=\"T_47376_row3_col0\" class=\"data row3 col0\" >1.378160</td>\n",
       "      <td id=\"T_47376_row3_col1\" class=\"data row3 col1\" >4.354789</td>\n",
       "    </tr>\n",
       "    <tr>\n",
       "      <th id=\"T_47376_level0_row4\" class=\"row_heading level0 row4\" >Minibus</th>\n",
       "      <td id=\"T_47376_row4_col0\" class=\"data row4 col0\" >0.307233</td>\n",
       "      <td id=\"T_47376_row4_col1\" class=\"data row4 col1\" >0.412689</td>\n",
       "    </tr>\n",
       "    <tr>\n",
       "      <th id=\"T_47376_level0_row5\" class=\"row_heading level0 row5\" >Mobility Scooter</th>\n",
       "      <td id=\"T_47376_row5_col0\" class=\"data row5 col0\" >0.096559</td>\n",
       "      <td id=\"T_47376_row5_col1\" class=\"data row5 col1\" >0.067755</td>\n",
       "    </tr>\n",
       "    <tr>\n",
       "      <th id=\"T_47376_level0_row6\" class=\"row_heading level0 row6\" >Motorcycle</th>\n",
       "      <td id=\"T_47376_row6_col0\" class=\"data row6 col0\" >2.071629</td>\n",
       "      <td id=\"T_47376_row6_col1\" class=\"data row6 col1\" >11.068679</td>\n",
       "    </tr>\n",
       "    <tr>\n",
       "      <th id=\"T_47376_level0_row7\" class=\"row_heading level0 row7\" >Other Vehicle </th>\n",
       "      <td id=\"T_47376_row7_col0\" class=\"data row7 col0\" >0.263343</td>\n",
       "      <td id=\"T_47376_row7_col1\" class=\"data row7 col1\" >0.585156</td>\n",
       "    </tr>\n",
       "    <tr>\n",
       "      <th id=\"T_47376_level0_row8\" class=\"row_heading level0 row8\" >Pedal cycle</th>\n",
       "      <td id=\"T_47376_row8_col0\" class=\"data row8 col0\" >5.442416</td>\n",
       "      <td id=\"T_47376_row8_col1\" class=\"data row8 col1\" >17.209732</td>\n",
       "    </tr>\n",
       "    <tr>\n",
       "      <th id=\"T_47376_level0_row9\" class=\"row_heading level0 row9\" >Ridden horse</th>\n",
       "      <td id=\"T_47376_row9_col0\" class=\"data row9 col0\" >0.052669</td>\n",
       "      <td id=\"T_47376_row9_col1\" class=\"data row9 col1\" >0.012319</td>\n",
       "    </tr>\n",
       "    <tr>\n",
       "      <th id=\"T_47376_level0_row10\" class=\"row_heading level0 row10\" >Taxi/Hire</th>\n",
       "      <td id=\"T_47376_row10_col0\" class=\"data row10 col0\" >3.546348</td>\n",
       "      <td id=\"T_47376_row10_col1\" class=\"data row10 col1\" >3.892824</td>\n",
       "    </tr>\n",
       "    <tr>\n",
       "      <th id=\"T_47376_level0_row11\" class=\"row_heading level0 row11\" >Tram / Light rail</th>\n",
       "      <td id=\"T_47376_row11_col0\" class=\"data row11 col0\" >0.017556</td>\n",
       "      <td id=\"T_47376_row11_col1\" class=\"data row11 col1\" >0.006160</td>\n",
       "    </tr>\n",
       "  </tbody>\n",
       "</table>\n"
      ],
      "text/plain": [
       "<pandas.io.formats.style.Styler at 0x7f306a924af0>"
      ]
     },
     "execution_count": 122,
     "metadata": {},
     "output_type": "execute_result"
    }
   ],
   "source": [
    "df_sex_cas_cls =(data.groupby('sex_of_casualty')['type_of_vehicle'].value_counts(normalize=True)*100).unstack().T\n",
    "df_sex_cas_cls.style.background_gradient(cmap='Blues')"
   ]
  },
  {
   "cell_type": "markdown",
   "id": "20b2d29e",
   "metadata": {
    "cell_id": "00196-735172fd-e2b6-4c55-9c14-95e59f43caca",
    "deepnote_app_coordinates": {
     "h": 5,
     "w": 12,
     "x": 0,
     "y": 1227
    },
    "deepnote_cell_type": "markdown",
    "tags": []
   },
   "source": [
    "- Car accident percentage is the highest for both male and female\n",
    "- Male involvment in Pedal cycle and Motorcycle is significantly higher.\n"
   ]
  },
  {
   "cell_type": "markdown",
   "id": "5772f92c",
   "metadata": {
    "cell_id": "00196-bb9aee6b-e408-4620-a59c-db6a0d6ca836",
    "deepnote_app_coordinates": {
     "h": 5,
     "w": 12,
     "x": 0,
     "y": 1221
    },
    "deepnote_cell_type": "markdown",
    "tags": []
   },
   "source": [
    "###### Type of vehicle analysis by Gender\n",
    "- For each type of vehicle the Male and Female percentage "
   ]
  },
  {
   "cell_type": "code",
   "execution_count": 123,
   "id": "4d3157ae",
   "metadata": {
    "ExecuteTime": {
     "end_time": "2021-11-08T09:36:15.914636Z",
     "start_time": "2021-11-08T09:36:15.890219Z"
    },
    "cell_id": "00195-d978f14a-e2cb-473f-9b97-c8af260b3a5e",
    "deepnote_app_coordinates": {
     "h": 5,
     "w": 12,
     "x": 0,
     "y": 1209
    },
    "deepnote_cell_type": "code",
    "deepnote_to_be_reexecuted": true,
    "execution_millis": 38,
    "execution_start": 1636225737541,
    "source_hash": "95c76516",
    "tags": []
   },
   "outputs": [
    {
     "data": {
      "text/html": [
       "<style type=\"text/css\">\n",
       "#T_ef907_row0_col0, #T_ef907_row9_col1 {\n",
       "  background-color: #f7fbff;\n",
       "  color: #000000;\n",
       "}\n",
       "#T_ef907_row0_col1, #T_ef907_row9_col0 {\n",
       "  background-color: #08306b;\n",
       "  color: #f1f1f1;\n",
       "}\n",
       "#T_ef907_row1_col0 {\n",
       "  background-color: #115ca5;\n",
       "  color: #f1f1f1;\n",
       "}\n",
       "#T_ef907_row1_col1 {\n",
       "  background-color: #d6e5f4;\n",
       "  color: #000000;\n",
       "}\n",
       "#T_ef907_row2_col0 {\n",
       "  background-color: #519ccc;\n",
       "  color: #f1f1f1;\n",
       "}\n",
       "#T_ef907_row2_col1 {\n",
       "  background-color: #8cc0dd;\n",
       "  color: #000000;\n",
       "}\n",
       "#T_ef907_row3_col0, #T_ef907_row8_col0 {\n",
       "  background-color: #e1edf8;\n",
       "  color: #000000;\n",
       "}\n",
       "#T_ef907_row3_col1, #T_ef907_row8_col1 {\n",
       "  background-color: #084d96;\n",
       "  color: #f1f1f1;\n",
       "}\n",
       "#T_ef907_row4_col0 {\n",
       "  background-color: #a3cce3;\n",
       "  color: #000000;\n",
       "}\n",
       "#T_ef907_row4_col1 {\n",
       "  background-color: #3e8ec4;\n",
       "  color: #f1f1f1;\n",
       "}\n",
       "#T_ef907_row5_col0 {\n",
       "  background-color: #4896c8;\n",
       "  color: #f1f1f1;\n",
       "}\n",
       "#T_ef907_row5_col1 {\n",
       "  background-color: #97c6df;\n",
       "  color: #000000;\n",
       "}\n",
       "#T_ef907_row6_col0 {\n",
       "  background-color: #f6faff;\n",
       "  color: #000000;\n",
       "}\n",
       "#T_ef907_row6_col1 {\n",
       "  background-color: #08316d;\n",
       "  color: #f1f1f1;\n",
       "}\n",
       "#T_ef907_row7_col0 {\n",
       "  background-color: #d0e1f2;\n",
       "  color: #000000;\n",
       "}\n",
       "#T_ef907_row7_col1 {\n",
       "  background-color: #1764ab;\n",
       "  color: #f1f1f1;\n",
       "}\n",
       "#T_ef907_row10_col0 {\n",
       "  background-color: #85bcdc;\n",
       "  color: #000000;\n",
       "}\n",
       "#T_ef907_row10_col1 {\n",
       "  background-color: #56a0ce;\n",
       "  color: #f1f1f1;\n",
       "}\n",
       "#T_ef907_row11_col0 {\n",
       "  background-color: #09529d;\n",
       "  color: #f1f1f1;\n",
       "}\n",
       "#T_ef907_row11_col1 {\n",
       "  background-color: #ddeaf7;\n",
       "  color: #000000;\n",
       "}\n",
       "</style>\n",
       "<table id=\"T_ef907_\">\n",
       "  <thead>\n",
       "    <tr>\n",
       "      <th class=\"index_name level0\" >sex_of_casualty</th>\n",
       "      <th class=\"col_heading level0 col0\" >Female</th>\n",
       "      <th class=\"col_heading level0 col1\" >Male</th>\n",
       "    </tr>\n",
       "    <tr>\n",
       "      <th class=\"index_name level0\" >type_of_vehicle</th>\n",
       "      <th class=\"blank col0\" >&nbsp;</th>\n",
       "      <th class=\"blank col1\" >&nbsp;</th>\n",
       "    </tr>\n",
       "  </thead>\n",
       "  <tbody>\n",
       "    <tr>\n",
       "      <th id=\"T_ef907_level0_row0\" class=\"row_heading level0 row0\" >Agricultural vehicle (includes diggers etc.)</th>\n",
       "      <td id=\"T_ef907_row0_col0\" class=\"data row0 col0\" >11.111111</td>\n",
       "      <td id=\"T_ef907_row0_col1\" class=\"data row0 col1\" >88.888889</td>\n",
       "    </tr>\n",
       "    <tr>\n",
       "      <th id=\"T_ef907_level0_row1\" class=\"row_heading level0 row1\" >Bus</th>\n",
       "      <td id=\"T_ef907_row1_col0\" class=\"data row1 col0\" >64.183737</td>\n",
       "      <td id=\"T_ef907_row1_col1\" class=\"data row1 col1\" >35.816263</td>\n",
       "    </tr>\n",
       "    <tr>\n",
       "      <th id=\"T_ef907_level0_row2\" class=\"row_heading level0 row2\" >Car</th>\n",
       "      <td id=\"T_ef907_row2_col0\" class=\"data row2 col0\" >48.130435</td>\n",
       "      <td id=\"T_ef907_row2_col1\" class=\"data row2 col1\" >51.869565</td>\n",
       "    </tr>\n",
       "    <tr>\n",
       "      <th id=\"T_ef907_level0_row3\" class=\"row_heading level0 row3\" >Goods Vehicle</th>\n",
       "      <td id=\"T_ef907_row3_col0\" class=\"data row3 col0\" >18.171296</td>\n",
       "      <td id=\"T_ef907_row3_col1\" class=\"data row3 col1\" >81.828704</td>\n",
       "    </tr>\n",
       "    <tr>\n",
       "      <th id=\"T_ef907_level0_row4\" class=\"row_heading level0 row4\" >Minibus</th>\n",
       "      <td id=\"T_ef907_row4_col0\" class=\"data row4 col0\" >34.313725</td>\n",
       "      <td id=\"T_ef907_row4_col1\" class=\"data row4 col1\" >65.686275</td>\n",
       "    </tr>\n",
       "    <tr>\n",
       "      <th id=\"T_ef907_level0_row5\" class=\"row_heading level0 row5\" >Mobility Scooter</th>\n",
       "      <td id=\"T_ef907_row5_col0\" class=\"data row5 col0\" >50.000000</td>\n",
       "      <td id=\"T_ef907_row5_col1\" class=\"data row5 col1\" >50.000000</td>\n",
       "    </tr>\n",
       "    <tr>\n",
       "      <th id=\"T_ef907_level0_row6\" class=\"row_heading level0 row6\" >Motorcycle</th>\n",
       "      <td id=\"T_ef907_row6_col0\" class=\"data row6 col0\" >11.608460</td>\n",
       "      <td id=\"T_ef907_row6_col1\" class=\"data row6 col1\" >88.391540</td>\n",
       "    </tr>\n",
       "    <tr>\n",
       "      <th id=\"T_ef907_level0_row7\" class=\"row_heading level0 row7\" >Other Vehicle </th>\n",
       "      <td id=\"T_ef907_row7_col0\" class=\"data row7 col0\" >24.000000</td>\n",
       "      <td id=\"T_ef907_row7_col1\" class=\"data row7 col1\" >76.000000</td>\n",
       "    </tr>\n",
       "    <tr>\n",
       "      <th id=\"T_ef907_level0_row8\" class=\"row_heading level0 row8\" >Pedal cycle</th>\n",
       "      <td id=\"T_ef907_row8_col0\" class=\"data row8 col0\" >18.160516</td>\n",
       "      <td id=\"T_ef907_row8_col1\" class=\"data row8 col1\" >81.839484</td>\n",
       "    </tr>\n",
       "    <tr>\n",
       "      <th id=\"T_ef907_level0_row9\" class=\"row_heading level0 row9\" >Ridden horse</th>\n",
       "      <td id=\"T_ef907_row9_col0\" class=\"data row9 col0\" >75.000000</td>\n",
       "      <td id=\"T_ef907_row9_col1\" class=\"data row9 col1\" >25.000000</td>\n",
       "    </tr>\n",
       "    <tr>\n",
       "      <th id=\"T_ef907_level0_row10\" class=\"row_heading level0 row10\" >Taxi/Hire</th>\n",
       "      <td id=\"T_ef907_row10_col0\" class=\"data row10 col0\" >38.996139</td>\n",
       "      <td id=\"T_ef907_row10_col1\" class=\"data row10 col1\" >61.003861</td>\n",
       "    </tr>\n",
       "    <tr>\n",
       "      <th id=\"T_ef907_level0_row11\" class=\"row_heading level0 row11\" >Tram / Light rail</th>\n",
       "      <td id=\"T_ef907_row11_col0\" class=\"data row11 col0\" >66.666667</td>\n",
       "      <td id=\"T_ef907_row11_col1\" class=\"data row11 col1\" >33.333333</td>\n",
       "    </tr>\n",
       "  </tbody>\n",
       "</table>\n"
      ],
      "text/plain": [
       "<pandas.io.formats.style.Styler at 0x7f306a20bd60>"
      ]
     },
     "execution_count": 123,
     "metadata": {},
     "output_type": "execute_result"
    }
   ],
   "source": [
    "df_sex_cas_cls =(data.groupby('type_of_vehicle')['sex_of_casualty'].value_counts(normalize=True)*100).unstack()\n",
    "df_sex_cas_cls.style.background_gradient(cmap='Blues')"
   ]
  },
  {
   "cell_type": "markdown",
   "id": "abab19b4",
   "metadata": {
    "cell_id": "00198-98966a94-afae-4ea0-b9c1-2e25ac1f0d30",
    "deepnote_app_coordinates": {
     "h": 5,
     "w": 12,
     "x": 0,
     "y": 1143
    },
    "deepnote_cell_type": "markdown",
    "tags": []
   },
   "source": [
    "- Male involvment in car accident is slightly higher than Female.\n",
    "- Male involvment in Pedal cycle and Motorcycle is significantly higher than Female."
   ]
  },
  {
   "cell_type": "code",
   "execution_count": 124,
   "id": "827f7e4a",
   "metadata": {
    "ExecuteTime": {
     "end_time": "2021-11-08T09:36:20.260021Z",
     "start_time": "2021-11-08T09:36:20.250107Z"
    },
    "cell_id": "00200-d7fe15ea-163f-43e7-bdf1-441cb4a851b3",
    "deepnote_app_coordinates": {
     "h": 5,
     "w": 12,
     "x": 0,
     "y": 1149
    },
    "deepnote_cell_type": "code",
    "deepnote_to_be_reexecuted": true,
    "execution_millis": 14,
    "execution_start": 1636225760071,
    "source_hash": "de65c66d",
    "tags": []
   },
   "outputs": [
    {
     "data": {
      "text/plain": [
       "Car                  82.774049\n",
       "Goods Vehicle         5.229306\n",
       "Pedal cycle           3.887025\n",
       "Motorcycle            3.383669\n",
       "Taxi/Hire             2.125280\n",
       "Bus                   1.510067\n",
       "Minibus               0.531320\n",
       "Other Vehicle         0.447427\n",
       "Tram / Light rail     0.083893\n",
       "Ridden horse          0.027964\n",
       "Name: type_of_vehicle, dtype: float64"
      ]
     },
     "execution_count": 124,
     "metadata": {},
     "output_type": "execute_result"
    }
   ],
   "source": [
    "data[data.number_of_vehicles>2]['type_of_vehicle'].value_counts(normalize=True)*100"
   ]
  },
  {
   "cell_type": "markdown",
   "id": "f3571086",
   "metadata": {
    "cell_id": "00201-ddd3d656-2160-409f-93b7-1710abc988f9",
    "deepnote_app_coordinates": {
     "h": 5,
     "w": 12,
     "x": 0,
     "y": 1155
    },
    "deepnote_cell_type": "markdown",
    "tags": []
   },
   "source": [
    "- In multiple vehicle crash Car is the most common vehicle as expected.\n",
    "- Goods vehicle, Pedal cycle and Motorcycle come next in consecutive orders.\n",
    "- Among the large vehicles Goods vehicles are more involved in multiple vehicle crash, whereas, Bus, Minibus or Tram are very less involved. "
   ]
  },
  {
   "cell_type": "markdown",
   "id": "0786566f",
   "metadata": {
    "cell_id": "00205-98860f20-5970-499e-b824-cbae282b2aaf",
    "deepnote_app_coordinates": {
     "h": 5,
     "w": 12,
     "x": 0,
     "y": 1179
    },
    "deepnote_cell_type": "markdown",
    "tags": []
   },
   "source": [
    "###### Stats for Casualty Severity 1 \n",
    "- Below chart shows the percentage of vehicles involved in each class of severity.\n",
    "- Car has the higest percentage of share for each class of severity. \n",
    "- Motorcycle and Pedal cycle also has significant share in all the casualty class. \n",
    "- Goods vehicle stands in between Motorcycle and Pedal cycle regarding Fatal accidents."
   ]
  },
  {
   "cell_type": "code",
   "execution_count": 125,
   "id": "35511b06",
   "metadata": {
    "ExecuteTime": {
     "end_time": "2021-11-08T09:36:23.950151Z",
     "start_time": "2021-11-08T09:36:23.927026Z"
    },
    "cell_id": "00205-09da1d01-1946-46e8-92a8-3f63cf42bcd4",
    "deepnote_app_coordinates": {
     "h": 5,
     "w": 12,
     "x": 0,
     "y": 1167
    },
    "deepnote_cell_type": "code",
    "deepnote_to_be_reexecuted": true,
    "execution_millis": 12,
    "execution_start": 1636225856429,
    "source_hash": "76198972",
    "tags": []
   },
   "outputs": [
    {
     "data": {
      "text/html": [
       "<style type=\"text/css\">\n",
       "#T_43f91_row0_col0, #T_43f91_row0_col1, #T_43f91_row0_col2, #T_43f91_row4_col0, #T_43f91_row5_col0, #T_43f91_row5_col1, #T_43f91_row5_col2, #T_43f91_row9_col0, #T_43f91_row9_col1, #T_43f91_row9_col2, #T_43f91_row11_col0, #T_43f91_row11_col1, #T_43f91_row11_col2 {\n",
       "  background-color: #f7fbff;\n",
       "  color: #000000;\n",
       "}\n",
       "#T_43f91_row1_col0, #T_43f91_row3_col2, #T_43f91_row10_col1 {\n",
       "  background-color: #eef5fc;\n",
       "  color: #000000;\n",
       "}\n",
       "#T_43f91_row1_col1 {\n",
       "  background-color: #eaf2fb;\n",
       "  color: #000000;\n",
       "}\n",
       "#T_43f91_row1_col2 {\n",
       "  background-color: #e6f0f9;\n",
       "  color: #000000;\n",
       "}\n",
       "#T_43f91_row2_col0, #T_43f91_row2_col1, #T_43f91_row2_col2 {\n",
       "  background-color: #08306b;\n",
       "  color: #f1f1f1;\n",
       "}\n",
       "#T_43f91_row3_col0, #T_43f91_row8_col2 {\n",
       "  background-color: #d6e5f4;\n",
       "  color: #000000;\n",
       "}\n",
       "#T_43f91_row3_col1, #T_43f91_row10_col2 {\n",
       "  background-color: #ecf4fb;\n",
       "  color: #000000;\n",
       "}\n",
       "#T_43f91_row4_col1, #T_43f91_row4_col2, #T_43f91_row7_col2 {\n",
       "  background-color: #f6faff;\n",
       "  color: #000000;\n",
       "}\n",
       "#T_43f91_row6_col0 {\n",
       "  background-color: #c7dbef;\n",
       "  color: #000000;\n",
       "}\n",
       "#T_43f91_row6_col1 {\n",
       "  background-color: #8abfdd;\n",
       "  color: #000000;\n",
       "}\n",
       "#T_43f91_row6_col2, #T_43f91_row8_col0 {\n",
       "  background-color: #e8f1fa;\n",
       "  color: #000000;\n",
       "}\n",
       "#T_43f91_row7_col0, #T_43f91_row10_col0 {\n",
       "  background-color: #f3f8fe;\n",
       "  color: #000000;\n",
       "}\n",
       "#T_43f91_row7_col1 {\n",
       "  background-color: #f5f9fe;\n",
       "  color: #000000;\n",
       "}\n",
       "#T_43f91_row8_col1 {\n",
       "  background-color: #a8cee4;\n",
       "  color: #000000;\n",
       "}\n",
       "</style>\n",
       "<table id=\"T_43f91_\">\n",
       "  <thead>\n",
       "    <tr>\n",
       "      <th class=\"index_name level0\" >casualty_severity</th>\n",
       "      <th class=\"col_heading level0 col0\" >Fatal</th>\n",
       "      <th class=\"col_heading level0 col1\" >Serious</th>\n",
       "      <th class=\"col_heading level0 col2\" >Slight</th>\n",
       "    </tr>\n",
       "    <tr>\n",
       "      <th class=\"index_name level0\" >type_of_vehicle</th>\n",
       "      <th class=\"blank col0\" >&nbsp;</th>\n",
       "      <th class=\"blank col1\" >&nbsp;</th>\n",
       "      <th class=\"blank col2\" >&nbsp;</th>\n",
       "    </tr>\n",
       "  </thead>\n",
       "  <tbody>\n",
       "    <tr>\n",
       "      <th id=\"T_43f91_level0_row0\" class=\"row_heading level0 row0\" >Agricultural vehicle (includes diggers etc.)</th>\n",
       "      <td id=\"T_43f91_row0_col0\" class=\"data row0 col0\" >0.000000</td>\n",
       "      <td id=\"T_43f91_row0_col1\" class=\"data row0 col1\" >0.030211</td>\n",
       "      <td id=\"T_43f91_row0_col2\" class=\"data row0 col2\" >0.033188</td>\n",
       "    </tr>\n",
       "    <tr>\n",
       "      <th id=\"T_43f91_level0_row1\" class=\"row_heading level0 row1\" >Bus</th>\n",
       "      <td id=\"T_43f91_row1_col0\" class=\"data row1 col0\" >2.830189</td>\n",
       "      <td id=\"T_43f91_row1_col1\" class=\"data row1 col1\" >3.534743</td>\n",
       "      <td id=\"T_43f91_row1_col2\" class=\"data row1 col2\" >6.172993</td>\n",
       "    </tr>\n",
       "    <tr>\n",
       "      <th id=\"T_43f91_level0_row2\" class=\"row_heading level0 row2\" >Car</th>\n",
       "      <td id=\"T_43f91_row2_col0\" class=\"data row2 col0\" >63.207547</td>\n",
       "      <td id=\"T_43f91_row2_col1\" class=\"data row2 col1\" >50.634441</td>\n",
       "      <td id=\"T_43f91_row2_col2\" class=\"data row2 col2\" >68.823895</td>\n",
       "    </tr>\n",
       "    <tr>\n",
       "      <th id=\"T_43f91_level0_row3\" class=\"row_heading level0 row3\" >Goods Vehicle</th>\n",
       "      <td id=\"T_43f91_row3_col0\" class=\"data row3 col0\" >10.849057</td>\n",
       "      <td id=\"T_43f91_row3_col1\" class=\"data row3 col1\" >2.930514</td>\n",
       "      <td id=\"T_43f91_row3_col2\" class=\"data row3 col2\" >3.086497</td>\n",
       "    </tr>\n",
       "    <tr>\n",
       "      <th id=\"T_43f91_level0_row4\" class=\"row_heading level0 row4\" >Minibus</th>\n",
       "      <td id=\"T_43f91_row4_col0\" class=\"data row4 col0\" >0.000000</td>\n",
       "      <td id=\"T_43f91_row4_col1\" class=\"data row4 col1\" >0.362538</td>\n",
       "      <td id=\"T_43f91_row4_col2\" class=\"data row4 col2\" >0.373367</td>\n",
       "    </tr>\n",
       "    <tr>\n",
       "      <th id=\"T_43f91_level0_row5\" class=\"row_heading level0 row5\" >Mobility Scooter</th>\n",
       "      <td id=\"T_43f91_row5_col0\" class=\"data row5 col0\" >0.000000</td>\n",
       "      <td id=\"T_43f91_row5_col1\" class=\"data row5 col1\" >0.151057</td>\n",
       "      <td id=\"T_43f91_row5_col2\" class=\"data row5 col2\" >0.070525</td>\n",
       "    </tr>\n",
       "    <tr>\n",
       "      <th id=\"T_43f91_level0_row6\" class=\"row_heading level0 row6\" >Motorcycle</th>\n",
       "      <td id=\"T_43f91_row6_col0\" class=\"data row6 col0\" >15.566038</td>\n",
       "      <td id=\"T_43f91_row6_col1\" class=\"data row6 col1\" >21.450151</td>\n",
       "      <td id=\"T_43f91_row6_col2\" class=\"data row6 col2\" >5.351587</td>\n",
       "    </tr>\n",
       "    <tr>\n",
       "      <th id=\"T_43f91_level0_row7\" class=\"row_heading level0 row7\" >Other Vehicle </th>\n",
       "      <td id=\"T_43f91_row7_col0\" class=\"data row7 col0\" >1.415094</td>\n",
       "      <td id=\"T_43f91_row7_col1\" class=\"data row7 col1\" >0.785498</td>\n",
       "      <td id=\"T_43f91_row7_col2\" class=\"data row7 col2\" >0.398258</td>\n",
       "    </tr>\n",
       "    <tr>\n",
       "      <th id=\"T_43f91_level0_row8\" class=\"row_heading level0 row8\" >Pedal cycle</th>\n",
       "      <td id=\"T_43f91_row8_col0\" class=\"data row8 col0\" >4.716981</td>\n",
       "      <td id=\"T_43f91_row8_col1\" class=\"data row8 col1\" >17.552870</td>\n",
       "      <td id=\"T_43f91_row8_col2\" class=\"data row8 col2\" >11.711263</td>\n",
       "    </tr>\n",
       "    <tr>\n",
       "      <th id=\"T_43f91_level0_row9\" class=\"row_heading level0 row9\" >Ridden horse</th>\n",
       "      <td id=\"T_43f91_row9_col0\" class=\"data row9 col0\" >0.000000</td>\n",
       "      <td id=\"T_43f91_row9_col1\" class=\"data row9 col1\" >0.030211</td>\n",
       "      <td id=\"T_43f91_row9_col2\" class=\"data row9 col2\" >0.029040</td>\n",
       "    </tr>\n",
       "    <tr>\n",
       "      <th id=\"T_43f91_level0_row10\" class=\"row_heading level0 row10\" >Taxi/Hire</th>\n",
       "      <td id=\"T_43f91_row10_col0\" class=\"data row10 col0\" >1.415094</td>\n",
       "      <td id=\"T_43f91_row10_col1\" class=\"data row10 col1\" >2.537764</td>\n",
       "      <td id=\"T_43f91_row10_col2\" class=\"data row10 col2\" >3.936943</td>\n",
       "    </tr>\n",
       "    <tr>\n",
       "      <th id=\"T_43f91_level0_row11\" class=\"row_heading level0 row11\" >Tram / Light rail</th>\n",
       "      <td id=\"T_43f91_row11_col0\" class=\"data row11 col0\" >0.000000</td>\n",
       "      <td id=\"T_43f91_row11_col1\" class=\"data row11 col1\" >0.000000</td>\n",
       "      <td id=\"T_43f91_row11_col2\" class=\"data row11 col2\" >0.012446</td>\n",
       "    </tr>\n",
       "  </tbody>\n",
       "</table>\n"
      ],
      "text/plain": [
       "<pandas.io.formats.style.Styler at 0x7f3061c58d60>"
      ]
     },
     "execution_count": 125,
     "metadata": {},
     "output_type": "execute_result"
    }
   ],
   "source": [
    "df_cas_sev_type_veh=(data.groupby('casualty_severity')['type_of_vehicle'].value_counts(ascending=True,normalize=True)*100).unstack().T\n",
    "df_cas_sev_type_veh=df_cas_sev_type_veh.fillna(0)\n",
    "df_cas_sev_type_veh.style.background_gradient(cmap='Blues')"
   ]
  },
  {
   "cell_type": "markdown",
   "id": "57ab8561",
   "metadata": {
    "cell_id": "00207-3a9c4735-724e-497d-b140-36e262b36b0f",
    "deepnote_app_coordinates": {
     "h": 5,
     "w": 12,
     "x": 0,
     "y": 1185
    },
    "deepnote_cell_type": "markdown",
    "tags": []
   },
   "source": [
    "###### Stats for Casualty Severity 2\n",
    "- Below chart shows the percentage of class of severity for each vehicle types.\n",
    "- Most of the accidents for Car are slight in severity.\n",
    "- For Motorcycle accidents Serious severity is signficanlty higher. \n",
    "- Goods vehicle accidents are significantly fatal."
   ]
  },
  {
   "cell_type": "code",
   "execution_count": 126,
   "id": "bf0c74a2",
   "metadata": {
    "ExecuteTime": {
     "end_time": "2021-11-08T09:36:27.585583Z",
     "start_time": "2021-11-08T09:36:27.564129Z"
    },
    "cell_id": "00206-6f421a8d-87f3-47b8-bc21-28e288aff0d0",
    "deepnote_app_coordinates": {
     "h": 5,
     "w": 12,
     "x": 0,
     "y": 1173
    },
    "deepnote_cell_type": "code",
    "deepnote_to_be_reexecuted": true,
    "execution_millis": 78,
    "execution_start": 1636225968351,
    "source_hash": "9214b8e7",
    "tags": []
   },
   "outputs": [
    {
     "data": {
      "text/html": [
       "<style type=\"text/css\">\n",
       "#T_ba7b4_row0_col0, #T_ba7b4_row4_col0, #T_ba7b4_row5_col0, #T_ba7b4_row6_col2, #T_ba7b4_row9_col0, #T_ba7b4_row11_col0, #T_ba7b4_row11_col1 {\n",
       "  background-color: #f7fbff;\n",
       "  color: #000000;\n",
       "}\n",
       "#T_ba7b4_row0_col1 {\n",
       "  background-color: #b0d2e7;\n",
       "  color: #000000;\n",
       "}\n",
       "#T_ba7b4_row0_col2 {\n",
       "  background-color: #2f7fbc;\n",
       "  color: #f1f1f1;\n",
       "}\n",
       "#T_ba7b4_row1_col0 {\n",
       "  background-color: #dce9f6;\n",
       "  color: #000000;\n",
       "}\n",
       "#T_ba7b4_row1_col1 {\n",
       "  background-color: #cee0f2;\n",
       "  color: #000000;\n",
       "}\n",
       "#T_ba7b4_row1_col2 {\n",
       "  background-color: #1966ad;\n",
       "  color: #f1f1f1;\n",
       "}\n",
       "#T_ba7b4_row2_col0 {\n",
       "  background-color: #bed8ec;\n",
       "  color: #000000;\n",
       "}\n",
       "#T_ba7b4_row2_col1 {\n",
       "  background-color: #c3daee;\n",
       "  color: #000000;\n",
       "}\n",
       "#T_ba7b4_row2_col2 {\n",
       "  background-color: #2575b7;\n",
       "  color: #f1f1f1;\n",
       "}\n",
       "#T_ba7b4_row3_col0, #T_ba7b4_row6_col1, #T_ba7b4_row11_col2 {\n",
       "  background-color: #08306b;\n",
       "  color: #f1f1f1;\n",
       "}\n",
       "#T_ba7b4_row3_col1 {\n",
       "  background-color: #afd1e7;\n",
       "  color: #000000;\n",
       "}\n",
       "#T_ba7b4_row3_col2 {\n",
       "  background-color: #4493c7;\n",
       "  color: #f1f1f1;\n",
       "}\n",
       "#T_ba7b4_row4_col1 {\n",
       "  background-color: #aacfe5;\n",
       "  color: #000000;\n",
       "}\n",
       "#T_ba7b4_row4_col2 {\n",
       "  background-color: #3484bf;\n",
       "  color: #f1f1f1;\n",
       "}\n",
       "#T_ba7b4_row5_col1 {\n",
       "  background-color: #3b8bc2;\n",
       "  color: #f1f1f1;\n",
       "}\n",
       "#T_ba7b4_row5_col2 {\n",
       "  background-color: #9dcae1;\n",
       "  color: #000000;\n",
       "}\n",
       "#T_ba7b4_row6_col0 {\n",
       "  background-color: #4695c8;\n",
       "  color: #f1f1f1;\n",
       "}\n",
       "#T_ba7b4_row7_col0 {\n",
       "  background-color: #084a91;\n",
       "  color: #f1f1f1;\n",
       "}\n",
       "#T_ba7b4_row7_col1 {\n",
       "  background-color: #4b98ca;\n",
       "  color: #f1f1f1;\n",
       "}\n",
       "#T_ba7b4_row7_col2 {\n",
       "  background-color: #a1cbe2;\n",
       "  color: #000000;\n",
       "}\n",
       "#T_ba7b4_row8_col0 {\n",
       "  background-color: #e1edf8;\n",
       "  color: #000000;\n",
       "}\n",
       "#T_ba7b4_row8_col1 {\n",
       "  background-color: #71b1d7;\n",
       "  color: #f1f1f1;\n",
       "}\n",
       "#T_ba7b4_row8_col2 {\n",
       "  background-color: #63a8d3;\n",
       "  color: #f1f1f1;\n",
       "}\n",
       "#T_ba7b4_row9_col1 {\n",
       "  background-color: #a4cce3;\n",
       "  color: #000000;\n",
       "}\n",
       "#T_ba7b4_row9_col2 {\n",
       "  background-color: #3989c1;\n",
       "  color: #f1f1f1;\n",
       "}\n",
       "#T_ba7b4_row10_col0 {\n",
       "  background-color: #e2edf8;\n",
       "  color: #000000;\n",
       "}\n",
       "#T_ba7b4_row10_col1 {\n",
       "  background-color: #caddf0;\n",
       "  color: #000000;\n",
       "}\n",
       "#T_ba7b4_row10_col2 {\n",
       "  background-color: #1c6bb0;\n",
       "  color: #f1f1f1;\n",
       "}\n",
       "</style>\n",
       "<table id=\"T_ba7b4_\">\n",
       "  <thead>\n",
       "    <tr>\n",
       "      <th class=\"index_name level0\" >casualty_severity</th>\n",
       "      <th class=\"col_heading level0 col0\" >Fatal</th>\n",
       "      <th class=\"col_heading level0 col1\" >Serious</th>\n",
       "      <th class=\"col_heading level0 col2\" >Slight</th>\n",
       "    </tr>\n",
       "    <tr>\n",
       "      <th class=\"index_name level0\" >type_of_vehicle</th>\n",
       "      <th class=\"blank col0\" >&nbsp;</th>\n",
       "      <th class=\"blank col1\" >&nbsp;</th>\n",
       "      <th class=\"blank col2\" >&nbsp;</th>\n",
       "    </tr>\n",
       "  </thead>\n",
       "  <tbody>\n",
       "    <tr>\n",
       "      <th id=\"T_ba7b4_level0_row0\" class=\"row_heading level0 row0\" >Agricultural vehicle (includes diggers etc.)</th>\n",
       "      <td id=\"T_ba7b4_row0_col0\" class=\"data row0 col0\" >0.000000</td>\n",
       "      <td id=\"T_ba7b4_row0_col1\" class=\"data row0 col1\" >11.111111</td>\n",
       "      <td id=\"T_ba7b4_row0_col2\" class=\"data row0 col2\" >88.888889</td>\n",
       "    </tr>\n",
       "    <tr>\n",
       "      <th id=\"T_ba7b4_level0_row1\" class=\"row_heading level0 row1\" >Bus</th>\n",
       "      <td id=\"T_ba7b4_row1_col0\" class=\"data row1 col0\" >0.372439</td>\n",
       "      <td id=\"T_ba7b4_row1_col1\" class=\"data row1 col1\" >7.262570</td>\n",
       "      <td id=\"T_ba7b4_row1_col2\" class=\"data row1 col2\" >92.364991</td>\n",
       "    </tr>\n",
       "    <tr>\n",
       "      <th id=\"T_ba7b4_level0_row2\" class=\"row_heading level0 row2\" >Car</th>\n",
       "      <td id=\"T_ba7b4_row2_col0\" class=\"data row2 col0\" >0.728261</td>\n",
       "      <td id=\"T_ba7b4_row2_col1\" class=\"data row2 col1\" >9.108696</td>\n",
       "      <td id=\"T_ba7b4_row2_col2\" class=\"data row2 col2\" >90.163043</td>\n",
       "    </tr>\n",
       "    <tr>\n",
       "      <th id=\"T_ba7b4_level0_row3\" class=\"row_heading level0 row3\" >Goods Vehicle</th>\n",
       "      <td id=\"T_ba7b4_row3_col0\" class=\"data row3 col0\" >2.662037</td>\n",
       "      <td id=\"T_ba7b4_row3_col1\" class=\"data row3 col1\" >11.226852</td>\n",
       "      <td id=\"T_ba7b4_row3_col2\" class=\"data row3 col2\" >86.111111</td>\n",
       "    </tr>\n",
       "    <tr>\n",
       "      <th id=\"T_ba7b4_level0_row4\" class=\"row_heading level0 row4\" >Minibus</th>\n",
       "      <td id=\"T_ba7b4_row4_col0\" class=\"data row4 col0\" >0.000000</td>\n",
       "      <td id=\"T_ba7b4_row4_col1\" class=\"data row4 col1\" >11.764706</td>\n",
       "      <td id=\"T_ba7b4_row4_col2\" class=\"data row4 col2\" >88.235294</td>\n",
       "    </tr>\n",
       "    <tr>\n",
       "      <th id=\"T_ba7b4_level0_row5\" class=\"row_heading level0 row5\" >Mobility Scooter</th>\n",
       "      <td id=\"T_ba7b4_row5_col0\" class=\"data row5 col0\" >0.000000</td>\n",
       "      <td id=\"T_ba7b4_row5_col1\" class=\"data row5 col1\" >22.727273</td>\n",
       "      <td id=\"T_ba7b4_row5_col2\" class=\"data row5 col2\" >77.272727</td>\n",
       "    </tr>\n",
       "    <tr>\n",
       "      <th id=\"T_ba7b4_level0_row6\" class=\"row_heading level0 row6\" >Motorcycle</th>\n",
       "      <td id=\"T_ba7b4_row6_col0\" class=\"data row6 col0\" >1.623217</td>\n",
       "      <td id=\"T_ba7b4_row6_col1\" class=\"data row6 col1\" >34.923758</td>\n",
       "      <td id=\"T_ba7b4_row6_col2\" class=\"data row6 col2\" >63.453025</td>\n",
       "    </tr>\n",
       "    <tr>\n",
       "      <th id=\"T_ba7b4_level0_row7\" class=\"row_heading level0 row7\" >Other Vehicle </th>\n",
       "      <td id=\"T_ba7b4_row7_col0\" class=\"data row7 col0\" >2.400000</td>\n",
       "      <td id=\"T_ba7b4_row7_col1\" class=\"data row7 col1\" >20.800000</td>\n",
       "      <td id=\"T_ba7b4_row7_col2\" class=\"data row7 col2\" >76.800000</td>\n",
       "    </tr>\n",
       "    <tr>\n",
       "      <th id=\"T_ba7b4_level0_row8\" class=\"row_heading level0 row8\" >Pedal cycle</th>\n",
       "      <td id=\"T_ba7b4_row8_col0\" class=\"data row8 col0\" >0.292912</td>\n",
       "      <td id=\"T_ba7b4_row8_col1\" class=\"data row8 col1\" >17.018161</td>\n",
       "      <td id=\"T_ba7b4_row8_col2\" class=\"data row8 col2\" >82.688928</td>\n",
       "    </tr>\n",
       "    <tr>\n",
       "      <th id=\"T_ba7b4_level0_row9\" class=\"row_heading level0 row9\" >Ridden horse</th>\n",
       "      <td id=\"T_ba7b4_row9_col0\" class=\"data row9 col0\" >0.000000</td>\n",
       "      <td id=\"T_ba7b4_row9_col1\" class=\"data row9 col1\" >12.500000</td>\n",
       "      <td id=\"T_ba7b4_row9_col2\" class=\"data row9 col2\" >87.500000</td>\n",
       "    </tr>\n",
       "    <tr>\n",
       "      <th id=\"T_ba7b4_level0_row10\" class=\"row_heading level0 row10\" >Taxi/Hire</th>\n",
       "      <td id=\"T_ba7b4_row10_col0\" class=\"data row10 col0\" >0.289575</td>\n",
       "      <td id=\"T_ba7b4_row10_col1\" class=\"data row10 col1\" >8.108108</td>\n",
       "      <td id=\"T_ba7b4_row10_col2\" class=\"data row10 col2\" >91.602317</td>\n",
       "    </tr>\n",
       "    <tr>\n",
       "      <th id=\"T_ba7b4_level0_row11\" class=\"row_heading level0 row11\" >Tram / Light rail</th>\n",
       "      <td id=\"T_ba7b4_row11_col0\" class=\"data row11 col0\" >0.000000</td>\n",
       "      <td id=\"T_ba7b4_row11_col1\" class=\"data row11 col1\" >0.000000</td>\n",
       "      <td id=\"T_ba7b4_row11_col2\" class=\"data row11 col2\" >100.000000</td>\n",
       "    </tr>\n",
       "  </tbody>\n",
       "</table>\n"
      ],
      "text/plain": [
       "<pandas.io.formats.style.Styler at 0x7f3061c0f580>"
      ]
     },
     "execution_count": 126,
     "metadata": {},
     "output_type": "execute_result"
    }
   ],
   "source": [
    "df_type_veh_cas_sev=(data.groupby('type_of_vehicle')['casualty_severity'].value_counts(ascending=True,normalize=True)*100).unstack()\n",
    "df_type_veh_cas_sev=df_type_veh_cas_sev.fillna(0)\n",
    "df_type_veh_cas_sev.style.background_gradient(cmap='Blues')"
   ]
  },
  {
   "cell_type": "markdown",
   "id": "a2a059a9",
   "metadata": {
    "cell_id": "00203-af2d80d9-ef8e-4535-a600-8852b2ff725a",
    "deepnote_app_coordinates": {
     "h": 5,
     "w": 12,
     "x": 0,
     "y": 1161
    },
    "deepnote_cell_type": "markdown",
    "tags": []
   },
   "source": [
    "- Car is the most involved vehicle in all class of accidents.\n",
    "- Motorcycle and Goods vehicle comes next"
   ]
  },
  {
   "cell_type": "markdown",
   "id": "45bb44db",
   "metadata": {
    "cell_id": "00207-7029e538-2f4e-4e3e-877d-d46d13d5d9c8",
    "deepnote_app_coordinates": {
     "h": 5,
     "w": 12,
     "x": 0,
     "y": 1239
    },
    "deepnote_cell_type": "markdown",
    "tags": []
   },
   "source": [
    "##### Location Analysis "
   ]
  },
  {
   "cell_type": "code",
   "execution_count": 127,
   "id": "b9649b06",
   "metadata": {
    "ExecuteTime": {
     "end_time": "2021-11-08T09:36:31.292009Z",
     "start_time": "2021-11-08T09:36:31.286140Z"
    },
    "cell_id": "00208-5a1ba9f0-0221-4833-aadd-abce176dfbe0",
    "deepnote_app_coordinates": {
     "h": 5,
     "w": 12,
     "x": 0,
     "y": 1251
    },
    "deepnote_cell_type": "code",
    "deepnote_to_be_reexecuted": true,
    "execution_millis": 6,
    "execution_start": 1636225978918,
    "source_hash": "c8a8c27a",
    "tags": []
   },
   "outputs": [
    {
     "data": {
      "text/plain": [
       "Index(['reference_number', 'easting', 'northing', 'number_of_vehicles',\n",
       "       '1st_road_class', 'road_surface', 'lighting_conditions',\n",
       "       'weather_conditions', 'casualty_class', 'casualty_severity',\n",
       "       'sex_of_casualty', 'age_of_casualty', 'type_of_vehicle', 'longitude',\n",
       "       'latitude'],\n",
       "      dtype='object')"
      ]
     },
     "execution_count": 127,
     "metadata": {},
     "output_type": "execute_result"
    }
   ],
   "source": [
    "data.columns"
   ]
  },
  {
   "cell_type": "markdown",
   "id": "4f281bd8",
   "metadata": {
    "cell_id": "00209-1651696c-ec34-4f02-8991-b4030810c69e",
    "deepnote_app_coordinates": {
     "h": 5,
     "w": 12,
     "x": 0,
     "y": 1257
    },
    "deepnote_cell_type": "markdown",
    "tags": []
   },
   "source": [
    "Fatal Accidents Locations"
   ]
  },
  {
   "cell_type": "code",
   "execution_count": 128,
   "id": "e0d71b57",
   "metadata": {
    "ExecuteTime": {
     "end_time": "2021-11-08T09:36:35.259755Z",
     "start_time": "2021-11-08T09:36:35.244081Z"
    },
    "cell_id": "00207-295936eb-3c41-4a58-a05b-c81d9dbc8f22",
    "deepnote_app_coordinates": {
     "h": 5,
     "w": 12,
     "x": 0,
     "y": 1233
    },
    "deepnote_cell_type": "code",
    "deepnote_to_be_reexecuted": true,
    "execution_millis": 41,
    "execution_start": 1636225986915,
    "source_hash": "e2ffbf52",
    "tags": []
   },
   "outputs": [
    {
     "data": {
      "text/plain": [
       "[53.76988352, -1.57834607]"
      ]
     },
     "execution_count": 128,
     "metadata": {},
     "output_type": "execute_result"
    }
   ],
   "source": [
    "df_fatal_loc=data[data.casualty_severity=='Fatal'][['latitude','longitude']].drop_duplicates()\n",
    "locations_fatal = df_fatal_loc[['latitude', 'longitude']]\n",
    "locationlist_fatal = (locations_fatal[['latitude', 'longitude']]).values.tolist()\n",
    "len(locationlist_fatal)\n",
    "locationlist_fatal[0]"
   ]
  },
  {
   "cell_type": "code",
   "execution_count": 129,
   "id": "08df6b0b",
   "metadata": {
    "ExecuteTime": {
     "end_time": "2021-11-08T09:36:39.278637Z",
     "start_time": "2021-11-08T09:36:39.179832Z"
    },
    "cell_id": "00209-39420bff-3151-4e09-8849-3526475671fb",
    "deepnote_app_coordinates": {
     "h": 5,
     "w": 12,
     "x": 0,
     "y": 1245
    },
    "deepnote_cell_type": "code",
    "deepnote_to_be_reexecuted": true,
    "execution_millis": 491,
    "execution_start": 1636226008504,
    "source_hash": "706da92c",
    "tags": []
   },
   "outputs": [
    {
     "data": {
      "text/html": [
       "<div style=\"width:100%;\"><div style=\"position:relative;width:100%;height:0;padding-bottom:60%;\"><span style=\"color:#565656\">Make this Notebook Trusted to load map: File -> Trust Notebook</span><iframe src=\"about:blank\" style=\"position:absolute;width:100%;height:100%;left:0;top:0;border:none !important;\" data-html=%3C%21DOCTYPE%20html%3E%0A%3Chead%3E%20%20%20%20%0A%20%20%20%20%3Cmeta%20http-equiv%3D%22content-type%22%20content%3D%22text/html%3B%20charset%3DUTF-8%22%20/%3E%0A%20%20%20%20%0A%20%20%20%20%20%20%20%20%3Cscript%3E%0A%20%20%20%20%20%20%20%20%20%20%20%20L_NO_TOUCH%20%3D%20false%3B%0A%20%20%20%20%20%20%20%20%20%20%20%20L_DISABLE_3D%20%3D%20false%3B%0A%20%20%20%20%20%20%20%20%3C/script%3E%0A%20%20%20%20%0A%20%20%20%20%3Cstyle%3Ehtml%2C%20body%20%7Bwidth%3A%20100%25%3Bheight%3A%20100%25%3Bmargin%3A%200%3Bpadding%3A%200%3B%7D%3C/style%3E%0A%20%20%20%20%3Cstyle%3E%23map%20%7Bposition%3Aabsolute%3Btop%3A0%3Bbottom%3A0%3Bright%3A0%3Bleft%3A0%3B%7D%3C/style%3E%0A%20%20%20%20%3Cscript%20src%3D%22https%3A//cdn.jsdelivr.net/npm/leaflet%401.6.0/dist/leaflet.js%22%3E%3C/script%3E%0A%20%20%20%20%3Cscript%20src%3D%22https%3A//code.jquery.com/jquery-1.12.4.min.js%22%3E%3C/script%3E%0A%20%20%20%20%3Cscript%20src%3D%22https%3A//maxcdn.bootstrapcdn.com/bootstrap/3.2.0/js/bootstrap.min.js%22%3E%3C/script%3E%0A%20%20%20%20%3Cscript%20src%3D%22https%3A//cdnjs.cloudflare.com/ajax/libs/Leaflet.awesome-markers/2.0.2/leaflet.awesome-markers.js%22%3E%3C/script%3E%0A%20%20%20%20%3Clink%20rel%3D%22stylesheet%22%20href%3D%22https%3A//cdn.jsdelivr.net/npm/leaflet%401.6.0/dist/leaflet.css%22/%3E%0A%20%20%20%20%3Clink%20rel%3D%22stylesheet%22%20href%3D%22https%3A//maxcdn.bootstrapcdn.com/bootstrap/3.2.0/css/bootstrap.min.css%22/%3E%0A%20%20%20%20%3Clink%20rel%3D%22stylesheet%22%20href%3D%22https%3A//maxcdn.bootstrapcdn.com/bootstrap/3.2.0/css/bootstrap-theme.min.css%22/%3E%0A%20%20%20%20%3Clink%20rel%3D%22stylesheet%22%20href%3D%22https%3A//maxcdn.bootstrapcdn.com/font-awesome/4.6.3/css/font-awesome.min.css%22/%3E%0A%20%20%20%20%3Clink%20rel%3D%22stylesheet%22%20href%3D%22https%3A//cdnjs.cloudflare.com/ajax/libs/Leaflet.awesome-markers/2.0.2/leaflet.awesome-markers.css%22/%3E%0A%20%20%20%20%3Clink%20rel%3D%22stylesheet%22%20href%3D%22https%3A//cdn.jsdelivr.net/gh/python-visualization/folium/folium/templates/leaflet.awesome.rotate.min.css%22/%3E%0A%20%20%20%20%0A%20%20%20%20%20%20%20%20%20%20%20%20%3Cmeta%20name%3D%22viewport%22%20content%3D%22width%3Ddevice-width%2C%0A%20%20%20%20%20%20%20%20%20%20%20%20%20%20%20%20initial-scale%3D1.0%2C%20maximum-scale%3D1.0%2C%20user-scalable%3Dno%22%20/%3E%0A%20%20%20%20%20%20%20%20%20%20%20%20%3Cstyle%3E%0A%20%20%20%20%20%20%20%20%20%20%20%20%20%20%20%20%23map_9914c9b736e44b4db4132ae0378f1001%20%7B%0A%20%20%20%20%20%20%20%20%20%20%20%20%20%20%20%20%20%20%20%20position%3A%20relative%3B%0A%20%20%20%20%20%20%20%20%20%20%20%20%20%20%20%20%20%20%20%20width%3A%20100.0%25%3B%0A%20%20%20%20%20%20%20%20%20%20%20%20%20%20%20%20%20%20%20%20height%3A%20100.0%25%3B%0A%20%20%20%20%20%20%20%20%20%20%20%20%20%20%20%20%20%20%20%20left%3A%200.0%25%3B%0A%20%20%20%20%20%20%20%20%20%20%20%20%20%20%20%20%20%20%20%20top%3A%200.0%25%3B%0A%20%20%20%20%20%20%20%20%20%20%20%20%20%20%20%20%7D%0A%20%20%20%20%20%20%20%20%20%20%20%20%3C/style%3E%0A%20%20%20%20%20%20%20%20%0A%3C/head%3E%0A%3Cbody%3E%20%20%20%20%0A%20%20%20%20%0A%20%20%20%20%20%20%20%20%20%20%20%20%3Cdiv%20class%3D%22folium-map%22%20id%3D%22map_9914c9b736e44b4db4132ae0378f1001%22%20%3E%3C/div%3E%0A%20%20%20%20%20%20%20%20%0A%3C/body%3E%0A%3Cscript%3E%20%20%20%20%0A%20%20%20%20%0A%20%20%20%20%20%20%20%20%20%20%20%20var%20map_9914c9b736e44b4db4132ae0378f1001%20%3D%20L.map%28%0A%20%20%20%20%20%20%20%20%20%20%20%20%20%20%20%20%22map_9914c9b736e44b4db4132ae0378f1001%22%2C%0A%20%20%20%20%20%20%20%20%20%20%20%20%20%20%20%20%7B%0A%20%20%20%20%20%20%20%20%20%20%20%20%20%20%20%20%20%20%20%20center%3A%20%5B53.76988352%2C%20-1.57834607%5D%2C%0A%20%20%20%20%20%20%20%20%20%20%20%20%20%20%20%20%20%20%20%20crs%3A%20L.CRS.EPSG3857%2C%0A%20%20%20%20%20%20%20%20%20%20%20%20%20%20%20%20%20%20%20%20zoom%3A%2012%2C%0A%20%20%20%20%20%20%20%20%20%20%20%20%20%20%20%20%20%20%20%20zoomControl%3A%20true%2C%0A%20%20%20%20%20%20%20%20%20%20%20%20%20%20%20%20%20%20%20%20preferCanvas%3A%20false%2C%0A%20%20%20%20%20%20%20%20%20%20%20%20%20%20%20%20%7D%0A%20%20%20%20%20%20%20%20%20%20%20%20%29%3B%0A%0A%20%20%20%20%20%20%20%20%20%20%20%20%0A%0A%20%20%20%20%20%20%20%20%0A%20%20%20%20%0A%20%20%20%20%20%20%20%20%20%20%20%20var%20tile_layer_a806304626e644b1a4d8287a3d132bf1%20%3D%20L.tileLayer%28%0A%20%20%20%20%20%20%20%20%20%20%20%20%20%20%20%20%22https%3A//%7Bs%7D.tile.openstreetmap.org/%7Bz%7D/%7Bx%7D/%7By%7D.png%22%2C%0A%20%20%20%20%20%20%20%20%20%20%20%20%20%20%20%20%7B%22attribution%22%3A%20%22Data%20by%20%5Cu0026copy%3B%20%5Cu003ca%20href%3D%5C%22http%3A//openstreetmap.org%5C%22%5Cu003eOpenStreetMap%5Cu003c/a%5Cu003e%2C%20under%20%5Cu003ca%20href%3D%5C%22http%3A//www.openstreetmap.org/copyright%5C%22%5Cu003eODbL%5Cu003c/a%5Cu003e.%22%2C%20%22detectRetina%22%3A%20false%2C%20%22maxNativeZoom%22%3A%2018%2C%20%22maxZoom%22%3A%2018%2C%20%22minZoom%22%3A%200%2C%20%22noWrap%22%3A%20false%2C%20%22opacity%22%3A%201%2C%20%22subdomains%22%3A%20%22abc%22%2C%20%22tms%22%3A%20false%7D%0A%20%20%20%20%20%20%20%20%20%20%20%20%29.addTo%28map_9914c9b736e44b4db4132ae0378f1001%29%3B%0A%20%20%20%20%20%20%20%20%0A%20%20%20%20%0A%20%20%20%20%20%20%20%20%20%20%20%20var%20marker_d1b7ae8c5e74493b9b359c31b940aba0%20%3D%20L.marker%28%0A%20%20%20%20%20%20%20%20%20%20%20%20%20%20%20%20%5B53.76988352%2C%20-1.57834607%5D%2C%0A%20%20%20%20%20%20%20%20%20%20%20%20%20%20%20%20%7B%7D%0A%20%20%20%20%20%20%20%20%20%20%20%20%29.addTo%28map_9914c9b736e44b4db4132ae0378f1001%29%3B%0A%20%20%20%20%20%20%20%20%0A%20%20%20%20%0A%20%20%20%20%20%20%20%20%20%20%20%20var%20marker_ced08751a7614c80a87eb74e51df1731%20%3D%20L.marker%28%0A%20%20%20%20%20%20%20%20%20%20%20%20%20%20%20%20%5B53.82743602%2C%20-1.39921084%5D%2C%0A%20%20%20%20%20%20%20%20%20%20%20%20%20%20%20%20%7B%7D%0A%20%20%20%20%20%20%20%20%20%20%20%20%29.addTo%28map_9914c9b736e44b4db4132ae0378f1001%29%3B%0A%20%20%20%20%20%20%20%20%0A%20%20%20%20%0A%20%20%20%20%20%20%20%20%20%20%20%20var%20marker_1e54d0f30c5e4c0aaa49977fd851f783%20%3D%20L.marker%28%0A%20%20%20%20%20%20%20%20%20%20%20%20%20%20%20%20%5B53.76342764%2C%20-1.42786876%5D%2C%0A%20%20%20%20%20%20%20%20%20%20%20%20%20%20%20%20%7B%7D%0A%20%20%20%20%20%20%20%20%20%20%20%20%29.addTo%28map_9914c9b736e44b4db4132ae0378f1001%29%3B%0A%20%20%20%20%20%20%20%20%0A%20%20%20%20%0A%20%20%20%20%20%20%20%20%20%20%20%20var%20marker_aa41f9b06fb946ae96a4bc1de533e94b%20%3D%20L.marker%28%0A%20%20%20%20%20%20%20%20%20%20%20%20%20%20%20%20%5B53.78548449%2C%20-1.5552724%5D%2C%0A%20%20%20%20%20%20%20%20%20%20%20%20%20%20%20%20%7B%7D%0A%20%20%20%20%20%20%20%20%20%20%20%20%29.addTo%28map_9914c9b736e44b4db4132ae0378f1001%29%3B%0A%20%20%20%20%20%20%20%20%0A%20%20%20%20%0A%20%20%20%20%20%20%20%20%20%20%20%20var%20marker_5fcfb3eb88d54a7aa6a2348f2ec2f282%20%3D%20L.marker%28%0A%20%20%20%20%20%20%20%20%20%20%20%20%20%20%20%20%5B53.74620177%2C%20-1.31534787%5D%2C%0A%20%20%20%20%20%20%20%20%20%20%20%20%20%20%20%20%7B%7D%0A%20%20%20%20%20%20%20%20%20%20%20%20%29.addTo%28map_9914c9b736e44b4db4132ae0378f1001%29%3B%0A%20%20%20%20%20%20%20%20%0A%20%20%20%20%0A%20%20%20%20%20%20%20%20%20%20%20%20var%20marker_69541fd3f41940af9acb3a8181dcb242%20%3D%20L.marker%28%0A%20%20%20%20%20%20%20%20%20%20%20%20%20%20%20%20%5B53.74398906%2C%20-1.62738249%5D%2C%0A%20%20%20%20%20%20%20%20%20%20%20%20%20%20%20%20%7B%7D%0A%20%20%20%20%20%20%20%20%20%20%20%20%29.addTo%28map_9914c9b736e44b4db4132ae0378f1001%29%3B%0A%20%20%20%20%20%20%20%20%0A%20%20%20%20%0A%20%20%20%20%20%20%20%20%20%20%20%20var%20marker_da625e85ac4f4995abba4b8abeb4968d%20%3D%20L.marker%28%0A%20%20%20%20%20%20%20%20%20%20%20%20%20%20%20%20%5B53.73636923%2C%20-1.60013186%5D%2C%0A%20%20%20%20%20%20%20%20%20%20%20%20%20%20%20%20%7B%7D%0A%20%20%20%20%20%20%20%20%20%20%20%20%29.addTo%28map_9914c9b736e44b4db4132ae0378f1001%29%3B%0A%20%20%20%20%20%20%20%20%0A%20%20%20%20%0A%20%20%20%20%20%20%20%20%20%20%20%20var%20marker_82b102f7f2674517aac42a811fb486c4%20%3D%20L.marker%28%0A%20%20%20%20%20%20%20%20%20%20%20%20%20%20%20%20%5B53.82913391%2C%20-1.52111234%5D%2C%0A%20%20%20%20%20%20%20%20%20%20%20%20%20%20%20%20%7B%7D%0A%20%20%20%20%20%20%20%20%20%20%20%20%29.addTo%28map_9914c9b736e44b4db4132ae0378f1001%29%3B%0A%20%20%20%20%20%20%20%20%0A%20%20%20%20%0A%20%20%20%20%20%20%20%20%20%20%20%20var%20marker_98b6673289cd4d7e8284e157ad6a4f8d%20%3D%20L.marker%28%0A%20%20%20%20%20%20%20%20%20%20%20%20%20%20%20%20%5B53.79281776%2C%20-1.42581517%5D%2C%0A%20%20%20%20%20%20%20%20%20%20%20%20%20%20%20%20%7B%7D%0A%20%20%20%20%20%20%20%20%20%20%20%20%29.addTo%28map_9914c9b736e44b4db4132ae0378f1001%29%3B%0A%20%20%20%20%20%20%20%20%0A%20%20%20%20%0A%20%20%20%20%20%20%20%20%20%20%20%20var%20marker_258dc46d9da94431802282614a10a82b%20%3D%20L.marker%28%0A%20%20%20%20%20%20%20%20%20%20%20%20%20%20%20%20%5B53.89168276%2C%20-1.63444086%5D%2C%0A%20%20%20%20%20%20%20%20%20%20%20%20%20%20%20%20%7B%7D%0A%20%20%20%20%20%20%20%20%20%20%20%20%29.addTo%28map_9914c9b736e44b4db4132ae0378f1001%29%3B%0A%20%20%20%20%20%20%20%20%0A%20%20%20%20%0A%20%20%20%20%20%20%20%20%20%20%20%20var%20marker_f491f27fe77c4e31b053211726e6bf50%20%3D%20L.marker%28%0A%20%20%20%20%20%20%20%20%20%20%20%20%20%20%20%20%5B53.81387037%2C%20-1.53670156%5D%2C%0A%20%20%20%20%20%20%20%20%20%20%20%20%20%20%20%20%7B%7D%0A%20%20%20%20%20%20%20%20%20%20%20%20%29.addTo%28map_9914c9b736e44b4db4132ae0378f1001%29%3B%0A%20%20%20%20%20%20%20%20%0A%20%20%20%20%0A%20%20%20%20%20%20%20%20%20%20%20%20var%20marker_7888c4f5643c4799ab428e7866aeb746%20%3D%20L.marker%28%0A%20%20%20%20%20%20%20%20%20%20%20%20%20%20%20%20%5B53.80767234%2C%20-1.67485064%5D%2C%0A%20%20%20%20%20%20%20%20%20%20%20%20%20%20%20%20%7B%7D%0A%20%20%20%20%20%20%20%20%20%20%20%20%29.addTo%28map_9914c9b736e44b4db4132ae0378f1001%29%3B%0A%20%20%20%20%20%20%20%20%0A%20%20%20%20%0A%20%20%20%20%20%20%20%20%20%20%20%20var%20marker_0172b0afde4c4c9fbc0dcacd197340ab%20%3D%20L.marker%28%0A%20%20%20%20%20%20%20%20%20%20%20%20%20%20%20%20%5B53.8042772%2C%20-1.61468516%5D%2C%0A%20%20%20%20%20%20%20%20%20%20%20%20%20%20%20%20%7B%7D%0A%20%20%20%20%20%20%20%20%20%20%20%20%29.addTo%28map_9914c9b736e44b4db4132ae0378f1001%29%3B%0A%20%20%20%20%20%20%20%20%0A%20%20%20%20%0A%20%20%20%20%20%20%20%20%20%20%20%20var%20marker_a5c0be603ff8446ebed85fa8e21e3164%20%3D%20L.marker%28%0A%20%20%20%20%20%20%20%20%20%20%20%20%20%20%20%20%5B53.74972236%2C%20-1.63873544%5D%2C%0A%20%20%20%20%20%20%20%20%20%20%20%20%20%20%20%20%7B%7D%0A%20%20%20%20%20%20%20%20%20%20%20%20%29.addTo%28map_9914c9b736e44b4db4132ae0378f1001%29%3B%0A%20%20%20%20%20%20%20%20%0A%20%20%20%20%0A%20%20%20%20%20%20%20%20%20%20%20%20var%20marker_269fa7f7d58242e0943eab2a5042a066%20%3D%20L.marker%28%0A%20%20%20%20%20%20%20%20%20%20%20%20%20%20%20%20%5B53.82169869%2C%20-1.60720387%5D%2C%0A%20%20%20%20%20%20%20%20%20%20%20%20%20%20%20%20%7B%7D%0A%20%20%20%20%20%20%20%20%20%20%20%20%29.addTo%28map_9914c9b736e44b4db4132ae0378f1001%29%3B%0A%20%20%20%20%20%20%20%20%0A%20%20%20%20%0A%20%20%20%20%20%20%20%20%20%20%20%20var%20marker_db974c1ddbaa4289a1e94c049ea31ee7%20%3D%20L.marker%28%0A%20%20%20%20%20%20%20%20%20%20%20%20%20%20%20%20%5B53.82662491%2C%20-1.4513781%5D%2C%0A%20%20%20%20%20%20%20%20%20%20%20%20%20%20%20%20%7B%7D%0A%20%20%20%20%20%20%20%20%20%20%20%20%29.addTo%28map_9914c9b736e44b4db4132ae0378f1001%29%3B%0A%20%20%20%20%20%20%20%20%0A%20%20%20%20%0A%20%20%20%20%20%20%20%20%20%20%20%20var%20marker_bb5d3c77e727470397d8f9f432f6012b%20%3D%20L.marker%28%0A%20%20%20%20%20%20%20%20%20%20%20%20%20%20%20%20%5B53.90692679%2C%20-1.68545106%5D%2C%0A%20%20%20%20%20%20%20%20%20%20%20%20%20%20%20%20%7B%7D%0A%20%20%20%20%20%20%20%20%20%20%20%20%29.addTo%28map_9914c9b736e44b4db4132ae0378f1001%29%3B%0A%20%20%20%20%20%20%20%20%0A%20%20%20%20%0A%20%20%20%20%20%20%20%20%20%20%20%20var%20marker_f6f063be6816431c84132579dc063ca1%20%3D%20L.marker%28%0A%20%20%20%20%20%20%20%20%20%20%20%20%20%20%20%20%5B53.74976719%2C%20-1.50718308%5D%2C%0A%20%20%20%20%20%20%20%20%20%20%20%20%20%20%20%20%7B%7D%0A%20%20%20%20%20%20%20%20%20%20%20%20%29.addTo%28map_9914c9b736e44b4db4132ae0378f1001%29%3B%0A%20%20%20%20%20%20%20%20%0A%20%20%20%20%0A%20%20%20%20%20%20%20%20%20%20%20%20var%20marker_46e26196643740a4aaac088c86e2a3b8%20%3D%20L.marker%28%0A%20%20%20%20%20%20%20%20%20%20%20%20%20%20%20%20%5B53.77013526%2C%20-1.58351713%5D%2C%0A%20%20%20%20%20%20%20%20%20%20%20%20%20%20%20%20%7B%7D%0A%20%20%20%20%20%20%20%20%20%20%20%20%29.addTo%28map_9914c9b736e44b4db4132ae0378f1001%29%3B%0A%20%20%20%20%20%20%20%20%0A%20%20%20%20%0A%20%20%20%20%20%20%20%20%20%20%20%20var%20marker_45f33cf4b57a47179ba119c8eeed7d8e%20%3D%20L.marker%28%0A%20%20%20%20%20%20%20%20%20%20%20%20%20%20%20%20%5B53.7823419%2C%20-1.63637703%5D%2C%0A%20%20%20%20%20%20%20%20%20%20%20%20%20%20%20%20%7B%7D%0A%20%20%20%20%20%20%20%20%20%20%20%20%29.addTo%28map_9914c9b736e44b4db4132ae0378f1001%29%3B%0A%20%20%20%20%20%20%20%20%0A%20%20%20%20%0A%20%20%20%20%20%20%20%20%20%20%20%20var%20marker_45470678b91349d9bbf404ee31b59edc%20%3D%20L.marker%28%0A%20%20%20%20%20%20%20%20%20%20%20%20%20%20%20%20%5B53.77299951%2C%20-1.41289953%5D%2C%0A%20%20%20%20%20%20%20%20%20%20%20%20%20%20%20%20%7B%7D%0A%20%20%20%20%20%20%20%20%20%20%20%20%29.addTo%28map_9914c9b736e44b4db4132ae0378f1001%29%3B%0A%20%20%20%20%20%20%20%20%0A%20%20%20%20%0A%20%20%20%20%20%20%20%20%20%20%20%20var%20marker_444745d4499547bb8910eb0e27173b39%20%3D%20L.marker%28%0A%20%20%20%20%20%20%20%20%20%20%20%20%20%20%20%20%5B53.89821412%2C%20-1.37063671%5D%2C%0A%20%20%20%20%20%20%20%20%20%20%20%20%20%20%20%20%7B%7D%0A%20%20%20%20%20%20%20%20%20%20%20%20%29.addTo%28map_9914c9b736e44b4db4132ae0378f1001%29%3B%0A%20%20%20%20%20%20%20%20%0A%20%20%20%20%0A%20%20%20%20%20%20%20%20%20%20%20%20var%20marker_d6ff91e2c4af4013bb818b09df4cf0c9%20%3D%20L.marker%28%0A%20%20%20%20%20%20%20%20%20%20%20%20%20%20%20%20%5B53.84307963%2C%20-1.48119524%5D%2C%0A%20%20%20%20%20%20%20%20%20%20%20%20%20%20%20%20%7B%7D%0A%20%20%20%20%20%20%20%20%20%20%20%20%29.addTo%28map_9914c9b736e44b4db4132ae0378f1001%29%3B%0A%20%20%20%20%20%20%20%20%0A%20%20%20%20%0A%20%20%20%20%20%20%20%20%20%20%20%20var%20marker_0a7acb0385f24aa09bc018a67c8465ce%20%3D%20L.marker%28%0A%20%20%20%20%20%20%20%20%20%20%20%20%20%20%20%20%5B53.77129752%2C%20-1.57153481%5D%2C%0A%20%20%20%20%20%20%20%20%20%20%20%20%20%20%20%20%7B%7D%0A%20%20%20%20%20%20%20%20%20%20%20%20%29.addTo%28map_9914c9b736e44b4db4132ae0378f1001%29%3B%0A%20%20%20%20%20%20%20%20%0A%20%20%20%20%0A%20%20%20%20%20%20%20%20%20%20%20%20var%20marker_8a8d2538364944cab62dc8b7059342b3%20%3D%20L.marker%28%0A%20%20%20%20%20%20%20%20%20%20%20%20%20%20%20%20%5B53.79886848%2C%20-1.53881009%5D%2C%0A%20%20%20%20%20%20%20%20%20%20%20%20%20%20%20%20%7B%7D%0A%20%20%20%20%20%20%20%20%20%20%20%20%29.addTo%28map_9914c9b736e44b4db4132ae0378f1001%29%3B%0A%20%20%20%20%20%20%20%20%0A%20%20%20%20%0A%20%20%20%20%20%20%20%20%20%20%20%20var%20marker_0ca02d6c1dbe461aa7023ca4d28e425c%20%3D%20L.marker%28%0A%20%20%20%20%20%20%20%20%20%20%20%20%20%20%20%20%5B53.79926547%2C%20-1.50754431%5D%2C%0A%20%20%20%20%20%20%20%20%20%20%20%20%20%20%20%20%7B%7D%0A%20%20%20%20%20%20%20%20%20%20%20%20%29.addTo%28map_9914c9b736e44b4db4132ae0378f1001%29%3B%0A%20%20%20%20%20%20%20%20%0A%20%20%20%20%0A%20%20%20%20%20%20%20%20%20%20%20%20var%20marker_1c0cba2e48664aec88f1f125d803e7af%20%3D%20L.marker%28%0A%20%20%20%20%20%20%20%20%20%20%20%20%20%20%20%20%5B53.77384187%2C%20-1.41238707%5D%2C%0A%20%20%20%20%20%20%20%20%20%20%20%20%20%20%20%20%7B%7D%0A%20%20%20%20%20%20%20%20%20%20%20%20%29.addTo%28map_9914c9b736e44b4db4132ae0378f1001%29%3B%0A%20%20%20%20%20%20%20%20%0A%20%20%20%20%0A%20%20%20%20%20%20%20%20%20%20%20%20var%20marker_19f4d0852a44422bb4e573b943f941a9%20%3D%20L.marker%28%0A%20%20%20%20%20%20%20%20%20%20%20%20%20%20%20%20%5B53.76139385%2C%20-1.43302347%5D%2C%0A%20%20%20%20%20%20%20%20%20%20%20%20%20%20%20%20%7B%7D%0A%20%20%20%20%20%20%20%20%20%20%20%20%29.addTo%28map_9914c9b736e44b4db4132ae0378f1001%29%3B%0A%20%20%20%20%20%20%20%20%0A%20%20%20%20%0A%20%20%20%20%20%20%20%20%20%20%20%20var%20marker_bdf62975233548c2bd10ddcd4e66680a%20%3D%20L.marker%28%0A%20%20%20%20%20%20%20%20%20%20%20%20%20%20%20%20%5B53.80340516%2C%20-1.56466377%5D%2C%0A%20%20%20%20%20%20%20%20%20%20%20%20%20%20%20%20%7B%7D%0A%20%20%20%20%20%20%20%20%20%20%20%20%29.addTo%28map_9914c9b736e44b4db4132ae0378f1001%29%3B%0A%20%20%20%20%20%20%20%20%0A%20%20%20%20%0A%20%20%20%20%20%20%20%20%20%20%20%20var%20marker_7aebf5fd65a24e3a92bc1af24f3404ae%20%3D%20L.marker%28%0A%20%20%20%20%20%20%20%20%20%20%20%20%20%20%20%20%5B53.74141541%2C%20-1.62931558%5D%2C%0A%20%20%20%20%20%20%20%20%20%20%20%20%20%20%20%20%7B%7D%0A%20%20%20%20%20%20%20%20%20%20%20%20%29.addTo%28map_9914c9b736e44b4db4132ae0378f1001%29%3B%0A%20%20%20%20%20%20%20%20%0A%20%20%20%20%0A%20%20%20%20%20%20%20%20%20%20%20%20var%20marker_da87358cc0204aa29635f2ad9244b6ec%20%3D%20L.marker%28%0A%20%20%20%20%20%20%20%20%20%20%20%20%20%20%20%20%5B53.7487148%2C%20-1.63844078%5D%2C%0A%20%20%20%20%20%20%20%20%20%20%20%20%20%20%20%20%7B%7D%0A%20%20%20%20%20%20%20%20%20%20%20%20%29.addTo%28map_9914c9b736e44b4db4132ae0378f1001%29%3B%0A%20%20%20%20%20%20%20%20%0A%20%20%20%20%0A%20%20%20%20%20%20%20%20%20%20%20%20var%20marker_d620daf4b58447f4bec35bef4da77f1c%20%3D%20L.marker%28%0A%20%20%20%20%20%20%20%20%20%20%20%20%20%20%20%20%5B53.85223803%2C%20-1.51785469%5D%2C%0A%20%20%20%20%20%20%20%20%20%20%20%20%20%20%20%20%7B%7D%0A%20%20%20%20%20%20%20%20%20%20%20%20%29.addTo%28map_9914c9b736e44b4db4132ae0378f1001%29%3B%0A%20%20%20%20%20%20%20%20%0A%20%20%20%20%0A%20%20%20%20%20%20%20%20%20%20%20%20var%20marker_64b240001a0b45309be1d041811dac3e%20%3D%20L.marker%28%0A%20%20%20%20%20%20%20%20%20%20%20%20%20%20%20%20%5B53.77903293%2C%20-1.38468035%5D%2C%0A%20%20%20%20%20%20%20%20%20%20%20%20%20%20%20%20%7B%7D%0A%20%20%20%20%20%20%20%20%20%20%20%20%29.addTo%28map_9914c9b736e44b4db4132ae0378f1001%29%3B%0A%20%20%20%20%20%20%20%20%0A%20%20%20%20%0A%20%20%20%20%20%20%20%20%20%20%20%20var%20marker_eba28dbbe3b14eaa9d01d1fd83907df7%20%3D%20L.marker%28%0A%20%20%20%20%20%20%20%20%20%20%20%20%20%20%20%20%5B53.8465201%2C%20-1.54990005%5D%2C%0A%20%20%20%20%20%20%20%20%20%20%20%20%20%20%20%20%7B%7D%0A%20%20%20%20%20%20%20%20%20%20%20%20%29.addTo%28map_9914c9b736e44b4db4132ae0378f1001%29%3B%0A%20%20%20%20%20%20%20%20%0A%20%20%20%20%0A%20%20%20%20%20%20%20%20%20%20%20%20var%20marker_367cda3ad2134603bd63d9cee3b163fa%20%3D%20L.marker%28%0A%20%20%20%20%20%20%20%20%20%20%20%20%20%20%20%20%5B53.88350304%2C%20-1.65235668%5D%2C%0A%20%20%20%20%20%20%20%20%20%20%20%20%20%20%20%20%7B%7D%0A%20%20%20%20%20%20%20%20%20%20%20%20%29.addTo%28map_9914c9b736e44b4db4132ae0378f1001%29%3B%0A%20%20%20%20%20%20%20%20%0A%20%20%20%20%0A%20%20%20%20%20%20%20%20%20%20%20%20var%20marker_26d1165bd9084814a93d6de302ffec29%20%3D%20L.marker%28%0A%20%20%20%20%20%20%20%20%20%20%20%20%20%20%20%20%5B53.8102534%2C%20-1.58477484%5D%2C%0A%20%20%20%20%20%20%20%20%20%20%20%20%20%20%20%20%7B%7D%0A%20%20%20%20%20%20%20%20%20%20%20%20%29.addTo%28map_9914c9b736e44b4db4132ae0378f1001%29%3B%0A%20%20%20%20%20%20%20%20%0A%20%20%20%20%0A%20%20%20%20%20%20%20%20%20%20%20%20var%20marker_fca862aaa5f74006b0199bf457305b2d%20%3D%20L.marker%28%0A%20%20%20%20%20%20%20%20%20%20%20%20%20%20%20%20%5B53.80244115%2C%20-1.53298585%5D%2C%0A%20%20%20%20%20%20%20%20%20%20%20%20%20%20%20%20%7B%7D%0A%20%20%20%20%20%20%20%20%20%20%20%20%29.addTo%28map_9914c9b736e44b4db4132ae0378f1001%29%3B%0A%20%20%20%20%20%20%20%20%0A%20%20%20%20%0A%20%20%20%20%20%20%20%20%20%20%20%20var%20marker_fc837188103a4a88ba558018a4ec51e4%20%3D%20L.marker%28%0A%20%20%20%20%20%20%20%20%20%20%20%20%20%20%20%20%5B53.90588605%2C%20-1.68961416%5D%2C%0A%20%20%20%20%20%20%20%20%20%20%20%20%20%20%20%20%7B%7D%0A%20%20%20%20%20%20%20%20%20%20%20%20%29.addTo%28map_9914c9b736e44b4db4132ae0378f1001%29%3B%0A%20%20%20%20%20%20%20%20%0A%20%20%20%20%0A%20%20%20%20%20%20%20%20%20%20%20%20var%20marker_7a54bb1244374940862777aa75ec79d3%20%3D%20L.marker%28%0A%20%20%20%20%20%20%20%20%20%20%20%20%20%20%20%20%5B53.72824468%2C%20-1.47840875%5D%2C%0A%20%20%20%20%20%20%20%20%20%20%20%20%20%20%20%20%7B%7D%0A%20%20%20%20%20%20%20%20%20%20%20%20%29.addTo%28map_9914c9b736e44b4db4132ae0378f1001%29%3B%0A%20%20%20%20%20%20%20%20%0A%20%20%20%20%0A%20%20%20%20%20%20%20%20%20%20%20%20var%20marker_96b454896cd5484cbd1f43e7bf6c3e92%20%3D%20L.marker%28%0A%20%20%20%20%20%20%20%20%20%20%20%20%20%20%20%20%5B53.87378365%2C%20-1.63598101%5D%2C%0A%20%20%20%20%20%20%20%20%20%20%20%20%20%20%20%20%7B%7D%0A%20%20%20%20%20%20%20%20%20%20%20%20%29.addTo%28map_9914c9b736e44b4db4132ae0378f1001%29%3B%0A%20%20%20%20%20%20%20%20%0A%20%20%20%20%0A%20%20%20%20%20%20%20%20%20%20%20%20var%20marker_eb298967d1cb4bf1bfd2a0a33a394af8%20%3D%20L.marker%28%0A%20%20%20%20%20%20%20%20%20%20%20%20%20%20%20%20%5B53.74535885%2C%20-1.47034293%5D%2C%0A%20%20%20%20%20%20%20%20%20%20%20%20%20%20%20%20%7B%7D%0A%20%20%20%20%20%20%20%20%20%20%20%20%29.addTo%28map_9914c9b736e44b4db4132ae0378f1001%29%3B%0A%20%20%20%20%20%20%20%20%0A%20%20%20%20%0A%20%20%20%20%20%20%20%20%20%20%20%20var%20marker_05bae26617df452aa79191fa540e28cf%20%3D%20L.marker%28%0A%20%20%20%20%20%20%20%20%20%20%20%20%20%20%20%20%5B53.79218614%2C%20-1.54714122%5D%2C%0A%20%20%20%20%20%20%20%20%20%20%20%20%20%20%20%20%7B%7D%0A%20%20%20%20%20%20%20%20%20%20%20%20%29.addTo%28map_9914c9b736e44b4db4132ae0378f1001%29%3B%0A%20%20%20%20%20%20%20%20%0A%20%20%20%20%0A%20%20%20%20%20%20%20%20%20%20%20%20var%20marker_79ae992dcde947c191621e2d48d27131%20%3D%20L.marker%28%0A%20%20%20%20%20%20%20%20%20%20%20%20%20%20%20%20%5B53.79615712%2C%20-1.34753916%5D%2C%0A%20%20%20%20%20%20%20%20%20%20%20%20%20%20%20%20%7B%7D%0A%20%20%20%20%20%20%20%20%20%20%20%20%29.addTo%28map_9914c9b736e44b4db4132ae0378f1001%29%3B%0A%20%20%20%20%20%20%20%20%0A%20%20%20%20%0A%20%20%20%20%20%20%20%20%20%20%20%20var%20marker_7e2e8d7abe2f4beca0cb294f444aaba2%20%3D%20L.marker%28%0A%20%20%20%20%20%20%20%20%20%20%20%20%20%20%20%20%5B53.90732369%2C%20-1.51539511%5D%2C%0A%20%20%20%20%20%20%20%20%20%20%20%20%20%20%20%20%7B%7D%0A%20%20%20%20%20%20%20%20%20%20%20%20%29.addTo%28map_9914c9b736e44b4db4132ae0378f1001%29%3B%0A%20%20%20%20%20%20%20%20%0A%20%20%20%20%0A%20%20%20%20%20%20%20%20%20%20%20%20var%20marker_c93f710f9ff0454a90574ec99e35f1ba%20%3D%20L.marker%28%0A%20%20%20%20%20%20%20%20%20%20%20%20%20%20%20%20%5B53.90400676%2C%20-1.63201987%5D%2C%0A%20%20%20%20%20%20%20%20%20%20%20%20%20%20%20%20%7B%7D%0A%20%20%20%20%20%20%20%20%20%20%20%20%29.addTo%28map_9914c9b736e44b4db4132ae0378f1001%29%3B%0A%20%20%20%20%20%20%20%20%0A%20%20%20%20%0A%20%20%20%20%20%20%20%20%20%20%20%20var%20marker_4022c8d82ea6469fa0ab90264facbef9%20%3D%20L.marker%28%0A%20%20%20%20%20%20%20%20%20%20%20%20%20%20%20%20%5B53.81191786%2C%20-1.53152898%5D%2C%0A%20%20%20%20%20%20%20%20%20%20%20%20%20%20%20%20%7B%7D%0A%20%20%20%20%20%20%20%20%20%20%20%20%29.addTo%28map_9914c9b736e44b4db4132ae0378f1001%29%3B%0A%20%20%20%20%20%20%20%20%0A%20%20%20%20%0A%20%20%20%20%20%20%20%20%20%20%20%20var%20marker_3e66b78632c0485db492b5d26cc6c411%20%3D%20L.marker%28%0A%20%20%20%20%20%20%20%20%20%20%20%20%20%20%20%20%5B53.80082247%2C%20-1.54445208%5D%2C%0A%20%20%20%20%20%20%20%20%20%20%20%20%20%20%20%20%7B%7D%0A%20%20%20%20%20%20%20%20%20%20%20%20%29.addTo%28map_9914c9b736e44b4db4132ae0378f1001%29%3B%0A%20%20%20%20%20%20%20%20%0A%20%20%20%20%0A%20%20%20%20%20%20%20%20%20%20%20%20var%20marker_af56dc8eac1c408194a874d744452e07%20%3D%20L.marker%28%0A%20%20%20%20%20%20%20%20%20%20%20%20%20%20%20%20%5B53.77373503%2C%20-1.56451529%5D%2C%0A%20%20%20%20%20%20%20%20%20%20%20%20%20%20%20%20%7B%7D%0A%20%20%20%20%20%20%20%20%20%20%20%20%29.addTo%28map_9914c9b736e44b4db4132ae0378f1001%29%3B%0A%20%20%20%20%20%20%20%20%0A%20%20%20%20%0A%20%20%20%20%20%20%20%20%20%20%20%20var%20marker_a3705a5ec53b4dca83799052caceb672%20%3D%20L.marker%28%0A%20%20%20%20%20%20%20%20%20%20%20%20%20%20%20%20%5B53.80464235%2C%20-1.6192674%5D%2C%0A%20%20%20%20%20%20%20%20%20%20%20%20%20%20%20%20%7B%7D%0A%20%20%20%20%20%20%20%20%20%20%20%20%29.addTo%28map_9914c9b736e44b4db4132ae0378f1001%29%3B%0A%20%20%20%20%20%20%20%20%0A%20%20%20%20%0A%20%20%20%20%20%20%20%20%20%20%20%20var%20marker_3ee514d711c64219a621864dec6c5e2d%20%3D%20L.marker%28%0A%20%20%20%20%20%20%20%20%20%20%20%20%20%20%20%20%5B53.74634417%2C%20-1.52085497%5D%2C%0A%20%20%20%20%20%20%20%20%20%20%20%20%20%20%20%20%7B%7D%0A%20%20%20%20%20%20%20%20%20%20%20%20%29.addTo%28map_9914c9b736e44b4db4132ae0378f1001%29%3B%0A%20%20%20%20%20%20%20%20%0A%20%20%20%20%0A%20%20%20%20%20%20%20%20%20%20%20%20var%20marker_9626108e263041aba0339a809f562609%20%3D%20L.marker%28%0A%20%20%20%20%20%20%20%20%20%20%20%20%20%20%20%20%5B53.90293742%2C%20-1.54529197%5D%2C%0A%20%20%20%20%20%20%20%20%20%20%20%20%20%20%20%20%7B%7D%0A%20%20%20%20%20%20%20%20%20%20%20%20%29.addTo%28map_9914c9b736e44b4db4132ae0378f1001%29%3B%0A%20%20%20%20%20%20%20%20%0A%20%20%20%20%0A%20%20%20%20%20%20%20%20%20%20%20%20var%20marker_b9dcecb21c1c47e5bf25b072ac2ae947%20%3D%20L.marker%28%0A%20%20%20%20%20%20%20%20%20%20%20%20%20%20%20%20%5B53.80074453%2C%20-1.59812296%5D%2C%0A%20%20%20%20%20%20%20%20%20%20%20%20%20%20%20%20%7B%7D%0A%20%20%20%20%20%20%20%20%20%20%20%20%29.addTo%28map_9914c9b736e44b4db4132ae0378f1001%29%3B%0A%20%20%20%20%20%20%20%20%0A%20%20%20%20%0A%20%20%20%20%20%20%20%20%20%20%20%20var%20marker_983698a4d82345f3ad71cfc27849d43e%20%3D%20L.marker%28%0A%20%20%20%20%20%20%20%20%20%20%20%20%20%20%20%20%5B53.8716154%2C%20-1.70769114%5D%2C%0A%20%20%20%20%20%20%20%20%20%20%20%20%20%20%20%20%7B%7D%0A%20%20%20%20%20%20%20%20%20%20%20%20%29.addTo%28map_9914c9b736e44b4db4132ae0378f1001%29%3B%0A%20%20%20%20%20%20%20%20%0A%20%20%20%20%0A%20%20%20%20%20%20%20%20%20%20%20%20var%20marker_0f11e6ef1dc44263a0fde34a41cd62b9%20%3D%20L.marker%28%0A%20%20%20%20%20%20%20%20%20%20%20%20%20%20%20%20%5B53.76695263%2C%20-1.57813267%5D%2C%0A%20%20%20%20%20%20%20%20%20%20%20%20%20%20%20%20%7B%7D%0A%20%20%20%20%20%20%20%20%20%20%20%20%29.addTo%28map_9914c9b736e44b4db4132ae0378f1001%29%3B%0A%20%20%20%20%20%20%20%20%0A%20%20%20%20%0A%20%20%20%20%20%20%20%20%20%20%20%20var%20marker_d5736250309f4a0d9f80662512d03ec9%20%3D%20L.marker%28%0A%20%20%20%20%20%20%20%20%20%20%20%20%20%20%20%20%5B53.80894671%2C%20-1.54184319%5D%2C%0A%20%20%20%20%20%20%20%20%20%20%20%20%20%20%20%20%7B%7D%0A%20%20%20%20%20%20%20%20%20%20%20%20%29.addTo%28map_9914c9b736e44b4db4132ae0378f1001%29%3B%0A%20%20%20%20%20%20%20%20%0A%20%20%20%20%0A%20%20%20%20%20%20%20%20%20%20%20%20var%20marker_d32a5e69d21e49e1925ab25319f1ae1a%20%3D%20L.marker%28%0A%20%20%20%20%20%20%20%20%20%20%20%20%20%20%20%20%5B53.78224946%2C%20-1.374025%5D%2C%0A%20%20%20%20%20%20%20%20%20%20%20%20%20%20%20%20%7B%7D%0A%20%20%20%20%20%20%20%20%20%20%20%20%29.addTo%28map_9914c9b736e44b4db4132ae0378f1001%29%3B%0A%20%20%20%20%20%20%20%20%0A%20%20%20%20%0A%20%20%20%20%20%20%20%20%20%20%20%20var%20marker_41105283a48f48c694a438b5b316a2dc%20%3D%20L.marker%28%0A%20%20%20%20%20%20%20%20%20%20%20%20%20%20%20%20%5B53.76262585%2C%20-1.50205701%5D%2C%0A%20%20%20%20%20%20%20%20%20%20%20%20%20%20%20%20%7B%7D%0A%20%20%20%20%20%20%20%20%20%20%20%20%29.addTo%28map_9914c9b736e44b4db4132ae0378f1001%29%3B%0A%20%20%20%20%20%20%20%20%0A%20%20%20%20%0A%20%20%20%20%20%20%20%20%20%20%20%20var%20marker_8dcdb6e5f9514f38a92ffa169aec7676%20%3D%20L.marker%28%0A%20%20%20%20%20%20%20%20%20%20%20%20%20%20%20%20%5B53.86384181%2C%20-1.69714742%5D%2C%0A%20%20%20%20%20%20%20%20%20%20%20%20%20%20%20%20%7B%7D%0A%20%20%20%20%20%20%20%20%20%20%20%20%29.addTo%28map_9914c9b736e44b4db4132ae0378f1001%29%3B%0A%20%20%20%20%20%20%20%20%0A%20%20%20%20%0A%20%20%20%20%20%20%20%20%20%20%20%20var%20marker_7e10961674e14cb08d19af8679bec3c2%20%3D%20L.marker%28%0A%20%20%20%20%20%20%20%20%20%20%20%20%20%20%20%20%5B53.80691235%2C%20-1.67300395%5D%2C%0A%20%20%20%20%20%20%20%20%20%20%20%20%20%20%20%20%7B%7D%0A%20%20%20%20%20%20%20%20%20%20%20%20%29.addTo%28map_9914c9b736e44b4db4132ae0378f1001%29%3B%0A%20%20%20%20%20%20%20%20%0A%20%20%20%20%0A%20%20%20%20%20%20%20%20%20%20%20%20var%20marker_da85ce8354d749da8f0c12c9741b96a9%20%3D%20L.marker%28%0A%20%20%20%20%20%20%20%20%20%20%20%20%20%20%20%20%5B53.80148955%2C%20-1.49767934%5D%2C%0A%20%20%20%20%20%20%20%20%20%20%20%20%20%20%20%20%7B%7D%0A%20%20%20%20%20%20%20%20%20%20%20%20%29.addTo%28map_9914c9b736e44b4db4132ae0378f1001%29%3B%0A%20%20%20%20%20%20%20%20%0A%20%20%20%20%0A%20%20%20%20%20%20%20%20%20%20%20%20var%20marker_621528d36e234d25a3e389a04842cf06%20%3D%20L.marker%28%0A%20%20%20%20%20%20%20%20%20%20%20%20%20%20%20%20%5B53.80764725%2C%20-1.4685871%5D%2C%0A%20%20%20%20%20%20%20%20%20%20%20%20%20%20%20%20%7B%7D%0A%20%20%20%20%20%20%20%20%20%20%20%20%29.addTo%28map_9914c9b736e44b4db4132ae0378f1001%29%3B%0A%20%20%20%20%20%20%20%20%0A%20%20%20%20%0A%20%20%20%20%20%20%20%20%20%20%20%20var%20marker_cf12ba56e3504b97beefac1fdeb2e24c%20%3D%20L.marker%28%0A%20%20%20%20%20%20%20%20%20%20%20%20%20%20%20%20%5B53.80500966%2C%20-1.64237681%5D%2C%0A%20%20%20%20%20%20%20%20%20%20%20%20%20%20%20%20%7B%7D%0A%20%20%20%20%20%20%20%20%20%20%20%20%29.addTo%28map_9914c9b736e44b4db4132ae0378f1001%29%3B%0A%20%20%20%20%20%20%20%20%0A%20%20%20%20%0A%20%20%20%20%20%20%20%20%20%20%20%20var%20marker_85f2d20b07e94609bfc629f97eca2236%20%3D%20L.marker%28%0A%20%20%20%20%20%20%20%20%20%20%20%20%20%20%20%20%5B53.80870702%2C%20-1.55215693%5D%2C%0A%20%20%20%20%20%20%20%20%20%20%20%20%20%20%20%20%7B%7D%0A%20%20%20%20%20%20%20%20%20%20%20%20%29.addTo%28map_9914c9b736e44b4db4132ae0378f1001%29%3B%0A%20%20%20%20%20%20%20%20%0A%20%20%20%20%0A%20%20%20%20%20%20%20%20%20%20%20%20var%20marker_2e73385af3e641a692fdd6690b738b79%20%3D%20L.marker%28%0A%20%20%20%20%20%20%20%20%20%20%20%20%20%20%20%20%5B53.91713781%2C%20-1.69624494%5D%2C%0A%20%20%20%20%20%20%20%20%20%20%20%20%20%20%20%20%7B%7D%0A%20%20%20%20%20%20%20%20%20%20%20%20%29.addTo%28map_9914c9b736e44b4db4132ae0378f1001%29%3B%0A%20%20%20%20%20%20%20%20%0A%20%20%20%20%0A%20%20%20%20%20%20%20%20%20%20%20%20var%20marker_894877e1174047bc92631292957ad3f3%20%3D%20L.marker%28%0A%20%20%20%20%20%20%20%20%20%20%20%20%20%20%20%20%5B53.80453921%2C%20-1.63834181%5D%2C%0A%20%20%20%20%20%20%20%20%20%20%20%20%20%20%20%20%7B%7D%0A%20%20%20%20%20%20%20%20%20%20%20%20%29.addTo%28map_9914c9b736e44b4db4132ae0378f1001%29%3B%0A%20%20%20%20%20%20%20%20%0A%20%20%20%20%0A%20%20%20%20%20%20%20%20%20%20%20%20var%20marker_bbda1586f0ed484b83e7c92f68b73d22%20%3D%20L.marker%28%0A%20%20%20%20%20%20%20%20%20%20%20%20%20%20%20%20%5B53.78616148%2C%20-1.56094159%5D%2C%0A%20%20%20%20%20%20%20%20%20%20%20%20%20%20%20%20%7B%7D%0A%20%20%20%20%20%20%20%20%20%20%20%20%29.addTo%28map_9914c9b736e44b4db4132ae0378f1001%29%3B%0A%20%20%20%20%20%20%20%20%0A%20%20%20%20%0A%20%20%20%20%20%20%20%20%20%20%20%20var%20marker_5effecd4837043c39a60ab12b2b5fe08%20%3D%20L.marker%28%0A%20%20%20%20%20%20%20%20%20%20%20%20%20%20%20%20%5B53.82768398%2C%20-1.45897571%5D%2C%0A%20%20%20%20%20%20%20%20%20%20%20%20%20%20%20%20%7B%7D%0A%20%20%20%20%20%20%20%20%20%20%20%20%29.addTo%28map_9914c9b736e44b4db4132ae0378f1001%29%3B%0A%20%20%20%20%20%20%20%20%0A%20%20%20%20%0A%20%20%20%20%20%20%20%20%20%20%20%20var%20marker_fb697effc83b4112a5604aee8517ffc3%20%3D%20L.marker%28%0A%20%20%20%20%20%20%20%20%20%20%20%20%20%20%20%20%5B53.84749863%2C%20-1.40848495%5D%2C%0A%20%20%20%20%20%20%20%20%20%20%20%20%20%20%20%20%7B%7D%0A%20%20%20%20%20%20%20%20%20%20%20%20%29.addTo%28map_9914c9b736e44b4db4132ae0378f1001%29%3B%0A%20%20%20%20%20%20%20%20%0A%20%20%20%20%0A%20%20%20%20%20%20%20%20%20%20%20%20var%20marker_fd0b799dfa604205a4ed392c621b259a%20%3D%20L.marker%28%0A%20%20%20%20%20%20%20%20%20%20%20%20%20%20%20%20%5B53.79654224%2C%20-1.53924549%5D%2C%0A%20%20%20%20%20%20%20%20%20%20%20%20%20%20%20%20%7B%7D%0A%20%20%20%20%20%20%20%20%20%20%20%20%29.addTo%28map_9914c9b736e44b4db4132ae0378f1001%29%3B%0A%20%20%20%20%20%20%20%20%0A%20%20%20%20%0A%20%20%20%20%20%20%20%20%20%20%20%20var%20marker_d1112d1494644258957d1dbd2e437741%20%3D%20L.marker%28%0A%20%20%20%20%20%20%20%20%20%20%20%20%20%20%20%20%5B53.81966733%2C%20-1.51388308%5D%2C%0A%20%20%20%20%20%20%20%20%20%20%20%20%20%20%20%20%7B%7D%0A%20%20%20%20%20%20%20%20%20%20%20%20%29.addTo%28map_9914c9b736e44b4db4132ae0378f1001%29%3B%0A%20%20%20%20%20%20%20%20%0A%20%20%20%20%0A%20%20%20%20%20%20%20%20%20%20%20%20var%20marker_083aec72e1314f07bc98f8a19d9f3c00%20%3D%20L.marker%28%0A%20%20%20%20%20%20%20%20%20%20%20%20%20%20%20%20%5B53.90962253%2C%20-1.66204956%5D%2C%0A%20%20%20%20%20%20%20%20%20%20%20%20%20%20%20%20%7B%7D%0A%20%20%20%20%20%20%20%20%20%20%20%20%29.addTo%28map_9914c9b736e44b4db4132ae0378f1001%29%3B%0A%20%20%20%20%20%20%20%20%0A%20%20%20%20%0A%20%20%20%20%20%20%20%20%20%20%20%20var%20marker_db9ce4f0cdad4279aa98c96ac4f7d5a4%20%3D%20L.marker%28%0A%20%20%20%20%20%20%20%20%20%20%20%20%20%20%20%20%5B53.8108006%2C%20-1.58968971%5D%2C%0A%20%20%20%20%20%20%20%20%20%20%20%20%20%20%20%20%7B%7D%0A%20%20%20%20%20%20%20%20%20%20%20%20%29.addTo%28map_9914c9b736e44b4db4132ae0378f1001%29%3B%0A%20%20%20%20%20%20%20%20%0A%20%20%20%20%0A%20%20%20%20%20%20%20%20%20%20%20%20var%20marker_d860868e19824d94a9f6925e4bbb5813%20%3D%20L.marker%28%0A%20%20%20%20%20%20%20%20%20%20%20%20%20%20%20%20%5B53.86967897%2C%20-1.70236694%5D%2C%0A%20%20%20%20%20%20%20%20%20%20%20%20%20%20%20%20%7B%7D%0A%20%20%20%20%20%20%20%20%20%20%20%20%29.addTo%28map_9914c9b736e44b4db4132ae0378f1001%29%3B%0A%20%20%20%20%20%20%20%20%0A%20%20%20%20%0A%20%20%20%20%20%20%20%20%20%20%20%20var%20marker_6bc2cd3159374c01aa02c2f08a32a11e%20%3D%20L.marker%28%0A%20%20%20%20%20%20%20%20%20%20%20%20%20%20%20%20%5B53.76036309%2C%20-1.43554014%5D%2C%0A%20%20%20%20%20%20%20%20%20%20%20%20%20%20%20%20%7B%7D%0A%20%20%20%20%20%20%20%20%20%20%20%20%29.addTo%28map_9914c9b736e44b4db4132ae0378f1001%29%3B%0A%20%20%20%20%20%20%20%20%0A%20%20%20%20%0A%20%20%20%20%20%20%20%20%20%20%20%20var%20marker_44817081b1634302895c6588655d52fc%20%3D%20L.marker%28%0A%20%20%20%20%20%20%20%20%20%20%20%20%20%20%20%20%5B53.79304924%2C%20-1.44445331%5D%2C%0A%20%20%20%20%20%20%20%20%20%20%20%20%20%20%20%20%7B%7D%0A%20%20%20%20%20%20%20%20%20%20%20%20%29.addTo%28map_9914c9b736e44b4db4132ae0378f1001%29%3B%0A%20%20%20%20%20%20%20%20%0A%20%20%20%20%0A%20%20%20%20%20%20%20%20%20%20%20%20var%20marker_ccc980536bdd4089bb27ec0c7a1454b6%20%3D%20L.marker%28%0A%20%20%20%20%20%20%20%20%20%20%20%20%20%20%20%20%5B53.7563005%2C%20-1.49398716%5D%2C%0A%20%20%20%20%20%20%20%20%20%20%20%20%20%20%20%20%7B%7D%0A%20%20%20%20%20%20%20%20%20%20%20%20%29.addTo%28map_9914c9b736e44b4db4132ae0378f1001%29%3B%0A%20%20%20%20%20%20%20%20%0A%20%20%20%20%0A%20%20%20%20%20%20%20%20%20%20%20%20var%20marker_98f85d42bf5e4842a3d0e65dc0e9a944%20%3D%20L.marker%28%0A%20%20%20%20%20%20%20%20%20%20%20%20%20%20%20%20%5B53.88934452%2C%20-1.36407509%5D%2C%0A%20%20%20%20%20%20%20%20%20%20%20%20%20%20%20%20%7B%7D%0A%20%20%20%20%20%20%20%20%20%20%20%20%29.addTo%28map_9914c9b736e44b4db4132ae0378f1001%29%3B%0A%20%20%20%20%20%20%20%20%0A%20%20%20%20%0A%20%20%20%20%20%20%20%20%20%20%20%20var%20marker_2f775491c8dc40408103aac9424b0f6b%20%3D%20L.marker%28%0A%20%20%20%20%20%20%20%20%20%20%20%20%20%20%20%20%5B53.81086601%2C%20-1.53377318%5D%2C%0A%20%20%20%20%20%20%20%20%20%20%20%20%20%20%20%20%7B%7D%0A%20%20%20%20%20%20%20%20%20%20%20%20%29.addTo%28map_9914c9b736e44b4db4132ae0378f1001%29%3B%0A%20%20%20%20%20%20%20%20%0A%20%20%20%20%0A%20%20%20%20%20%20%20%20%20%20%20%20var%20marker_18eadd085fe9442ca4b6a15e5a5e1aa7%20%3D%20L.marker%28%0A%20%20%20%20%20%20%20%20%20%20%20%20%20%20%20%20%5B53.83344627%2C%20-1.64807591%5D%2C%0A%20%20%20%20%20%20%20%20%20%20%20%20%20%20%20%20%7B%7D%0A%20%20%20%20%20%20%20%20%20%20%20%20%29.addTo%28map_9914c9b736e44b4db4132ae0378f1001%29%3B%0A%20%20%20%20%20%20%20%20%0A%20%20%20%20%0A%20%20%20%20%20%20%20%20%20%20%20%20var%20marker_1f626d5221b342e4ae1ae465e8518037%20%3D%20L.marker%28%0A%20%20%20%20%20%20%20%20%20%20%20%20%20%20%20%20%5B53.78582561%2C%20-1.70027392%5D%2C%0A%20%20%20%20%20%20%20%20%20%20%20%20%20%20%20%20%7B%7D%0A%20%20%20%20%20%20%20%20%20%20%20%20%29.addTo%28map_9914c9b736e44b4db4132ae0378f1001%29%3B%0A%20%20%20%20%20%20%20%20%0A%20%20%20%20%0A%20%20%20%20%20%20%20%20%20%20%20%20var%20marker_019aa8d9b27240acad12d551bf88e437%20%3D%20L.marker%28%0A%20%20%20%20%20%20%20%20%20%20%20%20%20%20%20%20%5B53.73044624%2C%20-1.45800964%5D%2C%0A%20%20%20%20%20%20%20%20%20%20%20%20%20%20%20%20%7B%7D%0A%20%20%20%20%20%20%20%20%20%20%20%20%29.addTo%28map_9914c9b736e44b4db4132ae0378f1001%29%3B%0A%20%20%20%20%20%20%20%20%0A%20%20%20%20%0A%20%20%20%20%20%20%20%20%20%20%20%20var%20marker_45d338490695407ea56fee5746caae89%20%3D%20L.marker%28%0A%20%20%20%20%20%20%20%20%20%20%20%20%20%20%20%20%5B53.82760275%2C%20-1.45890079%5D%2C%0A%20%20%20%20%20%20%20%20%20%20%20%20%20%20%20%20%7B%7D%0A%20%20%20%20%20%20%20%20%20%20%20%20%29.addTo%28map_9914c9b736e44b4db4132ae0378f1001%29%3B%0A%20%20%20%20%20%20%20%20%0A%20%20%20%20%0A%20%20%20%20%20%20%20%20%20%20%20%20var%20marker_60460ffc5d6646a9ab3b7a522dcf7318%20%3D%20L.marker%28%0A%20%20%20%20%20%20%20%20%20%20%20%20%20%20%20%20%5B53.9273267%2C%20-1.30858258%5D%2C%0A%20%20%20%20%20%20%20%20%20%20%20%20%20%20%20%20%7B%7D%0A%20%20%20%20%20%20%20%20%20%20%20%20%29.addTo%28map_9914c9b736e44b4db4132ae0378f1001%29%3B%0A%20%20%20%20%20%20%20%20%0A%20%20%20%20%0A%20%20%20%20%20%20%20%20%20%20%20%20var%20marker_0feb732cc3934e8487b4372d3e20ce65%20%3D%20L.marker%28%0A%20%20%20%20%20%20%20%20%20%20%20%20%20%20%20%20%5B53.82126137%2C%20-1.33934175%5D%2C%0A%20%20%20%20%20%20%20%20%20%20%20%20%20%20%20%20%7B%7D%0A%20%20%20%20%20%20%20%20%20%20%20%20%29.addTo%28map_9914c9b736e44b4db4132ae0378f1001%29%3B%0A%20%20%20%20%20%20%20%20%0A%20%20%20%20%0A%20%20%20%20%20%20%20%20%20%20%20%20var%20marker_d08e8f7e1ba14225809c5bb79faddf01%20%3D%20L.marker%28%0A%20%20%20%20%20%20%20%20%20%20%20%20%20%20%20%20%5B53.89365053%2C%20-1.62838282%5D%2C%0A%20%20%20%20%20%20%20%20%20%20%20%20%20%20%20%20%7B%7D%0A%20%20%20%20%20%20%20%20%20%20%20%20%29.addTo%28map_9914c9b736e44b4db4132ae0378f1001%29%3B%0A%20%20%20%20%20%20%20%20%0A%20%20%20%20%0A%20%20%20%20%20%20%20%20%20%20%20%20var%20marker_c4515c379c8448bbb6e7f74938104ee8%20%3D%20L.marker%28%0A%20%20%20%20%20%20%20%20%20%20%20%20%20%20%20%20%5B53.80152315%2C%20-1.56369634%5D%2C%0A%20%20%20%20%20%20%20%20%20%20%20%20%20%20%20%20%7B%7D%0A%20%20%20%20%20%20%20%20%20%20%20%20%29.addTo%28map_9914c9b736e44b4db4132ae0378f1001%29%3B%0A%20%20%20%20%20%20%20%20%0A%20%20%20%20%0A%20%20%20%20%20%20%20%20%20%20%20%20var%20marker_5731831dc9824c2d83b418dca7896f4f%20%3D%20L.marker%28%0A%20%20%20%20%20%20%20%20%20%20%20%20%20%20%20%20%5B53.72967455%2C%20-1.51275303%5D%2C%0A%20%20%20%20%20%20%20%20%20%20%20%20%20%20%20%20%7B%7D%0A%20%20%20%20%20%20%20%20%20%20%20%20%29.addTo%28map_9914c9b736e44b4db4132ae0378f1001%29%3B%0A%20%20%20%20%20%20%20%20%0A%20%20%20%20%0A%20%20%20%20%20%20%20%20%20%20%20%20var%20marker_a0d795568bb64ae4a30b768fe6d8c705%20%3D%20L.marker%28%0A%20%20%20%20%20%20%20%20%20%20%20%20%20%20%20%20%5B53.73176716%2C%20-1.51679129%5D%2C%0A%20%20%20%20%20%20%20%20%20%20%20%20%20%20%20%20%7B%7D%0A%20%20%20%20%20%20%20%20%20%20%20%20%29.addTo%28map_9914c9b736e44b4db4132ae0378f1001%29%3B%0A%20%20%20%20%20%20%20%20%0A%20%20%20%20%0A%20%20%20%20%20%20%20%20%20%20%20%20var%20marker_c0902c8ca7544b3b81161c58ce0885fa%20%3D%20L.marker%28%0A%20%20%20%20%20%20%20%20%20%20%20%20%20%20%20%20%5B53.72239134%2C%20-1.5890953%5D%2C%0A%20%20%20%20%20%20%20%20%20%20%20%20%20%20%20%20%7B%7D%0A%20%20%20%20%20%20%20%20%20%20%20%20%29.addTo%28map_9914c9b736e44b4db4132ae0378f1001%29%3B%0A%20%20%20%20%20%20%20%20%0A%20%20%20%20%0A%20%20%20%20%20%20%20%20%20%20%20%20var%20marker_e938f8667fff4953b7a4260e67eda37f%20%3D%20L.marker%28%0A%20%20%20%20%20%20%20%20%20%20%20%20%20%20%20%20%5B53.83772212%2C%20-1.61216092%5D%2C%0A%20%20%20%20%20%20%20%20%20%20%20%20%20%20%20%20%7B%7D%0A%20%20%20%20%20%20%20%20%20%20%20%20%29.addTo%28map_9914c9b736e44b4db4132ae0378f1001%29%3B%0A%20%20%20%20%20%20%20%20%0A%20%20%20%20%0A%20%20%20%20%20%20%20%20%20%20%20%20var%20marker_b7c935cb16774786bd977ca440ca4cbe%20%3D%20L.marker%28%0A%20%20%20%20%20%20%20%20%20%20%20%20%20%20%20%20%5B53.78871007%2C%20-1.40366441%5D%2C%0A%20%20%20%20%20%20%20%20%20%20%20%20%20%20%20%20%7B%7D%0A%20%20%20%20%20%20%20%20%20%20%20%20%29.addTo%28map_9914c9b736e44b4db4132ae0378f1001%29%3B%0A%20%20%20%20%20%20%20%20%0A%20%20%20%20%0A%20%20%20%20%20%20%20%20%20%20%20%20var%20marker_85d516764593487395940eff3fb96573%20%3D%20L.marker%28%0A%20%20%20%20%20%20%20%20%20%20%20%20%20%20%20%20%5B53.79897729%2C%20-1.55573708%5D%2C%0A%20%20%20%20%20%20%20%20%20%20%20%20%20%20%20%20%7B%7D%0A%20%20%20%20%20%20%20%20%20%20%20%20%29.addTo%28map_9914c9b736e44b4db4132ae0378f1001%29%3B%0A%20%20%20%20%20%20%20%20%0A%20%20%20%20%0A%20%20%20%20%20%20%20%20%20%20%20%20var%20marker_5605cd0886474246a994c331f312c8e4%20%3D%20L.marker%28%0A%20%20%20%20%20%20%20%20%20%20%20%20%20%20%20%20%5B53.84848506%2C%20-1.52335467%5D%2C%0A%20%20%20%20%20%20%20%20%20%20%20%20%20%20%20%20%7B%7D%0A%20%20%20%20%20%20%20%20%20%20%20%20%29.addTo%28map_9914c9b736e44b4db4132ae0378f1001%29%3B%0A%20%20%20%20%20%20%20%20%0A%20%20%20%20%0A%20%20%20%20%20%20%20%20%20%20%20%20var%20marker_ac0e4387994e4be18a3cfe87acc9d65c%20%3D%20L.marker%28%0A%20%20%20%20%20%20%20%20%20%20%20%20%20%20%20%20%5B53.76356849%2C%20-1.5330982%5D%2C%0A%20%20%20%20%20%20%20%20%20%20%20%20%20%20%20%20%7B%7D%0A%20%20%20%20%20%20%20%20%20%20%20%20%29.addTo%28map_9914c9b736e44b4db4132ae0378f1001%29%3B%0A%20%20%20%20%20%20%20%20%0A%20%20%20%20%0A%20%20%20%20%20%20%20%20%20%20%20%20var%20marker_9557809e74454b12830065498d3c1b1f%20%3D%20L.marker%28%0A%20%20%20%20%20%20%20%20%20%20%20%20%20%20%20%20%5B53.74526845%2C%20-1.45220909%5D%2C%0A%20%20%20%20%20%20%20%20%20%20%20%20%20%20%20%20%7B%7D%0A%20%20%20%20%20%20%20%20%20%20%20%20%29.addTo%28map_9914c9b736e44b4db4132ae0378f1001%29%3B%0A%20%20%20%20%20%20%20%20%0A%20%20%20%20%0A%20%20%20%20%20%20%20%20%20%20%20%20var%20marker_f1e5c3b7769245599bb99c39d8265174%20%3D%20L.marker%28%0A%20%20%20%20%20%20%20%20%20%20%20%20%20%20%20%20%5B53.74681576%2C%20-1.65904884%5D%2C%0A%20%20%20%20%20%20%20%20%20%20%20%20%20%20%20%20%7B%7D%0A%20%20%20%20%20%20%20%20%20%20%20%20%29.addTo%28map_9914c9b736e44b4db4132ae0378f1001%29%3B%0A%20%20%20%20%20%20%20%20%0A%20%20%20%20%0A%20%20%20%20%20%20%20%20%20%20%20%20var%20marker_66e7be181fb342eca2bc97af96351628%20%3D%20L.marker%28%0A%20%20%20%20%20%20%20%20%20%20%20%20%20%20%20%20%5B53.79636969%2C%20-1.53413112%5D%2C%0A%20%20%20%20%20%20%20%20%20%20%20%20%20%20%20%20%7B%7D%0A%20%20%20%20%20%20%20%20%20%20%20%20%29.addTo%28map_9914c9b736e44b4db4132ae0378f1001%29%3B%0A%20%20%20%20%20%20%20%20%0A%20%20%20%20%0A%20%20%20%20%20%20%20%20%20%20%20%20var%20marker_8e42c24db4ac41bca6d9e2cbfd945f80%20%3D%20L.marker%28%0A%20%20%20%20%20%20%20%20%20%20%20%20%20%20%20%20%5B53.77211857%2C%20-1.40376254%5D%2C%0A%20%20%20%20%20%20%20%20%20%20%20%20%20%20%20%20%7B%7D%0A%20%20%20%20%20%20%20%20%20%20%20%20%29.addTo%28map_9914c9b736e44b4db4132ae0378f1001%29%3B%0A%20%20%20%20%20%20%20%20%0A%20%20%20%20%0A%20%20%20%20%20%20%20%20%20%20%20%20var%20marker_b589f87b05344dbf9baf08502188a805%20%3D%20L.marker%28%0A%20%20%20%20%20%20%20%20%20%20%20%20%20%20%20%20%5B53.80118164%2C%20-1.56867974%5D%2C%0A%20%20%20%20%20%20%20%20%20%20%20%20%20%20%20%20%7B%7D%0A%20%20%20%20%20%20%20%20%20%20%20%20%29.addTo%28map_9914c9b736e44b4db4132ae0378f1001%29%3B%0A%20%20%20%20%20%20%20%20%0A%20%20%20%20%0A%20%20%20%20%20%20%20%20%20%20%20%20var%20marker_7a2ff6c46d9942d3ac0fc297aa23ed58%20%3D%20L.marker%28%0A%20%20%20%20%20%20%20%20%20%20%20%20%20%20%20%20%5B53.77256933%2C%20-1.56527078%5D%2C%0A%20%20%20%20%20%20%20%20%20%20%20%20%20%20%20%20%7B%7D%0A%20%20%20%20%20%20%20%20%20%20%20%20%29.addTo%28map_9914c9b736e44b4db4132ae0378f1001%29%3B%0A%20%20%20%20%20%20%20%20%0A%20%20%20%20%0A%20%20%20%20%20%20%20%20%20%20%20%20var%20marker_12b05aa540ce45e2831f215d54bc66b8%20%3D%20L.marker%28%0A%20%20%20%20%20%20%20%20%20%20%20%20%20%20%20%20%5B53.76905142%2C%20-1.54725311%5D%2C%0A%20%20%20%20%20%20%20%20%20%20%20%20%20%20%20%20%7B%7D%0A%20%20%20%20%20%20%20%20%20%20%20%20%29.addTo%28map_9914c9b736e44b4db4132ae0378f1001%29%3B%0A%20%20%20%20%20%20%20%20%0A%20%20%20%20%0A%20%20%20%20%20%20%20%20%20%20%20%20var%20marker_e258357c91c44ccca90907c4f47a6923%20%3D%20L.marker%28%0A%20%20%20%20%20%20%20%20%20%20%20%20%20%20%20%20%5B53.83829964%2C%20-1.5160846%5D%2C%0A%20%20%20%20%20%20%20%20%20%20%20%20%20%20%20%20%7B%7D%0A%20%20%20%20%20%20%20%20%20%20%20%20%29.addTo%28map_9914c9b736e44b4db4132ae0378f1001%29%3B%0A%20%20%20%20%20%20%20%20%0A%20%20%20%20%0A%20%20%20%20%20%20%20%20%20%20%20%20var%20marker_28c1e358abcf45ba8d7be8eb680e07d3%20%3D%20L.marker%28%0A%20%20%20%20%20%20%20%20%20%20%20%20%20%20%20%20%5B53.73108536%2C%20-1.57683883%5D%2C%0A%20%20%20%20%20%20%20%20%20%20%20%20%20%20%20%20%7B%7D%0A%20%20%20%20%20%20%20%20%20%20%20%20%29.addTo%28map_9914c9b736e44b4db4132ae0378f1001%29%3B%0A%20%20%20%20%20%20%20%20%0A%20%20%20%20%0A%20%20%20%20%20%20%20%20%20%20%20%20var%20marker_1eb64bac84c0458592ac319188366fbd%20%3D%20L.marker%28%0A%20%20%20%20%20%20%20%20%20%20%20%20%20%20%20%20%5B53.8153478%2C%20-1.339465%5D%2C%0A%20%20%20%20%20%20%20%20%20%20%20%20%20%20%20%20%7B%7D%0A%20%20%20%20%20%20%20%20%20%20%20%20%29.addTo%28map_9914c9b736e44b4db4132ae0378f1001%29%3B%0A%20%20%20%20%20%20%20%20%0A%20%20%20%20%0A%20%20%20%20%20%20%20%20%20%20%20%20var%20marker_983a0b7974b84b3ebfa1a73eaaee15fc%20%3D%20L.marker%28%0A%20%20%20%20%20%20%20%20%20%20%20%20%20%20%20%20%5B53.80741243%2C%20-1.45033776%5D%2C%0A%20%20%20%20%20%20%20%20%20%20%20%20%20%20%20%20%7B%7D%0A%20%20%20%20%20%20%20%20%20%20%20%20%29.addTo%28map_9914c9b736e44b4db4132ae0378f1001%29%3B%0A%20%20%20%20%20%20%20%20%0A%20%20%20%20%0A%20%20%20%20%20%20%20%20%20%20%20%20var%20marker_49336c1a80f244ad8487c083aff0875c%20%3D%20L.marker%28%0A%20%20%20%20%20%20%20%20%20%20%20%20%20%20%20%20%5B53.75419379%2C%20-1.39600831%5D%2C%0A%20%20%20%20%20%20%20%20%20%20%20%20%20%20%20%20%7B%7D%0A%20%20%20%20%20%20%20%20%20%20%20%20%29.addTo%28map_9914c9b736e44b4db4132ae0378f1001%29%3B%0A%20%20%20%20%20%20%20%20%0A%20%20%20%20%0A%20%20%20%20%20%20%20%20%20%20%20%20var%20marker_33cdf2e4992e41e69de36609faecd9e7%20%3D%20L.marker%28%0A%20%20%20%20%20%20%20%20%20%20%20%20%20%20%20%20%5B53.82621441%2C%20-1.45797674%5D%2C%0A%20%20%20%20%20%20%20%20%20%20%20%20%20%20%20%20%7B%7D%0A%20%20%20%20%20%20%20%20%20%20%20%20%29.addTo%28map_9914c9b736e44b4db4132ae0378f1001%29%3B%0A%20%20%20%20%20%20%20%20%0A%20%20%20%20%0A%20%20%20%20%20%20%20%20%20%20%20%20var%20marker_af26d9f2338f42f3af5563a5b5c6821e%20%3D%20L.marker%28%0A%20%20%20%20%20%20%20%20%20%20%20%20%20%20%20%20%5B53.79150941%2C%20-1.42663755%5D%2C%0A%20%20%20%20%20%20%20%20%20%20%20%20%20%20%20%20%7B%7D%0A%20%20%20%20%20%20%20%20%20%20%20%20%29.addTo%28map_9914c9b736e44b4db4132ae0378f1001%29%3B%0A%20%20%20%20%20%20%20%20%0A%20%20%20%20%0A%20%20%20%20%20%20%20%20%20%20%20%20var%20marker_eb2979ab6a4848ebb3a3f2479582e9fb%20%3D%20L.marker%28%0A%20%20%20%20%20%20%20%20%20%20%20%20%20%20%20%20%5B53.84954051%2C%20-1.50648522%5D%2C%0A%20%20%20%20%20%20%20%20%20%20%20%20%20%20%20%20%7B%7D%0A%20%20%20%20%20%20%20%20%20%20%20%20%29.addTo%28map_9914c9b736e44b4db4132ae0378f1001%29%3B%0A%20%20%20%20%20%20%20%20%0A%20%20%20%20%0A%20%20%20%20%20%20%20%20%20%20%20%20var%20marker_31da173703e541b6956d3a3419d1edb2%20%3D%20L.marker%28%0A%20%20%20%20%20%20%20%20%20%20%20%20%20%20%20%20%5B53.73909391%2C%20-1.54719549%5D%2C%0A%20%20%20%20%20%20%20%20%20%20%20%20%20%20%20%20%7B%7D%0A%20%20%20%20%20%20%20%20%20%20%20%20%29.addTo%28map_9914c9b736e44b4db4132ae0378f1001%29%3B%0A%20%20%20%20%20%20%20%20%0A%20%20%20%20%0A%20%20%20%20%20%20%20%20%20%20%20%20var%20marker_f74b447e9a41406abe0bee58718fcab8%20%3D%20L.marker%28%0A%20%20%20%20%20%20%20%20%20%20%20%20%20%20%20%20%5B53.73200718%2C%20-1.5808465%5D%2C%0A%20%20%20%20%20%20%20%20%20%20%20%20%20%20%20%20%7B%7D%0A%20%20%20%20%20%20%20%20%20%20%20%20%29.addTo%28map_9914c9b736e44b4db4132ae0378f1001%29%3B%0A%20%20%20%20%20%20%20%20%0A%20%20%20%20%0A%20%20%20%20%20%20%20%20%20%20%20%20var%20marker_3528fa24e1bc472e9e6ef4d832a49c9c%20%3D%20L.marker%28%0A%20%20%20%20%20%20%20%20%20%20%20%20%20%20%20%20%5B53.80432366%2C%20-1.57517652%5D%2C%0A%20%20%20%20%20%20%20%20%20%20%20%20%20%20%20%20%7B%7D%0A%20%20%20%20%20%20%20%20%20%20%20%20%29.addTo%28map_9914c9b736e44b4db4132ae0378f1001%29%3B%0A%20%20%20%20%20%20%20%20%0A%20%20%20%20%0A%20%20%20%20%20%20%20%20%20%20%20%20var%20marker_8e0746256c48492e91ef7dfdca8e582d%20%3D%20L.marker%28%0A%20%20%20%20%20%20%20%20%20%20%20%20%20%20%20%20%5B53.75331607%2C%20-1.6293929%5D%2C%0A%20%20%20%20%20%20%20%20%20%20%20%20%20%20%20%20%7B%7D%0A%20%20%20%20%20%20%20%20%20%20%20%20%29.addTo%28map_9914c9b736e44b4db4132ae0378f1001%29%3B%0A%20%20%20%20%20%20%20%20%0A%20%20%20%20%0A%20%20%20%20%20%20%20%20%20%20%20%20var%20marker_bfd17c7b9c4f400c912412e011f064b0%20%3D%20L.marker%28%0A%20%20%20%20%20%20%20%20%20%20%20%20%20%20%20%20%5B53.79847755%2C%20-1.47844943%5D%2C%0A%20%20%20%20%20%20%20%20%20%20%20%20%20%20%20%20%7B%7D%0A%20%20%20%20%20%20%20%20%20%20%20%20%29.addTo%28map_9914c9b736e44b4db4132ae0378f1001%29%3B%0A%20%20%20%20%20%20%20%20%0A%20%20%20%20%0A%20%20%20%20%20%20%20%20%20%20%20%20var%20marker_0132d8076aea4ea0820ded3eace29dcf%20%3D%20L.marker%28%0A%20%20%20%20%20%20%20%20%20%20%20%20%20%20%20%20%5B53.81159638%2C%20-1.52293658%5D%2C%0A%20%20%20%20%20%20%20%20%20%20%20%20%20%20%20%20%7B%7D%0A%20%20%20%20%20%20%20%20%20%20%20%20%29.addTo%28map_9914c9b736e44b4db4132ae0378f1001%29%3B%0A%20%20%20%20%20%20%20%20%0A%20%20%20%20%0A%20%20%20%20%20%20%20%20%20%20%20%20var%20marker_10ba2823c93c44df9485c42855af5f8f%20%3D%20L.marker%28%0A%20%20%20%20%20%20%20%20%20%20%20%20%20%20%20%20%5B53.803786%2C%20-1.61286761%5D%2C%0A%20%20%20%20%20%20%20%20%20%20%20%20%20%20%20%20%7B%7D%0A%20%20%20%20%20%20%20%20%20%20%20%20%29.addTo%28map_9914c9b736e44b4db4132ae0378f1001%29%3B%0A%20%20%20%20%20%20%20%20%0A%20%20%20%20%0A%20%20%20%20%20%20%20%20%20%20%20%20var%20marker_f6703ec650694cb889e00e2e5660dabd%20%3D%20L.marker%28%0A%20%20%20%20%20%20%20%20%20%20%20%20%20%20%20%20%5B53.74700076%2C%20-1.66089727%5D%2C%0A%20%20%20%20%20%20%20%20%20%20%20%20%20%20%20%20%7B%7D%0A%20%20%20%20%20%20%20%20%20%20%20%20%29.addTo%28map_9914c9b736e44b4db4132ae0378f1001%29%3B%0A%20%20%20%20%20%20%20%20%0A%20%20%20%20%0A%20%20%20%20%20%20%20%20%20%20%20%20var%20marker_6503618130714391926d32f8d360610a%20%3D%20L.marker%28%0A%20%20%20%20%20%20%20%20%20%20%20%20%20%20%20%20%5B53.90403433%2C%20-1.63221748%5D%2C%0A%20%20%20%20%20%20%20%20%20%20%20%20%20%20%20%20%7B%7D%0A%20%20%20%20%20%20%20%20%20%20%20%20%29.addTo%28map_9914c9b736e44b4db4132ae0378f1001%29%3B%0A%20%20%20%20%20%20%20%20%0A%20%20%20%20%0A%20%20%20%20%20%20%20%20%20%20%20%20var%20marker_a23b46d5716a485fbe9a6da493886230%20%3D%20L.marker%28%0A%20%20%20%20%20%20%20%20%20%20%20%20%20%20%20%20%5B53.77606084%2C%20-1.30606123%5D%2C%0A%20%20%20%20%20%20%20%20%20%20%20%20%20%20%20%20%7B%7D%0A%20%20%20%20%20%20%20%20%20%20%20%20%29.addTo%28map_9914c9b736e44b4db4132ae0378f1001%29%3B%0A%20%20%20%20%20%20%20%20%0A%20%20%20%20%0A%20%20%20%20%20%20%20%20%20%20%20%20var%20marker_7139673fddcc44519ccd8b69ac074fbd%20%3D%20L.marker%28%0A%20%20%20%20%20%20%20%20%20%20%20%20%20%20%20%20%5B53.76470162%2C%20-1.60879838%5D%2C%0A%20%20%20%20%20%20%20%20%20%20%20%20%20%20%20%20%7B%7D%0A%20%20%20%20%20%20%20%20%20%20%20%20%29.addTo%28map_9914c9b736e44b4db4132ae0378f1001%29%3B%0A%20%20%20%20%20%20%20%20%0A%20%20%20%20%0A%20%20%20%20%20%20%20%20%20%20%20%20var%20marker_75c342f29cfa487fbe9a7bb314eaba07%20%3D%20L.marker%28%0A%20%20%20%20%20%20%20%20%20%20%20%20%20%20%20%20%5B53.73205474%2C%20-1.58419598%5D%2C%0A%20%20%20%20%20%20%20%20%20%20%20%20%20%20%20%20%7B%7D%0A%20%20%20%20%20%20%20%20%20%20%20%20%29.addTo%28map_9914c9b736e44b4db4132ae0378f1001%29%3B%0A%20%20%20%20%20%20%20%20%0A%20%20%20%20%0A%20%20%20%20%20%20%20%20%20%20%20%20var%20marker_2a91056bcd1c4cef97494500f20bc13c%20%3D%20L.marker%28%0A%20%20%20%20%20%20%20%20%20%20%20%20%20%20%20%20%5B53.85110631%2C%20-1.39295916%5D%2C%0A%20%20%20%20%20%20%20%20%20%20%20%20%20%20%20%20%7B%7D%0A%20%20%20%20%20%20%20%20%20%20%20%20%29.addTo%28map_9914c9b736e44b4db4132ae0378f1001%29%3B%0A%20%20%20%20%20%20%20%20%0A%20%20%20%20%0A%20%20%20%20%20%20%20%20%20%20%20%20var%20marker_42ecb7f5e2904646b2993b943a6e8002%20%3D%20L.marker%28%0A%20%20%20%20%20%20%20%20%20%20%20%20%20%20%20%20%5B53.78115704%2C%20-1.36965539%5D%2C%0A%20%20%20%20%20%20%20%20%20%20%20%20%20%20%20%20%7B%7D%0A%20%20%20%20%20%20%20%20%20%20%20%20%29.addTo%28map_9914c9b736e44b4db4132ae0378f1001%29%3B%0A%20%20%20%20%20%20%20%20%0A%20%20%20%20%0A%20%20%20%20%20%20%20%20%20%20%20%20var%20marker_6e039127bd8349689fd8e07663ab2a74%20%3D%20L.marker%28%0A%20%20%20%20%20%20%20%20%20%20%20%20%20%20%20%20%5B53.81376251%2C%20-1.34377286%5D%2C%0A%20%20%20%20%20%20%20%20%20%20%20%20%20%20%20%20%7B%7D%0A%20%20%20%20%20%20%20%20%20%20%20%20%29.addTo%28map_9914c9b736e44b4db4132ae0378f1001%29%3B%0A%20%20%20%20%20%20%20%20%0A%20%20%20%20%0A%20%20%20%20%20%20%20%20%20%20%20%20var%20marker_424dda537a1e44ecadcbc8bc71144e03%20%3D%20L.marker%28%0A%20%20%20%20%20%20%20%20%20%20%20%20%20%20%20%20%5B53.83550603%2C%20-1.43410649%5D%2C%0A%20%20%20%20%20%20%20%20%20%20%20%20%20%20%20%20%7B%7D%0A%20%20%20%20%20%20%20%20%20%20%20%20%29.addTo%28map_9914c9b736e44b4db4132ae0378f1001%29%3B%0A%20%20%20%20%20%20%20%20%0A%20%20%20%20%0A%20%20%20%20%20%20%20%20%20%20%20%20var%20marker_0787263a130d4d1ba92d2ef0be639356%20%3D%20L.marker%28%0A%20%20%20%20%20%20%20%20%20%20%20%20%20%20%20%20%5B53.83952678%2C%20-1.4385963%5D%2C%0A%20%20%20%20%20%20%20%20%20%20%20%20%20%20%20%20%7B%7D%0A%20%20%20%20%20%20%20%20%20%20%20%20%29.addTo%28map_9914c9b736e44b4db4132ae0378f1001%29%3B%0A%20%20%20%20%20%20%20%20%0A%20%20%20%20%0A%20%20%20%20%20%20%20%20%20%20%20%20var%20marker_eb64065606c348909ad92cba0752e8aa%20%3D%20L.marker%28%0A%20%20%20%20%20%20%20%20%20%20%20%20%20%20%20%20%5B53.78541853%2C%20-1.43104604%5D%2C%0A%20%20%20%20%20%20%20%20%20%20%20%20%20%20%20%20%7B%7D%0A%20%20%20%20%20%20%20%20%20%20%20%20%29.addTo%28map_9914c9b736e44b4db4132ae0378f1001%29%3B%0A%20%20%20%20%20%20%20%20%0A%20%20%20%20%0A%20%20%20%20%20%20%20%20%20%20%20%20var%20marker_d488c8cc8bdc407c887081ca742c0692%20%3D%20L.marker%28%0A%20%20%20%20%20%20%20%20%20%20%20%20%20%20%20%20%5B53.8357765%2C%20-1.33918968%5D%2C%0A%20%20%20%20%20%20%20%20%20%20%20%20%20%20%20%20%7B%7D%0A%20%20%20%20%20%20%20%20%20%20%20%20%29.addTo%28map_9914c9b736e44b4db4132ae0378f1001%29%3B%0A%20%20%20%20%20%20%20%20%0A%20%20%20%20%0A%20%20%20%20%20%20%20%20%20%20%20%20var%20marker_349934c9e92f4f5fa2e7090614972d3a%20%3D%20L.marker%28%0A%20%20%20%20%20%20%20%20%20%20%20%20%20%20%20%20%5B53.7185543%2C%20-1.59199666%5D%2C%0A%20%20%20%20%20%20%20%20%20%20%20%20%20%20%20%20%7B%7D%0A%20%20%20%20%20%20%20%20%20%20%20%20%29.addTo%28map_9914c9b736e44b4db4132ae0378f1001%29%3B%0A%20%20%20%20%20%20%20%20%0A%20%20%20%20%0A%20%20%20%20%20%20%20%20%20%20%20%20var%20marker_bc0579d9e2ab49f5891b7c9e42601e86%20%3D%20L.marker%28%0A%20%20%20%20%20%20%20%20%20%20%20%20%20%20%20%20%5B53.80710736%2C%20-1.44264298%5D%2C%0A%20%20%20%20%20%20%20%20%20%20%20%20%20%20%20%20%7B%7D%0A%20%20%20%20%20%20%20%20%20%20%20%20%29.addTo%28map_9914c9b736e44b4db4132ae0378f1001%29%3B%0A%20%20%20%20%20%20%20%20%0A%20%20%20%20%0A%20%20%20%20%20%20%20%20%20%20%20%20var%20marker_0a2f3a3fae194e0089d5fae3a929378d%20%3D%20L.marker%28%0A%20%20%20%20%20%20%20%20%20%20%20%20%20%20%20%20%5B53.78788458%2C%20-1.41123504%5D%2C%0A%20%20%20%20%20%20%20%20%20%20%20%20%20%20%20%20%7B%7D%0A%20%20%20%20%20%20%20%20%20%20%20%20%29.addTo%28map_9914c9b736e44b4db4132ae0378f1001%29%3B%0A%20%20%20%20%20%20%20%20%0A%20%20%20%20%0A%20%20%20%20%20%20%20%20%20%20%20%20var%20marker_8aea294b21a443d5b6cee93d436c41d3%20%3D%20L.marker%28%0A%20%20%20%20%20%20%20%20%20%20%20%20%20%20%20%20%5B53.80685341%2C%20-1.58404916%5D%2C%0A%20%20%20%20%20%20%20%20%20%20%20%20%20%20%20%20%7B%7D%0A%20%20%20%20%20%20%20%20%20%20%20%20%29.addTo%28map_9914c9b736e44b4db4132ae0378f1001%29%3B%0A%20%20%20%20%20%20%20%20%0A%20%20%20%20%0A%20%20%20%20%20%20%20%20%20%20%20%20var%20marker_13b4391231ea4e029070d17929e99fe5%20%3D%20L.marker%28%0A%20%20%20%20%20%20%20%20%20%20%20%20%20%20%20%20%5B53.7480512%2C%20-1.54141298%5D%2C%0A%20%20%20%20%20%20%20%20%20%20%20%20%20%20%20%20%7B%7D%0A%20%20%20%20%20%20%20%20%20%20%20%20%29.addTo%28map_9914c9b736e44b4db4132ae0378f1001%29%3B%0A%20%20%20%20%20%20%20%20%0A%20%20%20%20%0A%20%20%20%20%20%20%20%20%20%20%20%20var%20marker_122a5de00e674626a2538ce77567ef35%20%3D%20L.marker%28%0A%20%20%20%20%20%20%20%20%20%20%20%20%20%20%20%20%5B53.79854874%2C%20-1.44224014%5D%2C%0A%20%20%20%20%20%20%20%20%20%20%20%20%20%20%20%20%7B%7D%0A%20%20%20%20%20%20%20%20%20%20%20%20%29.addTo%28map_9914c9b736e44b4db4132ae0378f1001%29%3B%0A%20%20%20%20%20%20%20%20%0A%20%20%20%20%0A%20%20%20%20%20%20%20%20%20%20%20%20var%20marker_fd62176c181e4dfb90574660a939a7e4%20%3D%20L.marker%28%0A%20%20%20%20%20%20%20%20%20%20%20%20%20%20%20%20%5B53.84250256%2C%20-1.56456344%5D%2C%0A%20%20%20%20%20%20%20%20%20%20%20%20%20%20%20%20%7B%7D%0A%20%20%20%20%20%20%20%20%20%20%20%20%29.addTo%28map_9914c9b736e44b4db4132ae0378f1001%29%3B%0A%20%20%20%20%20%20%20%20%0A%20%20%20%20%0A%20%20%20%20%20%20%20%20%20%20%20%20var%20marker_e2bb8c9cab174d5a9fcc54266eaccce3%20%3D%20L.marker%28%0A%20%20%20%20%20%20%20%20%20%20%20%20%20%20%20%20%5B53.80279709%2C%20-1.60725885%5D%2C%0A%20%20%20%20%20%20%20%20%20%20%20%20%20%20%20%20%7B%7D%0A%20%20%20%20%20%20%20%20%20%20%20%20%29.addTo%28map_9914c9b736e44b4db4132ae0378f1001%29%3B%0A%20%20%20%20%20%20%20%20%0A%20%20%20%20%0A%20%20%20%20%20%20%20%20%20%20%20%20var%20marker_a881dcca075c4e549d5e1bedc5ba0107%20%3D%20L.marker%28%0A%20%20%20%20%20%20%20%20%20%20%20%20%20%20%20%20%5B53.89658127%2C%20-1.71027225%5D%2C%0A%20%20%20%20%20%20%20%20%20%20%20%20%20%20%20%20%7B%7D%0A%20%20%20%20%20%20%20%20%20%20%20%20%29.addTo%28map_9914c9b736e44b4db4132ae0378f1001%29%3B%0A%20%20%20%20%20%20%20%20%0A%20%20%20%20%0A%20%20%20%20%20%20%20%20%20%20%20%20var%20marker_29a840e211ea4a3680c20279f5a28d45%20%3D%20L.marker%28%0A%20%20%20%20%20%20%20%20%20%20%20%20%20%20%20%20%5B53.89992286%2C%20-1.501251%5D%2C%0A%20%20%20%20%20%20%20%20%20%20%20%20%20%20%20%20%7B%7D%0A%20%20%20%20%20%20%20%20%20%20%20%20%29.addTo%28map_9914c9b736e44b4db4132ae0378f1001%29%3B%0A%20%20%20%20%20%20%20%20%0A%20%20%20%20%0A%20%20%20%20%20%20%20%20%20%20%20%20var%20marker_c4687b1f710f4e7ca20faf0529e2e678%20%3D%20L.marker%28%0A%20%20%20%20%20%20%20%20%20%20%20%20%20%20%20%20%5B53.81764239%2C%20-1.53131333%5D%2C%0A%20%20%20%20%20%20%20%20%20%20%20%20%20%20%20%20%7B%7D%0A%20%20%20%20%20%20%20%20%20%20%20%20%29.addTo%28map_9914c9b736e44b4db4132ae0378f1001%29%3B%0A%20%20%20%20%20%20%20%20%0A%20%20%20%20%0A%20%20%20%20%20%20%20%20%20%20%20%20var%20marker_0e589847935d42b29dce742c1684ef2c%20%3D%20L.marker%28%0A%20%20%20%20%20%20%20%20%20%20%20%20%20%20%20%20%5B53.89458448%2C%20-1.63993922%5D%2C%0A%20%20%20%20%20%20%20%20%20%20%20%20%20%20%20%20%7B%7D%0A%20%20%20%20%20%20%20%20%20%20%20%20%29.addTo%28map_9914c9b736e44b4db4132ae0378f1001%29%3B%0A%20%20%20%20%20%20%20%20%0A%20%20%20%20%0A%20%20%20%20%20%20%20%20%20%20%20%20var%20marker_545c8d3bf3b34159b83bb604bd282ac9%20%3D%20L.marker%28%0A%20%20%20%20%20%20%20%20%20%20%20%20%20%20%20%20%5B53.7448945%2C%20-1.59077138%5D%2C%0A%20%20%20%20%20%20%20%20%20%20%20%20%20%20%20%20%7B%7D%0A%20%20%20%20%20%20%20%20%20%20%20%20%29.addTo%28map_9914c9b736e44b4db4132ae0378f1001%29%3B%0A%20%20%20%20%20%20%20%20%0A%20%20%20%20%0A%20%20%20%20%20%20%20%20%20%20%20%20var%20marker_3c29f6dd99f44b2f8597ef53751ca5fd%20%3D%20L.marker%28%0A%20%20%20%20%20%20%20%20%20%20%20%20%20%20%20%20%5B53.90065122%2C%20-1.68126731%5D%2C%0A%20%20%20%20%20%20%20%20%20%20%20%20%20%20%20%20%7B%7D%0A%20%20%20%20%20%20%20%20%20%20%20%20%29.addTo%28map_9914c9b736e44b4db4132ae0378f1001%29%3B%0A%20%20%20%20%20%20%20%20%0A%20%20%20%20%0A%20%20%20%20%20%20%20%20%20%20%20%20var%20marker_026ae2f3d94c4eeb82c34f832bd1174b%20%3D%20L.marker%28%0A%20%20%20%20%20%20%20%20%20%20%20%20%20%20%20%20%5B53.83239758%2C%20-1.56138601%5D%2C%0A%20%20%20%20%20%20%20%20%20%20%20%20%20%20%20%20%7B%7D%0A%20%20%20%20%20%20%20%20%20%20%20%20%29.addTo%28map_9914c9b736e44b4db4132ae0378f1001%29%3B%0A%20%20%20%20%20%20%20%20%0A%20%20%20%20%0A%20%20%20%20%20%20%20%20%20%20%20%20var%20marker_70d114a74c794e6bbff5f5c906938660%20%3D%20L.marker%28%0A%20%20%20%20%20%20%20%20%20%20%20%20%20%20%20%20%5B53.8423063%2C%20-1.63529527%5D%2C%0A%20%20%20%20%20%20%20%20%20%20%20%20%20%20%20%20%7B%7D%0A%20%20%20%20%20%20%20%20%20%20%20%20%29.addTo%28map_9914c9b736e44b4db4132ae0378f1001%29%3B%0A%20%20%20%20%20%20%20%20%0A%20%20%20%20%0A%20%20%20%20%20%20%20%20%20%20%20%20var%20marker_080d71577c8e4d0f9a8ddc84ce34d9e8%20%3D%20L.marker%28%0A%20%20%20%20%20%20%20%20%20%20%20%20%20%20%20%20%5B53.79954894%2C%20-1.41444249%5D%2C%0A%20%20%20%20%20%20%20%20%20%20%20%20%20%20%20%20%7B%7D%0A%20%20%20%20%20%20%20%20%20%20%20%20%29.addTo%28map_9914c9b736e44b4db4132ae0378f1001%29%3B%0A%20%20%20%20%20%20%20%20%0A%20%20%20%20%0A%20%20%20%20%20%20%20%20%20%20%20%20var%20marker_803ca1b1a52c4200b5a8e29a1669469e%20%3D%20L.marker%28%0A%20%20%20%20%20%20%20%20%20%20%20%20%20%20%20%20%5B53.84377821%2C%20-1.59795595%5D%2C%0A%20%20%20%20%20%20%20%20%20%20%20%20%20%20%20%20%7B%7D%0A%20%20%20%20%20%20%20%20%20%20%20%20%29.addTo%28map_9914c9b736e44b4db4132ae0378f1001%29%3B%0A%20%20%20%20%20%20%20%20%0A%20%20%20%20%0A%20%20%20%20%20%20%20%20%20%20%20%20var%20marker_d06c77f0e0314beaaa3da89e98c007d0%20%3D%20L.marker%28%0A%20%20%20%20%20%20%20%20%20%20%20%20%20%20%20%20%5B53.88350609%2C%20-1.50658797%5D%2C%0A%20%20%20%20%20%20%20%20%20%20%20%20%20%20%20%20%7B%7D%0A%20%20%20%20%20%20%20%20%20%20%20%20%29.addTo%28map_9914c9b736e44b4db4132ae0378f1001%29%3B%0A%20%20%20%20%20%20%20%20%0A%20%20%20%20%0A%20%20%20%20%20%20%20%20%20%20%20%20var%20marker_db406826970049e2b5e9957532b75e0a%20%3D%20L.marker%28%0A%20%20%20%20%20%20%20%20%20%20%20%20%20%20%20%20%5B53.76878825%2C%20-1.53020341%5D%2C%0A%20%20%20%20%20%20%20%20%20%20%20%20%20%20%20%20%7B%7D%0A%20%20%20%20%20%20%20%20%20%20%20%20%29.addTo%28map_9914c9b736e44b4db4132ae0378f1001%29%3B%0A%20%20%20%20%20%20%20%20%0A%20%20%20%20%0A%20%20%20%20%20%20%20%20%20%20%20%20var%20marker_c188e564d816463295b6b165a7577341%20%3D%20L.marker%28%0A%20%20%20%20%20%20%20%20%20%20%20%20%20%20%20%20%5B53.81477292%2C%20-1.56161512%5D%2C%0A%20%20%20%20%20%20%20%20%20%20%20%20%20%20%20%20%7B%7D%0A%20%20%20%20%20%20%20%20%20%20%20%20%29.addTo%28map_9914c9b736e44b4db4132ae0378f1001%29%3B%0A%20%20%20%20%20%20%20%20%0A%20%20%20%20%0A%20%20%20%20%20%20%20%20%20%20%20%20var%20marker_77bdedcf3f894a00a991f9e5329a902f%20%3D%20L.marker%28%0A%20%20%20%20%20%20%20%20%20%20%20%20%20%20%20%20%5B53.73912171%2C%20-1.52637975%5D%2C%0A%20%20%20%20%20%20%20%20%20%20%20%20%20%20%20%20%7B%7D%0A%20%20%20%20%20%20%20%20%20%20%20%20%29.addTo%28map_9914c9b736e44b4db4132ae0378f1001%29%3B%0A%20%20%20%20%20%20%20%20%0A%20%20%20%20%0A%20%20%20%20%20%20%20%20%20%20%20%20var%20marker_d216fb2ab81542bba18ddba1663fc682%20%3D%20L.marker%28%0A%20%20%20%20%20%20%20%20%20%20%20%20%20%20%20%20%5B53.83639477%2C%20-1.47138519%5D%2C%0A%20%20%20%20%20%20%20%20%20%20%20%20%20%20%20%20%7B%7D%0A%20%20%20%20%20%20%20%20%20%20%20%20%29.addTo%28map_9914c9b736e44b4db4132ae0378f1001%29%3B%0A%20%20%20%20%20%20%20%20%0A%20%20%20%20%0A%20%20%20%20%20%20%20%20%20%20%20%20var%20marker_86a07ca4784942aca6efb83c73086016%20%3D%20L.marker%28%0A%20%20%20%20%20%20%20%20%20%20%20%20%20%20%20%20%5B53.90052225%2C%20-1.48144391%5D%2C%0A%20%20%20%20%20%20%20%20%20%20%20%20%20%20%20%20%7B%7D%0A%20%20%20%20%20%20%20%20%20%20%20%20%29.addTo%28map_9914c9b736e44b4db4132ae0378f1001%29%3B%0A%20%20%20%20%20%20%20%20%0A%20%20%20%20%0A%20%20%20%20%20%20%20%20%20%20%20%20var%20marker_a80bb88921844fd38f6c84fb6d0ce03b%20%3D%20L.marker%28%0A%20%20%20%20%20%20%20%20%20%20%20%20%20%20%20%20%5B53.72167841%2C%20-1.56770431%5D%2C%0A%20%20%20%20%20%20%20%20%20%20%20%20%20%20%20%20%7B%7D%0A%20%20%20%20%20%20%20%20%20%20%20%20%29.addTo%28map_9914c9b736e44b4db4132ae0378f1001%29%3B%0A%20%20%20%20%20%20%20%20%0A%20%20%20%20%0A%20%20%20%20%20%20%20%20%20%20%20%20var%20marker_27ccc91a2ace4eeaad0d30172e26dc44%20%3D%20L.marker%28%0A%20%20%20%20%20%20%20%20%20%20%20%20%20%20%20%20%5B53.78918025%2C%20-1.61004253%5D%2C%0A%20%20%20%20%20%20%20%20%20%20%20%20%20%20%20%20%7B%7D%0A%20%20%20%20%20%20%20%20%20%20%20%20%29.addTo%28map_9914c9b736e44b4db4132ae0378f1001%29%3B%0A%20%20%20%20%20%20%20%20%0A%20%20%20%20%0A%20%20%20%20%20%20%20%20%20%20%20%20var%20marker_df0ba7fe102c4b81a9a04bc6f677b5f0%20%3D%20L.marker%28%0A%20%20%20%20%20%20%20%20%20%20%20%20%20%20%20%20%5B53.81111833%2C%20-1.52477963%5D%2C%0A%20%20%20%20%20%20%20%20%20%20%20%20%20%20%20%20%7B%7D%0A%20%20%20%20%20%20%20%20%20%20%20%20%29.addTo%28map_9914c9b736e44b4db4132ae0378f1001%29%3B%0A%20%20%20%20%20%20%20%20%0A%20%20%20%20%0A%20%20%20%20%20%20%20%20%20%20%20%20var%20marker_48b990ba72b140b2b5174963965c945d%20%3D%20L.marker%28%0A%20%20%20%20%20%20%20%20%20%20%20%20%20%20%20%20%5B53.90407828%2C%20-1.69264115%5D%2C%0A%20%20%20%20%20%20%20%20%20%20%20%20%20%20%20%20%7B%7D%0A%20%20%20%20%20%20%20%20%20%20%20%20%29.addTo%28map_9914c9b736e44b4db4132ae0378f1001%29%3B%0A%20%20%20%20%20%20%20%20%0A%20%20%20%20%0A%20%20%20%20%20%20%20%20%20%20%20%20var%20marker_62c27bcda32648bab5a723104c043629%20%3D%20L.marker%28%0A%20%20%20%20%20%20%20%20%20%20%20%20%20%20%20%20%5B53.80668126%2C%20-1.47787713%5D%2C%0A%20%20%20%20%20%20%20%20%20%20%20%20%20%20%20%20%7B%7D%0A%20%20%20%20%20%20%20%20%20%20%20%20%29.addTo%28map_9914c9b736e44b4db4132ae0378f1001%29%3B%0A%20%20%20%20%20%20%20%20%0A%20%20%20%20%0A%20%20%20%20%20%20%20%20%20%20%20%20var%20marker_b6caadd631154fe7b85ea0ff4b64ddf3%20%3D%20L.marker%28%0A%20%20%20%20%20%20%20%20%20%20%20%20%20%20%20%20%5B53.83469525%2C%20-1.63882587%5D%2C%0A%20%20%20%20%20%20%20%20%20%20%20%20%20%20%20%20%7B%7D%0A%20%20%20%20%20%20%20%20%20%20%20%20%29.addTo%28map_9914c9b736e44b4db4132ae0378f1001%29%3B%0A%20%20%20%20%20%20%20%20%0A%20%20%20%20%0A%20%20%20%20%20%20%20%20%20%20%20%20var%20marker_b572379b26ff411a829386171f58f898%20%3D%20L.marker%28%0A%20%20%20%20%20%20%20%20%20%20%20%20%20%20%20%20%5B53.81404144%2C%20-1.55096111%5D%2C%0A%20%20%20%20%20%20%20%20%20%20%20%20%20%20%20%20%7B%7D%0A%20%20%20%20%20%20%20%20%20%20%20%20%29.addTo%28map_9914c9b736e44b4db4132ae0378f1001%29%3B%0A%20%20%20%20%20%20%20%20%0A%20%20%20%20%0A%20%20%20%20%20%20%20%20%20%20%20%20var%20marker_d72938017e6543acab1834dc46daa06b%20%3D%20L.marker%28%0A%20%20%20%20%20%20%20%20%20%20%20%20%20%20%20%20%5B53.89085409%2C%20-1.67113233%5D%2C%0A%20%20%20%20%20%20%20%20%20%20%20%20%20%20%20%20%7B%7D%0A%20%20%20%20%20%20%20%20%20%20%20%20%29.addTo%28map_9914c9b736e44b4db4132ae0378f1001%29%3B%0A%20%20%20%20%20%20%20%20%0A%20%20%20%20%0A%20%20%20%20%20%20%20%20%20%20%20%20var%20marker_c281ef917b484e16923c6a5e4aa8da35%20%3D%20L.marker%28%0A%20%20%20%20%20%20%20%20%20%20%20%20%20%20%20%20%5B53.74569404%2C%20-1.57513053%5D%2C%0A%20%20%20%20%20%20%20%20%20%20%20%20%20%20%20%20%7B%7D%0A%20%20%20%20%20%20%20%20%20%20%20%20%29.addTo%28map_9914c9b736e44b4db4132ae0378f1001%29%3B%0A%20%20%20%20%20%20%20%20%0A%20%20%20%20%0A%20%20%20%20%20%20%20%20%20%20%20%20var%20marker_65b9491639a741568f9261e11df68dd1%20%3D%20L.marker%28%0A%20%20%20%20%20%20%20%20%20%20%20%20%20%20%20%20%5B53.90708371%2C%20-1.69400422%5D%2C%0A%20%20%20%20%20%20%20%20%20%20%20%20%20%20%20%20%7B%7D%0A%20%20%20%20%20%20%20%20%20%20%20%20%29.addTo%28map_9914c9b736e44b4db4132ae0378f1001%29%3B%0A%20%20%20%20%20%20%20%20%0A%20%20%20%20%0A%20%20%20%20%20%20%20%20%20%20%20%20var%20marker_c59222df647f4477bd0b78c282e305a0%20%3D%20L.marker%28%0A%20%20%20%20%20%20%20%20%20%20%20%20%20%20%20%20%5B53.81866697%2C%20-1.50224433%5D%2C%0A%20%20%20%20%20%20%20%20%20%20%20%20%20%20%20%20%7B%7D%0A%20%20%20%20%20%20%20%20%20%20%20%20%29.addTo%28map_9914c9b736e44b4db4132ae0378f1001%29%3B%0A%20%20%20%20%20%20%20%20%0A%20%20%20%20%0A%20%20%20%20%20%20%20%20%20%20%20%20var%20marker_84ea3f0a79d2440db0e78f3970dc9d30%20%3D%20L.marker%28%0A%20%20%20%20%20%20%20%20%20%20%20%20%20%20%20%20%5B53.78593088%2C%20-1.4310543%5D%2C%0A%20%20%20%20%20%20%20%20%20%20%20%20%20%20%20%20%7B%7D%0A%20%20%20%20%20%20%20%20%20%20%20%20%29.addTo%28map_9914c9b736e44b4db4132ae0378f1001%29%3B%0A%20%20%20%20%20%20%20%20%0A%20%20%20%20%0A%20%20%20%20%20%20%20%20%20%20%20%20var%20marker_652efa39b7d945099bf426b5263f8b8a%20%3D%20L.marker%28%0A%20%20%20%20%20%20%20%20%20%20%20%20%20%20%20%20%5B53.79347557%2C%20-1.60153212%5D%2C%0A%20%20%20%20%20%20%20%20%20%20%20%20%20%20%20%20%7B%7D%0A%20%20%20%20%20%20%20%20%20%20%20%20%29.addTo%28map_9914c9b736e44b4db4132ae0378f1001%29%3B%0A%20%20%20%20%20%20%20%20%0A%20%20%20%20%0A%20%20%20%20%20%20%20%20%20%20%20%20var%20marker_9c08dfa7d3344b2ab39046202860be07%20%3D%20L.marker%28%0A%20%20%20%20%20%20%20%20%20%20%20%20%20%20%20%20%5B53.801342%2C%20-1.66724724%5D%2C%0A%20%20%20%20%20%20%20%20%20%20%20%20%20%20%20%20%7B%7D%0A%20%20%20%20%20%20%20%20%20%20%20%20%29.addTo%28map_9914c9b736e44b4db4132ae0378f1001%29%3B%0A%20%20%20%20%20%20%20%20%0A%20%20%20%20%0A%20%20%20%20%20%20%20%20%20%20%20%20var%20marker_9b84acdef43a4ad7966325414027f3d0%20%3D%20L.marker%28%0A%20%20%20%20%20%20%20%20%20%20%20%20%20%20%20%20%5B53.76006608%2C%20-1.52467309%5D%2C%0A%20%20%20%20%20%20%20%20%20%20%20%20%20%20%20%20%7B%7D%0A%20%20%20%20%20%20%20%20%20%20%20%20%29.addTo%28map_9914c9b736e44b4db4132ae0378f1001%29%3B%0A%20%20%20%20%20%20%20%20%0A%20%20%20%20%0A%20%20%20%20%20%20%20%20%20%20%20%20var%20marker_1ce1662058a0424186a7b44bd94da659%20%3D%20L.marker%28%0A%20%20%20%20%20%20%20%20%20%20%20%20%20%20%20%20%5B53.79256405%2C%20-1.53549394%5D%2C%0A%20%20%20%20%20%20%20%20%20%20%20%20%20%20%20%20%7B%7D%0A%20%20%20%20%20%20%20%20%20%20%20%20%29.addTo%28map_9914c9b736e44b4db4132ae0378f1001%29%3B%0A%20%20%20%20%20%20%20%20%0A%3C/script%3E onload=\"this.contentDocument.open();this.contentDocument.write(    decodeURIComponent(this.getAttribute('data-html')));this.contentDocument.close();\" allowfullscreen webkitallowfullscreen mozallowfullscreen></iframe></div></div>"
      ],
      "text/plain": [
       "<folium.folium.Map at 0x7f306a20bc40>"
      ]
     },
     "execution_count": 129,
     "metadata": {},
     "output_type": "execute_result"
    }
   ],
   "source": [
    "map = folium.Map(location=[53.76988352, -1.57834607], zoom_start=12)\n",
    "for point in range(0, len(locationlist_fatal)):\n",
    "    folium.Marker(locationlist_fatal[point]).add_to(map)\n",
    "map"
   ]
  },
  {
   "cell_type": "code",
   "execution_count": 130,
   "id": "1bd2fbb1",
   "metadata": {
    "ExecuteTime": {
     "end_time": "2021-11-08T09:36:43.502544Z",
     "start_time": "2021-11-08T09:36:43.481119Z"
    },
    "cell_id": "00212-0cc4e089-fb6a-4092-9732-0473ac509bc3",
    "deepnote_app_coordinates": {
     "h": 5,
     "w": 12,
     "x": 0,
     "y": 1263
    },
    "deepnote_cell_type": "code",
    "deepnote_to_be_reexecuted": true,
    "execution_millis": 46,
    "execution_start": 1636226015628,
    "source_hash": "9a933ba8",
    "tags": []
   },
   "outputs": [
    {
     "data": {
      "text/html": [
       "<style type=\"text/css\">\n",
       "#T_7bb34_row0_col0, #T_7bb34_row4_col1, #T_7bb34_row4_col2 {\n",
       "  background-color: #08306b;\n",
       "  color: #f1f1f1;\n",
       "}\n",
       "#T_7bb34_row0_col1 {\n",
       "  background-color: #3b8bc2;\n",
       "  color: #f1f1f1;\n",
       "}\n",
       "#T_7bb34_row0_col2 {\n",
       "  background-color: #1c6ab0;\n",
       "  color: #f1f1f1;\n",
       "}\n",
       "#T_7bb34_row1_col0 {\n",
       "  background-color: #dbe9f6;\n",
       "  color: #000000;\n",
       "}\n",
       "#T_7bb34_row1_col1 {\n",
       "  background-color: #e2edf8;\n",
       "  color: #000000;\n",
       "}\n",
       "#T_7bb34_row1_col2 {\n",
       "  background-color: #e3eef9;\n",
       "  color: #000000;\n",
       "}\n",
       "#T_7bb34_row2_col0, #T_7bb34_row2_col1, #T_7bb34_row2_col2 {\n",
       "  background-color: #f7fbff;\n",
       "  color: #000000;\n",
       "}\n",
       "#T_7bb34_row3_col0 {\n",
       "  background-color: #e8f1fa;\n",
       "  color: #000000;\n",
       "}\n",
       "#T_7bb34_row3_col1 {\n",
       "  background-color: #e7f0fa;\n",
       "  color: #000000;\n",
       "}\n",
       "#T_7bb34_row3_col2 {\n",
       "  background-color: #dce9f6;\n",
       "  color: #000000;\n",
       "}\n",
       "#T_7bb34_row4_col0 {\n",
       "  background-color: #1764ab;\n",
       "  color: #f1f1f1;\n",
       "}\n",
       "</style>\n",
       "<table id=\"T_7bb34_\">\n",
       "  <thead>\n",
       "    <tr>\n",
       "      <th class=\"index_name level0\" >casualty_severity</th>\n",
       "      <th class=\"col_heading level0 col0\" >Fatal</th>\n",
       "      <th class=\"col_heading level0 col1\" >Serious</th>\n",
       "      <th class=\"col_heading level0 col2\" >Slight</th>\n",
       "    </tr>\n",
       "    <tr>\n",
       "      <th class=\"index_name level0\" >1st_road_class</th>\n",
       "      <th class=\"blank col0\" >&nbsp;</th>\n",
       "      <th class=\"blank col1\" >&nbsp;</th>\n",
       "      <th class=\"blank col2\" >&nbsp;</th>\n",
       "    </tr>\n",
       "  </thead>\n",
       "  <tbody>\n",
       "    <tr>\n",
       "      <th id=\"T_7bb34_level0_row0\" class=\"row_heading level0 row0\" >A</th>\n",
       "      <td id=\"T_7bb34_row0_col0\" class=\"data row0 col0\" >49.528302</td>\n",
       "      <td id=\"T_7bb34_row0_col1\" class=\"data row0 col1\" >35.166163</td>\n",
       "      <td id=\"T_7bb34_row0_col2\" class=\"data row0 col2\" >38.380486</td>\n",
       "    </tr>\n",
       "    <tr>\n",
       "      <th id=\"T_7bb34_level0_row1\" class=\"row_heading level0 row1\" >B</th>\n",
       "      <td id=\"T_7bb34_row1_col0\" class=\"data row1 col0\" >7.075472</td>\n",
       "      <td id=\"T_7bb34_row1_col1\" class=\"data row1 col1\" >5.951662</td>\n",
       "      <td id=\"T_7bb34_row1_col2\" class=\"data row1 col2\" >5.127354</td>\n",
       "    </tr>\n",
       "    <tr>\n",
       "      <th id=\"T_7bb34_level0_row2\" class=\"row_heading level0 row2\" >C</th>\n",
       "      <td id=\"T_7bb34_row2_col0\" class=\"data row2 col0\" >0.000000</td>\n",
       "      <td id=\"T_7bb34_row2_col1\" class=\"data row2 col1\" >0.241692</td>\n",
       "      <td id=\"T_7bb34_row2_col2\" class=\"data row2 col2\" >0.128599</td>\n",
       "    </tr>\n",
       "    <tr>\n",
       "      <th id=\"T_7bb34_level0_row3\" class=\"row_heading level0 row3\" >Motorway</th>\n",
       "      <td id=\"T_7bb34_row3_col0\" class=\"data row3 col0\" >3.773585</td>\n",
       "      <td id=\"T_7bb34_row3_col1\" class=\"data row3 col1\" >4.682779</td>\n",
       "      <td id=\"T_7bb34_row3_col2\" class=\"data row3 col2\" >6.956774</td>\n",
       "    </tr>\n",
       "    <tr>\n",
       "      <th id=\"T_7bb34_level0_row4\" class=\"row_heading level0 row4\" >Unclassified</th>\n",
       "      <td id=\"T_7bb34_row4_col0\" class=\"data row4 col0\" >39.622642</td>\n",
       "      <td id=\"T_7bb34_row4_col1\" class=\"data row4 col1\" >53.957704</td>\n",
       "      <td id=\"T_7bb34_row4_col2\" class=\"data row4 col2\" >49.406787</td>\n",
       "    </tr>\n",
       "  </tbody>\n",
       "</table>\n"
      ],
      "text/plain": [
       "<pandas.io.formats.style.Styler at 0x7f306a258340>"
      ]
     },
     "execution_count": 130,
     "metadata": {},
     "output_type": "execute_result"
    }
   ],
   "source": [
    "df_cas_cls_road_type=(data.groupby('casualty_severity')['1st_road_class'].value_counts(normalize=True)*100).unstack().T\n",
    "df_cas_cls_road_type=df_cas_cls_road_type.fillna(0)\n",
    "df_cas_cls_road_type.style.background_gradient(cmap='Blues')"
   ]
  },
  {
   "cell_type": "markdown",
   "id": "126537f8",
   "metadata": {
    "cell_id": "00214-600e9c56-4b1d-4347-b64c-3deb309a054e",
    "deepnote_app_coordinates": {
     "h": 5,
     "w": 12,
     "x": 0,
     "y": 1287
    },
    "deepnote_cell_type": "markdown",
    "tags": []
   },
   "source": [
    "- Most of the Fatal accidents occured on class-A roads. "
   ]
  },
  {
   "cell_type": "markdown",
   "id": "3d0196b2",
   "metadata": {
    "cell_id": "00220-aa99b533-2856-4183-91c6-4d7a095ba20f",
    "deepnote_app_coordinates": {
     "h": 5,
     "w": 12,
     "x": 0,
     "y": 1311
    },
    "deepnote_cell_type": "markdown",
    "tags": []
   },
   "source": [
    "### Conclusion \n",
    "#### Observation summary:\n",
    "- Most dangerous conditions to drive in uk is dry road surface,daylight: street lights present,fine weather conditions without high winds.\n",
    "- Car is one met maxium number of accidents.\n",
    "- prime working age people and male are most affected.\n",
    "- The most dangerous month is october to drive.\n",
    "- \n",
    "Road Accident has always been a devastating factor of human lives. With the ever increasing number of vehicles it is really important to account for this devasting aspect of human lives. There is further analysis scope with this data if the reason of the accidents are included as well. "
   ]
  },
  {
   "cell_type": "markdown",
   "id": "03eaf04f",
   "metadata": {
    "created_in_deepnote_cell": true,
    "deepnote_cell_type": "markdown",
    "tags": []
   },
   "source": [
    "<a style='text-decoration:none;line-height:16px;display:flex;color:#5B5B62;padding:10px;justify-content:end;' href='https://deepnote.com?utm_source=created-in-deepnote-cell&projectId=de8a8f15-3c85-4deb-b956-051fdca6483d' target=\"_blank\">\n",
    "<img alt='Created in deepnote.com' style='display:inline;max-height:16px;margin:0px;margin-right:7.5px;' src='data:image/svg+xml;base64,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' > </img>\n",
    "Created in <span style='font-weight:600;margin-left:4px;'>Deepnote</span></a>"
   ]
  }
 ],
 "metadata": {
  "deepnote": {},
  "deepnote_app_layout": "article",
  "deepnote_execution_queue": [],
  "deepnote_notebook_id": "79b925c7-3456-4221-a375-7a8ce5f47318",
  "kernelspec": {
   "display_name": "Python 3 (ipykernel)",
   "language": "python",
   "name": "python3"
  },
  "language_info": {
   "codemirror_mode": {
    "name": "ipython",
    "version": 3
   },
   "file_extension": ".py",
   "mimetype": "text/x-python",
   "name": "python",
   "nbconvert_exporter": "python",
   "pygments_lexer": "ipython3",
   "version": "3.9.7"
  },
  "toc": {
   "base_numbering": 1,
   "nav_menu": {},
   "number_sections": true,
   "sideBar": true,
   "skip_h1_title": false,
   "title_cell": "Table of Contents",
   "title_sidebar": "Contents",
   "toc_cell": false,
   "toc_position": {},
   "toc_section_display": true,
   "toc_window_display": false
  },
  "varInspector": {
   "cols": {
    "lenName": 16,
    "lenType": 16,
    "lenVar": 40
   },
   "kernels_config": {
    "python": {
     "delete_cmd_postfix": "",
     "delete_cmd_prefix": "del ",
     "library": "var_list.py",
     "varRefreshCmd": "print(var_dic_list())"
    },
    "r": {
     "delete_cmd_postfix": ") ",
     "delete_cmd_prefix": "rm(",
     "library": "var_list.r",
     "varRefreshCmd": "cat(var_dic_list()) "
    }
   },
   "types_to_exclude": [
    "module",
    "function",
    "builtin_function_or_method",
    "instance",
    "_Feature"
   ],
   "window_display": false
  }
 },
 "nbformat": 4,
 "nbformat_minor": 5
}
